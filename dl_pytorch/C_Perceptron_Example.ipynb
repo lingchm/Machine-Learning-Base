{
  "nbformat": 4,
  "nbformat_minor": 0,
  "metadata": {
    "colab": {
      "name": "C_Perceptron_Example.ipynb",
      "provenance": [],
      "collapsed_sections": [],
      "include_colab_link": true
    },
    "kernelspec": {
      "display_name": "Python 3",
      "language": "python",
      "name": "python3"
    }
  },
  "cells": [
    {
      "cell_type": "markdown",
      "metadata": {
        "id": "view-in-github",
        "colab_type": "text"
      },
      "source": [
        "<a href=\"https://colab.research.google.com/github/lingchm/datascience/blob/master/C_Perceptron_Example.ipynb\" target=\"_parent\"><img src=\"https://colab.research.google.com/assets/colab-badge.svg\" alt=\"Open In Colab\"/></a>"
      ]
    },
    {
      "cell_type": "markdown",
      "metadata": {
        "collapsed": true,
        "deletable": true,
        "editable": true,
        "id": "pqDvX9K6S5qO",
        "colab_type": "text"
      },
      "source": [
        "# A Perceptron in just a few Lines of Python Code\n",
        "\n",
        "\n",
        "The perceptron can be used for supervised learning. It can solve binary linear classification problems. A comprehensive description of the functionality of a perceptron is out of scope here. To follow this tutorial you already should know what a perceptron is and understand the basics of its functionality. Additionally a fundamental understanding of stochastic gradient descent is needed. To get in touch with the theoretical background, I advise the Wikipedia article:\n",
        "    \n",
        "[Wikipedia - Perceptron](https://en.wikipedia.org/wiki/Perceptron)\n",
        "\n",
        "To better understand the internal processes of a perceptron in practice, we will step by step develop a perceptron from scratch now."
      ]
    },
    {
      "cell_type": "markdown",
      "metadata": {
        "deletable": true,
        "editable": true,
        "id": "An89iyVZS5qP",
        "colab_type": "text"
      },
      "source": [
        "## Code"
      ]
    },
    {
      "cell_type": "code",
      "metadata": {
        "deletable": true,
        "editable": true,
        "id": "ReYtqzckS5qQ",
        "colab_type": "code",
        "colab": {
          "base_uri": "https://localhost:8080/",
          "height": 34
        },
        "outputId": "03007e94-6c47-4b46-b9df-688155fdd6ac"
      },
      "source": [
        "import numpy as np\n",
        "#from tqdm import tqdm_notebook\n",
        "\n",
        "X = np.array([\n",
        "    [-2,4,-1],\n",
        "    [4,1,-1],\n",
        "    [1, 6, -1],\n",
        "    [2, 4, -1],\n",
        "    [6, 2, -1],\n",
        "\n",
        "])\n",
        "\n",
        "y = np.array([-1,-1,1,1,1])\n",
        "\n",
        "def perceptron_sgd(X, Y):  \n",
        "    w = np.zeros(len(X[0]))  # \n",
        "    eta = 1\n",
        "    epochs = 20\n",
        "\n",
        "    for t in range(epochs):\n",
        "        for i, x in enumerate(X):\n",
        "            if (np.dot(X[i], w)*Y[i]) <= 0:\n",
        "                w = w + eta*X[i]*Y[i]\n",
        "\n",
        "    return w\n",
        "\n",
        "w = perceptron_sgd(X,y)\n",
        "print(w)"
      ],
      "execution_count": null,
      "outputs": [
        {
          "output_type": "stream",
          "text": [
            "[ 2.  3. 13.]\n"
          ],
          "name": "stdout"
        }
      ]
    },
    {
      "cell_type": "markdown",
      "metadata": {
        "deletable": true,
        "editable": true,
        "id": "z36EBWrYS5qU",
        "colab_type": "text"
      },
      "source": [
        "## Our Ingredients \n",
        "\n",
        "First we will import numpy to easily manage linear algebra and calculus operations in python. To plot the learning progress later on, we will use matplotlib."
      ]
    },
    {
      "cell_type": "code",
      "metadata": {
        "deletable": true,
        "editable": true,
        "id": "CwMlrHvES5qV",
        "colab_type": "code",
        "colab": {}
      },
      "source": [
        "import numpy as np\n",
        "from matplotlib import pyplot as plt\n",
        "%matplotlib inline"
      ],
      "execution_count": null,
      "outputs": []
    },
    {
      "cell_type": "markdown",
      "metadata": {
        "collapsed": false,
        "deletable": true,
        "editable": true,
        "id": "csNTLPUeS5qZ",
        "colab_type": "text"
      },
      "source": [
        "### Stochastic Gradient Descent\n",
        "\n",
        "We will implement the perceptron algorithm in python 3 and numpy. The perceptron will learn using the stochastic gradient descent algorithm (SGD). Gradient Descent minimizes a function by following the gradients of the cost function. For further details see:\n",
        "\n",
        "[Wikipedia - stochastic gradient descent](https://en.wikipedia.org/wiki/Stochastic_gradient_descent)\n",
        "\n",
        "### Calculating the Error \n",
        "\n",
        "To calculate the error of a prediction we first need to define the objective function of the perceptron. "
      ]
    },
    {
      "cell_type": "markdown",
      "metadata": {
        "collapsed": false,
        "deletable": true,
        "editable": true,
        "id": "Ro8aCDP2S5qc",
        "colab_type": "text"
      },
      "source": [
        "#### Objective Function \n",
        "\n",
        "As we defined the loss function, we can now define the objective function for the perceptron:"
      ]
    },
    {
      "cell_type": "markdown",
      "metadata": {
        "deletable": true,
        "editable": true,
        "id": "JpY5bQ9DS5qd",
        "colab_type": "text"
      },
      "source": [
        "$$l_i(w) = \\big(-y_i \\langle \\mathbf{x_i},\\mathbf{w} \\rangle\\big)_+$$"
      ]
    },
    {
      "cell_type": "markdown",
      "metadata": {
        "collapsed": false,
        "deletable": true,
        "editable": true,
        "id": "4CwGF3rnS5qe",
        "colab_type": "text"
      },
      "source": [
        "We can write this without the dot product with a sum sign:"
      ]
    },
    {
      "cell_type": "markdown",
      "metadata": {
        "deletable": true,
        "editable": true,
        "id": "RPeYxYiZS5qf",
        "colab_type": "text"
      },
      "source": [
        "$$l_i(w) = (-y_i \\sum_{j=1}^n x_{ij}w_{j})_+$$"
      ]
    },
    {
      "cell_type": "markdown",
      "metadata": {
        "deletable": true,
        "editable": true,
        "id": "-3OCf8XXS5qh",
        "colab_type": "text"
      },
      "source": [
        "So the sample $x_i$ is misclassified, if $y_i \\langle x_i,w \\rangle \\leq 0$. The general goal is, to find the global minima of this function, respectively find a parameter $w$, where the error is zero.\n",
        "\n",
        "#### Derive the Objective Function\n",
        "\n",
        "To do this we need the gradients of the objective function. The gradient of a function $f$ is the vector of its partial derivatives. The gradient can be calculated by the partially derivative of the objective function.\n",
        "\n",
        "$$ \\nabla l_i(w_j) = -y_i x_{ij} $$"
      ]
    },
    {
      "cell_type": "markdown",
      "metadata": {
        "collapsed": false,
        "deletable": true,
        "editable": true,
        "id": "kzzGEnvYS5qi",
        "colab_type": "text"
      },
      "source": [
        "\n",
        "This means, if we have a misclassified sample $x_i$, respectively $ y_i \\langle x_i,w \\rangle \\leq 0 $, update the weight vector\n",
        "$w$ by moving it in the direction of the misclassified sample.\n"
      ]
    },
    {
      "cell_type": "markdown",
      "metadata": {
        "deletable": true,
        "editable": true,
        "id": "lyJL-OlnS5qj",
        "colab_type": "text"
      },
      "source": [
        "$$w_j = w_j + y_i x_{ij}$$\n",
        "\n",
        "With this update rule in mind, we can start writing our perceptron algorithm in python."
      ]
    },
    {
      "cell_type": "markdown",
      "metadata": {
        "collapsed": false,
        "deletable": true,
        "editable": true,
        "id": "fzkvDdBLS5qk",
        "colab_type": "text"
      },
      "source": [
        "### Our Data Set \n",
        "\n",
        "First we need to define a labeled data set."
      ]
    },
    {
      "cell_type": "code",
      "metadata": {
        "deletable": true,
        "editable": true,
        "id": "tdj-gf72S5ql",
        "colab_type": "code",
        "colab": {}
      },
      "source": [
        "X = np.array([\n",
        "    [-2, 4],\n",
        "    [4, 1],\n",
        "    [1, 6],\n",
        "    [2, 4],\n",
        "    [6, 2]\n",
        "])"
      ],
      "execution_count": null,
      "outputs": []
    },
    {
      "cell_type": "markdown",
      "metadata": {
        "collapsed": true,
        "deletable": true,
        "editable": true,
        "id": "D8lNpANQS5qp",
        "colab_type": "text"
      },
      "source": [
        "Next we fold a bias term -1 into the data set. This is needed for the SGD to work. Details see [The Perceptron algorithm](https://www.google.de/url?sa=t&rct=j&q=&esrc=s&source=web&cd=3&ved=0ahUKEwiQvp-F_PjSAhVLWRoKHbyLCgEQFggrMAI&url=http%3A%2F%2Fu.cs.biu.ac.il%2F~jkeshet%2Fteaching%2Fiml2016%2Fiml2016_tirgul03.pdf&usg=AFQjCNFpAYxgitb3mOnpE4aQdu6iLgFc0g&bvm=bv.150729734,d.d2s)"
      ]
    },
    {
      "cell_type": "code",
      "metadata": {
        "deletable": true,
        "editable": true,
        "id": "8isoY56AS5qq",
        "colab_type": "code",
        "colab": {}
      },
      "source": [
        "X = np.array([\n",
        "    [-2,4,-1],\n",
        "    [4,1,-1],\n",
        "    [1, 6, -1],\n",
        "    [2, 4, -1],\n",
        "    [6, 2, -1],\n",
        "\n",
        "])\n"
      ],
      "execution_count": null,
      "outputs": []
    },
    {
      "cell_type": "code",
      "metadata": {
        "deletable": true,
        "editable": true,
        "id": "58ji3tsWS5qt",
        "colab_type": "code",
        "colab": {}
      },
      "source": [
        "y = np.array([-1,-1,1,1,1])"
      ],
      "execution_count": null,
      "outputs": []
    },
    {
      "cell_type": "markdown",
      "metadata": {
        "deletable": true,
        "editable": true,
        "id": "8IVysR-RS5qy",
        "colab_type": "text"
      },
      "source": [
        "This small toy data set contains two samples labeled with $-1$ and three samples labeled with $+1$. This means we have a binary classification problem, as the data set contains two sample classes. Lets plot the dataset to see, that is is linearly seperable:"
      ]
    },
    {
      "cell_type": "code",
      "metadata": {
        "deletable": true,
        "editable": true,
        "id": "UkMg2d89S5qz",
        "colab_type": "code",
        "colab": {
          "base_uri": "https://localhost:8080/",
          "height": 282
        },
        "outputId": "94bba89c-a5f9-4dc8-801b-f182b960f2c9"
      },
      "source": [
        "for d, sample in enumerate(X):\n",
        "    # Plot the negative samples\n",
        "    if d < 2:\n",
        "        plt.scatter(sample[0], sample[1], s=120, marker='_', linewidths=2)\n",
        "    # Plot the positive samples\n",
        "    else:\n",
        "        plt.scatter(sample[0], sample[1], s=120, marker='+', linewidths=2)\n",
        "\n",
        "# Print a possible hyperplane, that is seperating the two classes.\n",
        "plt.plot([-2,6],[6,0.5])"
      ],
      "execution_count": null,
      "outputs": [
        {
          "output_type": "execute_result",
          "data": {
            "text/plain": [
              "[<matplotlib.lines.Line2D at 0x7f2e3ad08b38>]"
            ]
          },
          "metadata": {
            "tags": []
          },
          "execution_count": 6
        },
        {
          "output_type": "display_data",
          "data": {
            "image/png": "[encoded data removed]",
            "text/plain": [
              "<Figure size 432x288 with 1 Axes>"
            ]
          },
          "metadata": {
            "tags": []
          }
        }
      ]
    },
    {
      "cell_type": "markdown",
      "metadata": {
        "collapsed": false,
        "deletable": true,
        "editable": true,
        "id": "gQyHXuokS5q1",
        "colab_type": "text"
      },
      "source": [
        "## Lets Start implementing Stochastic Gradient Descent \n",
        "\n",
        "Finally we can code our SGD algorithm using our update rule. To keep it simple, we will linearly loop over the sample set. For larger data sets it makes sence, to randomly pick a sample during each iteration in the for-loop."
      ]
    },
    {
      "cell_type": "code",
      "metadata": {
        "deletable": true,
        "editable": true,
        "id": "CORPhT4NS5q2",
        "colab_type": "code",
        "colab": {}
      },
      "source": [
        "def perceptron_sgd(X, Y):\n",
        "    w = np.zeros(len(X[0]))\n",
        "    eta = 1\n",
        "    epochs = 30\n",
        "\n",
        "    for epoch in range(epochs):\n",
        "        for i, x in enumerate(X):\n",
        "            if (np.dot(X[i], w)*Y[i]) <= 0:\n",
        "                w = w + eta*X[i]*Y[i]\n",
        "    return w"
      ],
      "execution_count": null,
      "outputs": []
    },
    {
      "cell_type": "markdown",
      "metadata": {
        "collapsed": false,
        "deletable": true,
        "editable": true,
        "id": "NyulGkG5S5q4",
        "colab_type": "text"
      },
      "source": [
        "#### Code Description Line by Line\n",
        "\n",
        "line <b>2</b>: Initialize the weight vector for the perceptron with zeros<br>\n",
        "line <b>3</b>: Set the learning rate to 1<br>\n",
        "line <b>4</b>: Set the number of epochs<br>\n",
        "line <b>6</b>: Iterate n times over the whole data set.<br>\n",
        "line <b>7</b>: Iterate over each sample in the data set<br>\n",
        "line <b>8</b>: Misclassification condition $y_i \\langle x_i,w \\rangle \\leq 0$<br>\n",
        "line <b>9</b>: Update rule for the weights $w = w + y_i * x_i$ including the learning rate\n",
        "\n",
        "### Let the Perceptron learn! \n",
        "\n",
        "Next we can execute our code and check, how many iterations are needed, until all sampels are classified right. To see the learning progress of the perceptron, we add a plotting feature to our algorithm, counting the total error in each epoch."
      ]
    },
    {
      "cell_type": "code",
      "metadata": {
        "deletable": true,
        "editable": true,
        "id": "fUVpfNQUS5q4",
        "colab_type": "code",
        "colab": {}
      },
      "source": [
        "def perceptron_sgd_plot(X, Y):\n",
        "    '''\n",
        "    train perceptron and plot the total loss in each epoch.\n",
        "    \n",
        "    :param X: data samples\n",
        "    :param Y: data labels\n",
        "    :return: weight vector as a numpy array\n",
        "    '''\n",
        "    w = np.zeros(len(X[0]))\n",
        "    eta = 1\n",
        "    epochs = 30\n",
        "    errors = []\n",
        "\n",
        "    for t in range(epochs):\n",
        "        total_error = 0\n",
        "        for i, x in enumerate(X):\n",
        "            if (np.dot(X[i], w)*Y[i]) <= 0:\n",
        "                total_error += (np.dot(X[i], w)*Y[i])\n",
        "                w = w + eta*X[i]*Y[i]\n",
        "        errors.append(total_error*-1)\n",
        "        \n",
        "    plt.plot(errors)\n",
        "    plt.xlabel('Epoch')\n",
        "    plt.ylabel('Total Loss')\n",
        "    \n",
        "    return w"
      ],
      "execution_count": null,
      "outputs": []
    },
    {
      "cell_type": "code",
      "metadata": {
        "deletable": true,
        "editable": true,
        "id": "fyapZprSS5q6",
        "colab_type": "code",
        "colab": {
          "base_uri": "https://localhost:8080/",
          "height": 296
        },
        "outputId": "427365d4-8829-469b-854d-28cc33394e40"
      },
      "source": [
        "print(perceptron_sgd_plot(X,y))"
      ],
      "execution_count": null,
      "outputs": [
        {
          "output_type": "stream",
          "text": [
            "[ 2.  3. 13.]\n"
          ],
          "name": "stdout"
        },
        {
          "output_type": "display_data",
          "data": {
            "image/png": "[encoded data removed]",
            "text/plain": [
              "<Figure size 432x288 with 1 Axes>"
            ]
          },
          "metadata": {
            "tags": []
          }
        }
      ]
    },
    {
      "cell_type": "markdown",
      "metadata": {
        "collapsed": false,
        "deletable": true,
        "editable": true,
        "id": "qCwkZZyCS5q8",
        "colab_type": "text"
      },
      "source": [
        "This means, that the perceptron needed 14 epochs to classify all samples right (total error is zero). In other words, the algorithm needed to see the data set 14 times, to learn its structure. \n",
        "\n",
        "The weight vector including the bias term is $(2,3,13)$.<br>\n",
        "We can extract the following prediction function now:\n",
        "\n",
        "\n",
        "$$\n",
        "f(x) = \\langle x,(2,3)\\rangle - 13\n",
        "$$\n",
        "\n",
        "The weight vector is $(2,3)$ and the bias term is the third entry -13.\n",
        "\n",
        "## Evaluation\n",
        "\n",
        "Lets classify the samples in our data set by hand now, to check if the perceptron learned properly:\n",
        "\n",
        "First sample $(-2, 4)$, supposed to be negative:\n",
        "\n",
        "$$-2*2+4*3 - 13 = sign(-5) = -1$$\n",
        "\n",
        "Second sample $(4, 1)$, supposed to be negative:\n",
        "\n",
        "$$4*2+1*3 - 13 = sign(-2) = -1$$\n",
        "\n",
        "Third sample $(1, 6)$, supposed to be positive:\n",
        "\n",
        "$$1*2+6*3-13 = sign(7) = +1$$\n",
        "\n",
        "Fourth sample $(2, 4)$, supposed to be positive:\n",
        "\n",
        "$$2*2+4*3 - 13 = sign(3) = +1$$\n",
        "\n",
        "Fifth sample $(6, 2)$, supposed to be positive:\n",
        "\n",
        "$$6*2+2*3 - 13 = sign(5) = +1$$\n",
        "\n",
        "Lets define two test samples now, to check how well our perceptron generalizes to unseen data:\n",
        "\n",
        "First test sample $(2, 2)$, supposed to be negative:\n",
        "\n",
        "$$2*2+2*3 - 13 = sign(-3) = -1$$\n",
        "\n",
        "Second test sample $(4, 3)$, supposed to be positive:\n",
        "\n",
        "$$4*2+3*3 - 13 = sign(4) = +1$$\n",
        "\n",
        "Both samples are classified right. To check this geometrically, lets plot the samples including test samples and the hyperplane."
      ]
    },
    {
      "cell_type": "code",
      "metadata": {
        "id": "B-b-9r2AS5q9",
        "colab_type": "code",
        "colab": {
          "base_uri": "https://localhost:8080/",
          "height": 282
        },
        "outputId": "55720588-d651-44a7-9161-0241caf56a39"
      },
      "source": [
        "for d, sample in enumerate(X):\n",
        "    # Plot the negative samples\n",
        "    if d < 2:\n",
        "        plt.scatter(sample[0], sample[1], s=120, marker='_', linewidths=2)\n",
        "    # Plot the positive samples\n",
        "    else:\n",
        "        plt.scatter(sample[0], sample[1], s=120, marker='+', linewidths=2)\n",
        "\n",
        "# Add our test samples\n",
        "\n",
        "plt.scatter(2,2, s=120, marker='_', linewidths=2, color='yellow')\n",
        "plt.scatter(4,3, s=120, marker='+', linewidths=2, color='blue')\n",
        "\n",
        "# Print the hyperplane calculated by svm_sgd()\n",
        "x2=[w[0],w[1],-w[1],w[0]]\n",
        "x3=[w[0],w[1],w[1],-w[0]]\n",
        "\n",
        "x2x3 =np.array([x2,x3])\n",
        "X,Y,U,V = zip(*x2x3)\n",
        "ax = plt.gca()\n",
        "ax.quiver(X,Y,U,V,scale=1, color='blue')"
      ],
      "execution_count": null,
      "outputs": [
        {
          "output_type": "execute_result",
          "data": {
            "text/plain": [
              "<matplotlib.quiver.Quiver at 0x7f2e38b8b4e0>"
            ]
          },
          "metadata": {
            "tags": []
          },
          "execution_count": 10
        },
        {
          "output_type": "display_data",
          "data": {
            "image/png": "[encoded data removed]",
            "text/plain": [
              "<Figure size 432x288 with 1 Axes>"
            ]
          },
          "metadata": {
            "tags": []
          }
        }
      ]
    },
    {
      "cell_type": "code",
      "metadata": {
        "id": "nCTPDIeCNfK_",
        "colab_type": "code",
        "colab": {}
      },
      "source": [
        ""
      ],
      "execution_count": null,
      "outputs": []
    }
  ]
}