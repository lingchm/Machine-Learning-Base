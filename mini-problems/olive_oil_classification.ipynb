{
 "cells": [
  {
   "cell_type": "markdown",
   "metadata": {},
   "source": [
    "# Origin of Olive Oils\n",
    "\n",
    "*splines*, *functional pca*, *classification*, *high-dimensional*\n",
    "\n",
    "\\textbf{Problem}\n",
    "\n",
    "Olive oil is cultivated extensively across the Mediterranean basin. It is known that the composition of olive oils varies with geographic origin due to a number of different factors: regional differences in climate, soil, and agricultural practice. Verifying the declared origin, or determining the origin of an unidentified olive oil, is, therefore, a challenging problem. In this question our goal is to distinguish extra virgin olive oils from different producing countries. `oil.csv` dataset contains 60 authenticated samples of extra virgin olive oils, originating from four European producing countries: Greece, Italy, Portugal, and Spain.\n",
    "\n",
    "The goal is to classify the origin country based on sample data.\n",
    "\n",
    "\\textbf{Method}\n",
    "\n",
    "The data given is the absorbance spectra of 60 oil samples. Each sample is a signal of 571 data points. This is a high-dimensional problem where the number of dimensions is much higher than that of number of samples. We will compare classification using two dimension reduction approaches: B-splines and Functional PCA. We will use multiclass SVM as the classifier. \n",
    "\n",
    "We use the first 30 data samples for training; and the rest to evaluate the accuracy of models. \n",
    "\n",
    "\\textbf{Results}\n",
    "\n",
    "The test classification accuracy using B-spline for dimension reduction is 0.87. On the other hand, doing dimension reduction using FPCA (5 principal components) can achieve test accuracy of 0.9."
   ]
  },
  {
   "cell_type": "code",
   "execution_count": 63,
   "metadata": {},
   "outputs": [],
   "source": [
    "from matplotlib import pyplot as plt\n",
    "import numpy as np\n",
    "import pandas as pd\n",
    "import warnings\n",
    "from scipy.interpolate import BSpline, splev, splrep, CubicSpline\n",
    "from sklearn.model_selection import KFold, LeaveOneOut\n",
    "warnings.filterwarnings('ignore')\n",
    "import matplotlib\n",
    "matplotlib.rcParams['figure.figsize'] = (4, 3)"
   ]
  },
  {
   "cell_type": "code",
   "execution_count": 76,
   "metadata": {},
   "outputs": [],
   "source": [
    "from sklearn import svm\n",
    "from sklearn import preprocessing\n",
    "from sklearn.metrics import confusion_matrix\n",
    "from scipy.ndimage import gaussian_filter\n",
    "from matplotlib import cm"
   ]
  },
  {
   "cell_type": "code",
   "execution_count": 77,
   "metadata": {},
   "outputs": [
    {
     "data": {
      "text/plain": [
       "(60, 571)"
      ]
     },
     "execution_count": 77,
     "metadata": {},
     "output_type": "execute_result"
    }
   ],
   "source": [
    "data = pd.read_csv(\"data/oil.csv\", header=None)\n",
    "data.shape"
   ]
  },
  {
   "cell_type": "code",
   "execution_count": 78,
   "metadata": {},
   "outputs": [
    {
     "data": {
      "text/plain": [
       "4    25\n",
       "2    17\n",
       "1    10\n",
       "3     8\n",
       "Name: 570, dtype: int64"
      ]
     },
     "execution_count": 78,
     "metadata": {},
     "output_type": "execute_result"
    }
   ],
   "source": [
    "# classes are a little imbalanced \n",
    "data.iloc[:, -1].value_counts()"
   ]
  },
  {
   "cell_type": "code",
   "execution_count": 79,
   "metadata": {},
   "outputs": [
    {
     "data": {
      "image/png": "[encoded data removed]",
      "text/plain": [
       "<Figure size 288x216 with 1 Axes>"
      ]
     },
     "metadata": {
      "needs_background": "light"
     },
     "output_type": "display_data"
    }
   ],
   "source": [
    "# visualize: they all look very similar\n",
    "data = np.asarray(data)\n",
    "m = data.shape[1] - 1 # 570 data points per curve\n",
    "n = data.shape[0]     # 60 curves \n",
    "plt.plot(np.linspace(0, 1, m), data[:, :-1].T, 'b')\n",
    "plt.title('Visualization of all x samples')\n",
    "plt.show()"
   ]
  },
  {
   "cell_type": "code",
   "execution_count": 80,
   "metadata": {},
   "outputs": [],
   "source": [
    "# split into train and test data sets\n",
    "x_train, x_test, y_train, y_test = data[:30, :-1], data[30:, :-1], data[:30, -1], data[30:, -1]"
   ]
  },
  {
   "cell_type": "code",
   "execution_count": 81,
   "metadata": {},
   "outputs": [],
   "source": [
    "# standardize data based on training data\n",
    "scaler = preprocessing.StandardScaler().fit(x_train)\n",
    "x_train = scaler.transform(x_train)\n",
    "x_test = scaler.transform(x_test)"
   ]
  },
  {
   "cell_type": "markdown",
   "metadata": {},
   "source": [
    "## B-splines\n",
    "\n",
    "B-splines reduce the dimension form 570 to 74 (K+M). "
   ]
  },
  {
   "cell_type": "code",
   "execution_count": 82,
   "metadata": {},
   "outputs": [
    {
     "data": {
      "text/plain": [
       "(30, 74)"
      ]
     },
     "execution_count": 82,
     "metadata": {},
     "output_type": "execute_result"
    }
   ],
   "source": [
    "# compute spline coefficients of each x vector as dimension reduction\n",
    "x = np.linspace(0, 1, m)\n",
    "n_knots = 70\n",
    "knots = np.linspace(0, 1, n_knots + 2)\n",
    "Bcoef_train = bSpline(knots).fit(x, x_train.T).Bcoefs.T \n",
    "Bcoef_test = bSpline(knots).fit(x, x_test.T).Bcoefs.T \n",
    "Bcoef_train.shape"
   ]
  },
  {
   "cell_type": "code",
   "execution_count": 83,
   "metadata": {},
   "outputs": [
    {
     "name": "stdout",
     "output_type": "stream",
     "text": [
      "Accuracy: 0.8666666666666667\n",
      "Confusion Matrix:\n",
      "[[ 5  0  0  0]\n",
      " [ 0  9  1  1]\n",
      " [ 0  0  1  0]\n",
      " [ 0  0  2 11]]\n"
     ]
    }
   ],
   "source": [
    "# classification \n",
    "clf = svm.SVC(decision_function_shape='ovo', kernel='rbf', C=1).fit(Bcoef_train, y_train)\n",
    "yhat = clf.predict(Bcoef_test)\n",
    "print(\"Accuracy:\", sum(yhat == y_test) / 30)\n",
    "conf = confusion_matrix(yhat, y_test)\n",
    "print('Confusion Matrix:')\n",
    "print(conf)"
   ]
  },
  {
   "cell_type": "markdown",
   "metadata": {},
   "source": [
    "## Functional PCA\n",
    "\n",
    "We use FPCA to reduce dimensions to 2,5,8,10 PCs."
   ]
  },
  {
   "cell_type": "code",
   "execution_count": 84,
   "metadata": {},
   "outputs": [],
   "source": [
    "def fitFPCA(X, n_pc, plot=False): \n",
    "    \n",
    "    # Get basis function matrix for a single x vector \n",
    "    x = np.linspace(0, 1, m)   # 570 x 1\n",
    "    n_knots = 70 - 2           # total of 70 knots including end points\n",
    "    knots = np.linspace(0, 1, n_knots + 2) \n",
    "    B = bSpline(knots).BSplineBasis(x)[:,:-2] # 570 x 72 basis functions\n",
    "\n",
    "    # fit a b-spline using all curves stacked together to get \"global coefficients\"\n",
    "    B_stacked = np.tile(B.T, n).T\n",
    "    X_stacked = X.ravel()\n",
    "    beta = np.linalg.lstsq(B_stacked, X_stacked)[0]\n",
    "\n",
    "    # estimate the mean function\n",
    "    mu_hat = B.dot(beta)\n",
    "    if plot: \n",
    "        plt.plot(x, X.mean(0), 'k+-', label='Mean of data')\n",
    "        plt.plot(x, mu_hat, 'b', label='Mean function via Spline')\n",
    "        plt.legend()\n",
    "        plt.title(\"Mean Estimate\")\n",
    "        plt.show()\n",
    "\n",
    "    # estimate covariance matrix \n",
    "    diffs = X - mu_hat\n",
    "    Cov = np.cov(diffs.T)\n",
    "    \n",
    "    # additional Cov smoothing:\n",
    "    Cov = gaussian_filter(Cov, sigma=7)\n",
    "    if plot: \n",
    "        grids = np.meshgrid(x, x)\n",
    "        fig = plt.figure()\n",
    "        ax = fig.gca(projection='3d')\n",
    "        ax.plot_surface(grids[0], grids[1], Cov, cmap=cm.coolwarm, linewidth=0, antialiased=False)\n",
    "        plt.title('Smoothed Covariances')\n",
    "        plt.show()\n",
    "    \n",
    "    # compute eigenfunctions \n",
    "    l, psi = np.linalg.eigh(Cov)\n",
    "    PCs = psi[:, -n_pc:]\n",
    "    FPC_scores = diffs.dot(PCs)\n",
    "\n",
    "    return FPC_scores"
   ]
  },
  {
   "cell_type": "code",
   "execution_count": 85,
   "metadata": {},
   "outputs": [],
   "source": [
    "X = np.concatenate((x_train, x_test))"
   ]
  },
  {
   "cell_type": "code",
   "execution_count": 86,
   "metadata": {},
   "outputs": [
    {
     "data": {
      "image/png": "[encoded data removed]",
      "text/plain": [
       "<Figure size 288x216 with 1 Axes>"
      ]
     },
     "metadata": {
      "needs_background": "light"
     },
     "output_type": "display_data"
    },
    {
     "data": {
      "image/png": "[encoded data removed]",
      "text/plain": [
       "<Figure size 288x216 with 1 Axes>"
      ]
     },
     "metadata": {
      "needs_background": "light"
     },
     "output_type": "display_data"
    },
    {
     "data": {
      "image/png": "[encoded data removed]",
      "text/plain": [
       "<Figure size 288x216 with 1 Axes>"
      ]
     },
     "metadata": {
      "needs_background": "light"
     },
     "output_type": "display_data"
    }
   ],
   "source": [
    "# test the function using two PCs\n",
    "FPC_scores = fitFPCA(X, n_pc=2, plot=True) \n",
    "\n",
    "# visualization \n",
    "for i in range(1,5):\n",
    "    idx = np.where(data[:, -1] == i)\n",
    "    plt.scatter(FPC_scores[idx,0], FPC_scores[idx,1], label='Class ' + str(i))\n",
    "plt.legend()\n",
    "plt.title(\"Visualize the classes by the first two pcs\")\n",
    "plt.show()"
   ]
  },
  {
   "cell_type": "markdown",
   "metadata": {},
   "source": [
    "We use multiclass SVM for classification. Since sample size is imbalanced, we assign class weights inversely proportional to the number of samples."
   ]
  },
  {
   "cell_type": "code",
   "execution_count": 87,
   "metadata": {},
   "outputs": [
    {
     "name": "stdout",
     "output_type": "stream",
     "text": [
      "Number of PCs: 2  Accuracy: 0.8\n",
      "[[ 4  0  1  0]\n",
      " [ 0  9  2  1]\n",
      " [ 1  0  0  0]\n",
      " [ 0  0  1 11]]\n",
      "Number of PCs: 5  Accuracy: 0.9\n",
      "[[ 5  0  0  0]\n",
      " [ 0  9  1  1]\n",
      " [ 0  0  2  0]\n",
      " [ 0  0  1 11]]\n",
      "Number of PCs: 8  Accuracy: 0.87\n",
      "[[ 5  0  0  0]\n",
      " [ 0  9  1  1]\n",
      " [ 0  0  1  0]\n",
      " [ 0  0  2 11]]\n",
      "Number of PCs: 10  Accuracy: 0.87\n",
      "[[ 5  0  0  0]\n",
      " [ 0  9  1  1]\n",
      " [ 0  0  1  0]\n",
      " [ 0  0  2 11]]\n"
     ]
    }
   ],
   "source": [
    "# classification using different number of PCs\n",
    "for n_pc in [2,5,8,10]:\n",
    "    FPC_scores = fitFPCA(X, n_pc=n_pc, plot=False) \n",
    "    #clf = RandomForestClassifier()\n",
    "    clf = svm.SVC(decision_function_shape='ovo', class_weight='balanced', kernel='linear', C=1) \n",
    "    clf.fit(FPC_scores[:30], y_train)\n",
    "    yhat = clf.predict(FPC_scores[30:])\n",
    "    print(\"Number of PCs:\", n_pc, \" Accuracy:\", round(sum(yhat == y_test) / 30, 2))\n",
    "    conf = confusion_matrix(yhat, y_test)\n",
    "    print(conf)"
   ]
  }
 ],
 "metadata": {
  "author": "Lingchao Mao",
  "hide_input": false,
  "kernelspec": {
   "display_name": "Python 3",
   "language": "python",
   "name": "python3"
  },
  "language_info": {
   "codemirror_mode": {
    "name": "ipython",
    "version": 3
   },
   "file_extension": ".py",
   "mimetype": "text/x-python",
   "name": "python",
   "nbconvert_exporter": "python",
   "pygments_lexer": "ipython3",
   "version": "3.7.6"
  },
  "latex_envs": {
   "LaTeX_envs_menu_present": true,
   "autoclose": false,
   "autocomplete": true,
   "bibliofile": "biblio.bib",
   "cite_by": "apalike",
   "current_citInitial": 1,
   "eqLabelWithNumbers": true,
   "eqNumInitial": 1,
   "hotkeys": {
    "equation": "Ctrl-E",
    "itemize": "Ctrl-I"
   },
   "labels_anchors": false,
   "latex_user_defs": false,
   "report_style_numbering": false,
   "user_envs_cfg": false
  },
  "toc": {
   "base_numbering": 1,
   "nav_menu": {},
   "number_sections": false,
   "sideBar": true,
   "skip_h1_title": false,
   "title_cell": "Table of Contents",
   "title_sidebar": "Contents",
   "toc_cell": false,
   "toc_position": {},
   "toc_section_display": true,
   "toc_window_display": false
  },
  "varInspector": {
   "cols": {
    "lenName": 16,
    "lenType": 16,
    "lenVar": 40
   },
   "kernels_config": {
    "python": {
     "delete_cmd_postfix": "",
     "delete_cmd_prefix": "del ",
     "library": "var_list.py",
     "varRefreshCmd": "print(var_dic_list())"
    },
    "r": {
     "delete_cmd_postfix": ") ",
     "delete_cmd_prefix": "rm(",
     "library": "var_list.r",
     "varRefreshCmd": "cat(var_dic_list()) "
    }
   },
   "types_to_exclude": [
    "module",
    "function",
    "builtin_function_or_method",
    "instance",
    "_Feature"
   ],
   "window_display": false
  }
 },
 "nbformat": 4,
 "nbformat_minor": 4
}
