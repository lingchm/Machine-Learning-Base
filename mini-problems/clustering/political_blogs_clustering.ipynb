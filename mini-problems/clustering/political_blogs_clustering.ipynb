{
 "cells": [
  {
   "cell_type": "markdown",
   "metadata": {
    "colab_type": "text",
    "id": "view-in-github"
   },
   "source": [
    "<a href=\"https://colab.research.google.com/github/lingchm/datascience/blob/master/exercises/socially_distanced_robots.ipynb\" target=\"_parent\"><img src=\"https://colab.research.google.com/assets/colab-badge.svg\" alt=\"Open In Colab\"/></a>"
   ]
  },
  {
   "cell_type": "markdown",
   "metadata": {
    "id": "pVWkxKm9TYyT"
   },
   "source": [
    "# Political orientation of blogs\n",
    "\n",
    "*clustering*, *spectral clustering*\n",
    "\n",
    "**Problem**\n",
    "\n",
    "We will use a political blogs dataset, first compiled for the paper Lada A. Adamic and Natalie Glance, \"The political blogosphere and the 2004 US Election\", in Proceedings of the WWW-2005 Workshop on the Weblogging Ecosystem (2005), to identify political orientation of these blogs. The data provided are:\n",
    "* `edges.txt` The dataset has two columns, which represent the edges between the vertices.\n",
    "* `nodes.txt` The dataset has four columns. Represents a graph with $n=1490$ nodes or blogs. The first column has a 0-1 label which correspond to the true political orientation of the blog.\n",
    "\n",
    "**Method**\n",
    "\n",
    "We treat the network as an undirectly graph. Then perform spectral clustering on the graph.\n",
    "\n",
    "Assume the number of clusters is $k$. Here we are trying to classify blogs into groups of similar kind. However, the definition of similar can be tricky here. Can we interpret similarity as similar content or viewpoints or political standing?  Assume that two blogs are connected if one cited the other, one blog may cite another blog to support its own view points or to debate against it. So we cannot say that our algorithm would classify blogs into groups of similar viewpoints. Conservatively speaking, we can interpret the blog communities as blogs that share similar topics."
   ]
  },
  {
   "cell_type": "markdown",
   "metadata": {
    "id": "naVMsakRO7je"
   },
   "source": [
    "## Implementation\n",
    "\n",
    "The implementation is found in `blog_classification.py`. The function `logClustering(k, spectralType)` takes in two parameters, where $k$ is the number of clusters. The default setting is to use regular spectral clustering. If the user specifies `spectralType = \"variant\"`, then the variant of spectral clustering is used. The function outputs an array object `cluster` of size $k$ x $3$ which contains the following cluster level information: political label, number of nodes, number of mismatched nodes, mismatch rate. \\\\\n",
    "\n",
    "An overview of the spectral clustering algorithm implementation is the following:\n",
    "1. We read in the `edges.txt` and constructed an adjacency matrix $A$ of size 1490 x 1490\n",
    "2. We removed isolated nodes from A, obtaining a new A of 1224 x 1224. Every node in this new matrix is connected to at least one other node\n",
    "3. The degree matrix D is computed. Then we obtain the Laplacian graph $L = D - A$\n",
    "4. We performed eigendecomposition on L and find its eigenvectors and eigenvalues\n",
    "5. The $k$ smallest eigenvectors were selected and their respective eigenvectors were used to obtain a new feature matrix \n",
    "6. We run k-means on the feature matrix, treating each feature vector as a data point\n",
    "7. We read in the `nodes.txt` to get the individual labels and calculate the cluster label using majority vote. Then we calculate the mismatch rate for the clsuter. The overall mismatch rate for all clusters is (weighted mismatch rate of clusters):\n",
    "\n",
    "$$\n",
    "mismatch-rate = \\frac{\\sum^k_{j=1} number-of-mismatched-nodes-in-cluster-j}{total-number-of-nodes}\n",
    "$$\n",
    "\n"
   ]
  },
  {
   "cell_type": "code",
   "execution_count": 8,
   "metadata": {},
   "outputs": [],
   "source": [
    "import os\n",
    "import numpy as np\n",
    "from os.path import abspath, exists\n",
    "from scipy import sparse\n",
    "from sklearn.cluster import KMeans\n",
    "from matplotlib import pyplot as plt\n",
    "import collections"
   ]
  },
  {
   "cell_type": "code",
   "execution_count": 15,
   "metadata": {},
   "outputs": [],
   "source": [
    "def import_labels():\n",
    "    # the data has 1490 nodes, first column is the ID, third column is their label\n",
    "    f_path = abspath(\"data/nodes.txt\")\n",
    "    idx2label = []\n",
    "    if exists(f_path):\n",
    "        with open(f_path) as fid:\n",
    "            for line in fid.readlines():\n",
    "                label = int(line.split(\"\\t\", 4)[2])  # tab delimiter, 4 cols\n",
    "                idx2label.append(label)\n",
    "    return idx2label\n",
    "\n",
    "\n",
    "def import_graph():\n",
    "    # the data has 19090 edges, with duplicates\n",
    "    f_path = abspath(\"data/edges.txt\")\n",
    "    if exists(f_path):\n",
    "        with open(f_path) as graph_file:\n",
    "            lines = [line.split() for line in graph_file]\n",
    "    return np.array(lines).astype(int)"
   ]
  },
  {
   "cell_type": "code",
   "execution_count": 27,
   "metadata": {},
   "outputs": [],
   "source": [
    "# Function to run blog clustering\n",
    "# @k is the number of clusters\n",
    "# @spectralType == \"variant\" implements the variant, otherwise is regular spectral clustering\n",
    "def blogClustering(k, spectralType):  \n",
    "\n",
    "    # load the graph\n",
    "    edges = import_graph()    # 19090 x 2\n",
    "    labels = import_labels()  # 1490 x 1\n",
    "\n",
    "    n = len(labels)          # number of nodes\n",
    "    i = edges[:, 0]-1        # get first column \n",
    "    j = edges[:, 1]-1        # get second column \n",
    "    v = np.ones((edges.shape[0], 1)).flatten()  \n",
    "\n",
    "    ### Get Adjacency matrix\n",
    "    # data is given as (team 1, team 2) (no dups)\n",
    "    # A gives the edges from team 1 to team 2\n",
    "    # A^T gives the edges from team 2 to team 1\n",
    "    # note that in the data, there are duplicates, we want undirected, unweighted graph\n",
    "    # so we avoid double counting by taking the max of the value and 1\n",
    "    A = sparse.coo_matrix((v, (i, j)), shape=(n, n)) \n",
    "    A = (A + np.transpose(A))\n",
    "    A = (A > 0).astype(np.int) \n",
    "\n",
    "    # remove isolated nodes\n",
    "    rmidx = np.where(np.sum(A, axis=1) == 0)[0] \n",
    "    A = A.toarray()\n",
    "    A = np.delete(A, rmidx, axis=1)\n",
    "    A = np.delete(A, rmidx, axis=0)\n",
    "    labels = np.delete(labels, rmidx)\n",
    "\n",
    "    # Degree matrix and Laplacian graph\n",
    "    if spectralType == \"variant\":\n",
    "        D = np.diag(1/np.sqrt(np.sum(A, axis=1)))  # 321x321\n",
    "        L = D @ A @ D   \n",
    "    else:\n",
    "        D = np.diag(np.sum(A, axis=1))\n",
    "        L = D - A\n",
    "\n",
    "    # Eigendecomposition \n",
    "    lam, vec = np.linalg.eig(L)\n",
    "    if spectralType == \"variant\":\n",
    "        idx = lam.argsort()[::-1][:k]       # k largest\n",
    "    else:\n",
    "        idx = lam.argsort()[:k]             # k smallest eigen values: 0, 0, 0.168691, 0.2995, 0.37576...\n",
    "    vec = vec[:, idx].real  \n",
    "    vec = vec/np.repeat(np.sqrt(np.sum(vec*vec, axis=1).reshape(-1, 1)), k, axis=1) # normalization\n",
    "\n",
    "    # k-means\n",
    "    kmeans = KMeans(n_clusters=k).fit(vec)\n",
    "    assignments = kmeans.labels_\n",
    "    # (optional) distirbution of assignments\n",
    "    # unique, counts = np.unique(assignments, return_counts=True)\n",
    "    # distr = np.asarray((unique, counts)).T\n",
    "    # print(distr)\n",
    "    # plt.hist(assignments, bins='auto')\n",
    "    # plt.show()\n",
    "\n",
    "    # cluster labels by majority vote:\n",
    "    # cluster metadata: [cluster label, number of nodes, number of mismatches, mismatch rate]\n",
    "    cluster = np.empty([k, 4])\n",
    "    for i in range(k):\n",
    "        idx = np.where(assignments == i)[0]\n",
    "        n0 = np.where(labels[idx] == 0)[0]\n",
    "        n1 = np.where(labels[idx] == 1)[0]\n",
    "        cluster[i, 1] = len(idx)\n",
    "        if len(n0) > len(n1):\n",
    "            cluster[i, 0] = 0\n",
    "            cluster[i, 2] = len(n1)\n",
    "            cluster[i, 3] = len(n1) / len(idx)\n",
    "        else:\n",
    "            cluster[i, 0] = 1\n",
    "            cluster[i, 2] = len(n0)\n",
    "            cluster[i, 3] = len(n0) / len(idx)\n",
    "    mismatch = np.sum(cluster[:, 2], axis = 0) / len(labels)  #  mismatch = # mismatch / total # nodes\n",
    "    \n",
    "    print(\"Mismatch rate for k = \", k, \" is \", mismatch)\n",
    "    return cluster, mismatch"
   ]
  },
  {
   "cell_type": "code",
   "execution_count": 17,
   "metadata": {},
   "outputs": [
    {
     "name": "stdout",
     "output_type": "stream",
     "text": [
      "Mismatch rate for k =  2  is  0.47875816993464054\n"
     ]
    }
   ],
   "source": [
    "# test\n",
    "cluster, mismatch = blogClustering(2, \"regular\")\n",
    "print(cluster)"
   ]
  },
  {
   "cell_type": "markdown",
   "metadata": {},
   "source": [
    "\\subsection{Results}\n",
    "\n",
    "The cluster level results for $k=2,3,4$ are summarized below. We can observe that given a small $k$, most blogs are classified into one cluster. The overall mismatch rates are greater than $0.47$ in all three cases.\n",
    "\n",
    "| Number of clusters | Cluster | Number of nodes | Majority label | Mismatch rate |\n",
    "| --- | --- | --- | --- | --- |\n",
    "| k=2 | 1   |1222 | 1 \t| 0.4795 |\n",
    "| k=2 | 2   | 2   | 0   | 0      | \n",
    "| k=3 | 1   | 1217 | 1 \t| 0.4807 |\n",
    "| k=3 | 2   |  5   | 1  | 0.2    |\n",
    "| k=3 | 3   |  2   | 0  | 0      |\n",
    "| k=4 | 1   | 1214 | 1 \t| 0.4819 |\n",
    "| k=4 | 2   |  5   | 1  | 0.2    |\n",
    "| k=4 | 3   |  3   | 1  | 0      |\n",
    "| k=4 | 4   |  2   | 0  | 0      |"
   ]
  },
  {
   "cell_type": "markdown",
   "metadata": {},
   "source": [
    "We find the best $k$ as follows."
   ]
  },
  {
   "cell_type": "code",
   "execution_count": 30,
   "metadata": {
    "scrolled": false
   },
   "outputs": [
    {
     "name": "stdout",
     "output_type": "stream",
     "text": [
      "Mismatch rate for k =  2  is  0.47875816993464054\n",
      "Mismatch rate for k =  3  is  0.47875816993464054\n",
      "Mismatch rate for k =  4  is  0.47875816993464054\n",
      "Mismatch rate for k =  5  is  0.477124183006536\n",
      "Mismatch rate for k =  6  is  0.47549019607843135\n",
      "Mismatch rate for k =  7  is  0.4722222222222222\n",
      "Mismatch rate for k =  8  is  0.4722222222222222\n",
      "Mismatch rate for k =  9  is  0.4681372549019608\n",
      "Mismatch rate for k =  10  is  0.4583333333333333\n",
      "Mismatch rate for k =  11  is  0.4542483660130719\n",
      "Mismatch rate for k =  12  is  0.4485294117647059\n",
      "Mismatch rate for k =  13  is  0.4444444444444444\n",
      "Mismatch rate for k =  14  is  0.09313725490196079\n",
      "Mismatch rate for k =  15  is  0.06045751633986928\n",
      "Mismatch rate for k =  16  is  0.05718954248366013\n",
      "Mismatch rate for k =  17  is  0.049019607843137254\n",
      "Mismatch rate for k =  18  is  0.04656862745098039\n",
      "Mismatch rate for k =  19  is  0.04820261437908497\n",
      "Mismatch rate for k =  20  is  0.04493464052287582\n",
      "Mismatch rate for k =  21  is  0.04330065359477124\n",
      "Mismatch rate for k =  22  is  0.04330065359477124\n",
      "Mismatch rate for k =  23  is  0.04493464052287582\n",
      "Mismatch rate for k =  24  is  0.042483660130718956\n",
      "Mismatch rate for k =  25  is  0.042483660130718956\n",
      "Mismatch rate for k =  26  is  0.0457516339869281\n",
      "Mismatch rate for k =  27  is  0.04493464052287582\n",
      "Mismatch rate for k =  28  is  0.04820261437908497\n",
      "Mismatch rate for k =  29  is  0.04493464052287582\n"
     ]
    },
    {
     "data": {
      "image/png": "[encoded data removed]",
      "text/plain": [
       "<Figure size 432x288 with 1 Axes>"
      ]
     },
     "metadata": {
      "needs_background": "light"
     },
     "output_type": "display_data"
    }
   ],
   "source": [
    "# tuning k \n",
    "maxk = 30\n",
    "x_values, y_values = [], []\n",
    "for i in range(2, maxk):\n",
    "    cluster, mismatch = blogClustering(i, spectralType = \"regular\")\n",
    "    y_values.append(mismatch)        \n",
    "    x_values.append(i)\n",
    "    \n",
    "plt.plot(x_values, y_values)\n",
    "plt.ylabel(\"Mismatch rate\")\n",
    "plt.xlabel('Number of clusters (k)')\n",
    "plt.show()"
   ]
  },
  {
   "cell_type": "markdown",
   "metadata": {},
   "source": [
    "It is interesting to observe that under small values of k, we were unable to find node communities that share\n",
    "the same political view; for a large enough k, our blog classi cation is able to classify blogs of the same\n",
    "political view into similar communities. So one take away is that the number of clusters is very important\n",
    "and from which we may observe di erent insights.\n",
    "\n",
    "Initially, we interpreted a community of blogs as blogs that share similar content or topics. When we\n",
    "classify blogs into k=18 topics, we reveal that most blogs of the same topic share same political views.\n",
    "This tells us that nowadays, political blogs are quite biased and selective of what they say. The authors of\n",
    "the same political view would only select topics and perspectives that favor their views and not mention the\n",
    "other side of the story."
   ]
  }
 ],
 "metadata": {
  "colab": {
   "authorship_tag": "ABX9TyOTOc1U71AUuA5lNSIVuRuz",
   "include_colab_link": true,
   "name": "socially_distanced_robots.ipynb",
   "provenance": []
  },
  "hide_input": false,
  "kernelspec": {
   "display_name": "Python 3",
   "language": "python",
   "name": "python3"
  },
  "language_info": {
   "codemirror_mode": {
    "name": "ipython",
    "version": 3
   },
   "file_extension": ".py",
   "mimetype": "text/x-python",
   "name": "python",
   "nbconvert_exporter": "python",
   "pygments_lexer": "ipython3",
   "version": "3.7.6"
  },
  "latex_envs": {
   "LaTeX_envs_menu_present": true,
   "autoclose": false,
   "autocomplete": true,
   "bibliofile": "biblio.bib",
   "cite_by": "apalike",
   "current_citInitial": 1,
   "eqLabelWithNumbers": true,
   "eqNumInitial": 1,
   "hotkeys": {
    "equation": "Ctrl-E",
    "itemize": "Ctrl-I"
   },
   "labels_anchors": false,
   "latex_user_defs": false,
   "report_style_numbering": false,
   "user_envs_cfg": false
  },
  "toc": {
   "base_numbering": 1,
   "nav_menu": {},
   "number_sections": true,
   "sideBar": true,
   "skip_h1_title": false,
   "title_cell": "Table of Contents",
   "title_sidebar": "Contents",
   "toc_cell": false,
   "toc_position": {},
   "toc_section_display": true,
   "toc_window_display": false
  },
  "varInspector": {
   "cols": {
    "lenName": 16,
    "lenType": 16,
    "lenVar": 40
   },
   "kernels_config": {
    "python": {
     "delete_cmd_postfix": "",
     "delete_cmd_prefix": "del ",
     "library": "var_list.py",
     "varRefreshCmd": "print(var_dic_list())"
    },
    "r": {
     "delete_cmd_postfix": ") ",
     "delete_cmd_prefix": "rm(",
     "library": "var_list.r",
     "varRefreshCmd": "cat(var_dic_list()) "
    }
   },
   "types_to_exclude": [
    "module",
    "function",
    "builtin_function_or_method",
    "instance",
    "_Feature"
   ],
   "window_display": false
  }
 },
 "nbformat": 4,
 "nbformat_minor": 1
}
