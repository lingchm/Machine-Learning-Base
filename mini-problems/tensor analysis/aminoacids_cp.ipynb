{
 "cells": [
  {
   "cell_type": "markdown",
   "metadata": {},
   "source": [
    "# Decomposition of Amino Acids\n",
    "\n"
   ]
  },
  {
   "cell_type": "markdown",
   "metadata": {},
   "source": [
    "*tensor decomposition*, *cp decomposition*\n",
    "\n",
    "\\textbf{Problem} \n",
    "\n",
    "Information from five laboratory-made samples is collected. Each sample contains different amounts of tyrosine, tryptophan and phenylanine dissolved in phosphate buffered water. The samples were measured by fluorescence (emission 250-450 nm, excitation 240-300 nm, 1 nm intervals) on a spectrofluorometer. The array to be decomposed is then `5 x 201 x 61`, it can be found as $X$ in the file `aminoacid.mat`. We would like to characterize the composition of the five samples, i.e. how much of amount of the three acids does each sample contain.\n",
    "\n",
    "\\textbf{Method} \n",
    "\n",
    "Each sample is high-dimensional `201 x 61`. We can treat the data as a tensor. The Candecomp/parafac **CP Decomposition** factorizes a tensor $\\mathcal{X}  \\in \\mathbb{R}^{I x J x K}$ into a sum of component rank-one tensors:\n",
    "\n",
    "$$\n",
    "\\mathcal{X}  \\approx \\sum^R_{r=1} \\mathbf{a}_r \\circ \\mathbf{b}_r \\circ \\mathbf{c}_r, \n",
    "$$\n",
    "where $\\mathbf{a}_r \\in \\mathbb{R}^{I}$, $\\mathbf{b}_r \\in \\mathbb{R}^{J}$, $\\mathbf{c}_r \\in \\mathbb{R}^{K}$, for $r = 1 \\dots R. \n",
    "\n",
    "![image info](supplements/cp_image.png)\n",
    "\n",
    "The rank of a tensor, $rank(X)$, is the smallest number of rank-one tensors whose sum can geenrate X. Ideally, these data should be describable with three CP decomposition components, because each individual amino acid gives rank one contribution to the data. \n",
    "\n",
    "We implement the CP decomposition method to obtain a rank-3 decomposition of the data. The optimization problem of CP decomposition can be formulated as \n",
    "\n",
    "$$\n",
    "\\min_{A,B,C,\\lambda} \\| \\mathcal{X} - [\\![ \\mathbf{\\lambda}; \\mathbf{A}, \\mathbf{B}, \\mathbf{C} ]\\!] \\|^2 = \\left\\| \\mathcal{X}  -  \\sum^R_{r=1} \\mathbf{a}_r \\circ \\mathbf{b}_r \\circ \\mathbf{c}_r       \\right\\|^2\n",
    "$$\n",
    "$$\n",
    "s.t. \\| \\mathbf{a}_r \\| = 1 ; \\| \\mathbf{b}_r \\| = 1 ; \\| \\mathbf{c}_r \\| = 1 ; r = 1, \\dots, R\n",
    "$$\n",
    "\n",
    "Alternative Least Squares (ALS) can be used to solve this optimization problem. ALS iteratively solves the optimization model for one matrix given all other matrices. The algorithm is as follows:\n",
    "\n",
    "![image info](supplements/cp_als_algorithm.png)\n",
    "\n",
    "\n",
    "\n",
    "\\textbf{References}\n",
    "* Credits to Dr. Kamran Paynabar for designing this problem."
   ]
  },
  {
   "cell_type": "markdown",
   "metadata": {},
   "source": [
    "## Read in data"
   ]
  },
  {
   "cell_type": "code",
   "execution_count": 13,
   "metadata": {},
   "outputs": [],
   "source": [
    "import numpy as np\n",
    "from matplotlib import pyplot as plt\n",
    "import matplotlib\n",
    "import tensorly as tl\n",
    "import tensorly.decomposition\n",
    "from scipy.io import loadmat\n",
    "from sklearn.ensemble import RandomForestClassifier\n",
    "from sklearn.metrics import confusion_matrix\n",
    "from tqdm import tqdm"
   ]
  },
  {
   "cell_type": "code",
   "execution_count": 2,
   "metadata": {},
   "outputs": [],
   "source": [
    "import warnings\n",
    "warnings.filterwarnings('ignore')"
   ]
  },
  {
   "cell_type": "code",
   "execution_count": 5,
   "metadata": {},
   "outputs": [
    {
     "name": "stdout",
     "output_type": "stream",
     "text": [
      "(5, 201, 61)\n",
      "(5, 3)\n"
     ]
    }
   ],
   "source": [
    "# read in data\n",
    "data = loadmat('data/aminoacid.mat')\n",
    "X = data['X'][0][0][0] # (5,201,61)\n",
    "Y = data['Y']          # (5,3)\n",
    "print(X.shape)\n",
    "print(Y.shape)"
   ]
  },
  {
   "cell_type": "markdown",
   "metadata": {},
   "source": [
    "## Implement CP Decomposition From Scratch"
   ]
  },
  {
   "cell_type": "code",
   "execution_count": 9,
   "metadata": {},
   "outputs": [],
   "source": [
    "# tensor matricization in Tensorly is different from the Kolda's paper \n",
    "# http://jeankossaifi.com/blog/unfolding.html\n",
    "\n",
    "def tensor_matricization(X):\n",
    "    n0,n1,n2 = X.shape\n",
    "\n",
    "    # mode 1\n",
    "    X1 = np.zeros((n1, n0*n2))\n",
    "    for i in range(n0):\n",
    "        X1[:, i*n2:((i+1)*n2)] = X[i,:,:]\n",
    "\n",
    "    # mode 2\n",
    "    X2 = np.zeros((n2, n0*n1))\n",
    "    for i in range(n0):\n",
    "        X2[:, i*n1:((i+1)*n1)] = X[i,:,:].T\n",
    "\n",
    "    # mode 3\n",
    "    X3 = np.zeros((n0, n2*n1))\n",
    "    count = 0\n",
    "    for j in range(n2):\n",
    "        for i in range(n1):\n",
    "            X3[:, count] = X[:,i,j]\n",
    "            count += 1\n",
    "            \n",
    "    return X3, X1, X2  "
   ]
  },
  {
   "cell_type": "code",
   "execution_count": 11,
   "metadata": {},
   "outputs": [],
   "source": [
    "def cp_decomposition(X, R, max_iter=200, verbose=False, thd=1e-3):\n",
    "\n",
    "    # initialize factor matrices for each mode \n",
    "    n_mode = len(X.shape)\n",
    "    A = []\n",
    "    for i in range(n_mode):\n",
    "        A.append(np.random.random((X.shape[i], R))) # (I,R) (J,R) (K,R)\n",
    "    # NOTE: randomize with positive values to avoid negative coefficients\n",
    "    \n",
    "    loss, prev_loss = 1e3, 1e6\n",
    "    for epoch in tqdm(range(max_iter)):\n",
    "        \n",
    "        # ALS: optimize factor matric for each mode while fixing the other factor matrices \n",
    "        for mode in range(n_mode):\n",
    "            \n",
    "            # projection matrix\n",
    "            H = tl.kr(A[:mode] + A[mode+1:]).T                    # (R, JK)\n",
    "\n",
    "            # solving least squares \n",
    "            X_vec = tl.unfold(X, mode=mode).T                     # (I, JK)\n",
    "            A_ = np.linalg.lstsq(H.T, X_vec, rcond='warn')[0].T   # (I, R)\n",
    "            #A_ = X_vec.T @ np.linalg.inv(H.T @ H) @ H.T            # (I, R) slow \n",
    "            \n",
    "            # normalize the matrix column-wise and store the norm of the matrix \n",
    "            A[mode] = A_ / np.linalg.norm(A_, axis=0)\n",
    "            lmd = np.linalg.norm(A_)\n",
    "\n",
    "        # stopping criteria based on loss \n",
    "        X_ = 1\n",
    "        for r in range(R):\n",
    "            t = lmd * A[0][:,r]\n",
    "            for mode in range(1, n_mode):\n",
    "                t = np.outer(t, A[mode][:,r])\n",
    "            X_ += t.reshape(X.shape) \n",
    "        loss = np.linalg.norm(X_ - X)\n",
    "        \n",
    "        if verbose and epoch % 10 == 0:\n",
    "            print(\"Epoch:\", epoch, \"| Loss:\", loss)\n",
    "            \n",
    "        if np.abs(loss - prev_loss) < thd: break \n",
    "        prev_loss = loss\n",
    "    \n",
    "    print(\"converged, number of epochs:\", epoch)\n",
    "    \n",
    "    return A, lmd"
   ]
  },
  {
   "cell_type": "markdown",
   "metadata": {},
   "source": [
    "## Apply CP Decomposition"
   ]
  },
  {
   "cell_type": "code",
   "execution_count": 22,
   "metadata": {},
   "outputs": [
    {
     "name": "stderr",
     "output_type": "stream",
     "text": [
      " 71%|███████   | 142/200 [00:00<00:00, 304.58it/s]"
     ]
    },
    {
     "name": "stdout",
     "output_type": "stream",
     "text": [
      "converged, number of epochs: 142\n",
      "Components:\n",
      "[[-0.002  0.832 -0.005]\n",
      " [ 0.     0.004  0.886]\n",
      " [ 0.866  0.015  0.01 ]\n",
      " [ 0.377  0.482  0.357]\n",
      " [ 0.328  0.274  0.296]]\n"
     ]
    },
    {
     "name": "stderr",
     "output_type": "stream",
     "text": [
      "\n"
     ]
    }
   ],
   "source": [
    "# CP decomposition (self-implemented)\n",
    "A, lmd = cp_decomposition(X, 3, max_iter=200, verbose=False)\n",
    "\n",
    "# 5 x 3 score matrix \n",
    "print(\"Components:\")\n",
    "print(np.round(A[0],3))"
   ]
  },
  {
   "cell_type": "code",
   "execution_count": 29,
   "metadata": {},
   "outputs": [
    {
     "name": "stdout",
     "output_type": "stream",
     "text": [
      "Components:\n",
      "[[-0.832  0.002  0.006]\n",
      " [-0.004 -0.    -0.886]\n",
      " [-0.015 -0.866 -0.01 ]\n",
      " [-0.482 -0.377 -0.357]\n",
      " [-0.274 -0.328 -0.296]]\n"
     ]
    }
   ],
   "source": [
    "# CP decomposition (package)\n",
    "P = tl.decomposition.parafac(X, 3, normalize_factors=True, random_state=1)\n",
    "print(\"Components:\")\n",
    "print(np.round(P.factors[0],3))"
   ]
  },
  {
   "cell_type": "markdown",
   "metadata": {},
   "source": [
    "## Interpretation and Discussion"
   ]
  },
  {
   "cell_type": "markdown",
   "metadata": {},
   "source": [
    "Below we can see the `5 x 3` score matrix. The matrix $A$ can be interpreted as the concentration of the amino acid in each sample. We can see that each of the first three samples have high concentration of one of the three amino acids (>0.8), and the other two samples are relatively balanced mixture of the three acids."
   ]
  },
  {
   "cell_type": "code",
   "execution_count": 30,
   "metadata": {},
   "outputs": [
    {
     "data": {
      "text/plain": [
       "array([[0.828, 0.   , 0.   ],\n",
       "       [0.   , 0.885, 0.   ],\n",
       "       [0.   , 0.   , 0.889],\n",
       "       [0.49 , 0.362, 0.351],\n",
       "       [0.273, 0.293, 0.293]])"
      ]
     },
     "execution_count": 30,
     "metadata": {},
     "output_type": "execute_result"
    }
   ],
   "source": [
    "# check with the correct answer\n",
    "np.round(Y / np.linalg.norm(Y,axis=0), 3)"
   ]
  },
  {
   "cell_type": "markdown",
   "metadata": {},
   "source": [
    "The emission loadings is a `201 x 3` matrix, with one loading per amino acid. We visualize the emission loadings in the following plot. We can see that amino acid 1 has a bell shaped loading profile, with a pick at emission 100 nm. The amino acids 2 and 3's loadings are also bell shaped but right skewed, with picks at a lower emission (30-60nm)."
   ]
  },
  {
   "cell_type": "code",
   "execution_count": 894,
   "metadata": {},
   "outputs": [
    {
     "data": {
      "image/png": "[encoded data removed]",
      "text/plain": [
       "<Figure size 500x300 with 1 Axes>"
      ]
     },
     "metadata": {
      "needs_background": "light"
     },
     "output_type": "display_data"
    }
   ],
   "source": [
    "# we plot emission loadings\n",
    "matplotlib.rcParams['figure.figsize'] = (5,3)\n",
    "matplotlib.rcParams['figure.dpi'] = 100\n",
    "plt.figure()\n",
    "plt.plot(A[1])\n",
    "#plt.plot(P[1][1])\n",
    "plt.xlabel('emission loadings')\n",
    "plt.legend(['amino acid ' + str(i) for i in range(1, R+1)])\n",
    "plt.show()"
   ]
  },
  {
   "cell_type": "markdown",
   "metadata": {},
   "source": [
    "Similarly, we visualize the exictation loadings matrix below. The three acids have different excitation profiles, each picking at different excitation levels. "
   ]
  },
  {
   "cell_type": "code",
   "execution_count": 895,
   "metadata": {},
   "outputs": [
    {
     "data": {
      "image/png": "[encoded data removed]",
      "text/plain": [
       "<Figure size 500x300 with 1 Axes>"
      ]
     },
     "metadata": {
      "needs_background": "light"
     },
     "output_type": "display_data"
    }
   ],
   "source": [
    "# we plot the excitation loadings\n",
    "plt.figure()\n",
    "plt.plot(A[2])\n",
    "# plt.plot(P[1][2])\n",
    "plt.xlabel('excitation loadings')\n",
    "plt.legend(['amino acid ' + str(i) for i in range(1, R+1)])\n",
    "plt.show()"
   ]
  }
 ],
 "metadata": {
  "author": "Lingchao Mao",
  "hide_input": false,
  "kernelspec": {
   "display_name": "Python 3",
   "language": "python",
   "name": "python3"
  },
  "language_info": {
   "codemirror_mode": {
    "name": "ipython",
    "version": 3
   },
   "file_extension": ".py",
   "mimetype": "text/x-python",
   "name": "python",
   "nbconvert_exporter": "python",
   "pygments_lexer": "ipython3",
   "version": "3.7.6"
  },
  "latex_envs": {
   "LaTeX_envs_menu_present": true,
   "autoclose": false,
   "autocomplete": true,
   "bibliofile": "biblio.bib",
   "cite_by": "apalike",
   "current_citInitial": 1,
   "eqLabelWithNumbers": true,
   "eqNumInitial": 1,
   "hotkeys": {
    "equation": "Ctrl-E",
    "itemize": "Ctrl-I"
   },
   "labels_anchors": false,
   "latex_user_defs": false,
   "report_style_numbering": false,
   "user_envs_cfg": false
  },
  "toc": {
   "base_numbering": 1,
   "nav_menu": {},
   "number_sections": false,
   "sideBar": true,
   "skip_h1_title": false,
   "title_cell": "Table of Contents",
   "title_sidebar": "Contents",
   "toc_cell": false,
   "toc_position": {
    "height": "calc(100% - 180px)",
    "left": "10px",
    "top": "150px",
    "width": "296.333px"
   },
   "toc_section_display": true,
   "toc_window_display": false
  },
  "varInspector": {
   "cols": {
    "lenName": 16,
    "lenType": 16,
    "lenVar": 40
   },
   "kernels_config": {
    "python": {
     "delete_cmd_postfix": "",
     "delete_cmd_prefix": "del ",
     "library": "var_list.py",
     "varRefreshCmd": "print(var_dic_list())"
    },
    "r": {
     "delete_cmd_postfix": ") ",
     "delete_cmd_prefix": "rm(",
     "library": "var_list.r",
     "varRefreshCmd": "cat(var_dic_list()) "
    }
   },
   "types_to_exclude": [
    "module",
    "function",
    "builtin_function_or_method",
    "instance",
    "_Feature"
   ],
   "window_display": false
  }
 },
 "nbformat": 4,
 "nbformat_minor": 4
}
