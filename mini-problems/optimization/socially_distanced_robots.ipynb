{
 "cells": [
  {
   "cell_type": "markdown",
   "metadata": {
    "colab_type": "text",
    "id": "view-in-github"
   },
   "source": [
    "<a href=\"https://colab.research.google.com/github/lingchm/datascience/blob/master/exercises/socially_distanced_robots.ipynb\" target=\"_parent\"><img src=\"https://colab.research.google.com/assets/colab-badge.svg\" alt=\"Open In Colab\"/></a>"
   ]
  },
  {
   "cell_type": "markdown",
   "metadata": {
    "id": "pVWkxKm9TYyT"
   },
   "source": [
    "# Socially Distanced Robots\n",
    "\n",
    "*Descentralized distributed computing*, *Convex optimization*, *Gradient Descent*, *Nesterov's Method*\n",
    "\n",
    "**Problem**\n",
    "\n",
    "Let there be $N$ robots located on a 2D grid. Denote $p^{(n)}, n=1, \\dots, N$, the location vector of the n-th robot. Initially, robots are randomly located in the grid. We want to move the robots so that they eventually get as close to each other as possible but with a distance $\\delta \\geq 0$ away from each other (socially-distanced). The communication is distributed. In other words, robot $j$ can only communicate with its neighbor nodes, $N_j$.\n",
    "\n",
    "**Method**\n",
    "\n",
    "We formulate the following optimization problem.\n",
    "\\begin{equation}\n",
    "\\min_{p \\in \\mathbb{R}^{Nx2}} \\sum^N_{n=1} \\sum_{m \\in N_n} \\left(  ||p^{(n)} - p^{(m)} ||_2^2 - \\delta^2 \\right )^2.\n",
    "\\end{equation}\n",
    "\n",
    "We implement gradient descent and Nesterov's method to solve this problem.\n",
    "\n",
    "**References**\n",
    "\n",
    "Credits to Dr. Justin Romberg for designing this problem.\n"
   ]
  },
  {
   "cell_type": "code",
   "execution_count": 2,
   "metadata": {
    "id": "naVMsakRO7je"
   },
   "outputs": [],
   "source": [
    "import numpy as np\n",
    "import matplotlib.pyplot as plt"
   ]
  },
  {
   "cell_type": "code",
   "execution_count": 3,
   "metadata": {
    "id": "osBCIqX-Ztvh"
   },
   "outputs": [],
   "source": [
    "# initialize 10 robots \n",
    "np.random.seed(2021)\n",
    "p = np.random.uniform(0,50,[2,10])"
   ]
  },
  {
   "cell_type": "code",
   "execution_count": 4,
   "metadata": {
    "id": "xBikm2tiZw_e"
   },
   "outputs": [],
   "source": [
    "# utility function \n",
    "def plotRobots(p, title=\"\", size=50):\n",
    "    plt.scatter(p[0], p[1])\n",
    "    plt.xlim(0, size)\n",
    "    plt.ylim(0, size)\n",
    "    plt.title(title)\n",
    "    plt.show()\n",
    "    return"
   ]
  },
  {
   "cell_type": "code",
   "execution_count": 5,
   "metadata": {
    "colab": {
     "base_uri": "https://localhost:8080/",
     "height": 281
    },
    "id": "ioNaT09mZ2n-",
    "outputId": "03e8cc5d-484c-4a63-81c9-a407e3849eeb"
   },
   "outputs": [
    {
     "data": {
      "image/png": "[encoded data removed]",
      "text/plain": [
       "<Figure size 432x288 with 1 Axes>"
      ]
     },
     "metadata": {
      "needs_background": "light"
     },
     "output_type": "display_data"
    }
   ],
   "source": [
    "# visualize initial locations\n",
    "plotRobots(p, \"Initial location\", size=50)"
   ]
  },
  {
   "cell_type": "code",
   "execution_count": 1,
   "metadata": {
    "id": "9xt8a6L_e1q1"
   },
   "outputs": [],
   "source": [
    "# computes the gradient of the objective function\n",
    "def grad_f(p, dist):\n",
    "    grad = np.zeros(p.shape)\n",
    "    # for each robot\n",
    "    for i in range(p.shape[1]):\n",
    "        # for each of this robot's neighbors (all other robots)\n",
    "        for j in range(p.shape[1]):\n",
    "            grad[:, i] += (np.linalg.norm(p[:,i] - p[:,j])**2 - dist**2) \\\n",
    "                          * (p[:,i] - p[:,j])\n",
    "    return grad\n",
    "    \n",
    "# solver using GD or Nesterov\n",
    "def swarmRobots(p0, alpha=0.001, dist=6, tol=10, max_iter=500, method='SG'):\n",
    "    k, pk, pk_ = 0, p0*1, p0*0\n",
    "    while k < max_iter: #np.linalg.norm(pk - pk_) > tol and \n",
    "        #plotRobots(pk, title=\"Iteration \" + str(k))\n",
    "        if method == 'SG':\n",
    "            pk_ = pk * 1\n",
    "            pk += - alpha * grad_f(pk, dist)\n",
    "        elif method == 'Nesterov':\n",
    "            beta = (k - 1) / (k + 2)\n",
    "            p = pk - pk_\n",
    "            pk_ = pk * 1\n",
    "            pk += - alpha * grad_f(pk + beta * p, dist) + beta * p\n",
    "        k += 1\n",
    "    print(\"Final p:\", pk)\n",
    "    return pk"
   ]
  },
  {
   "cell_type": "code",
   "execution_count": 7,
   "metadata": {
    "colab": {
     "base_uri": "https://localhost:8080/",
     "height": 343
    },
    "id": "3zjF-NYge59j",
    "outputId": "8e265a76-2d52-463b-fef6-b634af3ee66b"
   },
   "outputs": [
    {
     "name": "stdout",
     "output_type": "stream",
     "text": [
      "Final p: [[24.53544765 29.44654126 23.64196614 23.94469662 28.7245668  29.5775933\n",
      "  24.77005686 23.8062581  29.28216491 27.00884428]\n",
      " [27.53617418 22.55457794 26.71587272 22.34570501 21.7642784  25.94788795\n",
      "  21.64749776 22.51131782 26.44053401 27.94386986]]\n"
     ]
    },
    {
     "data": {
      "image/png": "[encoded data removed]",
      "text/plain": [
       "<Figure size 432x288 with 1 Axes>"
      ]
     },
     "metadata": {
      "needs_background": "light"
     },
     "output_type": "display_data"
    }
   ],
   "source": [
    "# results using gradient descent\n",
    "pk = swarmRobots(p, alpha=0.0001)\n",
    "plotRobots(pk)"
   ]
  },
  {
   "cell_type": "code",
   "execution_count": 8,
   "metadata": {
    "colab": {
     "base_uri": "https://localhost:8080/",
     "height": 343
    },
    "id": "SVcrnnt0iEFu",
    "outputId": "eb1b40ae-5fd3-4c64-e1cc-8b91753363d6"
   },
   "outputs": [
    {
     "name": "stdout",
     "output_type": "stream",
     "text": [
      "Final p: [[12.99422015 13.6486386  12.59091656 10.20368704 15.89665403  9.97944042\n",
      "   9.77390326 15.06150581 15.53859274 16.68150935]\n",
      " [ 8.8141172   8.83013161 15.67412462 13.94244663 10.05079455 11.09361083\n",
      "  12.31714099 15.21533353 14.85940514 11.90675272]]\n"
     ]
    },
    {
     "data": {
      "image/png": "[encoded data removed]",
      "text/plain": [
       "<Figure size 432x288 with 1 Axes>"
      ]
     },
     "metadata": {
      "needs_background": "light"
     },
     "output_type": "display_data"
    }
   ],
   "source": [
    "# results using nesterov\n",
    "pk = swarmRobots(p, alpha=0.0001, method='Nesterov')\n",
    "plotRobots(pk)"
   ]
  },
  {
   "cell_type": "markdown",
   "metadata": {
    "id": "zLOgyIRpiJIV"
   },
   "source": [
    "**Discussion**\n",
    "\n",
    "The robots seem to converge to a configuration which is more evenly spaced.\n",
    "\n",
    "While Newton's method generally results in faster convergence, one of the key benefit of the first-order methods described above is that the gradient updates require only local information (i.e., the update for each robot will\n",
    "depend only on its distance from the other robots in its neighborhood). \n",
    "\n",
    "Could we have usen Newton's method, which would only require a few iterations? In general, the inverse Hessian matrix will not preserve this local structure, and hence actually computing the update in practice would involve signi cantly more communication between the robots."
   ]
  }
 ],
 "metadata": {
  "colab": {
   "authorship_tag": "ABX9TyOTOc1U71AUuA5lNSIVuRuz",
   "include_colab_link": true,
   "name": "socially_distanced_robots.ipynb",
   "provenance": []
  },
  "hide_input": false,
  "kernelspec": {
   "display_name": "Python 3",
   "language": "python",
   "name": "python3"
  },
  "language_info": {
   "codemirror_mode": {
    "name": "ipython",
    "version": 3
   },
   "file_extension": ".py",
   "mimetype": "text/x-python",
   "name": "python",
   "nbconvert_exporter": "python",
   "pygments_lexer": "ipython3",
   "version": "3.7.6"
  },
  "latex_envs": {
   "LaTeX_envs_menu_present": true,
   "autoclose": false,
   "autocomplete": true,
   "bibliofile": "biblio.bib",
   "cite_by": "apalike",
   "current_citInitial": 1,
   "eqLabelWithNumbers": true,
   "eqNumInitial": 1,
   "hotkeys": {
    "equation": "Ctrl-E",
    "itemize": "Ctrl-I"
   },
   "labels_anchors": false,
   "latex_user_defs": false,
   "report_style_numbering": false,
   "user_envs_cfg": false
  },
  "toc": {
   "base_numbering": 1,
   "nav_menu": {},
   "number_sections": true,
   "sideBar": true,
   "skip_h1_title": false,
   "title_cell": "Table of Contents",
   "title_sidebar": "Contents",
   "toc_cell": false,
   "toc_position": {},
   "toc_section_display": true,
   "toc_window_display": false
  },
  "varInspector": {
   "cols": {
    "lenName": 16,
    "lenType": 16,
    "lenVar": 40
   },
   "kernels_config": {
    "python": {
     "delete_cmd_postfix": "",
     "delete_cmd_prefix": "del ",
     "library": "var_list.py",
     "varRefreshCmd": "print(var_dic_list())"
    },
    "r": {
     "delete_cmd_postfix": ") ",
     "delete_cmd_prefix": "rm(",
     "library": "var_list.r",
     "varRefreshCmd": "cat(var_dic_list()) "
    }
   },
   "types_to_exclude": [
    "module",
    "function",
    "builtin_function_or_method",
    "instance",
    "_Feature"
   ],
   "window_display": false
  }
 },
 "nbformat": 4,
 "nbformat_minor": 1
}
