{
 "cells": [
  {
   "cell_type": "markdown",
   "metadata": {
    "colab_type": "text",
    "id": "view-in-github"
   },
   "source": [
    "<a href=\"https://colab.research.google.com/github/lingchm/datascience/blob/master/exercises/socially_distanced_robots.ipynb\" target=\"_parent\"><img src=\"https://colab.research.google.com/assets/colab-badge.svg\" alt=\"Open In Colab\"/></a>"
   ]
  },
  {
   "cell_type": "markdown",
   "metadata": {
    "id": "pVWkxKm9TYyT"
   },
   "source": [
    "# COVID Group Testing\n",
    "\n",
    "*Convex optimization*, *Ridge regression*\n",
    "\n",
    "**Problem**\n",
    "\n",
    "We explore the idea of *group testing* as a strategy for testing a large population for a rare disease by pooling samples together. Suppose that we have a population of $N$ people and we collect saliva samples from each of them. We are booking for genetic signatures of a particular virus in these samples. Let $x_n$ denote the concentration of this material in the sample for the nth person. We will assume that for healthy people $x_n = 0$, but for infected people, $x_n > 0$. Our testing procedure will be to form a series of $M$ mixtures of samples from di erent subsets of people, and then only run tests on these mixtures. The goal here is to set $M < N$, and the question is then whether we can identify the infected people from the results of these tests.\n",
    "\n",
    "We will consider the following approach: we will form mixtures by constructing random combinations of samples, and we will attempt to recover the original $x$ using a simple convex optimization problem. To mathematically represent the sampling/testing process, assume that we will ultimately run $M$ tests, each of which will tell us the concentration of viral material in the combined sample being tested. For each person, their sample will be divided into $K < M$ equal portions, which will be assigned at random to the $M$ tests. We will do this independently for each of the $N$ people. We can ultimately represent the\n",
    "concentration of viral material in each of the mixed samples that we will ultimately\n",
    "test as a vector $y \\in \\mathbb{R}^M$. We can write $y$ as\n",
    "$$\n",
    "y = Ax,\n",
    "$$\n",
    "where $A \\in \\mathbb{R}$ is a matrix that represents the assignment of people to mixed samples/tests. Specifically, A is a matrix where each column is constructed independently\n",
    "by picking $K$ entries at random, setting them to 1, and setting the remaining entries\n",
    "to 0. \n",
    "\n",
    "Suppose there is no noise in our tests, so that we can estimate $y$ perfectly. Our inference problem is now to estimate $x$ given knowledge of $y$ and $A$. In general, since\n",
    "$M < N$, recovering $x$ is impossible. However, when $x$ is sparse, meaning that it has\n",
    "only a few nonzeros (in this case meaning that most of the population is negative), then recovering $x$ is possible, although this fact was only broadly appreciated within the last 15 years or so.\n",
    "\n",
    "Suppose we are testing a population of size $N=1000$ and we can only process $M=100$ tests. Assume that only $1%$ of the population is positive. Each person's samples is split into $K=10$ batches. \n",
    "\n",
    "We want to answer the following questions:\n",
    "* How we would divide each person's samples?\n",
    "* What is the best value of K?\n",
    "\n",
    "**Method**\n",
    "\n",
    "We formulate the problem as\n",
    "$$\n",
    "\\min_x ||x||_1 \\: \\: \\: \\text{s.t.} Ax=y\n",
    "$$\n",
    "\n",
    "This optimization problem can be easily solved using existing packages.\n",
    "\n",
    "**References**\n",
    "\n",
    "Credits to Dr. Justin Romberg for designing this problem. \n"
   ]
  },
  {
   "cell_type": "code",
   "execution_count": 2,
   "metadata": {
    "id": "naVMsakRO7je"
   },
   "outputs": [],
   "source": [
    "import numpy as np\n",
    "import cvxpy as cp\n",
    "import pandas as pd\n",
    "import matplotlib.pyplot as plt"
   ]
  },
  {
   "cell_type": "code",
   "execution_count": 29,
   "metadata": {
    "id": "osBCIqX-Ztvh"
   },
   "outputs": [
    {
     "name": "stdout",
     "output_type": "stream",
     "text": [
      "s: [10977861.2839383   2195572.25678766  1951619.78381125  1351121.38879241\n",
      "  1254612.71816438   878228.90271506   763677.30670875   627306.35908219]\n"
     ]
    }
   ],
   "source": [
    "# Construct the problem\n",
    "N = 1000 # Population size\n",
    "S = 10 # Number of infected individuals\n",
    "M = 100 # Number of tests\n",
    "K = 10 # Number of splits of each sample"
   ]
  },
  {
   "cell_type": "code",
   "execution_count": 30,
   "metadata": {},
   "outputs": [],
   "source": [
    "# Define x0\n",
    "ind0 = np.random.choice(N,S,0) # index subset \n",
    "x0 = np.zeros(N) \n",
    "x0[ind0] = np.random.rand(S)"
   ]
  },
  {
   "cell_type": "code",
   "execution_count": 31,
   "metadata": {
    "id": "xBikm2tiZw_e"
   },
   "outputs": [
    {
     "name": "stdout",
     "output_type": "stream",
     "text": [
      "best objective function -0.05418225035205973\n",
      "best lambda: -9.593285932859318e-08\n"
     ]
    },
    {
     "data": {
      "image/png": "[encoded data removed]",
      "text/plain": [
       "<Figure size 432x288 with 1 Axes>"
      ]
     },
     "metadata": {
      "needs_background": "light"
     },
     "output_type": "display_data"
    }
   ],
   "source": [
    "# Define A\n",
    "A = np.zeros((M,N))\n",
    "for i in np.arange(N):\n",
    "    ind = np.random.choice(M,K,0)\n",
    "    A[ind,i] = 1\n",
    "y = A @ x0"
   ]
  },
  {
   "cell_type": "code",
   "execution_count": 32,
   "metadata": {
    "colab": {
     "base_uri": "https://localhost:8080/",
     "height": 281
    },
    "id": "ioNaT09mZ2n-",
    "outputId": "03e8cc5d-484c-4a63-81c9-a407e3849eeb"
   },
   "outputs": [
    {
     "name": "stdout",
     "output_type": "stream",
     "text": [
      "x= [     0.         196422.24482895 303574.25972747      0.\n",
      "      0.              0.              0.              0.        ]\n",
      "499996.50455642724\n"
     ]
    }
   ],
   "source": [
    "# Solve the optimization problem\n",
    "thd = 1e-9\n",
    "x = cp.Variable(N)\n",
    "prob = cp.Problem(cp.Minimize(cp.norm1(x)),\n",
    "                  [A @ x == y, x >= 0])\n",
    "prob.solve()\n",
    "print(\"Number of estimated infected people is\", str(np.where(x.value >= thd)[0].shape[0]))"
   ]
  },
  {
   "cell_type": "code",
   "execution_count": 33,
   "metadata": {},
   "outputs": [
    {
     "name": "stdout",
     "output_type": "stream",
     "text": [
      "Expectation 1075886.5740447226\n",
      "Std 1151503.889781781\n"
     ]
    }
   ],
   "source": [
    "# Experiment with different valueso of K\n",
    "def experiment(Ks, Ss, n_trials=100):\n",
    "    res = []\n",
    "    for i in range(n_trials):\n",
    "        for S in Ss:\n",
    "            for K in Ks:\n",
    "                np.random.seed(i)\n",
    "                \n",
    "                # Define x0\n",
    "                ind0 = np.random.choice(N,S,0) # index subset \n",
    "                x0 = np.zeros(N) \n",
    "                x0[ind0] = np.random.rand(S)\n",
    "                \n",
    "                # Define A\n",
    "                A = np.zeros((M,N))\n",
    "                for i in np.arange(N):\n",
    "                    ind = np.random.choice(M,K,0)\n",
    "                    A[ind,i] = 1\n",
    "                y = A @ x0\n",
    "                \n",
    "                # Solve the optimization problem\n",
    "                x = cp.Variable(N)\n",
    "                prob = cp.Problem(cp.Minimize(cp.norm1(x)),\n",
    "                                  [A @ x == y, x >= 0])\n",
    "                prob.solve()\n",
    "                n = np.where(x.value >= thd)[0].shape[0]\n",
    "                res.append([S, K, n])\n",
    "                print(\"S=\", str(S), \"K=\", str(K), \n",
    "                      \"Number of estimated infected people is\", str(n))\n",
    "    res = pd.DataFrame(data=np.asarray(res), columns=['S', 'K', 'n infected'])\n",
    "    return res"
   ]
  },
  {
   "cell_type": "code",
   "execution_count": null,
   "metadata": {},
   "outputs": [],
   "source": [
    "Ks=[2,3,4,5,6,7,8,9,10]\n",
    "n_trials=20\n",
    "res = experiment(Ks, Ss=[10], n_trials)\n",
    "t = res.groupby('K').sum() / n_trials"
   ]
  },
  {
   "cell_type": "code",
   "execution_count": null,
   "metadata": {},
   "outputs": [],
   "source": [
    "plt.figure()\n",
    "plt.stem(Ks, t['K'])\n",
    "plt.title('Probability of error')\n",
    "plt.xlabel('K')\n",
    "plt.show()"
   ]
  },
  {
   "cell_type": "code",
   "execution_count": null,
   "metadata": {},
   "outputs": [],
   "source": [
    "Ks=[3,5,10,20,30]\n",
    "Ss=[10,11,12,13,14,15,16,17,18,19,20,21,22,23,24,25,30,35,40]\n",
    "n_trials=10\n",
    "res = experiment(Ks, Ss, n_trials)\n",
    "print(res[res['S']<25].groupby(['S', 'K']).sum()/n_trials)\n",
    "t = res.groupby(['S', 'K']).sum()\n",
    "t['K'] = t['K'] / n_trials\n",
    "t.groupby(['S']).min()"
   ]
  },
  {
   "cell_type": "code",
   "execution_count": null,
   "metadata": {},
   "outputs": [],
   "source": [
    "# plot the results\n",
    "plt.figure()\n",
    "plt.stem(K, t['K'])\n",
    "plt.title('Probability of error choosing best S')\n",
    "plt.xlabel('K')\n",
    "plt.show()"
   ]
  },
  {
   "cell_type": "markdown",
   "metadata": {},
   "source": [
    "We can take K as low as 4 while still having good chance of perfect reconstruction. When K = 1 or K = 2, the algorithm fails on every trial."
   ]
  },
  {
   "cell_type": "code",
   "execution_count": null,
   "metadata": {},
   "outputs": [],
   "source": []
  }
 ],
 "metadata": {
  "colab": {
   "authorship_tag": "ABX9TyOTOc1U71AUuA5lNSIVuRuz",
   "include_colab_link": true,
   "name": "socially_distanced_robots.ipynb",
   "provenance": []
  },
  "hide_input": false,
  "kernelspec": {
   "display_name": "Python 3",
   "language": "python",
   "name": "python3"
  },
  "language_info": {
   "codemirror_mode": {
    "name": "ipython",
    "version": 3
   },
   "file_extension": ".py",
   "mimetype": "text/x-python",
   "name": "python",
   "nbconvert_exporter": "python",
   "pygments_lexer": "ipython3",
   "version": "3.7.6"
  },
  "latex_envs": {
   "LaTeX_envs_menu_present": true,
   "autoclose": false,
   "autocomplete": true,
   "bibliofile": "biblio.bib",
   "cite_by": "apalike",
   "current_citInitial": 1,
   "eqLabelWithNumbers": true,
   "eqNumInitial": 1,
   "hotkeys": {
    "equation": "Ctrl-E",
    "itemize": "Ctrl-I"
   },
   "labels_anchors": false,
   "latex_user_defs": false,
   "report_style_numbering": false,
   "user_envs_cfg": false
  },
  "toc": {
   "base_numbering": 1,
   "nav_menu": {},
   "number_sections": true,
   "sideBar": true,
   "skip_h1_title": false,
   "title_cell": "Table of Contents",
   "title_sidebar": "Contents",
   "toc_cell": false,
   "toc_position": {},
   "toc_section_display": true,
   "toc_window_display": false
  },
  "varInspector": {
   "cols": {
    "lenName": 16,
    "lenType": 16,
    "lenVar": 40
   },
   "kernels_config": {
    "python": {
     "delete_cmd_postfix": "",
     "delete_cmd_prefix": "del ",
     "library": "var_list.py",
     "varRefreshCmd": "print(var_dic_list())"
    },
    "r": {
     "delete_cmd_postfix": ") ",
     "delete_cmd_prefix": "rm(",
     "library": "var_list.r",
     "varRefreshCmd": "cat(var_dic_list()) "
    }
   },
   "types_to_exclude": [
    "module",
    "function",
    "builtin_function_or_method",
    "instance",
    "_Feature"
   ],
   "window_display": false
  }
 },
 "nbformat": 4,
 "nbformat_minor": 1
}
