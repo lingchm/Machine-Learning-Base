{
 "cells": [
  {
   "cell_type": "markdown",
   "metadata": {
    "colab_type": "text",
    "id": "view-in-github"
   },
   "source": [
    "<a href=\"https://colab.research.google.com/github/lingchm/datascience/blob/master/exercises/low_rank_matrix_completion.ipynb\" target=\"_parent\"><img src=\"https://colab.research.google.com/assets/colab-badge.svg\" alt=\"Open In Colab\"/></a>"
   ]
  },
  {
   "cell_type": "markdown",
   "metadata": {
    "id": "pVWkxKm9TYyT"
   },
   "source": [
    "# Low Rank Matrix Completion\n",
    "\n",
    "*convex optimization*, *regularization*, *proximal-gradient algorithm*, *SVD*\n",
    "\n",
    "**Problem**\n",
    "\n",
    "Given a matrix $Y \\in \\mathbb{R}^{MXN}$ with missing entries, complete the matrix such that it is the lowest possible rank.\n",
    "\n",
    "NOTE: This can be used to solve the Netflix $1M prize problem!\n",
    "\n",
    "**Method**\n",
    "\n",
    "We formulate the following \"matrix LASSO\" problem. The lowest rank requirement is achieved by regularizing the matrix's nuclear norm.\n",
    "\n",
    "\\begin{equation}\n",
    "\\min_{X \\in \\mathbb{R}^{MxN}} \\frac{\\delta}{2} \\sum_{(m,n)\\in I} (Y_{m,n} - X_{m,n})^2 + ||X||_{nn}\n",
    "\\end{equation}\n",
    "\n",
    "The proximal operator of the spectral norm has closed form solution. We know that the nuclear norm is the dual of the spectral norm. The two can be connected by Moreau decomposiion,\n",
    "\\begin{equation}\n",
    "x = prox_{\\alpha, f}(x) + \\alpha prox_{\\alpha^{-1}, f^*}(x / \\alpha)\n",
    "\\end{equation}\n",
    "where $f^*$ is the fenchel conjugate of $f$. \n",
    "\n",
    "Hence, a handy way is using proximal-gradient algorithm\n",
    "\n",
    "**References**\n",
    "* https://gclinderman.github.io/blog/statistics/probability/matrix/completion/2018/07/08/matrix-completion.html\n",
    "* Credits to Dr. Justin Romberg for designing this problem.\n",
    "* Steve Brunton: https://www.youtube.com/watch?v=sooj-_bXWgk&list=PLMrJAkhIeNNSVjnsviglFoY2nXildDCcv&index=9"
   ]
  },
  {
   "cell_type": "code",
   "execution_count": null,
   "metadata": {
    "id": "naVMsakRO7je"
   },
   "outputs": [],
   "source": [
    "import numpy as np"
   ]
  },
  {
   "cell_type": "code",
   "execution_count": 1,
   "metadata": {
    "id": "osBCIqX-Ztvh"
   },
   "outputs": [],
   "source": [
    "# set up array \n",
    "Y = np.asarray([[10,  0,  0,  6,  4,  4, 12,  0],\n",
    "       [12,  0,  6,  0,  6,  0, 18, 12],\n",
    "       [ 0, 10,  4, 10,  0,  4,  0, 10],\n",
    "       [ 0,  0,  2,  4,  0,  2,  6,  4],\n",
    "       [ 0,  4,  2,  0,  0,  2,  6,  4],\n",
    "       [10,  0,  4,  6,  0,  4, 12,  0],\n",
    "       [10,  0,  4,  0,  4,  0, 12,  6],\n",
    "       [ 6, 10,  0, 10,  4,  0, 12,  0]])\n",
    "masked = np.asarray([[1, 0, 0, 1, 1, 1, 1, 0],\n",
    "       [1, 0, 1, 0, 1, 0, 1, 1],\n",
    "       [0, 1, 1, 1, 0, 1, 0, 1],\n",
    "       [0, 0, 1, 1, 0, 1, 1, 1],\n",
    "       [0, 1, 1, 0, 0, 1, 1, 1],\n",
    "       [1, 0, 1, 1, 0, 1, 1, 0],\n",
    "       [1, 0, 1, 0, 1, 0, 1, 1],\n",
    "       [1, 1, 0, 1, 1, 0, 1, 0]])"
   ]
  },
  {
   "cell_type": "code",
   "execution_count": 2,
   "metadata": {
    "id": "xBikm2tiZw_e"
   },
   "outputs": [],
   "source": [
    "# implement proximal gradient algorithm\n",
    "def prox_sn(Z):\n",
    "    u, s, vh = np.linalg.svd(Z, full_matrices=False)\n",
    "    for i in range(s.shape[0]): \n",
    "        if s[i] >= 1:\n",
    "            s[i] = 1    \n",
    "    s = np.diag(s)\n",
    "    return u @ s @ vh\n",
    "    \n",
    "def prox_nn(Z, alpha):\n",
    "    return Z - alpha * prox_sn(Z / alpha)\n",
    "    \n",
    "def gradf(delta, X, Y):\n",
    "    return delta * (X - Y)\n",
    "\n",
    "def proximal_gradient(Y, masked, alpha=0.01, delta=100, tol=1e-3, max_iter=10000):\n",
    "    X0 = np.zeros(Y.shape)\n",
    "    k, Xk, Xk_ = 0, X0, X0 + 1\n",
    "    while np.linalg.norm(Xk - Xk_) > tol and k < max_iter:\n",
    "        #f = delta / 2 * np.linalg.norm(Y - Xk)**2 + np.linalg.norm(Xk, ord='nuc')\n",
    "        Xk_ = Xk * 1\n",
    "        Xk = prox_nn(Xk - alpha * gradf(delta, Xk, Y) * masked, alpha)\n",
    "        k += 1\n",
    "        #print(\"Functional value:\", f)\n",
    "    print(\"Number of iterations:\", k)\n",
    "    return Xk"
   ]
  },
  {
   "cell_type": "code",
   "execution_count": 3,
   "metadata": {
    "colab": {
     "base_uri": "https://localhost:8080/"
    },
    "id": "ioNaT09mZ2n-",
    "outputId": "668d2629-1ba3-41a9-edc1-77b30d0bdcf5"
   },
   "outputs": [
    {
     "name": "stdout",
     "output_type": "stream",
     "text": [
      "Number of iterations: 7376\n",
      "Estimated Y:\n",
      "[[10.  5.  4.  6.  4.  4. 12.  6.]\n",
      " [12. 11.  6. 12.  6.  6. 18. 12.]\n",
      " [ 6. 10.  4. 10.  4.  4. 12. 10.]\n",
      " [ 4.  4.  2.  4.  2.  2.  6.  4.]\n",
      " [ 4.  4.  2.  4.  2.  2.  6.  4.]\n",
      " [10.  5.  4.  6.  4.  4. 12.  6.]\n",
      " [10.  5.  4.  6.  4.  4. 12.  6.]\n",
      " [ 6. 10.  4. 10.  4.  4. 12. 10.]]\n",
      "Rank 3\n"
     ]
    }
   ],
   "source": [
    "# test\n",
    "Y_ = proximal_gradient(Y, masked)\n",
    "print(\"Estimated Y:\")\n",
    "print(np.round(Y_))\n",
    "print(\"Rank\", np.linalg.matrix_rank(Y_))"
   ]
  }
 ],
 "metadata": {
  "colab": {
   "authorship_tag": "ABX9TyPPlWbYUW2ivAxM3AcYVsJh",
   "include_colab_link": true,
   "name": "low_rank_matrix_completion.ipynb",
   "provenance": []
  },
  "hide_input": false,
  "kernelspec": {
   "display_name": "Python 3",
   "language": "python",
   "name": "python3"
  },
  "language_info": {
   "codemirror_mode": {
    "name": "ipython",
    "version": 3
   },
   "file_extension": ".py",
   "mimetype": "text/x-python",
   "name": "python",
   "nbconvert_exporter": "python",
   "pygments_lexer": "ipython3",
   "version": "3.7.6"
  },
  "latex_envs": {
   "LaTeX_envs_menu_present": true,
   "autoclose": false,
   "autocomplete": true,
   "bibliofile": "biblio.bib",
   "cite_by": "apalike",
   "current_citInitial": 1,
   "eqLabelWithNumbers": true,
   "eqNumInitial": 1,
   "hotkeys": {
    "equation": "Ctrl-E",
    "itemize": "Ctrl-I"
   },
   "labels_anchors": false,
   "latex_user_defs": false,
   "report_style_numbering": false,
   "user_envs_cfg": false
  },
  "toc": {
   "base_numbering": 1,
   "nav_menu": {},
   "number_sections": true,
   "sideBar": true,
   "skip_h1_title": false,
   "title_cell": "Table of Contents",
   "title_sidebar": "Contents",
   "toc_cell": false,
   "toc_position": {},
   "toc_section_display": true,
   "toc_window_display": false
  },
  "varInspector": {
   "cols": {
    "lenName": 16,
    "lenType": 16,
    "lenVar": 40
   },
   "kernels_config": {
    "python": {
     "delete_cmd_postfix": "",
     "delete_cmd_prefix": "del ",
     "library": "var_list.py",
     "varRefreshCmd": "print(var_dic_list())"
    },
    "r": {
     "delete_cmd_postfix": ") ",
     "delete_cmd_prefix": "rm(",
     "library": "var_list.r",
     "varRefreshCmd": "cat(var_dic_list()) "
    }
   },
   "types_to_exclude": [
    "module",
    "function",
    "builtin_function_or_method",
    "instance",
    "_Feature"
   ],
   "window_display": false
  }
 },
 "nbformat": 4,
 "nbformat_minor": 1
}
