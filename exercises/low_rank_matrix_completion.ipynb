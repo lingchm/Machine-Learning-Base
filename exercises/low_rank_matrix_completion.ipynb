{
  "nbformat": 4,
  "nbformat_minor": 0,
  "metadata": {
    "colab": {
      "name": "low_rank_matrix_completion.ipynb",
      "provenance": [],
      "authorship_tag": "ABX9TyN7ARutTl5IH8Lf0ZD3AMPR",
      "include_colab_link": true
    },
    "kernelspec": {
      "name": "python3",
      "display_name": "Python 3"
    },
    "language_info": {
      "name": "python"
    }
  },
  "cells": [
    {
      "cell_type": "markdown",
      "metadata": {
        "id": "view-in-github",
        "colab_type": "text"
      },
      "source": [
        "<a href=\"https://colab.research.google.com/github/lingchm/datascience/blob/master/exercises/low_rank_matrix_completion.ipynb\" target=\"_parent\"><img src=\"https://colab.research.google.com/assets/colab-badge.svg\" alt=\"Open In Colab\"/></a>"
      ]
    },
    {
      "cell_type": "markdown",
      "source": [
        "# Low Rank Matrix Completion\n",
        "\n",
        "References:\n",
        "* https://gclinderman.github.io/blog/statistics/probability/matrix/completion/2018/07/08/matrix-completion.html\n"
      ],
      "metadata": {
        "id": "pVWkxKm9TYyT"
      }
    },
    {
      "cell_type": "code",
      "execution_count": 3,
      "metadata": {
        "id": "naVMsakRO7je"
      },
      "outputs": [],
      "source": [
        "import numpy as np\n",
        "import matplotlib.pyplot as plt\n",
        "import scipy.io"
      ]
    },
    {
      "cell_type": "code",
      "source": [
        "# set up array \n",
        "Y = np.asarray([[10,  0,  0,  6,  4,  4, 12,  0],\n",
        "       [12,  0,  6,  0,  6,  0, 18, 12],\n",
        "       [ 0, 10,  4, 10,  0,  4,  0, 10],\n",
        "       [ 0,  0,  2,  4,  0,  2,  6,  4],\n",
        "       [ 0,  4,  2,  0,  0,  2,  6,  4],\n",
        "       [10,  0,  4,  6,  0,  4, 12,  0],\n",
        "       [10,  0,  4,  0,  4,  0, 12,  6],\n",
        "       [ 6, 10,  0, 10,  4,  0, 12,  0]])\n",
        "masked = np.asarray([[1, 0, 0, 1, 1, 1, 1, 0],\n",
        "       [1, 0, 1, 0, 1, 0, 1, 1],\n",
        "       [0, 1, 1, 1, 0, 1, 0, 1],\n",
        "       [0, 0, 1, 1, 0, 1, 1, 1],\n",
        "       [0, 1, 1, 0, 0, 1, 1, 1],\n",
        "       [1, 0, 1, 1, 0, 1, 1, 0],\n",
        "       [1, 0, 1, 0, 1, 0, 1, 1],\n",
        "       [1, 1, 0, 1, 1, 0, 1, 0]])"
      ],
      "metadata": {
        "id": "osBCIqX-Ztvh"
      },
      "execution_count": 5,
      "outputs": []
    },
    {
      "cell_type": "code",
      "source": [
        "# implement proximal gradient algorithm\n",
        "def prox_sn(Z):\n",
        "    u, s, vh = np.linalg.svd(Z, full_matrices=False)\n",
        "    for i in range(s.shape[0]): \n",
        "        if s[i] >= 1:\n",
        "            s[i] = 1    \n",
        "    s = np.diag(s)\n",
        "    return u @ s @ vh\n",
        "    \n",
        "def prox_nn(Z, alpha):\n",
        "    return Z - alpha * prox_sn(Z / alpha)\n",
        "    \n",
        "def gradf(delta, X, Y):\n",
        "    return delta * (X - Y)\n",
        "\n",
        "def proximal_gradient(Y, masked, alpha=0.01, delta=100, tol=1e-3, max_iter=10000):\n",
        "    X0 = np.zeros(Y.shape)\n",
        "    k, Xk, Xk_ = 0, X0, X0 + 1\n",
        "    while np.linalg.norm(Xk - Xk_) > tol and k < max_iter:\n",
        "        #f = delta / 2 * np.linalg.norm(Y - Xk)**2 + np.linalg.norm(Xk, ord='nuc')\n",
        "        Xk_ = Xk * 1\n",
        "        Xk = prox_nn(Xk - alpha * gradf(delta, Xk, Y) * masked, alpha)\n",
        "        k += 1\n",
        "        #print(\"Functional value:\", f)\n",
        "    print(\"Number of iterations:\", k)\n",
        "    return Xk"
      ],
      "metadata": {
        "id": "xBikm2tiZw_e"
      },
      "execution_count": 6,
      "outputs": []
    },
    {
      "cell_type": "code",
      "source": [
        "# test\n",
        "Y_ = proximal_gradient(Y, masked)\n",
        "print(\"Estimated Y:\")\n",
        "print(np.round(Y_))\n",
        "print(\"Rank\", np.linalg.matrix_rank(Y_))"
      ],
      "metadata": {
        "colab": {
          "base_uri": "https://localhost:8080/"
        },
        "id": "ioNaT09mZ2n-",
        "outputId": "668d2629-1ba3-41a9-edc1-77b30d0bdcf5"
      },
      "execution_count": 7,
      "outputs": [
        {
          "output_type": "stream",
          "name": "stdout",
          "text": [
            "Number of iterations: 7376\n",
            "Estimated Y:\n",
            "[[10.  5.  4.  6.  4.  4. 12.  6.]\n",
            " [12. 11.  6. 12.  6.  6. 18. 12.]\n",
            " [ 6. 10.  4. 10.  4.  4. 12. 10.]\n",
            " [ 4.  4.  2.  4.  2.  2.  6.  4.]\n",
            " [ 4.  4.  2.  4.  2.  2.  6.  4.]\n",
            " [10.  5.  4.  6.  4.  4. 12.  6.]\n",
            " [10.  5.  4.  6.  4.  4. 12.  6.]\n",
            " [ 6. 10.  4. 10.  4.  4. 12. 10.]]\n",
            "Rank 3\n"
          ]
        }
      ]
    },
    {
      "cell_type": "code",
      "source": [
        ""
      ],
      "metadata": {
        "id": "28EQyANTZ2qe"
      },
      "execution_count": null,
      "outputs": []
    },
    {
      "cell_type": "code",
      "source": [
        ""
      ],
      "metadata": {
        "id": "etye-ULDZ2uT"
      },
      "execution_count": null,
      "outputs": []
    }
  ]
}