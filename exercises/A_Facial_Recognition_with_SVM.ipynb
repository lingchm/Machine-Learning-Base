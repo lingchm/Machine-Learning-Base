{
  "nbformat": 4,
  "nbformat_minor": 0,
  "metadata": {
    "colab": {
      "name": "A_Facial Recognition with SVM.ipynb",
      "provenance": [],
      "include_colab_link": true
    },
    "kernelspec": {
      "name": "python3",
      "display_name": "Python 3"
    },
    "language_info": {
      "name": "python"
    }
  },
  "cells": [
    {
      "cell_type": "markdown",
      "metadata": {
        "id": "view-in-github",
        "colab_type": "text"
      },
      "source": [
        "<a href=\"https://colab.research.google.com/github/lingchm/datascience/blob/master/exercises/A_Facial_Recognition_with_SVM.ipynb\" target=\"_parent\"><img src=\"https://colab.research.google.com/assets/colab-badge.svg\" alt=\"Open In Colab\"/></a>"
      ]
    },
    {
      "cell_type": "markdown",
      "metadata": {
        "id": "ejok_JTAZteE"
      },
      "source": [
        "# Facial Recognition with SVM\n",
        "\n",
        "The goal of this exercise is to get familiar with SVM and apply to a facial recognition task."
      ]
    },
    {
      "cell_type": "markdown",
      "metadata": {
        "id": "OM5I0ICo10pN"
      },
      "source": [
        "## Preparation and Dataset"
      ]
    },
    {
      "cell_type": "code",
      "metadata": {
        "id": "XXlH2dHh10pK"
      },
      "source": [
        "import numpy as np\n",
        "import time\n",
        "from scipy.stats import sem\n",
        "from sklearn.model_selection import train_test_split, cross_val_score, KFold, GridSearchCV\n",
        "from sklearn.svm import SVC\n",
        "from sklearn.metrics import classification_report, confusion_matrix\n",
        "import matplotlib.pyplot as plt"
      ],
      "execution_count": 5,
      "outputs": []
    },
    {
      "cell_type": "code",
      "metadata": {
        "id": "5Tkxk0vM10pN",
        "colab": {
          "base_uri": "https://localhost:8080/"
        },
        "outputId": "3deab7c6-e2b0-461f-eb15-22e97ca96c5f"
      },
      "source": [
        "from sklearn.datasets import fetch_olivetti_faces\n",
        "faces = fetch_olivetti_faces() # download the dataset at ~/scikit_learn_data\n",
        "print(\"Keys:\", faces.keys()) # display keys\n",
        "print(\"Total samples and image size:\", faces.images.shape)\n",
        "print(\"Total samples and features:\", faces.data.shape)\n",
        "print(\"Total samples and targets:\", faces.target.shape)"
      ],
      "execution_count": 8,
      "outputs": [
        {
          "output_type": "stream",
          "text": [
            "downloading Olivetti faces from https://ndownloader.figshare.com/files/5976027 to /root/scikit_learn_data\n",
            "Keys: dict_keys(['data', 'images', 'target', 'DESCR'])\n",
            "Total samples and image size: (400, 64, 64)\n",
            "Total samples and features: (400, 4096)\n",
            "Total samples and targets: (400,)\n"
          ],
          "name": "stdout"
        }
      ]
    },
    {
      "cell_type": "code",
      "metadata": {
        "id": "i9qdq6hO2pr0",
        "colab": {
          "base_uri": "https://localhost:8080/"
        },
        "outputId": "d5b36093-d57b-4b8a-cfe6-bb27eb46eb58"
      },
      "source": [
        "def evaluate_cross_validation(cld, X, y, K):\n",
        "\n",
        "\n",
        "def train_and_evaluate()"
      ],
      "execution_count": 9,
      "outputs": [
        {
          "output_type": "execute_result",
          "data": {
            "text/plain": [
              "{'DESCR': '.. _olivetti_faces_dataset:\\n\\nThe Olivetti faces dataset\\n--------------------------\\n\\n`This dataset contains a set of face images`_ taken between April 1992 and \\nApril 1994 at AT&T Laboratories Cambridge. The\\n:func:`sklearn.datasets.fetch_olivetti_faces` function is the data\\nfetching / caching function that downloads the data\\narchive from AT&T.\\n\\n.. _This dataset contains a set of face images: http://www.cl.cam.ac.uk/research/dtg/attarchive/facedatabase.html\\n\\nAs described on the original website:\\n\\n    There are ten different images of each of 40 distinct subjects. For some\\n    subjects, the images were taken at different times, varying the lighting,\\n    facial expressions (open / closed eyes, smiling / not smiling) and facial\\n    details (glasses / no glasses). All the images were taken against a dark\\n    homogeneous background with the subjects in an upright, frontal position \\n    (with tolerance for some side movement).\\n\\n**Data Set Characteristics:**\\n\\n    =================   =====================\\n    Classes                                40\\n    Samples total                         400\\n    Dimensionality                       4096\\n    Features            real, between 0 and 1\\n    =================   =====================\\n\\nThe image is quantized to 256 grey levels and stored as unsigned 8-bit \\nintegers; the loader will convert these to floating point values on the \\ninterval [0, 1], which are easier to work with for many algorithms.\\n\\nThe \"target\" for this database is an integer from 0 to 39 indicating the\\nidentity of the person pictured; however, with only 10 examples per class, this\\nrelatively small dataset is more interesting from an unsupervised or\\nsemi-supervised perspective.\\n\\nThe original dataset consisted of 92 x 112, while the version available here\\nconsists of 64x64 images.\\n\\nWhen using these images, please give credit to AT&T Laboratories Cambridge.\\n',\n",
              " 'data': array([[0.30991736, 0.3677686 , 0.41735536, ..., 0.15289256, 0.16115703,\n",
              "         0.1570248 ],\n",
              "        [0.45454547, 0.47107437, 0.5123967 , ..., 0.15289256, 0.15289256,\n",
              "         0.15289256],\n",
              "        [0.3181818 , 0.40082645, 0.49173555, ..., 0.14049587, 0.14876033,\n",
              "         0.15289256],\n",
              "        ...,\n",
              "        [0.5       , 0.53305787, 0.607438  , ..., 0.17768595, 0.14876033,\n",
              "         0.19008264],\n",
              "        [0.21487603, 0.21900827, 0.21900827, ..., 0.57438016, 0.59090906,\n",
              "         0.60330576],\n",
              "        [0.5165289 , 0.46280992, 0.28099173, ..., 0.35950413, 0.3553719 ,\n",
              "         0.38429752]], dtype=float32),\n",
              " 'images': array([[[0.30991736, 0.3677686 , 0.41735536, ..., 0.37190083,\n",
              "          0.3305785 , 0.30578512],\n",
              "         [0.3429752 , 0.40495867, 0.43801653, ..., 0.37190083,\n",
              "          0.338843  , 0.3140496 ],\n",
              "         [0.3429752 , 0.41735536, 0.45041323, ..., 0.38016528,\n",
              "          0.338843  , 0.29752067],\n",
              "         ...,\n",
              "         [0.21487603, 0.20661157, 0.2231405 , ..., 0.15289256,\n",
              "          0.16528925, 0.17355372],\n",
              "         [0.20247933, 0.2107438 , 0.2107438 , ..., 0.14876033,\n",
              "          0.16115703, 0.16528925],\n",
              "         [0.20247933, 0.20661157, 0.20247933, ..., 0.15289256,\n",
              "          0.16115703, 0.1570248 ]],\n",
              " \n",
              "        [[0.45454547, 0.47107437, 0.5123967 , ..., 0.19008264,\n",
              "          0.18595041, 0.18595041],\n",
              "         [0.446281  , 0.48347107, 0.5206612 , ..., 0.21487603,\n",
              "          0.2107438 , 0.2107438 ],\n",
              "         [0.49586776, 0.5165289 , 0.53305787, ..., 0.20247933,\n",
              "          0.20661157, 0.20661157],\n",
              "         ...,\n",
              "         [0.77272725, 0.78099173, 0.7933884 , ..., 0.1446281 ,\n",
              "          0.1446281 , 0.1446281 ],\n",
              "         [0.77272725, 0.7768595 , 0.7892562 , ..., 0.13636364,\n",
              "          0.13636364, 0.13636364],\n",
              "         [0.7644628 , 0.7892562 , 0.78099173, ..., 0.15289256,\n",
              "          0.15289256, 0.15289256]],\n",
              " \n",
              "        [[0.3181818 , 0.40082645, 0.49173555, ..., 0.40082645,\n",
              "          0.3553719 , 0.30991736],\n",
              "         [0.30991736, 0.3966942 , 0.47933885, ..., 0.40495867,\n",
              "          0.37603307, 0.30165288],\n",
              "         [0.26859504, 0.34710744, 0.45454547, ..., 0.3966942 ,\n",
              "          0.37190083, 0.30991736],\n",
              "         ...,\n",
              "         [0.1322314 , 0.09917355, 0.08264463, ..., 0.13636364,\n",
              "          0.14876033, 0.15289256],\n",
              "         [0.11570248, 0.09504132, 0.0785124 , ..., 0.1446281 ,\n",
              "          0.1446281 , 0.1570248 ],\n",
              "         [0.11157025, 0.09090909, 0.0785124 , ..., 0.14049587,\n",
              "          0.14876033, 0.15289256]],\n",
              " \n",
              "        ...,\n",
              " \n",
              "        [[0.5       , 0.53305787, 0.607438  , ..., 0.28512397,\n",
              "          0.23966943, 0.21487603],\n",
              "         [0.49173555, 0.5413223 , 0.60330576, ..., 0.29752067,\n",
              "          0.20247933, 0.20661157],\n",
              "         [0.46694216, 0.55785125, 0.6198347 , ..., 0.29752067,\n",
              "          0.17768595, 0.18595041],\n",
              "         ...,\n",
              "         [0.03305785, 0.46280992, 0.5289256 , ..., 0.17355372,\n",
              "          0.17355372, 0.1694215 ],\n",
              "         [0.1570248 , 0.5247934 , 0.53305787, ..., 0.16528925,\n",
              "          0.1570248 , 0.18595041],\n",
              "         [0.45454547, 0.5206612 , 0.53305787, ..., 0.17768595,\n",
              "          0.14876033, 0.19008264]],\n",
              " \n",
              "        [[0.21487603, 0.21900827, 0.21900827, ..., 0.71487606,\n",
              "          0.71487606, 0.6942149 ],\n",
              "         [0.20247933, 0.20661157, 0.20661157, ..., 0.7107438 ,\n",
              "          0.7066116 , 0.6942149 ],\n",
              "         [0.2107438 , 0.20661157, 0.20661157, ..., 0.6859504 ,\n",
              "          0.69008267, 0.6942149 ],\n",
              "         ...,\n",
              "         [0.2644628 , 0.25619835, 0.2603306 , ..., 0.5413223 ,\n",
              "          0.57438016, 0.59090906],\n",
              "         [0.26859504, 0.2644628 , 0.26859504, ..., 0.56198347,\n",
              "          0.58264464, 0.59504133],\n",
              "         [0.27272728, 0.26859504, 0.27272728, ..., 0.57438016,\n",
              "          0.59090906, 0.60330576]],\n",
              " \n",
              "        [[0.5165289 , 0.46280992, 0.28099173, ..., 0.5785124 ,\n",
              "          0.5413223 , 0.60330576],\n",
              "         [0.5165289 , 0.45041323, 0.29338843, ..., 0.58264464,\n",
              "          0.553719  , 0.5785124 ],\n",
              "         [0.5165289 , 0.44214877, 0.29338843, ..., 0.59917355,\n",
              "          0.5785124 , 0.54545456],\n",
              "         ...,\n",
              "         [0.39256197, 0.41322315, 0.38842976, ..., 0.33471075,\n",
              "          0.37190083, 0.3966942 ],\n",
              "         [0.39256197, 0.38429752, 0.40495867, ..., 0.3305785 ,\n",
              "          0.35950413, 0.37603307],\n",
              "         [0.3677686 , 0.40495867, 0.3966942 , ..., 0.35950413,\n",
              "          0.3553719 , 0.38429752]]], dtype=float32),\n",
              " 'target': array([ 0,  0,  0,  0,  0,  0,  0,  0,  0,  0,  1,  1,  1,  1,  1,  1,  1,\n",
              "         1,  1,  1,  2,  2,  2,  2,  2,  2,  2,  2,  2,  2,  3,  3,  3,  3,\n",
              "         3,  3,  3,  3,  3,  3,  4,  4,  4,  4,  4,  4,  4,  4,  4,  4,  5,\n",
              "         5,  5,  5,  5,  5,  5,  5,  5,  5,  6,  6,  6,  6,  6,  6,  6,  6,\n",
              "         6,  6,  7,  7,  7,  7,  7,  7,  7,  7,  7,  7,  8,  8,  8,  8,  8,\n",
              "         8,  8,  8,  8,  8,  9,  9,  9,  9,  9,  9,  9,  9,  9,  9, 10, 10,\n",
              "        10, 10, 10, 10, 10, 10, 10, 10, 11, 11, 11, 11, 11, 11, 11, 11, 11,\n",
              "        11, 12, 12, 12, 12, 12, 12, 12, 12, 12, 12, 13, 13, 13, 13, 13, 13,\n",
              "        13, 13, 13, 13, 14, 14, 14, 14, 14, 14, 14, 14, 14, 14, 15, 15, 15,\n",
              "        15, 15, 15, 15, 15, 15, 15, 16, 16, 16, 16, 16, 16, 16, 16, 16, 16,\n",
              "        17, 17, 17, 17, 17, 17, 17, 17, 17, 17, 18, 18, 18, 18, 18, 18, 18,\n",
              "        18, 18, 18, 19, 19, 19, 19, 19, 19, 19, 19, 19, 19, 20, 20, 20, 20,\n",
              "        20, 20, 20, 20, 20, 20, 21, 21, 21, 21, 21, 21, 21, 21, 21, 21, 22,\n",
              "        22, 22, 22, 22, 22, 22, 22, 22, 22, 23, 23, 23, 23, 23, 23, 23, 23,\n",
              "        23, 23, 24, 24, 24, 24, 24, 24, 24, 24, 24, 24, 25, 25, 25, 25, 25,\n",
              "        25, 25, 25, 25, 25, 26, 26, 26, 26, 26, 26, 26, 26, 26, 26, 27, 27,\n",
              "        27, 27, 27, 27, 27, 27, 27, 27, 28, 28, 28, 28, 28, 28, 28, 28, 28,\n",
              "        28, 29, 29, 29, 29, 29, 29, 29, 29, 29, 29, 30, 30, 30, 30, 30, 30,\n",
              "        30, 30, 30, 30, 31, 31, 31, 31, 31, 31, 31, 31, 31, 31, 32, 32, 32,\n",
              "        32, 32, 32, 32, 32, 32, 32, 33, 33, 33, 33, 33, 33, 33, 33, 33, 33,\n",
              "        34, 34, 34, 34, 34, 34, 34, 34, 34, 34, 35, 35, 35, 35, 35, 35, 35,\n",
              "        35, 35, 35, 36, 36, 36, 36, 36, 36, 36, 36, 36, 36, 37, 37, 37, 37,\n",
              "        37, 37, 37, 37, 37, 37, 38, 38, 38, 38, 38, 38, 38, 38, 38, 38, 39,\n",
              "        39, 39, 39, 39, 39, 39, 39, 39, 39])}"
            ]
          },
          "metadata": {
            "tags": []
          },
          "execution_count": 9
        }
      ]
    },
    {
      "cell_type": "code",
      "metadata": {
        "id": "wkoh6UWgaecE"
      },
      "source": [
        ""
      ],
      "execution_count": null,
      "outputs": []
    }
  ]
}