{
  "nbformat": 4,
  "nbformat_minor": 0,
  "metadata": {
    "colab": {
      "name": "Classification_Exercise.ipynb",
      "provenance": [],
      "collapsed_sections": [],
      "toc_visible": true,
      "authorship_tag": "ABX9TyOctzYpgwwEsPcaw3hGUswu",
      "include_colab_link": true
    },
    "kernelspec": {
      "name": "python3",
      "display_name": "Python 3"
    }
  },
  "cells": [
    {
      "cell_type": "markdown",
      "metadata": {
        "id": "view-in-github",
        "colab_type": "text"
      },
      "source": [
        "<a href=\"https://colab.research.google.com/github/lingchm/datascience/blob/master/Classification_Exercise.ipynb\" target=\"_parent\"><img src=\"https://colab.research.google.com/assets/colab-badge.svg\" alt=\"Open In Colab\"/></a>"
      ]
    },
    {
      "cell_type": "markdown",
      "metadata": {
        "id": "ISxBNvp7UgPC"
      },
      "source": [
        "# Classification Exercise\n",
        "\n",
        "The goal of this exercise is to implement different machine learning classification algorithms on a mock dataset. \n",
        "\n",
        "The feature selection techniques tested include:\n",
        "* Correlation\n",
        "* ANOVA F-tests\n",
        "* PCA\n",
        "\n",
        "The algorithms tested for single-label classification include\n",
        "* Logistic regression - with regularization\n",
        "* Naive Bayes \n",
        "* KNN\n",
        "* Decision Tree\n",
        "* Random Forest\n",
        "* XGBoost\n",
        "* SVM\n",
        "\n",
        "The algorithms tested for multi-label classification include:\n",
        "* Binary Relevance (LASSO Log Regression based)\n",
        "* Classifier Chain (LASSO Log Regression based)\n",
        "* Label Powerset (LASSO Log Regression based)\n",
        "* ML-kNN\n",
        "* Decision Tree\n",
        "* SVM with OneVsRest\n",
        "\n",
        "\n",
        "\n",
        "---\n",
        "\n"
      ]
    },
    {
      "cell_type": "markdown",
      "metadata": {
        "id": "OXeNvQTkE7Em"
      },
      "source": [
        "# Preprocessing\n",
        "\n",
        "Dataset overview:\n",
        "* 2 yi response variables\n",
        " * y1 is binary with 37% of ones\n",
        " * y2 has tree classes with a quite balanced proportion of each\n",
        "* 339 features\n",
        " * 3 zi categorical variables\n",
        " * 336 xi numerical variables with varied values ranges\n",
        "* 111 rows \n",
        "* no missing values\n",
        "\n",
        "In this section, we split data into training (80%) and testing (20%). We then performed feature standardization. In the following sections, features selection and modeling were done on the training set; and performance evaluated on the testing set. Note that usually we do some visualization plots to see any obvious patterns in the data. Assuming that this is mock dataset and there is no hidden patterns, we will proceed directly to classification models.\n",
        "\n",
        "\n",
        "\n",
        "\n"
      ]
    },
    {
      "cell_type": "code",
      "metadata": {
        "id": "ppbYOPGfFgpe"
      },
      "source": [
        "import pandas as pd\n",
        "import numpy as np\n",
        "import random\n",
        "random.seed(0)"
      ],
      "execution_count": null,
      "outputs": []
    },
    {
      "cell_type": "code",
      "metadata": {
        "id": "8GB0YMfWFPhW",
        "outputId": "6ba003ff-d37d-448e-e1bb-732d57e8d91f",
        "colab": {
          "resources": {
            "http://localhost:8080/nbextensions/google.colab/files.js": {
              "data": "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",
              "ok": true,
              "headers": [
                [
                  "content-type",
                  "application/javascript"
                ]
              ],
              "status": 200,
              "status_text": "OK"
            }
          },
          "base_uri": "https://localhost:8080/",
          "height": 497
        }
      },
      "source": [
        "# upload data\n",
        "from google.colab import files\n",
        "uploaded = files.upload()\n",
        "import io\n",
        "df = pd.read_csv(io.BytesIO(uploaded['Data.csv']))\n",
        "m, n = df.shape # SampleID is also here\n",
        "n = n - 3\n",
        "df"
      ],
      "execution_count": null,
      "outputs": [
        {
          "output_type": "display_data",
          "data": {
            "text/html": [
              "\n",
              "     <input type=\"file\" id=\"files-027d81da-510e-41b2-9114-5a43c11f2bd5\" name=\"files[]\" multiple disabled\n",
              "        style=\"border:none\" />\n",
              "     <output id=\"result-027d81da-510e-41b2-9114-5a43c11f2bd5\">\n",
              "      Upload widget is only available when the cell has been executed in the\n",
              "      current browser session. Please rerun this cell to enable.\n",
              "      </output>\n",
              "      <script src=\"/nbextensions/google.colab/files.js\"></script> "
            ],
            "text/plain": [
              "<IPython.core.display.HTML object>"
            ]
          },
          "metadata": {
            "tags": []
          }
        },
        {
          "output_type": "stream",
          "text": [
            "Saving Data.csv to Data (1).csv\n"
          ],
          "name": "stdout"
        },
        {
          "output_type": "execute_result",
          "data": {
            "text/html": [
              "<div>\n",
              "<style scoped>\n",
              "    .dataframe tbody tr th:only-of-type {\n",
              "        vertical-align: middle;\n",
              "    }\n",
              "\n",
              "    .dataframe tbody tr th {\n",
              "        vertical-align: top;\n",
              "    }\n",
              "\n",
              "    .dataframe thead th {\n",
              "        text-align: right;\n",
              "    }\n",
              "</style>\n",
              "<table border=\"1\" class=\"dataframe\">\n",
              "  <thead>\n",
              "    <tr style=\"text-align: right;\">\n",
              "      <th></th>\n",
              "      <th>SampleID</th>\n",
              "      <th>y1</th>\n",
              "      <th>y2</th>\n",
              "      <th>z1</th>\n",
              "      <th>z2</th>\n",
              "      <th>z3</th>\n",
              "      <th>x1</th>\n",
              "      <th>x2</th>\n",
              "      <th>x3</th>\n",
              "      <th>x4</th>\n",
              "      <th>x5</th>\n",
              "      <th>x6</th>\n",
              "      <th>x7</th>\n",
              "      <th>x8</th>\n",
              "      <th>x9</th>\n",
              "      <th>x10</th>\n",
              "      <th>x11</th>\n",
              "      <th>x12</th>\n",
              "      <th>x13</th>\n",
              "      <th>x14</th>\n",
              "      <th>x15</th>\n",
              "      <th>x16</th>\n",
              "      <th>x17</th>\n",
              "      <th>x18</th>\n",
              "      <th>x19</th>\n",
              "      <th>x20</th>\n",
              "      <th>x21</th>\n",
              "      <th>x22</th>\n",
              "      <th>x23</th>\n",
              "      <th>x24</th>\n",
              "      <th>x25</th>\n",
              "      <th>x26</th>\n",
              "      <th>x27</th>\n",
              "      <th>x28</th>\n",
              "      <th>x29</th>\n",
              "      <th>x30</th>\n",
              "      <th>x31</th>\n",
              "      <th>x32</th>\n",
              "      <th>x33</th>\n",
              "      <th>x34</th>\n",
              "      <th>...</th>\n",
              "      <th>x297</th>\n",
              "      <th>x298</th>\n",
              "      <th>x299</th>\n",
              "      <th>x300</th>\n",
              "      <th>x301</th>\n",
              "      <th>x302</th>\n",
              "      <th>x303</th>\n",
              "      <th>x304</th>\n",
              "      <th>x305</th>\n",
              "      <th>x306</th>\n",
              "      <th>x307</th>\n",
              "      <th>x308</th>\n",
              "      <th>x309</th>\n",
              "      <th>x310</th>\n",
              "      <th>x311</th>\n",
              "      <th>x312</th>\n",
              "      <th>x313</th>\n",
              "      <th>x314</th>\n",
              "      <th>x315</th>\n",
              "      <th>x316</th>\n",
              "      <th>x317</th>\n",
              "      <th>x318</th>\n",
              "      <th>x319</th>\n",
              "      <th>x320</th>\n",
              "      <th>x321</th>\n",
              "      <th>x322</th>\n",
              "      <th>x323</th>\n",
              "      <th>x324</th>\n",
              "      <th>x325</th>\n",
              "      <th>x326</th>\n",
              "      <th>x327</th>\n",
              "      <th>x328</th>\n",
              "      <th>x329</th>\n",
              "      <th>x330</th>\n",
              "      <th>x331</th>\n",
              "      <th>x332</th>\n",
              "      <th>x333</th>\n",
              "      <th>x334</th>\n",
              "      <th>x335</th>\n",
              "      <th>x336</th>\n",
              "    </tr>\n",
              "  </thead>\n",
              "  <tbody>\n",
              "    <tr>\n",
              "      <th>0</th>\n",
              "      <td>1</td>\n",
              "      <td>0</td>\n",
              "      <td>2</td>\n",
              "      <td>1</td>\n",
              "      <td>0</td>\n",
              "      <td>1</td>\n",
              "      <td>0.018727</td>\n",
              "      <td>10.812500</td>\n",
              "      <td>0.756401</td>\n",
              "      <td>22.239814</td>\n",
              "      <td>0.322065</td>\n",
              "      <td>147.345663</td>\n",
              "      <td>78.146755</td>\n",
              "      <td>4.469050</td>\n",
              "      <td>5.965635</td>\n",
              "      <td>0.001913</td>\n",
              "      <td>2.713198</td>\n",
              "      <td>-0.452420</td>\n",
              "      <td>0.983692</td>\n",
              "      <td>0.020316</td>\n",
              "      <td>55.00250</td>\n",
              "      <td>-0.106614</td>\n",
              "      <td>24.871684</td>\n",
              "      <td>0.158884</td>\n",
              "      <td>147.51500</td>\n",
              "      <td>44.484237</td>\n",
              "      <td>3.962403</td>\n",
              "      <td>5.727206</td>\n",
              "      <td>0.001049</td>\n",
              "      <td>3.490549</td>\n",
              "      <td>-0.504573</td>\n",
              "      <td>0.988784</td>\n",
              "      <td>0.455486</td>\n",
              "      <td>0.257462</td>\n",
              "      <td>0.411071</td>\n",
              "      <td>0.233991</td>\n",
              "      <td>0.370202</td>\n",
              "      <td>0.212352</td>\n",
              "      <td>0.353408</td>\n",
              "      <td>0.190457</td>\n",
              "      <td>...</td>\n",
              "      <td>58.041222</td>\n",
              "      <td>0.130578</td>\n",
              "      <td>229.73000</td>\n",
              "      <td>131.602387</td>\n",
              "      <td>4.255559</td>\n",
              "      <td>5.840392</td>\n",
              "      <td>0.000644</td>\n",
              "      <td>3.622651</td>\n",
              "      <td>-0.661224</td>\n",
              "      <td>0.998234</td>\n",
              "      <td>1.441117</td>\n",
              "      <td>0.414487</td>\n",
              "      <td>1.299091</td>\n",
              "      <td>0.376787</td>\n",
              "      <td>1.168484</td>\n",
              "      <td>0.342067</td>\n",
              "      <td>1.127765</td>\n",
              "      <td>0.307083</td>\n",
              "      <td>0.528432</td>\n",
              "      <td>0.152772</td>\n",
              "      <td>0.173240</td>\n",
              "      <td>0.058648</td>\n",
              "      <td>1.243793</td>\n",
              "      <td>0.362185</td>\n",
              "      <td>0.679973</td>\n",
              "      <td>0.348910</td>\n",
              "      <td>1.000000</td>\n",
              "      <td>1.134647</td>\n",
              "      <td>107.404730</td>\n",
              "      <td>0.259827</td>\n",
              "      <td>0.322045</td>\n",
              "      <td>107.404730</td>\n",
              "      <td>1.962986</td>\n",
              "      <td>1.295453</td>\n",
              "      <td>1.757529</td>\n",
              "      <td>0.705076</td>\n",
              "      <td>0.000000e+00</td>\n",
              "      <td>1.257910</td>\n",
              "      <td>0.830042</td>\n",
              "      <td>1.757267</td>\n",
              "    </tr>\n",
              "    <tr>\n",
              "      <th>1</th>\n",
              "      <td>2</td>\n",
              "      <td>0</td>\n",
              "      <td>2</td>\n",
              "      <td>1</td>\n",
              "      <td>0</td>\n",
              "      <td>1</td>\n",
              "      <td>0.013118</td>\n",
              "      <td>25.979592</td>\n",
              "      <td>0.693347</td>\n",
              "      <td>42.471739</td>\n",
              "      <td>0.232407</td>\n",
              "      <td>128.955357</td>\n",
              "      <td>143.907366</td>\n",
              "      <td>4.790603</td>\n",
              "      <td>6.358148</td>\n",
              "      <td>0.001495</td>\n",
              "      <td>3.130454</td>\n",
              "      <td>-0.552370</td>\n",
              "      <td>0.996052</td>\n",
              "      <td>0.018988</td>\n",
              "      <td>89.84375</td>\n",
              "      <td>-0.033971</td>\n",
              "      <td>43.462836</td>\n",
              "      <td>0.098296</td>\n",
              "      <td>129.39125</td>\n",
              "      <td>84.007594</td>\n",
              "      <td>4.288358</td>\n",
              "      <td>5.817892</td>\n",
              "      <td>0.000900</td>\n",
              "      <td>3.728859</td>\n",
              "      <td>-0.658813</td>\n",
              "      <td>0.998204</td>\n",
              "      <td>0.037640</td>\n",
              "      <td>0.342979</td>\n",
              "      <td>0.031322</td>\n",
              "      <td>0.312781</td>\n",
              "      <td>0.025637</td>\n",
              "      <td>0.284930</td>\n",
              "      <td>0.045776</td>\n",
              "      <td>0.248285</td>\n",
              "      <td>...</td>\n",
              "      <td>149.873592</td>\n",
              "      <td>0.098640</td>\n",
              "      <td>190.73875</td>\n",
              "      <td>349.533119</td>\n",
              "      <td>4.578125</td>\n",
              "      <td>5.841642</td>\n",
              "      <td>0.000579</td>\n",
              "      <td>3.845497</td>\n",
              "      <td>-0.699760</td>\n",
              "      <td>0.998991</td>\n",
              "      <td>0.419882</td>\n",
              "      <td>0.720626</td>\n",
              "      <td>0.377556</td>\n",
              "      <td>0.653600</td>\n",
              "      <td>0.338680</td>\n",
              "      <td>0.591904</td>\n",
              "      <td>0.334672</td>\n",
              "      <td>0.542207</td>\n",
              "      <td>0.153604</td>\n",
              "      <td>0.264932</td>\n",
              "      <td>0.048448</td>\n",
              "      <td>0.097492</td>\n",
              "      <td>0.361063</td>\n",
              "      <td>0.627613</td>\n",
              "      <td>0.804977</td>\n",
              "      <td>1.047531</td>\n",
              "      <td>0.517578</td>\n",
              "      <td>0.238046</td>\n",
              "      <td>33.552931</td>\n",
              "      <td>0.351454</td>\n",
              "      <td>0.503824</td>\n",
              "      <td>33.552931</td>\n",
              "      <td>2.154299</td>\n",
              "      <td>0.724061</td>\n",
              "      <td>1.173643</td>\n",
              "      <td>-0.348824</td>\n",
              "      <td>9.744894e-01</td>\n",
              "      <td>2.503124</td>\n",
              "      <td>-0.284387</td>\n",
              "      <td>3.581636</td>\n",
              "    </tr>\n",
              "    <tr>\n",
              "      <th>2</th>\n",
              "      <td>3</td>\n",
              "      <td>0</td>\n",
              "      <td>2</td>\n",
              "      <td>1</td>\n",
              "      <td>0</td>\n",
              "      <td>1</td>\n",
              "      <td>0.014411</td>\n",
              "      <td>18.674745</td>\n",
              "      <td>0.639091</td>\n",
              "      <td>26.254285</td>\n",
              "      <td>0.270639</td>\n",
              "      <td>118.672194</td>\n",
              "      <td>86.342393</td>\n",
              "      <td>4.680475</td>\n",
              "      <td>6.262459</td>\n",
              "      <td>0.001843</td>\n",
              "      <td>2.996819</td>\n",
              "      <td>-0.478239</td>\n",
              "      <td>0.989739</td>\n",
              "      <td>0.019916</td>\n",
              "      <td>66.53625</td>\n",
              "      <td>-0.236689</td>\n",
              "      <td>27.062830</td>\n",
              "      <td>0.131179</td>\n",
              "      <td>118.73375</td>\n",
              "      <td>41.715069</td>\n",
              "      <td>3.913942</td>\n",
              "      <td>5.747206</td>\n",
              "      <td>0.001191</td>\n",
              "      <td>3.512493</td>\n",
              "      <td>-0.590937</td>\n",
              "      <td>0.995766</td>\n",
              "      <td>-0.238853</td>\n",
              "      <td>0.267585</td>\n",
              "      <td>-0.217700</td>\n",
              "      <td>0.244126</td>\n",
              "      <td>-0.198134</td>\n",
              "      <td>0.222487</td>\n",
              "      <td>-0.172192</td>\n",
              "      <td>0.192813</td>\n",
              "      <td>...</td>\n",
              "      <td>104.277344</td>\n",
              "      <td>0.087705</td>\n",
              "      <td>189.19750</td>\n",
              "      <td>212.919375</td>\n",
              "      <td>4.291986</td>\n",
              "      <td>5.829142</td>\n",
              "      <td>0.000485</td>\n",
              "      <td>4.031572</td>\n",
              "      <td>-0.681458</td>\n",
              "      <td>0.998754</td>\n",
              "      <td>0.415104</td>\n",
              "      <td>0.601647</td>\n",
              "      <td>0.370800</td>\n",
              "      <td>0.547535</td>\n",
              "      <td>0.330221</td>\n",
              "      <td>0.497699</td>\n",
              "      <td>0.345955</td>\n",
              "      <td>0.442737</td>\n",
              "      <td>0.151359</td>\n",
              "      <td>0.222073</td>\n",
              "      <td>0.042390</td>\n",
              "      <td>0.087330</td>\n",
              "      <td>0.353497</td>\n",
              "      <td>0.526579</td>\n",
              "      <td>0.556228</td>\n",
              "      <td>1.260504</td>\n",
              "      <td>0.658203</td>\n",
              "      <td>0.178006</td>\n",
              "      <td>25.743694</td>\n",
              "      <td>0.247866</td>\n",
              "      <td>0.406830</td>\n",
              "      <td>25.743694</td>\n",
              "      <td>1.866083</td>\n",
              "      <td>0.634228</td>\n",
              "      <td>1.065046</td>\n",
              "      <td>-0.373406</td>\n",
              "      <td>7.578785e-01</td>\n",
              "      <td>2.239489</td>\n",
              "      <td>-0.135308</td>\n",
              "      <td>4.152148</td>\n",
              "    </tr>\n",
              "    <tr>\n",
              "      <th>3</th>\n",
              "      <td>4</td>\n",
              "      <td>0</td>\n",
              "      <td>2</td>\n",
              "      <td>1</td>\n",
              "      <td>0</td>\n",
              "      <td>1</td>\n",
              "      <td>0.023381</td>\n",
              "      <td>9.346301</td>\n",
              "      <td>0.729793</td>\n",
              "      <td>17.153855</td>\n",
              "      <td>0.348273</td>\n",
              "      <td>164.609056</td>\n",
              "      <td>59.269118</td>\n",
              "      <td>4.297778</td>\n",
              "      <td>5.778610</td>\n",
              "      <td>0.001993</td>\n",
              "      <td>2.582917</td>\n",
              "      <td>-0.423454</td>\n",
              "      <td>0.976676</td>\n",
              "      <td>0.024362</td>\n",
              "      <td>45.15875</td>\n",
              "      <td>-0.316249</td>\n",
              "      <td>17.079223</td>\n",
              "      <td>0.128227</td>\n",
              "      <td>165.00875</td>\n",
              "      <td>23.158144</td>\n",
              "      <td>3.587157</td>\n",
              "      <td>5.548971</td>\n",
              "      <td>0.001260</td>\n",
              "      <td>3.246588</td>\n",
              "      <td>-0.492422</td>\n",
              "      <td>0.985692</td>\n",
              "      <td>0.911376</td>\n",
              "      <td>0.220230</td>\n",
              "      <td>0.821642</td>\n",
              "      <td>0.201861</td>\n",
              "      <td>0.739115</td>\n",
              "      <td>0.184860</td>\n",
              "      <td>0.712715</td>\n",
              "      <td>0.152948</td>\n",
              "      <td>...</td>\n",
              "      <td>51.182484</td>\n",
              "      <td>0.125964</td>\n",
              "      <td>215.86750</td>\n",
              "      <td>103.112437</td>\n",
              "      <td>4.290809</td>\n",
              "      <td>5.880392</td>\n",
              "      <td>0.000715</td>\n",
              "      <td>3.530606</td>\n",
              "      <td>-0.660485</td>\n",
              "      <td>0.998337</td>\n",
              "      <td>1.115815</td>\n",
              "      <td>0.388882</td>\n",
              "      <td>1.005149</td>\n",
              "      <td>0.354094</td>\n",
              "      <td>0.903411</td>\n",
              "      <td>0.322000</td>\n",
              "      <td>0.877550</td>\n",
              "      <td>0.283774</td>\n",
              "      <td>0.408945</td>\n",
              "      <td>0.143718</td>\n",
              "      <td>0.132653</td>\n",
              "      <td>0.056402</td>\n",
              "      <td>0.962047</td>\n",
              "      <td>0.340607</td>\n",
              "      <td>0.425628</td>\n",
              "      <td>-0.014371</td>\n",
              "      <td>1.000000</td>\n",
              "      <td>0.985288</td>\n",
              "      <td>66.659063</td>\n",
              "      <td>0.180535</td>\n",
              "      <td>0.270890</td>\n",
              "      <td>66.659063</td>\n",
              "      <td>1.768058</td>\n",
              "      <td>1.020563</td>\n",
              "      <td>1.407764</td>\n",
              "      <td>0.253800</td>\n",
              "      <td>0.000000e+00</td>\n",
              "      <td>1.514258</td>\n",
              "      <td>0.511240</td>\n",
              "      <td>2.727560</td>\n",
              "    </tr>\n",
              "    <tr>\n",
              "      <th>4</th>\n",
              "      <td>5</td>\n",
              "      <td>0</td>\n",
              "      <td>2</td>\n",
              "      <td>1</td>\n",
              "      <td>0</td>\n",
              "      <td>0</td>\n",
              "      <td>0.029926</td>\n",
              "      <td>5.448980</td>\n",
              "      <td>0.641496</td>\n",
              "      <td>7.914013</td>\n",
              "      <td>0.409615</td>\n",
              "      <td>125.413265</td>\n",
              "      <td>26.207072</td>\n",
              "      <td>3.987424</td>\n",
              "      <td>5.475259</td>\n",
              "      <td>0.003574</td>\n",
              "      <td>2.163605</td>\n",
              "      <td>-0.370326</td>\n",
              "      <td>0.955371</td>\n",
              "      <td>0.028084</td>\n",
              "      <td>17.54375</td>\n",
              "      <td>0.003692</td>\n",
              "      <td>8.930355</td>\n",
              "      <td>0.271841</td>\n",
              "      <td>125.33625</td>\n",
              "      <td>18.177669</td>\n",
              "      <td>3.626614</td>\n",
              "      <td>5.357108</td>\n",
              "      <td>0.002005</td>\n",
              "      <td>2.837268</td>\n",
              "      <td>-0.429575</td>\n",
              "      <td>0.970275</td>\n",
              "      <td>-0.090164</td>\n",
              "      <td>0.162219</td>\n",
              "      <td>-0.082164</td>\n",
              "      <td>0.146601</td>\n",
              "      <td>-0.074766</td>\n",
              "      <td>0.132268</td>\n",
              "      <td>-0.065001</td>\n",
              "      <td>0.125415</td>\n",
              "      <td>...</td>\n",
              "      <td>25.963619</td>\n",
              "      <td>0.133014</td>\n",
              "      <td>138.69750</td>\n",
              "      <td>49.739475</td>\n",
              "      <td>3.954538</td>\n",
              "      <td>5.669082</td>\n",
              "      <td>0.001301</td>\n",
              "      <td>3.327085</td>\n",
              "      <td>-0.551474</td>\n",
              "      <td>0.992488</td>\n",
              "      <td>-0.979706</td>\n",
              "      <td>0.293037</td>\n",
              "      <td>-0.884903</td>\n",
              "      <td>0.269678</td>\n",
              "      <td>-0.797640</td>\n",
              "      <td>0.248232</td>\n",
              "      <td>-0.755659</td>\n",
              "      <td>0.202579</td>\n",
              "      <td>-0.359774</td>\n",
              "      <td>0.109119</td>\n",
              "      <td>-0.121569</td>\n",
              "      <td>0.054241</td>\n",
              "      <td>-0.848020</td>\n",
              "      <td>0.260702</td>\n",
              "      <td>0.297791</td>\n",
              "      <td>0.676969</td>\n",
              "      <td>0.969238</td>\n",
              "      <td>-0.873852</td>\n",
              "      <td>50.374648</td>\n",
              "      <td>0.132736</td>\n",
              "      <td>0.203097</td>\n",
              "      <td>50.374648</td>\n",
              "      <td>0.054665</td>\n",
              "      <td>0.887189</td>\n",
              "      <td>-0.565955</td>\n",
              "      <td>-1.377671</td>\n",
              "      <td>1.161151e-01</td>\n",
              "      <td>1.432336</td>\n",
              "      <td>-1.141510</td>\n",
              "      <td>4.300340</td>\n",
              "    </tr>\n",
              "    <tr>\n",
              "      <th>...</th>\n",
              "      <td>...</td>\n",
              "      <td>...</td>\n",
              "      <td>...</td>\n",
              "      <td>...</td>\n",
              "      <td>...</td>\n",
              "      <td>...</td>\n",
              "      <td>...</td>\n",
              "      <td>...</td>\n",
              "      <td>...</td>\n",
              "      <td>...</td>\n",
              "      <td>...</td>\n",
              "      <td>...</td>\n",
              "      <td>...</td>\n",
              "      <td>...</td>\n",
              "      <td>...</td>\n",
              "      <td>...</td>\n",
              "      <td>...</td>\n",
              "      <td>...</td>\n",
              "      <td>...</td>\n",
              "      <td>...</td>\n",
              "      <td>...</td>\n",
              "      <td>...</td>\n",
              "      <td>...</td>\n",
              "      <td>...</td>\n",
              "      <td>...</td>\n",
              "      <td>...</td>\n",
              "      <td>...</td>\n",
              "      <td>...</td>\n",
              "      <td>...</td>\n",
              "      <td>...</td>\n",
              "      <td>...</td>\n",
              "      <td>...</td>\n",
              "      <td>...</td>\n",
              "      <td>...</td>\n",
              "      <td>...</td>\n",
              "      <td>...</td>\n",
              "      <td>...</td>\n",
              "      <td>...</td>\n",
              "      <td>...</td>\n",
              "      <td>...</td>\n",
              "      <td>...</td>\n",
              "      <td>...</td>\n",
              "      <td>...</td>\n",
              "      <td>...</td>\n",
              "      <td>...</td>\n",
              "      <td>...</td>\n",
              "      <td>...</td>\n",
              "      <td>...</td>\n",
              "      <td>...</td>\n",
              "      <td>...</td>\n",
              "      <td>...</td>\n",
              "      <td>...</td>\n",
              "      <td>...</td>\n",
              "      <td>...</td>\n",
              "      <td>...</td>\n",
              "      <td>...</td>\n",
              "      <td>...</td>\n",
              "      <td>...</td>\n",
              "      <td>...</td>\n",
              "      <td>...</td>\n",
              "      <td>...</td>\n",
              "      <td>...</td>\n",
              "      <td>...</td>\n",
              "      <td>...</td>\n",
              "      <td>...</td>\n",
              "      <td>...</td>\n",
              "      <td>...</td>\n",
              "      <td>...</td>\n",
              "      <td>...</td>\n",
              "      <td>...</td>\n",
              "      <td>...</td>\n",
              "      <td>...</td>\n",
              "      <td>...</td>\n",
              "      <td>...</td>\n",
              "      <td>...</td>\n",
              "      <td>...</td>\n",
              "      <td>...</td>\n",
              "      <td>...</td>\n",
              "      <td>...</td>\n",
              "      <td>...</td>\n",
              "      <td>...</td>\n",
              "    </tr>\n",
              "    <tr>\n",
              "      <th>106</th>\n",
              "      <td>107</td>\n",
              "      <td>0</td>\n",
              "      <td>0</td>\n",
              "      <td>0</td>\n",
              "      <td>0</td>\n",
              "      <td>1</td>\n",
              "      <td>0.023634</td>\n",
              "      <td>6.296556</td>\n",
              "      <td>0.824360</td>\n",
              "      <td>18.119504</td>\n",
              "      <td>0.374540</td>\n",
              "      <td>252.538903</td>\n",
              "      <td>66.181459</td>\n",
              "      <td>4.384915</td>\n",
              "      <td>5.645024</td>\n",
              "      <td>0.001589</td>\n",
              "      <td>2.334099</td>\n",
              "      <td>-0.508476</td>\n",
              "      <td>0.988519</td>\n",
              "      <td>0.027106</td>\n",
              "      <td>34.52375</td>\n",
              "      <td>0.151929</td>\n",
              "      <td>19.318292</td>\n",
              "      <td>0.232873</td>\n",
              "      <td>252.58125</td>\n",
              "      <td>42.749419</td>\n",
              "      <td>3.987219</td>\n",
              "      <td>5.433076</td>\n",
              "      <td>0.001129</td>\n",
              "      <td>2.933039</td>\n",
              "      <td>-0.565505</td>\n",
              "      <td>0.990434</td>\n",
              "      <td>0.411542</td>\n",
              "      <td>0.190127</td>\n",
              "      <td>0.370925</td>\n",
              "      <td>0.172865</td>\n",
              "      <td>0.333573</td>\n",
              "      <td>0.156932</td>\n",
              "      <td>0.322433</td>\n",
              "      <td>0.139793</td>\n",
              "      <td>...</td>\n",
              "      <td>7.569897</td>\n",
              "      <td>0.249864</td>\n",
              "      <td>219.23000</td>\n",
              "      <td>13.517088</td>\n",
              "      <td>3.369709</td>\n",
              "      <td>5.290676</td>\n",
              "      <td>0.001185</td>\n",
              "      <td>2.885019</td>\n",
              "      <td>-0.411149</td>\n",
              "      <td>0.966869</td>\n",
              "      <td>1.058271</td>\n",
              "      <td>0.143172</td>\n",
              "      <td>0.953877</td>\n",
              "      <td>0.130934</td>\n",
              "      <td>0.857880</td>\n",
              "      <td>0.119639</td>\n",
              "      <td>0.828975</td>\n",
              "      <td>0.101832</td>\n",
              "      <td>0.387896</td>\n",
              "      <td>0.052942</td>\n",
              "      <td>0.127091</td>\n",
              "      <td>0.022394</td>\n",
              "      <td>0.913229</td>\n",
              "      <td>0.126206</td>\n",
              "      <td>0.157314</td>\n",
              "      <td>-0.041775</td>\n",
              "      <td>1.000000</td>\n",
              "      <td>0.925442</td>\n",
              "      <td>54.394565</td>\n",
              "      <td>0.070158</td>\n",
              "      <td>0.102033</td>\n",
              "      <td>54.394565</td>\n",
              "      <td>1.192382</td>\n",
              "      <td>0.921908</td>\n",
              "      <td>1.082957</td>\n",
              "      <td>0.607680</td>\n",
              "      <td>-3.203427e-16</td>\n",
              "      <td>0.584702</td>\n",
              "      <td>0.762673</td>\n",
              "      <td>2.722661</td>\n",
              "    </tr>\n",
              "    <tr>\n",
              "      <th>107</th>\n",
              "      <td>108</td>\n",
              "      <td>0</td>\n",
              "      <td>2</td>\n",
              "      <td>0</td>\n",
              "      <td>0</td>\n",
              "      <td>1</td>\n",
              "      <td>0.019487</td>\n",
              "      <td>15.258929</td>\n",
              "      <td>0.867544</td>\n",
              "      <td>58.902545</td>\n",
              "      <td>0.263054</td>\n",
              "      <td>307.503827</td>\n",
              "      <td>220.351253</td>\n",
              "      <td>4.706983</td>\n",
              "      <td>5.971698</td>\n",
              "      <td>0.001171</td>\n",
              "      <td>2.618839</td>\n",
              "      <td>-0.580557</td>\n",
              "      <td>0.995754</td>\n",
              "      <td>0.022087</td>\n",
              "      <td>98.51875</td>\n",
              "      <td>0.069577</td>\n",
              "      <td>54.999367</td>\n",
              "      <td>0.117942</td>\n",
              "      <td>307.32875</td>\n",
              "      <td>121.478719</td>\n",
              "      <td>4.173574</td>\n",
              "      <td>5.640956</td>\n",
              "      <td>0.000747</td>\n",
              "      <td>3.164812</td>\n",
              "      <td>-0.658072</td>\n",
              "      <td>0.997857</td>\n",
              "      <td>1.602548</td>\n",
              "      <td>0.345952</td>\n",
              "      <td>1.445833</td>\n",
              "      <td>0.314094</td>\n",
              "      <td>1.301656</td>\n",
              "      <td>0.284714</td>\n",
              "      <td>1.246589</td>\n",
              "      <td>0.257331</td>\n",
              "      <td>...</td>\n",
              "      <td>27.758188</td>\n",
              "      <td>0.113881</td>\n",
              "      <td>249.06500</td>\n",
              "      <td>69.275250</td>\n",
              "      <td>4.141091</td>\n",
              "      <td>5.571826</td>\n",
              "      <td>0.001188</td>\n",
              "      <td>2.758026</td>\n",
              "      <td>-0.620597</td>\n",
              "      <td>0.996377</td>\n",
              "      <td>1.786574</td>\n",
              "      <td>0.278688</td>\n",
              "      <td>1.611370</td>\n",
              "      <td>0.251863</td>\n",
              "      <td>1.450210</td>\n",
              "      <td>0.227193</td>\n",
              "      <td>1.392811</td>\n",
              "      <td>0.214545</td>\n",
              "      <td>0.655245</td>\n",
              "      <td>0.102584</td>\n",
              "      <td>0.216759</td>\n",
              "      <td>0.035620</td>\n",
              "      <td>1.543167</td>\n",
              "      <td>0.241431</td>\n",
              "      <td>0.319328</td>\n",
              "      <td>-0.280388</td>\n",
              "      <td>1.000000</td>\n",
              "      <td>1.590667</td>\n",
              "      <td>156.137785</td>\n",
              "      <td>0.137749</td>\n",
              "      <td>0.196496</td>\n",
              "      <td>156.137785</td>\n",
              "      <td>1.994483</td>\n",
              "      <td>1.561939</td>\n",
              "      <td>1.821100</td>\n",
              "      <td>1.016227</td>\n",
              "      <td>-3.203427e-16</td>\n",
              "      <td>0.978256</td>\n",
              "      <td>1.191520</td>\n",
              "      <td>2.417271</td>\n",
              "    </tr>\n",
              "    <tr>\n",
              "      <th>108</th>\n",
              "      <td>109</td>\n",
              "      <td>0</td>\n",
              "      <td>1</td>\n",
              "      <td>0</td>\n",
              "      <td>0</td>\n",
              "      <td>1</td>\n",
              "      <td>0.010976</td>\n",
              "      <td>85.360332</td>\n",
              "      <td>0.822428</td>\n",
              "      <td>244.068064</td>\n",
              "      <td>0.124127</td>\n",
              "      <td>258.472577</td>\n",
              "      <td>890.911923</td>\n",
              "      <td>5.336846</td>\n",
              "      <td>6.571364</td>\n",
              "      <td>0.000510</td>\n",
              "      <td>3.760150</td>\n",
              "      <td>-0.693485</td>\n",
              "      <td>0.999531</td>\n",
              "      <td>0.016841</td>\n",
              "      <td>492.72500</td>\n",
              "      <td>0.035147</td>\n",
              "      <td>258.402988</td>\n",
              "      <td>0.046248</td>\n",
              "      <td>258.10000</td>\n",
              "      <td>540.886950</td>\n",
              "      <td>4.620625</td>\n",
              "      <td>5.941642</td>\n",
              "      <td>0.000299</td>\n",
              "      <td>4.305088</td>\n",
              "      <td>-0.789409</td>\n",
              "      <td>0.999781</td>\n",
              "      <td>0.632035</td>\n",
              "      <td>0.715744</td>\n",
              "      <td>0.566741</td>\n",
              "      <td>0.648349</td>\n",
              "      <td>0.506841</td>\n",
              "      <td>0.586251</td>\n",
              "      <td>0.513476</td>\n",
              "      <td>0.541242</td>\n",
              "      <td>...</td>\n",
              "      <td>149.981136</td>\n",
              "      <td>0.063432</td>\n",
              "      <td>221.26875</td>\n",
              "      <td>306.335794</td>\n",
              "      <td>4.533640</td>\n",
              "      <td>5.921642</td>\n",
              "      <td>0.000468</td>\n",
              "      <td>4.072723</td>\n",
              "      <td>-0.714646</td>\n",
              "      <td>0.999260</td>\n",
              "      <td>1.050422</td>\n",
              "      <td>0.641098</td>\n",
              "      <td>0.947820</td>\n",
              "      <td>0.582023</td>\n",
              "      <td>0.853419</td>\n",
              "      <td>0.527531</td>\n",
              "      <td>0.816116</td>\n",
              "      <td>0.477148</td>\n",
              "      <td>0.385473</td>\n",
              "      <td>0.236127</td>\n",
              "      <td>0.128334</td>\n",
              "      <td>0.087252</td>\n",
              "      <td>0.907882</td>\n",
              "      <td>0.559085</td>\n",
              "      <td>0.792728</td>\n",
              "      <td>-0.878634</td>\n",
              "      <td>0.830078</td>\n",
              "      <td>1.033594</td>\n",
              "      <td>72.756888</td>\n",
              "      <td>0.304482</td>\n",
              "      <td>0.450483</td>\n",
              "      <td>72.756888</td>\n",
              "      <td>1.675311</td>\n",
              "      <td>1.066221</td>\n",
              "      <td>1.513895</td>\n",
              "      <td>-0.599177</td>\n",
              "      <td>4.488645e-01</td>\n",
              "      <td>2.274489</td>\n",
              "      <td>0.115145</td>\n",
              "      <td>3.119944</td>\n",
              "    </tr>\n",
              "    <tr>\n",
              "      <th>109</th>\n",
              "      <td>110</td>\n",
              "      <td>0</td>\n",
              "      <td>1</td>\n",
              "      <td>0</td>\n",
              "      <td>0</td>\n",
              "      <td>1</td>\n",
              "      <td>0.014029</td>\n",
              "      <td>13.906250</td>\n",
              "      <td>0.908243</td>\n",
              "      <td>78.736877</td>\n",
              "      <td>0.218906</td>\n",
              "      <td>309.137117</td>\n",
              "      <td>301.041257</td>\n",
              "      <td>5.036688</td>\n",
              "      <td>6.259139</td>\n",
              "      <td>0.001306</td>\n",
              "      <td>2.399982</td>\n",
              "      <td>-0.649120</td>\n",
              "      <td>0.998687</td>\n",
              "      <td>0.020994</td>\n",
              "      <td>121.43625</td>\n",
              "      <td>0.163827</td>\n",
              "      <td>75.858530</td>\n",
              "      <td>0.065456</td>\n",
              "      <td>309.42375</td>\n",
              "      <td>181.997869</td>\n",
              "      <td>4.261471</td>\n",
              "      <td>5.690956</td>\n",
              "      <td>0.000735</td>\n",
              "      <td>3.122134</td>\n",
              "      <td>-0.743701</td>\n",
              "      <td>0.999383</td>\n",
              "      <td>1.652770</td>\n",
              "      <td>0.415991</td>\n",
              "      <td>1.489851</td>\n",
              "      <td>0.376445</td>\n",
              "      <td>1.340024</td>\n",
              "      <td>0.340018</td>\n",
              "      <td>1.293658</td>\n",
              "      <td>0.316666</td>\n",
              "      <td>...</td>\n",
              "      <td>48.173122</td>\n",
              "      <td>0.091540</td>\n",
              "      <td>239.00000</td>\n",
              "      <td>109.319987</td>\n",
              "      <td>4.201100</td>\n",
              "      <td>5.636238</td>\n",
              "      <td>0.000836</td>\n",
              "      <td>3.314457</td>\n",
              "      <td>-0.596919</td>\n",
              "      <td>0.995384</td>\n",
              "      <td>1.539550</td>\n",
              "      <td>0.357332</td>\n",
              "      <td>1.387453</td>\n",
              "      <td>0.323463</td>\n",
              "      <td>1.247602</td>\n",
              "      <td>0.292265</td>\n",
              "      <td>1.207293</td>\n",
              "      <td>0.271613</td>\n",
              "      <td>0.564291</td>\n",
              "      <td>0.131360</td>\n",
              "      <td>0.184375</td>\n",
              "      <td>0.046283</td>\n",
              "      <td>1.328227</td>\n",
              "      <td>0.310299</td>\n",
              "      <td>0.523468</td>\n",
              "      <td>-0.600698</td>\n",
              "      <td>1.000000</td>\n",
              "      <td>1.450932</td>\n",
              "      <td>119.070261</td>\n",
              "      <td>0.214774</td>\n",
              "      <td>0.271363</td>\n",
              "      <td>119.070261</td>\n",
              "      <td>1.707838</td>\n",
              "      <td>1.363992</td>\n",
              "      <td>1.656073</td>\n",
              "      <td>0.748105</td>\n",
              "      <td>-3.203427e-16</td>\n",
              "      <td>0.959733</td>\n",
              "      <td>0.795369</td>\n",
              "      <td>1.941024</td>\n",
              "    </tr>\n",
              "    <tr>\n",
              "      <th>110</th>\n",
              "      <td>111</td>\n",
              "      <td>0</td>\n",
              "      <td>0</td>\n",
              "      <td>0</td>\n",
              "      <td>0</td>\n",
              "      <td>1</td>\n",
              "      <td>0.024406</td>\n",
              "      <td>6.480230</td>\n",
              "      <td>0.746222</td>\n",
              "      <td>13.220455</td>\n",
              "      <td>0.374521</td>\n",
              "      <td>330.676658</td>\n",
              "      <td>46.401589</td>\n",
              "      <td>4.218511</td>\n",
              "      <td>5.655481</td>\n",
              "      <td>0.001344</td>\n",
              "      <td>2.304325</td>\n",
              "      <td>-0.401016</td>\n",
              "      <td>0.968259</td>\n",
              "      <td>0.028362</td>\n",
              "      <td>25.85750</td>\n",
              "      <td>0.115965</td>\n",
              "      <td>14.533875</td>\n",
              "      <td>0.190174</td>\n",
              "      <td>330.44500</td>\n",
              "      <td>32.278000</td>\n",
              "      <td>3.881955</td>\n",
              "      <td>5.399517</td>\n",
              "      <td>0.000888</td>\n",
              "      <td>2.930023</td>\n",
              "      <td>-0.487313</td>\n",
              "      <td>0.983274</td>\n",
              "      <td>2.132514</td>\n",
              "      <td>0.176892</td>\n",
              "      <td>1.922836</td>\n",
              "      <td>0.159843</td>\n",
              "      <td>1.729986</td>\n",
              "      <td>0.144167</td>\n",
              "      <td>1.665990</td>\n",
              "      <td>0.136469</td>\n",
              "      <td>...</td>\n",
              "      <td>82.128211</td>\n",
              "      <td>0.103074</td>\n",
              "      <td>222.76125</td>\n",
              "      <td>165.161594</td>\n",
              "      <td>4.439020</td>\n",
              "      <td>5.794142</td>\n",
              "      <td>0.000531</td>\n",
              "      <td>3.865125</td>\n",
              "      <td>-0.719156</td>\n",
              "      <td>0.999152</td>\n",
              "      <td>1.119097</td>\n",
              "      <td>0.475660</td>\n",
              "      <td>1.008912</td>\n",
              "      <td>0.431831</td>\n",
              "      <td>0.907580</td>\n",
              "      <td>0.391399</td>\n",
              "      <td>0.875236</td>\n",
              "      <td>0.353765</td>\n",
              "      <td>0.410286</td>\n",
              "      <td>0.175295</td>\n",
              "      <td>0.134849</td>\n",
              "      <td>0.064501</td>\n",
              "      <td>0.966012</td>\n",
              "      <td>0.414814</td>\n",
              "      <td>0.575298</td>\n",
              "      <td>0.725397</td>\n",
              "      <td>1.000000</td>\n",
              "      <td>0.856658</td>\n",
              "      <td>70.736011</td>\n",
              "      <td>0.248819</td>\n",
              "      <td>0.348930</td>\n",
              "      <td>70.736011</td>\n",
              "      <td>2.027293</td>\n",
              "      <td>1.051309</td>\n",
              "      <td>1.549982</td>\n",
              "      <td>0.379420</td>\n",
              "      <td>-3.203427e-16</td>\n",
              "      <td>1.647873</td>\n",
              "      <td>0.536715</td>\n",
              "      <td>2.544874</td>\n",
              "    </tr>\n",
              "  </tbody>\n",
              "</table>\n",
              "<p>111 rows × 342 columns</p>\n",
              "</div>"
            ],
            "text/plain": [
              "     SampleID  y1  y2  z1  ...          x333      x334      x335      x336\n",
              "0           1   0   2   1  ...  0.000000e+00  1.257910  0.830042  1.757267\n",
              "1           2   0   2   1  ...  9.744894e-01  2.503124 -0.284387  3.581636\n",
              "2           3   0   2   1  ...  7.578785e-01  2.239489 -0.135308  4.152148\n",
              "3           4   0   2   1  ...  0.000000e+00  1.514258  0.511240  2.727560\n",
              "4           5   0   2   1  ...  1.161151e-01  1.432336 -1.141510  4.300340\n",
              "..        ...  ..  ..  ..  ...           ...       ...       ...       ...\n",
              "106       107   0   0   0  ... -3.203427e-16  0.584702  0.762673  2.722661\n",
              "107       108   0   2   0  ... -3.203427e-16  0.978256  1.191520  2.417271\n",
              "108       109   0   1   0  ...  4.488645e-01  2.274489  0.115145  3.119944\n",
              "109       110   0   1   0  ... -3.203427e-16  0.959733  0.795369  1.941024\n",
              "110       111   0   0   0  ... -3.203427e-16  1.647873  0.536715  2.544874\n",
              "\n",
              "[111 rows x 342 columns]"
            ]
          },
          "metadata": {
            "tags": []
          },
          "execution_count": 27
        }
      ]
    },
    {
      "cell_type": "code",
      "metadata": {
        "id": "7rwS7wGTG1C2"
      },
      "source": [
        "# get labels\n",
        "x = df.loc[:, 'z1':]\n",
        "y = df[['y1', 'y2']]"
      ],
      "execution_count": null,
      "outputs": []
    },
    {
      "cell_type": "code",
      "metadata": {
        "id": "bx-awIBsvaYq",
        "outputId": "0036aafa-b010-4fda-de9e-b3119cae0a39",
        "colab": {
          "base_uri": "https://localhost:8080/",
          "height": 297
        }
      },
      "source": [
        "import matplotlib.pyplot as plt\n",
        "print(\"Distribution of y1 values\")\n",
        "pd.value_counts(y['y1']).plot.bar()"
      ],
      "execution_count": null,
      "outputs": [
        {
          "output_type": "stream",
          "text": [
            "Distribution of y1 values\n"
          ],
          "name": "stdout"
        },
        {
          "output_type": "execute_result",
          "data": {
            "text/plain": [
              "<matplotlib.axes._subplots.AxesSubplot at 0x7f4deb213390>"
            ]
          },
          "metadata": {
            "tags": []
          },
          "execution_count": 139
        },
        {
          "output_type": "display_data",
          "data": {
            "image/png": "[encoded data removed]",
            "text/plain": [
              "<Figure size 432x288 with 1 Axes>"
            ]
          },
          "metadata": {
            "tags": [],
            "needs_background": "light"
          }
        }
      ]
    },
    {
      "cell_type": "code",
      "metadata": {
        "id": "m--D9hQDvYxK",
        "outputId": "20165f69-f5f3-4fb6-b534-33ff0aede91b",
        "colab": {
          "base_uri": "https://localhost:8080/",
          "height": 299
        }
      },
      "source": [
        "print(\"Distribution of y2 values\")\n",
        "pd.value_counts(y['y2']).plot.bar()"
      ],
      "execution_count": null,
      "outputs": [
        {
          "output_type": "stream",
          "text": [
            "Distribution of y2 values\n"
          ],
          "name": "stdout"
        },
        {
          "output_type": "execute_result",
          "data": {
            "text/plain": [
              "<matplotlib.axes._subplots.AxesSubplot at 0x7f4deaedaa58>"
            ]
          },
          "metadata": {
            "tags": []
          },
          "execution_count": 138
        },
        {
          "output_type": "display_data",
          "data": {
            "image/png": "[encoded data removed]",
            "text/plain": [
              "<Figure size 432x288 with 1 Axes>"
            ]
          },
          "metadata": {
            "tags": [],
            "needs_background": "light"
          }
        }
      ]
    },
    {
      "cell_type": "code",
      "metadata": {
        "id": "UoisABScHrn0",
        "outputId": "048ab388-838b-4126-83f1-6778f2855c17",
        "colab": {
          "base_uri": "https://localhost:8080/",
          "height": 52
        }
      },
      "source": [
        "# check missing values\n",
        "t = pd.DataFrame(df.isnull().sum())\n",
        "t.columns = ['nmissing']\n",
        "t.nmissing.value_counts()"
      ],
      "execution_count": null,
      "outputs": [
        {
          "output_type": "execute_result",
          "data": {
            "text/plain": [
              "0    342\n",
              "Name: nmissing, dtype: int64"
            ]
          },
          "metadata": {
            "tags": []
          },
          "execution_count": 29
        }
      ]
    },
    {
      "cell_type": "code",
      "metadata": {
        "id": "wy81tMtjLp9c",
        "outputId": "46a707b4-43af-4acf-c5df-de92fce82722",
        "colab": {
          "base_uri": "https://localhost:8080/",
          "height": 52
        }
      },
      "source": [
        "# split data into training and testing\n",
        "from sklearn import model_selection\n",
        "np.random.seed(0)\n",
        "\n",
        "# stratify option will distributed data based on values of y, to avoid cases of all 0s going into testing data\n",
        "x_train, x_test, y_train, y_test = model_selection.train_test_split(x, y, test_size = 0.2, stratify = y, random_state = 0)\n",
        "\n",
        "print('training data has ' + str(x_train.shape[0]) + ' observation with ' + str(x_train.shape[1]) + ' features')\n",
        "print('test data has ' + str(x_test.shape[0]) + ' observation with ' + str(x_test.shape[1]) + ' features')"
      ],
      "execution_count": 451,
      "outputs": [
        {
          "output_type": "stream",
          "text": [
            "training data has 88 observation with 339 features\n",
            "test data has 23 observation with 339 features\n"
          ],
          "name": "stdout"
        }
      ]
    },
    {
      "cell_type": "code",
      "metadata": {
        "id": "vJhro8x-22R1"
      },
      "source": [
        "# since features have very different range of values, we do standardization \n",
        "# standardize based on training data, and apply to test data\n",
        "from sklearn.preprocessing import StandardScaler\n",
        "scaler = StandardScaler()\n",
        "scaler.fit(x_train)\n",
        "x_train = pd.DataFrame(scaler.transform(x_train))\n",
        "x_test = pd.DataFrame(scaler.transform(x_test))"
      ],
      "execution_count": 452,
      "outputs": []
    },
    {
      "cell_type": "markdown",
      "metadata": {
        "id": "vLle8pt94FCE"
      },
      "source": [
        "# Feature Selection"
      ]
    },
    {
      "cell_type": "markdown",
      "metadata": {
        "id": "oTiE5Kcx0jh6"
      },
      "source": [
        "\n",
        "\n",
        "## Low Variance Features"
      ]
    },
    {
      "cell_type": "markdown",
      "metadata": {
        "id": "tROLLGmM1BJx"
      },
      "source": [
        "We first check if there is any features with zero variance. If so, they are not contributing to the classification and can be removed. Results show no feature with zero variance.\n"
      ]
    },
    {
      "cell_type": "code",
      "metadata": {
        "id": "ypaud6dT0qjc",
        "outputId": "5eb3454a-5f1d-43f2-f84d-ccda01211373",
        "colab": {
          "base_uri": "https://localhost:8080/",
          "height": 35
        }
      },
      "source": [
        "from sklearn.feature_selection import VarianceThreshold\n",
        "thresholder = VarianceThreshold(threshold=0)\n",
        "print(\"Variables Kept: \", thresholder.fit_transform(x).shape[1])"
      ],
      "execution_count": null,
      "outputs": [
        {
          "output_type": "stream",
          "text": [
            "Variables Kept:  339\n"
          ],
          "name": "stdout"
        }
      ]
    },
    {
      "cell_type": "markdown",
      "metadata": {
        "id": "rS-U124vJrs_"
      },
      "source": [
        "## Correlation between features"
      ]
    },
    {
      "cell_type": "markdown",
      "metadata": {
        "id": "0hI2BKAMzAVy"
      },
      "source": [
        "Then we check if there are features that are highly correlated between themselves. Dropping highly correlated features can also prevent multicollinearity in regression models. Results show that only 1 pair of variables had correlation greater than 0.8. So this method would not help with feature selection.\n"
      ]
    },
    {
      "cell_type": "code",
      "metadata": {
        "id": "0WQkivd3gxqQ",
        "outputId": "0c9af39a-4fd0-47ec-be7b-5d13d26e7837",
        "colab": {
          "base_uri": "https://localhost:8080/",
          "height": 35
        }
      },
      "source": [
        "corr = abs(x.corr())\n",
        "upper = corr.where(np.triu(np.ones(corr.shape), k=1).astype(np.bool))\n",
        "cols = [column for column in upper.columns if any(upper[column] < 0.8)]\n",
        "print(\"Variables Kept: \", len(cols)) "
      ],
      "execution_count": null,
      "outputs": [
        {
          "output_type": "stream",
          "text": [
            "Variables Kept:  338\n"
          ],
          "name": "stdout"
        }
      ]
    },
    {
      "cell_type": "markdown",
      "metadata": {
        "id": "Xa_s7StVgHXw"
      },
      "source": [
        "## Correlation with the response\n",
        "\n",
        "We will check the correlation between each variable and the response, and keep the variables that are most correlated with the response. The drawback of this method is that it not take into consideration the interaction between the variables. From the plots we can see that none of the predictors have a strong linear correlation with the response (all correlations < 0.3)\n",
        "* How were the thresholds chosen? Manually tuned the thresholds to obtain the best accuracy in the binary classification of y1."
      ]
    },
    {
      "cell_type": "code",
      "metadata": {
        "id": "0gPSbuhDgJIE",
        "outputId": "a960727c-e0b9-4958-9b68-b34452365c75",
        "colab": {
          "base_uri": "https://localhost:8080/",
          "height": 589
        }
      },
      "source": [
        "threshold1 = 0.14\n",
        "threshold2 = 0.2\n",
        "\n",
        "# correlation matrix\n",
        "df_train = pd.concat((x_train, y_train), axis=1)\n",
        "corr = df_train.corr()\n",
        "corr1 = abs(corr[\"y1\"])[:-2]\n",
        "corr2 = abs(corr[\"y2\"])[:-2]\n",
        "\n",
        "# check which features are most correlated with y1\n",
        "cols1_corr = pd.DataFrame(corr1[corr1 > threshold1])\n",
        "cols1_corr.sort_values(by='y1', ascending=True).plot(kind = \"barh\")\n",
        "x_train_corr_y1 = x_train[cols1_corr.index.values] \n",
        "x_test_corr_y1 = x_test[cols1_corr.index.values]\n",
        "print(\"Variables Kept: \", len(cols1_corr)) \n",
        "print(\"Variables with highest correlation with y1\")\n",
        "\n",
        "# check which features are most correlated with y2\n",
        "cols2_corr = pd.DataFrame(corr2[corr2 > threshold2])\n",
        "cols2_corr.sort_values(by='y2', ascending=True).plot(kind = \"barh\")\n",
        "x_train_corr_y2 = x_train[cols2_corr.index.values] \n",
        "x_test_corr_y2 = x_test[cols2_corr.index.values] \n",
        "print(\"Variables Kept: \", len(cols2_corr)) \n",
        "print(\"Variables with highest correlation with y2\")"
      ],
      "execution_count": null,
      "outputs": [
        {
          "output_type": "stream",
          "text": [
            "Variables Kept:  52\n",
            "Variables with highest correlation with y1\n",
            "Variables Kept:  64\n",
            "Variables with highest correlation with y2\n"
          ],
          "name": "stdout"
        },
        {
          "output_type": "display_data",
          "data": {
            "image/png": "[encoded data removed]",
            "text/plain": [
              "<Figure size 432x288 with 1 Axes>"
            ]
          },
          "metadata": {
            "tags": [],
            "needs_background": "light"
          }
        },
        {
          "output_type": "display_data",
          "data": {
            "image/png": "[encoded data removed]",
            "text/plain": [
              "<Figure size 432x288 with 1 Axes>"
            ]
          },
          "metadata": {
            "tags": [],
            "needs_background": "light"
          }
        }
      ]
    },
    {
      "cell_type": "markdown",
      "metadata": {
        "id": "zNPMrHRqZZN4"
      },
      "source": [
        "## Statistical Tests \n"
      ]
    },
    {
      "cell_type": "markdown",
      "metadata": {
        "id": "IU2p7kZGxk5k"
      },
      "source": [
        "We can also select the top k features that have the highest F-scores in ANOVA. \n",
        "* Why k = 55 for y1? Manually tunned k so that the logistic regression Approach II gives the highest AUC\n"
      ]
    },
    {
      "cell_type": "code",
      "metadata": {
        "id": "pjxoVfIMdRFj",
        "outputId": "465b705d-3265-44d6-a5c5-03b058204619",
        "colab": {
          "base_uri": "https://localhost:8080/",
          "height": 426
        }
      },
      "source": [
        "import sklearn.feature_selection as fs\n",
        "k = 55\n",
        "\n",
        "# ANOVA and F-values (y1)\n",
        "selector = fs.SelectKBest(k=k)   # default method f_classif\n",
        "x_train_anova_y1 = selector.fit_transform(x_train, y_train['y1'])\n",
        "x_test_anova_y1 = selector.transform(x_test)\n",
        "\n",
        "# get F-test scores and p-values\n",
        "temp = np.asarray(fs.f_classif(x_train, y_train['y1']))  \n",
        "cols1_anova = pd.Series(temp[0], index = list(df.loc[:, 'z1':].columns)).sort_values(ascending=False).head(k)\n",
        "cols1_anova.plot(kind = \"barh\")\n",
        "print(\"Variables Kept: \", k) \n",
        "print(cols1_anova.index)\n",
        "print(\"Variables with highest F-scores (y1)\")"
      ],
      "execution_count": null,
      "outputs": [
        {
          "output_type": "stream",
          "text": [
            "Variables Kept:  55\n",
            "Index(['x330', 'x323', 'x333', 'x313', 'x307', 'x315', 'x309', 'x319', 'x311',\n",
            "       'x317', 'x324', 'x328', 'x325', 'x167', 'x145', 'x139', 'x147', 'x141',\n",
            "       'x151', 'x143', 'x331', 'x149', 'x329', 'x162', 'x299', 'x286', 'x156',\n",
            "       'x164', 'x160', 'x157', 'x163', 'x66', 'x79', 'x62', 'x75', 'x111',\n",
            "       'x335', 'x61', 'x161', 'x77', 'x67', 'x65', 'x78', 'x89', 'x83', 'x91',\n",
            "       'x85', 'x95', 'x87', 'x274', 'x243', 'x93', 'x230', 'x106', 'x80'],\n",
            "      dtype='object')\n",
            "Variables with highest F-scores (y1)\n"
          ],
          "name": "stdout"
        },
        {
          "output_type": "display_data",
          "data": {
            "image/png": "[encoded data removed]",
            "text/plain": [
              "<Figure size 432x288 with 1 Axes>"
            ]
          },
          "metadata": {
            "tags": [],
            "needs_background": "light"
          }
        }
      ]
    },
    {
      "cell_type": "code",
      "metadata": {
        "id": "UGCWdnGlClpX",
        "outputId": "0d1b00fd-59bb-4ceb-8005-5e1da59bcaa1",
        "colab": {
          "base_uri": "https://localhost:8080/",
          "height": 444
        }
      },
      "source": [
        "# ANOVA and F-values (y2)\n",
        "selector = fs.SelectKBest(k=k)   # default method f_classif\n",
        "x_train_anova_y2 = selector.fit_transform(x_train, y_train['y2'])\n",
        "x_test_anova_y2 = selector.transform(x_test)\n",
        "\n",
        "# get F-test scores and p-values\n",
        "temp = np.asarray(fs.f_classif(x_train, y_train['y2']))  \n",
        "cols2_anova = pd.Series(temp[0], index = list(df.loc[:, 'z1':].columns)).sort_values(ascending=False).head(k)\n",
        "cols2_anova.plot(kind = \"barh\")\n",
        "\n",
        "print(\"Variables Kept: \", k) \n",
        "print(cols2_anova.index)\n",
        "print(\"Variables with highest F-scores (y2)\")"
      ],
      "execution_count": null,
      "outputs": [
        {
          "output_type": "stream",
          "text": [
            "Variables Kept:  55\n",
            "Index(['z2', 'x328', 'x325', 'x330', 'x329', 'x324', 'x224', 'x171', 'z1',\n",
            "       'x331', 'x313', 'x307', 'x315', 'x309', 'x319', 'x311', 'x317', 'x299',\n",
            "       'x286', 'x122', 'x210', 'x161', 'x123', 'x322', 'x156', 'x162', 'x314',\n",
            "       'x145', 'x53', 'x163', 'x139', 'x147', 'x141', 'x151', 'x143', 'x334',\n",
            "       'x308', 'x149', 'x316', 'x310', 'x320', 'x312', 'x135', 'x273', 'x110',\n",
            "       'x71', 'x90', 'x280', 'x166', 'x63', 'x212', 'x154', 'x220', 'x60',\n",
            "       'x73'],\n",
            "      dtype='object')\n",
            "Variables with highest F-scores (y2)\n"
          ],
          "name": "stdout"
        },
        {
          "output_type": "display_data",
          "data": {
            "image/png": "[encoded data removed]",
            "text/plain": [
              "<Figure size 432x288 with 1 Axes>"
            ]
          },
          "metadata": {
            "tags": [],
            "needs_background": "light"
          }
        }
      ]
    },
    {
      "cell_type": "code",
      "metadata": {
        "id": "Hc0k_MBDmI57",
        "outputId": "a5c3601e-381e-4b8b-ad12-bde24cfae359",
        "colab": {
          "base_uri": "https://localhost:8080/",
          "height": 229
        }
      },
      "source": [
        "# Union of the significant features for y1 and y2\n",
        "cols_anova = cols1_anova + cols2_anova\n",
        "print(\"Variables Kept: \", len(cols_anova)) \n",
        "print(cols_anova.index)\n",
        "\n",
        "idx = [x.columns.get_loc(c) for c in list(cols_anova.index)]\n",
        "x_train_anova = x_train.iloc[:, idx ]\n",
        "x_test_anova = x_test.iloc[:, idx ]"
      ],
      "execution_count": 475,
      "outputs": [
        {
          "output_type": "stream",
          "text": [
            "Variables Kept:  84\n",
            "Index(['x106', 'x110', 'x111', 'x122', 'x123', 'x135', 'x139', 'x141', 'x143',\n",
            "       'x145', 'x147', 'x149', 'x151', 'x154', 'x156', 'x157', 'x160', 'x161',\n",
            "       'x162', 'x163', 'x164', 'x166', 'x167', 'x171', 'x210', 'x212', 'x220',\n",
            "       'x224', 'x230', 'x243', 'x273', 'x274', 'x280', 'x286', 'x299', 'x307',\n",
            "       'x308', 'x309', 'x310', 'x311', 'x312', 'x313', 'x314', 'x315', 'x316',\n",
            "       'x317', 'x319', 'x320', 'x322', 'x323', 'x324', 'x325', 'x328', 'x329',\n",
            "       'x330', 'x331', 'x333', 'x334', 'x335', 'x53', 'x60', 'x61', 'x62',\n",
            "       'x63', 'x65', 'x66', 'x67', 'x71', 'x73', 'x75', 'x77', 'x78', 'x79',\n",
            "       'x80', 'x83', 'x85', 'x87', 'x89', 'x90', 'x91', 'x93', 'x95', 'z1',\n",
            "       'z2'],\n",
            "      dtype='object')\n"
          ],
          "name": "stdout"
        }
      ]
    },
    {
      "cell_type": "markdown",
      "metadata": {
        "id": "CFe1BhhURHgk"
      },
      "source": [
        "## Dimension Reduction with PCA \n",
        "\n",
        "PCA can project data into lower dimensions while preserving maximum amount of information (variance). However, PCA does not consider the true label and may \"throw out\" important classification patterns, so it is often used in unsupervised learning but not supervised learning. We will test if PCA provides some value to our exercise.\n",
        "\n",
        "For some reason, in the eigendecomposition step we are only able to get 6 eigenvectors. So PCA can reduce to 6 dimensions at most.\n"
      ]
    },
    {
      "cell_type": "code",
      "metadata": {
        "id": "BtOjL_3HRIrS"
      },
      "source": [
        "# self-implemented function to perform PCA\n",
        "import sklearn.preprocessing as skpp\n",
        "import scipy.sparse.linalg as ll\n",
        "\n",
        "def computePCA(data, K):         # data needs to be m data points x n features\n",
        "    m, n = data.shape            # combining n features into k\n",
        "\n",
        "    # normalize the data because features have very different ranges, dividing by std\n",
        "    stdA = np.std(data, axis = 0)               \n",
        "    stdA = skpp.normalize(stdA.reshape(1,-1))  \n",
        "    Anew = data @ np.diag(np.ones(stdA.shape[1])/stdA[0])  \n",
        "    Anew = Anew.T      \n",
        "\n",
        "    # Eigendecomposition\n",
        "    mu = np.mean(Anew, axis = 1)                      # n x 1\n",
        "    xc = Anew - mu[:, None]\n",
        "    C = np.dot(xc, xc.T)/m                            # covariance matrix, n x n\n",
        "    l, w = ll.eigs(C)        \n",
        "    idx = l.argsort()[::-1][:K]                       # k largest \n",
        "    l = l[idx].real\n",
        "    w = w[:,idx].real\n",
        "\n",
        "    # extract principal components \n",
        "    pc = np.empty([K, m])           \n",
        "    for i in range(K):\n",
        "        pc[i, :] = np.dot(w[:,i].T, xc)/np.sqrt(l[i])\n",
        "    pc = pc.T\n",
        "    \n",
        "    return pc"
      ],
      "execution_count": null,
      "outputs": []
    },
    {
      "cell_type": "code",
      "metadata": {
        "id": "h92An56eRpms",
        "outputId": "b0f3cac8-b562-4455-b78f-35befe49c38c",
        "colab": {
          "base_uri": "https://localhost:8080/",
          "height": 545
        }
      },
      "source": [
        "# test projecting into 2 dimensions\n",
        "x_pca = computePCA(np.asarray(x), 2)  # m x k \n",
        "\n",
        "import matplotlib.pyplot as plt\n",
        "\n",
        "for i in range(max(y['y1'])+1):\n",
        "  idx = np.where(y['y1'] == i)\n",
        "  plt.scatter(x_pca[idx, 0], x_pca[idx, 1])\n",
        "plt.title(\"First two principal components after PCA (y1)\")\n",
        "plt.show()\n",
        "\n",
        "for i in range(max(y['y2'])+1):\n",
        "  idx = np.where(y['y2'] == i)\n",
        "  plt.scatter(x_pca[idx, 0], x_pca[idx, 1])\n",
        "plt.title(\"First two principal components after PCA (y2)\")\n",
        "plt.show()"
      ],
      "execution_count": null,
      "outputs": [
        {
          "output_type": "display_data",
          "data": {
            "image/png": "[encoded data removed]",
            "text/plain": [
              "<Figure size 432x288 with 1 Axes>"
            ]
          },
          "metadata": {
            "tags": [],
            "needs_background": "light"
          }
        },
        {
          "output_type": "display_data",
          "data": {
            "image/png": "[encoded data removed]",
            "text/plain": [
              "<Figure size 432x288 with 1 Axes>"
            ]
          },
          "metadata": {
            "tags": [],
            "needs_background": "light"
          }
        }
      ]
    },
    {
      "cell_type": "code",
      "metadata": {
        "id": "usPc71S7XN1G",
        "outputId": "ec881e1f-0d99-4027-d59d-9877c787f85f",
        "colab": {
          "base_uri": "https://localhost:8080/",
          "height": 35
        }
      },
      "source": [
        "# reducing into 6 dimensions\n",
        "# NOTE: cannot go beyond 6, does this mean that the data is R6 i.e. only 6 linearly independent features?\n",
        "x_pca = computePCA(np.asarray(x), 6)  # m x k \n",
        "x_pca.shape"
      ],
      "execution_count": null,
      "outputs": [
        {
          "output_type": "execute_result",
          "data": {
            "text/plain": [
              "(111, 6)"
            ]
          },
          "metadata": {
            "tags": []
          },
          "execution_count": 39
        }
      ]
    },
    {
      "cell_type": "code",
      "metadata": {
        "id": "s8vBVBWqbPRr",
        "outputId": "0d1f57a1-2cdd-4466-cb12-3e5e38a81446",
        "colab": {
          "base_uri": "https://localhost:8080/",
          "height": 52
        }
      },
      "source": [
        "# create test and train datasets using PCA reduced dimensions\n",
        "x_train_pca, x_test_pca, y_train_pca, y_test_pca = model_selection.train_test_split(x_pca, y, test_size=0.2, stratify = y, random_state = 0)\n",
        "\n",
        "print('training data has ' + str(x_train_pca.shape[0]) + ' observation with ' + str(x_train_pca.shape[1]) + ' features')\n",
        "print('test data has ' + str(x_test_pca.shape[0]) + ' observation with ' + str(x_test_pca.shape[1]) + ' features')"
      ],
      "execution_count": null,
      "outputs": [
        {
          "output_type": "stream",
          "text": [
            "training data has 88 observation with 6 features\n",
            "test data has 23 observation with 6 features\n"
          ],
          "name": "stdout"
        }
      ]
    },
    {
      "cell_type": "markdown",
      "metadata": {
        "id": "NhpnkQBIQoD7"
      },
      "source": [
        "# Binary Classification\n",
        "\n",
        "We implemented the following  classification models for Y1:\n",
        "* Model 1 Logistic regression - with regularization\n",
        "* Model 2 Naive Bayes \n",
        "* Model 3 KNN\n",
        "* Model 4 Decision Tree\n",
        "* Model 5 Random Forest\n",
        "* Model 6 XGBoost\n",
        "* Model 7 SVM\n",
        "\n",
        "Refer to Summary section for an overview.\n",
        "\n"
      ]
    },
    {
      "cell_type": "markdown",
      "metadata": {
        "id": "eIgxbzSZGwq9"
      },
      "source": [
        "## Logistic Regression\n"
      ]
    },
    {
      "cell_type": "markdown",
      "metadata": {
        "id": "OFVH9OqsbwAa"
      },
      "source": [
        "y1 is binary so we apply logistic regression directly. We will try the following approaches\n",
        "* Approach 1: log regression with LASSO regularization\n",
        "* Approach 2: log regression with ANOVA selected features\n",
        "* Approach 3: log regression with PCA reduced dimensions - best AUC\n",
        "* Approach 4: log regression with features most correlated with the response"
      ]
    },
    {
      "cell_type": "code",
      "metadata": {
        "id": "Ojfa40xhHAnm"
      },
      "source": [
        "from sklearn.linear_model import LogisticRegression\n",
        "from sklearn.model_selection import GridSearchCV\n",
        "from sklearn.metrics import roc_curve, roc_auc_score"
      ],
      "execution_count": null,
      "outputs": []
    },
    {
      "cell_type": "markdown",
      "metadata": {
        "id": "PbG-ql4AikcT"
      },
      "source": [
        "LASSO can be used as feature selection procedure since l1 regularization sets the coefficient of not as important variables to zero. LASSO is also shown to work well with imbalanced data. We use a grid search to tune the find the optimal penalty parameter."
      ]
    },
    {
      "cell_type": "code",
      "metadata": {
        "id": "nU6UXcPYbZqI",
        "outputId": "7e358d4e-1f9f-4ab6-a146-e00c2b58203d",
        "colab": {
          "base_uri": "https://localhost:8080/",
          "height": 70
        }
      },
      "source": [
        "# Approach 1 LASSO\n",
        "param_grid = {\n",
        "    'penalty': ['l1'], \n",
        "    'C': [0.01, 0.02, 0.03, 0.04, 0.05, 0.06, 0.07, 0.073, 0.074, 0.075, 0.076, 0.077, 0.078, 0.079, \n",
        "         0.08, 0.081, 0.082, 0.083, 0.084, 0.09, 0.1]\n",
        "}\n",
        "Grid_LR = GridSearchCV(LogisticRegression(solver='liblinear', max_iter=200), param_grid, cv=5)\n",
        "Grid_LR.fit(x_train, y_train['y1'])\n",
        "print(\"Best parameters: \" + str(Grid_LR.best_params_))\n",
        "print(\"Best score: \" + str(Grid_LR.best_score_))\n",
        "\n",
        "model11_y1 = Grid_LR.best_estimator_\n",
        "model11_y1.fit(x_train, y_train['y1'])\n",
        "pred = model11_y1.predict_proba(x_test)[:,1]\n",
        "print(\"AUC: \", roc_auc_score(y_test['y1'], pred))"
      ],
      "execution_count": null,
      "outputs": [
        {
          "output_type": "stream",
          "text": [
            "Best parameters: {'C': 0.074, 'penalty': 'l1'}\n",
            "Best score: 0.681045751633987\n",
            "AUC:  0.8250000000000001\n"
          ],
          "name": "stdout"
        }
      ]
    },
    {
      "cell_type": "code",
      "metadata": {
        "id": "MoGEoELGhSuN",
        "outputId": "971b1ce9-24f3-45c2-cd54-81cc6fb39648",
        "colab": {
          "base_uri": "https://localhost:8080/",
          "height": 70
        }
      },
      "source": [
        "# Approach 2 ANOVA\n",
        "param_grid = {\n",
        "    'penalty': ['l1', 'l2'], \n",
        "    'C':[0.001, 0.003, 0.004, 0.005, 0.006, 0.01, 0.02, 0.03, 0.04, \n",
        "         0.05, 0.06, 0.07, 0.08, 0.09, 0.1]\n",
        "}\n",
        "Grid_LR = GridSearchCV(LogisticRegression(solver='liblinear', max_iter=200), param_grid, cv=5)\n",
        "Grid_LR.fit(x_train_anova_y1, y_train['y1'])\n",
        "print(\"Best parameters: \" + str(Grid_LR.best_params_))\n",
        "print(\"Best score: \" + str(Grid_LR.best_score_))\n",
        "\n",
        "model12_y1 = Grid_LR.best_estimator_\n",
        "model12_y1.fit(x_train_anova_y1, y_train['y1'])\n",
        "pred = model12_y1.predict_proba(x_test_anova_y1)[:,1]\n",
        "model1_y1_score = model12_y1.score(x_test_anova_y1, y_test['y1'])\n",
        "print(\"AUC: \", roc_auc_score(y_test['y1'], pred))"
      ],
      "execution_count": null,
      "outputs": [
        {
          "output_type": "stream",
          "text": [
            "Best parameters: {'C': 0.005, 'penalty': 'l2'}\n",
            "Best score: 0.7601307189542483\n",
            "AUC:  0.8500000000000001\n"
          ],
          "name": "stdout"
        }
      ]
    },
    {
      "cell_type": "code",
      "metadata": {
        "id": "cNTxpJPiO9t8",
        "outputId": "c78a527f-0b5f-4a1d-c104-e656f0dbc22d",
        "colab": {
          "base_uri": "https://localhost:8080/",
          "height": 70
        }
      },
      "source": [
        "# Approach 3 PCA \n",
        "parameters = {\n",
        "    'penalty':('l1', 'l2'), \n",
        "    'C':(0.00001, 0.0001, 0.001, 0.01, 0.02, 0.03, 0.033, 0.035, 0.038, 0.04, 0.05, 0.06)\n",
        "}\n",
        "Grid_LR = GridSearchCV(LogisticRegression(solver='liblinear'), parameters, cv=5)\n",
        "Grid_LR.fit(x_train_pca, y_train['y1'])\n",
        "print(\"Best parameters: \" + str(Grid_LR.best_params_))\n",
        "print(\"Best score: \" + str(Grid_LR.best_score_))\n",
        "\n",
        "model13_y1 = Grid_LR.best_estimator_\n",
        "model13_y1.fit(x_train_pca, y_train['y1'])\n",
        "pred = model13_y1.predict_proba(x_test_pca)[:,1]\n",
        "print(\"AUC: \", roc_auc_score(y_test['y1'], pred))"
      ],
      "execution_count": null,
      "outputs": [
        {
          "output_type": "stream",
          "text": [
            "Best parameters: {'C': 0.033, 'penalty': 'l2'}\n",
            "Best score: 0.7045751633986927\n",
            "AUC:  0.8916666666666667\n"
          ],
          "name": "stdout"
        }
      ]
    },
    {
      "cell_type": "code",
      "metadata": {
        "id": "RvtfxKXkNLOj",
        "outputId": "bcd78964-92e2-4984-fd83-5590caecc58c",
        "colab": {
          "base_uri": "https://localhost:8080/",
          "height": 70
        }
      },
      "source": [
        "# Approach 4 correlation\n",
        "param_grid = {\n",
        "    'penalty': ['l1', 'l2'], \n",
        "    'C':[0.01, 0.02, 0.03, 0.04, 0.05, 0.06, 0.07, 0.08, \n",
        "         0.081, 0.082,  0.083, 0.084, 0.085, 0.086, 0.087, 0.088, 0.09, 0.1]\n",
        "}\n",
        "Grid_LR = GridSearchCV(LogisticRegression(solver='liblinear', max_iter=200), param_grid, cv=5)\n",
        "Grid_LR.fit(x_train_corr_y1, y_train['y1'])\n",
        "print(\"Best parameters: \" + str(Grid_LR.best_params_))\n",
        "print(\"Best score: \" + str(Grid_LR.best_score_))\n",
        "\n",
        "model14_y1 = Grid_LR.best_estimator_\n",
        "model14_y1.fit(x_train_corr_y1, y_train['y1'])\n",
        "pred = model14_y1.predict_proba(x_test_corr_y1)[:,1]\n",
        "print(\"AUC: \", roc_auc_score(y_test['y1'], pred))"
      ],
      "execution_count": null,
      "outputs": [
        {
          "output_type": "stream",
          "text": [
            "Best parameters: {'C': 0.05, 'penalty': 'l2'}\n",
            "Best score: 0.6803921568627451\n",
            "AUC:  0.825\n"
          ],
          "name": "stdout"
        }
      ]
    },
    {
      "cell_type": "markdown",
      "metadata": {
        "id": "x3rpG8LXoxYG"
      },
      "source": [
        "## Naive Bayes\n",
        "\n",
        "Assumes the likelihood of the features follows Normal distribution. Also assumes that all features are independent between them. From previous correlation checks, only one pair had correlation above 0.5 so this assumption seems valid.\n",
        "\n",
        "* Approach 1: Naive Bayes without feature selection\n",
        "* Approach 2: Naive Bayes with ANOVA selected variables\n",
        " * Performed the best based on AUC\n",
        "* Approach 3: Naive Bayes with PCA dimension reduction\n",
        " * Interestingly, performs very bad\n",
        "* Approach 4: Naive Bayes with features most correlated with y1"
      ]
    },
    {
      "cell_type": "code",
      "metadata": {
        "id": "Spxv_y6Wozej",
        "outputId": "a1ef77c7-5fb4-41d5-8b27-6497ef9bf3de",
        "colab": {
          "base_uri": "https://localhost:8080/",
          "height": 88
        }
      },
      "source": [
        "from sklearn.naive_bayes import GaussianNB\n",
        "model2_y1 = GaussianNB()\n",
        "\n",
        "pred = model2_y1.fit(x_train, y_train['y1']).predict(x_test)\n",
        "print(\"Approach 1 AUC: \", roc_auc_score(y_test['y1'], pred))\n",
        "\n",
        "pred = model2_y1.fit(x_train_anova_y1, y_train['y1']).predict(x_test_anova_y1)\n",
        "print(\"Approach 2 AUC: \", roc_auc_score(y_test['y1'], pred))\n",
        "model2_y1_score = model12_y1.score(x_test_anova_y1, y_test['y1'])\n",
        "\n",
        "pred = model2_y1.fit(x_train_pca, y_train['y1']).predict(x_test_pca)\n",
        "print(\"Approach 3 AUC: \", roc_auc_score(y_test['y1'], pred))\n",
        "\n",
        "pred = model2_y1.fit(x_train_corr_y1, y_train['y1']).predict(x_test_corr_y1)\n",
        "print(\"Approach 4 AUC: \", roc_auc_score(y_test['y1'], pred))"
      ],
      "execution_count": null,
      "outputs": [
        {
          "output_type": "stream",
          "text": [
            "Approach 1 AUC:  0.7125\n",
            "Approach 2 AUC:  0.8083333333333333\n",
            "Approach 3 AUC:  0.7791666666666667\n",
            "Approach 4 AUC:  0.7750000000000001\n"
          ],
          "name": "stdout"
        }
      ]
    },
    {
      "cell_type": "markdown",
      "metadata": {
        "id": "qH8Nl3QP7Jwc"
      },
      "source": [
        "## KNN\n",
        "\n",
        "KNN classifies based on majority vote of the clusters and does not study patterns in data. May be susceptible to outliers, so our standardization alleviates this issue. Note that KNN often does not work well with high dimentions. KNN prediction returns binary labels so AUC might not be a good metric. \n",
        "\n",
        "* Approach 1: KNN without feature selection\n",
        " * Actually performed the best on this test data\n",
        "* Approach 2: KNN with ANOVA selected features\n",
        "* Approach 3: KNN with PCA reduced dimensions\n",
        "* Approach 4: KNN with features most correlated with the response\n",
        " * shows very different results depending on the correlation threshold used to select variables"
      ]
    },
    {
      "cell_type": "code",
      "metadata": {
        "id": "0cMlzpPTNDMb",
        "outputId": "dde217dd-7c09-4d9c-de67-0209d03d9777",
        "colab": {
          "base_uri": "https://localhost:8080/",
          "height": 299
        }
      },
      "source": [
        "from sklearn.metrics import confusion_matrix\n",
        "from sklearn.neighbors import KNeighborsClassifier\n",
        "\n",
        "model3_y1 = KNeighborsClassifier(n_neighbors=2)\n",
        "\n",
        "# Approach 1\n",
        "model3_y1.fit(x_train, y_train['y1'])\n",
        "pred = model3_y1.predict(x_test)\n",
        "print(\"Accuracy: \", model3_y1.score(x_test, y_test['y1']))\n",
        "print(\"Approach 1 confusion matrix: \")\n",
        "print(confusion_matrix(y_test['y1'], pred))\n",
        "model3_y1_score = model3_y1.score(x_test, y_test['y1'])\n",
        "\n",
        "# Approach 2\n",
        "model3_y1.fit(x_train_anova_y1, y_train['y1'])\n",
        "pred = model3_y1.predict(x_test_anova_y1)\n",
        "print(\"Accuracy: \", model3_y1.score(x_test_anova_y2, y_test['y1']))\n",
        "print(\"Approach 2 confusion matrix: \")\n",
        "print(confusion_matrix(y_test['y1'], pred))\n",
        "\n",
        "# Approach 3\n",
        "model3_y1.fit(x_train_pca, y_train['y1'])\n",
        "pred = model3_y1.predict(x_test_pca)\n",
        "print(\"Accuracy: \", model3_y1.score(x_test_pca, y_test['y1']))\n",
        "print(\"Approach 3 confusion matrix: \")\n",
        "print(confusion_matrix(y_test['y1'], pred))\n",
        "\n",
        "# Approach 4\n",
        "model3_y1.fit(x_train_corr_y1, y_train['y1'])\n",
        "pred = model3_y1.predict(x_test_corr_y1)\n",
        "print(\"Accuracy: \", model3_y1.score(x_test_corr_y1, y_test['y1']))\n",
        "print(\"Approach 4 confusion matrix: \")\n",
        "print(confusion_matrix(y_test['y1'], pred))"
      ],
      "execution_count": null,
      "outputs": [
        {
          "output_type": "stream",
          "text": [
            "Accuracy:  0.8695652173913043\n",
            "Approach 1 confusion matrix: \n",
            "[[15  0]\n",
            " [ 3  5]]\n",
            "Accuracy:  0.6521739130434783\n",
            "Approach 2 confusion matrix: \n",
            "[[15  0]\n",
            " [ 5  3]]\n",
            "Accuracy:  0.7391304347826086\n",
            "Approach 3 confusion matrix: \n",
            "[[14  1]\n",
            " [ 5  3]]\n",
            "Accuracy:  0.782608695652174\n",
            "Approach 4 confusion matrix: \n",
            "[[14  1]\n",
            " [ 4  4]]\n"
          ],
          "name": "stdout"
        }
      ]
    },
    {
      "cell_type": "markdown",
      "metadata": {
        "id": "GgtJoGg5k8lH"
      },
      "source": [
        "## Decision Tree"
      ]
    },
    {
      "cell_type": "markdown",
      "metadata": {
        "id": "SGnTeb2o9naA"
      },
      "source": [
        "The decision tree has inherent feature selection. So we apply the tree to the data without feature selection. Interestingly, the features with highest feature importance based on the tree is different than those selected by statistical tests. \n",
        "\n",
        "Note that decision trees do not need features to be normalized; and we could have used additional parameters to prune the tree."
      ]
    },
    {
      "cell_type": "code",
      "metadata": {
        "id": "HGHW2yaU8sMY",
        "outputId": "fdb9c0da-5754-4291-a92e-82f3822aa628",
        "colab": {
          "base_uri": "https://localhost:8080/",
          "height": 88
        }
      },
      "source": [
        "from sklearn.tree import DecisionTreeClassifier\n",
        "from sklearn.metrics import roc_curve, auc\n",
        "\n",
        "model4_y1 = DecisionTreeClassifier(random_state=0)\n",
        "model4_y1.fit(x_train, y_train['y1'])\n",
        "pred = model4_y1.predict(x_test)\n",
        "print(\"Accuracy: \", model4_y1.score(x_test, y_test['y1']))\n",
        "print(\"Confusion matrix: \")\n",
        "print(confusion_matrix(y_test['y1'], pred))\n",
        "model4_y1_score = model4_y1.score(x_test, y_test['y1'])"
      ],
      "execution_count": null,
      "outputs": [
        {
          "output_type": "stream",
          "text": [
            "Accuracy:  0.8695652173913043\n",
            "Confusion matrix: \n",
            "[[12  3]\n",
            " [ 0  8]]\n"
          ],
          "name": "stdout"
        }
      ]
    },
    {
      "cell_type": "code",
      "metadata": {
        "id": "UaUCAZtavdVJ",
        "outputId": "815930ab-c272-42bb-f9e3-11d40c6f6acd",
        "colab": {
          "base_uri": "https://localhost:8080/",
          "height": 585
        }
      },
      "source": [
        "from sklearn import tree\n",
        "import matplotlib.pyplot as plt\n",
        "fig = plt.figure(figsize=(20,15))\n",
        "plt = tree.plot_tree(model4_y1, filled=True)"
      ],
      "execution_count": null,
      "outputs": [
        {
          "output_type": "display_data",
          "data": {
            "image/png": "[encoded data removed]",
            "text/plain": [
              "<Figure size 1440x1080 with 1 Axes>"
            ]
          },
          "metadata": {
            "tags": [],
            "needs_background": "light"
          }
        }
      ]
    },
    {
      "cell_type": "code",
      "metadata": {
        "id": "42piJSenG6nt",
        "outputId": "7671b41f-d8d4-4673-f224-ef7d14dfe0b7",
        "colab": {
          "base_uri": "https://localhost:8080/",
          "height": 442
        }
      },
      "source": [
        "# see feature importance\n",
        "from matplotlib import pyplot as plt\n",
        "\n",
        "importance = model4_y1.feature_importances_\n",
        "plt.bar([x for x in range(len(importance))], importance)\n",
        "plt.show()\n",
        "\n",
        "for importance, name in sorted(zip(model4_y1.feature_importances_, x.columns), reverse=True)[:10]:\n",
        "    print (name, importance)"
      ],
      "execution_count": null,
      "outputs": [
        {
          "output_type": "display_data",
          "data": {
            "image/png": "[encoded data removed]",
            "text/plain": [
              "<Figure size 432x288 with 1 Axes>"
            ]
          },
          "metadata": {
            "tags": [],
            "needs_background": "light"
          }
        },
        {
          "output_type": "stream",
          "text": [
            "x324 0.3745935448665479\n",
            "x49 0.17822344490696362\n",
            "x113 0.08540372670807453\n",
            "x254 0.08281573498964802\n",
            "x267 0.08130999435347261\n",
            "x100 0.07301587301587303\n",
            "x59 0.05962732919254658\n",
            "x239 0.048447204968944065\n",
            "x171 0.016563146997929608\n",
            "z3 0.0\n"
          ],
          "name": "stdout"
        }
      ]
    },
    {
      "cell_type": "markdown",
      "metadata": {
        "id": "IvdB2zUHM7eb"
      },
      "source": [
        "## Random Forest"
      ]
    },
    {
      "cell_type": "markdown",
      "metadata": {
        "id": "OaHyLPEHwfCk"
      },
      "source": [
        "Let's also test the classification with multiple trees, random forest, which controls overfitting. However, results did not improve compared to the single decision trees."
      ]
    },
    {
      "cell_type": "code",
      "metadata": {
        "id": "NI_Nemx3M9BN",
        "outputId": "f62fbc14-2e97-4af4-9ef5-26cfb66bdcf4",
        "colab": {
          "base_uri": "https://localhost:8080/",
          "height": 123
        }
      },
      "source": [
        "from sklearn.ensemble import RandomForestClassifier\n",
        "parameters = {\n",
        "    'n_estimators' : [3,5,7,9,11]\n",
        "}\n",
        "\n",
        "Grid_RF = GridSearchCV(RandomForestClassifier(random_state=0), parameters, cv=5)\n",
        "Grid_RF.fit(x_train, y_train['y1'])\n",
        "print(\"Best parameters: \" + str(Grid_RF.best_params_))\n",
        "print(\"Best score: \" + str(Grid_RF.best_score_))\n",
        "\n",
        "model5_y1 = Grid_RF.best_estimator_\n",
        "model5_y1.fit(x_train, y_train['y1'])\n",
        "pred = model5_y1.predict(x_test)\n",
        "print(\"Accuracy: \", model5_y1.score(x_test, y_test['y1']))\n",
        "print(\"Confusion matrix: \")\n",
        "print(confusion_matrix(y_test['y1'], pred))\n",
        "model5_y1_score = model5_y1.score(x_test, y_test['y1'])"
      ],
      "execution_count": null,
      "outputs": [
        {
          "output_type": "stream",
          "text": [
            "Best parameters: {'n_estimators': 9}\n",
            "Best score: 0.7614379084967321\n",
            "Accuracy:  0.6956521739130435\n",
            "Confusion matrix: \n",
            "[[12  3]\n",
            " [ 4  4]]\n"
          ],
          "name": "stdout"
        }
      ]
    },
    {
      "cell_type": "code",
      "metadata": {
        "id": "fxZTfpMqHYn7",
        "outputId": "411e103b-3eef-4dc5-be1d-dcbef81ff941",
        "colab": {
          "base_uri": "https://localhost:8080/",
          "height": 442
        }
      },
      "source": [
        "# RF Feature importance\n",
        "importance = model5_y1.feature_importances_\n",
        "plt.bar([x for x in range(len(importance))], importance)\n",
        "plt.show()\n",
        "\n",
        "for importance, name in sorted(zip(model5_y1.feature_importances_, x.columns), reverse=True)[:10]:\n",
        "    print (name, importance)"
      ],
      "execution_count": null,
      "outputs": [
        {
          "output_type": "display_data",
          "data": {
            "image/png": "[encoded data removed]",
            "text/plain": [
              "<Figure size 432x288 with 1 Axes>"
            ]
          },
          "metadata": {
            "tags": [],
            "needs_background": "light"
          }
        },
        {
          "output_type": "stream",
          "text": [
            "x311 0.11040028999728616\n",
            "x12 0.07593896301443162\n",
            "x108 0.06665403182344859\n",
            "x139 0.04861111111111111\n",
            "x104 0.044722224333564715\n",
            "x315 0.036892099258017085\n",
            "x164 0.03445598544872722\n",
            "x111 0.031910988798875356\n",
            "x265 0.031126010137816\n",
            "x324 0.03020111288845139\n"
          ],
          "name": "stdout"
        }
      ]
    },
    {
      "cell_type": "markdown",
      "metadata": {
        "id": "0BBbJm2X_7hN"
      },
      "source": [
        "## XGBoost\n",
        "\n",
        "Random Forest did not improve the performance, let's also try another tree-based algorithm, XGBoost. From readings, XGBoost tend to have better performance than logistic regression. It is a very flexible algorithm with inherent regularization. We will use n_estimator obtained from random forest grid search."
      ]
    },
    {
      "cell_type": "code",
      "metadata": {
        "id": "-ghDZfdD_75v",
        "outputId": "b754a1f6-1dc3-4491-ef9f-17324d2c479b",
        "colab": {
          "base_uri": "https://localhost:8080/",
          "height": 123
        }
      },
      "source": [
        "from xgboost import XGBClassifier\n",
        "parameters = {\n",
        "    'max_depth' : [3,4,5],\n",
        "    'learning_rate' : [0.1, 0.2]\n",
        "}\n",
        "Grid = GridSearchCV(XGBClassifier(n_estimators=9, objective='binary:logistic'), parameters, cv=5)\n",
        "Grid.fit(x_train, y_train['y1'])\n",
        "print(\"Best parameters: \" + str(Grid.best_params_))\n",
        "print(\"Best score: \" + str(Grid.best_score_))\n",
        "\n",
        "model6_y1 = Grid_RF.best_estimator_\n",
        "model6_y1.fit(x_train, y_train['y1'])\n",
        "pred = model6_y1.predict(x_test)\n",
        "print(\"Accuracy: \", model6_y1.score(x_test, y_test['y1']))\n",
        "print(\"Confusion matrix: \")\n",
        "print(confusion_matrix(y_test['y1'], pred))\n",
        "model6_y1_score = model6_y1.score(x_test, y_test['y1'])"
      ],
      "execution_count": null,
      "outputs": [
        {
          "output_type": "stream",
          "text": [
            "Best parameters: {'learning_rate': 0.2, 'max_depth': 3}\n",
            "Best score: 0.7941176470588235\n",
            "Accuracy:  0.6956521739130435\n",
            "Confusion matrix: \n",
            "[[12  3]\n",
            " [ 4  4]]\n"
          ],
          "name": "stdout"
        }
      ]
    },
    {
      "cell_type": "code",
      "metadata": {
        "id": "cQV5pXN6HPuQ",
        "outputId": "023f49e6-093f-44b7-d022-22f4f1eb1c6b",
        "colab": {
          "base_uri": "https://localhost:8080/",
          "height": 442
        }
      },
      "source": [
        "# XGBoost Feature importance\n",
        "importance = model6_y1.feature_importances_\n",
        "plt.bar([x for x in range(len(importance))], importance)\n",
        "plt.show()\n",
        "\n",
        "for importance, name in sorted(zip(model6_y1.feature_importances_, x.columns), reverse=True)[:10]:\n",
        "    print (name, importance)"
      ],
      "execution_count": null,
      "outputs": [
        {
          "output_type": "display_data",
          "data": {
            "image/png": "[encoded data removed]",
            "text/plain": [
              "<Figure size 432x288 with 1 Axes>"
            ]
          },
          "metadata": {
            "tags": [],
            "needs_background": "light"
          }
        },
        {
          "output_type": "stream",
          "text": [
            "x311 0.11040028999728616\n",
            "x12 0.07593896301443162\n",
            "x108 0.06665403182344859\n",
            "x139 0.04861111111111111\n",
            "x104 0.044722224333564715\n",
            "x315 0.036892099258017085\n",
            "x164 0.03445598544872722\n",
            "x111 0.031910988798875356\n",
            "x265 0.031126010137816\n",
            "x324 0.03020111288845139\n"
          ],
          "name": "stdout"
        }
      ]
    },
    {
      "cell_type": "markdown",
      "metadata": {
        "id": "0Mp_hiLtNpvo"
      },
      "source": [
        "## SVM\n",
        "\n",
        "SVM can be very powerful fitting nonlinear decision boundaries and works well with high dimensional datasets. We will implement SVM trying different kernel types."
      ]
    },
    {
      "cell_type": "code",
      "metadata": {
        "id": "gfJbTYtbNrld",
        "outputId": "7eed1ff3-ce8a-4704-f88f-0b302e1d40e0",
        "colab": {
          "base_uri": "https://localhost:8080/",
          "height": 70
        }
      },
      "source": [
        "from sklearn.svm import SVC \n",
        "parameters = {\n",
        "    'kernel' : ['linear', 'poly', 'rbf']\n",
        "}\n",
        "\n",
        "# Approach 1 without feature selection\n",
        "Grid = GridSearchCV(SVC(random_state=0), parameters, cv=5)\n",
        "Grid.fit(x_train, y_train['y1'])\n",
        "print(\"Best parameters: \" + str(Grid.best_params_))\n",
        "print(\"Best score: \" + str(Grid.best_score_))\n",
        "\n",
        "model71_y1 = Grid.best_estimator_\n",
        "model71_y1.fit(x_train, y_train['y1'])\n",
        "pred = model71_y1.predict(x_test)\n",
        "print(\"Accuracy: \", model71_y1.score(x_test, y_test['y1']))"
      ],
      "execution_count": null,
      "outputs": [
        {
          "output_type": "stream",
          "text": [
            "Best parameters: {'kernel': 'rbf'}\n",
            "Best score: 0.7836601307189542\n",
            "Accuracy:  0.782608695652174\n"
          ],
          "name": "stdout"
        }
      ]
    },
    {
      "cell_type": "code",
      "metadata": {
        "id": "8BaVTiW5zvOp",
        "outputId": "c26b3657-8d7e-4087-b8c3-2eb15c93f138",
        "colab": {
          "base_uri": "https://localhost:8080/",
          "height": 70
        }
      },
      "source": [
        "# Approach 2 with ANOVA selected features\n",
        "Grid.fit(x_train_anova_y1, y_train['y1'])\n",
        "print(\"Best parameters: \" + str(Grid.best_params_))\n",
        "print(\"Best score: \" + str(Grid.best_score_))\n",
        "\n",
        "model72_y1 = Grid.best_estimator_\n",
        "model72_y1.fit(x_train_anova_y1, y_train['y1'])\n",
        "pred = model72_y1.predict(x_test_anova_y1)\n",
        "print(\"Accuracy: \", model72_y1.score(x_test_anova_y1, y_test['y1']))\n",
        "model7_y1_score = model72_y1.score(x_test_anova_y1, y_test['y1'])"
      ],
      "execution_count": null,
      "outputs": [
        {
          "output_type": "stream",
          "text": [
            "Best parameters: {'kernel': 'rbf'}\n",
            "Best score: 0.8509803921568627\n",
            "Accuracy:  0.782608695652174\n"
          ],
          "name": "stdout"
        }
      ]
    },
    {
      "cell_type": "markdown",
      "metadata": {
        "id": "DO316CDODS6R"
      },
      "source": [
        "## Summary\n",
        "\n",
        "Overall, logistic regression seems the most robust under different feature selection approaches. Naive Bayes and KNN are significantly affected based on feature selection technique used. The PCA dimension reduction shows good results with some models (Logistic Regression) and bad with others (Naive Bayes). A single Decision Tree only picked a few important features, whereas random forest and XGBoost selected more features.\n",
        "\n",
        "Note that we could have compared the models' performance more carefully using multiple metrics, such as precision, recall, F1, etc., and have functions that pick thresholds the maximize certain metrics. However, the determinationg of the \"best model\" is based on a priorization of the metric which depends on the real application scenario. So model evaluation has not been dived in this exercise."
      ]
    },
    {
      "cell_type": "code",
      "metadata": {
        "id": "vzdqYlh7Aqd5",
        "outputId": "05f813be-bc5a-4de6-d3a8-683deb3a289c",
        "colab": {
          "base_uri": "https://localhost:8080/",
          "height": 285
        }
      },
      "source": [
        "scores = [model1_y1_score, model2_y1_score, model3_y1_score, model4_y1_score,\n",
        "          model5_y1_score, model6_y1_score, model7_y1_score]\n",
        "models = ['lasso', 'NB', 'KNN', 'Decision Tree', 'RF', 'XGBoost', 'SVM']\n",
        "\n",
        "plt.figure(1)\n",
        "plt.plot(models, scores, 'ro')\n",
        "plt.legend(['r-squre / score'])\n",
        "plt.xlabel('model names',fontsize =16)\n",
        "plt.ylabel('score / r square', fontsize =16)\n",
        "plt.grid(True)\n",
        "plt.show()"
      ],
      "execution_count": null,
      "outputs": [
        {
          "output_type": "display_data",
          "data": {
            "image/png": "[encoded data removed]",
            "text/plain": [
              "<Figure size 432x288 with 1 Axes>"
            ]
          },
          "metadata": {
            "tags": [],
            "needs_background": "light"
          }
        }
      ]
    },
    {
      "cell_type": "markdown",
      "metadata": {
        "id": "zEKTXEh9tC7e"
      },
      "source": [
        "# Multiclass Classifcation\n",
        "\n",
        "Y2 has three values {0, 1, 2} with quite balanced proportions. We repeat the following implementations:\n",
        "* Model 1 Logistic regression with approaches for multi-class\n",
        "* Model 2 Naive Bayes \n",
        "* Model 3 KNN\n",
        "* Model 4 Decision Tree\n",
        "* Model 5 Random Forest\n",
        "* Model 6 XGBoost\n",
        "* Model 7 SVM\n",
        "\n",
        "To evaluate the performance, we used a weighted AUC of each class and the overall accuracy. Note that we omitted parameter tunning in this section for simplicy."
      ]
    },
    {
      "cell_type": "markdown",
      "metadata": {
        "id": "rSHRLQdCtMHk"
      },
      "source": [
        "To adapt the original binary classification algorithms to multi-class problem, there are two options:\n",
        "* One-vs-Rest: a binary classification conducted for each class\n",
        "* One-vs-One: a binary classification for each pair of classes\n",
        "\n",
        "Other classification algorithms inherently allow multi-class labels."
      ]
    },
    {
      "cell_type": "code",
      "metadata": {
        "id": "wsf0JOug8p5-"
      },
      "source": [
        "from sklearn import preprocessing\n",
        "y2_binarized = preprocessing.label_binarize(y['y2'], classes=[0, 1, 2])"
      ],
      "execution_count": null,
      "outputs": []
    },
    {
      "cell_type": "code",
      "metadata": {
        "id": "e3KS6iEJtPpx",
        "outputId": "f6c565b0-b5b1-4227-e7d5-90cef268c044",
        "colab": {
          "base_uri": "https://localhost:8080/",
          "height": 211
        }
      },
      "source": [
        "# Logistic Regression with LASSO and One vs Rest strategy\n",
        "from sklearn.multiclass import OneVsRestClassifier\n",
        "\n",
        "base_lr = LogisticRegression(solver='liblinear', penalty='l1')\n",
        "model1_y2 = OneVsRestClassifier(base_lr)\n",
        "pred = model1_y2.fit(x_train, y_train['y2']).predict_proba(x_test)\n",
        "model1_y2_score = model1_y2.score(x_test, y_test['y2'])\n",
        "print(\"Weighted AUC\", roc_auc_score(y_test['y2'], pred, multi_class=\"ovr\", average=\"weighted\"))\n",
        "\n",
        "pred = model1_y2.fit(x_train, y_train['y2']).predict(x_test)\n",
        "print(classification_report(y_test['y2'], pred))"
      ],
      "execution_count": 387,
      "outputs": [
        {
          "output_type": "stream",
          "text": [
            "Weighted AUC 0.6654031958379785\n",
            "              precision    recall  f1-score   support\n",
            "\n",
            "           0       1.00      0.40      0.57         5\n",
            "           1       0.47      0.70      0.56        10\n",
            "           2       0.50      0.38      0.43         8\n",
            "\n",
            "    accuracy                           0.52        23\n",
            "   macro avg       0.66      0.49      0.52        23\n",
            "weighted avg       0.59      0.52      0.52        23\n",
            "\n"
          ],
          "name": "stdout"
        }
      ]
    },
    {
      "cell_type": "code",
      "metadata": {
        "id": "_dkEhhm96W6U",
        "outputId": "2733c4fb-1932-4580-b8d8-62b4e7d152fe",
        "colab": {
          "base_uri": "https://localhost:8080/",
          "height": 211
        }
      },
      "source": [
        "# Naive bayes with ANOVA selected features\n",
        "model2_y2 = GaussianNB()\n",
        "pred = model2_y2.fit(x_train_anova_y2, y_train['y2']).predict_proba(x_test_anova_y2)\n",
        "model2_y2_score = model2_y2.score(x_test_anova_y2, y_test['y2'])\n",
        "print(\"Weighted AUC\", roc_auc_score(y_test['y2'], pred, multi_class=\"ovr\", average=\"weighted\"))\n",
        "\n",
        "pred = model2_y2.fit(x_train_anova_y2, y_train['y2']).predict(x_test_anova_y2)\n",
        "print(classification_report(y_test['y2'], pred))"
      ],
      "execution_count": 388,
      "outputs": [
        {
          "output_type": "stream",
          "text": [
            "Weighted AUC 0.5619472315124487\n",
            "              precision    recall  f1-score   support\n",
            "\n",
            "           0       0.29      0.40      0.33         5\n",
            "           1       0.60      0.30      0.40        10\n",
            "           2       0.36      0.50      0.42         8\n",
            "\n",
            "    accuracy                           0.39        23\n",
            "   macro avg       0.42      0.40      0.38        23\n",
            "weighted avg       0.45      0.39      0.39        23\n",
            "\n"
          ],
          "name": "stdout"
        }
      ]
    },
    {
      "cell_type": "code",
      "metadata": {
        "id": "RDSl8FuP-9Xt",
        "outputId": "7bd94438-7f75-4d8f-dbef-181c6d5c6819",
        "colab": {
          "base_uri": "https://localhost:8080/",
          "height": 264
        }
      },
      "source": [
        "# KNN with PCA\n",
        "model3_y2 = KNeighborsClassifier(n_neighbors=3)\n",
        "pred = model3_y2.fit(x_train_pca, y_train['y2']).predict(x_test_pca)\n",
        "model3_y2_score = model3_y2.score(x_test_pca, y_test['y2'])\n",
        "print(\"Approach 2 confusion matrix: \")\n",
        "print(confusion_matrix(y_test['y2'], pred))\n",
        "print(classification_report(y_test['y2'], pred))"
      ],
      "execution_count": 389,
      "outputs": [
        {
          "output_type": "stream",
          "text": [
            "Approach 2 confusion matrix: \n",
            "[[1 2 2]\n",
            " [3 2 5]\n",
            " [3 1 4]]\n",
            "              precision    recall  f1-score   support\n",
            "\n",
            "           0       0.14      0.20      0.17         5\n",
            "           1       0.40      0.20      0.27        10\n",
            "           2       0.36      0.50      0.42         8\n",
            "\n",
            "    accuracy                           0.30        23\n",
            "   macro avg       0.30      0.30      0.28        23\n",
            "weighted avg       0.33      0.30      0.30        23\n",
            "\n"
          ],
          "name": "stdout"
        }
      ]
    },
    {
      "cell_type": "code",
      "metadata": {
        "id": "hq8AHtFd4fLP",
        "outputId": "63e74ad3-8c98-4fc5-c1bf-9829772042b8",
        "colab": {
          "base_uri": "https://localhost:8080/",
          "height": 264
        }
      },
      "source": [
        "# Decision Tree\n",
        "model4_y2 = DecisionTreeClassifier(max_depth = 3, random_state=0)\n",
        "pred = model4_y2.fit(x_train_corr_y2, y_train['y2']).predict(x_test_corr_y2)\n",
        "model4_y2_score = model4_y2.score(x_test_corr_y2, y_test['y2'])\n",
        "print(\"Confusion matrix: \")\n",
        "print(confusion_matrix(y_test['y2'], pred))\n",
        "print(classification_report(y_test['y2'], pred))"
      ],
      "execution_count": 382,
      "outputs": [
        {
          "output_type": "stream",
          "text": [
            "Confusion matrix: \n",
            "[[3 2 0]\n",
            " [2 4 4]\n",
            " [1 4 3]]\n",
            "              precision    recall  f1-score   support\n",
            "\n",
            "           0       0.50      0.60      0.55         5\n",
            "           1       0.40      0.40      0.40        10\n",
            "           2       0.43      0.38      0.40         8\n",
            "\n",
            "    accuracy                           0.43        23\n",
            "   macro avg       0.44      0.46      0.45        23\n",
            "weighted avg       0.43      0.43      0.43        23\n",
            "\n"
          ],
          "name": "stdout"
        }
      ]
    },
    {
      "cell_type": "code",
      "metadata": {
        "id": "c2J4kbOz5XLS",
        "outputId": "3778d3d1-ac40-41d4-eafc-bdd6224a682f",
        "colab": {
          "base_uri": "https://localhost:8080/",
          "height": 282
        }
      },
      "source": [
        "# Random Forest\n",
        "model5_y2 = RandomForestClassifier(random_state=0, n_estimators=9)\n",
        "pred = model5_y2.fit(x_train, y_train['y2']).predict(x_test)\n",
        "model5_y2_score = model5_y2.score(x_test, y_test['y2'])\n",
        "print(\"Confusion matrix: \")\n",
        "print(confusion_matrix(y_test['y2'], pred))\n",
        "print(classification_report(y_test['y2'], pred))"
      ],
      "execution_count": 381,
      "outputs": [
        {
          "output_type": "stream",
          "text": [
            "Accuracy:  0.391304347826087\n",
            "Confusion matrix: \n",
            "[[3 1 1]\n",
            " [2 5 3]\n",
            " [0 7 1]]\n",
            "              precision    recall  f1-score   support\n",
            "\n",
            "           0       0.60      0.60      0.60         5\n",
            "           1       0.38      0.50      0.43        10\n",
            "           2       0.20      0.12      0.15         8\n",
            "\n",
            "    accuracy                           0.39        23\n",
            "   macro avg       0.39      0.41      0.40        23\n",
            "weighted avg       0.37      0.39      0.37        23\n",
            "\n"
          ],
          "name": "stdout"
        }
      ]
    },
    {
      "cell_type": "code",
      "metadata": {
        "id": "lcw9J8l-9hiw",
        "outputId": "93ecc085-2626-4b86-e325-67acfbb722b0",
        "colab": {
          "base_uri": "https://localhost:8080/",
          "height": 282
        }
      },
      "source": [
        "# XGBoost with softmax for multiclass and ANOVA selected features\n",
        "# Softmax maps the three categories into probabilities [0, 1]\n",
        "model6_y2 = XGBClassifier(learning_rate = 0.2, max_depth = 3,\n",
        "                          objective = 'multi:softmax', tree_method='approx')\n",
        "pred = model6_y2.fit(x_train_anova_y2, y_train['y2']).predict(x_test_anova_y2)\n",
        "model6_y2_score = model6_y2.score(x_test_anova_y2, y_test['y2'])\n",
        "print(\"Confusion matrix: \")\n",
        "print(confusion_matrix(y_test['y2'], pred))\n",
        "print(classification_report(y_test['y2'], pred))"
      ],
      "execution_count": 380,
      "outputs": [
        {
          "output_type": "stream",
          "text": [
            "Accuracy:  0.5217391304347826\n",
            "Confusion matrix: \n",
            "[[3 1 1]\n",
            " [1 7 2]\n",
            " [1 5 2]]\n",
            "              precision    recall  f1-score   support\n",
            "\n",
            "           0       0.60      0.60      0.60         5\n",
            "           1       0.54      0.70      0.61        10\n",
            "           2       0.40      0.25      0.31         8\n",
            "\n",
            "    accuracy                           0.52        23\n",
            "   macro avg       0.51      0.52      0.51        23\n",
            "weighted avg       0.50      0.52      0.50        23\n",
            "\n"
          ],
          "name": "stdout"
        }
      ]
    },
    {
      "cell_type": "code",
      "metadata": {
        "id": "-tWs15ABAha3",
        "outputId": "194b44af-8e5c-496a-9ee1-10724d9d85ff",
        "colab": {
          "base_uri": "https://localhost:8080/",
          "height": 282
        }
      },
      "source": [
        "# SVM\n",
        "model7_y2 = SVC(random_state=0, kernel='poly')\n",
        "pred = model7_y2.fit(x_train_anova_y2, y_train['y2']).predict(x_test_anova_y2)\n",
        "model7_y2_score = model7_y2.score(x_test_anova_y2, y_test['y2'])\n",
        "print(\"Accuracy: \", model7_y2_score)\n",
        "print(\"Confusion matrix: \")\n",
        "print(confusion_matrix(y_test['y2'], pred))\n",
        "print(classification_report(y_test['y2'], pred))"
      ],
      "execution_count": 390,
      "outputs": [
        {
          "output_type": "stream",
          "text": [
            "Accuracy:  0.4782608695652174\n",
            "Confusion matrix: \n",
            "[[ 1  3  1]\n",
            " [ 0 10  0]\n",
            " [ 0  8  0]]\n",
            "              precision    recall  f1-score   support\n",
            "\n",
            "           0       1.00      0.20      0.33         5\n",
            "           1       0.48      1.00      0.65        10\n",
            "           2       0.00      0.00      0.00         8\n",
            "\n",
            "    accuracy                           0.48        23\n",
            "   macro avg       0.49      0.40      0.33        23\n",
            "weighted avg       0.42      0.48      0.35        23\n",
            "\n"
          ],
          "name": "stdout"
        }
      ]
    },
    {
      "cell_type": "markdown",
      "metadata": {
        "id": "NF7ZUmpkLMyi"
      },
      "source": [
        "## Summary\n",
        "\n",
        "Overall, none of the models are performing well predicting for y2. The logistics regression achieved the highest accuracy score, followed by XGBoost and SVM. Again, we could have compared other metrics."
      ]
    },
    {
      "cell_type": "code",
      "metadata": {
        "id": "eR4fIxwqLPkz",
        "outputId": "bd3a460a-ff16-4e0b-960a-533d46951392",
        "colab": {
          "base_uri": "https://localhost:8080/",
          "height": 284
        }
      },
      "source": [
        "scores = [model1_y2_score, model2_y2_score, model3_y2_score, model4_y2_score,\n",
        "          model5_y2_score, model6_y2_score, model7_y2_score]\n",
        "models = ['lasso log', 'NB', 'KNN', 'Decision Tree', 'RF', 'XGBoost', 'SVM']\n",
        "\n",
        "plt.figure(1)\n",
        "plt.plot(models, scores, 'ro')\n",
        "plt.legend(['r-squre / score'])\n",
        "plt.xlabel('model names',fontsize =16)\n",
        "plt.ylabel('score / r square', fontsize =16)\n",
        "plt.grid(True)\n",
        "plt.show()"
      ],
      "execution_count": 517,
      "outputs": [
        {
          "output_type": "display_data",
          "data": {
            "image/png": "[encoded data removed]",
            "text/plain": [
              "<Figure size 432x288 with 1 Axes>"
            ]
          },
          "metadata": {
            "tags": [],
            "needs_background": "light"
          }
        }
      ]
    },
    {
      "cell_type": "markdown",
      "metadata": {
        "id": "cwGh-zfBlbnO"
      },
      "source": [
        "# Multi-Label Classification\n",
        "\n",
        "There are three main approaches to solve multi-label classification ([Madjarov et al](http://kt.ijs.si/DragiKocev/wikipage/lib/exe/fetch.php?media=2012pr_ml_comparison.pdf)):\n",
        "* Problem transformation\n",
        " * Binary Relevance \n",
        " * Classifier Chain\n",
        " * Label Powerset \n",
        "* Adapting existing algorithms\n",
        " * KNN \n",
        " * Decision Tree\n",
        " * SVM\n",
        "* Ensemble approach\n",
        "\n",
        "We first binarized y2 using one-hot encoding because most built-in classifiers cannot handle a mix of multiclass and multilabel responses. This step creates 2 columns for y2. \n",
        "\n",
        "To evaluate the performance of multi-label prediction, we used:\n",
        "* Accuracy score for y1\n",
        "* Subset accuracy of the three y2 binary columns such that a correct classification means all three binary values match, and the total accuracy score is the fraction of correctly classified data points\n",
        "* We also output the classification report which treats the tree binary columns are separate labels to get some extra information\n",
        "\n",
        "We omitted parameter tunning in this section for simplicity, since the focus of this exercise is algorithm implementation and not model performance optimization. We showed the parameter tuning process in a previous section.\n",
        "\n",
        "\n",
        "\n"
      ]
    },
    {
      "cell_type": "code",
      "metadata": {
        "id": "TAw8jA4lhmfm"
      },
      "source": [
        "# binarize y2\n",
        "from sklearn.preprocessing import MultiLabelBinarizer\n",
        "y_train_binary = MultiLabelBinarizer().fit_transform(np.asarray(y_train))\n",
        "y_test_binary = MultiLabelBinarizer().fit_transform(np.asarray(y_test))"
      ],
      "execution_count": 360,
      "outputs": []
    },
    {
      "cell_type": "markdown",
      "metadata": {
        "id": "FIwg9OOwvajI"
      },
      "source": [
        "## Problem Transformation"
      ]
    },
    {
      "cell_type": "markdown",
      "metadata": {
        "id": "EsHmHUqcOEBC"
      },
      "source": [
        "### Binary Relevance\n",
        "\n",
        "BR is known as the one-against-all\n",
        "strategy It learns one classifier for each label, treating each label as a single classification problem. This approach ignores the relationship between labels.\n",
        "\n",
        "We will base our binary relevance procedure on LASSO logistic regression since from previous sections we know it performs well on our data."
      ]
    },
    {
      "cell_type": "code",
      "metadata": {
        "id": "Fexuu7XvSdCd",
        "outputId": "208084a8-b395-4d71-ce08-9da52d2b6591",
        "colab": {
          "base_uri": "https://localhost:8080/",
          "height": 246
        }
      },
      "source": [
        "# binary relevance with LASSO logistic regression\n",
        "from skmultilearn.problem_transform import BinaryRelevance\n",
        "from sklearn.metrics import accuracy_score\n",
        "\n",
        "model1 = BinaryRelevance(LogisticRegression(solver='liblinear', penalty='l1'), require_dense=(True, True))\n",
        "pred = model1.fit(x_train, y_train_binary).predict(x_test).toarray()\n",
        "model1_score = [accuracy_score(y_test_binary[:, 0], pred[:, 0]), accuracy_score(y_test_binary[:, 1:4], pred[:, 1:4])]\n",
        "print(\"Accuracy for y1:\", model1_score[0])\n",
        "print(\"Accuracy for y2:\", model1_score[1])\n",
        "print(classification_report(y_test_binary, pred))"
      ],
      "execution_count": 506,
      "outputs": [
        {
          "output_type": "stream",
          "text": [
            "Accuracy for y1: 0.782608695652174\n",
            "Accuracy for y2: 0.4782608695652174\n",
            "              precision    recall  f1-score   support\n",
            "\n",
            "           0       0.83      0.88      0.86        17\n",
            "           1       0.79      0.79      0.79        14\n",
            "           2       0.43      0.38      0.40         8\n",
            "\n",
            "   micro avg       0.74      0.74      0.74        39\n",
            "   macro avg       0.68      0.68      0.68        39\n",
            "weighted avg       0.73      0.74      0.74        39\n",
            " samples avg       0.80      0.76      0.74        39\n",
            "\n"
          ],
          "name": "stdout"
        }
      ]
    },
    {
      "cell_type": "markdown",
      "metadata": {
        "id": "jggRaoMeD9vv"
      },
      "source": [
        "### Classifier Chain \n",
        "\n",
        "Tackles the multi-label problem with a sequence of classifiers linked in a chain, where the i-th classifier is trained including the input space with all the features and the previous classifiers. We will use a classifier chain of logistic regression since we know that logistic regression fits well to the data.\n",
        "\n",
        "Note that using classifier chain on y2 is \"cheating\", since we binarized y2 into two binary labels, knowing the first label should help predict the second label. So we expect the accuracy for y2 to be higher. Knowing that it is not a fair application of the algorithm, we will still implement it to try how it works."
      ]
    },
    {
      "cell_type": "code",
      "metadata": {
        "id": "E78ndAjYDz2f",
        "outputId": "b4e1c687-93c6-4f1c-e7f3-e97a4f6f0c09",
        "colab": {
          "base_uri": "https://localhost:8080/",
          "height": 246
        }
      },
      "source": [
        "# classifier chain with LASSO logistic regression\n",
        "from sklearn.multioutput import ClassifierChain\n",
        "\n",
        "model2 = ClassifierChain(LogisticRegression(solver='liblinear', penalty='l1'))\n",
        "pred = model2.fit(x_train, y_train_binary).predict(x_test)\n",
        "model2_score = [accuracy_score(y_test_binary[:, 0], pred[:, 0]), accuracy_score(y_test_binary[:, 1:4], pred[:, 1:4])]\n",
        "print(\"Accuracy for y1:\", model2_score[0])\n",
        "print(\"Accuracy for y2:\", model2_score[1])\n",
        "print(classification_report(y_test_binary, pred))"
      ],
      "execution_count": 507,
      "outputs": [
        {
          "output_type": "stream",
          "text": [
            "Accuracy for y1: 0.782608695652174\n",
            "Accuracy for y2: 0.5217391304347826\n",
            "              precision    recall  f1-score   support\n",
            "\n",
            "           0       0.83      0.88      0.86        17\n",
            "           1       0.79      0.79      0.79        14\n",
            "           2       0.50      0.25      0.33         8\n",
            "\n",
            "   micro avg       0.78      0.72      0.75        39\n",
            "   macro avg       0.71      0.64      0.66        39\n",
            "weighted avg       0.75      0.72      0.72        39\n",
            " samples avg       0.80      0.74      0.74        39\n",
            "\n"
          ],
          "name": "stdout"
        }
      ]
    },
    {
      "cell_type": "markdown",
      "metadata": {
        "id": "YR_vmGycPNLN"
      },
      "source": [
        "### Label Power-set \n",
        "\n",
        "The Label Power-set treats the multi-label problem as a multi-class problem, where each unique combination of the labels is treated as a class. Whether this method is applicable depends on the classification context. We will implement it as follows"
      ]
    },
    {
      "cell_type": "code",
      "metadata": {
        "id": "SItE7zR-t8KJ",
        "outputId": "1259d990-0a2e-4c0a-d287-e9c73730f38e",
        "colab": {
          "base_uri": "https://localhost:8080/",
          "height": 246
        }
      },
      "source": [
        "# Label Powerset with LASSO log regression\n",
        "from skmultilearn.problem_transform import LabelPowerset\n",
        "\n",
        "model3 = LabelPowerset(LogisticRegression(solver='liblinear', penalty='l1'))\n",
        "pred = model3.fit(x_train, y_train_binary).predict(x_test).toarray()\n",
        "model3_score = [accuracy_score(y_test_binary[:, 0], pred[:, 0]), accuracy_score(y_test_binary[:, 1:4], pred[:, 1:4])]\n",
        "print(\"Accuracy for y1:\", model3_score[0])\n",
        "print(\"Accuracy for y2:\", model3_score[1])\n",
        "print(classification_report(y_test_binary, pred))"
      ],
      "execution_count": 508,
      "outputs": [
        {
          "output_type": "stream",
          "text": [
            "Accuracy for y1: 0.782608695652174\n",
            "Accuracy for y2: 0.4782608695652174\n",
            "              precision    recall  f1-score   support\n",
            "\n",
            "           0       0.88      0.82      0.85        17\n",
            "           1       0.62      0.71      0.67        14\n",
            "           2       0.40      0.25      0.31         8\n",
            "\n",
            "   micro avg       0.70      0.67      0.68        39\n",
            "   macro avg       0.63      0.60      0.61        39\n",
            "weighted avg       0.69      0.67      0.67        39\n",
            " samples avg       0.72      0.70      0.69        39\n",
            "\n"
          ],
          "name": "stdout"
        }
      ]
    },
    {
      "cell_type": "markdown",
      "metadata": {
        "id": "ZsrSk-1CvWPd"
      },
      "source": [
        "## Adapted Algorithm"
      ]
    },
    {
      "cell_type": "markdown",
      "metadata": {
        "id": "9W9BWPN6wAhG"
      },
      "source": [
        "### ML-kNN\n",
        "\n",
        "ML-kNN assumes independence among the labels and gives an equal weight to each label occurrence in the neighborhood of the input instance. We use k = 6 = 2 x 3 which makes sense in our context.\n",
        "\n"
      ]
    },
    {
      "cell_type": "code",
      "metadata": {
        "id": "PK28g5VLwEtf",
        "outputId": "68403706-59f2-4777-b49d-27e5d64ac1d6",
        "colab": {
          "base_uri": "https://localhost:8080/",
          "height": 246
        }
      },
      "source": [
        "from skmultilearn.adapt import MLkNN\n",
        "model4 = MLkNN(k=6) \n",
        "\n",
        "# with ANOVA selected features (union)\n",
        "pred = model4.fit(x_train_anova, y_train_binary).predict(x_test_anova).toarray()\n",
        "model4_score = [accuracy_score(y_test_binary[:, 0], pred[:, 0]), accuracy_score(y_test_binary[:, 1:4], pred[:, 1:4])]\n",
        "print(\"Accuracy for y1:\", model4_score[0])\n",
        "print(\"Accuracy for y2:\", model4_score[1])\n",
        "print(classification_report(y_test_binary, pred))"
      ],
      "execution_count": 509,
      "outputs": [
        {
          "output_type": "stream",
          "text": [
            "Accuracy for y1: 0.8260869565217391\n",
            "Accuracy for y2: 0.391304347826087\n",
            "              precision    recall  f1-score   support\n",
            "\n",
            "           0       0.88      0.88      0.88        17\n",
            "           1       0.62      0.57      0.59        14\n",
            "           2       0.45      0.62      0.53         8\n",
            "\n",
            "   micro avg       0.68      0.72      0.70        39\n",
            "   macro avg       0.65      0.69      0.67        39\n",
            "weighted avg       0.70      0.72      0.71        39\n",
            " samples avg       0.70      0.76      0.70        39\n",
            "\n"
          ],
          "name": "stdout"
        }
      ]
    },
    {
      "cell_type": "code",
      "metadata": {
        "id": "wxPW-dvSG9DF",
        "outputId": "6a0dce25-c1b6-4245-e020-e57d6ac79c68",
        "colab": {
          "base_uri": "https://localhost:8080/",
          "height": 246
        }
      },
      "source": [
        "# with PCA \n",
        "pred = model4.fit(x_train_pca, y_train_binary).predict(x_test_pca).toarray()\n",
        "print(\"Accuracy for y1:\", accuracy_score(y_test_binary[:, 0], pred[:, 0]))\n",
        "print(\"Accuracy for y2:\", accuracy_score(y_test_binary[:, 1:4], pred[:, 1:4]))\n",
        "print(classification_report(y_test_binary, pred))"
      ],
      "execution_count": 499,
      "outputs": [
        {
          "output_type": "stream",
          "text": [
            "Accuracy for y1: 0.8260869565217391\n",
            "Accuracy for y2: 0.34782608695652173\n",
            "              precision    recall  f1-score   support\n",
            "\n",
            "           0       0.81      1.00      0.89        17\n",
            "           1       0.67      0.43      0.52        14\n",
            "           2       0.36      0.62      0.45         8\n",
            "\n",
            "   micro avg       0.64      0.72      0.67        39\n",
            "   macro avg       0.61      0.68      0.62        39\n",
            "weighted avg       0.67      0.72      0.67        39\n",
            " samples avg       0.63      0.72      0.65        39\n",
            "\n"
          ],
          "name": "stdout"
        }
      ]
    },
    {
      "cell_type": "markdown",
      "metadata": {
        "id": "BGI0TQ4llhYO"
      },
      "source": [
        "### Decision tree\n",
        "\n",
        "The decision tree implemention also inherently supports multiple labels so we will call the package directly"
      ]
    },
    {
      "cell_type": "code",
      "metadata": {
        "id": "bWHAN7_FxCxt",
        "outputId": "f0c259ac-1e6a-4749-aac7-0fef30049cbe",
        "colab": {
          "base_uri": "https://localhost:8080/",
          "height": 246
        }
      },
      "source": [
        "model5 = DecisionTreeClassifier(random_state=0)\n",
        "model5.fit(x_train, y_train_binary)\n",
        "pred = model5.predict(x_test)\n",
        "model5_score = [accuracy_score(y_test_binary[:, 0], pred[:, 0]), accuracy_score(y_test_binary[:, 1:4], pred[:, 1:4])]\n",
        "print(\"Accuracy for y1:\", model5_score[0])\n",
        "print(\"Accuracy for y2:\", model5_score[1])\n",
        "print(classification_report(y_test_binary, pred))"
      ],
      "execution_count": 510,
      "outputs": [
        {
          "output_type": "stream",
          "text": [
            "Accuracy for y1: 0.8260869565217391\n",
            "Accuracy for y2: 0.4782608695652174\n",
            "              precision    recall  f1-score   support\n",
            "\n",
            "           0       0.84      0.94      0.89        17\n",
            "           1       0.77      0.71      0.74        14\n",
            "           2       0.33      0.25      0.29         8\n",
            "\n",
            "   micro avg       0.74      0.72      0.73        39\n",
            "   macro avg       0.65      0.64      0.64        39\n",
            "weighted avg       0.71      0.72      0.71        39\n",
            " samples avg       0.74      0.74      0.72        39\n",
            "\n"
          ],
          "name": "stdout"
        }
      ]
    },
    {
      "cell_type": "markdown",
      "metadata": {
        "id": "PLNKaaRx_Muf"
      },
      "source": [
        "### SVM with OneVsRest"
      ]
    },
    {
      "cell_type": "code",
      "metadata": {
        "id": "d164r4YH_RGj",
        "outputId": "71637ed2-92f4-42e1-d824-9ae1422250ac",
        "colab": {
          "base_uri": "https://localhost:8080/",
          "height": 246
        }
      },
      "source": [
        "# OneVsRest with SVM as base classifier\n",
        "model6 = OneVsRestClassifier(SVC(random_state=0, kernel='poly'))\n",
        "pred = model6.fit(x_train_anova, y_train_binary).predict(x_test_anova)\n",
        "model6_score = [accuracy_score(y_test_binary[:, 0], pred[:, 0]), accuracy_score(y_test_binary[:, 1:4], pred[:, 1:4])]\n",
        "print(\"Accuracy for y1:\", model6_score[0])\n",
        "print(\"Accuracy for y2:\", model6_score[1])\n",
        "print(classification_report(y_test_binary, pred))"
      ],
      "execution_count": 511,
      "outputs": [
        {
          "output_type": "stream",
          "text": [
            "Accuracy for y1: 0.782608695652174\n",
            "Accuracy for y2: 0.5652173913043478\n",
            "              precision    recall  f1-score   support\n",
            "\n",
            "           0       0.80      0.94      0.86        17\n",
            "           1       0.67      1.00      0.80        14\n",
            "           2       0.00      0.00      0.00         8\n",
            "\n",
            "   micro avg       0.71      0.77      0.74        39\n",
            "   macro avg       0.49      0.65      0.55        39\n",
            "weighted avg       0.59      0.77      0.66        39\n",
            " samples avg       0.74      0.80      0.75        39\n",
            "\n"
          ],
          "name": "stdout"
        }
      ]
    },
    {
      "cell_type": "markdown",
      "metadata": {
        "id": "pj5QMF0ieXXC"
      },
      "source": [
        "## Summary\n",
        "\n",
        "The following plot summarizes the performance of the six multi-label classification models. We chose to report the performance of y1 and y2 separately, considering them as two independent labels. Another way is to report an aggregate  metric for the two labels.\n",
        "\n",
        "Among these approaches, binary Relevance, ML-kNN, and SVM with OneVsRest assumes that labels are independent and do not use other labels' information to classify the current label. On the other extreme, Label powerset considers the unique combination of the labels as one class."
      ]
    },
    {
      "cell_type": "code",
      "metadata": {
        "id": "_O14jX64eadZ",
        "outputId": "16b58720-3eed-4702-c114-c72a3b256657",
        "colab": {
          "base_uri": "https://localhost:8080/",
          "height": 284
        }
      },
      "source": [
        "scores = [model1_score, model2_score, model3_score, model4_score, model5_score, model6_score]\n",
        "models = ['BR', 'Clas Chain', 'LP', 'ML-kNN', 'Decision Tree', 'SVM']\n",
        "\n",
        "plt.figure(1)\n",
        "plt.plot(models, scores, 'ro')\n",
        "plt.legend(['r-squre / score'])\n",
        "plt.xlabel('model names',fontsize =16)\n",
        "plt.ylabel('score / r square', fontsize =16)\n",
        "plt.grid(True)\n",
        "plt.show()"
      ],
      "execution_count": 516,
      "outputs": [
        {
          "output_type": "display_data",
          "data": {
            "image/png": "[encoded data removed]",
            "text/plain": [
              "<Figure size 432x288 with 1 Axes>"
            ]
          },
          "metadata": {
            "tags": [],
            "needs_background": "light"
          }
        }
      ]
    },
    {
      "cell_type": "markdown",
      "metadata": {
        "id": "AIr4kGXJLIJ8"
      },
      "source": [
        "# Final Discussion\n",
        "\n",
        "Amongs the various feature selection techniques, the feature selection based on ANOVA F-tests seems to be more effective than the correlation approach. Using these two methods, setting thresholds to select 50-60 features achieved highest classification performance in most of the models. On the other side, PCA was only able to reduce the feature space to up to six dimensions. Using the six dimensional dataset we were also able to achieve good performance (AUC>0.8) in some models. \n",
        "\n",
        "Roughly comparing the performance of the models on this dataset, Logistics regression and XGBoost performed the best classifying both y1 and y2. Naive Bayes and KNN seem to be susceptible to feature selection. To do a careful comparison, we would need to select a performance metric and do careful parameter tuning. \n",
        "\n",
        "We learned that while some traditional classification models do not support multiclass or multi-label classification, we can adapt these algorithms with supplemental techniques (e.g. OneVsRest or pipelines) so they can be applied to multiclass or multi-label problems. In algorithm packages where multiclass is not supported, we can binarize the target. \n",
        "\n",
        "We learned that the advantage of multi-label classification is first, convenience (not need to build separate classifiers); and second, the ability to utilize any interdependence or relationship between the target variables. "
      ]
    },
    {
      "cell_type": "markdown",
      "metadata": {
        "id": "Blxy5dmm1dXs"
      },
      "source": [
        "# References\n",
        "\n",
        "Sorower, Mohammad. (2020). A Literature Survey on Algorithms for Multi-label Learning. \n",
        "\n",
        "Zhang, M., & Zhou, Z. (2007). ML-KNN: A lazy learning approach to multi-label learning. Pattern Recognition,\n",
        "40(7), 2038–2048\n",
        "\n",
        "Madjarov, G., et al (2012). An extensive experimental comparison of methods for multi-label learning. Pattern Recognition. doi:10.1016/j.patcog.2012.03.004\n",
        "\n",
        "Scikit-multilearn. \n",
        "http://scikit.ml/concepts.html#Single-label-vs-multi-label-classification\n",
        "\n",
        "## Additional Readings\n",
        "\n",
        "* Hierarchical multi-label classification https://www.researchgate.net/publication/226246349_Decision_trees_for_hierarchical_multi-label_classification\n",
        "* Ensemble methods for multi-label classification https://www.google.com/url?sa=t&rct=j&q=&esrc=s&source=web&cd=&cad=rja&uact=8&ved=2ahUKEwiS5JqMlKbsAhVmh-AKHb_9CScQFjABegQIBBAC&url=https%3A%2F%2Farxiv.org%2Fpdf%2F1307.1769&usg=AOvVaw37qb3nqdW-2syWDbjk8qYp\n",
        "* Rank SVM: Joachims, T. (2002), \"Optimizing Search Engines using Clickthrough Data\", Proceedings of the ACM Conference on Knowledge Discovery and Data Mining\n",
        "* IBLR-ML: multi-label model that explicitly models pairwise dependencies among categories\n",
        "using logistic regression"
      ]
    }
  ]
}