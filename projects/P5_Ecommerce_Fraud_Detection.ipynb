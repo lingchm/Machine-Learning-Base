{
  "nbformat": 4,
  "nbformat_minor": 0,
  "metadata": {
    "colab": {
      "name": "P5_Ecommerce Fraud Detection.ipynb",
      "provenance": [],
      "collapsed_sections": [],
      "include_colab_link": true
    },
    "kernelspec": {
      "name": "python3",
      "display_name": "Python 3"
    }
  },
  "cells": [
    {
      "cell_type": "markdown",
      "metadata": {
        "id": "view-in-github",
        "colab_type": "text"
      },
      "source": [
        "<a href=\"https://colab.research.google.com/github/lingchm/datascience-projects/blob/master/P5_Ecommerce_Fraud_Detection.ipynb\" target=\"_parent\"><img src=\"https://colab.research.google.com/assets/colab-badge.svg\" alt=\"Open In Colab\"/></a>"
      ]
    },
    {
      "cell_type": "markdown",
      "metadata": {
        "id": "sOHBXr_sRdqp",
        "colab_type": "text"
      },
      "source": [
        "# E-commerce Fraud Detection"
      ]
    },
    {
      "cell_type": "markdown",
      "metadata": {
        "id": "_EbKIUQZSc30",
        "colab_type": "text"
      },
      "source": [
        "**Summary of Fraud Detection Code Lab**\n",
        "- Data is highly imbalanced\n",
        "- Features of interval_after_signup and time related raw and aggregates are highly predictive of fraud\n",
        "- Made actionable operation recommendations/proposal for business"
      ]
    },
    {
      "cell_type": "markdown",
      "metadata": {
        "id": "0TxiU0vxRjUb",
        "colab_type": "text"
      },
      "source": [
        "**Background**\n",
        "\n",
        "E-commerce websites often transact huge amounts of money. Whenever a huge amount of money is moved, there is a high risk of users performing fraudulent activities (e.g. using stolen credit cards, doing money laundry, etc.)\n",
        "\n",
        "Company XYZ is an e-commerce site that sells electronic products. You have to build a model that predicts whether a user has a high probability of using the site to perform some illegal activity. You only have information about most user's first transaction on the site.\n",
        "\n",
        "Goal: build a machine learning model that predicts the probability that the first transaction of a new user is fraudulent"
      ]
    },
    {
      "cell_type": "markdown",
      "metadata": {
        "id": "R5Vha7CoR9jc",
        "colab_type": "text"
      },
      "source": [
        "**Data**\n",
        "\n",
        "Table 1: \"Fraud_Data\" - information about each user's first transaction\n",
        "* user_id: ID of the user. Unique by user\n",
        "* signup_time: the time when the user created their account (GMT time)\n",
        "* purchase_time: the time when the user bought the item (GMT time)\n",
        "* device_id: the device id. Unique by the same physicall device\n",
        "* source: user marketing channel (e.g. ads, SEO, Direct)\n",
        "* browser: the browser used by the user\n",
        "* sex: user's sec\n",
        "* age: user's age\n",
        "* ip_address: user's numeric IP address\n",
        "* class: whether the activity was fraudulent (1) or not (0)\n",
        "\n",
        "Table 2: \"IpAddress_to_Country\" - mapping each numeric IP address to its country\n",
        "* lower_bound_ip_address: the lower bound of the numeric IP address for that country\n",
        "* upper_bound_ip_address: the upper bound of the numeric IP address for that country\n",
        "* country: if the IP address falls within the range, then the IP address belongs to the corresponding country"
      ]
    },
    {
      "cell_type": "markdown",
      "metadata": {
        "id": "lIFXgQojTDCH",
        "colab_type": "text"
      },
      "source": [
        "**Tasks:**\n",
        "1. For each user, determine their country based on the numeric IP address\n",
        "2. Build a model to predict whether an activity is fraudulent or not. Explain how different assumptions about the cost of false positives vs false negatives would impact the model.\n",
        "3. How would you explain how the model is making the predictions from a user's perspectives? What kinds of users are more likely to be classified as at risk? What are their characteristics?\n",
        "4. Let's say you now have this model which can be used to predict in real time if an activity is fraudulent or not. From a product perspective, how would you use it? What kind of different user experiences would you build based on the model output?"
      ]
    },
    {
      "cell_type": "markdown",
      "metadata": {
        "id": "CXpzyts5fufW",
        "colab_type": "text"
      },
      "source": [
        "##Preprocessing"
      ]
    },
    {
      "cell_type": "markdown",
      "metadata": {
        "id": "zfjXN4EwS3eo",
        "colab_type": "text"
      },
      "source": [
        "###Data Exploration"
      ]
    },
    {
      "cell_type": "markdown",
      "metadata": {
        "id": "ipokrHUKcwld",
        "colab_type": "text"
      },
      "source": [
        "Reading in Data"
      ]
    },
    {
      "cell_type": "code",
      "metadata": {
        "id": "iSjSPRXiRQuI",
        "colab_type": "code",
        "colab": {
          "base_uri": "https://localhost:8080/",
          "height": 110
        },
        "outputId": "d973cd49-3c93-44cc-f590-3285b18a7a41"
      },
      "source": [
        "import pandas as pd\n",
        "import numpy as np\n",
        "import time\n",
        "import matplotlib.pyplot as plt\n",
        "import pandas as pd\n",
        "from sklearn import metrics\n",
        "from sklearn.metrics import roc_curve\n",
        "from sklearn.model_selection import train_test_split\n",
        "from sklearn.linear_model import LogisticRegression\n",
        "from sklearn.ensemble import RandomForestClassifier\n",
        "from imblearn.over_sampling import SMOTE\n",
        "from sklearn import preprocessing\n",
        "from sklearn.preprocessing import MinMaxScaler\n",
        "from sklearn.metrics import f1_score, roc_auc_score, roc_curve, precision_recall_curve, auc, make_scorer, recall_score, accuracy_score, precision_score, confusion_matrix\n",
        "from sklearn.model_selection import GridSearchCV"
      ],
      "execution_count": 1,
      "outputs": [
        {
          "output_type": "stream",
          "text": [
            "/usr/local/lib/python3.6/dist-packages/sklearn/externals/six.py:31: FutureWarning: The module is deprecated in version 0.21 and will be removed in version 0.23 since we've dropped support for Python 2.7. Please rely on the official version of six (https://pypi.org/project/six/).\n",
            "  \"(https://pypi.org/project/six/).\", FutureWarning)\n",
            "/usr/local/lib/python3.6/dist-packages/sklearn/utils/deprecation.py:144: FutureWarning: The sklearn.neighbors.base module is  deprecated in version 0.22 and will be removed in version 0.24. The corresponding classes / functions should instead be imported from sklearn.neighbors. Anything that cannot be imported from sklearn.neighbors is now part of the private API.\n",
            "  warnings.warn(message, FutureWarning)\n"
          ],
          "name": "stderr"
        }
      ]
    },
    {
      "cell_type": "code",
      "metadata": {
        "id": "wYoVO3FrguFn",
        "colab_type": "code",
        "colab": {
          "base_uri": "https://localhost:8080/",
          "height": 126
        },
        "outputId": "fa7a92d5-70da-4fde-ddff-1feb7a43adb6"
      },
      "source": [
        "!git clone https://github.com/loganlaioffer/fraudDetection.git"
      ],
      "execution_count": 3,
      "outputs": [
        {
          "output_type": "stream",
          "text": [
            "Cloning into 'fraudDetection'...\n",
            "remote: Enumerating objects: 11, done.\u001b[K\n",
            "remote: Counting objects: 100% (11/11), done.\u001b[K\n",
            "remote: Compressing objects: 100% (11/11), done.\u001b[K\n",
            "remote: Total 11 (delta 2), reused 0 (delta 0), pack-reused 0\u001b[K\n",
            "Unpacking objects: 100% (11/11), done.\n"
          ],
          "name": "stdout"
        }
      ]
    },
    {
      "cell_type": "code",
      "metadata": {
        "id": "NFGniid5hHqu",
        "colab_type": "code",
        "colab": {
          "base_uri": "https://localhost:8080/",
          "height": 364
        },
        "outputId": "5fd7f478-cddd-4d4c-af4a-ced317a31de2"
      },
      "source": [
        "# Data also available on Google Drive folder\n",
        "# !cd fraudDetection/\n",
        "# !ls fraudDetection/\n",
        "!pip install -U imbalanced-learn\n",
        "!pip install pandas-profiling"
      ],
      "execution_count": 5,
      "outputs": [
        {
          "output_type": "stream",
          "text": [
            "Requirement already up-to-date: imbalanced-learn in /usr/local/lib/python3.6/dist-packages (0.7.0)\n",
            "Requirement already satisfied, skipping upgrade: joblib>=0.11 in /usr/local/lib/python3.6/dist-packages (from imbalanced-learn) (0.16.0)\n",
            "Requirement already satisfied, skipping upgrade: numpy>=1.13.3 in /usr/local/lib/python3.6/dist-packages (from imbalanced-learn) (1.18.5)\n",
            "Requirement already satisfied, skipping upgrade: scikit-learn>=0.23 in /usr/local/lib/python3.6/dist-packages (from imbalanced-learn) (0.23.1)\n",
            "Requirement already satisfied, skipping upgrade: scipy>=0.19.1 in /usr/local/lib/python3.6/dist-packages (from imbalanced-learn) (1.4.1)\n",
            "Requirement already satisfied, skipping upgrade: threadpoolctl>=2.0.0 in /usr/local/lib/python3.6/dist-packages (from scikit-learn>=0.23->imbalanced-learn) (2.1.0)\n",
            "Requirement already satisfied: pandas-profiling in /usr/local/lib/python3.6/dist-packages (1.4.1)\n",
            "Requirement already satisfied: pandas>=0.19 in /usr/local/lib/python3.6/dist-packages (from pandas-profiling) (1.0.5)\n",
            "Requirement already satisfied: matplotlib>=1.4 in /usr/local/lib/python3.6/dist-packages (from pandas-profiling) (3.2.2)\n",
            "Requirement already satisfied: jinja2>=2.8 in /usr/local/lib/python3.6/dist-packages (from pandas-profiling) (2.11.2)\n",
            "Requirement already satisfied: six>=1.9 in /usr/local/lib/python3.6/dist-packages (from pandas-profiling) (1.12.0)\n",
            "Requirement already satisfied: pytz>=2017.2 in /usr/local/lib/python3.6/dist-packages (from pandas>=0.19->pandas-profiling) (2018.9)\n",
            "Requirement already satisfied: python-dateutil>=2.6.1 in /usr/local/lib/python3.6/dist-packages (from pandas>=0.19->pandas-profiling) (2.8.1)\n",
            "Requirement already satisfied: numpy>=1.13.3 in /usr/local/lib/python3.6/dist-packages (from pandas>=0.19->pandas-profiling) (1.18.5)\n",
            "Requirement already satisfied: pyparsing!=2.0.4,!=2.1.2,!=2.1.6,>=2.0.1 in /usr/local/lib/python3.6/dist-packages (from matplotlib>=1.4->pandas-profiling) (2.4.7)\n",
            "Requirement already satisfied: cycler>=0.10 in /usr/local/lib/python3.6/dist-packages (from matplotlib>=1.4->pandas-profiling) (0.10.0)\n",
            "Requirement already satisfied: kiwisolver>=1.0.1 in /usr/local/lib/python3.6/dist-packages (from matplotlib>=1.4->pandas-profiling) (1.2.0)\n",
            "Requirement already satisfied: MarkupSafe>=0.23 in /usr/local/lib/python3.6/dist-packages (from jinja2>=2.8->pandas-profiling) (1.1.1)\n"
          ],
          "name": "stdout"
        }
      ]
    },
    {
      "cell_type": "code",
      "metadata": {
        "id": "thNVhMYcTASW",
        "colab_type": "code",
        "colab": {
          "base_uri": "https://localhost:8080/",
          "height": 313
        },
        "outputId": "a7126c26-dfad-488e-9e4b-1b10a3d80d62"
      },
      "source": [
        "ipURL = 'https://github.com/loganlaioffer/fraudDetection/blob/master/IpAddress_to_Country.csv'\n",
        "fraudURL = 'https://github.com/loganlaioffer/fraudDetection/blob/master/imbalancedFraudDF.csv'\n",
        "\n",
        "ipToCountry = pd.read_csv('fraudDetection/IpAddress_to_Country.csv')\n",
        "fraud_data = pd.read_csv('fraudDetection/imbalancedFraudDF.csv')\n",
        "\n",
        "fraud_data.head()"
      ],
      "execution_count": 4,
      "outputs": [
        {
          "output_type": "execute_result",
          "data": {
            "text/html": [
              "<div>\n",
              "<style scoped>\n",
              "    .dataframe tbody tr th:only-of-type {\n",
              "        vertical-align: middle;\n",
              "    }\n",
              "\n",
              "    .dataframe tbody tr th {\n",
              "        vertical-align: top;\n",
              "    }\n",
              "\n",
              "    .dataframe thead th {\n",
              "        text-align: right;\n",
              "    }\n",
              "</style>\n",
              "<table border=\"1\" class=\"dataframe\">\n",
              "  <thead>\n",
              "    <tr style=\"text-align: right;\">\n",
              "      <th></th>\n",
              "      <th>user_id</th>\n",
              "      <th>signup_time</th>\n",
              "      <th>purchase_time</th>\n",
              "      <th>purchase_value</th>\n",
              "      <th>device_id</th>\n",
              "      <th>source</th>\n",
              "      <th>browser</th>\n",
              "      <th>sex</th>\n",
              "      <th>age</th>\n",
              "      <th>ip_address</th>\n",
              "      <th>class</th>\n",
              "    </tr>\n",
              "  </thead>\n",
              "  <tbody>\n",
              "    <tr>\n",
              "      <th>0</th>\n",
              "      <td>22058</td>\n",
              "      <td>2015-02-24 22:55:49</td>\n",
              "      <td>2015-04-18 02:47:11</td>\n",
              "      <td>34</td>\n",
              "      <td>QVPSPJUOCKZAR</td>\n",
              "      <td>SEO</td>\n",
              "      <td>Chrome</td>\n",
              "      <td>M</td>\n",
              "      <td>39</td>\n",
              "      <td>7.327584e+08</td>\n",
              "      <td>0</td>\n",
              "    </tr>\n",
              "    <tr>\n",
              "      <th>1</th>\n",
              "      <td>333320</td>\n",
              "      <td>2015-06-07 20:39:50</td>\n",
              "      <td>2015-06-08 01:38:54</td>\n",
              "      <td>16</td>\n",
              "      <td>EOGFQPIZPYXFZ</td>\n",
              "      <td>Ads</td>\n",
              "      <td>Chrome</td>\n",
              "      <td>F</td>\n",
              "      <td>53</td>\n",
              "      <td>3.503114e+08</td>\n",
              "      <td>0</td>\n",
              "    </tr>\n",
              "    <tr>\n",
              "      <th>2</th>\n",
              "      <td>150084</td>\n",
              "      <td>2015-04-28 21:13:25</td>\n",
              "      <td>2015-05-04 13:54:50</td>\n",
              "      <td>44</td>\n",
              "      <td>ATGTXKYKUDUQN</td>\n",
              "      <td>SEO</td>\n",
              "      <td>Safari</td>\n",
              "      <td>M</td>\n",
              "      <td>41</td>\n",
              "      <td>3.840542e+09</td>\n",
              "      <td>0</td>\n",
              "    </tr>\n",
              "    <tr>\n",
              "      <th>3</th>\n",
              "      <td>221365</td>\n",
              "      <td>2015-07-21 07:09:52</td>\n",
              "      <td>2015-09-09 18:40:53</td>\n",
              "      <td>39</td>\n",
              "      <td>NAUITBZFJKHWW</td>\n",
              "      <td>Ads</td>\n",
              "      <td>Safari</td>\n",
              "      <td>M</td>\n",
              "      <td>45</td>\n",
              "      <td>4.155831e+08</td>\n",
              "      <td>0</td>\n",
              "    </tr>\n",
              "    <tr>\n",
              "      <th>4</th>\n",
              "      <td>159135</td>\n",
              "      <td>2015-05-21 06:03:03</td>\n",
              "      <td>2015-07-09 08:05:14</td>\n",
              "      <td>42</td>\n",
              "      <td>ALEYXFXINSXLZ</td>\n",
              "      <td>Ads</td>\n",
              "      <td>Chrome</td>\n",
              "      <td>M</td>\n",
              "      <td>18</td>\n",
              "      <td>2.809315e+09</td>\n",
              "      <td>0</td>\n",
              "    </tr>\n",
              "  </tbody>\n",
              "</table>\n",
              "</div>"
            ],
            "text/plain": [
              "   user_id          signup_time        purchase_time  ...  age    ip_address class\n",
              "0    22058  2015-02-24 22:55:49  2015-04-18 02:47:11  ...   39  7.327584e+08     0\n",
              "1   333320  2015-06-07 20:39:50  2015-06-08 01:38:54  ...   53  3.503114e+08     0\n",
              "2   150084  2015-04-28 21:13:25  2015-05-04 13:54:50  ...   41  3.840542e+09     0\n",
              "3   221365  2015-07-21 07:09:52  2015-09-09 18:40:53  ...   45  4.155831e+08     0\n",
              "4   159135  2015-05-21 06:03:03  2015-07-09 08:05:14  ...   18  2.809315e+09     0\n",
              "\n",
              "[5 rows x 11 columns]"
            ]
          },
          "metadata": {
            "tags": []
          },
          "execution_count": 4
        }
      ]
    },
    {
      "cell_type": "markdown",
      "metadata": {
        "id": "puOV6Iovczng",
        "colab_type": "text"
      },
      "source": [
        "Data Exploration"
      ]
    },
    {
      "cell_type": "code",
      "metadata": {
        "id": "quhyL2WSgrX7",
        "colab_type": "code",
        "colab": {
          "base_uri": "https://localhost:8080/",
          "height": 72
        },
        "outputId": "544c9fd8-f918-48c4-b424-97b8e04982f4"
      },
      "source": [
        "# Distribution of the label column\n",
        "fraud_data['class'].value_counts()"
      ],
      "execution_count": 6,
      "outputs": [
        {
          "output_type": "execute_result",
          "data": {
            "text/plain": [
              "0    136961\n",
              "1      1415\n",
              "Name: class, dtype: int64"
            ]
          },
          "metadata": {
            "tags": []
          },
          "execution_count": 6
        }
      ]
    },
    {
      "cell_type": "code",
      "metadata": {
        "id": "_KGwILife8bz",
        "colab_type": "code",
        "colab": {}
      },
      "source": [
        "# Install pandas_profiling using the pip package manager by running:\n",
        "import pandas_profiling\n",
        "\n",
        "# Inline summary report without saving report as object\n",
        "#pandas_profiling.ProfileReport(fraud_data)"
      ],
      "execution_count": 12,
      "outputs": []
    },
    {
      "cell_type": "code",
      "metadata": {
        "id": "UgkFVW0GcB3B",
        "colab_type": "code",
        "colab": {}
      },
      "source": [
        "# simpler version without installing pandas_profiling\n",
        "fraud_data.describe().transpose()"
      ],
      "execution_count": null,
      "outputs": []
    },
    {
      "cell_type": "markdown",
      "metadata": {
        "id": "Cf7HYj9piiq8",
        "colab_type": "text"
      },
      "source": [
        "Missing values and Outliers"
      ]
    },
    {
      "cell_type": "code",
      "metadata": {
        "id": "KwG6iF08ikTk",
        "colab_type": "code",
        "colab": {
          "base_uri": "https://localhost:8080/",
          "height": 235
        },
        "outputId": "926eab67-2561-4ff3-a1f8-9597452a8e88"
      },
      "source": [
        "# count of NaN in each column\n",
        "fraud_data.isna().sum()\n",
        "# fraud_data.isnull().sum(axis = 0)\n",
        "\n",
        "#HW: check count of fraud that is outliers"
      ],
      "execution_count": 13,
      "outputs": [
        {
          "output_type": "execute_result",
          "data": {
            "text/plain": [
              "user_id           0\n",
              "signup_time       0\n",
              "purchase_time     0\n",
              "purchase_value    0\n",
              "device_id         0\n",
              "source            0\n",
              "browser           0\n",
              "sex               0\n",
              "age               0\n",
              "ip_address        0\n",
              "class             0\n",
              "dtype: int64"
            ]
          },
          "metadata": {
            "tags": []
          },
          "execution_count": 13
        }
      ]
    },
    {
      "cell_type": "code",
      "metadata": {
        "id": "2U50sqcWhmsV",
        "colab_type": "code",
        "colab": {
          "base_uri": "https://localhost:8080/",
          "height": 202
        },
        "outputId": "fcf4aae3-c3bb-4e0c-b3b9-7fd672a6efe6"
      },
      "source": [
        "#Task 1: Identify country info based on ip_address\n",
        "ipToCountry.head()"
      ],
      "execution_count": null,
      "outputs": [
        {
          "output_type": "execute_result",
          "data": {
            "text/html": [
              "<div>\n",
              "<style scoped>\n",
              "    .dataframe tbody tr th:only-of-type {\n",
              "        vertical-align: middle;\n",
              "    }\n",
              "\n",
              "    .dataframe tbody tr th {\n",
              "        vertical-align: top;\n",
              "    }\n",
              "\n",
              "    .dataframe thead th {\n",
              "        text-align: right;\n",
              "    }\n",
              "</style>\n",
              "<table border=\"1\" class=\"dataframe\">\n",
              "  <thead>\n",
              "    <tr style=\"text-align: right;\">\n",
              "      <th></th>\n",
              "      <th>lower_bound_ip_address</th>\n",
              "      <th>upper_bound_ip_address</th>\n",
              "      <th>country</th>\n",
              "    </tr>\n",
              "  </thead>\n",
              "  <tbody>\n",
              "    <tr>\n",
              "      <th>0</th>\n",
              "      <td>16777216.0</td>\n",
              "      <td>16777471</td>\n",
              "      <td>Australia</td>\n",
              "    </tr>\n",
              "    <tr>\n",
              "      <th>1</th>\n",
              "      <td>16777472.0</td>\n",
              "      <td>16777727</td>\n",
              "      <td>China</td>\n",
              "    </tr>\n",
              "    <tr>\n",
              "      <th>2</th>\n",
              "      <td>16777728.0</td>\n",
              "      <td>16778239</td>\n",
              "      <td>China</td>\n",
              "    </tr>\n",
              "    <tr>\n",
              "      <th>3</th>\n",
              "      <td>16778240.0</td>\n",
              "      <td>16779263</td>\n",
              "      <td>Australia</td>\n",
              "    </tr>\n",
              "    <tr>\n",
              "      <th>4</th>\n",
              "      <td>16779264.0</td>\n",
              "      <td>16781311</td>\n",
              "      <td>China</td>\n",
              "    </tr>\n",
              "  </tbody>\n",
              "</table>\n",
              "</div>"
            ],
            "text/plain": [
              "   lower_bound_ip_address  upper_bound_ip_address    country\n",
              "0              16777216.0                16777471  Australia\n",
              "1              16777472.0                16777727      China\n",
              "2              16777728.0                16778239      China\n",
              "3              16778240.0                16779263  Australia\n",
              "4              16779264.0                16781311      China"
            ]
          },
          "metadata": {
            "tags": []
          },
          "execution_count": 9
        }
      ]
    },
    {
      "cell_type": "markdown",
      "metadata": {
        "id": "l-a0a-lHdZ66",
        "colab_type": "text"
      },
      "source": [
        "###Map IP address to countries"
      ]
    },
    {
      "cell_type": "code",
      "metadata": {
        "id": "-qR-Hpd7iuoF",
        "colab_type": "code",
        "colab": {
          "base_uri": "https://localhost:8080/",
          "height": 35
        },
        "outputId": "2402f8bb-4bf3-455e-e931-bee151e314b0"
      },
      "source": [
        "# M1 Loop through transactions one by one\n",
        "start = time.time()\n",
        "\n",
        "# [] is list of T/F\n",
        "# tmp is a df of shape n * 3 where n is 1 if found a match or 0 if no match\n",
        "    \n",
        "countries = []\n",
        "for i in range(len(fraud_data)):\n",
        "    ip_address = fraud_data.loc[i, 'ip_address']\n",
        "    tmp = ipToCountry[(ipToCountry['lower_bound_ip_address'] <= ip_address) &\n",
        "                    (ipToCountry['upper_bound_ip_address'] >= ip_address)]\n",
        "    if len(tmp) == 1: # found match\n",
        "        countries.append(tmp['country'].values[0])\n",
        "    else: # no match\n",
        "        countries.append('NA')\n",
        "        \n",
        "fraud_data['country'] = countries\n",
        "runtime = time.time() - start \n",
        "\n",
        "print(\"Lookup took\", runtime, \"seconds.\")"
      ],
      "execution_count": 14,
      "outputs": [
        {
          "output_type": "stream",
          "text": [
            "Lookup took 177.27336978912354 seconds.\n"
          ],
          "name": "stdout"
        }
      ]
    },
    {
      "cell_type": "code",
      "metadata": {
        "id": "yKrH6LbkiyGK",
        "colab_type": "code",
        "colab": {
          "base_uri": "https://localhost:8080/",
          "height": 52
        },
        "outputId": "1b29411b-135c-43aa-a724-f3a13cc404a5"
      },
      "source": [
        "ip_address = fraud_data.loc[6, 'ip_address']\n",
        "tmp = ipToCountry[(ipToCountry['lower_bound_ip_address'] <= ip_address) &\n",
        "                    (ipToCountry['upper_bound_ip_address'] >= ip_address)]\n",
        "print(tmp)"
      ],
      "execution_count": null,
      "outputs": [
        {
          "output_type": "stream",
          "text": [
            "       lower_bound_ip_address  upper_bound_ip_address        country\n",
            "28203            1.686110e+09              1694498815  United States\n"
          ],
          "name": "stdout"
        }
      ]
    },
    {
      "cell_type": "code",
      "metadata": {
        "id": "kApPHN7meJUg",
        "colab_type": "code",
        "colab": {}
      },
      "source": [
        "# M2 Binary Search\n",
        "# iptocountry is already sorted and ranges are continuous\n",
        "# TO DO \n",
        "# O(nlogn)"
      ],
      "execution_count": null,
      "outputs": []
    },
    {
      "cell_type": "markdown",
      "metadata": {
        "id": "7naxDmI4jpgp",
        "colab_type": "text"
      },
      "source": [
        "###Feature Engineering"
      ]
    },
    {
      "cell_type": "markdown",
      "metadata": {
        "id": "56bW53YijpMG",
        "colab_type": "text"
      },
      "source": [
        "Check if column user_id is unique for time related aggregates"
      ]
    },
    {
      "cell_type": "code",
      "metadata": {
        "id": "E5a3x5Qlj1eb",
        "colab_type": "code",
        "colab": {
          "base_uri": "https://localhost:8080/",
          "height": 52
        },
        "outputId": "d43fdc0e-9d69-47b9-d81c-7ee9442f3a9e"
      },
      "source": [
        "print(fraud_data.user_id.nunique()) #138376\n",
        "print(len(fraud_data.index))        #138376\n",
        "# all of the user_id has only the first 1 transaction, no way to do time based aggregates, \n",
        "# e.g. amount/counts in past 1 day for this user"
      ],
      "execution_count": null,
      "outputs": [
        {
          "output_type": "stream",
          "text": [
            "138376\n",
            "138376\n"
          ],
          "name": "stdout"
        }
      ]
    },
    {
      "cell_type": "markdown",
      "metadata": {
        "id": "R3aR2KoCe6y3",
        "colab_type": "text"
      },
      "source": [
        "Create some time-related features"
      ]
    },
    {
      "cell_type": "code",
      "metadata": {
        "id": "XfqVxIEkmeAO",
        "colab_type": "code",
        "colab": {}
      },
      "source": [
        "# time related features: can be done before split, as they has no interaction between other rows, solely based on other columns of the same row\n",
        "fraud_data['interval_after_signup'] = (pd.to_datetime(fraud_data['purchase_time']) - pd.to_datetime(\n",
        "        fraud_data['signup_time'])).dt.total_seconds()\n",
        "\n",
        "fraud_data['signup_days_of_year'] = pd.DatetimeIndex(fraud_data['signup_time']).dayofyear\n",
        "\n",
        "# bed time operation\n",
        "fraud_data['signup_seconds_of_day'] = pd.DatetimeIndex(fraud_data['signup_time']).second + 60 * pd.DatetimeIndex(\n",
        "    fraud_data['signup_time']).minute + 3600 * pd.DatetimeIndex(fraud_data['signup_time']).hour\n",
        "\n",
        "fraud_data['purchase_days_of_year'] = pd.DatetimeIndex(fraud_data['purchase_time']).dayofyear\n",
        "fraud_data['purchase_seconds_of_day'] = pd.DatetimeIndex(fraud_data['purchase_time']).second + 60 * pd.DatetimeIndex(\n",
        "    fraud_data['purchase_time']).minute + 3600 * pd.DatetimeIndex(fraud_data['purchase_time']).hour\n",
        "\n",
        "fraud_data = fraud_data.drop(['user_id','signup_time','purchase_time'], axis=1)"
      ],
      "execution_count": null,
      "outputs": []
    },
    {
      "cell_type": "code",
      "metadata": {
        "id": "GxeoVxccnT_9",
        "colab_type": "code",
        "colab": {
          "base_uri": "https://localhost:8080/",
          "height": 257
        },
        "outputId": "5975e4be-cf21-4520-b936-926b5f9c15ca"
      },
      "source": [
        "fraud_data.head()\n",
        "# note there are NAs in country"
      ],
      "execution_count": null,
      "outputs": [
        {
          "output_type": "execute_result",
          "data": {
            "text/html": [
              "<div>\n",
              "<style scoped>\n",
              "    .dataframe tbody tr th:only-of-type {\n",
              "        vertical-align: middle;\n",
              "    }\n",
              "\n",
              "    .dataframe tbody tr th {\n",
              "        vertical-align: top;\n",
              "    }\n",
              "\n",
              "    .dataframe thead th {\n",
              "        text-align: right;\n",
              "    }\n",
              "</style>\n",
              "<table border=\"1\" class=\"dataframe\">\n",
              "  <thead>\n",
              "    <tr style=\"text-align: right;\">\n",
              "      <th></th>\n",
              "      <th>purchase_value</th>\n",
              "      <th>device_id</th>\n",
              "      <th>source</th>\n",
              "      <th>browser</th>\n",
              "      <th>sex</th>\n",
              "      <th>age</th>\n",
              "      <th>ip_address</th>\n",
              "      <th>class</th>\n",
              "      <th>country</th>\n",
              "      <th>interval_after_signup</th>\n",
              "      <th>signup_days_of_year</th>\n",
              "      <th>signup_seconds_of_day</th>\n",
              "      <th>purchase_days_of_year</th>\n",
              "      <th>purchase_seconds_of_day</th>\n",
              "    </tr>\n",
              "  </thead>\n",
              "  <tbody>\n",
              "    <tr>\n",
              "      <th>0</th>\n",
              "      <td>34</td>\n",
              "      <td>QVPSPJUOCKZAR</td>\n",
              "      <td>SEO</td>\n",
              "      <td>Chrome</td>\n",
              "      <td>M</td>\n",
              "      <td>39</td>\n",
              "      <td>7.327584e+08</td>\n",
              "      <td>0</td>\n",
              "      <td>Japan</td>\n",
              "      <td>4506682.0</td>\n",
              "      <td>55</td>\n",
              "      <td>82549</td>\n",
              "      <td>108</td>\n",
              "      <td>10031</td>\n",
              "    </tr>\n",
              "    <tr>\n",
              "      <th>1</th>\n",
              "      <td>16</td>\n",
              "      <td>EOGFQPIZPYXFZ</td>\n",
              "      <td>Ads</td>\n",
              "      <td>Chrome</td>\n",
              "      <td>F</td>\n",
              "      <td>53</td>\n",
              "      <td>3.503114e+08</td>\n",
              "      <td>0</td>\n",
              "      <td>United States</td>\n",
              "      <td>17944.0</td>\n",
              "      <td>158</td>\n",
              "      <td>74390</td>\n",
              "      <td>159</td>\n",
              "      <td>5934</td>\n",
              "    </tr>\n",
              "    <tr>\n",
              "      <th>2</th>\n",
              "      <td>44</td>\n",
              "      <td>ATGTXKYKUDUQN</td>\n",
              "      <td>SEO</td>\n",
              "      <td>Safari</td>\n",
              "      <td>M</td>\n",
              "      <td>41</td>\n",
              "      <td>3.840542e+09</td>\n",
              "      <td>0</td>\n",
              "      <td>NA</td>\n",
              "      <td>492085.0</td>\n",
              "      <td>118</td>\n",
              "      <td>76405</td>\n",
              "      <td>124</td>\n",
              "      <td>50090</td>\n",
              "    </tr>\n",
              "    <tr>\n",
              "      <th>3</th>\n",
              "      <td>39</td>\n",
              "      <td>NAUITBZFJKHWW</td>\n",
              "      <td>Ads</td>\n",
              "      <td>Safari</td>\n",
              "      <td>M</td>\n",
              "      <td>45</td>\n",
              "      <td>4.155831e+08</td>\n",
              "      <td>0</td>\n",
              "      <td>United States</td>\n",
              "      <td>4361461.0</td>\n",
              "      <td>202</td>\n",
              "      <td>25792</td>\n",
              "      <td>252</td>\n",
              "      <td>67253</td>\n",
              "    </tr>\n",
              "    <tr>\n",
              "      <th>4</th>\n",
              "      <td>42</td>\n",
              "      <td>ALEYXFXINSXLZ</td>\n",
              "      <td>Ads</td>\n",
              "      <td>Chrome</td>\n",
              "      <td>M</td>\n",
              "      <td>18</td>\n",
              "      <td>2.809315e+09</td>\n",
              "      <td>0</td>\n",
              "      <td>Canada</td>\n",
              "      <td>4240931.0</td>\n",
              "      <td>141</td>\n",
              "      <td>21783</td>\n",
              "      <td>190</td>\n",
              "      <td>29114</td>\n",
              "    </tr>\n",
              "  </tbody>\n",
              "</table>\n",
              "</div>"
            ],
            "text/plain": [
              "   purchase_value  ... purchase_seconds_of_day\n",
              "0              34  ...                   10031\n",
              "1              16  ...                    5934\n",
              "2              44  ...                   50090\n",
              "3              39  ...                   67253\n",
              "4              42  ...                   29114\n",
              "\n",
              "[5 rows x 14 columns]"
            ]
          },
          "metadata": {
            "tags": []
          },
          "execution_count": 18
        }
      ]
    },
    {
      "cell_type": "code",
      "metadata": {
        "id": "vn7GvQhEnWWp",
        "colab_type": "code",
        "colab": {
          "base_uri": "https://localhost:8080/",
          "height": 87
        },
        "outputId": "60612598-9199-4af5-fe89-2650c2c88eba"
      },
      "source": [
        "print(fraud_data.source.value_counts())"
      ],
      "execution_count": null,
      "outputs": [
        {
          "output_type": "stream",
          "text": [
            "SEO       55766\n",
            "Ads       54913\n",
            "Direct    27697\n",
            "Name: source, dtype: int64\n"
          ],
          "name": "stdout"
        }
      ]
    },
    {
      "cell_type": "markdown",
      "metadata": {
        "id": "R8dUOiALnmX0",
        "colab_type": "text"
      },
      "source": [
        "Q: What now? \n",
        "1. train/test split? \n",
        "2. convert categorical features e.g. device_id to numericals? \n",
        " * If doing train/test split first (better), run the risk to have in test data categories that are not in training.\n",
        " * Solution 1 is to preserve a category called \"others\"\n",
        " * Solution 2 is to impute (KNN) to group with the most similar category\n",
        "3. SMOTE sampling?\n",
        "\n",
        "What if convert source column by OHE now?\n",
        "it's a sneak peek of the levels of this column in test data, what if there is another new level \"newsPaper\" in source column in test, or one column in test data has larger range compared to that of train data? info leak, should not know this ahead of time in training\n"
      ]
    },
    {
      "cell_type": "markdown",
      "metadata": {
        "id": "T2BqJcBjiOOC",
        "colab_type": "text"
      },
      "source": [
        "###Splitting Testing/Training Data"
      ]
    },
    {
      "cell_type": "code",
      "metadata": {
        "id": "-nTN1t_8njt1",
        "colab_type": "code",
        "colab": {
          "base_uri": "https://localhost:8080/",
          "height": 53
        },
        "outputId": "7f8386bc-ea23-4984-edf5-b314e622320a"
      },
      "source": [
        "y = fraud_data['class']\n",
        "X = fraud_data.drop(['class'], axis=1)\n",
        "\n",
        "# split into train/test\n",
        "X_train, X_test, y_train, y_test = train_test_split(X, y, test_size=0.2, random_state=0)\n",
        "print(\"X_train.shape:\", X_train.shape)\n",
        "print(\"y_train.shape:\", y_train.shape)"
      ],
      "execution_count": 18,
      "outputs": [
        {
          "output_type": "stream",
          "text": [
            "X_train.shape: (110700, 11)\n",
            "y_train.shape: (110700,)\n"
          ],
          "name": "stdout"
        }
      ]
    },
    {
      "cell_type": "code",
      "metadata": {
        "id": "TICjky2Hqc0D",
        "colab_type": "code",
        "colab": {
          "base_uri": "https://localhost:8080/",
          "height": 235
        },
        "outputId": "d43d8713-a013-4c88-defb-92707c3fd796"
      },
      "source": [
        "X_train['country'].value_counts(ascending=True)\n",
        "#drawback: collision in the same bucket(no differentiation for these countries)"
      ],
      "execution_count": 19,
      "outputs": [
        {
          "output_type": "execute_result",
          "data": {
            "text/plain": [
              "Fiji                  1\n",
              "Benin                 1\n",
              "Saint Martin          1\n",
              "South Sudan           1\n",
              "Gambia                1\n",
              "                  ...  \n",
              "United Kingdom     3253\n",
              "Japan              5251\n",
              "China              8876\n",
              "NA                16275\n",
              "United States     42348\n",
              "Name: country, Length: 177, dtype: int64"
            ]
          },
          "metadata": {
            "tags": []
          },
          "execution_count": 19
        }
      ]
    },
    {
      "cell_type": "code",
      "metadata": {
        "id": "anLm7Gl2n5oZ",
        "colab_type": "code",
        "colab": {
          "base_uri": "https://localhost:8080/",
          "height": 274
        },
        "outputId": "f1232b90-d566-46c1-a38f-578830090079"
      },
      "source": [
        "X_train.head()"
      ],
      "execution_count": null,
      "outputs": [
        {
          "output_type": "execute_result",
          "data": {
            "text/html": [
              "<div>\n",
              "<style scoped>\n",
              "    .dataframe tbody tr th:only-of-type {\n",
              "        vertical-align: middle;\n",
              "    }\n",
              "\n",
              "    .dataframe tbody tr th {\n",
              "        vertical-align: top;\n",
              "    }\n",
              "\n",
              "    .dataframe thead th {\n",
              "        text-align: right;\n",
              "    }\n",
              "</style>\n",
              "<table border=\"1\" class=\"dataframe\">\n",
              "  <thead>\n",
              "    <tr style=\"text-align: right;\">\n",
              "      <th></th>\n",
              "      <th>purchase_value</th>\n",
              "      <th>device_id</th>\n",
              "      <th>source</th>\n",
              "      <th>browser</th>\n",
              "      <th>sex</th>\n",
              "      <th>age</th>\n",
              "      <th>ip_address</th>\n",
              "      <th>country</th>\n",
              "      <th>interval_after_signup</th>\n",
              "      <th>signup_days_of_year</th>\n",
              "      <th>signup_seconds_of_day</th>\n",
              "      <th>purchase_days_of_year</th>\n",
              "      <th>purchase_seconds_of_day</th>\n",
              "    </tr>\n",
              "  </thead>\n",
              "  <tbody>\n",
              "    <tr>\n",
              "      <th>29343</th>\n",
              "      <td>12</td>\n",
              "      <td>OULPAZAFRFPXP</td>\n",
              "      <td>Ads</td>\n",
              "      <td>Chrome</td>\n",
              "      <td>M</td>\n",
              "      <td>42</td>\n",
              "      <td>3.690922e+09</td>\n",
              "      <td>Korea Republic of</td>\n",
              "      <td>3499664.0</td>\n",
              "      <td>183</td>\n",
              "      <td>67384</td>\n",
              "      <td>224</td>\n",
              "      <td>24648</td>\n",
              "    </tr>\n",
              "    <tr>\n",
              "      <th>12190</th>\n",
              "      <td>10</td>\n",
              "      <td>AIIWMFEYQQIEB</td>\n",
              "      <td>Ads</td>\n",
              "      <td>Opera</td>\n",
              "      <td>M</td>\n",
              "      <td>29</td>\n",
              "      <td>1.686759e+09</td>\n",
              "      <td>United States</td>\n",
              "      <td>6766039.0</td>\n",
              "      <td>5</td>\n",
              "      <td>78146</td>\n",
              "      <td>84</td>\n",
              "      <td>18585</td>\n",
              "    </tr>\n",
              "    <tr>\n",
              "      <th>19388</th>\n",
              "      <td>34</td>\n",
              "      <td>VUVETBUPCIWJE</td>\n",
              "      <td>Direct</td>\n",
              "      <td>Chrome</td>\n",
              "      <td>M</td>\n",
              "      <td>53</td>\n",
              "      <td>4.138429e+09</td>\n",
              "      <td>NA</td>\n",
              "      <td>5870515.0</td>\n",
              "      <td>197</td>\n",
              "      <td>81354</td>\n",
              "      <td>265</td>\n",
              "      <td>76669</td>\n",
              "    </tr>\n",
              "    <tr>\n",
              "      <th>89104</th>\n",
              "      <td>48</td>\n",
              "      <td>QCFULAJOYKFUU</td>\n",
              "      <td>Ads</td>\n",
              "      <td>Chrome</td>\n",
              "      <td>M</td>\n",
              "      <td>29</td>\n",
              "      <td>9.617337e+07</td>\n",
              "      <td>France</td>\n",
              "      <td>2145618.0</td>\n",
              "      <td>160</td>\n",
              "      <td>30920</td>\n",
              "      <td>185</td>\n",
              "      <td>16538</td>\n",
              "    </tr>\n",
              "    <tr>\n",
              "      <th>82082</th>\n",
              "      <td>44</td>\n",
              "      <td>IHRWLMIJMEEEU</td>\n",
              "      <td>Ads</td>\n",
              "      <td>FireFox</td>\n",
              "      <td>M</td>\n",
              "      <td>24</td>\n",
              "      <td>1.936025e+09</td>\n",
              "      <td>China</td>\n",
              "      <td>7079059.0</td>\n",
              "      <td>111</td>\n",
              "      <td>71897</td>\n",
              "      <td>193</td>\n",
              "      <td>66156</td>\n",
              "    </tr>\n",
              "  </tbody>\n",
              "</table>\n",
              "</div>"
            ],
            "text/plain": [
              "       purchase_value  ... purchase_seconds_of_day\n",
              "29343              12  ...                   24648\n",
              "12190              10  ...                   18585\n",
              "19388              34  ...                   76669\n",
              "89104              48  ...                   16538\n",
              "82082              44  ...                   66156\n",
              "\n",
              "[5 rows x 13 columns]"
            ]
          },
          "metadata": {
            "tags": []
          },
          "execution_count": 21
        }
      ]
    },
    {
      "cell_type": "markdown",
      "metadata": {
        "id": "HAhaHA5jn-mx",
        "colab_type": "text"
      },
      "source": [
        "### Categorical Feature Encoding\n",
        "\n",
        "Convert categorical features with high cadinality to numericals"
      ]
    },
    {
      "cell_type": "code",
      "metadata": {
        "id": "Z8aYaDZRn72y",
        "colab_type": "code",
        "colab": {}
      },
      "source": [
        "# converting needs to be done after split\n",
        "X_train = pd.get_dummies(X_train, columns=['source', 'browser'])# need to drop ['source', 'browser']? no, auto dropped by get_dummies \n",
        "X_train['sex'] = (X_train.sex == 'M').astype(int)\n",
        "\n",
        "# Frequency encoding: \n",
        "# create new variables that count the number of times a device is shared\n",
        "\n",
        "# the more a device is shared, the more suspicious\n",
        "X_train_device_id_mapping = X_train.device_id.value_counts(dropna=False) # frequency count\n",
        "X_train['n_dev_shared'] = X_train.device_id.map(X_train_device_id_mapping)# number of times device_id occurred in train data\n",
        "\n",
        "# the more a ip is shared, the more suspicious\n",
        "X_train_ip_address_mapping = X_train.ip_address.value_counts(dropna=False)\n",
        "X_train['n_ip_shared'] = X_train.ip_address.map(X_train_ip_address_mapping)\n",
        "\n",
        "# the less visit from a country, the more suspicious\n",
        "X_train_country_mapping = X_train.country.value_counts(dropna=False)\n",
        "X_train['n_country_shared'] = X_train.country.map(X_train_country_mapping)#lots of NAs in country column, #without dropna=False will produce nan in this col\n",
        "\n",
        "X_train = X_train.drop(['device_id','ip_address','country'], axis=1)"
      ],
      "execution_count": 20,
      "outputs": []
    },
    {
      "cell_type": "code",
      "metadata": {
        "id": "PHEn5NB2oBnX",
        "colab_type": "code",
        "colab": {}
      },
      "source": [
        "### Technically, should use training data's mapping on testing data\n",
        "# However, if the levels/values of the column in train and test data are pretty much the same(lots of overlap), e.g. country, \n",
        "# then we should apply the above 3 X_train_mappings (generated from X_train) on X_test(like below), \n",
        "# rather than using the new mapping generated from X_test\n",
        "\n",
        "# http://docs.h2o.ai/h2o/latest-stable/h2o-docs/data-munging/target-encoding.html\n",
        "# X_test['n_dev_shared'] = X_test.device_id.map(X_train_device_id_mapping) # if apply train mapping, most of the levels in test does not occur in train, so most are null after converting\n",
        "# X_test['n_ip_shared'] = X_test.ip_address.map(X_train_ip_address_mapping)\n",
        "# X_test['n_country_shared'] = X_test.country.map(X_train_country_mapping)\n",
        "\n",
        "# but here device_id, ip_address has few overlap between train and test, if we apply the above \n",
        "# 3 X_train_mappings (generated from X_train) on X_test, then most of the X_test will be NaN\n",
        "# this is the caveat of frequency encoding (not work well with many overlaps)\n",
        "\n",
        "\n",
        "### Redo frequency encoding on testing data\n",
        "# However, not recommended\n",
        "X_test = pd.get_dummies(X_test, columns=['source', 'browser'])\n",
        "X_test['sex'] = (X_test.sex == 'M').astype(int)\n",
        "\n",
        "X_test['n_dev_shared'] = X_test.device_id.map(X_test.device_id.value_counts(dropna=False))\n",
        "X_test['n_ip_shared'] = X_test.ip_address.map(X_test.ip_address.value_counts(dropna=False))\n",
        "X_test['n_country_shared'] = X_test.country.map(X_test.country.value_counts(dropna=False))\n",
        "\n",
        "X_test = X_test.drop(['device_id','ip_address','country'], axis=1)\n",
        "\n",
        "# Google: How to do categorical feature encoding with high cardinality?"
      ],
      "execution_count": 21,
      "outputs": []
    },
    {
      "cell_type": "code",
      "metadata": {
        "id": "IOmaHr8zoFIB",
        "colab_type": "code",
        "colab": {
          "base_uri": "https://localhost:8080/",
          "height": 222
        },
        "outputId": "3b5bbcf9-59ab-484c-91fe-236d92b919a0"
      },
      "source": [
        "X_train.head()"
      ],
      "execution_count": null,
      "outputs": [
        {
          "output_type": "execute_result",
          "data": {
            "text/html": [
              "<div>\n",
              "<style scoped>\n",
              "    .dataframe tbody tr th:only-of-type {\n",
              "        vertical-align: middle;\n",
              "    }\n",
              "\n",
              "    .dataframe tbody tr th {\n",
              "        vertical-align: top;\n",
              "    }\n",
              "\n",
              "    .dataframe thead th {\n",
              "        text-align: right;\n",
              "    }\n",
              "</style>\n",
              "<table border=\"1\" class=\"dataframe\">\n",
              "  <thead>\n",
              "    <tr style=\"text-align: right;\">\n",
              "      <th></th>\n",
              "      <th>purchase_value</th>\n",
              "      <th>sex</th>\n",
              "      <th>age</th>\n",
              "      <th>interval_after_signup</th>\n",
              "      <th>signup_days_of_year</th>\n",
              "      <th>signup_seconds_of_day</th>\n",
              "      <th>purchase_days_of_year</th>\n",
              "      <th>purchase_seconds_of_day</th>\n",
              "      <th>source_Ads</th>\n",
              "      <th>source_Direct</th>\n",
              "      <th>source_SEO</th>\n",
              "      <th>browser_Chrome</th>\n",
              "      <th>browser_FireFox</th>\n",
              "      <th>browser_IE</th>\n",
              "      <th>browser_Opera</th>\n",
              "      <th>browser_Safari</th>\n",
              "      <th>n_dev_shared</th>\n",
              "      <th>n_ip_shared</th>\n",
              "      <th>n_country_shared</th>\n",
              "    </tr>\n",
              "  </thead>\n",
              "  <tbody>\n",
              "    <tr>\n",
              "      <th>29343</th>\n",
              "      <td>12</td>\n",
              "      <td>1</td>\n",
              "      <td>42</td>\n",
              "      <td>3499664.0</td>\n",
              "      <td>183</td>\n",
              "      <td>67384</td>\n",
              "      <td>224</td>\n",
              "      <td>24648</td>\n",
              "      <td>1</td>\n",
              "      <td>0</td>\n",
              "      <td>0</td>\n",
              "      <td>1</td>\n",
              "      <td>0</td>\n",
              "      <td>0</td>\n",
              "      <td>0</td>\n",
              "      <td>0</td>\n",
              "      <td>1</td>\n",
              "      <td>1</td>\n",
              "      <td>3075</td>\n",
              "    </tr>\n",
              "    <tr>\n",
              "      <th>12190</th>\n",
              "      <td>10</td>\n",
              "      <td>1</td>\n",
              "      <td>29</td>\n",
              "      <td>6766039.0</td>\n",
              "      <td>5</td>\n",
              "      <td>78146</td>\n",
              "      <td>84</td>\n",
              "      <td>18585</td>\n",
              "      <td>1</td>\n",
              "      <td>0</td>\n",
              "      <td>0</td>\n",
              "      <td>0</td>\n",
              "      <td>0</td>\n",
              "      <td>0</td>\n",
              "      <td>1</td>\n",
              "      <td>0</td>\n",
              "      <td>1</td>\n",
              "      <td>1</td>\n",
              "      <td>42348</td>\n",
              "    </tr>\n",
              "    <tr>\n",
              "      <th>19388</th>\n",
              "      <td>34</td>\n",
              "      <td>1</td>\n",
              "      <td>53</td>\n",
              "      <td>5870515.0</td>\n",
              "      <td>197</td>\n",
              "      <td>81354</td>\n",
              "      <td>265</td>\n",
              "      <td>76669</td>\n",
              "      <td>0</td>\n",
              "      <td>1</td>\n",
              "      <td>0</td>\n",
              "      <td>1</td>\n",
              "      <td>0</td>\n",
              "      <td>0</td>\n",
              "      <td>0</td>\n",
              "      <td>0</td>\n",
              "      <td>1</td>\n",
              "      <td>1</td>\n",
              "      <td>16275</td>\n",
              "    </tr>\n",
              "    <tr>\n",
              "      <th>89104</th>\n",
              "      <td>48</td>\n",
              "      <td>1</td>\n",
              "      <td>29</td>\n",
              "      <td>2145618.0</td>\n",
              "      <td>160</td>\n",
              "      <td>30920</td>\n",
              "      <td>185</td>\n",
              "      <td>16538</td>\n",
              "      <td>1</td>\n",
              "      <td>0</td>\n",
              "      <td>0</td>\n",
              "      <td>1</td>\n",
              "      <td>0</td>\n",
              "      <td>0</td>\n",
              "      <td>0</td>\n",
              "      <td>0</td>\n",
              "      <td>1</td>\n",
              "      <td>1</td>\n",
              "      <td>2322</td>\n",
              "    </tr>\n",
              "    <tr>\n",
              "      <th>82082</th>\n",
              "      <td>44</td>\n",
              "      <td>1</td>\n",
              "      <td>24</td>\n",
              "      <td>7079059.0</td>\n",
              "      <td>111</td>\n",
              "      <td>71897</td>\n",
              "      <td>193</td>\n",
              "      <td>66156</td>\n",
              "      <td>1</td>\n",
              "      <td>0</td>\n",
              "      <td>0</td>\n",
              "      <td>0</td>\n",
              "      <td>1</td>\n",
              "      <td>0</td>\n",
              "      <td>0</td>\n",
              "      <td>0</td>\n",
              "      <td>1</td>\n",
              "      <td>1</td>\n",
              "      <td>8876</td>\n",
              "    </tr>\n",
              "  </tbody>\n",
              "</table>\n",
              "</div>"
            ],
            "text/plain": [
              "       purchase_value  sex  age  ...  n_dev_shared  n_ip_shared  n_country_shared\n",
              "29343              12    1   42  ...             1            1              3075\n",
              "12190              10    1   29  ...             1            1             42348\n",
              "19388              34    1   53  ...             1            1             16275\n",
              "89104              48    1   29  ...             1            1              2322\n",
              "82082              44    1   24  ...             1            1              8876\n",
              "\n",
              "[5 rows x 19 columns]"
            ]
          },
          "metadata": {
            "tags": []
          },
          "execution_count": 24
        }
      ]
    },
    {
      "cell_type": "markdown",
      "metadata": {
        "id": "rZur8roZqijy",
        "colab_type": "text"
      },
      "source": [
        "###Normalization\n",
        "\n",
        "\n",
        "Variables needs to be brought to the same scale for models like LR with regularization (that are not tree based)\n",
        "\n",
        "\n",
        "* normalize (min-max) to [0,1]\n",
        "* standardize(StandardScaler) to normal, mu=0,var = 1 can < 0\n",
        "* so we do normalize here because counts cannot be negative\n"
      ]
    },
    {
      "cell_type": "code",
      "metadata": {
        "id": "cOTWLlZaqOP0",
        "colab_type": "code",
        "colab": {}
      },
      "source": [
        "# Compute the train minimum and maximum to be used for later scaling:\n",
        "scaler = preprocessing.MinMaxScaler().fit(X_train[['n_dev_shared', 'n_ip_shared', 'n_country_shared']]) \n",
        "# print(scaler.data_max_)\n",
        "\n",
        "# transform the training data and use them for the model training\n",
        "X_train[['n_dev_shared', 'n_ip_shared', 'n_country_shared']] = scaler.transform(X_train[['n_dev_shared', 'n_ip_shared', 'n_country_shared']])\n",
        "\n",
        "# apply the same scaler obtained from above on X_test, not fitting a brandnew scaler on test\n",
        "X_test[['n_dev_shared', 'n_ip_shared', 'n_country_shared']] = scaler.transform(X_test[['n_dev_shared', 'n_ip_shared', 'n_country_shared']])\n"
      ],
      "execution_count": 22,
      "outputs": []
    },
    {
      "cell_type": "code",
      "metadata": {
        "id": "3ZiZjqSwql4G",
        "colab_type": "code",
        "colab": {
          "base_uri": "https://localhost:8080/",
          "height": 144
        },
        "outputId": "0fc21ab4-ab21-4000-d7bc-7d2a3d776352"
      },
      "source": [
        "X_train.n_dev_shared.value_counts(dropna=False)"
      ],
      "execution_count": 23,
      "outputs": [
        {
          "output_type": "execute_result",
          "data": {
            "text/plain": [
              "0.0    105427\n",
              "0.2      4774\n",
              "0.4       324\n",
              "0.6       124\n",
              "0.8        45\n",
              "1.0         6\n",
              "Name: n_dev_shared, dtype: int64"
            ]
          },
          "metadata": {
            "tags": []
          },
          "execution_count": 23
        }
      ]
    },
    {
      "cell_type": "code",
      "metadata": {
        "id": "7M70uIMOqomS",
        "colab_type": "code",
        "colab": {
          "base_uri": "https://localhost:8080/",
          "height": 90
        },
        "outputId": "9d4b5454-f40d-4f42-da4a-a1aadbc78b78"
      },
      "source": [
        "X_test.n_dev_shared.value_counts(dropna=False)"
      ],
      "execution_count": 24,
      "outputs": [
        {
          "output_type": "execute_result",
          "data": {
            "text/plain": [
              "0.0    27330\n",
              "0.2      334\n",
              "0.4       12\n",
              "Name: n_dev_shared, dtype: int64"
            ]
          },
          "metadata": {
            "tags": []
          },
          "execution_count": 24
        }
      ]
    },
    {
      "cell_type": "markdown",
      "metadata": {
        "id": "c8tRkR1uk09Z",
        "colab_type": "text"
      },
      "source": [
        "##Modeling"
      ]
    },
    {
      "cell_type": "markdown",
      "metadata": {
        "id": "x9W2GbVgq2ei",
        "colab_type": "text"
      },
      "source": [
        "###Simple Logistic Regression Model"
      ]
    },
    {
      "cell_type": "code",
      "metadata": {
        "id": "OkdEYm02qrU0",
        "colab_type": "code",
        "colab": {
          "base_uri": "https://localhost:8080/",
          "height": 413
        },
        "outputId": "bdd1d50b-324d-488a-b0f4-9da7299c0fc0"
      },
      "source": [
        "# instantiate the model (using the default parameters)\n",
        "logreg = LogisticRegression()\n",
        "\n",
        "# fit the model with data\n",
        "logreg.fit(X_train,y_train)\n",
        "\n",
        "# predict on test\n",
        "y_pred = logreg.predict(X_test)"
      ],
      "execution_count": 25,
      "outputs": [
        {
          "output_type": "error",
          "ename": "ValueError",
          "evalue": "ignored",
          "traceback": [
            "\u001b[0;31m---------------------------------------------------------------------------\u001b[0m",
            "\u001b[0;31mValueError\u001b[0m                                Traceback (most recent call last)",
            "\u001b[0;32m<ipython-input-25-7205b4ae1326>\u001b[0m in \u001b[0;36m<module>\u001b[0;34m()\u001b[0m\n\u001b[1;32m      3\u001b[0m \u001b[0;34m\u001b[0m\u001b[0m\n\u001b[1;32m      4\u001b[0m \u001b[0;31m# fit the model with data\u001b[0m\u001b[0;34m\u001b[0m\u001b[0;34m\u001b[0m\u001b[0;34m\u001b[0m\u001b[0m\n\u001b[0;32m----> 5\u001b[0;31m \u001b[0mlogreg\u001b[0m\u001b[0;34m.\u001b[0m\u001b[0mfit\u001b[0m\u001b[0;34m(\u001b[0m\u001b[0mX_train\u001b[0m\u001b[0;34m,\u001b[0m\u001b[0my_train\u001b[0m\u001b[0;34m)\u001b[0m\u001b[0;34m\u001b[0m\u001b[0;34m\u001b[0m\u001b[0m\n\u001b[0m\u001b[1;32m      6\u001b[0m \u001b[0;34m\u001b[0m\u001b[0m\n\u001b[1;32m      7\u001b[0m \u001b[0;31m# predict on test\u001b[0m\u001b[0;34m\u001b[0m\u001b[0;34m\u001b[0m\u001b[0;34m\u001b[0m\u001b[0m\n",
            "\u001b[0;32m/usr/local/lib/python3.6/dist-packages/sklearn/linear_model/_logistic.py\u001b[0m in \u001b[0;36mfit\u001b[0;34m(self, X, y, sample_weight)\u001b[0m\n\u001b[1;32m   1525\u001b[0m         \u001b[0mstrength\u001b[0m\u001b[0;34m.\u001b[0m \u001b[0mIf\u001b[0m \u001b[0mCs\u001b[0m \u001b[0;32mis\u001b[0m \u001b[0;32mas\u001b[0m \u001b[0man\u001b[0m \u001b[0mint\u001b[0m\u001b[0;34m,\u001b[0m \u001b[0mthen\u001b[0m \u001b[0ma\u001b[0m \u001b[0mgrid\u001b[0m \u001b[0mof\u001b[0m \u001b[0mCs\u001b[0m \u001b[0mvalues\u001b[0m \u001b[0mare\u001b[0m \u001b[0mchosen\u001b[0m\u001b[0;34m\u001b[0m\u001b[0;34m\u001b[0m\u001b[0m\n\u001b[1;32m   1526\u001b[0m         \u001b[0;32min\u001b[0m \u001b[0ma\u001b[0m \u001b[0mlogarithmic\u001b[0m \u001b[0mscale\u001b[0m \u001b[0mbetween\u001b[0m \u001b[0;36m1e-4\u001b[0m \u001b[0;32mand\u001b[0m \u001b[0;36m1e4\u001b[0m\u001b[0;34m.\u001b[0m\u001b[0;34m\u001b[0m\u001b[0;34m\u001b[0m\u001b[0m\n\u001b[0;32m-> 1527\u001b[0;31m         \u001b[0mLike\u001b[0m \u001b[0;32min\u001b[0m \u001b[0msupport\u001b[0m \u001b[0mvector\u001b[0m \u001b[0mmachines\u001b[0m\u001b[0;34m,\u001b[0m \u001b[0msmaller\u001b[0m \u001b[0mvalues\u001b[0m \u001b[0mspecify\u001b[0m \u001b[0mstronger\u001b[0m\u001b[0;34m\u001b[0m\u001b[0;34m\u001b[0m\u001b[0m\n\u001b[0m\u001b[1;32m   1528\u001b[0m         \u001b[0mregularization\u001b[0m\u001b[0;34m.\u001b[0m\u001b[0;34m\u001b[0m\u001b[0;34m\u001b[0m\u001b[0m\n\u001b[1;32m   1529\u001b[0m \u001b[0;34m\u001b[0m\u001b[0m\n",
            "\u001b[0;32m/usr/local/lib/python3.6/dist-packages/sklearn/utils/validation.py\u001b[0m in \u001b[0;36mcheck_X_y\u001b[0;34m(X, y, accept_sparse, accept_large_sparse, dtype, order, copy, force_all_finite, ensure_2d, allow_nd, multi_output, ensure_min_samples, ensure_min_features, y_numeric, warn_on_dtype, estimator)\u001b[0m\n\u001b[1;32m    753\u001b[0m            \u001b[0mAccepts\u001b[0m\u001b[0;31m \u001b[0m\u001b[0;31m`\u001b[0m\u001b[0mpd\u001b[0m\u001b[0;34m.\u001b[0m\u001b[0mNA\u001b[0m\u001b[0;31m`\u001b[0m \u001b[0;32mand\u001b[0m \u001b[0mconverts\u001b[0m \u001b[0mit\u001b[0m \u001b[0minto\u001b[0m\u001b[0;31m \u001b[0m\u001b[0;31m`\u001b[0m\u001b[0mnp\u001b[0m\u001b[0;34m.\u001b[0m\u001b[0mnan\u001b[0m\u001b[0;31m`\u001b[0m\u001b[0;34m\u001b[0m\u001b[0;34m\u001b[0m\u001b[0m\n\u001b[1;32m    754\u001b[0m \u001b[0;34m\u001b[0m\u001b[0m\n\u001b[0;32m--> 755\u001b[0;31m     \u001b[0mensure_2d\u001b[0m \u001b[0;34m:\u001b[0m \u001b[0mboolean\u001b[0m \u001b[0;34m(\u001b[0m\u001b[0mdefault\u001b[0m\u001b[0;34m=\u001b[0m\u001b[0;32mTrue\u001b[0m\u001b[0;34m)\u001b[0m\u001b[0;34m\u001b[0m\u001b[0;34m\u001b[0m\u001b[0m\n\u001b[0m\u001b[1;32m    756\u001b[0m         \u001b[0mWhether\u001b[0m \u001b[0mto\u001b[0m \u001b[0;32mraise\u001b[0m \u001b[0ma\u001b[0m \u001b[0mvalue\u001b[0m \u001b[0merror\u001b[0m \u001b[0;32mif\u001b[0m \u001b[0mX\u001b[0m \u001b[0;32mis\u001b[0m \u001b[0;32mnot\u001b[0m \u001b[0;36m2\u001b[0m\u001b[0mD\u001b[0m\u001b[0;34m.\u001b[0m\u001b[0;34m\u001b[0m\u001b[0;34m\u001b[0m\u001b[0m\n\u001b[1;32m    757\u001b[0m \u001b[0;34m\u001b[0m\u001b[0m\n",
            "\u001b[0;32m/usr/local/lib/python3.6/dist-packages/sklearn/utils/validation.py\u001b[0m in \u001b[0;36mcheck_array\u001b[0;34m(array, accept_sparse, accept_large_sparse, dtype, order, copy, force_all_finite, ensure_2d, allow_nd, ensure_min_samples, ensure_min_features, warn_on_dtype, estimator)\u001b[0m\n\u001b[1;32m    529\u001b[0m                                                \u001b[0mUInt8Dtype\u001b[0m\u001b[0;34m,\u001b[0m \u001b[0mUInt16Dtype\u001b[0m\u001b[0;34m,\u001b[0m\u001b[0;34m\u001b[0m\u001b[0;34m\u001b[0m\u001b[0m\n\u001b[1;32m    530\u001b[0m                                                UInt32Dtype, UInt64Dtype)):\n\u001b[0;32m--> 531\u001b[0;31m                         \u001b[0mhas_pd_integer_array\u001b[0m \u001b[0;34m=\u001b[0m \u001b[0;32mTrue\u001b[0m\u001b[0;34m\u001b[0m\u001b[0;34m\u001b[0m\u001b[0m\n\u001b[0m\u001b[1;32m    532\u001b[0m \u001b[0;34m\u001b[0m\u001b[0m\n\u001b[1;32m    533\u001b[0m         \u001b[0;32mif\u001b[0m \u001b[0mall\u001b[0m\u001b[0;34m(\u001b[0m\u001b[0misinstance\u001b[0m\u001b[0;34m(\u001b[0m\u001b[0mdtype\u001b[0m\u001b[0;34m,\u001b[0m \u001b[0mnp\u001b[0m\u001b[0;34m.\u001b[0m\u001b[0mdtype\u001b[0m\u001b[0;34m)\u001b[0m \u001b[0;32mfor\u001b[0m \u001b[0mdtype\u001b[0m \u001b[0;32min\u001b[0m \u001b[0mdtypes_orig\u001b[0m\u001b[0;34m)\u001b[0m\u001b[0;34m:\u001b[0m\u001b[0;34m\u001b[0m\u001b[0;34m\u001b[0m\u001b[0m\n",
            "\u001b[0;32m/usr/local/lib/python3.6/dist-packages/numpy/core/_asarray.py\u001b[0m in \u001b[0;36masarray\u001b[0;34m(a, dtype, order)\u001b[0m\n\u001b[1;32m     83\u001b[0m \u001b[0;34m\u001b[0m\u001b[0m\n\u001b[1;32m     84\u001b[0m     \"\"\"\n\u001b[0;32m---> 85\u001b[0;31m     \u001b[0;32mreturn\u001b[0m \u001b[0marray\u001b[0m\u001b[0;34m(\u001b[0m\u001b[0ma\u001b[0m\u001b[0;34m,\u001b[0m \u001b[0mdtype\u001b[0m\u001b[0;34m,\u001b[0m \u001b[0mcopy\u001b[0m\u001b[0;34m=\u001b[0m\u001b[0;32mFalse\u001b[0m\u001b[0;34m,\u001b[0m \u001b[0morder\u001b[0m\u001b[0;34m=\u001b[0m\u001b[0morder\u001b[0m\u001b[0;34m)\u001b[0m\u001b[0;34m\u001b[0m\u001b[0;34m\u001b[0m\u001b[0m\n\u001b[0m\u001b[1;32m     86\u001b[0m \u001b[0;34m\u001b[0m\u001b[0m\n\u001b[1;32m     87\u001b[0m \u001b[0;34m\u001b[0m\u001b[0m\n",
            "\u001b[0;31mValueError\u001b[0m: could not convert string to float: '2015-11-22 16:48:15'"
          ]
        }
      ]
    },
    {
      "cell_type": "code",
      "metadata": {
        "id": "mMrF7AsYqvFr",
        "colab_type": "code",
        "colab": {
          "base_uri": "https://localhost:8080/",
          "height": 69
        },
        "outputId": "4bc2ba2d-c3dd-4c37-f58d-d71d9d42d594"
      },
      "source": [
        "cm = metrics.confusion_matrix(y_test, y_pred)\n",
        "cmDF = pd.DataFrame(cm, columns=['pred_0', 'pred_1'], index=['true_0', 'true_1'])\n",
        "print(cmDF)\n",
        "\n",
        "# predicting everyone as 0 without adjusting weights"
      ],
      "execution_count": null,
      "outputs": [
        {
          "output_type": "stream",
          "text": [
            "        pred_0  pred_1\n",
            "true_0   27389       0\n",
            "true_1     287       0\n"
          ],
          "name": "stdout"
        }
      ]
    },
    {
      "cell_type": "markdown",
      "metadata": {
        "id": "n6HxtgxDq6Dw",
        "colab_type": "text"
      },
      "source": [
        "### Simple RF model"
      ]
    },
    {
      "cell_type": "code",
      "metadata": {
        "id": "80KetNR-qxek",
        "colab_type": "code",
        "colab": {
          "base_uri": "https://localhost:8080/",
          "height": 228
        },
        "outputId": "2b3e1b90-3348-4a7a-9ab9-9dd7f9af1733"
      },
      "source": [
        "classifier_RF = RandomForestClassifier(random_state=0)\n",
        "\n",
        "classifier_RF.fit(X_train, y_train)\n",
        "\n",
        "# predict class labels 0/1 for the test set\n",
        "predicted = classifier_RF.predict(X_test)\n",
        "\n",
        "# generate class probabilities\n",
        "probs = classifier_RF.predict_proba(X_test)\n",
        "\n",
        "# generate evaluation metrics\n",
        "print(\"%s: %r\" % (\"accuracy_score is: \", accuracy_score(y_test, predicted)))\n",
        "print(\"%s: %r\" % (\"roc_auc_score is: \", roc_auc_score(y_test, probs[:, 1])))\n",
        "print(\"%s: %r\" % (\"f1_score is: \", f1_score(y_test, predicted )))#string to int\n",
        "\n",
        "print (\"confusion_matrix is: \")\n",
        "cm = confusion_matrix(y_test, predicted)\n",
        "cmDF = pd.DataFrame(cm, columns=['pred_0', 'pred_1'], index=['true_0', 'true_1'])\n",
        "print(cmDF)\n",
        "print('recall =',float(cm[1,1])/(cm[1,0]+cm[1,1]))\n",
        "print('precision =', float(cm[1,1])/(cm[1,1] + cm[0,1]))#1.0\n",
        "\n",
        "# No false negatives, great!"
      ],
      "execution_count": null,
      "outputs": [
        {
          "output_type": "stream",
          "text": [
            "/usr/local/lib/python3.6/dist-packages/sklearn/ensemble/forest.py:245: FutureWarning: The default value of n_estimators will change from 10 in version 0.20 to 100 in 0.22.\n",
            "  \"10 in version 0.20 to 100 in 0.22.\", FutureWarning)\n"
          ],
          "name": "stderr"
        },
        {
          "output_type": "stream",
          "text": [
            "accuracy_score is: : 0.9948692007515537\n",
            "roc_auc_score is: : 0.7548596215347777\n",
            "f1_score is: : 0.6712962962962962\n",
            "confusion_matrix is: \n",
            "        pred_0  pred_1\n",
            "true_0   27389       0\n",
            "true_1     142     145\n",
            "recall = 0.5052264808362369\n",
            "precision = 1.0\n"
          ],
          "name": "stdout"
        }
      ]
    },
    {
      "cell_type": "markdown",
      "metadata": {
        "id": "0iDA5X4hrIYB",
        "colab_type": "text"
      },
      "source": [
        "### SMOTE sampling\n",
        "\n",
        "Wrong way to sampling: smote before split train/test, then test data does not reflect true distribution in reality, and “blend” information from the test set into the training of the model. overfit! think about the case of simple oversampling (where I just duplicate observations). If I upsample a dataset before splitting it into a train and validation set, I could end up with the same observation in both datasets\n",
        "\n",
        "https://imbalanced-learn.org/en/stable/install.html\n"
      ]
    },
    {
      "cell_type": "code",
      "metadata": {
        "id": "caUbRizDq9Im",
        "colab_type": "code",
        "colab": {
          "base_uri": "https://localhost:8080/",
          "height": 52
        },
        "outputId": "f0932bc3-c729-49eb-b66d-b8a6bcf63b91"
      },
      "source": [
        "# Install\n",
        "# imbalanced-learn is currently available on the PyPi’s reporitories and you can install it via pip:\n",
        "\n",
        "pip install -U imbalanced-learn\n",
        "\n",
        "# oversampling on only the training data, the right way! \n",
        "# sampling_strategy = number of samples in the majority class over the number of samples in the minority class after resampling\n",
        "\n",
        "smote = SMOTE(random_state=12)\n",
        "x_train_sm, y_train_sm = smote.fit_sample(X_train, y_train)\n",
        "\n",
        "unique, counts = np.unique(y_train_sm, return_counts=True)\n",
        "\n",
        "print(np.asarray((unique, counts)).T)"
      ],
      "execution_count": null,
      "outputs": [
        {
          "output_type": "stream",
          "text": [
            "[[     0 109572]\n",
            " [     1 109572]]\n"
          ],
          "name": "stdout"
        }
      ]
    },
    {
      "cell_type": "code",
      "metadata": {
        "id": "rbCwzZYSrNGn",
        "colab_type": "code",
        "colab": {
          "base_uri": "https://localhost:8080/",
          "height": 228
        },
        "outputId": "9037a427-dc1f-4f17-9c95-6df59d22b191"
      },
      "source": [
        "#RF on smoted training data\n",
        "classifier_RF_sm = RandomForestClassifier(random_state=0)\n",
        "\n",
        "classifier_RF_sm.fit(x_train_sm, y_train_sm)\n",
        "\n",
        "# predict class labels for the test set\n",
        "predicted_sm = classifier_RF_sm.predict(X_test)\n",
        "\n",
        "# generate class probabilities\n",
        "probs_sm = classifier_RF_sm.predict_proba(X_test)\n",
        "\n",
        "# generate evaluation metrics\n",
        "print(\"%s: %r\" % (\"accuracy_score_sm is: \", accuracy_score(y_test, predicted_sm)))\n",
        "print(\"%s: %r\" % (\"roc_auc_score_sm is: \", roc_auc_score(y_test, probs_sm[:, 1])))\n",
        "print(\"%s: %r\" % (\"f1_score_sm is: \", f1_score(y_test, predicted_sm )))#string to int\n",
        "\n",
        "print (\"confusion_matrix_sm is: \")\n",
        "cm_sm = confusion_matrix(y_test, predicted_sm)\n",
        "cmDF = pd.DataFrame(cm_sm, columns=['pred_0', 'pred_1'], index=['true_0', 'true_1'])\n",
        "print(cmDF)\n",
        "print('recall or sens_sm =',float(cm_sm[1,1])/(cm_sm[1,0]+cm_sm[1,1]))\n",
        "print('precision_sm =', float(cm_sm[1,1])/(cm_sm[1,1] + cm_sm[0,1]))\n",
        "\n",
        "# worst precision? COnclude that resampling did not improve results...\n",
        "# different AUC??"
      ],
      "execution_count": null,
      "outputs": [
        {
          "output_type": "stream",
          "text": [
            "/usr/local/lib/python3.6/dist-packages/sklearn/ensemble/forest.py:245: FutureWarning: The default value of n_estimators will change from 10 in version 0.20 to 100 in 0.22.\n",
            "  \"10 in version 0.20 to 100 in 0.22.\", FutureWarning)\n"
          ],
          "name": "stderr"
        },
        {
          "output_type": "stream",
          "text": [
            "accuracy_score_sm is: : 0.9945440092498916\n",
            "roc_auc_score_sm is: : 0.7533518568391924\n",
            "f1_score_sm is: : 0.6544622425629291\n",
            "confusion_matrix_sm is: \n",
            "        pred_0  pred_1\n",
            "true_0   27382       7\n",
            "true_1     144     143\n",
            "recall or sens_sm = 0.49825783972125437\n",
            "precision_sm = 0.9533333333333334\n"
          ],
          "name": "stdout"
        }
      ]
    },
    {
      "cell_type": "markdown",
      "metadata": {
        "id": "ldszZ1T-rhOx",
        "colab_type": "text"
      },
      "source": [
        "### Parameter tuning by GridSearchCV"
      ]
    },
    {
      "cell_type": "markdown",
      "metadata": {
        "id": "F1bV_jCkrkWF",
        "colab_type": "text"
      },
      "source": [
        "Eval metrics for GridSearchCV over all fits upon combination of parameters and cv"
      ]
    },
    {
      "cell_type": "code",
      "metadata": {
        "id": "sFfAZlQDrQAb",
        "colab_type": "code",
        "colab": {}
      },
      "source": [
        "# Eval metrics to be calculated for each combination of parameters and cv, they are all calculated(by scoring), but not necessarily used to pick the optimal(by refit)\n",
        "scorers = {\n",
        "    'precision_score': make_scorer(precision_score),\n",
        "    'recall_score': make_scorer(recall_score),\n",
        "    'f1_score': make_scorer(f1_score, pos_label=1)\n",
        "}"
      ],
      "execution_count": null,
      "outputs": []
    },
    {
      "cell_type": "code",
      "metadata": {
        "id": "RdgTcDHirmpK",
        "colab_type": "code",
        "colab": {}
      },
      "source": [
        "def grid_search_wrapper(model, parameters, refit_score='f1_score'):\n",
        "    \"\"\"\n",
        "    fits a GridSearchCV classifier using refit_score for optimization(refit on the best model according to refit_score)\n",
        "    prints classifier performance metrics\n",
        "    \"\"\"\n",
        "\n",
        "    grid_search = GridSearchCV(model, parameters, scoring=scorers, refit=refit_score,\n",
        "                           cv=3, return_train_score=True, n_jobs=-1)\n",
        "    grid_search.fit(X_train, y_train)\n",
        "\n",
        "    # make the predictions\n",
        "    y_pred = grid_search.predict(X_test)\n",
        "    y_prob = grid_search.predict_proba(X_test)[:, 1]\n",
        "    \n",
        "    print('Best params for {}'.format(refit_score))\n",
        "    print(grid_search.best_params_)\n",
        "\n",
        "    # confusion matrix on the test data.\n",
        "    print('\\nConfusion matrix of Random Forest optimized for {} on the test data:'.format(refit_score))\n",
        "    cm = confusion_matrix(y_test, y_pred)\n",
        "    cmDF = pd.DataFrame(cm, columns=['pred_0', 'pred_1'], index=['true_0', 'true_1'])\n",
        "    print(cmDF)\n",
        "    \n",
        "    print(\"\\t%s: %r\" % (\"roc_auc_score is: \", roc_auc_score(y_test, y_prob)))\n",
        "    print(\"\\t%s: %r\" % (\"f1_score is: \", f1_score(y_test, y_pred)))#string to int\n",
        "\n",
        "    print('recall = ', float(cm[1,1]) / (cm[1,0] + cm[1,1]))\n",
        "    print('precision = ', float(cm[1,1]) / (cm[1, 1] + cm[0,1]))\n",
        "\n",
        "    return grid_search"
      ],
      "execution_count": null,
      "outputs": []
    },
    {
      "cell_type": "markdown",
      "metadata": {
        "id": "hsRYsbmWrxRX",
        "colab_type": "text"
      },
      "source": [
        "Optimizing on f1_score on LR"
      ]
    },
    {
      "cell_type": "code",
      "metadata": {
        "id": "auoYm_uXrpK8",
        "colab_type": "code",
        "colab": {
          "base_uri": "https://localhost:8080/",
          "height": 263
        },
        "outputId": "5c37e060-f19b-4560-a71b-cf182a333a4e"
      },
      "source": [
        "# C: inverse of regularization strength, smaller values specify stronger regularization\n",
        "# penalty: LASSO's penalty term, l1 lasso l2 ridge\n",
        "LRGrid = {\"C\" : np.logspace(-2,2,5), \"penalty\":[\"l1\",\"l2\"]} \n",
        "# param_grid = {'C': [0.01, 0.1, 1, 10, 100], 'penalty': ['l1', 'l2']}\n",
        "logRegModel = LogisticRegression(random_state=0)\n",
        "\n",
        "grid_search_LR_f1 = grid_search_wrapper(logRegModel, LRGrid, refit_score='f1_score')\n",
        "\n",
        "# using optimized parameters, still not improved much"
      ],
      "execution_count": null,
      "outputs": [
        {
          "output_type": "stream",
          "text": [
            "/usr/local/lib/python3.6/dist-packages/sklearn/linear_model/logistic.py:432: FutureWarning: Default solver will be changed to 'lbfgs' in 0.22. Specify a solver to silence this warning.\n",
            "  FutureWarning)\n"
          ],
          "name": "stderr"
        },
        {
          "output_type": "stream",
          "text": [
            "Best params for f1_score\n",
            "{'C': 0.1, 'penalty': 'l1'}\n",
            "\n",
            "Confusion matrix of Random Forest optimized for f1_score on the test data:\n",
            "        pred_0  pred_1\n",
            "true_0   27386       3\n",
            "true_1     278       9\n",
            "\troc_auc_score is: : 0.7597098608854265\n",
            "\tf1_score is: : 0.06020066889632108\n",
            "recall =  0.0313588850174216\n",
            "precision =  0.75\n"
          ],
          "name": "stdout"
        }
      ]
    },
    {
      "cell_type": "markdown",
      "metadata": {
        "id": "8nXA4BYJr238",
        "colab_type": "text"
      },
      "source": [
        "Optimizing on f1_score on RF"
      ]
    },
    {
      "cell_type": "code",
      "metadata": {
        "id": "WYdxvC56r0i4",
        "colab_type": "code",
        "colab": {}
      },
      "source": [
        "parameters = {        \n",
        "  'max_depth': [None, 5, 15],\n",
        "  'n_estimators' :  [10,150],\n",
        "  'class_weight' : [{0: 1, 1: w} for w in [0.2, 1, 100]]\n",
        "}\n",
        "\n",
        "clf = RandomForestClassifier(random_state=0)"
      ],
      "execution_count": null,
      "outputs": []
    },
    {
      "cell_type": "code",
      "metadata": {
        "id": "Ts64O7eWr5g2",
        "colab_type": "code",
        "colab": {
          "base_uri": "https://localhost:8080/",
          "height": 208
        },
        "outputId": "e6372b42-de3c-45ad-c1af-bf2810ef82e7"
      },
      "source": [
        "grid_search_rf_f1 = grid_search_wrapper(clf, parameters, refit_score='f1_score')\n",
        "# optimized parametrs: class_weight = 0.2\n",
        "# exactly the same as the default\n",
        "# RF works really well on imbalanced data"
      ],
      "execution_count": null,
      "outputs": [
        {
          "output_type": "stream",
          "text": [
            "Best params for f1_score\n",
            "{'class_weight': {0: 1, 1: 0.2}, 'max_depth': None, 'n_estimators': 150}\n",
            "\n",
            "Confusion matrix of Random Forest optimized for f1_score on the test data:\n",
            "        pred_0  pred_1\n",
            "true_0   27389       0\n",
            "true_1     142     145\n",
            "\troc_auc_score is: : 0.7627425008361275\n",
            "\tf1_score is: : 0.6712962962962962\n",
            "recall =  0.5052264808362369\n",
            "precision =  1.0\n"
          ],
          "name": "stdout"
        }
      ]
    },
    {
      "cell_type": "code",
      "metadata": {
        "id": "xjYCYlbmr8BV",
        "colab_type": "code",
        "colab": {
          "base_uri": "https://localhost:8080/",
          "height": 139
        },
        "outputId": "6edb449a-d866-4e2a-9d0d-039f2c134e60"
      },
      "source": [
        "best_rf_model_f1 = grid_search_rf_f1.best_estimator_\n",
        "best_rf_model_f1"
      ],
      "execution_count": null,
      "outputs": [
        {
          "output_type": "execute_result",
          "data": {
            "text/plain": [
              "RandomForestClassifier(bootstrap=True, class_weight={0: 1, 1: 0.2},\n",
              "                       criterion='gini', max_depth=None, max_features='auto',\n",
              "                       max_leaf_nodes=None, min_impurity_decrease=0.0,\n",
              "                       min_impurity_split=None, min_samples_leaf=1,\n",
              "                       min_samples_split=2, min_weight_fraction_leaf=0.0,\n",
              "                       n_estimators=150, n_jobs=None, oob_score=False,\n",
              "                       random_state=0, verbose=0, warm_start=False)"
            ]
          },
          "metadata": {
            "tags": []
          },
          "execution_count": 42
        }
      ]
    },
    {
      "cell_type": "code",
      "metadata": {
        "id": "K6NOTqRHr-oA",
        "colab_type": "code",
        "colab": {
          "base_uri": "https://localhost:8080/",
          "height": 222
        },
        "outputId": "8442c5bd-18ff-4306-c342-fa0f118cde59"
      },
      "source": [
        "results_f1 = pd.DataFrame(grid_search_rf_f1.cv_results_)\n",
        "results_sortf1 = results_f1.sort_values(by='mean_test_f1_score', ascending=False)\n",
        "results_sortf1[['mean_test_precision_score', 'mean_test_recall_score', 'mean_test_f1_score', 'mean_train_precision_score', 'mean_train_recall_score', 'mean_train_f1_score','param_max_depth', 'param_class_weight', 'param_n_estimators']].round(3).head()"
      ],
      "execution_count": null,
      "outputs": [
        {
          "output_type": "execute_result",
          "data": {
            "text/html": [
              "<div>\n",
              "<style scoped>\n",
              "    .dataframe tbody tr th:only-of-type {\n",
              "        vertical-align: middle;\n",
              "    }\n",
              "\n",
              "    .dataframe tbody tr th {\n",
              "        vertical-align: top;\n",
              "    }\n",
              "\n",
              "    .dataframe thead th {\n",
              "        text-align: right;\n",
              "    }\n",
              "</style>\n",
              "<table border=\"1\" class=\"dataframe\">\n",
              "  <thead>\n",
              "    <tr style=\"text-align: right;\">\n",
              "      <th></th>\n",
              "      <th>mean_test_precision_score</th>\n",
              "      <th>mean_test_recall_score</th>\n",
              "      <th>mean_test_f1_score</th>\n",
              "      <th>mean_train_precision_score</th>\n",
              "      <th>mean_train_recall_score</th>\n",
              "      <th>mean_train_f1_score</th>\n",
              "      <th>param_max_depth</th>\n",
              "      <th>param_class_weight</th>\n",
              "      <th>param_n_estimators</th>\n",
              "    </tr>\n",
              "  </thead>\n",
              "  <tbody>\n",
              "    <tr>\n",
              "      <th>9</th>\n",
              "      <td>1.0</td>\n",
              "      <td>0.527</td>\n",
              "      <td>0.69</td>\n",
              "      <td>1.0</td>\n",
              "      <td>0.527</td>\n",
              "      <td>0.690</td>\n",
              "      <td>5</td>\n",
              "      <td>{0: 1, 1: 1}</td>\n",
              "      <td>150</td>\n",
              "    </tr>\n",
              "    <tr>\n",
              "      <th>7</th>\n",
              "      <td>1.0</td>\n",
              "      <td>0.527</td>\n",
              "      <td>0.69</td>\n",
              "      <td>1.0</td>\n",
              "      <td>1.000</td>\n",
              "      <td>1.000</td>\n",
              "      <td>None</td>\n",
              "      <td>{0: 1, 1: 1}</td>\n",
              "      <td>150</td>\n",
              "    </tr>\n",
              "    <tr>\n",
              "      <th>13</th>\n",
              "      <td>1.0</td>\n",
              "      <td>0.527</td>\n",
              "      <td>0.69</td>\n",
              "      <td>1.0</td>\n",
              "      <td>1.000</td>\n",
              "      <td>1.000</td>\n",
              "      <td>None</td>\n",
              "      <td>{0: 1, 1: 100}</td>\n",
              "      <td>150</td>\n",
              "    </tr>\n",
              "    <tr>\n",
              "      <th>3</th>\n",
              "      <td>1.0</td>\n",
              "      <td>0.527</td>\n",
              "      <td>0.69</td>\n",
              "      <td>1.0</td>\n",
              "      <td>0.527</td>\n",
              "      <td>0.690</td>\n",
              "      <td>5</td>\n",
              "      <td>{0: 1, 1: 0.2}</td>\n",
              "      <td>150</td>\n",
              "    </tr>\n",
              "    <tr>\n",
              "      <th>11</th>\n",
              "      <td>1.0</td>\n",
              "      <td>0.527</td>\n",
              "      <td>0.69</td>\n",
              "      <td>1.0</td>\n",
              "      <td>0.584</td>\n",
              "      <td>0.737</td>\n",
              "      <td>15</td>\n",
              "      <td>{0: 1, 1: 1}</td>\n",
              "      <td>150</td>\n",
              "    </tr>\n",
              "  </tbody>\n",
              "</table>\n",
              "</div>"
            ],
            "text/plain": [
              "    mean_test_precision_score  ...  param_n_estimators\n",
              "9                         1.0  ...                 150\n",
              "7                         1.0  ...                 150\n",
              "13                        1.0  ...                 150\n",
              "3                         1.0  ...                 150\n",
              "11                        1.0  ...                 150\n",
              "\n",
              "[5 rows x 9 columns]"
            ]
          },
          "metadata": {
            "tags": []
          },
          "execution_count": 43
        }
      ]
    },
    {
      "cell_type": "markdown",
      "metadata": {
        "id": "VMBjORQlsGGZ",
        "colab_type": "text"
      },
      "source": [
        "Optimizing recall_score on RF"
      ]
    },
    {
      "cell_type": "code",
      "metadata": {
        "id": "9A7_0wtfsD8d",
        "colab_type": "code",
        "colab": {
          "base_uri": "https://localhost:8080/",
          "height": 208
        },
        "outputId": "fff53ef9-5733-4738-8671-5326f1a931ce"
      },
      "source": [
        "grid_search_rf_recall = grid_search_wrapper(clf, parameters, refit_score='recall_score')"
      ],
      "execution_count": null,
      "outputs": [
        {
          "output_type": "stream",
          "text": [
            "Best params for recall_score\n",
            "{'class_weight': {0: 1, 1: 100}, 'max_depth': 5, 'n_estimators': 150}\n",
            "\n",
            "Confusion matrix of Random Forest optimized for recall_score on the test data:\n",
            "        pred_0  pred_1\n",
            "true_0   27146     243\n",
            "true_1     132     155\n",
            "\troc_auc_score is: : 0.7904661234456265\n",
            "\tf1_score is: : 0.4525547445255475\n",
            "recall =  0.5400696864111498\n",
            "precision =  0.38944723618090454\n"
          ],
          "name": "stdout"
        }
      ]
    },
    {
      "cell_type": "code",
      "metadata": {
        "id": "IzvlVI_VsIpb",
        "colab_type": "code",
        "colab": {
          "base_uri": "https://localhost:8080/"
        },
        "outputId": "fe57672e-1de3-4988-b4d1-5af1199471ea"
      },
      "source": [
        "best_RF_model_recall = grid_search_rf_recall.best_estimator_\n",
        "best_RF_model_recall"
      ],
      "execution_count": null,
      "outputs": [
        {
          "output_type": "execute_result",
          "data": {
            "text/plain": [
              "RandomForestClassifier(bootstrap=True, class_weight={0: 1, 1: 100},\n",
              "                       criterion='gini', max_depth=5, max_features='auto',\n",
              "                       max_leaf_nodes=None, min_impurity_decrease=0.0,\n",
              "                       min_impurity_split=None, min_samples_leaf=1,\n",
              "                       min_samples_split=2, min_weight_fraction_leaf=0.0,\n",
              "                       n_estimators=150, n_jobs=None, oob_score=False,\n",
              "                       random_state=0, verbose=0, warm_start=False)"
            ]
          },
          "metadata": {
            "tags": []
          },
          "execution_count": 46
        }
      ]
    },
    {
      "cell_type": "code",
      "metadata": {
        "id": "Y7ncW6mZsKx_",
        "colab_type": "code",
        "colab": {
          "base_uri": "https://localhost:8080/",
          "height": 222
        },
        "outputId": "972cfc26-c4df-4afd-fcee-14117ef7ae0b"
      },
      "source": [
        "# predict class labels for the test set\n",
        "predictedBest_recall = best_RF_model_recall.predict(X_test)\n",
        "\n",
        "# generate class probabilities\n",
        "probsBest_recall = best_RF_model_recall.predict_proba(X_test)\n",
        "\n",
        "results_recall = pd.DataFrame(grid_search_rf_recall.cv_results_)# recall score is different from above, as above is metric on test data, this is performance on cv data\n",
        "results_sortrecall = results_recall.sort_values(by='mean_test_recall_score', ascending=False)\n",
        "results_sortrecall[['mean_test_precision_score', 'mean_test_recall_score', 'mean_test_f1_score', 'mean_train_precision_score', 'mean_train_recall_score', 'mean_train_f1_score','param_max_depth', 'param_class_weight', 'param_n_estimators']].round(3).head()\n",
        "# recall is worse than default rf?? no this is on test, but train recall is better"
      ],
      "execution_count": null,
      "outputs": [
        {
          "output_type": "execute_result",
          "data": {
            "text/html": [
              "<div>\n",
              "<style scoped>\n",
              "    .dataframe tbody tr th:only-of-type {\n",
              "        vertical-align: middle;\n",
              "    }\n",
              "\n",
              "    .dataframe tbody tr th {\n",
              "        vertical-align: top;\n",
              "    }\n",
              "\n",
              "    .dataframe thead th {\n",
              "        text-align: right;\n",
              "    }\n",
              "</style>\n",
              "<table border=\"1\" class=\"dataframe\">\n",
              "  <thead>\n",
              "    <tr style=\"text-align: right;\">\n",
              "      <th></th>\n",
              "      <th>mean_test_precision_score</th>\n",
              "      <th>mean_test_recall_score</th>\n",
              "      <th>mean_test_f1_score</th>\n",
              "      <th>mean_train_precision_score</th>\n",
              "      <th>mean_train_recall_score</th>\n",
              "      <th>mean_train_f1_score</th>\n",
              "      <th>param_max_depth</th>\n",
              "      <th>param_class_weight</th>\n",
              "      <th>param_n_estimators</th>\n",
              "    </tr>\n",
              "  </thead>\n",
              "  <tbody>\n",
              "    <tr>\n",
              "      <th>15</th>\n",
              "      <td>0.159</td>\n",
              "      <td>0.636</td>\n",
              "      <td>0.254</td>\n",
              "      <td>0.164</td>\n",
              "      <td>0.656</td>\n",
              "      <td>0.262</td>\n",
              "      <td>5</td>\n",
              "      <td>{0: 1, 1: 100}</td>\n",
              "      <td>150</td>\n",
              "    </tr>\n",
              "    <tr>\n",
              "      <th>14</th>\n",
              "      <td>0.160</td>\n",
              "      <td>0.633</td>\n",
              "      <td>0.255</td>\n",
              "      <td>0.162</td>\n",
              "      <td>0.652</td>\n",
              "      <td>0.260</td>\n",
              "      <td>5</td>\n",
              "      <td>{0: 1, 1: 100}</td>\n",
              "      <td>10</td>\n",
              "    </tr>\n",
              "    <tr>\n",
              "      <th>16</th>\n",
              "      <td>0.675</td>\n",
              "      <td>0.533</td>\n",
              "      <td>0.593</td>\n",
              "      <td>0.759</td>\n",
              "      <td>0.813</td>\n",
              "      <td>0.782</td>\n",
              "      <td>15</td>\n",
              "      <td>{0: 1, 1: 100}</td>\n",
              "      <td>10</td>\n",
              "    </tr>\n",
              "    <tr>\n",
              "      <th>0</th>\n",
              "      <td>0.998</td>\n",
              "      <td>0.527</td>\n",
              "      <td>0.689</td>\n",
              "      <td>1.000</td>\n",
              "      <td>0.858</td>\n",
              "      <td>0.923</td>\n",
              "      <td>None</td>\n",
              "      <td>{0: 1, 1: 0.2}</td>\n",
              "      <td>10</td>\n",
              "    </tr>\n",
              "    <tr>\n",
              "      <th>1</th>\n",
              "      <td>1.000</td>\n",
              "      <td>0.527</td>\n",
              "      <td>0.690</td>\n",
              "      <td>1.000</td>\n",
              "      <td>1.000</td>\n",
              "      <td>1.000</td>\n",
              "      <td>None</td>\n",
              "      <td>{0: 1, 1: 0.2}</td>\n",
              "      <td>150</td>\n",
              "    </tr>\n",
              "  </tbody>\n",
              "</table>\n",
              "</div>"
            ],
            "text/plain": [
              "    mean_test_precision_score  ...  param_n_estimators\n",
              "15                      0.159  ...                 150\n",
              "14                      0.160  ...                  10\n",
              "16                      0.675  ...                  10\n",
              "0                       0.998  ...                  10\n",
              "1                       1.000  ...                 150\n",
              "\n",
              "[5 rows x 9 columns]"
            ]
          },
          "metadata": {
            "tags": []
          },
          "execution_count": 47
        }
      ]
    },
    {
      "cell_type": "markdown",
      "metadata": {
        "id": "UXvU-OxVsUs7",
        "colab_type": "text"
      },
      "source": [
        "## Results Interpretation"
      ]
    },
    {
      "cell_type": "markdown",
      "metadata": {
        "id": "TTN9GzoIpO36",
        "colab_type": "text"
      },
      "source": [
        "### Variable Importance"
      ]
    },
    {
      "cell_type": "code",
      "metadata": {
        "id": "ccCAMjbrsBK1",
        "colab_type": "code",
        "colab": {
          "base_uri": "https://localhost:8080/",
          "height": 631
        },
        "outputId": "258ba86e-f002-40fc-e343-185bd762a86b"
      },
      "source": [
        "pd.DataFrame(best_rf_model_f1.feature_importances_, index = X_train.columns, columns=['importance']).sort_values('importance', ascending=False)"
      ],
      "execution_count": null,
      "outputs": [
        {
          "output_type": "execute_result",
          "data": {
            "text/html": [
              "<div>\n",
              "<style scoped>\n",
              "    .dataframe tbody tr th:only-of-type {\n",
              "        vertical-align: middle;\n",
              "    }\n",
              "\n",
              "    .dataframe tbody tr th {\n",
              "        vertical-align: top;\n",
              "    }\n",
              "\n",
              "    .dataframe thead th {\n",
              "        text-align: right;\n",
              "    }\n",
              "</style>\n",
              "<table border=\"1\" class=\"dataframe\">\n",
              "  <thead>\n",
              "    <tr style=\"text-align: right;\">\n",
              "      <th></th>\n",
              "      <th>importance</th>\n",
              "    </tr>\n",
              "  </thead>\n",
              "  <tbody>\n",
              "    <tr>\n",
              "      <th>interval_after_signup</th>\n",
              "      <td>0.394919</td>\n",
              "    </tr>\n",
              "    <tr>\n",
              "      <th>purchase_days_of_year</th>\n",
              "      <td>0.141148</td>\n",
              "    </tr>\n",
              "    <tr>\n",
              "      <th>purchase_seconds_of_day</th>\n",
              "      <td>0.081432</td>\n",
              "    </tr>\n",
              "    <tr>\n",
              "      <th>signup_seconds_of_day</th>\n",
              "      <td>0.078620</td>\n",
              "    </tr>\n",
              "    <tr>\n",
              "      <th>signup_days_of_year</th>\n",
              "      <td>0.059417</td>\n",
              "    </tr>\n",
              "    <tr>\n",
              "      <th>n_ip_shared</th>\n",
              "      <td>0.050463</td>\n",
              "    </tr>\n",
              "    <tr>\n",
              "      <th>purchase_value</th>\n",
              "      <td>0.044328</td>\n",
              "    </tr>\n",
              "    <tr>\n",
              "      <th>n_dev_shared</th>\n",
              "      <td>0.038656</td>\n",
              "    </tr>\n",
              "    <tr>\n",
              "      <th>age</th>\n",
              "      <td>0.038656</td>\n",
              "    </tr>\n",
              "    <tr>\n",
              "      <th>n_country_shared</th>\n",
              "      <td>0.027619</td>\n",
              "    </tr>\n",
              "    <tr>\n",
              "      <th>sex</th>\n",
              "      <td>0.007886</td>\n",
              "    </tr>\n",
              "    <tr>\n",
              "      <th>source_Ads</th>\n",
              "      <td>0.005919</td>\n",
              "    </tr>\n",
              "    <tr>\n",
              "      <th>source_SEO</th>\n",
              "      <td>0.005735</td>\n",
              "    </tr>\n",
              "    <tr>\n",
              "      <th>browser_Chrome</th>\n",
              "      <td>0.005264</td>\n",
              "    </tr>\n",
              "    <tr>\n",
              "      <th>source_Direct</th>\n",
              "      <td>0.005217</td>\n",
              "    </tr>\n",
              "    <tr>\n",
              "      <th>browser_FireFox</th>\n",
              "      <td>0.004753</td>\n",
              "    </tr>\n",
              "    <tr>\n",
              "      <th>browser_IE</th>\n",
              "      <td>0.004413</td>\n",
              "    </tr>\n",
              "    <tr>\n",
              "      <th>browser_Safari</th>\n",
              "      <td>0.004308</td>\n",
              "    </tr>\n",
              "    <tr>\n",
              "      <th>browser_Opera</th>\n",
              "      <td>0.001246</td>\n",
              "    </tr>\n",
              "  </tbody>\n",
              "</table>\n",
              "</div>"
            ],
            "text/plain": [
              "                         importance\n",
              "interval_after_signup      0.394919\n",
              "purchase_days_of_year      0.141148\n",
              "purchase_seconds_of_day    0.081432\n",
              "signup_seconds_of_day      0.078620\n",
              "signup_days_of_year        0.059417\n",
              "n_ip_shared                0.050463\n",
              "purchase_value             0.044328\n",
              "n_dev_shared               0.038656\n",
              "age                        0.038656\n",
              "n_country_shared           0.027619\n",
              "sex                        0.007886\n",
              "source_Ads                 0.005919\n",
              "source_SEO                 0.005735\n",
              "browser_Chrome             0.005264\n",
              "source_Direct              0.005217\n",
              "browser_FireFox            0.004753\n",
              "browser_IE                 0.004413\n",
              "browser_Safari             0.004308\n",
              "browser_Opera              0.001246"
            ]
          },
          "metadata": {
            "tags": []
          },
          "execution_count": 44
        }
      ]
    },
    {
      "cell_type": "code",
      "metadata": {
        "id": "jL6RHnausPcH",
        "colab_type": "code",
        "colab": {
          "base_uri": "https://localhost:8080/"
        },
        "outputId": "dc75b154-2b57-4ee3-e37d-389a15f679f7"
      },
      "source": [
        "# Based on the above var importance,\n",
        "# the larger n_dev_shared, the higher rate of fraud\n",
        "trainDF = pd.concat([X_train, y_train], axis=1)\n",
        "pd.crosstab(trainDF[\"n_dev_shared\"],trainDF[\"class\"])"
      ],
      "execution_count": null,
      "outputs": [
        {
          "output_type": "execute_result",
          "data": {
            "text/html": [
              "<div>\n",
              "<style scoped>\n",
              "    .dataframe tbody tr th:only-of-type {\n",
              "        vertical-align: middle;\n",
              "    }\n",
              "\n",
              "    .dataframe tbody tr th {\n",
              "        vertical-align: top;\n",
              "    }\n",
              "\n",
              "    .dataframe thead th {\n",
              "        text-align: right;\n",
              "    }\n",
              "</style>\n",
              "<table border=\"1\" class=\"dataframe\">\n",
              "  <thead>\n",
              "    <tr style=\"text-align: right;\">\n",
              "      <th>class</th>\n",
              "      <th>0</th>\n",
              "      <th>1</th>\n",
              "    </tr>\n",
              "    <tr>\n",
              "      <th>n_dev_shared</th>\n",
              "      <th></th>\n",
              "      <th></th>\n",
              "    </tr>\n",
              "  </thead>\n",
              "  <tbody>\n",
              "    <tr>\n",
              "      <th>0.0</th>\n",
              "      <td>104966</td>\n",
              "      <td>461</td>\n",
              "    </tr>\n",
              "    <tr>\n",
              "      <th>0.2</th>\n",
              "      <td>4403</td>\n",
              "      <td>371</td>\n",
              "    </tr>\n",
              "    <tr>\n",
              "      <th>0.4</th>\n",
              "      <td>152</td>\n",
              "      <td>172</td>\n",
              "    </tr>\n",
              "    <tr>\n",
              "      <th>0.6</th>\n",
              "      <td>37</td>\n",
              "      <td>87</td>\n",
              "    </tr>\n",
              "    <tr>\n",
              "      <th>0.8</th>\n",
              "      <td>13</td>\n",
              "      <td>32</td>\n",
              "    </tr>\n",
              "    <tr>\n",
              "      <th>1.0</th>\n",
              "      <td>1</td>\n",
              "      <td>5</td>\n",
              "    </tr>\n",
              "  </tbody>\n",
              "</table>\n",
              "</div>"
            ],
            "text/plain": [
              "class              0    1\n",
              "n_dev_shared             \n",
              "0.0           104966  461\n",
              "0.2             4403  371\n",
              "0.4              152  172\n",
              "0.6               37   87\n",
              "0.8               13   32\n",
              "1.0                1    5"
            ]
          },
          "metadata": {
            "tags": []
          },
          "execution_count": 48
        }
      ]
    },
    {
      "cell_type": "code",
      "metadata": {
        "id": "cYog2kSTsakj",
        "colab_type": "code",
        "colab": {
          "base_uri": "https://localhost:8080/",
          "height": 141
        },
        "outputId": "4a5e0a1b-0aec-4973-8347-da09d34bcf78"
      },
      "source": [
        "# the smaller action velocity (consecutive operations/actions of user), \n",
        "# interval_after_signup on frauds are significantly lower compared to legits\n",
        "fraud_data.groupby(\"class\")[['interval_after_signup']].mean()"
      ],
      "execution_count": null,
      "outputs": [
        {
          "output_type": "execute_result",
          "data": {
            "text/html": [
              "<div>\n",
              "<style scoped>\n",
              "    .dataframe tbody tr th:only-of-type {\n",
              "        vertical-align: middle;\n",
              "    }\n",
              "\n",
              "    .dataframe tbody tr th {\n",
              "        vertical-align: top;\n",
              "    }\n",
              "\n",
              "    .dataframe thead th {\n",
              "        text-align: right;\n",
              "    }\n",
              "</style>\n",
              "<table border=\"1\" class=\"dataframe\">\n",
              "  <thead>\n",
              "    <tr style=\"text-align: right;\">\n",
              "      <th></th>\n",
              "      <th>interval_after_signup</th>\n",
              "    </tr>\n",
              "    <tr>\n",
              "      <th>class</th>\n",
              "      <th></th>\n",
              "    </tr>\n",
              "  </thead>\n",
              "  <tbody>\n",
              "    <tr>\n",
              "      <th>0</th>\n",
              "      <td>5.191179e+06</td>\n",
              "    </tr>\n",
              "    <tr>\n",
              "      <th>1</th>\n",
              "      <td>2.570226e+06</td>\n",
              "    </tr>\n",
              "  </tbody>\n",
              "</table>\n",
              "</div>"
            ],
            "text/plain": [
              "       interval_after_signup\n",
              "class                       \n",
              "0               5.191179e+06\n",
              "1               2.570226e+06"
            ]
          },
          "metadata": {
            "tags": []
          },
          "execution_count": 49
        }
      ]
    },
    {
      "cell_type": "code",
      "metadata": {
        "id": "qtX09Ptpujgi",
        "colab_type": "code",
        "colab": {
          "base_uri": "https://localhost:8080/",
          "height": 141
        },
        "outputId": "6301cc7c-9503-40bc-a1ab-e5815cd76d11"
      },
      "source": [
        "fraud_data.groupby(\"class\")[['interval_after_signup']].median()#1\n",
        "# more than half of fraud happened 1s after signed up -> robots?"
      ],
      "execution_count": null,
      "outputs": [
        {
          "output_type": "execute_result",
          "data": {
            "text/html": [
              "<div>\n",
              "<style scoped>\n",
              "    .dataframe tbody tr th:only-of-type {\n",
              "        vertical-align: middle;\n",
              "    }\n",
              "\n",
              "    .dataframe tbody tr th {\n",
              "        vertical-align: top;\n",
              "    }\n",
              "\n",
              "    .dataframe thead th {\n",
              "        text-align: right;\n",
              "    }\n",
              "</style>\n",
              "<table border=\"1\" class=\"dataframe\">\n",
              "  <thead>\n",
              "    <tr style=\"text-align: right;\">\n",
              "      <th></th>\n",
              "      <th>interval_after_signup</th>\n",
              "    </tr>\n",
              "    <tr>\n",
              "      <th>class</th>\n",
              "      <th></th>\n",
              "    </tr>\n",
              "  </thead>\n",
              "  <tbody>\n",
              "    <tr>\n",
              "      <th>0</th>\n",
              "      <td>5194911.0</td>\n",
              "    </tr>\n",
              "    <tr>\n",
              "      <th>1</th>\n",
              "      <td>1.0</td>\n",
              "    </tr>\n",
              "  </tbody>\n",
              "</table>\n",
              "</div>"
            ],
            "text/plain": [
              "       interval_after_signup\n",
              "class                       \n",
              "0                  5194911.0\n",
              "1                        1.0"
            ]
          },
          "metadata": {
            "tags": []
          },
          "execution_count": 50
        }
      ]
    },
    {
      "cell_type": "code",
      "metadata": {
        "id": "7Ui_Bk1MulOl",
        "colab_type": "code",
        "colab": {
          "base_uri": "https://localhost:8080/"
        },
        "outputId": "7eeb1ae4-7bd5-4873-eff0-dd92b8665fe6"
      },
      "source": [
        "fraud_data[fraud_data['class'] == 1].head(100)"
      ],
      "execution_count": null,
      "outputs": [
        {
          "output_type": "execute_result",
          "data": {
            "text/html": [
              "<div>\n",
              "<style scoped>\n",
              "    .dataframe tbody tr th:only-of-type {\n",
              "        vertical-align: middle;\n",
              "    }\n",
              "\n",
              "    .dataframe tbody tr th {\n",
              "        vertical-align: top;\n",
              "    }\n",
              "\n",
              "    .dataframe thead th {\n",
              "        text-align: right;\n",
              "    }\n",
              "</style>\n",
              "<table border=\"1\" class=\"dataframe\">\n",
              "  <thead>\n",
              "    <tr style=\"text-align: right;\">\n",
              "      <th></th>\n",
              "      <th>purchase_value</th>\n",
              "      <th>device_id</th>\n",
              "      <th>source</th>\n",
              "      <th>browser</th>\n",
              "      <th>sex</th>\n",
              "      <th>age</th>\n",
              "      <th>ip_address</th>\n",
              "      <th>class</th>\n",
              "      <th>country</th>\n",
              "      <th>interval_after_signup</th>\n",
              "      <th>signup_days_of_year</th>\n",
              "      <th>signup_seconds_of_day</th>\n",
              "      <th>purchase_days_of_year</th>\n",
              "      <th>purchase_seconds_of_day</th>\n",
              "    </tr>\n",
              "  </thead>\n",
              "  <tbody>\n",
              "    <tr>\n",
              "      <th>136961</th>\n",
              "      <td>24</td>\n",
              "      <td>VLHGCDPFCICDA</td>\n",
              "      <td>SEO</td>\n",
              "      <td>Chrome</td>\n",
              "      <td>F</td>\n",
              "      <td>33</td>\n",
              "      <td>3.432126e+09</td>\n",
              "      <td>1</td>\n",
              "      <td>United States</td>\n",
              "      <td>3327952.0</td>\n",
              "      <td>218</td>\n",
              "      <td>80113</td>\n",
              "      <td>257</td>\n",
              "      <td>38465</td>\n",
              "    </tr>\n",
              "    <tr>\n",
              "      <th>136962</th>\n",
              "      <td>14</td>\n",
              "      <td>YLUQSRNYYIPXU</td>\n",
              "      <td>Ads</td>\n",
              "      <td>Chrome</td>\n",
              "      <td>M</td>\n",
              "      <td>40</td>\n",
              "      <td>3.905319e+09</td>\n",
              "      <td>1</td>\n",
              "      <td>NA</td>\n",
              "      <td>1.0</td>\n",
              "      <td>12</td>\n",
              "      <td>4207</td>\n",
              "      <td>12</td>\n",
              "      <td>4208</td>\n",
              "    </tr>\n",
              "    <tr>\n",
              "      <th>136963</th>\n",
              "      <td>63</td>\n",
              "      <td>ABUBCQDATQMQH</td>\n",
              "      <td>Ads</td>\n",
              "      <td>FireFox</td>\n",
              "      <td>F</td>\n",
              "      <td>46</td>\n",
              "      <td>5.505670e+08</td>\n",
              "      <td>1</td>\n",
              "      <td>United States</td>\n",
              "      <td>7640070.0</td>\n",
              "      <td>49</td>\n",
              "      <td>40723</td>\n",
              "      <td>137</td>\n",
              "      <td>77593</td>\n",
              "    </tr>\n",
              "    <tr>\n",
              "      <th>136964</th>\n",
              "      <td>34</td>\n",
              "      <td>QHEODGCAVJKIQ</td>\n",
              "      <td>SEO</td>\n",
              "      <td>Chrome</td>\n",
              "      <td>M</td>\n",
              "      <td>37</td>\n",
              "      <td>9.408096e+08</td>\n",
              "      <td>1</td>\n",
              "      <td>United States</td>\n",
              "      <td>1.0</td>\n",
              "      <td>12</td>\n",
              "      <td>77710</td>\n",
              "      <td>12</td>\n",
              "      <td>77711</td>\n",
              "    </tr>\n",
              "    <tr>\n",
              "      <th>136965</th>\n",
              "      <td>76</td>\n",
              "      <td>DAKVYHKIEYRBH</td>\n",
              "      <td>SEO</td>\n",
              "      <td>Chrome</td>\n",
              "      <td>F</td>\n",
              "      <td>48</td>\n",
              "      <td>6.361041e+08</td>\n",
              "      <td>1</td>\n",
              "      <td>Hungary</td>\n",
              "      <td>1.0</td>\n",
              "      <td>10</td>\n",
              "      <td>48421</td>\n",
              "      <td>10</td>\n",
              "      <td>48422</td>\n",
              "    </tr>\n",
              "    <tr>\n",
              "      <th>136966</th>\n",
              "      <td>32</td>\n",
              "      <td>ESANFBTIVMNHX</td>\n",
              "      <td>Ads</td>\n",
              "      <td>IE</td>\n",
              "      <td>M</td>\n",
              "      <td>30</td>\n",
              "      <td>3.875475e+09</td>\n",
              "      <td>1</td>\n",
              "      <td>NA</td>\n",
              "      <td>5721252.0</td>\n",
              "      <td>176</td>\n",
              "      <td>53824</td>\n",
              "      <td>242</td>\n",
              "      <td>72676</td>\n",
              "    </tr>\n",
              "    <tr>\n",
              "      <th>136967</th>\n",
              "      <td>95</td>\n",
              "      <td>HIAMXITLJWYCT</td>\n",
              "      <td>SEO</td>\n",
              "      <td>FireFox</td>\n",
              "      <td>M</td>\n",
              "      <td>42</td>\n",
              "      <td>3.786924e+09</td>\n",
              "      <td>1</td>\n",
              "      <td>NA</td>\n",
              "      <td>10160108.0</td>\n",
              "      <td>9</td>\n",
              "      <td>33511</td>\n",
              "      <td>126</td>\n",
              "      <td>84819</td>\n",
              "    </tr>\n",
              "    <tr>\n",
              "      <th>136968</th>\n",
              "      <td>13</td>\n",
              "      <td>BQTPLJBGYXQYX</td>\n",
              "      <td>Ads</td>\n",
              "      <td>IE</td>\n",
              "      <td>M</td>\n",
              "      <td>32</td>\n",
              "      <td>2.463262e+09</td>\n",
              "      <td>1</td>\n",
              "      <td>Austria</td>\n",
              "      <td>1.0</td>\n",
              "      <td>12</td>\n",
              "      <td>29576</td>\n",
              "      <td>12</td>\n",
              "      <td>29577</td>\n",
              "    </tr>\n",
              "    <tr>\n",
              "      <th>136969</th>\n",
              "      <td>15</td>\n",
              "      <td>BWSMVSLCJXMCM</td>\n",
              "      <td>Direct</td>\n",
              "      <td>IE</td>\n",
              "      <td>F</td>\n",
              "      <td>39</td>\n",
              "      <td>2.937899e+09</td>\n",
              "      <td>1</td>\n",
              "      <td>Japan</td>\n",
              "      <td>1.0</td>\n",
              "      <td>7</td>\n",
              "      <td>61065</td>\n",
              "      <td>7</td>\n",
              "      <td>61066</td>\n",
              "    </tr>\n",
              "    <tr>\n",
              "      <th>136970</th>\n",
              "      <td>26</td>\n",
              "      <td>HPPSDIRGUSSTB</td>\n",
              "      <td>Direct</td>\n",
              "      <td>Opera</td>\n",
              "      <td>M</td>\n",
              "      <td>31</td>\n",
              "      <td>6.471261e+08</td>\n",
              "      <td>1</td>\n",
              "      <td>United States</td>\n",
              "      <td>1.0</td>\n",
              "      <td>1</td>\n",
              "      <td>80617</td>\n",
              "      <td>1</td>\n",
              "      <td>80618</td>\n",
              "    </tr>\n",
              "    <tr>\n",
              "      <th>136971</th>\n",
              "      <td>36</td>\n",
              "      <td>EGLGSEGYPMMAM</td>\n",
              "      <td>SEO</td>\n",
              "      <td>FireFox</td>\n",
              "      <td>M</td>\n",
              "      <td>37</td>\n",
              "      <td>3.503224e+09</td>\n",
              "      <td>1</td>\n",
              "      <td>United States</td>\n",
              "      <td>1.0</td>\n",
              "      <td>5</td>\n",
              "      <td>29882</td>\n",
              "      <td>5</td>\n",
              "      <td>29883</td>\n",
              "    </tr>\n",
              "    <tr>\n",
              "      <th>136972</th>\n",
              "      <td>44</td>\n",
              "      <td>HYRFZNHBIQKEB</td>\n",
              "      <td>SEO</td>\n",
              "      <td>Chrome</td>\n",
              "      <td>F</td>\n",
              "      <td>27</td>\n",
              "      <td>3.833762e+09</td>\n",
              "      <td>1</td>\n",
              "      <td>NA</td>\n",
              "      <td>3124880.0</td>\n",
              "      <td>74</td>\n",
              "      <td>4707</td>\n",
              "      <td>110</td>\n",
              "      <td>19187</td>\n",
              "    </tr>\n",
              "    <tr>\n",
              "      <th>136973</th>\n",
              "      <td>18</td>\n",
              "      <td>JCCAZQKFWLFBL</td>\n",
              "      <td>SEO</td>\n",
              "      <td>Chrome</td>\n",
              "      <td>M</td>\n",
              "      <td>39</td>\n",
              "      <td>2.614880e+09</td>\n",
              "      <td>1</td>\n",
              "      <td>United States</td>\n",
              "      <td>1.0</td>\n",
              "      <td>5</td>\n",
              "      <td>44317</td>\n",
              "      <td>5</td>\n",
              "      <td>44318</td>\n",
              "    </tr>\n",
              "    <tr>\n",
              "      <th>136974</th>\n",
              "      <td>20</td>\n",
              "      <td>LJUKQHFBFOFPF</td>\n",
              "      <td>SEO</td>\n",
              "      <td>Chrome</td>\n",
              "      <td>F</td>\n",
              "      <td>22</td>\n",
              "      <td>2.608608e+09</td>\n",
              "      <td>1</td>\n",
              "      <td>United States</td>\n",
              "      <td>1.0</td>\n",
              "      <td>12</td>\n",
              "      <td>62576</td>\n",
              "      <td>12</td>\n",
              "      <td>62577</td>\n",
              "    </tr>\n",
              "    <tr>\n",
              "      <th>136975</th>\n",
              "      <td>66</td>\n",
              "      <td>IOKXXNDSOKGZN</td>\n",
              "      <td>Direct</td>\n",
              "      <td>Chrome</td>\n",
              "      <td>M</td>\n",
              "      <td>33</td>\n",
              "      <td>3.043803e+08</td>\n",
              "      <td>1</td>\n",
              "      <td>United States</td>\n",
              "      <td>4772256.0</td>\n",
              "      <td>33</td>\n",
              "      <td>36131</td>\n",
              "      <td>88</td>\n",
              "      <td>56387</td>\n",
              "    </tr>\n",
              "    <tr>\n",
              "      <th>136976</th>\n",
              "      <td>46</td>\n",
              "      <td>UPNCTKQEABWVP</td>\n",
              "      <td>SEO</td>\n",
              "      <td>IE</td>\n",
              "      <td>F</td>\n",
              "      <td>25</td>\n",
              "      <td>1.327620e+09</td>\n",
              "      <td>1</td>\n",
              "      <td>Italy</td>\n",
              "      <td>3597846.0</td>\n",
              "      <td>13</td>\n",
              "      <td>76309</td>\n",
              "      <td>55</td>\n",
              "      <td>45355</td>\n",
              "    </tr>\n",
              "    <tr>\n",
              "      <th>136977</th>\n",
              "      <td>60</td>\n",
              "      <td>AMSMXOCUAXHEB</td>\n",
              "      <td>Ads</td>\n",
              "      <td>FireFox</td>\n",
              "      <td>F</td>\n",
              "      <td>29</td>\n",
              "      <td>1.904296e+09</td>\n",
              "      <td>1</td>\n",
              "      <td>China</td>\n",
              "      <td>5840703.0</td>\n",
              "      <td>200</td>\n",
              "      <td>38897</td>\n",
              "      <td>268</td>\n",
              "      <td>4400</td>\n",
              "    </tr>\n",
              "    <tr>\n",
              "      <th>136978</th>\n",
              "      <td>17</td>\n",
              "      <td>XWXRLYQMYMDEA</td>\n",
              "      <td>Ads</td>\n",
              "      <td>Opera</td>\n",
              "      <td>F</td>\n",
              "      <td>36</td>\n",
              "      <td>2.605922e+09</td>\n",
              "      <td>1</td>\n",
              "      <td>United States</td>\n",
              "      <td>5653171.0</td>\n",
              "      <td>162</td>\n",
              "      <td>4157</td>\n",
              "      <td>227</td>\n",
              "      <td>41328</td>\n",
              "    </tr>\n",
              "    <tr>\n",
              "      <th>136979</th>\n",
              "      <td>19</td>\n",
              "      <td>DBQZUPAQSCLRM</td>\n",
              "      <td>SEO</td>\n",
              "      <td>IE</td>\n",
              "      <td>M</td>\n",
              "      <td>39</td>\n",
              "      <td>7.198889e+08</td>\n",
              "      <td>1</td>\n",
              "      <td>China</td>\n",
              "      <td>9499007.0</td>\n",
              "      <td>35</td>\n",
              "      <td>22657</td>\n",
              "      <td>145</td>\n",
              "      <td>17664</td>\n",
              "    </tr>\n",
              "    <tr>\n",
              "      <th>136980</th>\n",
              "      <td>27</td>\n",
              "      <td>IIGQRPMAOWKNV</td>\n",
              "      <td>Ads</td>\n",
              "      <td>IE</td>\n",
              "      <td>F</td>\n",
              "      <td>47</td>\n",
              "      <td>1.430332e+09</td>\n",
              "      <td>1</td>\n",
              "      <td>Israel</td>\n",
              "      <td>5985456.0</td>\n",
              "      <td>161</td>\n",
              "      <td>77537</td>\n",
              "      <td>231</td>\n",
              "      <td>14993</td>\n",
              "    </tr>\n",
              "    <tr>\n",
              "      <th>136981</th>\n",
              "      <td>16</td>\n",
              "      <td>DUWBOKQPPDQUK</td>\n",
              "      <td>Direct</td>\n",
              "      <td>FireFox</td>\n",
              "      <td>M</td>\n",
              "      <td>23</td>\n",
              "      <td>1.679643e+09</td>\n",
              "      <td>1</td>\n",
              "      <td>United States</td>\n",
              "      <td>3011256.0</td>\n",
              "      <td>164</td>\n",
              "      <td>33799</td>\n",
              "      <td>199</td>\n",
              "      <td>21055</td>\n",
              "    </tr>\n",
              "    <tr>\n",
              "      <th>136982</th>\n",
              "      <td>65</td>\n",
              "      <td>CXICHNYDPUZNN</td>\n",
              "      <td>Ads</td>\n",
              "      <td>Chrome</td>\n",
              "      <td>M</td>\n",
              "      <td>39</td>\n",
              "      <td>1.948216e+09</td>\n",
              "      <td>1</td>\n",
              "      <td>China</td>\n",
              "      <td>1.0</td>\n",
              "      <td>5</td>\n",
              "      <td>40348</td>\n",
              "      <td>5</td>\n",
              "      <td>40349</td>\n",
              "    </tr>\n",
              "    <tr>\n",
              "      <th>136983</th>\n",
              "      <td>51</td>\n",
              "      <td>OPYQBBMQTBFLX</td>\n",
              "      <td>SEO</td>\n",
              "      <td>FireFox</td>\n",
              "      <td>F</td>\n",
              "      <td>28</td>\n",
              "      <td>1.016756e+09</td>\n",
              "      <td>1</td>\n",
              "      <td>Japan</td>\n",
              "      <td>1.0</td>\n",
              "      <td>8</td>\n",
              "      <td>70048</td>\n",
              "      <td>8</td>\n",
              "      <td>70049</td>\n",
              "    </tr>\n",
              "    <tr>\n",
              "      <th>136984</th>\n",
              "      <td>30</td>\n",
              "      <td>QACMCZJECEVVA</td>\n",
              "      <td>SEO</td>\n",
              "      <td>Chrome</td>\n",
              "      <td>M</td>\n",
              "      <td>45</td>\n",
              "      <td>3.952522e+09</td>\n",
              "      <td>1</td>\n",
              "      <td>NA</td>\n",
              "      <td>6938800.0</td>\n",
              "      <td>77</td>\n",
              "      <td>40290</td>\n",
              "      <td>157</td>\n",
              "      <td>67090</td>\n",
              "    </tr>\n",
              "    <tr>\n",
              "      <th>136985</th>\n",
              "      <td>53</td>\n",
              "      <td>PFZXGECQNBYVI</td>\n",
              "      <td>Ads</td>\n",
              "      <td>FireFox</td>\n",
              "      <td>F</td>\n",
              "      <td>47</td>\n",
              "      <td>1.179107e+09</td>\n",
              "      <td>1</td>\n",
              "      <td>Canada</td>\n",
              "      <td>855520.0</td>\n",
              "      <td>38</td>\n",
              "      <td>5591</td>\n",
              "      <td>47</td>\n",
              "      <td>83511</td>\n",
              "    </tr>\n",
              "    <tr>\n",
              "      <th>136986</th>\n",
              "      <td>45</td>\n",
              "      <td>FRITFBEXOSJEI</td>\n",
              "      <td>Ads</td>\n",
              "      <td>IE</td>\n",
              "      <td>F</td>\n",
              "      <td>22</td>\n",
              "      <td>1.367518e+09</td>\n",
              "      <td>1</td>\n",
              "      <td>United Kingdom</td>\n",
              "      <td>1.0</td>\n",
              "      <td>6</td>\n",
              "      <td>78498</td>\n",
              "      <td>6</td>\n",
              "      <td>78499</td>\n",
              "    </tr>\n",
              "    <tr>\n",
              "      <th>136987</th>\n",
              "      <td>42</td>\n",
              "      <td>PBQTNXFSTRFQP</td>\n",
              "      <td>Direct</td>\n",
              "      <td>Opera</td>\n",
              "      <td>M</td>\n",
              "      <td>19</td>\n",
              "      <td>2.228515e+09</td>\n",
              "      <td>1</td>\n",
              "      <td>Canada</td>\n",
              "      <td>1.0</td>\n",
              "      <td>5</td>\n",
              "      <td>59206</td>\n",
              "      <td>5</td>\n",
              "      <td>59207</td>\n",
              "    </tr>\n",
              "    <tr>\n",
              "      <th>136988</th>\n",
              "      <td>28</td>\n",
              "      <td>JLQCKPZRNFWJI</td>\n",
              "      <td>SEO</td>\n",
              "      <td>Chrome</td>\n",
              "      <td>M</td>\n",
              "      <td>42</td>\n",
              "      <td>2.080777e+09</td>\n",
              "      <td>1</td>\n",
              "      <td>Indonesia</td>\n",
              "      <td>1.0</td>\n",
              "      <td>1</td>\n",
              "      <td>78881</td>\n",
              "      <td>1</td>\n",
              "      <td>78882</td>\n",
              "    </tr>\n",
              "    <tr>\n",
              "      <th>136989</th>\n",
              "      <td>72</td>\n",
              "      <td>DVSLIYUBWZOSG</td>\n",
              "      <td>Direct</td>\n",
              "      <td>Chrome</td>\n",
              "      <td>F</td>\n",
              "      <td>18</td>\n",
              "      <td>2.362259e+09</td>\n",
              "      <td>1</td>\n",
              "      <td>China</td>\n",
              "      <td>4662544.0</td>\n",
              "      <td>164</td>\n",
              "      <td>62103</td>\n",
              "      <td>218</td>\n",
              "      <td>59047</td>\n",
              "    </tr>\n",
              "    <tr>\n",
              "      <th>136990</th>\n",
              "      <td>17</td>\n",
              "      <td>KIOAANGVZEFLA</td>\n",
              "      <td>Ads</td>\n",
              "      <td>Chrome</td>\n",
              "      <td>F</td>\n",
              "      <td>26</td>\n",
              "      <td>2.773100e+08</td>\n",
              "      <td>1</td>\n",
              "      <td>United States</td>\n",
              "      <td>1.0</td>\n",
              "      <td>4</td>\n",
              "      <td>8118</td>\n",
              "      <td>4</td>\n",
              "      <td>8119</td>\n",
              "    </tr>\n",
              "    <tr>\n",
              "      <th>...</th>\n",
              "      <td>...</td>\n",
              "      <td>...</td>\n",
              "      <td>...</td>\n",
              "      <td>...</td>\n",
              "      <td>...</td>\n",
              "      <td>...</td>\n",
              "      <td>...</td>\n",
              "      <td>...</td>\n",
              "      <td>...</td>\n",
              "      <td>...</td>\n",
              "      <td>...</td>\n",
              "      <td>...</td>\n",
              "      <td>...</td>\n",
              "      <td>...</td>\n",
              "    </tr>\n",
              "    <tr>\n",
              "      <th>137031</th>\n",
              "      <td>30</td>\n",
              "      <td>AIWIXWKDTFQVX</td>\n",
              "      <td>Ads</td>\n",
              "      <td>Chrome</td>\n",
              "      <td>M</td>\n",
              "      <td>48</td>\n",
              "      <td>1.725179e+08</td>\n",
              "      <td>1</td>\n",
              "      <td>NA</td>\n",
              "      <td>5046794.0</td>\n",
              "      <td>195</td>\n",
              "      <td>61591</td>\n",
              "      <td>254</td>\n",
              "      <td>10785</td>\n",
              "    </tr>\n",
              "    <tr>\n",
              "      <th>137032</th>\n",
              "      <td>23</td>\n",
              "      <td>RPLWHSIFJLCKX</td>\n",
              "      <td>Direct</td>\n",
              "      <td>Chrome</td>\n",
              "      <td>M</td>\n",
              "      <td>22</td>\n",
              "      <td>9.928317e+07</td>\n",
              "      <td>1</td>\n",
              "      <td>Iran (ISLAMIC Republic Of)</td>\n",
              "      <td>4510660.0</td>\n",
              "      <td>92</td>\n",
              "      <td>64014</td>\n",
              "      <td>144</td>\n",
              "      <td>81874</td>\n",
              "    </tr>\n",
              "    <tr>\n",
              "      <th>137033</th>\n",
              "      <td>20</td>\n",
              "      <td>LJUKQHFBFOFPF</td>\n",
              "      <td>SEO</td>\n",
              "      <td>Chrome</td>\n",
              "      <td>F</td>\n",
              "      <td>22</td>\n",
              "      <td>2.608608e+09</td>\n",
              "      <td>1</td>\n",
              "      <td>United States</td>\n",
              "      <td>1.0</td>\n",
              "      <td>12</td>\n",
              "      <td>62578</td>\n",
              "      <td>12</td>\n",
              "      <td>62579</td>\n",
              "    </tr>\n",
              "    <tr>\n",
              "      <th>137034</th>\n",
              "      <td>40</td>\n",
              "      <td>QKYBDKNISUYVP</td>\n",
              "      <td>SEO</td>\n",
              "      <td>Chrome</td>\n",
              "      <td>M</td>\n",
              "      <td>35</td>\n",
              "      <td>1.547484e+09</td>\n",
              "      <td>1</td>\n",
              "      <td>Ukraine</td>\n",
              "      <td>1.0</td>\n",
              "      <td>9</td>\n",
              "      <td>1964</td>\n",
              "      <td>9</td>\n",
              "      <td>1965</td>\n",
              "    </tr>\n",
              "    <tr>\n",
              "      <th>137035</th>\n",
              "      <td>39</td>\n",
              "      <td>HXTMZVLUKOFAD</td>\n",
              "      <td>SEO</td>\n",
              "      <td>IE</td>\n",
              "      <td>M</td>\n",
              "      <td>33</td>\n",
              "      <td>4.589109e+08</td>\n",
              "      <td>1</td>\n",
              "      <td>Japan</td>\n",
              "      <td>1.0</td>\n",
              "      <td>11</td>\n",
              "      <td>33979</td>\n",
              "      <td>11</td>\n",
              "      <td>33980</td>\n",
              "    </tr>\n",
              "    <tr>\n",
              "      <th>137036</th>\n",
              "      <td>9</td>\n",
              "      <td>MPMBZBEATLCTJ</td>\n",
              "      <td>Ads</td>\n",
              "      <td>Chrome</td>\n",
              "      <td>M</td>\n",
              "      <td>35</td>\n",
              "      <td>3.468521e+09</td>\n",
              "      <td>1</td>\n",
              "      <td>United States</td>\n",
              "      <td>10266556.0</td>\n",
              "      <td>162</td>\n",
              "      <td>36908</td>\n",
              "      <td>281</td>\n",
              "      <td>21864</td>\n",
              "    </tr>\n",
              "    <tr>\n",
              "      <th>137037</th>\n",
              "      <td>55</td>\n",
              "      <td>AXOTAPGOHGRNH</td>\n",
              "      <td>SEO</td>\n",
              "      <td>IE</td>\n",
              "      <td>M</td>\n",
              "      <td>32</td>\n",
              "      <td>4.072713e+09</td>\n",
              "      <td>1</td>\n",
              "      <td>NA</td>\n",
              "      <td>749361.0</td>\n",
              "      <td>98</td>\n",
              "      <td>4766</td>\n",
              "      <td>106</td>\n",
              "      <td>62927</td>\n",
              "    </tr>\n",
              "    <tr>\n",
              "      <th>137038</th>\n",
              "      <td>18</td>\n",
              "      <td>XFIBIOCOQTQRK</td>\n",
              "      <td>SEO</td>\n",
              "      <td>IE</td>\n",
              "      <td>M</td>\n",
              "      <td>25</td>\n",
              "      <td>2.521950e+09</td>\n",
              "      <td>1</td>\n",
              "      <td>Japan</td>\n",
              "      <td>1.0</td>\n",
              "      <td>3</td>\n",
              "      <td>83734</td>\n",
              "      <td>3</td>\n",
              "      <td>83735</td>\n",
              "    </tr>\n",
              "    <tr>\n",
              "      <th>137039</th>\n",
              "      <td>63</td>\n",
              "      <td>QGSXIVXDKZLJV</td>\n",
              "      <td>Ads</td>\n",
              "      <td>Safari</td>\n",
              "      <td>M</td>\n",
              "      <td>28</td>\n",
              "      <td>2.660181e+09</td>\n",
              "      <td>1</td>\n",
              "      <td>United Kingdom</td>\n",
              "      <td>6553579.0</td>\n",
              "      <td>64</td>\n",
              "      <td>64075</td>\n",
              "      <td>140</td>\n",
              "      <td>51254</td>\n",
              "    </tr>\n",
              "    <tr>\n",
              "      <th>137040</th>\n",
              "      <td>91</td>\n",
              "      <td>XPSSLODFBMYCV</td>\n",
              "      <td>SEO</td>\n",
              "      <td>IE</td>\n",
              "      <td>F</td>\n",
              "      <td>36</td>\n",
              "      <td>3.956890e+09</td>\n",
              "      <td>1</td>\n",
              "      <td>NA</td>\n",
              "      <td>1.0</td>\n",
              "      <td>4</td>\n",
              "      <td>30606</td>\n",
              "      <td>4</td>\n",
              "      <td>30607</td>\n",
              "    </tr>\n",
              "    <tr>\n",
              "      <th>137041</th>\n",
              "      <td>24</td>\n",
              "      <td>VGQHYSVZKFFLT</td>\n",
              "      <td>SEO</td>\n",
              "      <td>Chrome</td>\n",
              "      <td>M</td>\n",
              "      <td>26</td>\n",
              "      <td>1.596802e+09</td>\n",
              "      <td>1</td>\n",
              "      <td>Ireland</td>\n",
              "      <td>1.0</td>\n",
              "      <td>12</td>\n",
              "      <td>61875</td>\n",
              "      <td>12</td>\n",
              "      <td>61876</td>\n",
              "    </tr>\n",
              "    <tr>\n",
              "      <th>137042</th>\n",
              "      <td>34</td>\n",
              "      <td>NLQHWNMQFDMPP</td>\n",
              "      <td>SEO</td>\n",
              "      <td>Opera</td>\n",
              "      <td>M</td>\n",
              "      <td>31</td>\n",
              "      <td>3.231719e+09</td>\n",
              "      <td>1</td>\n",
              "      <td>United States</td>\n",
              "      <td>3763980.0</td>\n",
              "      <td>159</td>\n",
              "      <td>18483</td>\n",
              "      <td>202</td>\n",
              "      <td>67263</td>\n",
              "    </tr>\n",
              "    <tr>\n",
              "      <th>137043</th>\n",
              "      <td>63</td>\n",
              "      <td>TRNITRGCBTVJT</td>\n",
              "      <td>Ads</td>\n",
              "      <td>IE</td>\n",
              "      <td>M</td>\n",
              "      <td>54</td>\n",
              "      <td>3.694361e+09</td>\n",
              "      <td>1</td>\n",
              "      <td>Japan</td>\n",
              "      <td>1.0</td>\n",
              "      <td>2</td>\n",
              "      <td>50272</td>\n",
              "      <td>2</td>\n",
              "      <td>50273</td>\n",
              "    </tr>\n",
              "    <tr>\n",
              "      <th>137044</th>\n",
              "      <td>61</td>\n",
              "      <td>NDHGQNDQQXCCQ</td>\n",
              "      <td>SEO</td>\n",
              "      <td>Opera</td>\n",
              "      <td>F</td>\n",
              "      <td>23</td>\n",
              "      <td>6.807264e+08</td>\n",
              "      <td>1</td>\n",
              "      <td>United States</td>\n",
              "      <td>1.0</td>\n",
              "      <td>9</td>\n",
              "      <td>85102</td>\n",
              "      <td>9</td>\n",
              "      <td>85103</td>\n",
              "    </tr>\n",
              "    <tr>\n",
              "      <th>137045</th>\n",
              "      <td>62</td>\n",
              "      <td>VIQTECHERERRU</td>\n",
              "      <td>SEO</td>\n",
              "      <td>IE</td>\n",
              "      <td>M</td>\n",
              "      <td>29</td>\n",
              "      <td>1.551734e+09</td>\n",
              "      <td>1</td>\n",
              "      <td>Russian Federation</td>\n",
              "      <td>6862456.0</td>\n",
              "      <td>226</td>\n",
              "      <td>5827</td>\n",
              "      <td>305</td>\n",
              "      <td>42683</td>\n",
              "    </tr>\n",
              "    <tr>\n",
              "      <th>137046</th>\n",
              "      <td>52</td>\n",
              "      <td>ZAFLHFPXNLZAT</td>\n",
              "      <td>SEO</td>\n",
              "      <td>Chrome</td>\n",
              "      <td>M</td>\n",
              "      <td>24</td>\n",
              "      <td>2.879986e+09</td>\n",
              "      <td>1</td>\n",
              "      <td>United States</td>\n",
              "      <td>1.0</td>\n",
              "      <td>2</td>\n",
              "      <td>2207</td>\n",
              "      <td>2</td>\n",
              "      <td>2208</td>\n",
              "    </tr>\n",
              "    <tr>\n",
              "      <th>137047</th>\n",
              "      <td>75</td>\n",
              "      <td>ZQHJZQQFQKGII</td>\n",
              "      <td>Ads</td>\n",
              "      <td>Chrome</td>\n",
              "      <td>M</td>\n",
              "      <td>18</td>\n",
              "      <td>2.378426e+08</td>\n",
              "      <td>1</td>\n",
              "      <td>Korea Republic of</td>\n",
              "      <td>1.0</td>\n",
              "      <td>10</td>\n",
              "      <td>6164</td>\n",
              "      <td>10</td>\n",
              "      <td>6165</td>\n",
              "    </tr>\n",
              "    <tr>\n",
              "      <th>137048</th>\n",
              "      <td>69</td>\n",
              "      <td>UWEPEOUQYEPZF</td>\n",
              "      <td>Direct</td>\n",
              "      <td>Chrome</td>\n",
              "      <td>M</td>\n",
              "      <td>36</td>\n",
              "      <td>2.534293e+09</td>\n",
              "      <td>1</td>\n",
              "      <td>Italy</td>\n",
              "      <td>1.0</td>\n",
              "      <td>8</td>\n",
              "      <td>41847</td>\n",
              "      <td>8</td>\n",
              "      <td>41848</td>\n",
              "    </tr>\n",
              "    <tr>\n",
              "      <th>137049</th>\n",
              "      <td>31</td>\n",
              "      <td>GVROQHGFQEPJP</td>\n",
              "      <td>SEO</td>\n",
              "      <td>Chrome</td>\n",
              "      <td>M</td>\n",
              "      <td>40</td>\n",
              "      <td>2.613576e+09</td>\n",
              "      <td>1</td>\n",
              "      <td>United States</td>\n",
              "      <td>1.0</td>\n",
              "      <td>4</td>\n",
              "      <td>77464</td>\n",
              "      <td>4</td>\n",
              "      <td>77465</td>\n",
              "    </tr>\n",
              "    <tr>\n",
              "      <th>137050</th>\n",
              "      <td>52</td>\n",
              "      <td>JFRURZMOKVSXG</td>\n",
              "      <td>SEO</td>\n",
              "      <td>Chrome</td>\n",
              "      <td>M</td>\n",
              "      <td>31</td>\n",
              "      <td>3.280105e+09</td>\n",
              "      <td>1</td>\n",
              "      <td>Greece</td>\n",
              "      <td>4423533.0</td>\n",
              "      <td>185</td>\n",
              "      <td>13836</td>\n",
              "      <td>236</td>\n",
              "      <td>30969</td>\n",
              "    </tr>\n",
              "    <tr>\n",
              "      <th>137051</th>\n",
              "      <td>24</td>\n",
              "      <td>SHRFXSTLQFBDB</td>\n",
              "      <td>Ads</td>\n",
              "      <td>Chrome</td>\n",
              "      <td>M</td>\n",
              "      <td>46</td>\n",
              "      <td>3.808984e+09</td>\n",
              "      <td>1</td>\n",
              "      <td>NA</td>\n",
              "      <td>1470753.0</td>\n",
              "      <td>97</td>\n",
              "      <td>39902</td>\n",
              "      <td>114</td>\n",
              "      <td>41855</td>\n",
              "    </tr>\n",
              "    <tr>\n",
              "      <th>137052</th>\n",
              "      <td>39</td>\n",
              "      <td>UFUWUODDBTPCY</td>\n",
              "      <td>Direct</td>\n",
              "      <td>Opera</td>\n",
              "      <td>M</td>\n",
              "      <td>32</td>\n",
              "      <td>3.376669e+08</td>\n",
              "      <td>1</td>\n",
              "      <td>United States</td>\n",
              "      <td>1.0</td>\n",
              "      <td>10</td>\n",
              "      <td>24909</td>\n",
              "      <td>10</td>\n",
              "      <td>24910</td>\n",
              "    </tr>\n",
              "    <tr>\n",
              "      <th>137053</th>\n",
              "      <td>22</td>\n",
              "      <td>AVLHWBLLHTDNN</td>\n",
              "      <td>Direct</td>\n",
              "      <td>Chrome</td>\n",
              "      <td>F</td>\n",
              "      <td>41</td>\n",
              "      <td>8.578302e+08</td>\n",
              "      <td>1</td>\n",
              "      <td>United Kingdom</td>\n",
              "      <td>2077805.0</td>\n",
              "      <td>42</td>\n",
              "      <td>52720</td>\n",
              "      <td>66</td>\n",
              "      <td>56925</td>\n",
              "    </tr>\n",
              "    <tr>\n",
              "      <th>137054</th>\n",
              "      <td>26</td>\n",
              "      <td>FBHIRVGVKKWAI</td>\n",
              "      <td>Ads</td>\n",
              "      <td>IE</td>\n",
              "      <td>F</td>\n",
              "      <td>36</td>\n",
              "      <td>2.278096e+06</td>\n",
              "      <td>1</td>\n",
              "      <td>NA</td>\n",
              "      <td>1.0</td>\n",
              "      <td>7</td>\n",
              "      <td>75219</td>\n",
              "      <td>7</td>\n",
              "      <td>75220</td>\n",
              "    </tr>\n",
              "    <tr>\n",
              "      <th>137055</th>\n",
              "      <td>17</td>\n",
              "      <td>KEQVDINWCZMWA</td>\n",
              "      <td>Ads</td>\n",
              "      <td>FireFox</td>\n",
              "      <td>M</td>\n",
              "      <td>25</td>\n",
              "      <td>3.343852e+09</td>\n",
              "      <td>1</td>\n",
              "      <td>United States</td>\n",
              "      <td>1.0</td>\n",
              "      <td>9</td>\n",
              "      <td>13729</td>\n",
              "      <td>9</td>\n",
              "      <td>13730</td>\n",
              "    </tr>\n",
              "    <tr>\n",
              "      <th>137056</th>\n",
              "      <td>21</td>\n",
              "      <td>AIGPGDVRDKOKT</td>\n",
              "      <td>SEO</td>\n",
              "      <td>FireFox</td>\n",
              "      <td>F</td>\n",
              "      <td>45</td>\n",
              "      <td>3.058136e+09</td>\n",
              "      <td>1</td>\n",
              "      <td>India</td>\n",
              "      <td>1.0</td>\n",
              "      <td>2</td>\n",
              "      <td>69762</td>\n",
              "      <td>2</td>\n",
              "      <td>69763</td>\n",
              "    </tr>\n",
              "    <tr>\n",
              "      <th>137057</th>\n",
              "      <td>52</td>\n",
              "      <td>PQGKGQACIARBV</td>\n",
              "      <td>Ads</td>\n",
              "      <td>Chrome</td>\n",
              "      <td>F</td>\n",
              "      <td>36</td>\n",
              "      <td>7.203338e+08</td>\n",
              "      <td>1</td>\n",
              "      <td>China</td>\n",
              "      <td>1.0</td>\n",
              "      <td>9</td>\n",
              "      <td>77018</td>\n",
              "      <td>9</td>\n",
              "      <td>77019</td>\n",
              "    </tr>\n",
              "    <tr>\n",
              "      <th>137058</th>\n",
              "      <td>54</td>\n",
              "      <td>XHZBVWFWHSGTQ</td>\n",
              "      <td>SEO</td>\n",
              "      <td>FireFox</td>\n",
              "      <td>M</td>\n",
              "      <td>50</td>\n",
              "      <td>2.249217e+09</td>\n",
              "      <td>1</td>\n",
              "      <td>United States</td>\n",
              "      <td>1.0</td>\n",
              "      <td>1</td>\n",
              "      <td>32483</td>\n",
              "      <td>1</td>\n",
              "      <td>32484</td>\n",
              "    </tr>\n",
              "    <tr>\n",
              "      <th>137059</th>\n",
              "      <td>10</td>\n",
              "      <td>WETYPHOQVLWMK</td>\n",
              "      <td>Ads</td>\n",
              "      <td>FireFox</td>\n",
              "      <td>M</td>\n",
              "      <td>36</td>\n",
              "      <td>2.293333e+09</td>\n",
              "      <td>1</td>\n",
              "      <td>United States</td>\n",
              "      <td>1.0</td>\n",
              "      <td>7</td>\n",
              "      <td>63914</td>\n",
              "      <td>7</td>\n",
              "      <td>63915</td>\n",
              "    </tr>\n",
              "    <tr>\n",
              "      <th>137060</th>\n",
              "      <td>69</td>\n",
              "      <td>UWEPEOUQYEPZF</td>\n",
              "      <td>Direct</td>\n",
              "      <td>Chrome</td>\n",
              "      <td>M</td>\n",
              "      <td>36</td>\n",
              "      <td>2.534293e+09</td>\n",
              "      <td>1</td>\n",
              "      <td>Italy</td>\n",
              "      <td>1.0</td>\n",
              "      <td>8</td>\n",
              "      <td>41850</td>\n",
              "      <td>8</td>\n",
              "      <td>41851</td>\n",
              "    </tr>\n",
              "  </tbody>\n",
              "</table>\n",
              "<p>100 rows × 14 columns</p>\n",
              "</div>"
            ],
            "text/plain": [
              "        purchase_value  ... purchase_seconds_of_day\n",
              "136961              24  ...                   38465\n",
              "136962              14  ...                    4208\n",
              "136963              63  ...                   77593\n",
              "136964              34  ...                   77711\n",
              "136965              76  ...                   48422\n",
              "136966              32  ...                   72676\n",
              "136967              95  ...                   84819\n",
              "136968              13  ...                   29577\n",
              "136969              15  ...                   61066\n",
              "136970              26  ...                   80618\n",
              "136971              36  ...                   29883\n",
              "136972              44  ...                   19187\n",
              "136973              18  ...                   44318\n",
              "136974              20  ...                   62577\n",
              "136975              66  ...                   56387\n",
              "136976              46  ...                   45355\n",
              "136977              60  ...                    4400\n",
              "136978              17  ...                   41328\n",
              "136979              19  ...                   17664\n",
              "136980              27  ...                   14993\n",
              "136981              16  ...                   21055\n",
              "136982              65  ...                   40349\n",
              "136983              51  ...                   70049\n",
              "136984              30  ...                   67090\n",
              "136985              53  ...                   83511\n",
              "136986              45  ...                   78499\n",
              "136987              42  ...                   59207\n",
              "136988              28  ...                   78882\n",
              "136989              72  ...                   59047\n",
              "136990              17  ...                    8119\n",
              "...                ...  ...                     ...\n",
              "137031              30  ...                   10785\n",
              "137032              23  ...                   81874\n",
              "137033              20  ...                   62579\n",
              "137034              40  ...                    1965\n",
              "137035              39  ...                   33980\n",
              "137036               9  ...                   21864\n",
              "137037              55  ...                   62927\n",
              "137038              18  ...                   83735\n",
              "137039              63  ...                   51254\n",
              "137040              91  ...                   30607\n",
              "137041              24  ...                   61876\n",
              "137042              34  ...                   67263\n",
              "137043              63  ...                   50273\n",
              "137044              61  ...                   85103\n",
              "137045              62  ...                   42683\n",
              "137046              52  ...                    2208\n",
              "137047              75  ...                    6165\n",
              "137048              69  ...                   41848\n",
              "137049              31  ...                   77465\n",
              "137050              52  ...                   30969\n",
              "137051              24  ...                   41855\n",
              "137052              39  ...                   24910\n",
              "137053              22  ...                   56925\n",
              "137054              26  ...                   75220\n",
              "137055              17  ...                   13730\n",
              "137056              21  ...                   69763\n",
              "137057              52  ...                   77019\n",
              "137058              54  ...                   32484\n",
              "137059              10  ...                   63915\n",
              "137060              69  ...                   41851\n",
              "\n",
              "[100 rows x 14 columns]"
            ]
          },
          "metadata": {
            "tags": []
          },
          "execution_count": 51
        }
      ]
    },
    {
      "cell_type": "markdown",
      "metadata": {
        "id": "6nkLfKxhov0P",
        "colab_type": "text"
      },
      "source": [
        "Insights\n",
        "1. the larger n_dev_shared, the higher rate of fraud\n",
        "2. the smaller action velocity, higher probabiity of fraud\n",
        "3. More than half of fraud happend 1s after sign up"
      ]
    },
    {
      "cell_type": "markdown",
      "metadata": {
        "id": "L4VQRfXEpA4m",
        "colab_type": "text"
      },
      "source": [
        "###How to use predictions"
      ]
    },
    {
      "cell_type": "markdown",
      "metadata": {
        "id": "KX1WuBBlpdAJ",
        "colab_type": "text"
      },
      "source": [
        "Create a score (1-10) to indicate likelihood of being fraud:\n",
        "* green: 1 - 3 pass\n",
        "* grey: 4-7 need manual investigation\n",
        "* red: 8,9 decline"
      ]
    },
    {
      "cell_type": "code",
      "metadata": {
        "id": "EIv6OBKkuny9",
        "colab_type": "code",
        "colab": {
          "base_uri": "https://localhost:8080/"
        },
        "outputId": "17926fed-154e-40d6-a743-e927b6152864"
      },
      "source": [
        "t = (10 * probsBest_recall[:, 1]).astype(int)\n",
        "unique, counts = np.unique(t, return_counts=True)\n",
        "\n",
        "print(np.asarray((unique, counts)).T)"
      ],
      "execution_count": null,
      "outputs": [
        {
          "output_type": "stream",
          "text": [
            "[[    1     1]\n",
            " [    2 24555]\n",
            " [    3  2623]\n",
            " [    4    99]\n",
            " [    5   177]\n",
            " [    6    76]\n",
            " [    7     1]\n",
            " [    8    20]\n",
            " [    9   124]]\n"
          ],
          "name": "stdout"
        }
      ]
    },
    {
      "cell_type": "code",
      "metadata": {
        "id": "2YVaVew8usAy",
        "colab_type": "code",
        "colab": {}
      },
      "source": [
        "#HW: try XGBOOST and compare the performance of RF"
      ],
      "execution_count": null,
      "outputs": []
    },
    {
      "cell_type": "code",
      "metadata": {
        "id": "giPAG7yHuuSK",
        "colab_type": "code",
        "colab": {}
      },
      "source": [
        "#HW: binary search"
      ],
      "execution_count": null,
      "outputs": []
    },
    {
      "cell_type": "code",
      "metadata": {
        "id": "Qt4M90-6pu0H",
        "colab_type": "code",
        "colab": {}
      },
      "source": [
        "#HW: Logistic regression parameter tuning using class_weights"
      ],
      "execution_count": null,
      "outputs": []
    }
  ]
}