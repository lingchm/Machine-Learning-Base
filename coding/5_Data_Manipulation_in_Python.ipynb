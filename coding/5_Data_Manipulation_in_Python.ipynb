{
  "nbformat": 4,
  "nbformat_minor": 0,
  "metadata": {
    "colab": {
      "name": "5_Data Manipulation in Python.ipynb",
      "provenance": [],
      "private_outputs": true,
      "collapsed_sections": [],
      "toc_visible": true,
      "include_colab_link": true
    },
    "kernelspec": {
      "name": "python3",
      "display_name": "Python 3"
    }
  },
  "cells": [
    {
      "cell_type": "markdown",
      "metadata": {
        "id": "view-in-github",
        "colab_type": "text"
      },
      "source": [
        "<a href=\"https://colab.research.google.com/github/lingchm/datascience/blob/master/5_Data_Manipulation_in_Python.ipynb\" target=\"_parent\"><img src=\"https://colab.research.google.com/assets/colab-badge.svg\" alt=\"Open In Colab\"/></a>"
      ]
    },
    {
      "cell_type": "markdown",
      "metadata": {
        "id": "u_-7WJlBn3uN",
        "colab_type": "text"
      },
      "source": [
        "# Data Manipulation in Python"
      ]
    },
    {
      "cell_type": "code",
      "metadata": {
        "id": "gb2OqLrDvSOB",
        "colab_type": "code",
        "cellView": "both",
        "colab": {}
      },
      "source": [
        "import numpy as np #numpy\n",
        "import pandas as pd #pandas"
      ],
      "execution_count": 0,
      "outputs": []
    },
    {
      "cell_type": "code",
      "metadata": {
        "id": "vzJufYKix58j",
        "colab_type": "code",
        "cellView": "both",
        "colab": {}
      },
      "source": [
        "!pip install pandasql"
      ],
      "execution_count": 0,
      "outputs": []
    },
    {
      "cell_type": "markdown",
      "metadata": {
        "id": "NODlSrUwye-l",
        "colab_type": "text"
      },
      "source": [
        "## Python Basics"
      ]
    },
    {
      "cell_type": "markdown",
      "metadata": {
        "id": "zUuCltN003Sk",
        "colab_type": "text"
      },
      "source": [
        "### **Numeric Types**\n"
      ]
    },
    {
      "cell_type": "code",
      "metadata": {
        "id": "eJ2X-QxL0zS2",
        "colab_type": "code",
        "colab": {}
      },
      "source": [
        "x = 2 # =>2\n",
        "print(type(x)) #class 'int'\n",
        "\n",
        "y = 1.5 # =>1.5\n",
        "print(type(y)) #class 'float'\n",
        "\n",
        "# Math\n",
        "x = x ** 3 #exponential\n",
        "print(x) \n",
        "\n",
        "x += 1 #addiction\n",
        "print(x)\n",
        "\n",
        "x %= 2 #modulo\n",
        "print(x)\n",
        "\n",
        "x += y #2.5\n",
        "print(x)"
      ],
      "execution_count": 0,
      "outputs": []
    },
    {
      "cell_type": "markdown",
      "metadata": {
        "id": "z8Pu3j8v2XAz",
        "colab_type": "text"
      },
      "source": [
        "### **Boolean**"
      ]
    },
    {
      "cell_type": "code",
      "metadata": {
        "id": "sFWtTc7v2jxS",
        "colab_type": "code",
        "colab": {}
      },
      "source": [
        "t = True\n",
        "f = False\n",
        "\n",
        "print(type(t)) # class 'bool' \n",
        "print(t or f) # True\n",
        "print(t and f) # False \n",
        "print(not t) # False\n",
        "print(not f) # True\n",
        "\n",
        "print(1 or False) # 1 because OR returns the first non-False value"
      ],
      "execution_count": 0,
      "outputs": []
    },
    {
      "cell_type": "markdown",
      "metadata": {
        "id": "r1HPK_4D3dRz",
        "colab_type": "text"
      },
      "source": [
        "### **String**\n",
        "\n",
        "Strings are immutable type, which means we can't change the value once initialized."
      ]
    },
    {
      "cell_type": "code",
      "metadata": {
        "id": "WG9dlTJK3ezP",
        "colab_type": "code",
        "colab": {}
      },
      "source": [
        "# Construct string\n",
        "s1 = 'single quote' # use single quotes\n",
        "print(type(s1))     # class 'str'\n",
        "\n",
        "s2= \"double quote\" # use double quotes \n",
        "print(type(s2))    # class 'str'"
      ],
      "execution_count": 0,
      "outputs": []
    },
    {
      "cell_type": "code",
      "metadata": {
        "id": "4bf6xxZH4UdO",
        "colab_type": "code",
        "colab": {}
      },
      "source": [
        "# String concatenation\n",
        "s3 = s1 + ' and ' + s2 # string concatenation\n",
        "print(s3)"
      ],
      "execution_count": 0,
      "outputs": []
    },
    {
      "cell_type": "code",
      "metadata": {
        "id": "BKDrh0Ig4gbp",
        "colab_type": "code",
        "colab": {}
      },
      "source": [
        "# String useful functions\n",
        "print('Caplitalize the string: ' + s3.capitalize()) # Caplitalize the string \n",
        "print('Uppercase the string: ' + s3.upper())        # Uppercase the string\n",
        "print('\\'o\\' occurrences: ' + str(s3.count('o')))   # Count the occurrences of a character\n",
        "print('first \\'te\\' index: ' + str(s3.index('te'))) # The lowest index of the occurrence"
      ],
      "execution_count": 0,
      "outputs": []
    },
    {
      "cell_type": "code",
      "metadata": {
        "id": "Z4K1QPkjHp1V",
        "colab_type": "code",
        "colab": {}
      },
      "source": [
        "print(s3[1]) # string indexing"
      ],
      "execution_count": 0,
      "outputs": []
    },
    {
      "cell_type": "code",
      "metadata": {
        "id": "GmL2VmQ1wXSU",
        "colab_type": "code",
        "colab": {}
      },
      "source": [
        "# (Advanced)Tripe Quotes\n",
        "s = '''\n",
        "You can specify multi-line string.\n",
        "This is an example.\n",
        "'''\n",
        "print(s)"
      ],
      "execution_count": 0,
      "outputs": []
    },
    {
      "cell_type": "code",
      "metadata": {
        "id": "2EuaB5F9-3xq",
        "colab_type": "code",
        "colab": {}
      },
      "source": [
        "# (Advanced)String format\n",
        "# escape {{}}\n",
        "# https://docs.python.org/3/library/string.html#formatstrings\n",
        "s = \"{} is handsome, but {} is not\" \n",
        "print(s.format('Rayman','Jason'))\n",
        "\n",
        "s = \"{1} is handsome, but {0} is not, {2} is super handsome\"\n",
        "print(s.format('Jason', 'Rayman', 'Mike'))\n",
        "\n",
        "s = \"{name1} is handsome, but {name2} is not\"\n",
        "print(s.format(name2 = 1, name1 = 'Rayman'))"
      ],
      "execution_count": 0,
      "outputs": []
    },
    {
      "cell_type": "markdown",
      "metadata": {
        "id": "fVZFfT125LdY",
        "colab_type": "text"
      },
      "source": [
        "### **List**\n",
        "\n",
        "\n",
        "List is mutable type\n"
      ]
    },
    {
      "cell_type": "code",
      "metadata": {
        "id": "5HaYG0YV0Ll_",
        "colab_type": "code",
        "colab": {}
      },
      "source": [
        "lst1 = [] # initialize an empty list\n",
        "print(type(lst1)) # class 'List'\n",
        "\n",
        "lst2 = [1, 2, 3, 4] # create a list with same data type values\n",
        "print(lst2)\n",
        "\n",
        "lst3 = ['one', 2, 'three', 4] # create a list with different data type values\n",
        "print(lst3)\n"
      ],
      "execution_count": 0,
      "outputs": []
    },
    {
      "cell_type": "code",
      "metadata": {
        "id": "IUdkO-VZ3bq-",
        "colab_type": "code",
        "colab": {}
      },
      "source": [
        "lst2.append(5) # append a new element to end of the list\n",
        "print(lst2)\n",
        "\n",
        "lst2.pop(3) # remove the 4th element of the list\n",
        "print(lst2)\n",
        "\n",
        "lst2[2] = 100 # list is mutable\n",
        "print(lst2)"
      ],
      "execution_count": 0,
      "outputs": []
    },
    {
      "cell_type": "code",
      "metadata": {
        "id": "QjQZR_ST5hN_",
        "colab_type": "code",
        "colab": {}
      },
      "source": [
        "print(lst2[0]) # list indexing\n",
        "print(lst2[-1]) # negative index, access from end of list\n",
        "print(len(lst2)) # the length of list\n",
        "print(lst2 + lst3) # list concatenation"
      ],
      "execution_count": 0,
      "outputs": []
    },
    {
      "cell_type": "markdown",
      "metadata": {
        "id": "s4aKfipipd4g",
        "colab_type": "text"
      },
      "source": [
        "**Slicing**"
      ]
    },
    {
      "cell_type": "code",
      "metadata": {
        "id": "VrVGJGgC58wC",
        "colab_type": "code",
        "colab": {}
      },
      "source": [
        "lst = range(6)    # create an list of numbers using built-in function range\n",
        "print(type(lst))  # class 'range'\n",
        "\n",
        "lst = list(lst)   # change to list\n",
        "print(type(lst))  # class 'list'\n",
        "\n",
        "# [start(inclusive) : end(exclusive) : step]\n",
        "\n",
        "print(lst)      # [0, 1, 2, 3, 4, 5]\n",
        "print(lst[0:6]) # index from 0 to 5, [0, 1, 2, 3, 4, 5]\n",
        "print(lst[1:])  # index from 1 to the end, [1, 2, 3, 4, 5]\n",
        "print(lst[:4])  # index from start to 4, [0, 1, 2, 3]\n",
        "print(lst[:])   # the whole list, [0, 1, 2, 3, 4, 5]\n",
        "print(lst[:-1]) # negative index slicing, [0, 1, 2, 3, 4]\n",
        "print(lst[-1:]) # negative index slicing, [5]\n",
        "print(lst[::2]) # change index step to 2, [0, 2, 4]\n",
        "print(lst[::-1]) # reverse order, [5, 4, 3, 2, 1, 0], common usage\n",
        "\n",
        "lst[2:4] = [3, 2] # modify the values by slicing\n",
        "print(lst)        # [0, 1, 3, 2, 4, 5]"
      ],
      "execution_count": 0,
      "outputs": []
    },
    {
      "cell_type": "code",
      "metadata": {
        "id": "LhPFpTqlCrhZ",
        "colab_type": "code",
        "colab": {}
      },
      "source": [
        "print(lst)\n",
        "print(lst[:-1]) # negative index slicing, [0, 1, 2, 3, 4]\n",
        "print(lst[-1:]) # negative index slicing, [5]"
      ],
      "execution_count": 0,
      "outputs": []
    },
    {
      "cell_type": "code",
      "metadata": {
        "id": "juiCN6yIEWO6",
        "colab_type": "code",
        "colab": {}
      },
      "source": [
        "print(lst[0:7]) # index from 0 to 5, [0, 1, 2, 3, 4, 5]"
      ],
      "execution_count": 0,
      "outputs": []
    },
    {
      "cell_type": "code",
      "metadata": {
        "id": "AB4kHoZ5-Quo",
        "colab_type": "code",
        "colab": {}
      },
      "source": [
        "ss = 'Hello World!' # initialize a string\n",
        "print(ss)\n",
        "\n",
        "print(ss[:])    # the whole list\n",
        "print(ss[1:3]) # index from 1 to 2"
      ],
      "execution_count": 0,
      "outputs": []
    },
    {
      "cell_type": "markdown",
      "metadata": {
        "id": "AdJn4-B9Sg29",
        "colab_type": "text"
      },
      "source": [
        "### **Tuple**\n",
        "\n",
        "A tuple is an (immutable) ordered list of values. A tuple is in many ways similar to a list; one of the most important differences is that tuples can be used as keys in dictionaries and as elements of sets, while lists cannot."
      ]
    },
    {
      "cell_type": "code",
      "metadata": {
        "id": "wKb15o_EgGew",
        "colab_type": "code",
        "colab": {}
      },
      "source": [
        "t = (21, 42) # create a tuple\n",
        "print(type(t))"
      ],
      "execution_count": 0,
      "outputs": []
    },
    {
      "cell_type": "markdown",
      "metadata": {
        "id": "SAAZ2d7CpUJO",
        "colab_type": "text"
      },
      "source": [
        "\n",
        "\n",
        "### **Dictionary**\n",
        "\n",
        "{key: value} \n",
        "\n",
        "key-value pairs"
      ]
    },
    {
      "cell_type": "code",
      "metadata": {
        "id": "Ugbee1XSHcrQ",
        "colab_type": "code",
        "colab": {}
      },
      "source": [
        "skills = ['ML', 'Stat', 'Coding', 'Business']\n",
        "scores = [90, 80, 1, 59]\n",
        "\n",
        "print(scores[skills.index('Coding')])\n",
        "\n",
        "score_dict = {'ML': 90, 'Stat': 80, 'Coding': 1, 'Business': 59} # create a dictionary\n",
        "print(score_dict['ML']) # get ML score\n",
        "print('Stat' in score_dict) # check if 'Stat' in the dictionary\n",
        "\n",
        "score_dict['Spark'] = 70 # Add a new key-value pair to the dictionary\n",
        "print(score_dict['Spark'])\n",
        "\n",
        "print(\"current score:\" + str(score_dict['Coding']))\n",
        "score_dict['Coding'] = 100 # Modify the existing value in the dictionary\n",
        "print(\"afterwards: \" + str(score_dict['Coding']))\n",
        "\n",
        "score_dict.pop('Spark')"
      ],
      "execution_count": 0,
      "outputs": []
    },
    {
      "cell_type": "markdown",
      "metadata": {
        "id": "eqk3BHjRSbU1",
        "colab_type": "text"
      },
      "source": [
        "### **Set**\n",
        "\n",
        "A set is an unordered collection of *distinct* elements. "
      ]
    },
    {
      "cell_type": "code",
      "metadata": {
        "id": "oK4rUVUMUZGe",
        "colab_type": "code",
        "colab": {}
      },
      "source": [
        "skills = {'ML', 'Stat', 'Coding', 'Business'}       #O(1)\n",
        "skills_list = ['ML', 'Stat', 'Coding', 'Business']  #O(n)\n",
        "#What is faster, set or list?\n",
        "#In theory, set is always faster than list\n",
        "#In practice, depends on how long the hash function takes to calculate\n",
        "\n",
        "print('Business' in skills) # check if an element is in a set\n",
        "print('Spark' in skills_list) # False\n",
        "\n",
        "skills.add('Spark') # add an element\n",
        "print(skills)\n",
        "skills.remove('Spark') # remove an element\n",
        "print(skills)"
      ],
      "execution_count": 0,
      "outputs": []
    },
    {
      "cell_type": "markdown",
      "metadata": {
        "id": "lz14OcSJhpCK",
        "colab_type": "text"
      },
      "source": [
        "## Numpy\n",
        "\n",
        "NumPy is the fundamental package for scientific computing in Python. It is a Python library that provides a multidimensional array object, various derived objects (such as masked arrays and matrices), and an assortment of routines for fast operations on arrays.\n",
        "\n",
        "At the core of the NumPy package, is the ndarray object. This encapsulates n-dimensional arrays of homogeneous data types, with many operations being performed in compiled code for performance. \n"
      ]
    },
    {
      "cell_type": "markdown",
      "metadata": {
        "id": "vMQbELzw-Z9u",
        "colab_type": "text"
      },
      "source": [
        "**Arrays**"
      ]
    },
    {
      "cell_type": "code",
      "metadata": {
        "id": "Op4nNL_B-efZ",
        "colab_type": "code",
        "colab": {}
      },
      "source": [
        "lst = [[1, 2, 3], [4, 5, 6]] # 2x3\n",
        "a = np.array(lst)   # create array from lists\n",
        "print(type(a))      # class 'numpy.ndarray'\n",
        "print(a)\n",
        "print(a[0])         # first row\n",
        "print(a[0][1])      # first row, second column\n",
        "print(a.shape)      # 2 x 3\n",
        "print(a.ndim)       # 2 dimensions\n",
        "print(a.dtype)      # data type of the elements of array\n",
        "print(a.size)       # total number of elements in the matrix"
      ],
      "execution_count": 0,
      "outputs": []
    },
    {
      "cell_type": "code",
      "metadata": {
        "id": "9ryDCfxSFdEp",
        "colab_type": "code",
        "colab": {}
      },
      "source": [
        "# useful functions to create numpy array\n",
        "b = np.arange(0, 10, 2, dtype='float')  # create 1d array, [start, stop)\n",
        "print(type(b))                          # class 'numpy.ndarray'\n",
        "print(b)\n",
        "print(b.shape)\n",
        "\n",
        "c = np.linspace(1.5, 2.5, 9)            # create 1d array with float, [start, stop]\n",
        "print(type(c))                          # class 'numpy.ndarray'\n",
        "print(c)\n",
        "print(c.shape)\n",
        "\n",
        "d = np.zeros((2, 3))                    # all zeros\n",
        "print(type(d))                          # class 'numpy.ndarray'\n",
        "print(d)\n",
        "\n",
        "e = np.ones((2, 3))                     # all ones\n",
        "print(type(e))                          # class 'numpy.ndarray'\n",
        "print(e)\n",
        "\n",
        "f = np.full((2, 3), 9)                  # constant matrix\n",
        "print(type(f))                          # class 'numpy.ndarray'\n",
        "print(f)\n",
        "\n",
        "g = np.eye(3)                           # 3 x 3 identity matrix\n",
        "print(type(g))                          # class 'numpy.ndarray'\n",
        "print(g)"
      ],
      "execution_count": 0,
      "outputs": []
    },
    {
      "cell_type": "code",
      "metadata": {
        "id": "alXll15QFhZj",
        "colab_type": "code",
        "colab": {}
      },
      "source": [
        "# reshape\n",
        "j = d.reshape((2, 3, 1))                # can be 2x3x1 or 3x2x1 as long as = 6\n",
        "print(j)\n",
        "print(j.shape)\n",
        "h = b.reshape((5, 1))\n",
        "print(h)\n",
        "\n",
        "# One shape dimension can be -1. \n",
        "# In this case, the value is inferred from the length of the array and remaining dimensions.\n",
        "i = c.reshape((3, -1))\n",
        "print(i)\n",
        "print(i.shape)"
      ],
      "execution_count": 0,
      "outputs": []
    },
    {
      "cell_type": "markdown",
      "metadata": {
        "id": "pAkR5CmFMBQJ",
        "colab_type": "text"
      },
      "source": [
        "**Indexing and Slicing**"
      ]
    },
    {
      "cell_type": "code",
      "metadata": {
        "id": "OH23HeknMHZF",
        "colab_type": "code",
        "colab": {}
      },
      "source": [
        "a = np.array([[1,2,3,4], [5,6,7,8], [9,10,11,12]])\n",
        "\n",
        "# Use slicing to pull out the subarray consisting of the first 2 rows\n",
        "# and columns 1 and 2; b is the following array of shape (2, 2):\n",
        "# [[2 3]\n",
        "#  [6 7]]\n",
        "b = a[:2, 1:3]\n",
        "print(b)\n",
        "print(a[1])      # access a row\n",
        "print(a[:, 1:2]) # access a col\n",
        "print(a[1, 1])   # access single value"
      ],
      "execution_count": 0,
      "outputs": []
    },
    {
      "cell_type": "code",
      "metadata": {
        "colab_type": "code",
        "id": "q6GF1-SsH5qZ",
        "colab": {}
      },
      "source": [
        "a = np.array([[1,2,3,4], [5,6,7,8], [9,10,11,12]])\n",
        "\n",
        "# (Advanced)Two ways of accessing the data in the middle row of the array.\n",
        "# Mixing integer indexing with slices yields an array of lower rank,\n",
        "# while using only slices yields an array of the same rank as the\n",
        "# original array:\n",
        "r1 = a[0, :]    # rank 1 view of the first row.\n",
        "r2 = a[0:1, :]  # rank 2 view of the first row. Different results\n",
        "print(r1, r1.shape)\n",
        "print(r2, r2.shape)\n",
        "\n",
        "r1 = r1.reshape(-1, r1.shape[0])\n",
        "print(r1, r1.shape)"
      ],
      "execution_count": 0,
      "outputs": []
    },
    {
      "cell_type": "code",
      "metadata": {
        "id": "zMANS-DrSzRw",
        "colab_type": "code",
        "colab": {}
      },
      "source": [
        "# boolean masking\n",
        "a = np.array([[1,2,3,4], [5,6,7,8], [9,10,11,12]])\n",
        "\n",
        "a_idx1 = (a < 5) # return the boolean array that satisfies the conidtion\n",
        "print(a_idx1)\n",
        "a_idx2 = (a >=5) & (a <= 10) # return the boolean array that satisfies the conidtion\n",
        "print(a_idx2)\n",
        "\n",
        "print(a[a_idx1]) # return the corresponding array\n",
        "print(a[a_idx2]) # return the corresponding array\n",
        "\n",
        "print(a[(a > 5) & (a < 10)]) # single statement"
      ],
      "execution_count": 0,
      "outputs": []
    },
    {
      "cell_type": "markdown",
      "metadata": {
        "id": "8PATvmrlHWBE",
        "colab_type": "text"
      },
      "source": [
        "**Math**"
      ]
    },
    {
      "cell_type": "code",
      "metadata": {
        "id": "TxaGALTuHYjN",
        "colab_type": "code",
        "colab": {}
      },
      "source": [
        "a = np.array([[10, 11, 12], [13, 14, 15]])\n",
        "print(a.shape)\n",
        "print(a)\n",
        "b = np.arange(1, 7).reshape((2, 3))\n",
        "print(b.shape)\n",
        "print(b)\n",
        "\n",
        "# element-wise calculation:\n",
        "print(a + b)\n",
        "print(a - b)\n",
        "print(np.add(a, b))\n",
        "print(a * b)\n",
        "\n",
        "# Matrix product\n",
        "print(np.dot(a, b.transpose())) # 2x3, 3x2\n",
        "print(a.T.dot(b)) # 3x2, 2x3"
      ],
      "execution_count": 0,
      "outputs": []
    },
    {
      "cell_type": "code",
      "metadata": {
        "id": "bk4CLmb_Mqjv",
        "colab_type": "code",
        "colab": {}
      },
      "source": [
        "# Matrix multiplication\n",
        "#print(a, a.shape)\n",
        "#print(b, b.shape)\n",
        "# axb dot b*c -> axc\n",
        "# 2x3 dot 3x2 -> 2x2\n",
        "# 3x2 dot 2x3 -> 3x3\n",
        "print(a.T, a.T.shape)\n",
        "print(b, b.shape)\n",
        "\n",
        "print(a.T.dot(b))"
      ],
      "execution_count": 0,
      "outputs": []
    },
    {
      "cell_type": "code",
      "metadata": {
        "id": "jDciF7luJkvd",
        "colab_type": "code",
        "colab": {}
      },
      "source": [
        "# calculation along row or column index, calculate by the index of the axis which is set\n",
        "# Axis 0 will act on all the ROWS in each COLUMN\n",
        "# Axis 1 will act on all the COLUMNS in each ROW\n",
        "# check this link for axis https://stackoverflow.com/questions/22149584/what-does-axis-in-pandas-mean\n",
        "# https://stackoverflow.com/questions/25773245/ambiguity-in-pandas-dataframe-numpy-array-axis-definition\n",
        "print(np.sum(a, axis = 0)) # the column is fixed, act along row for this column\n",
        "print(np.sum(a, axis = 1)) # the row    is fixed, act along column for this row"
      ],
      "execution_count": 0,
      "outputs": []
    },
    {
      "cell_type": "markdown",
      "metadata": {
        "id": "X_3CwBxJX2sr",
        "colab_type": "text"
      },
      "source": [
        "###Random\n",
        "* not 100% random -> pseudorandom\n",
        "* set seed to ensure that every time get the same number\n",
        "\n"
      ]
    },
    {
      "cell_type": "code",
      "metadata": {
        "id": "CRoLZLBUX6HZ",
        "colab_type": "code",
        "colab": {}
      },
      "source": [
        "# generate random number\n",
        "print(np.random.rand(2,2))                  # Random numbers between [0,1) of shape 2,2\n",
        "print(np.random.randn(2,2))                 # Normal distribution with mean=0 and variance=1 of shape 2,2\n",
        "print(np.random.randint(0, 10, size=[2,2])) # Random integers between [0, 10) of shape 2,2\n",
        "print(np.random.random())                   # One random number between [0,1)\n",
        "print(np.random.random(size=[2,2]))         # Random numbers between [0,1) of shape 2,2\n",
        "print(np.random.choice(['a', 'e', 'i', 'o', 'u'], size=10)) # Pick 10 items from a given list, with equal probability\n",
        "print(np.random.choice(['a', 'e', 'i', 'o', 'u'], size=10, p=[0.3, 0.1, 0.1, 0.4, 0.1])) # Pick 10 items from a given list with a predefined probability 'p'\n",
        "print(np.random.choice(np.arange(100), size=[10,3], replace=True)) # get 10x3 random samples from [0-99] with replacement "
      ],
      "execution_count": 0,
      "outputs": []
    },
    {
      "cell_type": "code",
      "metadata": {
        "id": "LPF-H2dzKBog",
        "colab_type": "code",
        "colab": {}
      },
      "source": [
        "# A random seed (random_state)\n",
        "np.random.seed(21)\n",
        "print(np.random.random())"
      ],
      "execution_count": 0,
      "outputs": []
    },
    {
      "cell_type": "code",
      "metadata": {
        "id": "lx8_-XUx_KOZ",
        "colab_type": "code",
        "colab": {}
      },
      "source": [
        "np.random.seed(21)\n",
        "print(np.random.random())"
      ],
      "execution_count": 0,
      "outputs": []
    },
    {
      "cell_type": "markdown",
      "metadata": {
        "id": "5ANG4VsG9ha3",
        "colab_type": "text"
      },
      "source": [
        "###Split Training and Testing Data"
      ]
    },
    {
      "cell_type": "code",
      "metadata": {
        "id": "G40xA9H-ZADV",
        "colab_type": "code",
        "colab": {}
      },
      "source": [
        "# M1 use random generator to do train/test split\n",
        "\n",
        "url=\"https://gist.githubusercontent.com/curran/a08a1080b88344b0c8a7/raw/d546eaee765268bf2f487608c537c05e22e4b221/iris.csv\"\n",
        "iris = pd.read_csv(url)\n",
        "print(iris.head())\n",
        "print(iris.info())\n",
        "\n",
        "# Split data into training (75%) and testing (25%)\n",
        "iris_idx = np.arange(iris.shape[0])\n",
        "\n",
        "num_training = int(np.floor(0.75 * iris.shape[0]))\n",
        "iris_train_idx = np.random.choice(iris_idx, size=num_training, replace=False)\n",
        "iris_test_idx = np.delete(iris_idx, iris_train_idx)\n",
        "iris_train = iris.iloc[iris_train_idx]\n",
        "iris_test = iris.iloc[iris_test_idx]\n",
        "\n",
        "print(iris_train.info())\n",
        "print(iris_test.info())\n"
      ],
      "execution_count": 0,
      "outputs": []
    },
    {
      "cell_type": "code",
      "metadata": {
        "id": "Wjib7gOJdcrH",
        "colab_type": "code",
        "colab": {}
      },
      "source": [
        "# M2 use np.random.shuffle\n",
        "iris_idx = np.arange(iris.shape[0])\n",
        "np.random.shuffle(iris_idx)\n",
        "iris.index = iris_idx\n",
        "num_training = int(np.floor(0.75 * iris.shape[0]))\n",
        "iris_train = iris.iloc[:num_training]\n",
        "iris_test = iris.iloc[num_training:]\n",
        "\n",
        "print(iris_train.info())\n",
        "print(iris_test.info())"
      ],
      "execution_count": 0,
      "outputs": []
    },
    {
      "cell_type": "code",
      "metadata": {
        "id": "yn_LjwBCeR2D",
        "colab_type": "code",
        "colab": {}
      },
      "source": [
        "# M3 use sklearn to spilt data\n",
        "from sklearn.model_selection import train_test_split\n",
        "\n",
        "X = iris.drop('species', axis = 1)\n",
        "y = iris['species']\n",
        "\n",
        "X_train, X_test, y_train, y_test = train_test_split(X, y, test_size=0.25)\n",
        "\n",
        "print(X_train.info())\n",
        "\n",
        "X_train"
      ],
      "execution_count": 0,
      "outputs": []
    },
    {
      "cell_type": "markdown",
      "metadata": {
        "id": "DDHcq-Ehfbz4",
        "colab_type": "text"
      },
      "source": [
        "###Broadcasting"
      ]
    },
    {
      "cell_type": "markdown",
      "metadata": {
        "id": "OEHlKGFIHDGh",
        "colab_type": "text"
      },
      "source": [
        "Read more for [broadcasting](https://docs.scipy.org/doc/numpy-1.15.0/user/basics.broadcasting.html)\n",
        "\n",
        "Advantages\n",
        "* saves storage space\n",
        "* relaxes the constraints of matrixes for certain operations\n",
        "\n",
        "Rule: two dimensions are compatible when\n",
        "* they are equal\n",
        "* one of them is 1"
      ]
    },
    {
      "cell_type": "code",
      "metadata": {
        "id": "Pv_KQJGzK1jF",
        "colab_type": "code",
        "colab": {}
      },
      "source": [
        "# (Advanced+)broadcasting\n",
        "a = np.array([[10, 11, 12], [13, 14, 15]]) # 2x3\n",
        "print(a)\n",
        "\n",
        "a += 1 # add 1 to all the elements # 1\n",
        "print(a)\n",
        "\n",
        "a += np.array([-1, -2, -3]) # add [-1, -2, -3] to all columns for each row # 3\n",
        "print(a)\n",
        "\n",
        "a += np.array([[-1], [-2]]) # add [[-1], [-2]] to all rows for each column 2x1\n",
        "print(a)"
      ],
      "execution_count": 0,
      "outputs": []
    },
    {
      "cell_type": "code",
      "metadata": {
        "id": "0FL4pjhLWt-L",
        "colab_type": "code",
        "colab": {}
      },
      "source": [
        "# Two dimensions are compatible when they are equal, or one of them is 1\n",
        "a = np.array([1, 2, 3]) # 1x3\n",
        "b = np.array([[4], [5], [6]]) # 3x1"
      ],
      "execution_count": 0,
      "outputs": []
    },
    {
      "cell_type": "code",
      "metadata": {
        "id": "jgLT00wrN117",
        "colab_type": "code",
        "colab": {}
      },
      "source": [
        "a+b"
      ],
      "execution_count": 0,
      "outputs": []
    },
    {
      "cell_type": "markdown",
      "metadata": {
        "id": "S7LQMWhigQVD",
        "colab_type": "text"
      },
      "source": [
        "## Pandas\n",
        "\n",
        "**Pandas** is a Python package providing fast, flexible, and expressive data structures designed to make working with “relational” or “labeled” data both easy and intuitive. It aims to be the fundamental high-level building block for doing practical, real world data analysis in Python. Additionally, it has the broader goal of becoming **the most powerful and flexible open source data analysis / manipulation tool available in any language**. It is already well on its way toward this goal.\n",
        "\n",
        "The two primary data structures of pandas, **Series (1-dimensional)** and **DataFrame (2-dimensional)**, handle the vast majority of typical use cases in finance, statistics, social science, and many areas of engineering. pandas is built on top of **NumPy** and is intended to integrate well within a scientific computing environment with many other 3rd party libraries."
      ]
    },
    {
      "cell_type": "markdown",
      "metadata": {
        "id": "MFzq7-k8Pz_7",
        "colab_type": "text"
      },
      "source": [
        "####**Load Data**"
      ]
    },
    {
      "cell_type": "code",
      "metadata": {
        "id": "Y6ehD29wPypS",
        "colab_type": "code",
        "colab": {}
      },
      "source": [
        "import numpy as np\n",
        "import pandas as pd"
      ],
      "execution_count": 0,
      "outputs": []
    },
    {
      "cell_type": "code",
      "metadata": {
        "id": "17uRXLoERkSI",
        "colab_type": "code",
        "colab": {}
      },
      "source": [
        "# M1 read data from URL\n",
        "iris = 'https://gist.githubusercontent.com/curran/a08a1080b88344b0c8a7/raw/639388c2cbc2120a14dcf466e85730eb8be498bb/iris.csv'\n",
        "df_iris = pd.read_csv(iris, sep=',')"
      ],
      "execution_count": 0,
      "outputs": []
    },
    {
      "cell_type": "code",
      "metadata": {
        "id": "QBT5n19WSeKh",
        "colab_type": "code",
        "colab": {}
      },
      "source": [
        "# M2 Read data from Google Drive (recommend)\n",
        "# step 1: change your csv file in Drive as Anyone with the link can view\n",
        "# https://drive.google.com/open?id=1AbJ1P9aXcjut9ox5lh6oDx4uYnLY2HBQ\n",
        "\n",
        "file_id='1AbJ1P9aXcjut9ox5lh6oDx4uYnLY2HBQ'\n",
        "link='https://drive.google.com/uc?export=download&id={FILE_ID}'\n",
        "csv_url=link.format(FILE_ID=file_id)\n",
        "\n",
        "df_uk_rain = pd.read_csv(csv_url)"
      ],
      "execution_count": 0,
      "outputs": []
    },
    {
      "cell_type": "code",
      "metadata": {
        "id": "ELBz4GbiywGq",
        "colab_type": "code",
        "colab": {}
      },
      "source": [
        "df_uk_rain.columns = ['water_year','rain_octsep', 'outflow_octsep',\n",
        "                      'rain_decfeb', 'outflow_decfeb', 'rain_junaug', 'outflow_junaug']"
      ],
      "execution_count": 0,
      "outputs": []
    },
    {
      "cell_type": "code",
      "metadata": {
        "id": "QK1Zvc7LiCJ7",
        "colab_type": "code",
        "colab": {}
      },
      "source": [
        "df_uk_rain.head()"
      ],
      "execution_count": 0,
      "outputs": []
    },
    {
      "cell_type": "code",
      "metadata": {
        "id": "C8KzbAt7SWMs",
        "colab_type": "code",
        "colab": {}
      },
      "source": [
        "# M3 Read data from Google Drive (not recommended)\n",
        "# https://colab.sandbox.google.com/notebooks/io.ipynb"
      ],
      "execution_count": 0,
      "outputs": []
    },
    {
      "cell_type": "code",
      "metadata": {
        "id": "Tk04nb9ABtYD",
        "colab_type": "code",
        "colab": {}
      },
      "source": [
        "# M4 Upload from local system\n",
        "from google.colab import files\n",
        "\n",
        "uploaded = files.upload()\n",
        "\n",
        "for fn in uploaded.keys():\n",
        "  print('User uploaded file \"{name}\" with length {length} bytes'.format(\n",
        "      name=fn, length=len(uploaded[fn])))"
      ],
      "execution_count": 0,
      "outputs": []
    },
    {
      "cell_type": "code",
      "metadata": {
        "id": "RirnABiPTNjW",
        "colab_type": "code",
        "colab": {}
      },
      "source": [
        "# Save dataframe to CSV and save to local machine\n",
        "df_uk_rain.to_csv('df.csv', index=False)\n",
        "from google.colab import files\n",
        "#files.download('df.csv')"
      ],
      "execution_count": 0,
      "outputs": []
    },
    {
      "cell_type": "markdown",
      "metadata": {
        "id": "zJkbEoa9Wm-S",
        "colab_type": "text"
      },
      "source": [
        "#### **Data Structure**\n",
        "\n",
        "**Series** is a one-dimensional labeled array capable of holding any data type (integers, strings, floating point numbers, Python objects, etc.). The axis labels are collectively referred to as the index.\n",
        "\n",
        "**DataFrame** is a 2-dimensional labeled data structure with columns of potentially different types. You can think of it like a spreadsheet or SQL table, or a dict of Series objects. It is generally the most commonly used pandas object. "
      ]
    },
    {
      "cell_type": "code",
      "metadata": {
        "id": "U90sQOhyWqig",
        "colab_type": "code",
        "colab": {}
      },
      "source": [
        "# Series from list\n",
        "s = pd.Series([1,3,5,6,8])\n",
        "\n",
        "print(s)\n",
        "print(type(s))"
      ],
      "execution_count": 0,
      "outputs": []
    },
    {
      "cell_type": "code",
      "metadata": {
        "id": "MWuNQmz8W8j4",
        "colab_type": "code",
        "colab": {}
      },
      "source": [
        "# Dataframe from lists\n",
        "d = pd.DataFrame({'col1': [1,2,3,4,5,6],'col2': ['1', '2', '3', '4', '5', '6'], 'col3': ['1',2,3,4,5,6]})\n",
        "print(d)"
      ],
      "execution_count": 0,
      "outputs": []
    },
    {
      "cell_type": "code",
      "metadata": {
        "id": "2VQ-nQYGjHkr",
        "colab_type": "code",
        "colab": {}
      },
      "source": [
        "d.info()"
      ],
      "execution_count": 0,
      "outputs": []
    },
    {
      "cell_type": "code",
      "metadata": {
        "colab_type": "code",
        "id": "uYuAb9oQtJ3y",
        "colab": {}
      },
      "source": [
        "print(df_iris.info())"
      ],
      "execution_count": 0,
      "outputs": []
    },
    {
      "cell_type": "code",
      "metadata": {
        "id": "LmpQtYSlYj17",
        "colab_type": "code",
        "colab": {}
      },
      "source": [
        "# Dataframe first 5(default) rows\n",
        "print(df_iris.head(10))\n",
        "df_iris.tail(2)"
      ],
      "execution_count": 0,
      "outputs": []
    },
    {
      "cell_type": "code",
      "metadata": {
        "id": "4mZBlBMGYyoi",
        "colab_type": "code",
        "colab": {}
      },
      "source": [
        "# Dataframe information\n",
        "df_iris.info()"
      ],
      "execution_count": 0,
      "outputs": []
    },
    {
      "cell_type": "code",
      "metadata": {
        "id": "ZQ62tuXmY15J",
        "colab_type": "code",
        "colab": {}
      },
      "source": [
        "# Dataframe stats information\n",
        "df_iris.describe()"
      ],
      "execution_count": 0,
      "outputs": []
    },
    {
      "cell_type": "code",
      "metadata": {
        "id": "tCJUdsA3Y86c",
        "colab_type": "code",
        "colab": {}
      },
      "source": [
        "# column data type\n",
        "df_iris.dtypes"
      ],
      "execution_count": 0,
      "outputs": []
    },
    {
      "cell_type": "code",
      "metadata": {
        "id": "9SvF87Kva4Cz",
        "colab_type": "code",
        "colab": {}
      },
      "source": [
        "# index info\n",
        "df_iris.index"
      ],
      "execution_count": 0,
      "outputs": []
    },
    {
      "cell_type": "code",
      "metadata": {
        "id": "w8vph2JICKob",
        "colab_type": "code",
        "colab": {}
      },
      "source": [
        "df_iris.columns"
      ],
      "execution_count": 0,
      "outputs": []
    },
    {
      "cell_type": "code",
      "metadata": {
        "id": "Rh4iF57mZQz1",
        "colab_type": "code",
        "colab": {}
      },
      "source": [
        "# change column names\n",
        "attributes = [\"sepal_length\", \"sepal_width\", \"petal_length\", \"petal_width\", \"class\"]\n",
        "df_iris.columns = attributes\n",
        "\n",
        "df_iris.head(1)"
      ],
      "execution_count": 0,
      "outputs": []
    },
    {
      "cell_type": "markdown",
      "metadata": {
        "id": "Z0FucuXLih-b",
        "colab_type": "text"
      },
      "source": [
        "#### **Indexing and Slicing**"
      ]
    },
    {
      "cell_type": "code",
      "metadata": {
        "id": "L9KYxtpTioFa",
        "colab_type": "code",
        "colab": {}
      },
      "source": [
        "# use [] square brackets, only columns\n",
        "df1 = df_iris['sepal_length']\n",
        "print(df1.head())\n",
        "print(type(df1))\n",
        "\n",
        "df2 = df_iris[['sepal_length']]\n",
        "print(df2.head())\n",
        "print(type(df2))\n",
        "\n",
        "df3 = df_iris[['sepal_length', 'petal_length']]\n",
        "print(df3.head())\n",
        "print(type(df3))\n",
        "\n",
        "df4 = df_iris[1:3][['sepal_length','petal_length']]\n",
        "print(df4)\n",
        "print(type(df4))"
      ],
      "execution_count": 0,
      "outputs": []
    },
    {
      "cell_type": "code",
      "metadata": {
        "id": "_e10vJ3NlHek",
        "colab_type": "code",
        "colab": {}
      },
      "source": [
        "# selection by position, use iloc, endpoint is excluded\n",
        "df1 = df_iris.iloc[[3]]\n",
        "print(df1)\n",
        "print(type(df1))\n",
        "\n",
        "df2 = df_iris.iloc[3:5,0:2]\n",
        "print(df2)\n",
        "print(type(df2))\n",
        "\n",
        "df3 = df_iris.iloc[[1,2,4],[0,2]]\n",
        "print(df3)\n",
        "print(type(df3))\n"
      ],
      "execution_count": 0,
      "outputs": []
    },
    {
      "cell_type": "code",
      "metadata": {
        "id": "efRLhCOQjeEL",
        "colab_type": "code",
        "colab": {}
      },
      "source": [
        "# selection by lable, use loc , endpoint is included\n",
        "df1 = df_iris.loc[:, 'sepal_length']\n",
        "print(df1.head())\n",
        "print(type(df1))\n",
        "\n",
        "df2 = df_iris.loc[1:3, ['sepal_length', 'petal_length']]\n",
        "print(df2.head())\n",
        "print(type(df2))\n",
        "\n",
        "df3 = df_iris.loc[[1, 3], 'sepal_length':'petal_length']\n",
        "print(df3)\n",
        "\n",
        "# if you want to select rows and columns, must be like this\n",
        "df_iris[1:3][['sepal_length','petal_length']]"
      ],
      "execution_count": 0,
      "outputs": []
    },
    {
      "cell_type": "code",
      "metadata": {
        "id": "wYJXwqbulpB9",
        "colab_type": "code",
        "colab": {}
      },
      "source": [
        "# boolean indexing\n",
        "df1 = df_iris[(df_iris['sepal_length'] > 6.0) & (df_iris['petal_length'] < 5.0)]\n",
        "print(df1)"
      ],
      "execution_count": 0,
      "outputs": []
    },
    {
      "cell_type": "code",
      "metadata": {
        "id": "xsAHYLn4vk9n",
        "colab_type": "code",
        "colab": {}
      },
      "source": [
        "df1 = df1.reset_index(drop=True)\n",
        "print(df1)"
      ],
      "execution_count": 0,
      "outputs": []
    },
    {
      "cell_type": "markdown",
      "metadata": {
        "id": "5U8R66Rnos4u",
        "colab_type": "text"
      },
      "source": [
        "#### **Merging**\n",
        "\n",
        "Read this [document](https://pandas.pydata.org/pandas-docs/stable/merging.html) for more info\n"
      ]
    },
    {
      "cell_type": "code",
      "metadata": {
        "id": "EMPg7rWn06Fo",
        "colab_type": "code",
        "colab": {}
      },
      "source": [
        "# two dataframe join or concatenate\n",
        "df_right=pd.DataFrame({'year':np.arange(1980,1990),'rain_cn':np.arange(800,810)})\n",
        "print(df_right)\n",
        "df_right2=pd.DataFrame({'year': [1991], 'rain_cn': [800]})\n",
        "print(df_right2)\n",
        "df_right=pd.concat([df_right, df_right2], ignore_index = True)\n",
        "print(df_right)"
      ],
      "execution_count": 0,
      "outputs": []
    },
    {
      "cell_type": "code",
      "metadata": {
        "id": "DnmGRMTufzr7",
        "colab_type": "code",
        "colab": {}
      },
      "source": [
        "df_right.head()"
      ],
      "execution_count": 0,
      "outputs": []
    },
    {
      "cell_type": "code",
      "metadata": {
        "id": "r3s77kJOpAEH",
        "colab_type": "code",
        "colab": {}
      },
      "source": [
        "df_uk_rain.head()"
      ],
      "execution_count": 0,
      "outputs": []
    },
    {
      "cell_type": "code",
      "metadata": {
        "id": "1JAQs-D9Leb-",
        "colab_type": "code",
        "colab": {}
      },
      "source": [
        "# SQL like inner join:\n",
        "df_join=pd.merge(df_uk_rain, df_right, left_on='water_year',right_on='year',how='inner')\n",
        "df_join"
      ],
      "execution_count": 0,
      "outputs": []
    },
    {
      "cell_type": "markdown",
      "metadata": {
        "id": "01PXGrp2oQuZ",
        "colab_type": "text"
      },
      "source": [
        "#### **Grouping**\n",
        "\n",
        "Read this [document](https://pandas.pydata.org/pandas-docs/stable/groupby.html) for more info"
      ]
    },
    {
      "cell_type": "code",
      "metadata": {
        "id": "7vVGllv1F42Z",
        "colab_type": "code",
        "colab": {}
      },
      "source": [
        "# groupby: similar to SQL groupby\n",
        "df_uk_rain.groupby(df_uk_rain['water_year'] // 10 *10)[['rain_octsep','outflow_octsep','rain_decfeb']].max()"
      ],
      "execution_count": 0,
      "outputs": []
    },
    {
      "cell_type": "markdown",
      "metadata": {
        "id": "Dd02UQsPpAqj",
        "colab_type": "text"
      },
      "source": [
        "## **Data Preprocessing**\n",
        "\n",
        "*   Duplication\n",
        "*   Outlier\n",
        "*   Missing Value\n",
        "\n"
      ]
    },
    {
      "cell_type": "markdown",
      "metadata": {
        "id": "v2EVa9GC9ygN",
        "colab_type": "text"
      },
      "source": [
        "#### **Duplication**"
      ]
    },
    {
      "cell_type": "code",
      "metadata": {
        "id": "P-AhBupVMWfu",
        "colab_type": "code",
        "colab": {}
      },
      "source": [
        "# check if a column has duplicates\n",
        "df_uk_rain.iloc[np.where(df_uk_rain[['water_year', 'rain_octsep']].duplicated())]"
      ],
      "execution_count": 0,
      "outputs": []
    },
    {
      "cell_type": "code",
      "metadata": {
        "id": "3WW7iRS6Mxc0",
        "colab_type": "code",
        "colab": {}
      },
      "source": [
        "# create a duplicated row as the last row\n",
        "df_dup=df_uk_rain\n",
        "df_dup.loc[len(df_dup)]=df_dup.iloc[0]\n",
        "df_dup.iloc[[0,-1]] # first and last row"
      ],
      "execution_count": 0,
      "outputs": []
    },
    {
      "cell_type": "code",
      "metadata": {
        "id": "7w6LsQVoM23Y",
        "colab_type": "code",
        "colab": {}
      },
      "source": [
        "# check duplicate rows\n",
        "df_dup[df_dup.duplicated()]"
      ],
      "execution_count": 0,
      "outputs": []
    },
    {
      "cell_type": "code",
      "metadata": {
        "id": "IhjIxyGbNFF_",
        "colab_type": "code",
        "colab": {}
      },
      "source": [
        "# remove duplicates\n",
        "df_dedup=df_dup.drop_duplicates()\n",
        "df_dedup.iloc[[0,-1]]"
      ],
      "execution_count": 0,
      "outputs": []
    },
    {
      "cell_type": "markdown",
      "metadata": {
        "id": "mraQ_hJc-Z_Z",
        "colab_type": "text"
      },
      "source": [
        "#### **Outlier**\n",
        "\n",
        "boxplot, winsorizing"
      ]
    },
    {
      "cell_type": "markdown",
      "metadata": {
        "id": "-4SNIM9OSRQQ",
        "colab_type": "text"
      },
      "source": [
        "![alt text](https://www.mathsisfun.com/data/images/outlier.svg)<br>\n",
        "![alt text](https://statistics.laerd.com/statistical-guides/img/pearson-6.png)"
      ]
    },
    {
      "cell_type": "code",
      "metadata": {
        "colab_type": "code",
        "id": "-VPqrSomd5fY",
        "colab": {}
      },
      "source": [
        "import seaborn as sns\n",
        "# Simulate data\n",
        "dt_outlier=np.concatenate([np.random.normal(0,1,1000),np.random.normal(8,1,10)])\n",
        "sns.set_style('whitegrid')\n",
        "sns.distplot(dt_outlier)"
      ],
      "execution_count": 0,
      "outputs": []
    },
    {
      "cell_type": "markdown",
      "metadata": {
        "id": "CODolxCDSiQv",
        "colab_type": "text"
      },
      "source": [
        "Outlier Detection： Boxplot  <br>\n",
        "Interquartile Range(IQR):\n",
        "IQR= Upper Quantile(Q3) - Lower Quartile(Q1) <br>\n",
        "Lower Limit = Q1 - 1.5 IQR <br>\n",
        "Upper Limit = Q3 + 1.5 IQR <br>\n",
        "![alt text](https://i.stack.imgur.com/mpbTr.gif)\n"
      ]
    },
    {
      "cell_type": "code",
      "metadata": {
        "id": "pIlD3GhuSjwU",
        "colab_type": "code",
        "colab": {}
      },
      "source": [
        "sns.boxplot(dt_outlier,orient='v')"
      ],
      "execution_count": 0,
      "outputs": []
    },
    {
      "cell_type": "code",
      "metadata": {
        "id": "COGwopQ5Sndz",
        "colab_type": "code",
        "colab": {}
      },
      "source": [
        "# define a function remove outlier using IQR\n",
        "def iqr_outlier_rm(dt_input):\n",
        "  lq,uq=np.percentile(dt_input,[25,75])\n",
        "  lower_l=lq - 1.5*(uq-lq)\n",
        "  upper_l=uq + 1.5*(uq-lq)\n",
        "  return dt_input[(dt_input >=lower_l)&(dt_input<=upper_l)]\n",
        "  \n",
        "dt_outlier_ws=iqr_outlier_rm(dt_outlier)\n",
        "sns.boxplot(dt_outlier_ws,orient='v')"
      ],
      "execution_count": 0,
      "outputs": []
    },
    {
      "cell_type": "markdown",
      "metadata": {
        "id": "CSZGjd_q_ASw",
        "colab_type": "text"
      },
      "source": [
        "#### **Missing Value**"
      ]
    },
    {
      "cell_type": "code",
      "metadata": {
        "id": "FtafT2qOVIUd",
        "colab_type": "code",
        "colab": {}
      },
      "source": [
        "# create a dictionary\n",
        "raw_data = {'name': ['Jason', np.nan, 'Mike', 'Rayman', 'Alex', 'Meimei'], \n",
        "        'age': [36, np.nan, 36, 18, 36, 16], \n",
        "        'gender': ['m', np.nan, 'm', np.nan, 'f', 'f'], \n",
        "        'preMLScore': [1, np.nan, np.nan, 2, 3, 90],\n",
        "        'postMLScore': [65, np.nan, np.nan, 62, 70, 100]}\n",
        "\n",
        "# create a dataframe by passing a dictionary\n",
        "df = pd.DataFrame(raw_data, columns = ['name', 'age', 'gender', 'preMLScore', 'postMLScore'])"
      ],
      "execution_count": 0,
      "outputs": []
    },
    {
      "cell_type": "code",
      "metadata": {
        "id": "NGWz3l__WoXy",
        "colab_type": "code",
        "colab": {}
      },
      "source": [
        "df"
      ],
      "execution_count": 0,
      "outputs": []
    },
    {
      "cell_type": "markdown",
      "metadata": {
        "id": "I0yYJ-nEYEJ9",
        "colab_type": "text"
      },
      "source": [
        "##### **Detect missing values**"
      ]
    },
    {
      "cell_type": "code",
      "metadata": {
        "id": "HF5Cc9pIYM7h",
        "colab_type": "code",
        "colab": {}
      },
      "source": [
        "df.info() # the overview information for the dataframe"
      ],
      "execution_count": 0,
      "outputs": []
    },
    {
      "cell_type": "code",
      "metadata": {
        "id": "gVtymK3JYVq-",
        "colab_type": "code",
        "colab": {}
      },
      "source": [
        "df.describe() # basic stats"
      ],
      "execution_count": 0,
      "outputs": []
    },
    {
      "cell_type": "code",
      "metadata": {
        "id": "6JAEfE8B8iZt",
        "colab_type": "code",
        "colab": {}
      },
      "source": [
        "df.isnull()"
      ],
      "execution_count": 0,
      "outputs": []
    },
    {
      "cell_type": "code",
      "metadata": {
        "id": "nSZZgSoPYHeU",
        "colab_type": "code",
        "colab": {}
      },
      "source": [
        "df.isnull().sum() # the number of rows with NaN for each column"
      ],
      "execution_count": 0,
      "outputs": []
    },
    {
      "cell_type": "code",
      "metadata": {
        "id": "mG4c3z0yxO6a",
        "colab_type": "code",
        "colab": {}
      },
      "source": [
        "df.notnull().sum() # the number of rows without NaN for each column"
      ],
      "execution_count": 0,
      "outputs": []
    },
    {
      "cell_type": "code",
      "metadata": {
        "id": "c3eHaPvpxhWN",
        "colab_type": "code",
        "colab": {}
      },
      "source": [
        "df.isnull().all(axis=1) # check if there is a NaN in a row"
      ],
      "execution_count": 0,
      "outputs": []
    },
    {
      "cell_type": "code",
      "metadata": {
        "id": "klq2EpFAxtbq",
        "colab_type": "code",
        "colab": {}
      },
      "source": [
        "df.isnull().any(axis=0) # check if there is a NaN in a column"
      ],
      "execution_count": 0,
      "outputs": []
    },
    {
      "cell_type": "markdown",
      "metadata": {
        "id": "50ulS4QNzXtb",
        "colab_type": "text"
      },
      "source": [
        "##### **Handle Missing Values**"
      ]
    },
    {
      "cell_type": "markdown",
      "metadata": {
        "id": "HqpgfkM01neH",
        "colab_type": "text"
      },
      "source": [
        "**M1 Elimination**"
      ]
    },
    {
      "cell_type": "code",
      "metadata": {
        "id": "DEe_KcIjzaEE",
        "colab_type": "code",
        "colab": {}
      },
      "source": [
        "df.dropna(axis=0) # drop the rows with any NaN, equal to df.dropna(axis=0, how='any')"
      ],
      "execution_count": 0,
      "outputs": []
    },
    {
      "cell_type": "code",
      "metadata": {
        "id": "Wo83IB5d0Bet",
        "colab_type": "code",
        "colab": {}
      },
      "source": [
        "df.dropna(how='all', inplace=True) # drop the rows that every column is NaN\n",
        "df = df.reset_index(drop=True)\n",
        "df"
      ],
      "execution_count": 0,
      "outputs": []
    },
    {
      "cell_type": "code",
      "metadata": {
        "id": "K9Zt5iZC0fnJ",
        "colab_type": "code",
        "colab": {}
      },
      "source": [
        "df['playgames'] = np.nan # add an address column that all the values are NaN\n",
        "df"
      ],
      "execution_count": 0,
      "outputs": []
    },
    {
      "cell_type": "code",
      "metadata": {
        "id": "tuQkcpz10vkd",
        "colab_type": "code",
        "colab": {}
      },
      "source": [
        "df.dropna(axis=1, how='all') # drop the column that all values are NaN"
      ],
      "execution_count": 0,
      "outputs": []
    },
    {
      "cell_type": "code",
      "metadata": {
        "id": "kXchJjD-1K6j",
        "colab_type": "code",
        "colab": {}
      },
      "source": [
        "df.dropna(thresh=5) # drop the rows without at least five actual value columns"
      ],
      "execution_count": 0,
      "outputs": []
    },
    {
      "cell_type": "markdown",
      "metadata": {
        "id": "TPbQfV4F1rPN",
        "colab_type": "text"
      },
      "source": [
        "**M2 Imputation**"
      ]
    },
    {
      "cell_type": "code",
      "metadata": {
        "id": "hZb8ghjw1uUW",
        "colab_type": "code",
        "colab": {}
      },
      "source": [
        "df.fillna(0) # fill 0 to all missing values"
      ],
      "execution_count": 0,
      "outputs": []
    },
    {
      "cell_type": "code",
      "metadata": {
        "id": "F4vOA_9F3Aq3",
        "colab_type": "code",
        "colab": {}
      },
      "source": [
        "df.gender.fillna(method='ffill') # carry the forward value to the missing value"
      ],
      "execution_count": 0,
      "outputs": []
    },
    {
      "cell_type": "code",
      "metadata": {
        "id": "40E5q37i3yvy",
        "colab_type": "code",
        "colab": {}
      },
      "source": [
        "df.gender.fillna(method='bfill') # carry the backward value to the missing value"
      ],
      "execution_count": 0,
      "outputs": []
    },
    {
      "cell_type": "code",
      "metadata": {
        "id": "NF6LHkE714OL",
        "colab_type": "code",
        "colab": {}
      },
      "source": [
        "df[\"preMLScore\"].fillna(df[\"preMLScore\"].median(), inplace=True) # fill preMLScore with its mean\n",
        "df"
      ],
      "execution_count": 0,
      "outputs": []
    }
  ]
}