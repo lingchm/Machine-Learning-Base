{
  "nbformat": 4,
  "nbformat_minor": 0,
  "metadata": {
    "colab": {
      "name": "2_Python Data Structures.ipynb",
      "provenance": [],
      "collapsed_sections": [],
      "include_colab_link": true
    },
    "kernelspec": {
      "name": "python3",
      "display_name": "Python 3"
    }
  },
  "cells": [
    {
      "cell_type": "markdown",
      "metadata": {
        "id": "view-in-github",
        "colab_type": "text"
      },
      "source": [
        "<a href=\"https://colab.research.google.com/github/lingchm/datascience/blob/master/2_Python_Data_Structures.ipynb\" target=\"_parent\"><img src=\"https://colab.research.google.com/assets/colab-badge.svg\" alt=\"Open In Colab\"/></a>"
      ]
    },
    {
      "cell_type": "markdown",
      "metadata": {
        "id": "5DXD1GR9PjMT",
        "colab_type": "text"
      },
      "source": [
        "##2. Python Structures\n",
        "\n",
        "[Basic structures](https://docs.python.org/2/reference/datamodel.html#special-method-names)\n",
        "\n",
        "[Data Structures](https://docs.python.org/3/tutorial/datastructures.html)\n",
        "\n",
        "Note: General CS array == Python list []; General CS list == Python linkedlist"
      ]
    },
    {
      "cell_type": "markdown",
      "metadata": {
        "id": "r1HPK_4D3dRz",
        "colab_type": "text"
      },
      "source": [
        "###String\n",
        "\n",
        "* Strings are immutable type. \n",
        "* Enclosed in quotation marks or single quotes, called string delimiters\n",
        "* Letters, special characters, spaces, digits\n",
        "* Name = 'derek' --> RAM = ['d', 'e', 'r', 'e', 'k']\n",
        "\n",
        "General representation of characters:\n",
        "* ASCII: 1 byte per char. A == 65, a == 97\n",
        "* Unicode: UTF-8 is 1-4 bytes per char, UTF-16 is 2-4 bytes per char. The lastest version contains a repertoire of 110,000+ char covering 100 scripts and various symbols\n",
        "\n",
        "Problems:\n",
        "1. Removal \n",
        " 1. remove some particular chars from a string\n",
        " 2. remove all leading/trailing/duplicated empty spaces from a string\n",
        "2. De-duplication  e.g. 'aaaabbbb_ccc' --> 'ab_c'\n",
        "3. Reversal (swap)  e.g. 'I love yahoo' --> 'yahoo love I'\n",
        "4. Substring --> strstr\n",
        " 1. regular method (naive solution)\n",
        " 2. [Rabin-Karp](https://en.wikipedia.org/wiki/Rabin%E2%80%93Karp_algorithm) (hash-based string matching)\n",
        " 3. [KMP](https://en.wikipedia.org/wiki/Knuth%E2%80%93Morris%E2%80%93Pratt_algorithm) (Knuth-Morris-Pratt), 几乎不会被面，不作要求"
      ]
    },
    {
      "cell_type": "code",
      "metadata": {
        "id": "WG9dlTJK3ezP",
        "colab_type": "code",
        "outputId": "52281594-c4c1-4a7e-b445-3a6341c453ff",
        "colab": {
          "base_uri": "https://localhost:8080/",
          "height": 208
        }
      },
      "source": [
        "s1 = 'single quote' # use single quotes\n",
        "print(type(s1)) # class 'str'\n",
        "\n",
        "s2 = \"double quote\" # use double quotes \n",
        "print(type(s2)) # class 'str'\n",
        "\n",
        "x = 100\n",
        "s3 = s1 + ' huozhe ' + s2 + str(x) # string concatenation\n",
        "print(s3)"
      ],
      "execution_count": 0,
      "outputs": [
        {
          "output_type": "stream",
          "text": [
            "<class 'str'>\n",
            "<class 'str'>\n",
            "single quote huozhe double quote100\n",
            "TEXT: single quote huozhe double quote100\n",
            "i'm ling\n",
            "Caplitalize the string: Single quote huozhe double quote100\n",
            "Uppercase the string: SINGLE QUOTE HUOZHE DOUBLE QUOTE100\n",
            "'o' occurrences: 4\n",
            "first 'te' index: 10\n",
            "s\n",
            "single quote huozhe double quote 100\n"
          ],
          "name": "stdout"
        }
      ]
    },
    {
      "cell_type": "code",
      "metadata": {
        "id": "o65MuTUMHSj9",
        "colab_type": "code",
        "outputId": "5a97c33e-d448-4edb-e299-85bf44eba9b4",
        "colab": {
          "base_uri": "https://localhost:8080/",
          "height": 364
        }
      },
      "source": [
        "# String with quotes\n",
        "print('TEXT: ' + s3)\n",
        "print(\"i'm ling\")\n",
        "print('''this is single quote ' this is double quote \" ''')\n",
        "print('Caplitalize the string: ' + s3.capitalize()) # Caplitalize the string \n",
        "print('Uppercase the string: ' + s3.upper())        # Uppercase the string\n",
        "print('\\'o\\' occurrences: ' + str(s3.count('o')))   # Count the occurrences of a character\n",
        "print('first \\'te\\' index: ' + str(s3.index('te'))) # The lowest index of the occurrence \n",
        "print(s3[0])                                        # string indexing\n",
        "print('\\\\')\n",
        "print(\"a\")\n",
        "print('a')\n",
        "print('a'    'abc\\'de')   #\\n \\r \\t \\\\ \\\n",
        "print(\"\"\"abcdef\"\"\")\n",
        "print(\"\"\"\n",
        "This is an example of string\n",
        "in two lines\n",
        "\"\"\")\n",
        "print (\"123\\tfds\")  #auto align tab\n",
        "print (\"12\\tabc\")\n",
        "\n",
        "#use non ASICC characters\n",
        "#!/usr/bin/python\n",
        "print (\"你好，世界\")\n",
        "#-*- coding: UTF-8 -*-"
      ],
      "execution_count": 0,
      "outputs": [
        {
          "output_type": "stream",
          "text": [
            "TEXT: single quote huozhe double quote100\n",
            "i'm ling\n",
            "this is single quote ' this is double quote \" \n",
            "Caplitalize the string: Single quote huozhe double quote100\n",
            "Uppercase the string: SINGLE QUOTE HUOZHE DOUBLE QUOTE100\n",
            "'o' occurrences: 4\n",
            "first 'te' index: 10\n",
            "s\n",
            "\\\n",
            "a\n",
            "a\n",
            "aabc'de\n",
            "abcdef\n",
            "\n",
            "This is an example of string\n",
            "in two lines\n",
            "\n",
            "123\tfds\n",
            "12\tabc\n",
            "你好，世界\n"
          ],
          "name": "stdout"
        }
      ]
    },
    {
      "cell_type": "code",
      "metadata": {
        "id": "Iy_PpC1ZHoD4",
        "colab_type": "code",
        "outputId": "5cfa567e-e730-4408-8778-fbdbd04d99ff",
        "colab": {
          "base_uri": "https://localhost:8080/",
          "height": 34
        }
      },
      "source": [
        "# String formatting\n",
        "s4 = '{0} huozhe {1} {2}'.format(s1, s2, 100) # (Advanced)\n",
        "print(s4)"
      ],
      "execution_count": 0,
      "outputs": [
        {
          "output_type": "stream",
          "text": [
            "single quote huozhe double quote 100\n"
          ],
          "name": "stdout"
        }
      ]
    },
    {
      "cell_type": "code",
      "metadata": {
        "id": "Ew4OOYYyHxgC",
        "colab_type": "code",
        "outputId": "fe8aacab-f2d8-4b5b-d383-493f34a2cdc8",
        "colab": {
          "base_uri": "https://localhost:8080/",
          "height": 104
        }
      },
      "source": [
        "# Operations\n",
        "print (\"Derek\" < \"derek\")        #compare based on ascii\n",
        "print (\"derea\" < \"derek\")   \n",
        "greeting = \"Hello\"\n",
        "name = \"Derek\"\n",
        "print(greeting + name)\n",
        "print(greeting + \" \" + name)\n",
        "print(greeting + name * 3)        #repeats 3 times"
      ],
      "execution_count": 0,
      "outputs": [
        {
          "output_type": "stream",
          "text": [
            "True\n",
            "True\n",
            "HelloDerek\n",
            "Hello Derek\n",
            "HelloDerekDerekDerek\n"
          ],
          "name": "stdout"
        }
      ]
    },
    {
      "cell_type": "code",
      "metadata": {
        "id": "BhZZTPIDaEo2",
        "colab_type": "code",
        "outputId": "fd58f516-bae3-4b43-e71d-27748a54ebd6",
        "colab": {
          "base_uri": "https://localhost:8080/",
          "height": 34
        }
      },
      "source": [
        "# Slicing\n",
        "s = 'abcdefgh'\n",
        "s[1]      #b  \n",
        "s[-1]     #h\n",
        "s[3:6]    #def\n",
        "s[3:6:2]  #df\n",
        "s[::]     #abcdefgh, same as s[0:len(s):1]\n",
        "s[::-1]   #hgfedcba, s[-1:-(len(s)+1):-1]\n",
        "s[4:1:-2] #ec"
      ],
      "execution_count": 0,
      "outputs": [
        {
          "output_type": "execute_result",
          "data": {
            "text/plain": [
              "'ec'"
            ]
          },
          "metadata": {
            "tags": []
          },
          "execution_count": 1
        }
      ]
    },
    {
      "cell_type": "code",
      "metadata": {
        "id": "Z9QsTSDJKSS4",
        "colab_type": "code",
        "outputId": "5809e6ab-5bc6-462a-ace7-29f4588cf8c3",
        "colab": {
          "base_uri": "https://localhost:8080/",
          "height": 208
        }
      },
      "source": [
        "# Loop\n",
        "s = 'hello'\n",
        "print (s[0])\n",
        "s = 'y' + s[1:len(s)] #can reassign\n",
        "for i in range(5):\n",
        "  print (s[i])\n",
        "for var in s:\n",
        "  print(var)"
      ],
      "execution_count": 0,
      "outputs": [
        {
          "output_type": "stream",
          "text": [
            "h\n",
            "y\n",
            "e\n",
            "l\n",
            "l\n",
            "o\n",
            "y\n",
            "e\n",
            "l\n",
            "l\n",
            "o\n"
          ],
          "name": "stdout"
        }
      ]
    },
    {
      "cell_type": "code",
      "metadata": {
        "id": "sL0d2-5_JCos",
        "colab_type": "code",
        "outputId": "9ee307a5-dbab-438d-f7e1-f0c9481213f0",
        "colab": {
          "base_uri": "https://localhost:8080/",
          "height": 34
        }
      },
      "source": [
        "# Immutable \n",
        "s = \"hello\"\n",
        "s1 = s\n",
        "print(s1)\n",
        "# s[0] = \"y\"  # string is not mutable, because too complex\n",
        "s = \"yello\"\n",
        "print(s1)"
      ],
      "execution_count": 0,
      "outputs": [
        {
          "output_type": "stream",
          "text": [
            "hello\n"
          ],
          "name": "stdout"
        }
      ]
    },
    {
      "cell_type": "code",
      "metadata": {
        "id": "4rinH8IEMLQH",
        "colab_type": "code",
        "outputId": "cfbb61c0-8ad8-47b8-bd26-662b9b4b3829",
        "colab": {
          "base_uri": "https://localhost:8080/",
          "height": 52
        }
      },
      "source": [
        "# Q1 Print name\n",
        "name = \"Ling\"\n",
        "print(\"hello world \" + name)\n",
        "\n",
        "# Q2 Print even index \n",
        "name[1::2]"
      ],
      "execution_count": 0,
      "outputs": [
        {
          "output_type": "stream",
          "text": [
            "hello world Ling\n"
          ],
          "name": "stdout"
        },
        {
          "output_type": "execute_result",
          "data": {
            "text/plain": [
              "'ig'"
            ]
          },
          "metadata": {
            "tags": []
          },
          "execution_count": 57
        }
      ]
    },
    {
      "cell_type": "markdown",
      "metadata": {
        "id": "gRTowrkFQ77v",
        "colab_type": "text"
      },
      "source": [
        "**Q1 Char Removal**\n",
        "\n",
        "remove u and n from a given string\n"
      ]
    },
    {
      "cell_type": "code",
      "metadata": {
        "id": "1qv0CGdwc_Nx",
        "colab_type": "code",
        "colab": {}
      },
      "source": [
        "# Wrong approach\n",
        "# 1. IndexError: string index out of range - orig string length is shortened but not for loop\n",
        "# 2. Neighbors: 'stuudent'\n",
        "def remove(string):\n",
        "  for i in range(len(string)):\n",
        "    if string[i] == 'u' or string[i] == 'n':\n",
        "      string = string[:i] + string[(i+1):]\n",
        "  return string\n",
        "\n",
        "# Correct approach\n",
        "# j=0 (fast) all letters to the left of j (not including j) are processed\n",
        "# i=0 (slow) all letters to the left of i (not including i) are processed that should be kept\n",
        "# [i, j-1] we do not care\n",
        "# [j, size-1] unknown\n",
        "# case1: keep str[j], a[i] = str[j], i+=1, j+=1\n",
        "# case2: not keep str[j], j+=1"
      ],
      "execution_count": 0,
      "outputs": []
    },
    {
      "cell_type": "code",
      "metadata": {
        "id": "hacjopH0RDS4",
        "colab_type": "code",
        "colab": {}
      },
      "source": [
        "# S1 two pointers\n",
        "# time: O(n)\n",
        "# space: O(n)\n",
        "def remove(str):\n",
        "  lst = list(str)\n",
        "  i, j = 0, 0\n",
        "  while j < len(lst):\n",
        "    if lst[j] not in ['u', 'n']:\n",
        "      lst[i] = lst[j]\n",
        "      i += 1\n",
        "    j += 1\n",
        "  return ''.join(lst[:i])"
      ],
      "execution_count": 0,
      "outputs": []
    },
    {
      "cell_type": "code",
      "metadata": {
        "id": "qYqmFs-SRB-A",
        "colab_type": "code",
        "colab": {}
      },
      "source": [
        "# S2 one pointer\n",
        "# time: O(n)\n",
        "# space: O(n)\n",
        "def remove(str):\n",
        "  lst = []\n",
        "  i = 0\n",
        "  while i < len(str):\n",
        "    if str[i] not in ['u', 'n']:\n",
        "      lst.append(str[i])\n",
        "    i += 1\n",
        "  return ''.join(lst)\n",
        "\n",
        "# Actually, S1 better than S2 in terms of space"
      ],
      "execution_count": 0,
      "outputs": []
    },
    {
      "cell_type": "markdown",
      "metadata": {
        "id": "9VwTdYsqrOmX",
        "colab_type": "text"
      },
      "source": [
        "**Q1.2 Remove Certain Characters**\n",
        "\n",
        "https://app.laicode.io/app/problem/395\n",
        "\n",
        "Remove given characters in input string, the relative order of other characters should be remained. Return the new string after deletion.\n",
        "\n",
        "input = \"abcd\", t = \"ab\", delete all instances of 'a' and 'b', the result is \"cd\"."
      ]
    },
    {
      "cell_type": "code",
      "metadata": {
        "id": "fvnUpLpVrX5p",
        "colab_type": "code",
        "colab": {}
      },
      "source": [
        "# Wrong solution\n",
        "# changes index dynamically, does not resolves neighbors\n",
        "class Solution(object):\n",
        "  def remove(self, input, t):\n",
        "    \"\"\"\n",
        "    input: string input, string t\n",
        "    return: string\n",
        "    \"\"\"\n",
        "    # write your solution here\n",
        "    for i in range(len(input)-1):\n",
        "      if input[i] in t:\n",
        "        input = input[:i] + input[(i+1):]\n",
        "    if input[len(input)-1] in t:\n",
        "      input = input[:len(input)-1]\n",
        "    return input"
      ],
      "execution_count": 0,
      "outputs": []
    },
    {
      "cell_type": "code",
      "metadata": {
        "id": "NobngADmuOlG",
        "colab_type": "code",
        "colab": {}
      },
      "source": [
        "# M1\n",
        "class Solution(object):\n",
        "  def remove(self, input, t):\n",
        "    \"\"\"\n",
        "    input: string input, string t\n",
        "    return: string\n",
        "    \"\"\"\n",
        "    # write your solution here\n",
        "    if not input:\n",
        "      return input\n",
        "    res = \"\"\n",
        "    f = 0\n",
        "    while f < len(input):\n",
        "      if input[f] not in t:\n",
        "        res += input[f]\n",
        "      f += 1\n",
        "    return res"
      ],
      "execution_count": 0,
      "outputs": []
    },
    {
      "cell_type": "code",
      "metadata": {
        "id": "bEqamHKkufc2",
        "colab_type": "code",
        "colab": {}
      },
      "source": [
        "# M2 Laioffer Solution\n",
        "class Solution(object):\n",
        "  def remove(self, input, t):\n",
        "    \"\"\"\n",
        "    input: string input, string t\n",
        "    return: string\n",
        "    \"\"\"\n",
        "    # write your solution here\n",
        "    charToRemove = set(t)\n",
        "    result = []\n",
        "    for letter in input:\n",
        "      if letter not in t:\n",
        "        result.append(letter)\n",
        "    return \"\".join(result)"
      ],
      "execution_count": 0,
      "outputs": []
    },
    {
      "cell_type": "markdown",
      "metadata": {
        "id": "5T6lL6GIRLjK",
        "colab_type": "text"
      },
      "source": [
        "**Q2 Remove leading/trailing/duplicated spaces**"
      ]
    },
    {
      "cell_type": "code",
      "metadata": {
        "id": "ii1PUto2fHIe",
        "colab_type": "code",
        "colab": {}
      },
      "source": [
        "# S1 Two pointers\n",
        "# case1: a[j] == ' ' and i == 0 -> ignore\n",
        "# case2: a[j] != ' ' -> keep a[i] = a[j], i+=1\n",
        "# case3: a[j] == ' ' and i != 0 and a[i-1] != ' ' (a[j-1] != ' ') -> keep\n",
        "# case4: a[j] == ' ' and i != 0 and a[i-1] == ' ' -> ignore\n",
        "\n",
        "# Simplified\n",
        "# case1: a[j] != ' ' -> keep a[i] = a[j], i+=1\n",
        "# case2: a[j] == ' '\n",
        "#  case2.1: i == 0 or a[i-1] == ' ' -> ignore\n",
        "#  case2.2: keep\n",
        "# post-processing: i > 0 and a[i-1] == ' ' -> i-=1\n",
        "\n",
        "# time: O(n)\n",
        "# space: O(n)\n",
        "def remove_spaces(str):\n",
        "  if not str:\n",
        "    return str\n",
        "  lst = list(str)\n",
        "  i, j = 0, 0\n",
        "  while j < len(lst):\n",
        "    # if not (lst[j] == ' ' and (i == 0 or lst[i-1] == ' ')):\n",
        "    if lst[j] != ' ' or (i != 0 and lst[i-1] != ' '):\n",
        "        lst[i] = lst[j]\n",
        "        i += 1\n",
        "    j += 1\n",
        "  # remove trailing space\n",
        "  if i > 0 and lst[i-1] == ' ':\n",
        "    i -= 1\n",
        "  return ''.join(lst[:i])"
      ],
      "execution_count": 0,
      "outputs": []
    },
    {
      "cell_type": "code",
      "metadata": {
        "id": "55LTdUQMRSIX",
        "colab_type": "code",
        "colab": {}
      },
      "source": [
        "# style2\n",
        "def remove_spaces(str):\n",
        "  if not str:\n",
        "    return str\n",
        "  lst = []\n",
        "  for fast in range(len(str)):\n",
        "    if str[fast] == ' ' and (fast == 0 or str[fast - 1] == ' '):\n",
        "      continue\n",
        "    lst.append(str[fast])\n",
        "  if len(lst) > 0 and lst[-1] == ' ':\n",
        "    lst.pop()\n",
        "  return ''.join(lst)"
      ],
      "execution_count": 0,
      "outputs": []
    },
    {
      "cell_type": "markdown",
      "metadata": {
        "id": "SWDAxSeORUV1",
        "colab_type": "text"
      },
      "source": [
        "**Q3 Char De-duplication**\n",
        "\n",
        "Remove duplicated and adjacent letters in a string"
      ]
    },
    {
      "cell_type": "code",
      "metadata": {
        "id": "6Qa3L1JbhmA6",
        "colab_type": "code",
        "colab": {}
      },
      "source": [
        "# case1: a[j] == a[i-1] -> ignore j+=1\n",
        "# case2: a[j] != a[i-1] -> keep, a[i] = a[j], i+=1, j+=1\n",
        "# time: O(n)\n",
        "# space: O(n)\n",
        "\n",
        "# M1 two pointers\n",
        "def remove_duplicate(str):\n",
        "  if not str or len(str) < 2:\n",
        "    return str\n",
        "  lst = list(str)\n",
        "  slow, fast = 1, 1\n",
        "  while fast < len(lst):\n",
        "    if lst[fast] != lst[slow - 1]:\n",
        "      lst[slow] = lst[fast]\n",
        "      slow += 1\n",
        "    fast += 1\n",
        "  return ''.join(lst[:slow])"
      ],
      "execution_count": 0,
      "outputs": []
    },
    {
      "cell_type": "code",
      "metadata": {
        "id": "72iQ42FXRale",
        "colab_type": "code",
        "colab": {}
      },
      "source": [
        "# M2 one pointer\n",
        "def remove_duplicate(str):\n",
        "  if not str or len(str) < 2:\n",
        "    return str\n",
        "  fast = 0\n",
        "  lst = []\n",
        "  while fast < len(lst):\n",
        "    if len(lst) == 0 or lst[-1] != str[fast]:\n",
        "      lst.append(str[fast])\n",
        "    fast += 1\n",
        "  return ''.join(lst)"
      ],
      "execution_count": 0,
      "outputs": []
    },
    {
      "cell_type": "markdown",
      "metadata": {
        "id": "AtfsPbUdRdro",
        "colab_type": "text"
      },
      "source": [
        "**Q3.2 Char De-duplication (leave two letters)**\n"
      ]
    },
    {
      "cell_type": "code",
      "metadata": {
        "id": "ZzpkN5QDilNV",
        "colab_type": "code",
        "colab": {}
      },
      "source": [
        "def remove_duplicate(str):\n",
        "  if not str or len(str) < 2:\n",
        "    return str\n",
        "  lst = list(Str)\n",
        "  slow, fast = 2, 2\n",
        "  while fast < len(last):\n",
        "    if lst[fast] != lst[slow - 2]:\n",
        "      lst[slow] = lst[fast]\n",
        "      slow += 1\n",
        "    fast += 1\n",
        "  return ''.join(lst[:slow])"
      ],
      "execution_count": 0,
      "outputs": []
    },
    {
      "cell_type": "markdown",
      "metadata": {
        "id": "ITvlMnT7RhOh",
        "colab_type": "text"
      },
      "source": [
        "**Q3.3 Char De-duplication (remove adjacent letters repeatedly, leave none)**"
      ]
    },
    {
      "cell_type": "code",
      "metadata": {
        "id": "Qcw4vBIMi6F1",
        "colab_type": "code",
        "colab": {}
      },
      "source": [
        "# stack\n",
        "# time: O(n)\n",
        "# space: O(n)\n",
        "\n",
        "def remove_duplicate(str):\n",
        "  if not str:\n",
        "    return str\n",
        "  lst = []\n",
        "  fast = 0\n",
        "  while fast < len(str):\n",
        "    c = str[fast]\n",
        "    if len(lst) > 0 and str[fast] == lst[-1]:\n",
        "      while fast < len(str) and c == str[fast]:\n",
        "        fast += 1\n",
        "      lst.pop()\n",
        "    else:\n",
        "      lst.append(str[fast])\n",
        "      fast += 1\n",
        "  return ''.join(lst)"
      ],
      "execution_count": 0,
      "outputs": []
    },
    {
      "cell_type": "markdown",
      "metadata": {
        "id": "Id8S7w0dl4FN",
        "colab_type": "text"
      },
      "source": [
        "**Q4 Reverse String (letters)**\n",
        "\n",
        "https://app.laicode.io/app/problem/396"
      ]
    },
    {
      "cell_type": "code",
      "metadata": {
        "id": "4gcWmTmol-Xm",
        "colab_type": "code",
        "colab": {}
      },
      "source": [
        "# M1\n",
        "class Solution(object):\n",
        "  def reverse(self, input):\n",
        "    \"\"\"\n",
        "    input: string input\n",
        "    return: string\n",
        "    \"\"\"\n",
        "    # write your solution here\n",
        "    res = \"\"\n",
        "    for i in range(len(input)-1, -1, -1):\n",
        "      res += input[i]\n",
        "    return res"
      ],
      "execution_count": 0,
      "outputs": []
    },
    {
      "cell_type": "code",
      "metadata": {
        "id": "wPVJSLFnl7wE",
        "colab_type": "code",
        "colab": {}
      },
      "source": [
        "# M2 Slicing\n",
        "class Solution(object):\n",
        "  def reverse(self, input):\n",
        "    \"\"\"\n",
        "    input: string input\n",
        "    return: string\n",
        "    \"\"\"\n",
        "    # write your solution here\n",
        "    return input[::-1]"
      ],
      "execution_count": 0,
      "outputs": []
    },
    {
      "cell_type": "code",
      "metadata": {
        "id": "0gG4ge3PmK_x",
        "colab_type": "code",
        "colab": {}
      },
      "source": [
        "# M3 Laioffer solution. In place\n",
        "class Solution(object):\n",
        "  def reverse(self, input):\n",
        "    \"\"\"\n",
        "    input: string input\n",
        "    return: string\n",
        "    \"\"\"\n",
        "    if not input:\n",
        "      return input\n",
        "    array = list(input)\n",
        "    left = 0\n",
        "    right = len(array) - 1\n",
        "    while left < right:\n",
        "      array[left], array[right] = array[right], array[left]\n",
        "      left += 1\n",
        "      right -= 1\n",
        "    return \"\".join(array)\n",
        "  \n",
        "# time: o(n)\n",
        "# space: O(1)"
      ],
      "execution_count": 0,
      "outputs": []
    },
    {
      "cell_type": "markdown",
      "metadata": {
        "id": "dqCrJLl-RpHE",
        "colab_type": "text"
      },
      "source": [
        "**Q4.2 Reverse String (words)**"
      ]
    },
    {
      "cell_type": "code",
      "metadata": {
        "id": "a7BLKyanjWEQ",
        "colab_type": "code",
        "outputId": "2ca23f39-5440-4b59-86a7-4b382e30651b",
        "colab": {
          "base_uri": "https://localhost:8080/",
          "height": 108
        }
      },
      "source": [
        "# S1 reverse whole string \n",
        "# S2 reverse single word\n",
        "# NOTE: use List() to convert string to array\n",
        "\n",
        "def reverse_helper(lst, left, right):\n",
        "  print(''.join(lst), left, right)\n",
        "  while left < right:\n",
        "    lst[left], lst[right] = lst[right], lst[left]\n",
        "    left += 1\n",
        "    right -= 1\n",
        "\n",
        "def reverse_string(string):\n",
        "  lst = list(string)\n",
        "  reverse_helper(lst, 0, len(lst) - 1)\n",
        "  i = 0\n",
        "  left = i\n",
        "  while i < len(lst):\n",
        "    if i == len(lst) - 1 or lst[i+1] == \" \":\n",
        "      right = i\n",
        "      reverse_helper(lst, left, right)\n",
        "      left = i + 2\n",
        "    i += 1\n",
        "  return ''.join(lst)\n",
        "\n",
        "print(reverse_string(\"I love LinkedIn\"))"
      ],
      "execution_count": 0,
      "outputs": [
        {
          "output_type": "stream",
          "text": [
            "I love LinkedIn 0 14\n",
            "nIdekniL evol I 0 7\n",
            "LinkedIn evol I 9 12\n",
            "LinkedIn love I 14 14\n",
            "LinkedIn love I\n"
          ],
          "name": "stdout"
        }
      ]
    },
    {
      "cell_type": "markdown",
      "metadata": {
        "id": "EYBMd3FooR51",
        "colab_type": "text"
      },
      "source": [
        "**Q4.3 Reverse Only Vowels**\n",
        "\n",
        "Only reverse the vowels('a', 'e', 'i', 'o', 'u') in a given string, the other characters should not be moved or changed.\n",
        "\n",
        "\"abbegi\" --> \"ibbega\"\n",
        "\n",
        "https://app.laicode.io/app/problem/348"
      ]
    },
    {
      "cell_type": "code",
      "metadata": {
        "id": "dPTcmHXBoZ9L",
        "colab_type": "code",
        "colab": {}
      },
      "source": [
        "class Solution(object):\n",
        "  def reverse(self, input):\n",
        "    \"\"\"\n",
        "    input: string input\n",
        "    return: string\n",
        "    \"\"\"\n",
        "    # write your solution here\n",
        "    if not input:\n",
        "      return input\n",
        "    left, right = 0, len(input) - 1\n",
        "    array = list(input)\n",
        "    vowels = ['a', 'e', 'i', 'o', 'u']\n",
        "    while left < right:\n",
        "      if array[left] in vowels and array[right] in vowels:\n",
        "        array[left], array[right] = array[right], array[left]\n",
        "        left += 1\n",
        "        right -= 1\n",
        "      if array[left] not in vowels:\n",
        "        left += 1\n",
        "      if array[right] not in vowels:\n",
        "        right -= 1\n",
        "    return \"\".join(array)"
      ],
      "execution_count": 0,
      "outputs": []
    },
    {
      "cell_type": "code",
      "metadata": {
        "id": "AoDw_F_Cqdyr",
        "colab_type": "code",
        "colab": {}
      },
      "source": [
        "# Laioffer solution\n",
        "class Solution(object):\n",
        "  def reverse(self, input):\n",
        "    \"\"\"\n",
        "    input: string input\n",
        "    return: string\n",
        "    \"\"\"\n",
        "    # write your solution here\n",
        "    if not input:\n",
        "      return input\n",
        "    vowels = set(['a', 'e', 'i', 'o', 'u'])\n",
        "    array = list(input)\n",
        "    left, right = 0, len(array) - 1\n",
        "    while left < right:\n",
        "      if array[left] not in vowels:\n",
        "        left += 1\n",
        "      elif array[right] not in vowels:\n",
        "        right -= 1\n",
        "      else:\n",
        "        array[left], array[right] = array[right], array[left]\n",
        "        left += 1\n",
        "        right -= 1\n",
        "    return \"\".join(array)\n",
        "\n",
        "# time: o(n)\n",
        "# space: O(1)"
      ],
      "execution_count": 0,
      "outputs": []
    },
    {
      "cell_type": "markdown",
      "metadata": {
        "id": "OljhWN-RRZLD",
        "colab_type": "text"
      },
      "source": [
        "**Q4.4 Reverse and truncate spaces**\n",
        "\n",
        "https://app.laicode.io/app/problem/383\n",
        "\n",
        "Reverse the words in a sentence and truncate all heading/trailing/duplicate space characters.\n",
        "\n",
        "\n",
        "```\n",
        "“ I  love  Google  ” → “Google love I”\n",
        "```\n",
        "Corner Cases\n",
        "* If the given string is null, we do not need to do anything."
      ]
    },
    {
      "cell_type": "code",
      "metadata": {
        "id": "A-yLDYWxRhhv",
        "colab_type": "code",
        "colab": {}
      },
      "source": [
        "class Solution(object):\n",
        "  def reverseWords(self, input):\n",
        "    \"\"\"\n",
        "    input: string input\n",
        "    return: string\n",
        "    \"\"\"\n",
        "    # write your solution here\n",
        "    # M1 Stack\n",
        "    if not input:\n",
        "      return ''\n",
        "    word, words = \"\", []\n",
        "    i = 0\n",
        "    while i < len(input):\n",
        "      if input[i] != ' ':    \n",
        "        while i < len(input) and input[i] != ' ':  # loop for the entire word\n",
        "          word += input[i]\n",
        "          i += 1\n",
        "        words.append(word)                        # append word to word stack\n",
        "        word = \"\"\n",
        "      i += 1\n",
        "    res = words.pop()                           \n",
        "    while len(words) > 0:\n",
        "      res += \" \" + words.pop()\n",
        "    return res\n",
        "  \n",
        "# time: O(2n)\n",
        "# space: O(n)"
      ],
      "execution_count": 0,
      "outputs": []
    },
    {
      "cell_type": "code",
      "metadata": {
        "id": "X6VC14GorJ16",
        "colab_type": "code",
        "colab": {}
      },
      "source": [
        "# Laioffer solution\n",
        "'''\n",
        "when would we ignore the current space?\n",
        "1. we ignore all spaces followed by another space\n",
        "2. we ignore the space if it is the first character\n",
        "\n",
        "A  B C D\n",
        "  e\n",
        "   i\n",
        "'''\n",
        "class Solution(object):\n",
        "  def reverseWords(input):\n",
        "    \"\"\"\n",
        "    input: string input\n",
        "    return: string\n",
        "    \"\"\"\n",
        "    # write your solution here\n",
        "    if not input:\n",
        "      return ''\n",
        "    array = list(input)\n",
        "\n",
        "    # first, remove spaces\n",
        "    end = 0\n",
        "    for i in range(len(array)):\n",
        "      if array[i] == ' ' and (i == 0 or array[i - 1] == ' '):\n",
        "        continue\n",
        "      print(array[end], array[i])\n",
        "      array[end] = array[i]\n",
        "      end += 1\n",
        "    if end > 0 and array[end - 1] == ' ': # post-processing for trailing balnks\n",
        "      end -= 1\n",
        "    \n",
        "    # then, reverse words in place\n",
        "    # 1. reverse the whole char array\n",
        "    self.reverse(array, 0, end - 1)\n",
        "    start = 0\n",
        "    # 2. reverse each word\n",
        "    for i in range(end):\n",
        "      # get start index of a word\n",
        "      if array[i] != ' ' and (i == 0 or array[i - 1] == ' '):\n",
        "        start = i\n",
        "      # get end index of a word\n",
        "      if array[i] != ' ' and (i == end - 1 or array[i + 1] == ' '):\n",
        "        self.reverse(array, start, i)\n",
        "    return \"\".join(array[:end])\n",
        "\n",
        "  def reverse(self, array, left, right):\n",
        "    while left < right:\n",
        "      array[left], array[right] = array[right], array[left]\n",
        "      left += 1\n",
        "      right -= 1\n",
        "\n",
        "# time: O(n)\n",
        "# space: o(1)"
      ],
      "execution_count": 0,
      "outputs": []
    },
    {
      "cell_type": "markdown",
      "metadata": {
        "id": "5wYbMAufRs9A",
        "colab_type": "text"
      },
      "source": [
        "**Q5 Substring**\n",
        "\n",
        "test is a string is another string's substring"
      ]
    },
    {
      "cell_type": "code",
      "metadata": {
        "id": "6X9kQ9k-0DnL",
        "colab_type": "code",
        "colab": {}
      },
      "source": [
        "# M1 brute force \n",
        "# time: O(m*n)\n",
        "'''\n",
        "for i = 0 to ??\n",
        "  determine if text[i...] == pattern\n",
        "  for each possible start position (i) of an occurrence\n",
        "  try to match text[i...] and pattern[0...]\n",
        "'''"
      ],
      "execution_count": 0,
      "outputs": []
    },
    {
      "cell_type": "code",
      "metadata": {
        "id": "Y7WcIVBVlHnN",
        "colab_type": "code",
        "colab": {}
      },
      "source": [
        "# M2 Robin-Karp:\n",
        "# time: O(m-n) avg case; O(m*n) worst case\n",
        "\n",
        "'''\n",
        "Sees each character as a number\n",
        "\"c d e\", hash(\"c d e\") = 2*26^2 + 3*26^1 + 4*26^0 \n",
        "If we can hash the pattern to a unique integer, then we czn just compare\n",
        "each substring of s1's value and compare it with s2's hash value\n",
        "'''\n",
        "\n",
        "class RainKarp:\n",
        "  def __init__(self):\n",
        "    self.base = 26 #base for multiplication\n",
        "    self.mod = 997 #a prime number for hashing\n",
        "  def strstr(self, haystack, needle):\n",
        "    if len(needle) > len(haystack):\n",
        "      return -1\n",
        "    hay_hash, nhash = 0, 0\n",
        "    power = 1\n",
        "    for i in range(len(needle)):\n",
        "      power = power * self.base % self.mod if i != 0 else 1\n",
        "      hay_hash = (hay_hash * self.base + ord(haystack[i])) % self.mod\n",
        "      nhash = (nhash * self.base + ord(needle[i])) % self.mod\n",
        "    for i in range(len(needle), len(haystack)):\n",
        "      if hay_hash == nhash and needle == haystack[i - len(needle): i]:\n",
        "        return i - len(needle)\n",
        "      hay_hash -= (power * ord(haystack[i-len(needle)])) % self.mod\n",
        "      if hay_hash < 0:\n",
        "        hay_hash += self.mod\n",
        "      hay_hash = (hay_hash * self.base + ord(haystack[i])) % self.mod\n",
        "    if hay_hash == nhash and needle == haystack[len(haystack) - len(needle):]:\n",
        "      return len(haystack) - len(needle)\n",
        "    return -1\n",
        "  \n",
        "rk = RabinKarp()\n",
        "print(rk.strstr('bacbabababacaab', 'abaca'))\n",
        "\n"
      ],
      "execution_count": 0,
      "outputs": []
    },
    {
      "cell_type": "code",
      "metadata": {
        "id": "d3xUU84X0G6m",
        "colab_type": "code",
        "colab": {}
      },
      "source": [
        "# M3 KMP Knuth-Morris-Pratt -- Not interviewed"
      ],
      "execution_count": 0,
      "outputs": []
    },
    {
      "cell_type": "markdown",
      "metadata": {
        "id": "Fxvac3gcu-f1",
        "colab_type": "text"
      },
      "source": [
        "**Q6 Is Palindrome**\n",
        "\n",
        "https://app.laicode.io/app/problem/446\n",
        "\n",
        "Given a string, determine if it is a palindrome, considering only alphanumeric characters('0'-'9','a'-'z','A'-'Z') and ignoring cases.\n",
        "\n",
        "For example,\n",
        "\"an apple, :) elp pana#\" is a palindrome.\n",
        "\n",
        "\"dia monds dn dia\" is not a palindrome."
      ]
    },
    {
      "cell_type": "code",
      "metadata": {
        "id": "Dny4d8-3u9cT",
        "colab_type": "code",
        "colab": {}
      },
      "source": [
        "class Solution(object):\n",
        "  def valid(self, input):\n",
        "    \"\"\"\n",
        "    input: string input\n",
        "    return: boolean\n",
        "    \"\"\"\n",
        "    # write your solution here\n",
        "    if not input:\n",
        "      return True\n",
        "    left, right = 0, len(input) - 1\n",
        "    array = list(input)\n",
        "    while left < right:\n",
        "      if not array[left].isalnum():\n",
        "        left += 1\n",
        "      elif not array[right].isalnum():\n",
        "        right -= 1\n",
        "      else:\n",
        "        if array[left].lower() != array[right].lower():\n",
        "          return False\n",
        "        left += 1\n",
        "        right -= 1\n",
        "    return True\n",
        "\n",
        "# same as Laioffer solution\n",
        "# time: O(n)\n",
        "# space: O(1)"
      ],
      "execution_count": 0,
      "outputs": []
    },
    {
      "cell_type": "markdown",
      "metadata": {
        "id": "_qdDQH_zyMGn",
        "colab_type": "text"
      },
      "source": [
        "**Q7 Decode String**\n",
        "\n",
        "https://app.laicode.io/app/problem/616\n",
        "\n",
        "Given an encoded string, return it's decoded string.\n",
        "\n",
        "The encoding rule is: k[encoded_string], where the encoded_string inside the square brackets is being repeated exactly k times. Note that k is guaranteed to be a positive integer.\n",
        "\n",
        "You may assume that the input string is always valid; No extra white spaces, square brackets are well-formed, etc.\n",
        "\n",
        "Furthermore, you may assume that the original data does not contain any digits and that digits are only for those repeat numbers, k. For example, there won't be input like 3a or 2[4].\n",
        "\n",
        "Examples:\n",
        "\n",
        "```\n",
        "s = \"3[a]2[bc]\", return \"aaabcbc\".\n",
        "s = \"3[a2[c]]\", return \"accaccacc\".\n",
        "s = \"2[abc]3[cd]ef\", return \"abcabccdcdcdef\"\n",
        "```"
      ]
    },
    {
      "cell_type": "code",
      "metadata": {
        "id": "VIvcfr6R6FcB",
        "colab_type": "code",
        "colab": {}
      },
      "source": [
        "# M1 -- Asked on piazza. Have errors \"pop from empty list\"\n",
        "'''\n",
        "nums = stack of numbers\n",
        "letters = stack of letters\n",
        "num = temporary number holder\n",
        "letter = temporary letter holder\n",
        "res = final result string\n",
        "\n",
        "When to append to letters? \"[\" or \"]\"\n",
        "when to append to nums? \"[\"\n",
        "When to execute the letter duplication? \"]\" \n",
        "'''\n",
        "\n",
        "class Solution(object):\n",
        "  def decodeString(self, input):\n",
        "    \"\"\"\n",
        "    input: string input\n",
        "    return: string\n",
        "    \"\"\"\n",
        "    # write your solution here\n",
        "    if not input:\n",
        "      return input\n",
        "    array = list(input)\n",
        "    nums, letters, num, letter, res = [],[],\"\",\"\",\"\"\n",
        "    for i in input:\n",
        "      if i == ']':                # case 1: evaluation\n",
        "        if letter:                # append letter if any, may be empty at end \"]]\"\n",
        "          letters.append(letter)\n",
        "          letter = \"\"\n",
        "        letter = letters.pop()    \n",
        "        num = nums.pop()\n",
        "        if letters:               # if bracket inside another bracket, append back to stack\n",
        "          prev = letters.pop()\n",
        "          for j in range(int(num)):\n",
        "            prev += letter\n",
        "          letters.append(prev)\n",
        "        else:                     # execute the duplication\n",
        "          for j in range(int(num)): \n",
        "            res += letter\n",
        "        letter, num = \"\", \"\"      # reset\n",
        "      elif i == '[':              # case 2: append to stack\n",
        "        nums.append(num)\n",
        "        num = \"\"\n",
        "        if letter:                # append letter if any, may be empty at first\n",
        "          letters.append(letter)\n",
        "          letter = \"\"\n",
        "      elif i.isdigit():           # case 3: add integer\n",
        "        num += i\n",
        "      else:                       # case 4: add letter\n",
        "        letter += i\n",
        "    if letter:                    # any final strings not in brackets\n",
        "      res += letter\n",
        "    return res\n",
        "\n",
        "'''\n",
        "3[a2[c]]\n",
        "  i\n",
        "num = 3\n",
        "letter = \"acc\"\n",
        "prev = \"acc\"\n",
        "nums = []\n",
        "letters = [\"acc\"]\n",
        "\n",
        "this = c\n",
        "num =\n",
        "'''"
      ],
      "execution_count": 0,
      "outputs": []
    },
    {
      "cell_type": "code",
      "metadata": {
        "id": "T2BOed6o6LCB",
        "colab_type": "code",
        "colab": {
          "base_uri": "https://localhost:8080/",
          "height": 54
        },
        "outputId": "fa29b4ce-93be-4117-811a-7b10db6d2e8f"
      },
      "source": [
        "# Laioffer solution\n",
        "def decodeString(input):\n",
        "    \"\"\"\n",
        "    input: string input\n",
        "    return: string\n",
        "    \"\"\"\n",
        "    # write your solution here\n",
        "    ret_stack = []\n",
        "    cnt_stack = []\n",
        "    string = \"\"\n",
        "    i = 0\n",
        "    while i < len(input):\n",
        "      if input[i].isdigit():\n",
        "        cnt = 0                   # reset number\n",
        "        while input[i].isdigit(): # get entire number\n",
        "          cnt = cnt * 10 + int(input[i])\n",
        "          i += 1\n",
        "      elif input[i].isalpha():\n",
        "        string += input[i]\n",
        "        i += 1\n",
        "      elif input[i] == '[':\n",
        "        cnt_stack.append(cnt)\n",
        "        ret_stack.append(string)\n",
        "        string = \"\"\n",
        "        i += 1\n",
        "      else:\n",
        "        cnt = cnt_stack.pop()\n",
        "        last_ret = ret_stack.pop()\n",
        "        string = last_ret + string * cnt\n",
        "        i += 1\n",
        "    return string\n",
        "\n",
        "decodeString(\"23[a34[b]]\")"
      ],
      "execution_count": 5,
      "outputs": [
        {
          "output_type": "execute_result",
          "data": {
            "text/plain": [
              "'abbbbbbbbbbbbbbbbbbbbbbbbbbbbbbbbbbabbbbbbbbbbbbbbbbbbbbbbbbbbbbbbbbbbabbbbbbbbbbbbbbbbbbbbbbbbbbbbbbbbbbabbbbbbbbbbbbbbbbbbbbbbbbbbbbbbbbbbabbbbbbbbbbbbbbbbbbbbbbbbbbbbbbbbbbabbbbbbbbbbbbbbbbbbbbbbbbbbbbbbbbbbabbbbbbbbbbbbbbbbbbbbbbbbbbbbbbbbbbabbbbbbbbbbbbbbbbbbbbbbbbbbbbbbbbbbabbbbbbbbbbbbbbbbbbbbbbbbbbbbbbbbbbabbbbbbbbbbbbbbbbbbbbbbbbbbbbbbbbbbabbbbbbbbbbbbbbbbbbbbbbbbbbbbbbbbbbabbbbbbbbbbbbbbbbbbbbbbbbbbbbbbbbbbabbbbbbbbbbbbbbbbbbbbbbbbbbbbbbbbbbabbbbbbbbbbbbbbbbbbbbbbbbbbbbbbbbbbabbbbbbbbbbbbbbbbbbbbbbbbbbbbbbbbbbabbbbbbbbbbbbbbbbbbbbbbbbbbbbbbbbbbabbbbbbbbbbbbbbbbbbbbbbbbbbbbbbbbbbabbbbbbbbbbbbbbbbbbbbbbbbbbbbbbbbbbabbbbbbbbbbbbbbbbbbbbbbbbbbbbbbbbbbabbbbbbbbbbbbbbbbbbbbbbbbbbbbbbbbbbabbbbbbbbbbbbbbbbbbbbbbbbbbbbbbbbbbabbbbbbbbbbbbbbbbbbbbbbbbbbbbbbbbbbabbbbbbbbbbbbbbbbbbbbbbbbbbbbbbbbbb'"
            ]
          },
          "metadata": {
            "tags": []
          },
          "execution_count": 5
        }
      ]
    },
    {
      "cell_type": "markdown",
      "metadata": {
        "id": "cpwoQMPAsqD1",
        "colab_type": "text"
      },
      "source": [
        "**Q8 First Unique Character from String**\n",
        "\n",
        "https://app.laicode.io/app/problem/617\n",
        "\n",
        "Given a string, find the first non-repeating character in it and return it's index. If it doesn't exist, return -1.\n",
        "\n",
        "```\n",
        "s = \"laicode\"\n",
        "return 0.\n",
        "\n",
        "s = \"lovelaicode\",\n",
        "return 2.\n",
        "```\n",
        "\n",
        "Note: You may assume the string contain only lowercase letters."
      ]
    },
    {
      "cell_type": "code",
      "metadata": {
        "id": "cQFidHnXs34L",
        "colab_type": "code",
        "colab": {}
      },
      "source": [
        "# M1 Wrong solution. \n",
        "'''\n",
        "problem: only looks backwards\n",
        "[\"vftdbnkzzzksjxxawxuwdelcjzpjnrloxyfsohopsipoubukmhlpssauyxhxnpxajpufkrxmxckduktenozsffoprjvhstl\"]\n",
        "would return 19 ('w') but should be 41\n",
        "'''\n",
        "class Solution(object):\n",
        "  def firstUniqChar(self, input):\n",
        "    \"\"\"\n",
        "    input: string input\n",
        "    return: int\n",
        "    \"\"\"\n",
        "    # write your solution here\n",
        "    # M1 brute force\n",
        "    for char_index in range(len(input)):\n",
        "      unique = True\n",
        "      for i in range(char_index + 1, len(input)):\n",
        "        if input[char_index] == input[i]:\n",
        "          unique = False\n",
        "          break\n",
        "      if unique:\n",
        "        return char_index\n",
        "    return -1\n",
        "\n",
        "# Cannot sort array because the original index would be lost"
      ],
      "execution_count": 0,
      "outputs": []
    },
    {
      "cell_type": "code",
      "metadata": {
        "id": "Evuj0OtBu0kO",
        "colab_type": "code",
        "colab": {}
      },
      "source": [
        "# M1 Correction\n",
        "class Solution(object):\n",
        "  def firstUniqChar(self, input):\n",
        "    \"\"\"\n",
        "    input: string input\n",
        "    return: int\n",
        "    \"\"\"\n",
        "    # write your solution here\n",
        "    checked = []\n",
        "    for char_index in range(len(input)):\n",
        "      unique = True\n",
        "      for i in range(char_index + 1, len(input)):\n",
        "        if input[char_index] == input[i]:\n",
        "          unique = False\n",
        "          checked.append(input[char_index])\n",
        "          break\n",
        "      if unique and input[char_index] not in checked:\n",
        "        return char_index\n",
        "    return -1\n",
        "\n",
        "# time: O(n^2)\n",
        "# space: O(n)"
      ],
      "execution_count": 0,
      "outputs": []
    },
    {
      "cell_type": "code",
      "metadata": {
        "id": "VEh0VxPdzINf",
        "colab_type": "code",
        "colab": {}
      },
      "source": [
        "# M2 Dictionary\n",
        "class Solution(object):\n",
        "  def firstUniqChar(self, input):\n",
        "    \"\"\"\n",
        "    input: string input\n",
        "    return: int\n",
        "    \"\"\"\n",
        "    # write your solution here\n",
        "    freqs = {}\n",
        "    for char in input:                    # construct a frequency dictionary\n",
        "      if char in freqs:\n",
        "        freqs[char] += 1\n",
        "      else:\n",
        "        freqs[char] = 1\n",
        "    for i in range(len(input)):           # find the first unique char in dictionary\n",
        "      if freqs[input[i]] == 1:\n",
        "        return i\n",
        "    return -1"
      ],
      "execution_count": 0,
      "outputs": []
    },
    {
      "cell_type": "code",
      "metadata": {
        "id": "1IVhcj6Gu9A5",
        "colab_type": "code",
        "colab": {}
      },
      "source": [
        "# Laioffer solution\n",
        "\n",
        "class Solution(object):\n",
        "  def firstUniqChar(self, input):\n",
        "    \"\"\"\n",
        "    input: string input\n",
        "    return: int\n",
        "    \"\"\"\n",
        "    # write your solution here\n",
        "    # M2 Hashtable\n",
        "    hash = dict()\n",
        "    for c in input: # build\n",
        "      if c not in hash:\n",
        "        hash[c] = 0\n",
        "      hash[c] += 1\n",
        "    for i in range(len(input)): # use\n",
        "      if hash[input[i]] == 1:\n",
        "        return i\n",
        "    return -1\n",
        "  \n",
        "# time: O(n)\n",
        "# space: O(n)"
      ],
      "execution_count": 0,
      "outputs": []
    },
    {
      "cell_type": "markdown",
      "metadata": {
        "id": "tw89WRjA0NrV",
        "colab_type": "text"
      },
      "source": [
        "**Q9 Add Binary**\n",
        "\n",
        "https://app.laicode.io/app/problem/163\n",
        "\n",
        "Given two binary strings, return their sum (also a binary string).\n",
        "\n",
        "```\n",
        "Input: a = “11”\n",
        "       b = “1”\n",
        "Output: “100”\n",
        "```"
      ]
    },
    {
      "cell_type": "code",
      "metadata": {
        "id": "ZjW6XhkC0Va4",
        "colab_type": "code",
        "colab": {}
      },
      "source": [
        " # M1 sum backwards\n",
        "class Solution(object):\n",
        "  def addBinary(self, a, b):\n",
        "    \"\"\"\n",
        "    input: string a, string b\n",
        "    return: string\n",
        "    \"\"\"\n",
        "    # write your solution here\n",
        "    ia, ib = len(a) - 1, len(b) - 1\n",
        "    res = []\n",
        "    temp, hold = 0, 0\n",
        "    while ia >= 0 or ib >= 0 or hold > 0:\n",
        "      if ia >= 0 and ib >= 0:\n",
        "        temp = int(a[ia]) + int(b[ib]) + hold\n",
        "      elif ia >= 0:\n",
        "        temp = int(a[ia]) + hold\n",
        "      elif ib >= 0:\n",
        "        temp = int(b[ib]) + hold\n",
        "      else:\n",
        "        temp = hold\n",
        "      res.append(temp % 2)\n",
        "      hold = temp // 2\n",
        "      ia -= 1\n",
        "      ib -= 1\n",
        "    string = \"\"\n",
        "    for i in range(len(res)):\n",
        "      string += str(res.pop())\n",
        "    return string\n",
        "\n",
        "'''\n",
        "11\n",
        "11\n",
        "temp = 1 \n",
        "hold = 0\n",
        "res = [0, 1, 1]\n",
        "'''"
      ],
      "execution_count": 0,
      "outputs": []
    },
    {
      "cell_type": "code",
      "metadata": {
        "id": "p2sKqD6S-BMH",
        "colab_type": "code",
        "colab": {}
      },
      "source": [
        "# M2 \n",
        "class Solution(object):\n",
        "  def addBinary(self, a, b):\n",
        "    \"\"\"\n",
        "    input: string a, string b\n",
        "    return: string\n",
        "    \"\"\"\n",
        "    # write your solution here\n",
        "    result = \"\"\n",
        "    d = 0\n",
        "    for i in range(1, max(len(a), len(b))+2):\n",
        "      if len(a) >= i and len(b) >= i:\n",
        "        c = int(a[len(a)-i]) + int(b[len(b)-i]) + d\n",
        "        result = str(c % 2) + result\n",
        "        d = int(c/2)\n",
        "      elif len(a) >= i:\n",
        "        c = int(a[len(a)-i]) + d\n",
        "        result = str(c % 2) + result\n",
        "        d = int(c/2)\n",
        "      elif len(b) >= i:\n",
        "        c = int(b[len(b)-i]) + d\n",
        "        result = str(c % 2) + result\n",
        "        d = int(c/2)\n",
        "      elif d != 0:\n",
        "        result = str(d) + result\n",
        "    return result"
      ],
      "execution_count": 0,
      "outputs": []
    },
    {
      "cell_type": "code",
      "metadata": {
        "id": "6IHxvyjl-FFA",
        "colab_type": "code",
        "colab": {}
      },
      "source": [
        "# M3 Laioffer Solution\n",
        "class Solution(object):\n",
        "  def addBinary(self, a, b):\n",
        "    \"\"\"\n",
        "    input: string a, string b\n",
        "    return: string\n",
        "    \"\"\"\n",
        "    # write your solution here\n",
        "    if not a:\n",
        "      return b\n",
        "    if not b:\n",
        "      return a\n",
        "    res = []\n",
        "    carry = 0\n",
        "    i, j = len(a) - 1, len(b) - 1\n",
        "    while i >= 0 or j >= 0:\n",
        "      sum = carry\n",
        "      if i >= 0:\n",
        "        sum += int(a[i])\n",
        "        i -= 1\n",
        "      if j >= 0:\n",
        "        sum += int(b[j])\n",
        "        j -= 1\n",
        "      res.append(str(sum % 2))\n",
        "      carry = sum // 2\n",
        "    if carry == 1:\n",
        "      res.append('1')\n",
        "    res.reverse()\n",
        "    return ''.join(res)"
      ],
      "execution_count": 0,
      "outputs": []
    },
    {
      "cell_type": "markdown",
      "metadata": {
        "id": "cS9c76Pa-26x",
        "colab_type": "text"
      },
      "source": [
        "**Q10 All Anagrams**\n",
        "\n",
        "https://app.laicode.io/app/problem/398\n",
        "\n",
        "Find all occurrence of anagrams of a given string s in a given string l. Return the list of starting indices.\n",
        "\n",
        "Assumptions\n",
        "* sh is not null or empty.\n",
        "* lo is not null.\n",
        "\n",
        "```\n",
        "l = \"abcbac\", s = \"ab\", return [0, 3]\n",
        "since the substring with length 2 starting from index 0/3 are all anagrams of \"ab\" (\"ab\", \"ba\").\n",
        "```"
      ]
    },
    {
      "cell_type": "code",
      "metadata": {
        "id": "AGfpCE_T8awn",
        "colab_type": "code",
        "colab": {}
      },
      "source": [
        "# M1\n",
        "class Solution(object):\n",
        "  def allAnagrams(self, sh, lo):\n",
        "    \"\"\"\n",
        "    input: string sh, string lo\n",
        "    return: Integer[]\n",
        "    \"\"\"\n",
        "    # write your solution here\n",
        "    res = []\n",
        "    i = 0\n",
        "    if len(lo) < len(sh):\n",
        "      return res\n",
        "    while i <= (len(lo) - len(sh)):\n",
        "      end = i + len(sh) \n",
        "      if lo[i] in sh and self.isAnagram(lo[i:end], sh):\n",
        "        res.append(i)\n",
        "      i += 1\n",
        "    return res\n",
        "  # time: O(m)\n",
        "\n",
        "  def isAnagram(self, s1, s2):\n",
        "    freqs1, freqs2 = {}, {}\n",
        "    for i in s1:\n",
        "      if i in freqs1:\n",
        "        freqs1[i] += 1\n",
        "      else:\n",
        "        freqs1[i] = 1\n",
        "    for i in s2:\n",
        "      if i in freqs2:\n",
        "        freqs2[i] += 1\n",
        "      else:\n",
        "        freqs2[i] = 1\n",
        "    for i in freqs1:\n",
        "      if i not in freqs2:\n",
        "        return False\n",
        "      if freqs1[i] != freqs2[i]:\n",
        "        return False\n",
        "    return True\n",
        "\n",
        "  # time: O(n+n+n) = o(n)\n",
        "  "
      ],
      "execution_count": 0,
      "outputs": []
    },
    {
      "cell_type": "code",
      "metadata": {
        "id": "Tmnqj6-K8s26",
        "colab_type": "code",
        "colab": {}
      },
      "source": [
        "# laioffer solution\n",
        "class Solution(object):\n",
        "  def allAnagrams(self, sh, lo):\n",
        "    \"\"\"\n",
        "    input: string sh, string lo\n",
        "    return: Integer[]\n",
        "    \"\"\"\n",
        "    # write your solution here\n",
        "    result = []\n",
        "    if not lo or not sh:\n",
        "      return result\n",
        "    if len(sh) > len(lo):\n",
        "      return result\n",
        "    # maps a dictionary of character counts\n",
        "    # when we get an instance of 'a' in lo, we let count decrement by 1\n",
        "    # only when count is from 1 to 0, we have 'a' totally matched\n",
        "    counter = self.countMap(sh)\n",
        "    # record how many distinct characters have been matched\n",
        "    # match == len(counter), we find a anagram\n",
        "    match = 0\n",
        "    # we have a sliding window of size sh.length()\n",
        "    for i in range(len(lo)):\n",
        "      letter = lo[i]\n",
        "      if letter in counter:\n",
        "        # only when the count is decremented from 1 to 0, we find additional match of distinct character\n",
        "        counter[letter] -= 1\n",
        "        if counter[letter] == 0:\n",
        "          match += 1\n",
        "      # handle the leftmost char at the prev sliding window\n",
        "      if i >= len(sh):\n",
        "        tmp = lo[i - len(sh)]\n",
        "        if tmp in counter:\n",
        "          counter[tmp] += 1\n",
        "          if counter[tmp] == 1:\n",
        "            match -= 1\n",
        "      # for current sliding window, if all distinct characters are matched\n",
        "      if match == len(counter):\n",
        "        result.append(i - len(sh) + 1)\n",
        "    return result\n",
        "\n",
        "  def countMap(self, sh):\n",
        "    dic = {}\n",
        "    for letter in sh:\n",
        "      if letter in dic:\n",
        "        dic[letter] += 1\n",
        "      else:\n",
        "        dic[letter] = 1\n",
        "    return dic\n",
        "\n",
        "# time: O(n) string lo.length\n",
        "# time: O(m) string sh.length"
      ],
      "execution_count": 0,
      "outputs": []
    },
    {
      "cell_type": "markdown",
      "metadata": {
        "id": "Ltn2GwjuCuaV",
        "colab_type": "text"
      },
      "source": [
        "**Q11 Longest Palindromic Substring**\n",
        "\n",
        "https://app.laicode.io/app/problem/252\n",
        "\n",
        "Given a string S, find the longest palindromic substring in S.\n",
        "\n",
        "Assumptions\n",
        "* There exists one unique longest palindromic substring.    \n",
        "* The input S is not null.\n",
        "\n",
        "```\n",
        "Input:   \"abbc\"\n",
        "Output:  \"bb\"\n",
        "\n",
        "Input:   \"abcbcbd\"\n",
        "Output:  \"bcbcb\"\n",
        "\n",
        "Input:   \"acbcc\"\n",
        "Output:  \"cbc\"\n",
        "```"
      ]
    },
    {
      "cell_type": "code",
      "metadata": {
        "id": "yWiOxOLCCu8B",
        "colab_type": "code",
        "colab": {
          "base_uri": "https://localhost:8080/",
          "height": 69
        },
        "outputId": "347aad3b-1fb8-45ac-b2e8-89c31dc3b6db"
      },
      "source": [
        "# M1 Loop through start options of the substring\n",
        "def longestPalindrome(input):\n",
        "    \"\"\"\n",
        "    input: string input\n",
        "    return: string\n",
        "    \"\"\"\n",
        "    # write your solution here\n",
        "    if len(input) <= 1:\n",
        "      return input\n",
        "    result = \"\"\n",
        "    for i in range(len(input) - 1): # the last one will never be\n",
        "      for j in range(len(input) - 1, i, -1): # loop backwards\n",
        "        print(input[i] + \" = \" + input[j], i, j)\n",
        "        if input[i] == input[j]:\n",
        "          start, end, palindromic = i, j, True\n",
        "          # print(input[start:end+1])\n",
        "          while start < end - 1 and palindromic:\n",
        "            start += 1\n",
        "            end -= 1\n",
        "            if input[start] != input[end]:\n",
        "              palindromic = False\n",
        "          if palindromic and (j + 1 - i) > len(result): # if longer than we have\n",
        "            result = input[i:j+1]\n",
        "            print(input[i:j+1])\n",
        "    return result\n",
        "\n",
        "longestPalindrome(\"bb\")"
      ],
      "execution_count": 43,
      "outputs": [
        {
          "output_type": "stream",
          "text": [
            "b = b 0 1\n",
            "bb\n"
          ],
          "name": "stdout"
        },
        {
          "output_type": "execute_result",
          "data": {
            "text/plain": [
              "'bb'"
            ]
          },
          "metadata": {
            "tags": []
          },
          "execution_count": 43
        }
      ]
    },
    {
      "cell_type": "code",
      "metadata": {
        "id": "_w6_arP2R06S",
        "colab_type": "code",
        "colab": {
          "base_uri": "https://localhost:8080/",
          "height": 173
        },
        "outputId": "894eb244-10e7-425f-ba17-612499cf3008"
      },
      "source": [
        "# Laioffer solution - loop and expand from center\n",
        "def longestPalindrome(input):\n",
        "  \"\"\"\n",
        "  input: string input\n",
        "  return: string\n",
        "  \"\"\"\n",
        "  # write your solution here\n",
        "  start, end = 0, 0\n",
        "  for i in range(0, len(input)):\n",
        "    len1 = expandAroundCenter(input, i, i)\n",
        "    len2 = expandAroundCenter(input, i, i + 1)\n",
        "    length = max(len1, len2)\n",
        "    if length > end - start + 1:\n",
        "      start = i - (length - 1) // 2\n",
        "      end = i + length // 2\n",
        "    print(length, start, end)\n",
        "    print(input[start:end + 1])\n",
        "  return input[start:end + 1]\n",
        "\n",
        "def expandAroundCenter(s, l, r):\n",
        "  while l >= 0 and r < len(s) and s[l] == s[r]:\n",
        "    l -= 1\n",
        "    r += 1\n",
        "  return r - l - 1\n",
        "\n",
        "longestPalindrome(\"abbc\")\n",
        "\n",
        "# time: O(n^2)\n",
        "# space: o(1)"
      ],
      "execution_count": 46,
      "outputs": [
        {
          "output_type": "stream",
          "text": [
            "1 0 0\n",
            "a\n",
            "2 1 2\n",
            "bb\n",
            "1 1 2\n",
            "bb\n",
            "1 1 2\n",
            "bb\n"
          ],
          "name": "stdout"
        },
        {
          "output_type": "execute_result",
          "data": {
            "text/plain": [
              "'bb'"
            ]
          },
          "metadata": {
            "tags": []
          },
          "execution_count": 46
        }
      ]
    },
    {
      "cell_type": "markdown",
      "metadata": {
        "id": "fVZFfT125LdY",
        "colab_type": "text"
      },
      "source": [
        "###Lists\n",
        "\n",
        "Python: List = Java: ArrayList = C++: vector<int>\n",
        "\n",
        "* Lists are mutable type\n",
        "* A list is an ordered sequence of information, accessible by index starting at 0\n",
        "* A list is denote by []\n",
        "* A list can contain elements of mixed types\n",
        "\n",
        "System: **Dynamic Array 动态数组**\n",
        "* Creation: when creating an array with default length, some extra capacity is pre-reserved\n",
        "* Addition: when we reach the capacity ~80%, the system automatically creates a new list with double length and copy existing elements 开辟的时候会有预留空间，方便之后增加新的数据。当预留空间被用时，会实现动态可调节长度。当第一个格子不够，会自动挪到新的更大的格子。会把之前的格子释放，但我们不知道什么时候\n",
        "* Example: List with length 10 [1,2,3,10,1000,111] --> when almost reach limit 8, the computer will use its RAM/Disk to create a list with double length 20, copying the existing ones into there [1_ 2_ 3_ 10_ 1000_ 111_]\n",
        "* Resize: when removing elements and found that the usage is less than n% of the allocated memory, will automatically resize the list\n"
      ]
    },
    {
      "cell_type": "code",
      "metadata": {
        "id": "5HaYG0YV0Ll_",
        "colab_type": "code",
        "outputId": "db28cb81-17dd-4ebe-9db2-a890de08bb73",
        "colab": {
          "base_uri": "https://localhost:8080/",
          "height": 86
        }
      },
      "source": [
        "lst1 = []                     # initialize an empty list\n",
        "print(type(lst1))             # class 'List'\n",
        "\n",
        "lst2 = [1, 2, 3, 4]           # create a list with same data type values\n",
        "print(lst2)\n",
        "\n",
        "lst3 = ['one', 2, 'three', 4] # create a list with different data type values\n",
        "print(lst3)\n",
        "\n",
        "lst2[2] = 100                 # list is mutable\n",
        "print(lst2)"
      ],
      "execution_count": 0,
      "outputs": [
        {
          "output_type": "stream",
          "text": [
            "<class 'list'>\n",
            "[1, 2, 3, 4]\n",
            "['one', 2, 'three', 4]\n",
            "[1, 2, 100, 4]\n"
          ],
          "name": "stdout"
        }
      ]
    },
    {
      "cell_type": "code",
      "metadata": {
        "id": "IUdkO-VZ3bq-",
        "colab_type": "code",
        "outputId": "6f501612-d133-4aee-ccdf-f0759e25c7c6",
        "colab": {
          "base_uri": "https://localhost:8080/",
          "height": 52
        }
      },
      "source": [
        "lst = [1,2,3,4,5]\n",
        "#Add list\n",
        "lst.append(6)          #append one element [1,2,3,4,5,6]\n",
        "lst.extend([3,4])      #append one list [1,2,3,4,5,6,3,4]\n",
        "lst.insert(2,7)\n",
        "#lst.index(x[,start[,end]]) \n",
        "lst.count(2)           #count number of items x appear\n",
        "lst.sort()             #mutates the original string\n",
        "lst2 = sorted(lst)     #returns sorted, does not mutates\n",
        "lst.reverse()          #mutates L\n",
        "lst.copy()             #equivalent of a[:]\n",
        "print(len(lst2))       #length of list"
      ],
      "execution_count": 0,
      "outputs": [
        {
          "output_type": "stream",
          "text": [
            "2\n",
            "[6, 3, 7, 4]\n"
          ],
          "name": "stdout"
        }
      ]
    },
    {
      "cell_type": "code",
      "metadata": {
        "id": "_pS5G1N8D0rK",
        "colab_type": "code",
        "outputId": "3a67037f-3b33-492b-8d57-4f0766a00576",
        "colab": {
          "base_uri": "https://localhost:8080/",
          "height": 52
        }
      },
      "source": [
        "# Combine lists\n",
        "L1 = [2,1,3]\n",
        "L2 = [4,5,6]\n",
        "L3 = L1 + L2   #concadenation\n",
        "print(L3)\n",
        "L1.extend(L2)  #append one list\n",
        "print(L1)"
      ],
      "execution_count": 0,
      "outputs": [
        {
          "output_type": "stream",
          "text": [
            "[2, 1, 3, 4, 5, 6]\n",
            "[2, 1, 3, 4, 5, 6]\n"
          ],
          "name": "stdout"
        }
      ]
    },
    {
      "cell_type": "code",
      "metadata": {
        "id": "acdpqaiTDmVq",
        "colab_type": "code",
        "colab": {}
      },
      "source": [
        "lst = [1,2,3,4,5]\n",
        "# Delete \n",
        "del(lst[0])         #delete an index [2, 3, 4, 5]\n",
        "lst.pop()           #remove last element and returns it [2, 3, 4]\n",
        "lst.pop(1)          #delete by index 数据结构角度 [2, 4]\n",
        "lst.remove(2 )      #delete by value, only the first occurence [4]\n",
        "lst = [1,2,3,4,5]\n",
        "del(lst[1],lst[3])  #[1, 3, 4]\n",
        "del lst[1]          #detele by index 内存角度 [1,4]\n",
        "del lst[:]          #remove all items []\n",
        "lst.clear()         #remove all items"
      ],
      "execution_count": 0,
      "outputs": []
    },
    {
      "cell_type": "code",
      "metadata": {
        "id": "X_o-9_BqEl0n",
        "colab_type": "code",
        "colab": {}
      },
      "source": [
        "#Using lists as stacks\n",
        "stack = [3,4,5]\n",
        "stack.append(6)\n",
        "stack.append(7)\n",
        "stack.pop() #6 retrieve from top of the stack\n",
        "stack.pop() #5\n",
        "stack\n",
        "\n",
        "#Using lists as queues\n",
        "from collections import deque\n",
        "queue = deque([\"Eric\", \"John\", \"Michael\"])\n",
        "queue.append(\"Terry\")  #Terry arrives\n",
        "queue.popleft()        #'Eric', The first to arrive now leaves\n",
        "queue.popleft()        #'John' The second leaves\n",
        "queue"
      ],
      "execution_count": 0,
      "outputs": []
    },
    {
      "cell_type": "code",
      "metadata": {
        "id": "4T4xLKXtLv2T",
        "colab_type": "code",
        "outputId": "fb94dab3-9410-4352-f465-9d6dcf07f6ef",
        "colab": {
          "base_uri": "https://localhost:8080/",
          "height": 271
        }
      },
      "source": [
        "# (Advanced)Deep Copy \n",
        "# By using this way, lst3 is a deep copy of lst2\n",
        "# When changing one of the value of lst3, the lst2 will not be changed\n",
        "lst3 = lst2[:] # copy\n",
        "lst3[0] = 'lst3'\n",
        "print(lst3)\n",
        "print(lst2) #lst2 unchanged\n",
        "\n",
        "lst4 = lst2.copy() # copy\n",
        "lst4[0] = 'lst4'\n",
        "print(lst4)\n",
        "print(lst2) #lst2 unchanged\n",
        "\n",
        "lst5 = lst2 # reference\n",
        "lst5[0] = 'lst2'\n",
        "print(lst5)\n",
        "print(lst2) #lst2 changed\n",
        "\n",
        "lst2[0] = ['this', 'is', 'nested', 'list'] # put a list into a list\n",
        "print(lst2) # original list\n",
        "\n",
        "# (Advanced+) shallow vs deep copy \n",
        "lst6 = lst2[:]\n",
        "lst6[0][2] = 'magic'\n",
        "print('Shallow Copy original list: ')\n",
        "print(lst2) # original list\n",
        "print(lst6)\n",
        "\n",
        "import copy\n",
        "lst2[0] = ['this', 'is', 'nested', 'list'] # put a list into a list\n",
        "lst6 = copy.deepcopy(lst2)\n",
        "lst6[0][2] = 'magic'\n",
        "print('Deep Copy original copy:')\n",
        "print('lst2: ' + str(lst2)) # original list\n",
        "print('lst6: ' + str(lst6)) \n",
        "\n",
        "#Example\n",
        "a = [1, 22]\n",
        "b = a[:]\n",
        "b[0] = 3\n",
        "\n",
        "print(a)"
      ],
      "execution_count": 0,
      "outputs": [
        {
          "output_type": "stream",
          "text": [
            "[['this', 'is', 'nested', 'list'], 2, 100, 4]\n",
            "['lst3', 2, 100, 4]\n",
            "[['this', 'is', 'nested', 'list'], 2, 100, 4]\n",
            "['lst4', 2, 100, 4]\n",
            "[['this', 'is', 'nested', 'list'], 2, 100, 4]\n",
            "['lst2', 2, 100, 4]\n",
            "['lst2', 2, 100, 4]\n",
            "[['this', 'is', 'nested', 'list'], 2, 100, 4]\n",
            "[['this', 'is', 'magic', 'list'], 2, 100, 4]\n",
            "[['this', 'is', 'magic', 'list'], 2, 100, 4]\n",
            "Deep Copy original copy:\n",
            "lst2: [['this', 'is', 'nested', 'list'], 2, 100, 4]\n",
            "lst6: [['this', 'is', 'magic', 'list'], 2, 100, 4]\n",
            "[1, 22]\n"
          ],
          "name": "stdout"
        }
      ]
    },
    {
      "cell_type": "code",
      "metadata": {
        "id": "3CACKQfUDKMr",
        "colab_type": "code",
        "outputId": "e054f1f7-add0-4ac6-f775-b707acd3ab32",
        "colab": {
          "base_uri": "https://localhost:8080/",
          "height": 121
        }
      },
      "source": [
        "# Loop\n",
        "lst = [1,2,3,4,5]\n",
        "for var in lst:\n",
        "  print(var)\n",
        "lst2 = [1,2]\n",
        "res = []\n",
        "for i in range(len(lst2)):\n",
        "  res.append(lst[i] + lst2[i])\n",
        "print(res)"
      ],
      "execution_count": 0,
      "outputs": [
        {
          "output_type": "stream",
          "text": [
            "1\n",
            "2\n",
            "3\n",
            "4\n",
            "5\n",
            "[2, 4]\n"
          ],
          "name": "stdout"
        }
      ]
    },
    {
      "cell_type": "markdown",
      "metadata": {
        "id": "s4aKfipipd4g",
        "colab_type": "text"
      },
      "source": [
        "**Slicing**"
      ]
    },
    {
      "cell_type": "code",
      "metadata": {
        "id": "VrVGJGgC58wC",
        "colab_type": "code",
        "outputId": "7f770877-9a63-4701-d150-6c6dc490b5a3",
        "colab": {
          "base_uri": "https://localhost:8080/",
          "height": 235
        }
      },
      "source": [
        "print(lst2[0])  # list indexing\n",
        "print(lst2[-1]) # negative index, access from end of list\n",
        "\n",
        "lst = range(6)  # create an list of numbers using built-in function range\n",
        "print(type(lst))# class 'range'\n",
        "\n",
        "lst = list(lst) # change to list\n",
        "print(type(lst))# class 'list'\n",
        "\n",
        "# [start(inclusive) : end(exclusive) : step]\n",
        "print(lst)      # [0, 1, 2, 3, 4, 5]\n",
        "print(lst[0:6]) # index from 0 to 5, [0, 1, 2, 3, 4, 5]\n",
        "print(lst[1:])  # index from 1 to the end, [1, 2, 3, 4, 5]\n",
        "print(lst[:4])  # index from start to 4, [0, 1, 2, 3]\n",
        "print(lst[:])   # the whole list, [0, 1, 2, 3, 4, 5]\n",
        "print(lst[:-1]) # negative index slicing, [0, 1, 2, 3, 4]\n",
        "print(lst[-1:]) # negative index slicing, [5]\n",
        "print(lst[::2]) # change index step to 2, [0, 2, 4]\n",
        "print(lst[::-1])# reverse order, [5, 4, 3, 2, 1, 0], common usage\n",
        "\n",
        "lst[2:4] = [3, 2] # modify the values by slicing\n",
        "print(lst)        # [0, 1, 3, 2, 4, 5]\n",
        "print(lst[0:6:2]) # [0, 3, 4]\n",
        "\n",
        "ss = 'Hello World!' # initialize a string\n",
        "print(ss)\n",
        "print(ss[:])   # the whole list\n",
        "print(ss[1:3]) # index from 1 to 2. \"el\""
      ],
      "execution_count": 0,
      "outputs": [
        {
          "output_type": "stream",
          "text": [
            "<class 'range'>\n",
            "<class 'list'>\n",
            "[0, 1, 2, 3, 4, 5]\n",
            "[0, 1, 2, 3, 4, 5]\n",
            "[1, 2, 3, 4, 5]\n",
            "[0, 1, 2, 3]\n",
            "[0, 1, 2, 3, 4, 5]\n",
            "[0, 1, 2, 3, 4]\n",
            "[5]\n",
            "[0, 2, 4]\n",
            "[5, 4, 3, 2, 1, 0]\n",
            "[0, 1, 3, 2, 4, 5]\n"
          ],
          "name": "stdout"
        }
      ]
    },
    {
      "cell_type": "markdown",
      "metadata": {
        "id": "jZTphP3Spw9-",
        "colab_type": "text"
      },
      "source": [
        "**Looping**\n"
      ]
    },
    {
      "cell_type": "code",
      "metadata": {
        "id": "ZSpQ3zyL-OO6",
        "colab_type": "code",
        "outputId": "0e3836e6-e00f-4344-ea39-a9e879271008",
        "colab": {
          "base_uri": "https://localhost:8080/",
          "height": 90
        }
      },
      "source": [
        "# basic loop\n",
        "skills = ['ML', 'Stat', 'Coding', 'Business']\n",
        "for skill in skills:\n",
        "  print(skill)"
      ],
      "execution_count": 0,
      "outputs": [
        {
          "output_type": "stream",
          "text": [
            "ML\n",
            "Stat\n",
            "Coding\n",
            "Business\n"
          ],
          "name": "stdout"
        }
      ]
    },
    {
      "cell_type": "code",
      "metadata": {
        "id": "Yug35Gu5CG93",
        "colab_type": "code",
        "outputId": "6ec0a48e-aaa8-49a7-88d4-03a45afc5dc6",
        "colab": {
          "base_uri": "https://localhost:8080/",
          "height": 90
        }
      },
      "source": [
        "# enumerate, bind index with list element\n",
        "# [(0, 'ML'), (1, 'Stat')..]\n",
        "skills = ['ML', 'Stat', 'Coding', 'Business']\n",
        "for idx, skill in enumerate(skills):\n",
        "  print('{idx_} : {skill_}'.format(skill_ = skill, idx_ = idx))"
      ],
      "execution_count": 0,
      "outputs": [
        {
          "output_type": "stream",
          "text": [
            "0 : ML\n",
            "1 : Stat\n",
            "2 : Coding\n",
            "3 : Business\n"
          ],
          "name": "stdout"
        }
      ]
    },
    {
      "cell_type": "code",
      "metadata": {
        "id": "z5wViKNMCww7",
        "colab_type": "code",
        "outputId": "f5e1208d-65e5-47e0-db50-12153e575efd",
        "colab": {
          "base_uri": "https://localhost:8080/",
          "height": 72
        }
      },
      "source": [
        "# list comprehension\n",
        "nums = list(range(6))\n",
        "print(nums)\n",
        "\n",
        "lst = [x ** 2 for x in nums]\n",
        "print(lst)\n",
        "\n",
        "# same as list comprehension\n",
        "lst_temp = []\n",
        "for x in nums:\n",
        "  lst_temp.append(x ** 2)\n",
        "print(lst_temp)"
      ],
      "execution_count": 0,
      "outputs": [
        {
          "output_type": "stream",
          "text": [
            "[0, 1, 2, 3, 4, 5]\n",
            "[0, 1, 4, 9, 16, 25]\n",
            "[0, 1, 4, 9, 16, 25]\n"
          ],
          "name": "stdout"
        }
      ]
    },
    {
      "cell_type": "code",
      "metadata": {
        "id": "JHk6UvC-Zk__",
        "colab_type": "code",
        "colab": {}
      },
      "source": [
        "#M1\n",
        "[(x,y) for x in [1,2,3] for y in [3,1,4] if x!=y]\n",
        "#M2\n",
        "combs = []\n",
        "for x in [1,2,3]:\n",
        "  for y in [3,1,4]:\n",
        "    if x != y:\n",
        "      combs.append((x,y))\n",
        "\n",
        "vec = [-4, -2, 4]\n",
        "[x*2 for x in vec]         #create new list with values doubled\n",
        "[x for x in vec if x >= 0] #filter to exclude negatives\n",
        "[abs(x) for x in vec]      #apply function to all elements\n",
        "\n",
        "l1 = [2,1,3]\n",
        "l2 = [4,5,6]\n",
        "res = []\n",
        "for i in range(len(l1)):\n",
        "  res.append(l1[i]+l2[i])\n",
        "print (res)                 #res has three elements\n",
        "\n",
        "l1 = [2,1]\n",
        "l2 = [4,5,6]\n",
        "l3 = l1 + l2  \n",
        "res = []\n",
        "for i in range(len(l1)):\n",
        "  res.append(l1[i]+l2[i])\n",
        "print (res)                  #res only has two elements\n",
        "\n",
        "l1 = [2,1,3,4]\n",
        "l2 = [4,5,6]\n",
        "res = []\n",
        "for i in range(len(l1)):\n",
        "  res.append(l1[i]+l2[i])\n",
        "print res                   #error"
      ],
      "execution_count": 0,
      "outputs": []
    },
    {
      "cell_type": "markdown",
      "metadata": {
        "id": "SAAZ2d7CpUJO",
        "colab_type": "text"
      },
      "source": [
        "### **Dictionary**\n",
        "\n",
        "{key: value} \n",
        "\n",
        "key-value pairs"
      ]
    },
    {
      "cell_type": "code",
      "metadata": {
        "id": "Ugbee1XSHcrQ",
        "colab_type": "code",
        "outputId": "be30745e-7d58-444e-f1f6-6029da4605e0",
        "colab": {
          "base_uri": "https://localhost:8080/",
          "height": 144
        }
      },
      "source": [
        "skills = ['ML', 'Stat', 'Coding', 'Business']\n",
        "scores = [90, 80, 1, 59]\n",
        "\n",
        "print(scores[skills.index('Coding')])\n",
        "\n",
        "score_dict = {'ML': 90, 'Stat': 80, 'Coding': 1, 'Business': 59} # create a dictionary\n",
        "print(score_dict['ML']) # get ML score\n",
        "print('Stat' in score_dict) # check if 'Stat' in the dictionary\n",
        "\n",
        "score_dict['Spark'] = 70 # Add a new key-value pair to the dictionary\n",
        "print(score_dict['Spark'])\n",
        "\n",
        "print(\"current score: %d\" % score_dict['Coding'])\n",
        "score_dict['Coding'] = 100 # Modify the existing value in the dictionary\n",
        "print(\"afterwards: \" + str(score_dict['Coding']))\n",
        "\n",
        "score_dict.pop('Spark')"
      ],
      "execution_count": 0,
      "outputs": [
        {
          "output_type": "stream",
          "text": [
            "1\n",
            "90\n",
            "True\n",
            "70\n",
            "current score: 1\n",
            "afterwards: 100\n"
          ],
          "name": "stdout"
        },
        {
          "output_type": "execute_result",
          "data": {
            "text/plain": [
              "70"
            ]
          },
          "metadata": {
            "tags": []
          },
          "execution_count": 18
        }
      ]
    },
    {
      "cell_type": "code",
      "metadata": {
        "id": "-iWEzW5EO4X1",
        "colab_type": "code",
        "outputId": "b155497e-1900-43a5-fefd-e298edbdc560",
        "colab": {
          "base_uri": "https://localhost:8080/",
          "height": 72
        }
      },
      "source": [
        "# dictionary comprehension\n",
        "num_dict={x: x**2 if x % 2 == 0 else x for x in range(6)} # create dictionary\n",
        "\n",
        "# for x in range(6):\n",
        "#   if x%2 == 0:\n",
        "#     x ** 2\n",
        "#   else:\n",
        "#     x\n",
        "\n",
        "print(num_dict)\n",
        "print(num_dict.values)\n",
        "print(num_dict[4])"
      ],
      "execution_count": 0,
      "outputs": [
        {
          "output_type": "stream",
          "text": [
            "{0: 0, 1: 1, 2: 4, 3: 3, 4: 16, 5: 5}\n",
            "<built-in method values of dict object at 0x7f6a2a5e77e0>\n",
            "16\n"
          ],
          "name": "stdout"
        }
      ]
    },
    {
      "cell_type": "code",
      "metadata": {
        "id": "HOIo9N4QR3Lr",
        "colab_type": "code",
        "outputId": "9cb7dad3-ab10-4292-a08b-71346afcae1b",
        "colab": {
          "base_uri": "https://localhost:8080/",
          "height": 90
        }
      },
      "source": [
        "# loop over dictionary\n",
        "for skill in score_dict.values():\n",
        "  print(skill)\n",
        "  \n",
        "#   score = score_dict[skill]\n",
        "#   print(\"{} : {}\".format(skill, score))"
      ],
      "execution_count": 0,
      "outputs": [
        {
          "output_type": "stream",
          "text": [
            "90\n",
            "80\n",
            "100\n",
            "59\n"
          ],
          "name": "stdout"
        }
      ]
    },
    {
      "cell_type": "code",
      "metadata": {
        "id": "my-CIjwtaRVq",
        "colab_type": "code",
        "outputId": "c049ec31-aac4-4e80-ff65-d40d21d3b1de",
        "colab": {
          "base_uri": "https://localhost:8080/",
          "height": 35
        }
      },
      "source": [
        "def search(dic, target):\n",
        "    \"\"\"\n",
        "    input: Dictionary dic, int target\n",
        "    return: int\n",
        "    \"\"\"\n",
        "    # write your solution here\n",
        "    i = 0\n",
        "    while dic.get(i) != None:\n",
        "      if dic.get(i) == target:\n",
        "        return i\n",
        "      i += 1\n",
        "\n",
        "print(search(num_dict, 4))"
      ],
      "execution_count": 0,
      "outputs": [
        {
          "output_type": "stream",
          "text": [
            "2\n"
          ],
          "name": "stdout"
        }
      ]
    },
    {
      "cell_type": "markdown",
      "metadata": {
        "id": "190Qujx2Zq_E",
        "colab_type": "text"
      },
      "source": [
        "###Hashtable \n",
        "\n",
        "General\n",
        "* python里的字典 Map = hashmap = hashtable = dictionary\n",
        "* dictionary = A data structure stores pairs of data (key + value), one to one mapping = an implementation of a hashtable\n",
        "* hash_table is a <key, value> pair, key map to value\n",
        "* hash_set is a set {1,3}, only contains keys\n",
        "\n",
        "Requirements\n",
        "* Values\n",
        " * any type (immutable and mutable)\n",
        " * can be duplicates\n",
        " * can be a list or another dictionary\n",
        "* Keys\n",
        " * must be unique\n",
        " * immutable type\n",
        "NOTE: no order to keys or values\n"
      ]
    },
    {
      "cell_type": "markdown",
      "metadata": {
        "id": "6hPeV1MtURp3",
        "colab_type": "text"
      },
      "source": [
        "\n",
        "**How to construct a dictionary: mapping**\n",
        "\n",
        "How to convert any key into a valid index? \n",
        "* Key: any type (string, value, object);\n",
        "* index: integer(0 to n)\n",
        "* Solution: hash function = Given a key, the hash function can compute an integer from key, called a hash number\n",
        "\n",
        "Steps\n",
        "* S1 key->index. 会发生 hash(string1) = hash(string2) 但可能性非常小 （e.g. hash(\"Ling\") = 1234567890）\n",
        "* S1.5: index = hash_number % list_length 会发生 index1 = index2 更大可能性。增加length可以减少可能性 (e.g. 10)\n",
        "* S2 list[hash number] = 'value1'\n",
        "\n",
        "Problems\n",
        "* P1: Hash value is usually a huge number (to avoid duplicates), but list length is fixed. How to get a reasonable index value?\n",
        " * M1: index = hash_number % array.length will be always smaller than list.length -> eg 121%10 = 1 -> store in list[1]\n",
        "* P2: collision, using % mod might have duplicates. e.g. 131%10 = 1\n",
        " * M1: open addressing 开地址法，往后存. e.g. 先进121, 122... -> not efficient, because have to push back until find one empty spot\n",
        " * M2: LinkedList 链表法. If collision, store in the same index but after a Linked list node -> but, worst case still O(n)\n",
        "\n",
        "Final version\n",
        " * S0 build a list, list size N, index = [0, N)\n",
        " * S1 use key to calculate hash number = hash(key), maybe chance for collision, but very small: hash(key1) = 12345; hash(key2) = 123457\n",
        " * S2 index = hash_number % N -> high prob for collision, prob depends on N: index = 121 % 10, index = 131 % 10\n",
        " * S3.1 if no collision, array[index] = value\n",
        " * S3.2 if collision. 链表法或开地址法\n",
        " "
      ]
    },
    {
      "cell_type": "markdown",
      "metadata": {
        "id": "UjvNe77-bddf",
        "colab_type": "text"
      },
      "source": [
        "**How to construct a dictionary: reading key**\n",
        "\n",
        "* S0: input key, use hash function to calculate hash_number = hash(key) -> idempotent 幂等 = the property of certain operations in mathematics and computer science whereby they can be applied multiple times without changing the result\n",
        "* S1: index = hash_number % N (list.length)\n",
        "* S2: Read in list[index]\n",
        " * check if there is only one value: return value\n",
        " * if more than one: traverse through Linkedlist \n",
        " \n",
        "time: O(1)  worst case O(n)\n",
        "\n",
        "space: N(list_length) = 系数(calculated) * O(dic_data_size) = O(dic_data_size)\n"
      ]
    },
    {
      "cell_type": "code",
      "metadata": {
        "id": "spAkhxsLZtn5",
        "colab_type": "code",
        "outputId": "2c6ab18a-c8d3-404e-b955-34bd67dafe93",
        "colab": {
          "base_uri": "https://localhost:8080/",
          "height": 104
        }
      },
      "source": [
        "# Create - O(1), O(n)\n",
        "my_dict = {}\n",
        "grades = {'Ana':'B', 'John':'A', 'Denise': 'A', 'Katy':'C'}\n",
        "grades2 = {'Ana':'B', 'Ana':'A', 'Denise': 'A', 'Katy':'C'} # Overlapped, Ana = A\n",
        "\n",
        "# Look-up - O(1), O(n)\n",
        "grades['John']              #returns KeyError if not found\n",
        "\n",
        "# How to avoid KeyError\n",
        "grades.get('Sylvan', 'N/A') #N/A\n",
        "grades.get('John', 'F')     #'A'\n",
        "name = 'Katy'               #If not found, don't print\n",
        "if name in grades:\n",
        "  print(grades[name])\n",
        "\n",
        "# Add and update - O(1), O(n)\n",
        "grades['Sylvan'] = 'A'\n",
        "grades['John'] = 'B'\n",
        "\n",
        "# Delete  - O(1), O(n)\n",
        "del grades['Ana']         #M1 removes\n",
        "grades.pop('John')        #M2 removes and returns\n",
        "grades.pop('John', None)  # remove and no error if doesn't exist\n",
        "\n",
        "# Check if key in dictionary  - O(1), O(n)\n",
        "'John' in grades      #true\n",
        "'Daniel' in grades    #false\n",
        "\n",
        "# get all keys\n",
        "grades.keys()         #unsorted list, dict_keys(['John', 'Denise', 'Katy', 'Sylvan']), used as generator, not ordered\n",
        "list(grades.keys())   #get a list of keys\n",
        "for key in grades.keys():\n",
        "  print(key)\n",
        "\n",
        "# get all values\n",
        "grades.values()       #py2: unsorted list ['A', 'A', 'B', 'C']\n",
        "grades.values()       #py3: dict_keys(['A', 'B', 'C', 'A'])\n",
        "\n",
        "# get key-value pairs\n",
        "grades.items()        #py2: [('John', 'B'), ('Denise', 'A'), ('Katy', 'C'), ('Sylvan', 'A')]\n",
        "grades.items()        #py3: dict_items([('John', 'B'), ('Denise', 'A'), ('Katy', 'C'), ('Sylvan', 'A')])\n"
      ],
      "execution_count": 0,
      "outputs": [
        {
          "output_type": "stream",
          "text": [
            "C\n",
            "Denise\n",
            "Katy\n",
            "Sylvan\n"
          ],
          "name": "stdout"
        },
        {
          "output_type": "execute_result",
          "data": {
            "text/plain": [
              "dict_items([('Denise', 'A'), ('Katy', 'C'), ('Sylvan', 'A')])"
            ]
          },
          "metadata": {
            "tags": []
          },
          "execution_count": 2
        }
      ]
    },
    {
      "cell_type": "markdown",
      "metadata": {
        "id": "LTwYiDbYcnfx",
        "colab_type": "text"
      },
      "source": [
        "**List vs Dictionary**\n",
        "\n",
        "List\n",
        "* ordered sequence of elements\n",
        "* look up elements by an integer index\n",
        "* indices have an order\n",
        "* index is an integer\n",
        "* Search by value: O(n)\n",
        "* Search by index: O(1)\n",
        "* Add with append(): O(1)\n",
        "* Add at index: O(n)\n",
        "* Delete with pop(): O(1)\n",
        "* Delete at index: O(n)\n",
        "* Update by value: O(n)\n",
        "* Update by index: O(1)\n",
        "\n",
        "Dictionary\n",
        "* matches keys to values\n",
        "* look up one item by key\n",
        "* no order is guaranteed\n",
        "* key can be any immutable type\n",
        "* Search by value: O(n)\n",
        "* Search by key: O(1)\n",
        "* Add: O(1)\n",
        "* Delete: O(1)\n",
        "* Update: O(1)\n",
        "\n"
      ]
    },
    {
      "cell_type": "markdown",
      "metadata": {
        "id": "tgRFtWixnPyP",
        "colab_type": "text"
      },
      "source": [
        "**Q1 Compute the word frequencies in a given chunk of text msgs**\n"
      ]
    },
    {
      "cell_type": "code",
      "metadata": {
        "id": "HpRgVo7BUTJi",
        "colab_type": "code",
        "colab": {}
      },
      "source": [
        "# M1 Using a list\n",
        "words = ['abc', 'abc', 'bac', 'cba']\n",
        "count_words = []\n",
        "count_num = []\n",
        "for word in words:\n",
        "  if word not in count_words: #O(n)\n",
        "    count_words.append(word)\n",
        "    count_num.append(1)\n",
        "  else:\n",
        "    for i in range(len(count_words)): #O(n)\n",
        "      if word == count_words[i]:\n",
        "        count_num[i] += 1\n",
        "\n",
        "for i in range(len(count_words)):\n",
        "  print(count_words[i], count_num[i])\n",
        "\n",
        "# time: O(2n^2) = O(n^2)\n",
        "# space: O(2n) = O(n)"
      ],
      "execution_count": 0,
      "outputs": []
    },
    {
      "cell_type": "code",
      "metadata": {
        "id": "Q18oadtidtpl",
        "colab_type": "code",
        "outputId": "18257603-7b0c-4e51-f0c0-4db1be610456",
        "colab": {
          "base_uri": "https://localhost:8080/",
          "height": 86
        }
      },
      "source": [
        "# M2 hashtable\n",
        "def words_to_frequencies(words):\n",
        "  freqs = {}\n",
        "  for word in words:\n",
        "    if word in freqs:  #O(1)\n",
        "      freqs[word] += 1\n",
        "    else:\n",
        "      freqs[word] = 1\n",
        "    print (freqs)\n",
        "  return freqs\n",
        "\n",
        "# time: O(n)\n",
        "# space: O(n)\n",
        "\n",
        "words = ['abc', 'abc', 'cba']\n",
        "words_to_frequencies(words)"
      ],
      "execution_count": 0,
      "outputs": [
        {
          "output_type": "stream",
          "text": [
            "{'abc': 1}\n",
            "{'abc': 2}\n",
            "{'abc': 2, 'cba': 1}\n"
          ],
          "name": "stdout"
        },
        {
          "output_type": "execute_result",
          "data": {
            "text/plain": [
              "{'abc': 2, 'cba': 1}"
            ]
          },
          "metadata": {
            "tags": []
          },
          "execution_count": 6
        }
      ]
    },
    {
      "cell_type": "markdown",
      "metadata": {
        "id": "iHjGji7fnZ_s",
        "colab_type": "text"
      },
      "source": [
        "**Q2 Most common word in a frequency dictionary**"
      ]
    },
    {
      "cell_type": "code",
      "metadata": {
        "id": "yOtOBQi6eRlq",
        "colab_type": "code",
        "colab": {}
      },
      "source": [
        "def most_common_words(freqs):\n",
        "  best = max(freqs.values()) #O(n)\n",
        "  words = []\n",
        "  for word, count in freqs.items():\n",
        "    if count == best:\n",
        "      words.append(word)\n",
        "  return (word, best)"
      ],
      "execution_count": 0,
      "outputs": []
    },
    {
      "cell_type": "markdown",
      "metadata": {
        "id": "sW7r2i8MicZY",
        "colab_type": "text"
      },
      "source": [
        "**How to design a simple hash function?**\n",
        "* hash(string) -> hash_number\n",
        "* (string[0] - 'a')*26^1 + (string[1] - 'a')*26^2 ... + (string[n] - 'a')*26^(n+1)  26进制转换\n",
        "* key = 'abc'  hash(key) = 0*26 + 1*26^2 + 2*26^3\n",
        " \n",
        "**Hashing** = to distribute the entries (key/value pairs) across an array of buckets. Given a key, the algorithm computes an index that suggests where the entry can be found.\n",
        "\n",
        "* Given an elem x in a list, O(n) to find location of x\n",
        "\n",
        "* Given a key x in a hashtable, O(1) on average to find value\n",
        "\n",
        "**Back scenes**\n",
        "\n",
        "hash = hashfunc(key)  #internal function that returns an integer. Note two keys may return same value\n",
        "\n",
        "index = hash % array_size  #index range [0, array_size-1)\n",
        "\n",
        "NOTE: even though the hashfunc is perfect, the index step may return duplicates\n",
        "\n",
        "C1: given two keys, x!= y, hash(x) == hash(y) --> collision\n",
        "1. open addressing = if key already used, use the next closest key\n",
        "2. separate chaining = create overflow entries for the duplicates\n",
        "\n",
        "**Time complexity**\n",
        "\n",
        "* Operation  avg  worst\n",
        "\n",
        "* Search/Add/Delete/Update      O(1)   O(n)\n",
        "\n",
        "\n",
        "**Dictionary Comprehension**\n",
        "\n",
        "* Similar to list comprehension\n",
        "\n",
        "* Change [] to {}\n",
        "\n",
        "{key:value for value in collection if condition}"
      ]
    },
    {
      "cell_type": "markdown",
      "metadata": {
        "id": "XN0gKKWAbP3k",
        "colab_type": "text"
      },
      "source": [
        "\n",
        "**Set = Simplified HashTable**\n",
        "my_Set = {key1, key2, key3}\n",
        "* a dictionary with only keys, valeus are all default: my_Set = {key1: default, key2: default, key3: default}"
      ]
    },
    {
      "cell_type": "code",
      "metadata": {
        "id": "O47t6v3eiRLw",
        "colab_type": "code",
        "outputId": "fce8dcfb-7894-4c73-b454-00f532896a52",
        "colab": {
          "base_uri": "https://localhost:8080/",
          "height": 35
        }
      },
      "source": [
        "# Dictionary implementation\n",
        "\n",
        "# Q1 Count word frequencies for TF-IDF\n",
        "def words_to_frequencies(words):\n",
        "  myDict = {}\n",
        "  for word in words:\n",
        "    if word in myDict:\n",
        "      myDict[word] += 1\n",
        "    else:\n",
        "      myDict[word] = 1\n",
        "  return myDict\n",
        "\n",
        "# Q2: Most common words\n",
        "def most_common_words(freqs):\n",
        "  values = freqs.values()\n",
        "  best = max(values)\n",
        "  words = [\n",
        "      key\n",
        "      for key, val in freqs.items()\n",
        "      if val == best\n",
        "  ] #list comprehension\n",
        "  return (words, best)\n",
        "\n",
        "# Q3： second most common\n",
        "# use heap\n",
        "\n",
        "\n",
        "# Q4: Combine Caps\n",
        "mydic = {'a':10, 'b': 34, 'A':7, 'Z':3}\n",
        "new_mydic = {\n",
        "    k.lower(): mydic.get(k.lower(), 0) + mydic.get(k.upper(), 0)\n",
        "    for k in mydic.keys()\n",
        "}\n",
        "print(new_mydic)\n",
        "# note: duplicates overide\n",
        "\n",
        "\n",
        "# Q5: Exchange keys and values (no duplicates in values)\n",
        "mydic = {'a':10, 'b':34}\n",
        "new_mydic = {\n",
        "    v:k\n",
        "    for k, v in mydic.items()\n",
        "}\n"
      ],
      "execution_count": 0,
      "outputs": [
        {
          "output_type": "stream",
          "text": [
            "{'a': 17, 'b': 34, 'z': 3}\n"
          ],
          "name": "stdout"
        }
      ]
    },
    {
      "cell_type": "markdown",
      "metadata": {
        "id": "evIM8TwOjAv7",
        "colab_type": "text"
      },
      "source": [
        "**Q5 Common Numbers of Two Arrays (array)**\n",
        "https://app.laicode.io/app/problem/650\n",
        "\n",
        "Find all numbers that appear in both of the two unsorted arrays, return the common numbers in increasing order.\n"
      ]
    },
    {
      "cell_type": "code",
      "metadata": {
        "id": "F3dCt7tQjK62",
        "colab_type": "code",
        "colab": {}
      },
      "source": [
        "# M1\n",
        "class Solution(object):\n",
        "\n",
        "  def common(self, a, b):\n",
        "    \"\"\"\n",
        "    input: int[] a, int[] b\n",
        "    return: Integer[]\n",
        "    \"\"\"\n",
        "    # write your solution here\n",
        "    res = []\n",
        "    a = self.merge_sort(a)\n",
        "    for num in a:\n",
        "      for i in b:\n",
        "        if num == i:\n",
        "          res.append(i)\n",
        "          break\n",
        "    return res\n",
        "\n",
        "  def merge(self, array1, array2):\n",
        "    i = j = 0\n",
        "    results = []\n",
        "    while i < len(array1) and j < len(array2):\n",
        "      if array1[i] < array2[j]:\n",
        "        results.append(array1[i])\n",
        "        i += 1\n",
        "      else:\n",
        "        results.append(array2[j])\n",
        "        j += 1\n",
        "    while i < len(array1):\n",
        "      results.append(array1[i])\n",
        "      i += 1\n",
        "    while j < len(array2):\n",
        "      results.append(array2[j])\n",
        "      j += 1\n",
        "    return results\n",
        "\n",
        "  def merge_sort(self, array):\n",
        "    if len(array) <= 1 or array == None:\n",
        "      return array\n",
        "    middle = int(len(array) / 2)\n",
        "    left = self.merge_sort(array[:middle])\n",
        "    right = self.merge_sort(array[middle:])\n",
        "    return self.merge(left, right)"
      ],
      "execution_count": 0,
      "outputs": []
    },
    {
      "cell_type": "code",
      "metadata": {
        "id": "cMX8wt6GjN2Z",
        "colab_type": "code",
        "colab": {}
      },
      "source": [
        "# Laioffer solution\n",
        "class Solution(object):\n",
        "  def common(self, a, b):\n",
        "    \"\"\"\n",
        "    input: int[] a, int[] b\n",
        "    return: Integer[]\n",
        "    \"\"\"\n",
        "    # write your solution here\n",
        "    s = set(a)\n",
        "    return sorted(x for x in b if x in s)\n",
        "\n",
        "# time: O(m+n)\n",
        "# space: O(m)"
      ],
      "execution_count": 0,
      "outputs": []
    },
    {
      "cell_type": "markdown",
      "metadata": {
        "id": "bX83xaH0j5KR",
        "colab_type": "text"
      },
      "source": [
        "**Q6 Common Numbers of Two Arrays II (dictionary)**\n",
        "https://app.laicode.io/app/problem/651\n",
        "Find all numbers that appear in both of two unsorted arrays (sets)"
      ]
    },
    {
      "cell_type": "code",
      "metadata": {
        "id": "Pi1LPSFTkD4m",
        "colab_type": "code",
        "colab": {}
      },
      "source": [
        "# Laioffer Solution\n",
        "class Solution(object):\n",
        "  def common(self, A, B):\n",
        "    \"\"\"\n",
        "    input: int[] A, int[] B\n",
        "    return: Integer[]\n",
        "    \"\"\"\n",
        "    # write your solution here\n",
        "    countA = {}\n",
        "    for num in A:\n",
        "      countA[num] = countA.get(num, 0) + 1\n",
        "    countB = {}\n",
        "    for num in B:\n",
        "      countB[num] = countB.get(num, 0) + 1\n",
        "    common = []\n",
        "    for num in countA:\n",
        "      common += [num] * min(countA[num], countB.get(num, 0))\n",
        "    return common\n",
        "    \n",
        "# time: O(m+n)\n",
        "# space: O(m+n)"
      ],
      "execution_count": 0,
      "outputs": []
    },
    {
      "cell_type": "markdown",
      "metadata": {
        "id": "6LFuSBGv8DTk",
        "colab_type": "text"
      },
      "source": [
        "**Q1 2 Sum**\n",
        "\n",
        "Given an integer array, check if any two numbers have a sum of a target, return true if these two numbers exist, return false otherwise.\n",
        "\n",
        "input: [1,2,3,4] target = 6\n",
        "\n",
        "output: boolen value (True, False)\n"
      ]
    },
    {
      "cell_type": "code",
      "metadata": {
        "id": "EQi5yOh09Lhe",
        "colab_type": "code",
        "outputId": "1236031b-5dd6-4282-81ef-bb6b2517220b",
        "colab": {
          "base_uri": "https://localhost:8080/",
          "height": 92
        }
      },
      "source": [
        "#Q1 Assume sorted\n",
        "#Two indexes (i is min, j is max)\n",
        "#first, sum min with max\n",
        "\n",
        "def two_sum_sorted(list, target):\n",
        "  i,j = 0, len(list) - 1\n",
        "  while i < j:\n",
        "    if list[i] + list[j] < target:\n",
        "      i += 1\n",
        "    elif list[i] + list[j] > target:\n",
        "      j -= 1\n",
        "    elif list[i] + list[j] == target:\n",
        "      return True\n",
        "  return False\n",
        "\n",
        "#time: O(n)\n",
        "#space: O(1)\n",
        "\n",
        "\n",
        "#Q2 Unsorted\n",
        "def two_sum_unsorted(list, target):\n",
        "  hashset = set()\n",
        "  for key in list:\n",
        "    print(key, hashset)\n",
        "    if (target - key) in hashset:\n",
        "      return True\n",
        "    else:\n",
        "      hashset.add(key)\n",
        "  return False\n",
        "\n",
        "#T: o(n)\n",
        "#S: O(n)\n",
        "\n",
        "print(two_sum_unsorted([1,2,2,2], 4))\n"
      ],
      "execution_count": 0,
      "outputs": [
        {
          "output_type": "stream",
          "text": [
            "1 set()\n",
            "2 {1}\n",
            "2 {1, 2}\n",
            "True\n"
          ],
          "name": "stdout"
        }
      ]
    },
    {
      "cell_type": "markdown",
      "metadata": {
        "id": "6xIhpADm_26A",
        "colab_type": "text"
      },
      "source": [
        "**Q3 2 Sum with Duplicate**\n",
        "\n",
        "Return number of pairs\n",
        "\n",
        "input: [10,2,2,13,2] target = 4\n",
        "\n",
        "output: (2,2), (2,2), (2,2)\n",
        "\n"
      ]
    },
    {
      "cell_type": "code",
      "metadata": {
        "id": "OohcpY3UACWf",
        "colab_type": "code",
        "outputId": "74567531-41d6-494e-9e90-b559f97d63df",
        "colab": {
          "base_uri": "https://localhost:8080/",
          "height": 54
        }
      },
      "source": [
        "#Q3.1 Return number of pairs\n",
        "#Use dic = {10:1, 2:3, 13:1}  (value:frequency), target 4\n",
        "#key -> 10 {10:1} 4-10 = -6\n",
        "#key -> 2  {10:1, 2:1}\n",
        "#key -> 2  {10:1, 2:2} count = 0+1 = 1\n",
        "#key -> 2  {10:1, 2:2, 13:1} count = 1\n",
        "#key -> 13 {10:1, 2:2: 13:1}\n",
        "#key -> 2  {10:1, 2:3, 13:1} count = 1 + 2 = 3\n",
        "#T: O(n)\n",
        "#S: O(n)\n",
        "\n",
        "def two_sum_duplicate(arr, sum):\n",
        "  dic = {}\n",
        "  count = 0\n",
        "  for key in arr:\n",
        "    if sum - key in dic:\n",
        "      count += dic[sum - key]\n",
        "    if key in dic:\n",
        "      dic[key] += 1\n",
        "    else:\n",
        "      dic[key] = 1\n",
        "  return count\n",
        "\n",
        "#print(two_sum_duplicate([1,2,2,2], 4))\n",
        "\n",
        "\n",
        "#Q3.2 Return which index pairs\n",
        "def two_sum_duplicate(arr, sum):\n",
        "  dic = {}\n",
        "  res = []\n",
        "  for index, key in enumerate(arr):\n",
        "    if sum - key in dic:\n",
        "      for i in dic[sum-key]:\n",
        "        res.append([i, index])\n",
        "    if key in dic:\n",
        "      dic[key].append(index)\n",
        "    else:\n",
        "      dic[key] = [index]\n",
        "  print(dic)\n",
        "  return(res)\n",
        "\n",
        "print(two_sum_duplicate([1,2,2,2], 4))"
      ],
      "execution_count": 0,
      "outputs": [
        {
          "output_type": "stream",
          "text": [
            "{1: [0], 2: [1, 2, 3]}\n",
            "[[1, 2], [1, 3], [2, 3]]\n"
          ],
          "name": "stdout"
        }
      ]
    },
    {
      "cell_type": "markdown",
      "metadata": {
        "id": "x-MYN4q0k4KE",
        "colab_type": "text"
      },
      "source": [
        "**Q4 3 Sum**"
      ]
    },
    {
      "cell_type": "code",
      "metadata": {
        "id": "iDfzD6B8k7rr",
        "colab_type": "code",
        "colab": {}
      },
      "source": [
        "'''\n",
        "M1 Fix i, do 2 sum with the rest\n",
        "time: O(n^2)\n",
        "space: O(n)\n",
        "\n",
        "'''\n",
        "\n",
        "\n",
        "'''\n",
        "M2 Sort first, boil down to sorted 2sum \n",
        "Why? n^2 > sort time complexity, whether sort does not impact t\n",
        "O(nlogn + n^2) = O(n^2)\n",
        "'''\n",
        "def three_sum(array, target):\n",
        "  if array is None or len(array) == 0:\n",
        "    return False\n",
        "  array.sort()\n",
        "  for i in range(len(array) - 2):\n",
        "    start = i + 1\n",
        "    end = len(array) - 2\n",
        "    while start < end:\n",
        "      tmp_sum = array[start] + array[end] + array[i]\n",
        "      if tmp_sum == target:\n",
        "        return True\n",
        "      elif tmp_sum < target:\n",
        "        start += 1\n",
        "      else:\n",
        "        end -= 1\n",
        "  return False\n",
        "\n"
      ],
      "execution_count": 0,
      "outputs": []
    },
    {
      "cell_type": "markdown",
      "metadata": {
        "id": "zcoGfivQEx-8",
        "colab_type": "text"
      },
      "source": [
        "**Q5 4 Sum**"
      ]
    },
    {
      "cell_type": "code",
      "metadata": {
        "id": "qLIjxMOVE1Iy",
        "colab_type": "code",
        "colab": {}
      },
      "source": [
        "'''\n",
        "M1 Boil down to three sum\n",
        "time: O(n^3)\n",
        "space: O(n)\n",
        "'''\n",
        "def FourSum(array, target):\n",
        "  for i in range(len(arr) - 3):\n",
        "    for j in range(i+1, len(arr) - 2):\n",
        "      #start 2sum\n",
        "      \n",
        "  \n",
        "\n",
        "\n",
        "'''\n",
        "#M2 Boil down to two sum \n",
        " A + B = X two sum\n",
        " C + D = Y two Sum\n",
        " X + Y = Target two sum\n",
        " \n",
        "[1,4,7,10,13] target = 22\n",
        "S1: find all pairs: [1+4, 1+7, 1+10, 1+13, 4+7, 4+10, 4+13, 7+10, 1+13, 10+13] ->  O(n^2) = C(n,2)\n",
        "S2.1: run two sum on the pairs -> O(n^2) \n",
        "S2.2: check if duplicate index -> O(1) e.g. if used 1 twice\n",
        "\n",
        "T: O(n^2)\n",
        "S: O(n^2)\n",
        "'''\n",
        "\n",
        "class TwoSumPair:\n",
        "  def __init__(self, index1, index2):\n",
        "    self.index1 = index2\n",
        "    self.index2 = index2\n",
        "    self.number1 = array[index1]\n",
        "    self.number2 = array[index2]\n",
        "    self.sum = self.number1 + self.number2\n",
        "    \n",
        "pair_list = [TwoSumPair(0,1), TwoSumPair(0,2), TwoSumPair(0,3), TwoSumPair(0,4), TwoSumPair(1,2)...]\n",
        "\n",
        "\n",
        "\n",
        "\n",
        "\n"
      ],
      "execution_count": 0,
      "outputs": []
    },
    {
      "cell_type": "markdown",
      "metadata": {
        "id": "TmJgsfYfG38c",
        "colab_type": "text"
      },
      "source": [
        "**Q6 K-Sum**\n",
        "\n",
        "Use dfs-recursion\n",
        "\n",
        "(pending)"
      ]
    },
    {
      "cell_type": "markdown",
      "metadata": {
        "id": "j7foT1t0G-d5",
        "colab_type": "text"
      },
      "source": [
        "**Q8 2 Difference**\n",
        "\n",
        "Given a list and a target, check if any two numbers diff == target \n",
        "\n",
        "Note need to use absolute value. The diff between 1 and 4 is always 3, whether 3 or -3\n",
        "\n"
      ]
    },
    {
      "cell_type": "code",
      "metadata": {
        "id": "Rcfbk11dHRal",
        "colab_type": "code",
        "colab": {}
      },
      "source": [
        "#M1 Assume sorted\n",
        "#T: O(n)\n",
        "#S: O(1)\n",
        "\n",
        "def two_diff_sorted(target, array):\n",
        "  i, j = 0, 0\n",
        "  while j < len(array):\n",
        "    if array[j] - array[i] < target:\n",
        "      j += 1\n",
        "    elif array[j] - array[i] > target:\n",
        "      i += 1\n",
        "    else:\n",
        "      return True\n",
        "  return False\n",
        "\n",
        "\n",
        "#M2 Unsorted\n",
        "#S1 Created a hashset\n",
        "#S2 Loop array, check array[i] - target or array[i] + target \n",
        "# if yes, return true\n",
        "# if no, add array[i] in set\n",
        "#T: O(n)\n",
        "#S: O(n)\n",
        "\n",
        "def two_diff_unsorted(list, target):\n",
        "  hashset = set()\n",
        "  for key in list:\n",
        "    if (key-target) in hashset or (key+target) in hashset:\n",
        "      return True\n",
        "    else:\n",
        "      hashset.add(key)\n",
        "  return False\n",
        "      "
      ],
      "execution_count": 0,
      "outputs": []
    },
    {
      "cell_type": "markdown",
      "metadata": {
        "id": "18yNeE9uI62Z",
        "colab_type": "text"
      },
      "source": [
        "**Q9 Longest sub list**\n",
        "\n",
        "Determine the longest sub list without duplicate values. Return max length\n",
        "\n",
        "input: [1,2,3,1,4]\n",
        "\n",
        "output: [2,3,1,4] lenght = 4"
      ]
    },
    {
      "cell_type": "code",
      "metadata": {
        "id": "HOeydllzJWyy",
        "colab_type": "code",
        "outputId": "79253406-6a4c-4bdd-f048-261f484f1ec7",
        "colab": {
          "base_uri": "https://localhost:8080/",
          "height": 260
        }
      },
      "source": [
        "#M1 Set\n",
        "#S1 move fast, add number in set\n",
        "#S2 check duplicate found\n",
        "#  if yes, move slow + remove array[slow] in set\n",
        "#  if no, add number in set\n",
        "#S3 update longest length\n",
        "\n",
        "def longest_sub(list):\n",
        "  hash_set = set()\n",
        "  longest = 0\n",
        "  slow = fast = 0\n",
        "  while fast < len(list):\n",
        "    print(slow, fast, hash_set)\n",
        "    if list[fast] in hash_set:\n",
        "      while list[slow] != list[fast]:\n",
        "        hash_set.remove(list[slow])\n",
        "        slow += 1\n",
        "    else: \n",
        "      hash_set.add(list[fast])\n",
        "    longest = max(longest, len(hash_set))\n",
        "    fast += 1\n",
        "  return longest\n",
        "\n",
        "print(longest_sub([1,2,3,1,4,3]))\n",
        "print(longest_sub([1,1,1,1,3]))\n",
        "\n"
      ],
      "execution_count": 0,
      "outputs": [
        {
          "output_type": "stream",
          "text": [
            "0 0 set()\n",
            "0 1 {1}\n",
            "0 2 {1, 2}\n",
            "0 3 {1, 2, 3}\n",
            "0 4 {1, 2, 3}\n",
            "0 5 {1, 2, 3, 4}\n",
            "4\n",
            "0 0 set()\n",
            "0 1 {1}\n",
            "0 2 {1}\n",
            "0 3 {1}\n",
            "0 4 {1}\n",
            "2\n"
          ],
          "name": "stdout"
        }
      ]
    },
    {
      "cell_type": "markdown",
      "metadata": {
        "id": "YbKOgZBzrrf_",
        "colab_type": "text"
      },
      "source": [
        "###Set\n",
        "\n",
        "set = mutable unordered collections of unique elements\n",
        "* do not record element position or order of insertion\n",
        "* do not support indexing, sicing, or other sequence-like behavior\n",
        "* implemented using dictionaries\n",
        "* cannot contain mutable elements such as lists or dictionaries\n",
        "* can contain immutable collections\n",
        "* is a special case of dictionary (only keys)\n",
        "\n",
        "\n"
      ]
    },
    {
      "cell_type": "code",
      "metadata": {
        "id": "vY2laY-Vhrga",
        "colab_type": "code",
        "colab": {}
      },
      "source": [
        "# Create empty set\n",
        "x = set()\n",
        "x = {\"a\", \"b\", \"c\", \"d\"}\n",
        "\n",
        "# Add\n",
        "x.add(\"e\")\n",
        "x.update(\"e\", \"f\") #nothing happens if already exists\n",
        "\n",
        "# Delete\n",
        "x.remove{\"a\"}\n",
        "x.discard{\"a\"}     #no KeyError raised\n",
        "x.pop()            #random element. If empty, KeyError\n",
        "x.clear()          #clear elements from set"
      ],
      "execution_count": 0,
      "outputs": []
    },
    {
      "cell_type": "code",
      "metadata": {
        "id": "oK4rUVUMUZGe",
        "colab_type": "code",
        "outputId": "f73597e0-88a7-4635-c893-81bcfc173c6c",
        "colab": {
          "base_uri": "https://localhost:8080/",
          "height": 126
        }
      },
      "source": [
        "skills = {'ML', 'Stat', 'Coding', 'Business'}\n",
        "skills_list = ['ML', 'Stat', 'Coding', 'Business']\n",
        "\n",
        "print('Business' in skills) # check if an element is in a set\n",
        "print('Spark' in skills)    # False\n",
        "\n",
        "skills.add('Spark')         # add an element\n",
        "skills.update({'SAS', 'R'}) # add multiple\n",
        "skills.remove('Spark')      # remove an element. If not exist, raise a KeyError\n",
        "skills.discard('Spark')     # remove. If not exist, no KeyError raised\n",
        "skills.pop()                # delete a random element from the set. If empty, raise KeyError\n",
        "skills.clear()              # clear all elements \n",
        "\n",
        "# Union\n",
        "x = set(['Postcard', 'Radio', 'Telegram'])\n",
        "y = set(['Radio', 'Television'])\n",
        "print(x.union(y))  #['Postcard', 'Radio', 'Television', 'Telegram']\n",
        "\n",
        "# Difference between two sets\n",
        "print(x.difference(y))      # {'Telegram', 'Postcard'}\n",
        "print(y.difference(x))      # {'Television'}\n",
        "\n",
        "# Subset\n",
        "print(x.issubset(y))        # is x<= y?\n",
        "\n",
        "# Super-set\n",
        "print(x.issuperset(y))      # is x>= y?\n",
        "\n",
        "# Intersection\n",
        "print(x.intersection(y))    # {'Radio'}\n",
        "\n",
        "# loop over a set\n",
        "for idx, skill in enumerate(skills):\n",
        "  print(f\"{skill} : {idx}\")\n",
        "\n",
        "# set comprehension\n",
        "nums = {num for num in range(6)}\n",
        "print(type(nums)) # class 'set'\n",
        "squared = {x**2 for x in [1,1,2]}  # {1,4}\n",
        "\n",
        "# Operations\n",
        "key in s\n",
        "key no in s\n",
        "s1 == s2\n",
        "s1 != s2\n",
        "s1 <= s2     # subset\n",
        "s1 < s2      # proper subset\n",
        "s1 >= s2     # super set\n",
        "s1 > s2      # proper superset\n",
        "s1 | s2      # union\n",
        "s1 & s2      # intersection\n",
        "s1-s2        # set of elements in s1 not s2\n",
        "s1 ^ s2      # set of elements in precisely one of s1 or s2\n"
      ],
      "execution_count": 0,
      "outputs": [
        {
          "output_type": "stream",
          "text": [
            "True\n",
            "False\n",
            "{'Radio', 'Postcard', 'Television', 'Telegram'}\n",
            "{'Telegram', 'Postcard'}\n",
            "{'Television'}\n",
            "<class 'set'>\n"
          ],
          "name": "stdout"
        }
      ]
    },
    {
      "cell_type": "code",
      "metadata": {
        "id": "wKW6lsXpu6UG",
        "colab_type": "code",
        "colab": {}
      },
      "source": [
        "# Q1 Top-k freq words\n",
        "#['A', 'A', 'A', 'B', 'B', 'C'] k = 2 -> {'A':3, 'B':2, 'C':1} => {'A', 'B'}\n",
        "# dictionary + heap\n",
        "\n",
        "# M2 大分堆\n",
        "def top_k(nums, k):\n",
        "  freq = {}\n",
        "  freq_heap = []\n",
        "  #O(n)\n",
        "  for num in nums:\n",
        "    if num in freq:\n",
        "      freq[num] = freq[num] + 1\n",
        "    else:\n",
        "      freq[num] = 1\n",
        "  # max heap by min heap\n",
        "  # O(nlogn)\n",
        "  for key in freq.keys():\n",
        "    heapq.heappush(freq_heap, (-freq[key], key))\n",
        "  topk = []\n",
        "  #O(k)?\n",
        "  for i in range(0, k):\n",
        "    topk.append(heapq.heappop(freq_heap)[1])\n",
        "  return topk\n",
        "\n",
        "# M2 小分堆\n",
        "# S1 read and count the frequency using hash_table\n",
        "# S2 build a MIN-heap for the first k elements. \n",
        "#  iterate over each from k+1 -th to the n-th element. Update MIN_heap\n",
        "#   if i-th element > MIN_heap.top() -> remove top and insert i-th\n",
        "#   else do nothing\n",
        "# O(n + k + (n-k)log(k))\n",
        "\n",
        "def top_k(nums, k):\n",
        "  freq = {}\n",
        "  freq_heap = []\n",
        "  #O(n)\n",
        "  for num in nums:\n",
        "    if num in freq:\n",
        "      freq[num] = freq[num] + 1\n",
        "    else:\n",
        "      freq[num] = 1\n",
        "  # min heap \n",
        "  for key in freq.keys():\n",
        "    heapq.heappush(freq_heap, (freq[keys], key))\n",
        "    if len(freq_heap) > k:\n",
        "      heapq.heappop(freq_heap)\n",
        "  topk = []\n",
        "  for i in range(0, k):\n",
        "    topk.append(heapq.heappop(freq_heap)[1])\n",
        "  topk.reverse()"
      ],
      "execution_count": 0,
      "outputs": []
    },
    {
      "cell_type": "code",
      "metadata": {
        "id": "wIDHC0bcyB06",
        "colab_type": "code",
        "colab": {}
      },
      "source": [
        "# Q2 Palindromic testing\n",
        "# test if letters forming a string can be permuted to form a palindrome\n",
        "# ex. 'edified' can be permuted to form 'deified'\n",
        "# hint: every letter except the middle come in pairs - word count\n",
        "\n",
        "def is_palindromic(word):\n",
        "  freq = {}\n",
        "  for i in range(len(word)):  #for letter in str:\n",
        "    if word[i] in freq:\n",
        "      freq[word[i]] += 1\n",
        "    else:\n",
        "      freq[word[i]] = 1\n",
        "  odd_cnt = 0\n",
        "  for key in freq.keys():  #for value in freq.values():\n",
        "    if freq[key] % 2 == 1: #if value % 2 == 1\n",
        "      off_cnt += 1\n",
        "      if odd_cnt > 1:\n",
        "        return False\n",
        "  return True\n",
        "\n",
        "# time: O(n)\n",
        "# space: O(c) = O(1)"
      ],
      "execution_count": 0,
      "outputs": []
    },
    {
      "cell_type": "code",
      "metadata": {
        "id": "dAE0WP0IzKAL",
        "colab_type": "code",
        "colab": {}
      },
      "source": [
        "# Q3 Nearest repeated entries in an array\n",
        "# takes an array and finds the distance between a closest pair of equal entries\n",
        "# ex. arr = ['All', 'work', 'no', 'play', 'makes', 'for', 'no', 'work', 'no', 'fun', 'and', no', 'results']\n",
        "# 2\n",
        "\n",
        "def nearest_repeat(arr):\n",
        "  word_ind = {}\n",
        "  dist = float('inf')\n",
        "  for i in range(len(arr)):\n",
        "    if arr[i] in word_ind:\n",
        "      dist = min(dist, i - word_ind[arr[i]])\n",
        "    word_ind[arr[i]] = i\n",
        "  return dist\n",
        "\n",
        "# time: O(n)\n",
        "# space: O(d), distinct entries"
      ],
      "execution_count": 0,
      "outputs": []
    },
    {
      "cell_type": "code",
      "metadata": {
        "id": "d4AXLxQn1CFH",
        "colab_type": "code",
        "colab": {}
      },
      "source": [
        "# Q4 Largest contained range\n",
        "# given an integer array, find the size of largest subset of continuous elements\n",
        "# ex. arr = [3, -2, 7, 9, 8, 1, 2, 0, 1, 5, 8]\n",
        "# [-2, -1, 0, 1, 2, 3] -> return 6\n",
        "\n",
        "#brute-force: sort the array, O(nlogn), then search from each position\n",
        "#better solution: 中心开花，左右出发\n",
        "\n",
        "'''\n",
        "arr = [10,5,3,11,6,100,4]\n",
        "S1 Put each element in a set {6,10,3,11,5,100,4}\n",
        "S2 Pick any element x1 = 10. Find the largest interval by expanding from bth directions\n",
        "   the largest sequence is [10, 11]. The remaining set is {6,3,5,100,4}\n",
        "S3 Pick another element x2 = 5, find the largest interval [3,4,5,6]\n",
        "   the remaining set is {100}\n",
        "S4 Pick another element x3 = 100, now the remaining set is empty\n",
        "'''\n",
        "\n",
        "def longset_contained_rage(arr):\n",
        "  unprocessed = set(arr)\n",
        "  maxlen = 0\n",
        "  while unprocessed:\n",
        "    elem = unprocessed.pop()\n",
        "    lower = elem - 1\n",
        "    while lower in unprocessed:\n",
        "      unprocessed.remove(lower)\n",
        "      lower = lower - 1\n",
        "    upper = elem + 1\n",
        "    while upper in unprocessed:\n",
        "      unprocessed.remove(upper)\n",
        "      upper = upper + 1\n",
        "    maxlen = max(maxlen, upper - lower - 1)\n",
        "  return maxlen\n",
        "\n",
        "#time: O(n)\n",
        "#space: O(m) m distinct elements"
      ],
      "execution_count": 0,
      "outputs": []
    },
    {
      "cell_type": "markdown",
      "metadata": {
        "id": "AdJn4-B9Sg29",
        "colab_type": "text"
      },
      "source": [
        "###Tuple\n",
        "\n",
        "* A tuple is an immutable ordered list \n",
        "* A tuple is in many ways similar to a list; One of the most important differences is that tuples can be used as keys in dictionaries and as elements of sets, while lists cannot.\n",
        "* Denoted by ()\n",
        "* An ordered sequence of elements, can mix element types\n",
        "* Can assign values to multiple elements at a time using unpacking"
      ]
    },
    {
      "cell_type": "code",
      "metadata": {
        "id": "Eg4Kup3UayoF",
        "colab_type": "code",
        "outputId": "b2e6d59b-19ac-4f69-879a-289275a1743a",
        "colab": {
          "base_uri": "https://localhost:8080/",
          "height": 139
        }
      },
      "source": [
        "b = (\"Bob\", 19, \"CS\")     #packing\n",
        "print(b)\n",
        "(name, age, studies) = b  #unpacking\n",
        "name, age, studies = b    #unpacking\n",
        "print(name)\n",
        "print(age)\n",
        "print(studies)\n",
        "\n",
        "t = (21, 42) \n",
        "print(type(t))\n",
        "print(type(t[0]))"
      ],
      "execution_count": 0,
      "outputs": [
        {
          "output_type": "stream",
          "text": [
            "('Bob', 19, 'CS')\n",
            "Bob\n",
            "19\n",
            "CS\n",
            "Bob\n",
            "19\n",
            "CS\n"
          ],
          "name": "stdout"
        }
      ]
    },
    {
      "cell_type": "code",
      "metadata": {
        "id": "TWA1h1I1NWV1",
        "colab_type": "code",
        "colab": {}
      },
      "source": [
        "# Loop\n",
        "for num in b:\n",
        "  print(num)"
      ],
      "execution_count": 0,
      "outputs": []
    },
    {
      "cell_type": "code",
      "metadata": {
        "id": "wKb15o_EgGew",
        "colab_type": "code",
        "outputId": "a57ce4ef-b23e-4946-f39b-58e6430d89e7",
        "colab": {
          "base_uri": "https://localhost:8080/",
          "height": 34
        }
      },
      "source": [
        "# create a dictionary with tuple keys\n",
        "skills = ['ML', 'Stat', 'Coding', 'Business']\n",
        "t_dict = {('Laidata', idx) : skill for idx, skill in enumerate(skills)} \n",
        "print(t_dict)"
      ],
      "execution_count": 0,
      "outputs": [
        {
          "output_type": "stream",
          "text": [
            "{('Laidata', 0): 'ML', ('Laidata', 1): 'Stat', ('Laidata', 2): 'Coding', ('Laidata', 3): 'Business'}\n"
          ],
          "name": "stdout"
        }
      ]
    },
    {
      "cell_type": "markdown",
      "metadata": {
        "id": "AFVNUHeNRLMO",
        "colab_type": "text"
      },
      "source": [
        "###LinkedList"
      ]
    },
    {
      "cell_type": "markdown",
      "metadata": {
        "id": "LdzBza9WBDcY",
        "colab_type": "text"
      },
      "source": [
        "Singly linked list is a recursively defined structure that is either empty or a reference to a node object that contains a value (or values) and a reference to another singly linked list\n",
        "\n",
        "Why\n",
        "* Versatility and flexibility -- does not require to know size ahead. \n",
        "* Being able to model the linked based relationships directly. For example, a hierarchical structure, such as management relationship between employees in a company\n",
        "* Comparing to array or list in Python, insertion and deletion can be easily done without reorganizating the entire structure. This is very useful when implementing high level data structure like queue\n",
        "\n",
        "How\n",
        "* Knowing the first node of a singly linked list is equivalent to knowing all the other nodes after it\n",
        "* Use fake head strategy to avoid having special handling in the code. \n"
      ]
    },
    {
      "cell_type": "code",
      "metadata": {
        "id": "OiaKDVdsRPGF",
        "colab_type": "code",
        "colab": {}
      },
      "source": [
        "# ListNode definition\n",
        "class ListNode(object):  \n",
        "  def __init__(self, value):\n",
        "    self.next = None   \n",
        "    self.value = value \n",
        "\n",
        "# Creating ListNodes\n",
        "node1 = ListNode(\"H\")\n",
        "node2 = ListNode(\"E\")\n",
        "node1.next = node2\n",
        "dir(node1)  #show node attributes\n",
        "\n",
        "h = ListNode(1)\n",
        "h.next = ListNode(2)\n",
        "h.next.next = ListNode(3)\n",
        "t = ListNode(4)\n",
        "h.next.next.next = t"
      ],
      "execution_count": 0,
      "outputs": []
    },
    {
      "cell_type": "code",
      "metadata": {
        "id": "w8-G4w1EFUvb",
        "colab_type": "code",
        "colab": {}
      },
      "source": [
        "# Object reference  \n",
        "def foo(head):\n",
        "  head = ListNode(10)\n",
        "head = ListNode(1)\n",
        "foo(head)\n",
        "print(head.value) #return 1 because foo(head) created a local variable head\n",
        "\n",
        "def foo(head):\n",
        "  head = head.next\n",
        "head = ListNode(1)\n",
        "foo(head) \n",
        "print(head.value) #return 1 because foo(head) created a local variable, not changing orig\n",
        "\n",
        "def foo(head):\n",
        "  head.value = 10\n",
        "head = ListNode(1)\n",
        "foo(head)\n",
        "print(head.value) #return 10 because foo(head) is reassigning the value of the variable head"
      ],
      "execution_count": 0,
      "outputs": []
    },
    {
      "cell_type": "code",
      "metadata": {
        "id": "i21-Uv8bhI6U",
        "colab_type": "code",
        "colab": {}
      },
      "source": [
        "### More Operations\n",
        "class ListNode(object):  #inheritance\n",
        "  def __init__(self, value):\n",
        "    self.next = None   \n",
        "    self.val = value\n",
        "  def __eq__(self, value):\n",
        "    return isinstance(other, ListNode) and self.value == other.value\n",
        "  def GetValue(self):\n",
        "    return self.val\n",
        "\n",
        "### Creation\n",
        "#A function to accept a list and produce a corresponding singly linked list\n",
        "def buildLinkedlist(seq):\n",
        "  fake_head = ListNode(None)\n",
        "  cur = fake_head\n",
        "  for obj in seq:\n",
        "    cur.next = ListNode(obj)\n",
        "    cur = cur.next\n",
        "  return fake_head.next\n",
        "h = buildLinkedlist([1,2,3,4])\n",
        "\n",
        "### Traverse = traverse all the nodes in a singly linked list and print their values\n",
        "def traverse_singly_linkedlist(head):\n",
        "  while head is not None:\n",
        "    print (head.val)\n",
        "    head = head.next\n",
        "\n",
        "def print_list(head):\n",
        "  curr = head\n",
        "  while curr:\n",
        "    print (curr.val)\n",
        "    curr = curr.next\n",
        "\n",
        "### Search by index. \n",
        "# returns a node object if found, None otherwise\n",
        "# assuming valid index should >= 0, first index = 0\n",
        "def search_by_index(head, index):  \n",
        "  if head is None or index < 0:\n",
        "    return None\n",
        "  for move_times in range(index): \n",
        "    head = head.next\n",
        "    if not head:\n",
        "      return None                 \n",
        "  return head\n",
        "\n",
        "# Search by value\n",
        "def search_by_value(head, value):\n",
        "  if not head:\n",
        "    return None\n",
        "  current_node = head\n",
        "  while current_node is not None:\n",
        "    if current_node.val == value:\n",
        "      return current_node\n",
        "    current_node = current_node.next\n",
        "  return None\n",
        "\n",
        "### Add to index = add a new node to this specific position\n",
        "# should work for the first node\n",
        "# If position invalid, should return None\n",
        "# should first find the node at position index -1\n",
        "# insert accordingly, need to know the predecessor\n",
        "\n",
        "# M1 Special handling\n",
        "def add_to_index(head, index, value):\n",
        "  if index == 0:\n",
        "    new_head = ListNode(value)\n",
        "    new_head.next = head\n",
        "    return new_head\n",
        "  else:\n",
        "    prevNode = search_by_index(head, index - 1)\n",
        "    if prevNode is None:\n",
        "      return head\n",
        "    new_node = ListNode(value)\n",
        "    new_node.next = prevNode.next\n",
        "    prevNode.next = new_node\n",
        "    return head\n",
        "\n",
        "# M2 No special handling\n",
        "def add_to_index(head, index, val):\n",
        "  fake_head = ListNode(None)\n",
        "  fake_head.next = head\n",
        "  insert_place = search_by_index(fake_head, index)\n",
        "  if insert_place is None:\n",
        "    return fake_head.next\n",
        "  new_node = ListNode(val)\n",
        "  new_node.next = insert_place.next\n",
        "  insert_place.next = new_node\n",
        "  return fake_head.next\n",
        "\n",
        "### Remove index\n",
        "# Deletion means two things:\n",
        "# 1. From linked list perspective, you cannot see this node\n",
        "# 2. Optional: from this node's perspective, there is not other nodes after it\n",
        "def remove_from_index(head, index):\n",
        "  fake_head = ListNode(None)\n",
        "  fake_head.next = head\n",
        "  remove_place = search_by_index(fake_head, index)\n",
        "  #it is likely that we find the predecessor of the node we want to remove but not the node itself\n",
        "  if remove_place is None or remove_place.next is None:\n",
        "    return fake_head.next\n",
        "  remove_node = remove_place.next\n",
        "  remove_place.next = remove_node.next\n",
        "  remove_node.next = None\n",
        "  return fake_head.next\n",
        "\n",
        "# Example of privately owned attribute\n",
        "class Date(object):\n",
        "  def __init__(self, year, month, day):\n",
        "    self._year = year\n",
        "    self._month = month\n",
        "  def SetMonth(month):\n",
        "    if month < 1 or month > 12:\n",
        "      return \"error\"\n"
      ],
      "execution_count": 0,
      "outputs": []
    },
    {
      "cell_type": "code",
      "metadata": {
        "id": "wf9jhcdrhY-y",
        "colab_type": "code",
        "colab": {}
      },
      "source": [
        "### LinkedList class object\n",
        "\n",
        "# Define node object\n",
        "class _ListNode(object): \n",
        "  def __init__(self, val):\n",
        "    self.val = val\n",
        "    self.next = None  \n",
        "\n",
        "# MyLinkedList is a linked list\n",
        "class MyLinkedList(object):\n",
        "  def __init__(self):\n",
        "    '''\n",
        "    Initialize your data structure here.\n",
        "    Here, we will construct an empty linked list.\n",
        "    '''\n",
        "    self._head = None   \n",
        "    self._tail = None  \n",
        "    self._size = 0     \n",
        "  \n",
        "  def _get(self, index): \n",
        "    '''\n",
        "    Find the node that corresponds to an index.\n",
        "    Assume index is within [0, self._size]\n",
        "    '''\n",
        "    node = self._head\n",
        "    for _ in range(index):\n",
        "      node = node.next\n",
        "    return node\n",
        "\n",
        "  def get(self, index):\n",
        "    '''\n",
        "    Get the value of the index node in the linked list. \n",
        "    If index invalid, return -1 (actually not good because -1 might be a data value)\n",
        "      :type index: Int\n",
        "      :rtype: int \n",
        "    '''\n",
        "    #check index is valid or not\n",
        "    if index < 0 or index >= self._size:\n",
        "      return -1\n",
        "    return self._get(index).val\n",
        "\n",
        "  def addAtHead(self, val):\n",
        "    '''\n",
        "    Add a node of value before the first element of the linked list\n",
        "      :type val: int\n",
        "      :rtype: None\n",
        "    '''\n",
        "    if self._head is None: \n",
        "      self._head = self._tail = _ListNode(val)\n",
        "    else:\n",
        "      new_head = _ListNode(val)      #add\n",
        "      new_head.next = self._head     \n",
        "      self._head = new_head          #redefine head\n",
        "    self._size += 1\n",
        "\n",
        "  def addAtTail(self, val):\n",
        "    '''\n",
        "    Add a node of value after the last element of the linked list\n",
        "      :type val: int\n",
        "      :rtype: None\n",
        "    '''\n",
        "    if self._size == 0:\n",
        "      self._head = self._tail = _ListNode(val)\n",
        "    else:\n",
        "      self._tail.next = _ListNode(val)  #add\n",
        "      self._tail = self._tail.next      #redefine tail\n",
        "    self._size += 1\n",
        "\n",
        "  def addAtIndex(self, index, val):\n",
        "    '''\n",
        "    Add a node of value val before the index node in the linked list. If index equals the length of linked list, the node will be appended to the end. If index is greater than the length, the node will not be inserted.\n",
        "      :type index: int \n",
        "      :tyep val: int\n",
        "      :rtype: None\n",
        "    '''\n",
        "    # Index validation\n",
        "    if index < 0 or index > self._size: #note len = size - 1\n",
        "      return #do nothing\n",
        "    if index == 0:\n",
        "      self.addAtHead(val) #note size already added \n",
        "    elif index == self._size:\n",
        "      self.addAtTail(val) \n",
        "    else:\n",
        "      prev_node = self._get(index - 1)\n",
        "      new_node = _ListNode(val)\n",
        "      new_node.next = prev_node.next\n",
        "      prev_node.next = new_node\n",
        "      self._size += 1\n",
        "  \n",
        "  # AddAtIndex better solution with dummy head\n",
        "  def addAtIndex2(head, index, val):\n",
        "    fake_head = ListNode(None)\n",
        "    fake_head.next = head\n",
        "    insert_place = search_by_index(fake_head, index)\n",
        "    if insert_place is None:\n",
        "      return fake_head.next\n",
        "    new_node = ListNode(val)\n",
        "    new_node.next = insert_place.next\n",
        "    insert_place.next = new_node\n",
        "    return fake_head.next\n",
        "\n",
        "  def deleteAtIndex(self, index):\n",
        "    '''\n",
        "    Delete the index node in the linked list, if the index is valid. \n",
        "      :type index: int\n",
        "      :rtype: None\n",
        "    '''\n",
        "    if index < 0 or index >= self._size:\n",
        "      return\n",
        "    if index == 0:                  # if deleted head\n",
        "      new_head = self._head.next    # placeholder\n",
        "      self._head.next = None        # disconnect original head (optional)\n",
        "      self._head = new_head         # reassign new head\n",
        "      if self._head is None:        # if removed the last and first node\n",
        "        self._tail = None\n",
        "    else:\n",
        "      prev_node = self._get(index - 1)    # get previous node \n",
        "      remove_node = prev_node.next        # placeholder\n",
        "      prev_node.next = remove_node.next   # reassign next\n",
        "      remove_node.next = None             # \n",
        "      if index == self._size - 1:         # if removed the original tail \n",
        "        self._tail = prev_node\n",
        "    self._size -= 1\n",
        "\n",
        "  # Delete index easy version\n",
        "  def deleteAtIndex2(self, index):\n",
        "    if index < 0 or index >= self._size:\n",
        "      return\n",
        "    if index == 0:\n",
        "      self._head = self._head.next  # the original head will be gone by itself\n",
        "      if size == 1:                 # What if we deleted the last node?\n",
        "        self._tail = None\n",
        "      self._size -= 1\n",
        "    else:\n",
        "      node = self._get(index-1)     # Find the index first\n",
        "      node.next = node.next.next    # will always exist because index < self._size\n",
        "      if index == self._size - 1:   # If deleted the original tail\n",
        "        self._tail = None\n",
        "      self._size -= 1                   \n",
        "\n",
        "  def __str__(self):\n",
        "    '''\n",
        "    Get the string representation of the internal singly list\n",
        "    '''\n",
        "    strs = []\n",
        "    node = self._head\n",
        "    while node is not None:\n",
        "      strs.append(str(node.val))\n",
        "      node = node.next\n",
        "    return ' -> '.join(strs)\n",
        "\n",
        "  def __len__(self):\n",
        "    return self._size\n",
        "\n",
        "  def __iter__(self):\n",
        "    node = self._head\n",
        "    while node:\n",
        "      yield node\n",
        "      node = node.next\n",
        "  \n",
        "class ListNode(object):  #inheritance\n",
        "  def __init__(self, value):\n",
        "    self.next = None   \n",
        "    self.val = value\n",
        "  def __eq__(self, value):\n",
        "    return isinstance(other, ListNode) and self.value == other.value\n",
        "  def GetValue(self):\n",
        "    return self.val\n",
        "\n",
        "# print linked list\n",
        "def print_list(head):\n",
        "  curr = head\n",
        "  while curr:\n",
        "    print (curr.val)\n",
        "    curr = curr.next\n",
        "\n",
        "# Convert array to Linkedlist\n",
        "def convert(list):\n",
        "  dummy = ListNode(0)\n",
        "  curr = dummy\n",
        "  for num in list:\n",
        "    curr.next = ListNode(num)\n",
        "    curr = curr.next\n",
        "  return dummy.next\n",
        "\n",
        "# Test\n",
        "L1 = MyLinkedList()\n",
        "print(L1)\n",
        "print(len(L1))\n",
        "L1head = ListNode(1)\n",
        "L1.addAtHead(L1head)\n",
        "L1.addAtTail(2)\n",
        "L1.addAtTail(3)\n",
        "print(L1)"
      ],
      "execution_count": 0,
      "outputs": []
    },
    {
      "cell_type": "markdown",
      "metadata": {
        "id": "Be_KDH1gVIR2",
        "colab_type": "text"
      },
      "source": [
        "**Doubly Linked List**\n",
        "* Can know the predecessor of a node from the node itself instantly -> can be used to organize info that will be changed dynamically from time to time \n",
        "* More things to do when inserting or removing a node\n"
      ]
    },
    {
      "cell_type": "code",
      "metadata": {
        "id": "XrJTqdNFhwBa",
        "colab_type": "code",
        "colab": {}
      },
      "source": [
        "### Doubly Linked List\n",
        "class ListNode(object):\n",
        "  def __init__(self, value):\n",
        "    self.next = None   \n",
        "    self.value = value \n",
        "    self.prev = None   \n",
        "  def __str__(self):\n",
        "    return 'ListMode({})'.format(str(self.va))\n",
        "\n",
        "def link_between(mid, prev, next):\n",
        "  mid.next = next\n",
        "  mid.prev = prev\n",
        "  prev.next = mid\n",
        "  next.prev = mid\n",
        "\n",
        "def unlink_between(mid, prev, next):\n",
        "  mid.prev = mid.next = None\n",
        "  prev.next = next\n",
        "  next.prev = prev\n",
        "\n",
        "class MyDoublyLinkedList(object):\n",
        "  def __init__(self): \n",
        "    self._before_head = _ListNode(None) \n",
        "    self._after_tail = _ListNode(None)\n",
        "    self._before_head.next = self._after_tail\n",
        "    self._after_Tail.prev = self._before_head\n",
        "    self._size = 0\n",
        "  \n",
        "  def _get(self, index):\n",
        "    curr = self._before_head.next\n",
        "    for _ in range(index):\n",
        "      curr = curr.next\n",
        "    return curr\n",
        "\n",
        "  def get(self, index):\n",
        "    if index < 0 or index >= self._size:\n",
        "      return -1\n",
        "    return self._get(index).val\n",
        "  \n",
        "  def addAtHead(self, val):\n",
        "    link_between(_ListNode(val), self._before_head, self._before_head.next)\n",
        "    self._size += 1\n",
        "\n",
        "  def addAtTail(self, val):\n",
        "    link_betwen(_ListNode(val), self._after_tail.prev, self._after_tail)\n",
        "    self._size += 1\n",
        "\n",
        "  def addAtIndex(self, index, val):\n",
        "    if index < 0 or index > self._size:\n",
        "      return\n",
        "    node = self._get(index)\n",
        "    link_between(_ListNode(val), node.prev, node)\n",
        "    self._size += 1\n",
        "\n",
        "  def deleteAtIndex(self, index):\n",
        "    if index < 0 or index >= self._size:\n",
        "      return\n",
        "    node = self._get(index)\n",
        "    unlink_between(node, node.prev, node.next)\n",
        "    self._size -= 1\n",
        "\n",
        "  def __str__(self):\n",
        "    def iter_list(self):\n",
        "      curr = self._before_head.next\n",
        "      while curr is not self._after_tail:\n",
        "        yield str(curr)\n",
        "        curr = curr.next\n",
        "      return '<-> '.join(iter_list(self))"
      ],
      "execution_count": 0,
      "outputs": []
    },
    {
      "cell_type": "markdown",
      "metadata": {
        "id": "vKgx3XRV2-mv",
        "colab_type": "text"
      },
      "source": [
        "**Q0 Design linked list**\n",
        "\n",
        "https://app.laicode.io/app/problem/612"
      ]
    },
    {
      "cell_type": "code",
      "metadata": {
        "id": "CGQiySEyy9Pj",
        "colab_type": "code",
        "colab": {}
      },
      "source": [
        "# Singly Linked List -- laioffer solution\n",
        "class Solution(object):\n",
        "\n",
        "    def __init__(self):\n",
        "        \"\"\"\n",
        "        Initialize your data structure here.\n",
        "        \"\"\"\n",
        "        self._head = None\n",
        "        self._tail = None\n",
        "        self._size = 0\n",
        "\n",
        "    def _get(self, index):\n",
        "        \"\"\"\n",
        "        Get the node object of the index-th node in the linked list. If the index is invalid, return -1.\n",
        "        :type index: int\n",
        "        :rtype: int\n",
        "        \"\"\"\n",
        "        node = self._head\n",
        "        for _ in range(index):\n",
        "          node = node.next\n",
        "        return node \n",
        "\n",
        "    def get(self, index):\n",
        "        \"\"\"\n",
        "        Get the value of the index-th node in the linked list. If the index is invalid, return -1.\n",
        "        :type index: int\n",
        "        :rtype: int\n",
        "        \"\"\"\n",
        "        if index < 0 or index >= self._size:\n",
        "          return -1\n",
        "        return self._get(index).val\n",
        "\n",
        "    def addAtHead(self, val):\n",
        "        \"\"\"\n",
        "        Add a node of value val before the first element of the linked list. After the insertion, the new node will be the first node of the linked list.\n",
        "        :type val: int\n",
        "        :rtype: None\n",
        "        \"\"\"\n",
        "        if self._size == 0:\n",
        "          self._head = self._tail = _Listnode(val)\n",
        "        else:\n",
        "          new_head = _Listnode(val)\n",
        "          new_head.next = self._head\n",
        "          self._head = new_head\n",
        "        self._size += 1\n",
        "\n",
        "    def addAtTail(self, val):\n",
        "        \"\"\"\n",
        "        Append a node of value val to the last element of the linked list.\n",
        "        :type val: int\n",
        "        :rtype: None\n",
        "        \"\"\"\n",
        "        if self._size == 0:\n",
        "          self._tail = self._head = _Listnode(val)\n",
        "        else:\n",
        "          self._tail.next = _Listnode(val)\n",
        "          self._tail = self._tail.next\n",
        "        self._size += 1\n",
        "        \n",
        "    def addAtIndex(self, index, val):\n",
        "        \"\"\"\n",
        "        Add a node of value val before the index-th node in the linked list. If index equals to the length of linked list, the node will be appended to the end of linked list. If index is greater than the length, the node will not be inserted.\n",
        "        :type index: int\n",
        "        :type val: int\n",
        "        :rtype: None\n",
        "        \"\"\"\n",
        "        if index < 0 or index > self._size:\n",
        "          return -1\n",
        "        if index == 0:\n",
        "          self.addAtHead(val)\n",
        "        elif index == self._size:\n",
        "          self.addAtTail(val)\n",
        "        else:\n",
        "          node = self._get(index - 1)\n",
        "          new_node = _Listnode(val)\n",
        "          new_node.next = node.next\n",
        "          node.next = new_node\n",
        "          self._size += 1\n",
        "\n",
        "    def deleteAtIndex(self, index):\n",
        "        \"\"\"\n",
        "        Delete the index-th node in the linked list, if the index is valid.\n",
        "        :type index: int\n",
        "        :rtype: None\n",
        "        \"\"\"\n",
        "        if index < 0 or index >= self._size:\n",
        "          return -1\n",
        "        if index == 0:              \n",
        "          new_head = self._head.next\n",
        "          self._head.next = None\n",
        "          self._head = new_head\n",
        "          if not self._head:\n",
        "            self._tail = None\n",
        "        else:\n",
        "          node = self._get(index - 1)\n",
        "          remove_node = node.next\n",
        "          node.next = remove_node.next\n",
        "          remove_node.next = None\n",
        "          if index == self._size - 1:\n",
        "            self._tail = node\n",
        "        self._size -= 1\n",
        "\n",
        "# Comments about deleteAtIndex:\n",
        "# If had 2 nodes, removed the head, this code doesn't update the tail?\n",
        "# "
      ],
      "execution_count": 0,
      "outputs": []
    },
    {
      "cell_type": "code",
      "metadata": {
        "id": "J72GeXv8aA5l",
        "colab_type": "code",
        "colab": {}
      },
      "source": [
        "# Doubly Linked List -- laioffer solution\n",
        "class ListNode(object):\n",
        "  def __init__(self, value):\n",
        "    self.next = None   \n",
        "    self.value = value \n",
        "    self.prev = None   \n",
        "  def __str__(self):\n",
        "    return 'ListMode({})'.format(str(self.va))\n",
        "\n",
        "def link_between(mid, prev, next):\n",
        "  mid.next = next\n",
        "  mid.prev = prev\n",
        "  prev.next = mid\n",
        "  next.prev = mid\n",
        "\n",
        "def unlink_between(mid, prev, next):\n",
        "  mid.prev = mid.next = None\n",
        "  prev.next = next\n",
        "  next.prev = prev\n",
        "\n",
        "class MyDoublyLinkedList(object):\n",
        "  def __init__(self): \n",
        "    self._before_head = _ListNode(None) \n",
        "    self._after_tail = _ListNode(None)\n",
        "    self._before_head.next = self._after_tail\n",
        "    self._after_Tail.prev = self._before_head\n",
        "    self._size = 0\n",
        "  \n",
        "  def _get(self, index):\n",
        "    curr = self._before_head.next\n",
        "    for _ in range(index):\n",
        "      curr = curr.next\n",
        "    return curr\n",
        "\n",
        "  def get(self, index):\n",
        "    if index < 0 or index >= self._size:\n",
        "      return -1\n",
        "    return self._get(index).val\n",
        "  \n",
        "  def addAtHead(self, val):\n",
        "    link_between(_ListNode(val), self._before_head, self._before_head.next)\n",
        "    self._size += 1\n",
        "\n",
        "  def addAtTail(self, val):\n",
        "    link_betwen(_ListNode(val), self._after_tail.prev, self._after_tail)\n",
        "    self._size += 1\n",
        "\n",
        "  def addAtIndex(self, index, val):\n",
        "    if index < 0 or index > self._size:\n",
        "      return\n",
        "    node = self._get(index)\n",
        "    link_between(_ListNode(val), node.prev, node)\n",
        "    self._size += 1\n",
        "\n",
        "  def deleteAtIndex(self, index):\n",
        "    if index < 0 or index >= self._size:\n",
        "      return\n",
        "    node = self._get(index)\n",
        "    unlink_between(node, node.prev, node.next)\n",
        "    self._size -= 1\n",
        "\n",
        "  def __str__(self):\n",
        "    def iter_list(self):\n",
        "      curr = self._before_head.next\n",
        "      while curr is not self._after_tail:\n",
        "        yield str(curr)\n",
        "        curr = curr.next\n",
        "      return '<-> '.join(iter_list(self))\n"
      ],
      "execution_count": 0,
      "outputs": []
    },
    {
      "cell_type": "markdown",
      "metadata": {
        "id": "tqoFIZTWj_j9",
        "colab_type": "text"
      },
      "source": [
        "**Q1 Remove all vowels in a linked list**"
      ]
    },
    {
      "cell_type": "code",
      "metadata": {
        "id": "JXgKZBQlj-7v",
        "colab_type": "code",
        "outputId": "add08367-c352-41b2-80e1-c9e4a3fc1b52",
        "colab": {
          "base_uri": "https://localhost:8080/",
          "height": 121
        }
      },
      "source": [
        "'''\n",
        "S1 Use two pointers:\n",
        "  s is the last non vowel node encountered\n",
        "  f loops through every node\n",
        "S2 Create a dummy head to assess whether head should be deleted\n",
        "S3 No delete. Keep looping f and directly use s.next = f\n",
        "\n",
        "dummy -> a -> i -> e -> c -> x -> b -> c -> x\n",
        "s\n",
        "         f\n",
        "'''\n",
        "\n",
        "# M1 Compare curr node\n",
        "def removeVowels(head):\n",
        "  fake_head = ListNode(None)\n",
        "  fake_head.next = head\n",
        "  s = fake_head  #slow point\n",
        "  f = head       #fast point\n",
        "  vowel = ['a', 'e', 'i', 'o', 'u']\n",
        "  while f:\n",
        "    if f.val in vowel:\n",
        "      f = f.next\n",
        "      s.next = f\n",
        "    else:\n",
        "      s = f\n",
        "      f = f.next\n",
        "  return fake_head.next  \n",
        "# time: O(n)  \n",
        "# space: O(1)  "
      ],
      "execution_count": 0,
      "outputs": [
        {
          "output_type": "stream",
          "text": [
            "b\n",
            "i\n",
            "e\n",
            "g\n",
            "b\n",
            "g\n"
          ],
          "name": "stdout"
        }
      ]
    },
    {
      "cell_type": "code",
      "metadata": {
        "id": "p89cqJw62QjE",
        "colab_type": "code",
        "colab": {}
      },
      "source": [
        "# M2 Compare curr.next node\n",
        "def removeVowels2(head):\n",
        "  fake_head = ListNode(None)\n",
        "  fake_head.next = head\n",
        "  curr = fake_head\n",
        "  vowel = ['a', 'e', 'i', 'o', 'u']\n",
        "  while curr.next: # easy to remove the next node than cur node\n",
        "    if curr.next.val in vowel:  \n",
        "      curr.next = curr.next.next #not moving curr but curr.next\n",
        "    else:\n",
        "      curr = curr.next\n",
        "  return fake_head.next\n",
        "# time: O(n)\n",
        "# space: O(1)\n",
        "\n",
        "# test code\n",
        "node_b = ListNode('b')\n",
        "node_i = ListNode('i')\n",
        "node_e = ListNode('e')\n",
        "node_g = ListNode('g')\n",
        "node_b.next = node_i\n",
        "node_i.next = node_e\n",
        "node_e.next = node_g\n",
        "print_list(node_b)\n",
        "\n",
        "new_head = removeVowels(node_b)\n",
        "print_list(new_head)"
      ],
      "execution_count": 0,
      "outputs": []
    },
    {
      "cell_type": "markdown",
      "metadata": {
        "id": "_mDFCUilK848",
        "colab_type": "text"
      },
      "source": [
        "**Q2 Reverse Linkedlist**\n",
        "\n",
        "https://app.laicode.io/app/problem/34\n",
        "\n",
        "https://app.laicode.io/app/problem/653\n"
      ]
    },
    {
      "cell_type": "code",
      "metadata": {
        "id": "5P21clX4MJCD",
        "colab_type": "code",
        "colab": {}
      },
      "source": [
        "# M1 While loop - iterative (optimal)\n",
        "'''\n",
        "dummy <- a <- i -> e -> c -> x -> b -> c -> x\n",
        "         p     \n",
        "              h    \n",
        "                   n\n",
        "'''\n",
        "def reverse_list(head):\n",
        "  previous_node = None #cannot use Listnode(None) because will print the node\n",
        "  while head:\n",
        "    next_node = head.next\n",
        "    head.next = previous_node\n",
        "    previous_node = head\n",
        "    head = next_node\n",
        "  return previous_node\n",
        "\n",
        "# time: O(n)\n",
        "# space: O(1)"
      ],
      "execution_count": 0,
      "outputs": []
    },
    {
      "cell_type": "code",
      "metadata": {
        "id": "uR2_92Wv17fK",
        "colab_type": "code",
        "colab": {}
      },
      "source": [
        "# M1 Iterative (Laioffer solutin)\n",
        "class Solution(object):\n",
        "  def reverse(self, head):\n",
        "    \"\"\"\n",
        "    input: ListNode head\n",
        "    return: ListNode\n",
        "    \"\"\"\n",
        "    prev, curr = None, head\n",
        "    while curr:\n",
        "      next = curr.next\n",
        "      curr.next = prev\n",
        "      prev, curr = curr, next\n",
        "    return prev"
      ],
      "execution_count": 0,
      "outputs": []
    },
    {
      "cell_type": "code",
      "metadata": {
        "id": "qAdIzQm5TQKW",
        "colab_type": "code",
        "outputId": "7b974af1-27bb-4361-c347-b387e06308d4",
        "colab": {
          "base_uri": "https://localhost:8080/",
          "height": 156
        }
      },
      "source": [
        "# M2 Recursion\n",
        "def call(node):\n",
        "  if node.next is None:\n",
        "    return node, node\n",
        "  head, tail = call(node.next)\n",
        "  tail.next = node\n",
        "  node.next = None\n",
        "  return head, node\n",
        "\n",
        "def reverse(head):\n",
        "  if not head:\n",
        "    return None\n",
        "  new_head, new_tail = call(head)\n",
        "  return new_head\n",
        "\n",
        "node_b = ListNode('b')\n",
        "node_i = ListNode('i')\n",
        "node_e = ListNode('e')\n",
        "node_g = ListNode('g')\n",
        "node_b.next = node_i\n",
        "node_i.next = node_e\n",
        "node_e.next = node_g\n",
        "print_list(node_b)\n",
        "\n",
        "new_head = reverse(node_b)\n",
        "print_list(new_head)"
      ],
      "execution_count": 0,
      "outputs": [
        {
          "output_type": "stream",
          "text": [
            "b\n",
            "i\n",
            "e\n",
            "g\n",
            "g\n",
            "e\n",
            "i\n",
            "b\n"
          ],
          "name": "stdout"
        }
      ]
    },
    {
      "cell_type": "code",
      "metadata": {
        "id": "oHxMha1m0p8F",
        "colab_type": "code",
        "outputId": "739080c9-cc0b-4d9b-dd3a-84df51556875",
        "colab": {
          "base_uri": "https://localhost:8080/",
          "height": 104
        }
      },
      "source": [
        "# M2 Recursion II (Laioffer solution)\n",
        "class Solution(object):\n",
        "  def reverse(self, head):\n",
        "    \"\"\"\n",
        "    input: ListNode head\n",
        "    return: ListNode\n",
        "    \"\"\"\n",
        "    if not head or not head.next: # reach tail\n",
        "      return head\n",
        "    new_head = self.reverse(head.next)\n",
        "    head.next.next = head\n",
        "    head.next = None\n",
        "    return new_head\n",
        "\n",
        "node_b = ListNode('b')\n",
        "node_i = ListNode('i')\n",
        "node_e = ListNode('e')\n",
        "node_g = ListNode('g')\n",
        "node_b.next = node_i\n",
        "node_i.next = node_e\n",
        "node_e.next = node_g\n",
        "print_list(node_b)\n",
        "\n",
        "new_head = reverse(node_b)\n",
        "print_list(new_head)"
      ],
      "execution_count": 0,
      "outputs": [
        {
          "output_type": "stream",
          "text": [
            "b\n",
            "i\n",
            "e\n",
            "g\n",
            "b\n"
          ],
          "name": "stdout"
        }
      ]
    },
    {
      "cell_type": "markdown",
      "metadata": {
        "id": "IADPs1CyKETl",
        "colab_type": "text"
      },
      "source": [
        "**Q3 Add two linkedlists**"
      ]
    },
    {
      "cell_type": "code",
      "metadata": {
        "id": "KLcv3VyTkP5_",
        "colab_type": "code",
        "colab": {}
      },
      "source": [
        "'''\n",
        "Same to adding two big numbers\n",
        "Why cannot just add num1 + num2? Big number environment\n",
        "Because, 64bit CPU has a computing limitation 2^64. CPU will not be able to compute any large num \n",
        "Why we don't face this problem in python? Becuase python auto converted (supports big numbers)\n",
        "Example: 123 + 27 = 150\n",
        "Notes\n",
        "- Sum to ten need another decimal -> Reverse lists\n",
        "- Two lists can have different size\n",
        "- Reverse final result\n",
        "'''\n",
        "def add_list(head1, head2):\n",
        "  # S1 reverse input to right align\n",
        "  new_head1 = reverse_list(head1)\n",
        "  new_head2 = reverse_list(head2)\n",
        "  fake_head = ListNode(None)\n",
        "  cur_node = fake_head\n",
        "  # S2 sum > 10 needs to add one \n",
        "  carry = 0\n",
        "  while new_head1 and new_head2:\n",
        "    temp_sum = new_head1 + new_head2 + carry\n",
        "    carry = temp_sum / 10\n",
        "    cur_node.next = ListNode(temp_sum % 10)\n",
        "    cur_node = cur_node.next\n",
        "    new_head1 = new_head1.next\n",
        "    new_head2 = new_head2.next\n",
        "  # S3 two lists may not have same length\n",
        "  while new_head1:\n",
        "    temp_sum = new_head1.value + carry\n",
        "    carry = temp_sum / 10\n",
        "    cur_node.next = ListNode(temp_sum % 10)\n",
        "    cur_node = cur_node.next\n",
        "    new_head1 = new_head1.next\n",
        "  while new_head2:\n",
        "    temp_sum = new_head2.value + carry\n",
        "    carry = temp_sum / 10\n",
        "    cur_node.next = ListNode(temp_sum % 10)\n",
        "    cur_node = cur_node.next\n",
        "    new_head2 = new_head2.next\n",
        "  if carry > 0:\n",
        "    cur_node.next = ListNode(carry) #new node\n",
        "  # S4 Reverse final result\n",
        "  return reverse_list(fake_head.next)\n",
        "\n",
        "  # time: O(n)\n",
        "  # space: O(n) because created new linked list"
      ],
      "execution_count": 0,
      "outputs": []
    },
    {
      "cell_type": "markdown",
      "metadata": {
        "id": "zPN_hUz8VaOP",
        "colab_type": "text"
      },
      "source": [
        "**Q4 Is LinkedList Palindrome**"
      ]
    },
    {
      "cell_type": "code",
      "metadata": {
        "id": "e5wFy_8wXFPW",
        "colab_type": "code",
        "colab": {}
      },
      "source": [
        "class ListNode:\n",
        "  def __init__(self, value):\n",
        "    self.value = value\n",
        "    self.next = None\n",
        "\n",
        "  def print_list(cur):\n",
        "    while cur:\n",
        "      print (cur.value)\n",
        "      cur = cur.next\n",
        "\n",
        "  def reverse_list(node):\n",
        "    previous_node = None\n",
        "    while node:\n",
        "      next.node = node.next\n",
        "      node.next = previous_node\n",
        "      previous_node = node\n",
        "      node = next_node\n",
        "    return previous_node"
      ],
      "execution_count": 0,
      "outputs": []
    },
    {
      "cell_type": "code",
      "metadata": {
        "id": "rzNN7dFrW3qP",
        "colab_type": "code",
        "colab": {}
      },
      "source": [
        "# M1 Copy linked list and reverse\n",
        "'''\n",
        "a->b->c->a \n",
        "a->c->b->a \n",
        "#time: O(n)\n",
        "#space: O(n)\n",
        "'''\n",
        "\n",
        "def copy_list(head):\n",
        "  fake_head = ListNode(0)\n",
        "  cur_node = fake_head\n",
        "  while head:\n",
        "    cur_node.next = ListNode(head.val)\n",
        "    head = head.next\n",
        "    cur_node = cur_node.next\n",
        "  return fake_head.next \n",
        "\n",
        "def is_pal(head):\n",
        "  head1 = copy_list(head)\n",
        "  head2 = reverse_list(head)\n",
        "  while head1 and head2: #compare every node\n",
        "    if head1.val != head2.val:\n",
        "      return False\n",
        "    head1 = head1.next\n",
        "    head2 = head2.next\n",
        "  return True\n",
        "\n",
        "# time: O(n)\n",
        "# space: O(n)"
      ],
      "execution_count": 0,
      "outputs": []
    },
    {
      "cell_type": "code",
      "metadata": {
        "id": "-aFzG-49kWSb",
        "colab_type": "code",
        "outputId": "f4557434-b654-4d83-9b8e-6d5db7dc9240",
        "colab": {
          "base_uri": "https://localhost:8080/",
          "height": 126
        }
      },
      "source": [
        "# M2 cut at middle\n",
        "'''\n",
        "S1 Find mid \n",
        "S2 Reverse second half (in-place)\n",
        "S3 Compare first and second half\n",
        "Cons: change the input data\n",
        "How to fix: reverse back to original again\n",
        "\n",
        "1->2->1  1 | 2->1  reverse second half 1 | 1->2\n",
        "time: O(n)\n",
        "space: O(1)\n",
        "But change the input data. \n",
        "How to fix? reverse back to original, then append to first half linked list\n",
        "'''\n",
        "# M1 traverse to find length, then use length to find mid -> O(1.5n)\n",
        "# M2 use slow and past pointers -> O(n)\n",
        "def find_mid(head):\n",
        "  if head is None or head.next is None:\n",
        "    return head\n",
        "  slow = head\n",
        "  fast = head\n",
        "  while fast.next is not None and fast.next.next is not None: #need to find ending\n",
        "    fast = fast.next.next\n",
        "    slow = slow.next\n",
        "  return slow\n",
        "\n",
        "def is_palindrome(head):\n",
        "  fake_head = ListNode(None)  \n",
        "  fake_head.next = head\n",
        "  mid_node_prev = find_mid(fake_head) #cut at middle\n",
        "  mid_node = mid_node_prev.next\n",
        "  mid_node_prev.next = None\n",
        "  head1 = head\n",
        "  head2 = reverse_list(mid_node)\n",
        "  while head1 and head2:\n",
        "    if head1.value != head2.value:\n",
        "      return False\n",
        "    head1 = head1.next\n",
        "    head2 = head2.next\n",
        "  return True\n",
        "\n",
        "#test code\n",
        "head = ListNode(1)\n",
        "head.next = ListNode(2)\n",
        "head.next.next = ListNode(0)\n",
        "head.next.next.next = ListNode(1)\n",
        "print (is_palindrome(head))"
      ],
      "execution_count": 0,
      "outputs": [
        {
          "output_type": "stream",
          "text": [
            "False\n",
            "1 1\n",
            "2 0\n",
            "0 2\n",
            "1 1\n",
            "False\n"
          ],
          "name": "stdout"
        }
      ]
    },
    {
      "cell_type": "code",
      "metadata": {
        "id": "JVKzAVkWXoSL",
        "colab_type": "code",
        "colab": {}
      },
      "source": [
        "'''\n",
        "M3 Recursion\n",
        "does not change input\n",
        "time: O(n)\n",
        "space: O(n)\n",
        "'''\n",
        "class ListNode:\n",
        "  def __init__(self, value):\n",
        "    self.value = value\n",
        "    self.next = None\n",
        "\n",
        "def is_pal(node):\n",
        "  global start2\n",
        "  if node is None:\n",
        "    return True\n",
        "  history = is_pal(node.next) #loop at this layer until node.next is None\n",
        "  #compare node and start2\n",
        "  #print 'a' == 'b'\n",
        "  cur = node.value == start2.value\n",
        "  print (start2.value, node.value)\n",
        "  start2 = start2.next\n",
        "  return cur and history #return to is_pal and loop layer back\n",
        "\n",
        "head = ListNode(1)\n",
        "head.next = ListNode(2)\n",
        "head.next.next = ListNode(0)\n",
        "head.next.next.next = ListNode(1)\n",
        "start2 = head\n",
        "print (is_pal(head))"
      ],
      "execution_count": 0,
      "outputs": []
    },
    {
      "cell_type": "code",
      "metadata": {
        "id": "F23eceSMle_Q",
        "colab_type": "code",
        "outputId": "5deacc81-d7bc-458e-a9d4-7a6e8e05e58c",
        "colab": {
          "base_uri": "https://localhost:8080/",
          "height": 55
        }
      },
      "source": [
        "'''\n",
        "M4 Binary search in [1, n]\n",
        "bad: right might be very big\n",
        "time: O(log(version_number))\n",
        "'''\n",
        "def bug():\n",
        "  version = 1\n",
        "  while is_bug(version):\n",
        "    version *= 2\n",
        "'''\n",
        "M2 [start, end?]\n",
        "S1 How find the end? binary search\n",
        "    try start*2, then start*2^2, start*2^#...\n",
        "    until find a bug\n",
        "S2 binary search [end/2, end]\n",
        "time: O(log(first_bug_version))\n",
        "'''"
      ],
      "execution_count": 0,
      "outputs": [
        {
          "output_type": "execute_result",
          "data": {
            "text/plain": [
              "'\\nM2 [start, end?]\\nS1 How find the end? binary search\\n    try start*2, then start*2^2, start*2^#...\\n    until find a bug\\nS2 binary search [end/2, end]\\ntime: O(log(first_bug_version))\\n'"
            ]
          },
          "metadata": {
            "tags": []
          },
          "execution_count": 89
        }
      ]
    },
    {
      "cell_type": "markdown",
      "metadata": {
        "id": "dTgN0KGwD43B",
        "colab_type": "text"
      },
      "source": [
        "**Q5 Merge two linkedlists**\n",
        "\n",
        "https://app.laicode.io/app/problem/40\n",
        "\n",
        "\n",
        "\n"
      ]
    },
    {
      "cell_type": "code",
      "metadata": {
        "id": "JxNZ5D8BExK2",
        "colab_type": "code",
        "colab": {}
      },
      "source": [
        "# M1 Iterative\n",
        "class Solution(object):\n",
        "  def merge(self, one, two):\n",
        "    \"\"\"\n",
        "    input: ListNode one, ListNode two\n",
        "    return: ListNode\n",
        "    \"\"\"\n",
        "    # write your solution here\n",
        "    fake_head = ListNode(None)\n",
        "    head = fake_head\n",
        "    while one and two:\n",
        "      if one.val > two.val:\n",
        "        head.next = two\n",
        "        two = two.next\n",
        "      else:\n",
        "        head.next = one\n",
        "        one = one.next\n",
        "      head = head.next\n",
        "    if one:\n",
        "      head.next = one\n",
        "    elif two:\n",
        "      head.next = two\n",
        "    return fake_head.next\n",
        "\n",
        "# time: O(m+n)\n",
        "# space: O(1)"
      ],
      "execution_count": 0,
      "outputs": []
    },
    {
      "cell_type": "code",
      "metadata": {
        "id": "9iXCRxdQEz0D",
        "colab_type": "code",
        "colab": {}
      },
      "source": [
        "# M2 Recursion\n",
        "class Solution(object):\n",
        "  def merge(self, one, two):\n",
        "    \"\"\"\n",
        "    input: ListNode one, ListNode two\n",
        "    return: ListNode\n",
        "    \"\"\"\n",
        "    # write your solution here\n",
        "    if not one:\n",
        "      return two\n",
        "    if not two:\n",
        "      return one\n",
        "    if one.val < two.val:\n",
        "      one.next = self.merge(one.next, two)\n",
        "      return one\n",
        "    else:\n",
        "      two.next = self.merge(one, two.next)\n",
        "      return two\n",
        "  \n",
        "# time: O(len(one) + len(two))\n",
        "# space: O(len(one) + len(two)) not optimal"
      ],
      "execution_count": 0,
      "outputs": []
    },
    {
      "cell_type": "code",
      "metadata": {
        "id": "CUbej4YH3L4i",
        "colab_type": "code",
        "colab": {}
      },
      "source": [
        "# M2 Recursion - Laioffer solution\n",
        "class Solution(object):\n",
        "  def merge(self, one, two):\n",
        "    \"\"\"\n",
        "    input: ListNode one, ListNode two\n",
        "    return: ListNode\n",
        "    \"\"\"\n",
        "    # write your solution here\n",
        "    if not one:\n",
        "      return two\n",
        "    if not two:\n",
        "      return one\n",
        "    if one.val < two.val:\n",
        "      one, two = two, one\n",
        "    one.next = self.merge(one.next, two)\n",
        "    return one\n",
        "  \n",
        "# time: O(len(one) + len(two))\n",
        "# space: O(len(one) + len(two)) not optimal"
      ],
      "execution_count": 0,
      "outputs": []
    },
    {
      "cell_type": "markdown",
      "metadata": {
        "id": "pE0e82yBT6_v",
        "colab_type": "text"
      },
      "source": [
        "**Q6 Remove Elements**\n",
        "\n",
        "Given a singly linked list and a target value, remove all nodes in this list that contain this target.\n",
        "\n",
        "10 -> 8 -> 5 -> 1 -> 8  target = 8\n",
        "\n",
        "return 10 -> 5 -> 1\n",
        "\n",
        "\n",
        "```\n",
        "Test cases:\n",
        "1. None\n",
        "2. No target\n",
        "3. Target in special position\n",
        "  a. Target is head\n",
        "  b. Target is tail\n",
        "  c. Target in the middle\n",
        "4. Multiple targets:\n",
        "  a. Neighbour\n",
        "  b. Not neighbour\n",
        "```\n",
        "\n"
      ]
    },
    {
      "cell_type": "code",
      "metadata": {
        "id": "sn07AHAFUheD",
        "colab_type": "code",
        "colab": {}
      },
      "source": [
        "# M1 - one pointer\n",
        "def linked_list_remove(head, target):\n",
        "  if not head or not target:\n",
        "    return\n",
        "  fake_head = ListNode(None)\n",
        "  fake_head.next = head\n",
        "  node = fake_head\n",
        "  while node and node.next:\n",
        "    if node.next == target:\n",
        "      node.next = node.next.next\n",
        "    else:\n",
        "      node = node.next\n",
        "  return fake_head.next"
      ],
      "execution_count": 0,
      "outputs": []
    },
    {
      "cell_type": "code",
      "metadata": {
        "id": "LIlYua_wWXp9",
        "colab_type": "code",
        "colab": {}
      },
      "source": [
        "# M2 two pointers - Best practice\n",
        "def removeElements(head, val):\n",
        "  if not head:\n",
        "    return head\n",
        "  dummyHead = ListNode(0)\n",
        "  dummyHead.next = head\n",
        "  prevNode, currNode = dummyHead, dummyHead.next\n",
        "  while currNode:\n",
        "    if currNode.val == val:\n",
        "      prevNode.next = currNode.next\n",
        "    else:\n",
        "      prevNode = currNode\n",
        "    currNode = currNode.next\n",
        "  return dummyHead.next\n",
        "\n",
        "# time: O(n)\n",
        "# space: O(1)"
      ],
      "execution_count": 0,
      "outputs": []
    },
    {
      "cell_type": "markdown",
      "metadata": {
        "id": "mdHvsQHf4GT9",
        "colab_type": "text"
      },
      "source": [
        "**Q7 Selection Sort Linked List**\n",
        "\n",
        "https://app.laicode.io/app/problem/28\n",
        "\n",
        "Given a singly-linked list, where each node contains an integer value, sort it in ascending order. The selectoin sort algorithm should be used to solve this problem."
      ]
    },
    {
      "cell_type": "code",
      "metadata": {
        "id": "TNMktatlUz4e",
        "colab_type": "code",
        "colab": {}
      },
      "source": [
        "class ListNode(object):\n",
        "  def __init__(self, x):\n",
        "    self.val = x\n",
        "    self.next = None\n",
        "\n",
        "class Solution(object):\n",
        "  def selectionSort(self, head):\n",
        "    \"\"\"\n",
        "    input: ListNode head\n",
        "    return: ListNode\n",
        "    \"\"\"\n",
        "    fake_node = ListNode(None)\n",
        "    fake_node.next = head\n",
        "    pointer = fake_node\n",
        "    while pointer.next:\n",
        "      node = pointer \n",
        "      min_prev = pointer\n",
        "      while node.next:\n",
        "        if node.next.val < min_prev.next.val:\n",
        "          min_prev = node\n",
        "        node = node.next\n",
        "      min_node = min_prev.next\n",
        "      min_prev.next = min_node.next\n",
        "      min_node.next = pointer.next\n",
        "      pointer.next = min_node\n",
        "      pointer = pointer.next\n",
        "    return fake_node.next\n",
        "\n",
        "'''\n",
        "null -> 4 -> 2 -> 6 -> 3 -> 5 -> null\n",
        "             p \n",
        "                            n\n",
        "                  mp\n",
        "                       mn\n",
        "'''"
      ],
      "execution_count": 0,
      "outputs": []
    },
    {
      "cell_type": "code",
      "metadata": {
        "id": "7xBdNQnP5iUO",
        "colab_type": "code",
        "colab": {}
      },
      "source": [
        "# Laioffer solution\n",
        "class Solution(object):\n",
        "  \"\"\"\n",
        "  input: ListNode head\n",
        "  return: ListNode\n",
        "  \"\"\"\n",
        "  new_head = ListNode(None)\n",
        "  new_head.next = head\n",
        "  tail = new_head\n",
        "  while tail.next:\n",
        "    prev, curr = tail, tail.next\n",
        "    min_node, min_node_predecessor = curr, prev\n",
        "    while curr:\n",
        "      if curr.val < min_node.val:\n",
        "        min_node, min_node_predecessor = curr, prev\n",
        "      prev, curr = curr, curr.next\n",
        "    min_node_predecessor.next = min_node.next\n",
        "    next = tail.next\n",
        "    tail.next = min_node_predecessor\n",
        "    min_node.next = next\n",
        "    tail = tail.next\n",
        "  return new_head.next\n",
        "\n",
        "'''\n",
        "None -> 1 -> 4 -> 2 -> 3\n",
        "  t\n",
        "            prev cur\n",
        "min_p  min\n",
        "\n",
        "'''\n",
        "# time: O(n^2)\n",
        "# space: O(1)"
      ],
      "execution_count": 0,
      "outputs": []
    },
    {
      "cell_type": "markdown",
      "metadata": {
        "id": "brIKsv-qVm32",
        "colab_type": "text"
      },
      "source": [
        "**Q8 Merge Sort Linked List**\n",
        "\n",
        "https://app.laicode.io/app/problem/29\n",
        "\n",
        "Given a singly-linked list, where each node contains an integer value, sort it in ascending order. The merge sort algorithm should be used to solve this problem."
      ]
    },
    {
      "cell_type": "code",
      "metadata": {
        "id": "h_FduRmKWPIC",
        "colab_type": "code",
        "colab": {}
      },
      "source": [
        "# Definition for singly-linked list.\n",
        "# class ListNode(object):\n",
        "#     def __init__(self, x):\n",
        "#         self.val = x\n",
        "#         self.next = None\n",
        "class Solution(object):\n",
        "  def merge(self, head1, head2):\n",
        "    res = ListNode(None)\n",
        "    node = res\n",
        "    while head1 and head2:\n",
        "      if head1.val < head2.val:\n",
        "        node.next = head1\n",
        "        head1 = head1.next\n",
        "      else:\n",
        "        node.next = head2\n",
        "        head2 = head2.next\n",
        "      node = node.next\n",
        "    if head1:\n",
        "      node.next = head1\n",
        "    if head2:\n",
        "      node.next = head2\n",
        "    return res.next\n",
        "\n",
        "  def find_mid(self, head):\n",
        "    if head is None or head.next is None:\n",
        "      return head\n",
        "    s, f = head, head.next\n",
        "    while f and f.next:\n",
        "      f = f.next.next\n",
        "      s = s.next\n",
        "    return s\n",
        "\n",
        "  def mergeSort(self, head):\n",
        "    \"\"\"\n",
        "    input: ListNode head\n",
        "    return: ListNode\n",
        "    \"\"\"\n",
        "    # write your solution here\n",
        "    if not head or not head.next:\n",
        "      return head\n",
        "    mid_prev = self.find_mid(head)\n",
        "    mid = mid_prev.next\n",
        "    mid_prev.next = None\n",
        "    left = self.mergeSort(head)\n",
        "    right = self.mergeSort(mid)\n",
        "    return self.merge(left, right)"
      ],
      "execution_count": 0,
      "outputs": []
    },
    {
      "cell_type": "code",
      "metadata": {
        "id": "fQjwoX7LVoe1",
        "colab_type": "code",
        "colab": {}
      },
      "source": [
        "# Laioffer Solution\n",
        "class Solution(object):\n",
        "  def mergeSort(self, head):\n",
        "    if not head or not haed.next:\n",
        "      return head\n",
        "    one, two = self.splitInHalf(head)\n",
        "    one = self.mergeSort(one)\n",
        "    two = self.mergeSort(two)\n",
        "    return self.merge(one, two)\n",
        "\n",
        "  def splitInHalf(self, head):\n",
        "    slow, fast = head, head.next\n",
        "    while fast and fast.next:\n",
        "      slow = slow.next\n",
        "      fast = fast.next.next\n",
        "    next = slow.next\n",
        "    slow.next = None\n",
        "    return head, next\n",
        "  \n",
        "  def merge(self, one, two):\n",
        "    prev = listNode(None)\n",
        "    curr = prev\n",
        "    while on and two:\n",
        "      if one.val < two.val:\n",
        "        curr.next = one\n",
        "        one = one.next\n",
        "      else:\n",
        "        curr.next = two\n",
        "        two = two.next\n",
        "      curr = curr.next\n",
        "    if one:\n",
        "      curr.next = one\n",
        "    else:\n",
        "      curr.next = two\n",
        "    return prev.next\n",
        "\n",
        "# time: O(nlogn)\n",
        "# space: O(logn)"
      ],
      "execution_count": 0,
      "outputs": []
    },
    {
      "cell_type": "markdown",
      "metadata": {
        "id": "b53iWuJaWsb4",
        "colab_type": "text"
      },
      "source": [
        "**Q9 Quick Sort Linked List**\n",
        "\n",
        "https://app.laicode.io/app/problem/30\n",
        "\n",
        "Given a singly-linked list, where each node contains an integer value, sort it in ascending order. The quick sort algorithm should be used to solve this problem."
      ]
    },
    {
      "cell_type": "code",
      "metadata": {
        "id": "txF6vfhIW1Rx",
        "colab_type": "code",
        "colab": {}
      },
      "source": [
        "# laioffer solution\n",
        "class Solution(object):\n",
        "  def quickSort(self, head):\n",
        "    if head is None:\n",
        "      return None\n",
        "    tail = self.get_tail(head)\n",
        "    head, tail = self.quick_sort(head, tail)\n",
        "    tail.next = None\n",
        "    return head\n",
        "  \n",
        "  def quick_sort(self, head, tail):\n",
        "    if head is not tail:\n",
        "      head_left, tail_left, head_ref, tail_ref, head_right, tail_right = self.quicksort_partition(head, tail)\n",
        "      if head_left is None: # if there is no left part after partition\n",
        "        head = head_ref\n",
        "      else:\n",
        "        head_left, tail_left = self.quick_sort(head_left, tail_left)\n",
        "        head = head_left\n",
        "        tail_left.next = head_ref\n",
        "      if head_right is None: \n",
        "        tail = tail_ref\n",
        "      else:\n",
        "        head_right, tail_right = self.quick_sort(head_right, tail_right)\n",
        "        tail_ref.next = head_right\n",
        "        tail = tail_right\n",
        "    return head, tail\n",
        "\n",
        "  def quicksort_partition(self, head, tail):\n",
        "    reference = tail\n",
        "    head_ref, tail_ref = reference, reference\n",
        "    head_left, tail_left, head_right, tail_right = None, None, None, None\n",
        "\n",
        "    sentinel = ListNode(None) \n",
        "    sentinel.next = head\n",
        "    node = sentinel\n",
        "    while node.next is not tail:\n",
        "      node = node.next\n",
        "      if node.val > reference.val: # put node into right part\n",
        "        if head_right is not None:\n",
        "          tail_right.next = node\n",
        "          tail_right = node\n",
        "        else: \n",
        "          head_right = node\n",
        "          tail_right = node\n",
        "      elif node.val < reference.val:\n",
        "        if head_left is not None:\n",
        "          tail_left.next = node\n",
        "          tail_left = node\n",
        "        else:\n",
        "          head_left = node\n",
        "          tail_left = node\n",
        "      else: # put node into reference part\n",
        "        tail_ref.next = node\n",
        "        tail_ref = node\n",
        "    return head_left, tail_left, head_ref, tail_Ref, head_right, tail_right\n",
        "\n",
        "  def get_tail(self, node):\n",
        "    while node.next:\n",
        "      node = node.next\n",
        "    return node\n",
        "\n",
        "# time: O(nlogn)\n",
        "# space: O(logn)\n",
        "\n",
        "\n"
      ],
      "execution_count": 0,
      "outputs": []
    },
    {
      "cell_type": "markdown",
      "metadata": {
        "colab_type": "text",
        "id": "tROKXLqQf1Zx"
      },
      "source": [
        "###Queue\n",
        "\n",
        " A list of elements with FIFO policy. Basically, a conduit such that elements are put into it from one end and taken out from another end with respect ot the insertion order.\n",
        " \n",
        " Why Queue?\n",
        " 1. Natural model of a lot of real world service that requires fairness (whorever has been waiting the longest should be served first)\n",
        " 2. Essential piece in asynchronous computation. We could implement the Producer-consumer model easily with queue (producers put products from one end, consumers take products from another end): 可以分开运行，一个放东西，一个取东西\n",
        " \n",
        " \n",
        "Glossary\n",
        " * enqueue -> put one element in\n",
        " * dequeue -> take one element out\n",
        "\n",
        "Examples\n",
        "* Server processing queries\n",
        "\n",
        "Implementation\n",
        "* List\n",
        "* Linkedlist\n",
        "* Python deque collection\n",
        "\n",
        "Problem types:\n",
        "* Sliding Window Problem"
      ]
    },
    {
      "cell_type": "markdown",
      "metadata": {
        "id": "baMh1pkPvEon",
        "colab_type": "text"
      },
      "source": [
        "**Interface or abstract data type (ADT)** = data type whose representation is hidden from those that will use it. Creates a clear boundary between the user and your implementation. Benefits:\n",
        "* Separation of concerns. The user od not need to be bothered with nasty details of how you implement your data type\n",
        "* Readability and maintainability. Help manage your code complexity"
      ]
    },
    {
      "cell_type": "code",
      "metadata": {
        "id": "gEVP-vMPqJ-d",
        "colab_type": "code",
        "colab": {}
      },
      "source": [
        "# Interface\n",
        "class Queue(object):\n",
        "  def __init__(self):\n",
        "    #initializes the internal to become a valid empty queue.\n",
        "    pass\n",
        "  def __len__(self):\n",
        "    #returns the number of items that are stored in our queue.\n",
        "    pass\n",
        "  def enqueue(self, item):\n",
        "    #puts the item into this queue\n",
        "    pass\n",
        "  def dequeue(self):\n",
        "    #takes the item that has been in the queue for the longest time and returns it.\n",
        "    #if queue is empty, return None\n",
        "    pass\n",
        "  def empty(self):\n",
        "    #returns true if our queue is empty. False otherwise\n",
        "  def front(self):\n",
        "    #returns the item that has been in the queue for the longest time\n",
        "    #if queue is eempty, return None\n",
        "    pass\n",
        "\n",
        "# test\n",
        "q = Queue()\n",
        "len(q) #using __len__ in the class definition can use len() API function\n",
        "q.enqueue(...)"
      ],
      "execution_count": 0,
      "outputs": []
    },
    {
      "cell_type": "markdown",
      "metadata": {
        "id": "vzRnn6EtwhXk",
        "colab_type": "text"
      },
      "source": [
        "**M1 Implementing queue using list**\n",
        "\n",
        "Time: O(1) for enqueue,\n",
        "O(n) for all the rest (del one element needs to reorganize others; if del at the end, O(1))\n",
        "\n",
        "Space: O(n)\n",
        "\n",
        "Some interesting test cases:\n",
        "* Make sure front() will not remove item\n",
        "* Make sure enqueue() will add item to the queue\n",
        "* Make sure dequeue will remove an item from the queue\n",
        "* If multiple items are enqueued, make sure the first element that is dequeued satisfy our constraints"
      ]
    },
    {
      "cell_type": "code",
      "metadata": {
        "id": "Pm2XjII5vqOO",
        "colab_type": "code",
        "colab": {}
      },
      "source": [
        "# Implementation backed by list\n",
        "class Queue(object):\n",
        "  def __init__(self):\n",
        "    self._items = []  #create empty list\n",
        "\n",
        "  def __len__(self):\n",
        "    return len(self._items)\n",
        "\n",
        "  def enqueue(self, item):\n",
        "    self._items.append(item)\n",
        "    \n",
        "  def dequeue(self):\n",
        "    if self.empty():\n",
        "      return None\n",
        "    item = self._items[0]\n",
        "    del self._items[0]   #self._items.pop(0) O(n)\n",
        "    return item\n",
        "  \n",
        "  def empty(self):\n",
        "    return len(self._items) == 0\n",
        "  \n",
        "  def front(self):\n",
        "    if self.empty():\n",
        "      return None\n",
        "    return self._items[0]"
      ],
      "execution_count": 0,
      "outputs": []
    },
    {
      "cell_type": "markdown",
      "metadata": {
        "id": "4Ewxj6JuyIUZ",
        "colab_type": "text"
      },
      "source": [
        "**M2 Implementation using Linked list**\n",
        "\n",
        "Time: O(1) for all\n",
        "\n",
        "Space: O(n)\n",
        "\n"
      ]
    },
    {
      "cell_type": "code",
      "metadata": {
        "id": "4jdD44qHyOHi",
        "colab_type": "code",
        "colab": {}
      },
      "source": [
        "# Implementation backed by singly linked list\n",
        "class _ListNode(object):\n",
        "  def __init__(self,value):\n",
        "    self.next = None\n",
        "    self.value = value\n",
        "    \n",
        "class Queue(object):\n",
        "  \n",
        "  def __init__(self):\n",
        "    self._size = 0\n",
        "    self._head, self._tail = None, None\n",
        "    \n",
        "  def __len__(self):\n",
        "    return self._size\n",
        "  \n",
        "  def empty(self):\n",
        "    return self._size == 0\n",
        "  \n",
        "  def enqueue(self, value):  # same as add a tail\n",
        "    if not self.empty():\n",
        "      self._tail.next = _ListNode(value)\n",
        "      self._tail = self._tail.next\n",
        "    else:\n",
        "      self._head = self._tail = _ListNode(value)\n",
        "    self._size += 1\n",
        "    \n",
        "  def dequeue(self):         # same as remove head\n",
        "    if self.empty():\n",
        "      return None\n",
        "    value = self._head.value  #record the value to be returned\n",
        "    self._head = self._head.next\n",
        "    if not self._head: #if removed the tail\n",
        "      self._tail = None\n",
        "    self._size -= 1\n",
        "    return value\n",
        "  \n",
        "  def front(self):          # same as get head\n",
        "    if self.empty():\n",
        "      return None\n",
        "    return self._head.value"
      ],
      "execution_count": 0,
      "outputs": []
    },
    {
      "cell_type": "markdown",
      "metadata": {
        "id": "fRcdBKAJzVZo",
        "colab_type": "text"
      },
      "source": [
        "**M3 Using Python built-in collection Deque = Double Ended Queue**\n",
        "\n",
        "Basically, instead of only allowying user to enqueue from one end and dequeue from another end, you can do these operations on both side of the queue. \n",
        "* 左方右拿 或 左拿右放 Append() + Popleft() or appendleft() + pop()\n",
        "\n",
        "Time: O(1)"
      ]
    },
    {
      "cell_type": "code",
      "metadata": {
        "id": "hh4ztlZezrcT",
        "colab_type": "code",
        "outputId": "4878295c-44e6-4676-9068-59740cf37696",
        "colab": {
          "base_uri": "https://localhost:8080/",
          "height": 130
        }
      },
      "source": [
        "# Implementation using python dequeue\n",
        "# build an ordered collection with optimized access from its endpoints\n",
        "class deque(__builtin__.object):\n",
        "  deque([iterable[,maxlen]]) #deque object\n",
        "  append()        #add element to the right \n",
        "  appendleft()    #add element to the left\n",
        "  clear()         #remove all elements\n",
        "  count()         #D.count(value) return number of occurrences \n",
        "  extendleft()    #extend the left\n",
        "  pop()           #remove and return the rightmost element\n",
        "  popleft()       #remove and return the leftmost element\n",
        "  remove()        #D.remove(value) remove first occurrence\n",
        "  reverse()       #D.reverse() reverses in place\n",
        "  rotate()        #rotate n steps to the right (default n = 1). if n negative,, rotates left\n",
        "\n",
        "# Example code to use deque:\n",
        "from collections import deque\n",
        "d = deque()\n",
        "d.append(2)\n",
        "d.append(3)\n",
        "d.appendleft(1)\n",
        "print(d) #[1,2,3]\n",
        "print 1 == d.popleft()\n",
        "print 3 == d.pop()"
      ],
      "execution_count": 0,
      "outputs": [
        {
          "output_type": "error",
          "ename": "SyntaxError",
          "evalue": "ignored",
          "traceback": [
            "\u001b[0;36m  File \u001b[0;32m\"<ipython-input-1-c7fe724e7e1a>\"\u001b[0;36m, line \u001b[0;32m4\u001b[0m\n\u001b[0;31m    deque([iterable[,maxlen]]) #deque object\u001b[0m\n\u001b[0m                    ^\u001b[0m\n\u001b[0;31mSyntaxError\u001b[0m\u001b[0;31m:\u001b[0m invalid syntax\n"
          ]
        }
      ]
    },
    {
      "cell_type": "markdown",
      "metadata": {
        "id": "DcWPn25W2UGE",
        "colab_type": "text"
      },
      "source": [
        "**Q1 Concept**\n",
        "\n",
        "Suppose that a client performs an intermixed sequence of enqueue and dequeue operations. The enqueue operations put the integers 0 through 5 in order on to the queue; the dequeue operations print out the return value. Which of the following sequences could not occur?\n",
        "\n",
        "a) 0, 1, 2, 3, 4, 5\n",
        "\n",
        "b) 2, 3, 5, 4, 0, 1\n",
        "\n",
        "c) 5, 4, 3, 2, 1, 0\n",
        "\n",
        "Answer: b and c cannot occur. 0 is the first output because of FIFO\n",
        "\n",
        "enqueue 0 (...) enqueue 1 (...) enqueue 2 (...) enqueue 3 (...) enqueue 4 (...) enqueue 5\n",
        "\n",
        "\n"
      ]
    },
    {
      "cell_type": "markdown",
      "metadata": {
        "id": "D_1sUhwD3PgC",
        "colab_type": "text"
      },
      "source": [
        "**Q2 Moving Average**\n",
        "\n",
        "Given a stream of integers and a window size, calculate the moving average of all integers in the sliding window.\n",
        "\n",
        "We need a data structure to perform the following quickly: add a new elment, remove the oldest element\n",
        "\n",
        "Example: \n",
        "\n",
        "8  5  10  7  9  4  15  12  90  13\n",
        "\n",
        "[8 5 10] -> [5 10 7] -> [10 7 9] ...\n",
        "\n"
      ]
    },
    {
      "cell_type": "code",
      "metadata": {
        "id": "U-GQsCmY4dJT",
        "colab_type": "code",
        "outputId": "311647dd-cdd4-49d0-bbf0-09033a9d6d3e",
        "colab": {
          "base_uri": "https://localhost:8080/",
          "height": 34
        }
      },
      "source": [
        "from collections import deque\n",
        "\n",
        "# M1 direct method\n",
        "class MovingAverage(object):\n",
        "  \n",
        "  def __init__(self, size):\n",
        "    self._numbers = deque()               # start with an empty queue\n",
        "    self._size = size\n",
        "    \n",
        "  def next(self,value):\n",
        "    if len(self._numbers) == self._size:\n",
        "      self._numbers.popleft()\n",
        "    self._numbers.append(value)\n",
        "    return sum(self._numbers) * 1.0 /len(self._numbers) # return average\n",
        "  # time: O(window size)\n",
        "\n",
        "m = MovingAverage(3);  #sliding window size is 3\n",
        "m.next(1)   # 1 \n",
        "m.next(10)  # (1+10)/2\n",
        "m.next(3)   # (1+10+3)/3\n",
        "m.next(5)   # (10+3+5)/3"
      ],
      "execution_count": 0,
      "outputs": [
        {
          "output_type": "execute_result",
          "data": {
            "text/plain": [
              "6.0"
            ]
          },
          "metadata": {
            "tags": []
          },
          "execution_count": 5
        }
      ]
    },
    {
      "cell_type": "code",
      "metadata": {
        "id": "JVeag_EKXNpr",
        "colab_type": "code",
        "colab": {}
      },
      "source": [
        "# M2 improved method recording sum -> reduce time to O(1)\n",
        "class MovingAverage(object):\n",
        "  \n",
        "  def __init__(self, size):\n",
        "    self._nums = deque()\n",
        "    self._sum = 0\n",
        "    self._size = size\n",
        "  \n",
        "  #style 1\n",
        "  def next(self, val):\n",
        "    if len(self._nums) == self._size:\n",
        "      self._sum -= self._nums.popleft()\n",
        "    self._nums.append(val)\n",
        "    self._sum += val\n",
        "    return self._sum * 1.0 / len(self._nums)\n",
        "  \n",
        "  #style 2 Sum first, then pop\n",
        "  def next(self, val):\n",
        "    self._nums.append(val)\n",
        "    self._sum += val \n",
        "    if len(self._nums) > self._size:\n",
        "      self._sum -= self._nums.popleft()\n",
        "    return 1.0 * self._sum / len(self._nums)\n",
        "  \n",
        "  #style 3\n",
        "  def next(self, val):\n",
        "    if len(self._nums) > self.__size - 1:\n",
        "      self._sum -= self._nums.popleft()\n",
        "    self._nums.append(val)\n",
        "    self._sum += val\n",
        "    return 1.0 * self._sum / len(self._nums)\n"
      ],
      "execution_count": 0,
      "outputs": []
    },
    {
      "cell_type": "markdown",
      "metadata": {
        "id": "GLhSSXtCtw7s",
        "colab_type": "text"
      },
      "source": [
        "**Q3 Binary Tree Level Order Traversal**\n",
        "\n",
        "Given a binary tree, return the nodes level by level, left to right. "
      ]
    },
    {
      "cell_type": "code",
      "metadata": {
        "id": "G_sOeYvbt-HW",
        "colab_type": "code",
        "colab": {}
      },
      "source": [
        "#M1 Output is a list\n",
        "\n",
        "from collections import deque\n",
        "\n",
        "class Solution:\n",
        "  def levelOrder(self, root):\n",
        "    if not root:\n",
        "      return []\n",
        "    queue = deque([root]) #root not [root]?\n",
        "    #equivalent to queue = deque(), queue.append(root) \n",
        "    result = []\n",
        "    while queue: #queue not empty\n",
        "      node = queue.popleft()\n",
        "      result.append(node.value)\n",
        "      #add child nodes of the current level\n",
        "      if node.left:\n",
        "        queue.append(node.left)\n",
        "      if node.right:\n",
        "        queue.append(node.right)\n",
        "    return result"
      ],
      "execution_count": 0,
      "outputs": []
    },
    {
      "cell_type": "code",
      "metadata": {
        "id": "3nguf_aNuePf",
        "colab_type": "code",
        "colab": {}
      },
      "source": [
        "#M2 Output is a list of list, each level is a list\n",
        "#would need two queues"
      ],
      "execution_count": 0,
      "outputs": []
    },
    {
      "cell_type": "markdown",
      "metadata": {
        "id": "4Ol0xZQnsjki",
        "colab_type": "text"
      },
      "source": [
        "**Q4 Snake Game**\n",
        "\n",
        "Design a snake game that is played on a device with screen size = width x height.\n",
        "* The snake is initially positioned at the top left corner (0, 0) with length = 1 unit\n",
        "* You are given a list of food's positions in row-column order. When a snake eats the food, its length and game's score both increase by 1\n",
        "* Each food appears on by one on the screen. For example, the second food will not appear until the first food was eaten by the snake.\n",
        "* When a food does appear on the screen, it is guaranteed that it will not appear on a block occupied by the snake\n",
        "\n",
        "Strategy:\n",
        "* Queue:  头进尾出\n",
        "* Set: in order to do the fast check whether the new cell of head is in the snake body, we need an addtional has set to help us here\n"
      ]
    },
    {
      "cell_type": "code",
      "metadata": {
        "id": "L_y4Zea2tdCQ",
        "colab_type": "code",
        "colab": {}
      },
      "source": [
        "'''\n",
        "Example: \n",
        "Given 3x2, and food = [[1,2], [0, 1]]\n",
        "Snake snake = new Snake(width, height, food)\n",
        "\n",
        "Initially the snake appears at position (0,0) and the food at (1,2)\n",
        "|S| | |\n",
        "| | |F|\n",
        "snake.move(\"R\"); -> Returns 0\n",
        "| |S| |\n",
        "| | |F|\n",
        "snake.move(\"D\"); -> Returns 0\n",
        "| | | |\n",
        "| |S|F|\n",
        "snake.move(\"R\"); -> Returns 1\n",
        "| |F| |\n",
        "| |S|S|\n",
        "snake.move(\"U\"); -> Returns 1\n",
        "| |F|S|\n",
        "| | |S|\n",
        "snake.move(\"L\"); -> Returns 2\n",
        "| |S|S|\n",
        "| | |S|\n",
        "If we go lower\n",
        "| |S|S|\n",
        "| |S| |\n",
        "If we go to left\n",
        "|S|S|S|\n",
        "| | | |\n",
        "snake.move(\"U\"); -> Returns -1 (game over because collides with border)\n",
        "'''\n",
        "\n",
        "class SnakeGame(object):\n",
        "  def __init__(self, width, height, food):\n",
        "    \"\"\"\n",
        "    Initialize your data structure here\n",
        "    @param width - screen width\n",
        "    @param height - screen height\n",
        "    @param food - a list of food positions\n",
        "    :type width: int\n",
        "    :type height: int\n",
        "    :type food: List[List[int]]    \n",
        "    \"\"\"\n",
        "    #space: O(n)\n",
        "    initial_pos = (0,0)\n",
        "    self._snake = deque([initial_pos])\n",
        "    self._snakePos = set([initial_pos])\n",
        "    self._foods = deque(food)\n",
        "    self._width, self._height = width, height\n",
        "    self._directions = {'U':(-1,0), 'L':(0,1), 'R':(0,1), 'D':(1,0)}\n",
        "    \n",
        "  def move(self, direction):\n",
        "    \"\"\"\n",
        "    Moves the snake.\n",
        "    @param direction - 'U' = Up, 'L' = Left, 'R' = Right, 'D' = Down\n",
        "    @return the game's score after the move. Return -1 if game over.\n",
        "    Game over when snake crosses the screen boundary or bites its body\n",
        "    :type direction: str\n",
        "    :rtype: int\n",
        "    \"\"\"\n",
        "    #time: O(1)\n",
        "    #space: O(1)\n",
        "    head = self._snake[0]\n",
        "    next_pos = (head[0] + self._directions[direction][0], head[1] + self._directions[direction][1])\n",
        "    \n",
        "    #Remove tail before checking because the new head can be in the previous tail position\n",
        "    tail = self._snake.pop()\n",
        "    self._snakePos.remove(tail)\n",
        "    if next_pos in self._snakePos or not (0 <= next_pos[1] < self._width and 0 <= next_pos[0] < self._height):\n",
        "      return -1 #note this step is faster with set\n",
        "    \n",
        "    #Add next position of snake\n",
        "    self._snake.appendleft(next_pos)\n",
        "    self._snakePos.add(next_pos)\n",
        "    \n",
        "    if self._foods and tuple(self._foods[0]) == next_pos:\n",
        "      self._foods.popleft()\n",
        "      #Add back tail because eating the food is combining the food with the body\n",
        "      self._snake.append(tail)\n",
        "      self._snakePos.add(tail)\n",
        "      \n",
        "    #Score is proportional to snake length\n",
        "    return len(self._snake) - 1\n",
        "    \n",
        "#Instantiated and called as such:\n",
        "obj = SnakeGame(width, height, food)\n",
        "param_1 = obj.move(direction)"
      ],
      "execution_count": 0,
      "outputs": []
    },
    {
      "cell_type": "markdown",
      "metadata": {
        "id": "VhJ5-QQe6M7D",
        "colab_type": "text"
      },
      "source": [
        "**Q5 Min Operation**\n",
        "\n",
        "If I want to add a min operation which will get the minimum item among all items that are currently sotred inside the queue, how would I do it? If this operation needs to be O(1), how would I do it?\n",
        "\n",
        "Min implemented as double ended queue: \n",
        "* if a new element is enqueued and it is larger than or equal our previous min candidate, store it directly because this element could potentially be the minimum among all the future elements that will be enqueued.\n",
        "* If otherwise, we know the min candidate we store last time can be removed. Meanwhile, actually, for all those min cadidates we store before the current one, if any one is larger than the current one, it can be removed\n",
        "* O(1) suggest that we need to do indexing\n",
        "* Therefore, we store multiple items as candidates to be considered as the min and they should be organized by their enqueu timestamp (from earliest to the latest). We can see that this is a non decreasing sequence and the first candidate will be the current min among all items stored in the queue\n",
        "* We can use another queue as the appropriate data structure to organize all candidates\n"
      ]
    },
    {
      "cell_type": "code",
      "metadata": {
        "id": "r4-2TD-J6tr4",
        "colab_type": "code",
        "colab": {}
      },
      "source": [
        "#time: O(1) Amortized. Every item will be at most enqueue into and dequeue from the queue min once\n",
        "from collections import deque\n",
        "\n",
        "class Queue(object):\n",
        "  def __init__(self):\n",
        "    self._deque = deque()\n",
        "    self._mins = deque()\n",
        "    \n",
        "  def __len__(self):\n",
        "    return len(self._deque)\n",
        "  \n",
        "  def empty(self):\n",
        "    return len(self._deque) == 0\n",
        "  \n",
        "  def enqueue(self, value):\n",
        "    self._deque.append(value)\n",
        "    while self._mins and self._mins[-1] > value:\n",
        "      self._mins.pop()\n",
        "    self._mins.append(value)\n",
        "  \n",
        "  def dequeue(self):\n",
        "    value = self._deque.popleft()\n",
        "    if value == self._mins[0]:\n",
        "      self._mins.popleft()\n",
        "  \n",
        "  def front(self):\n",
        "    return self._deque[0]\n",
        "  \n",
        "  def min(self):\n",
        "    #returns the item that are considered minimum among all items that are stored in this quee\n",
        "    #if queue is empty, None will be returned\n",
        "    if self.empty():\n",
        "      return None\n",
        "    return self._mins[0]"
      ],
      "execution_count": 0,
      "outputs": []
    },
    {
      "cell_type": "markdown",
      "metadata": {
        "id": "MRnHki8m0xux",
        "colab_type": "text"
      },
      "source": [
        "\n",
        "**Sliding Window Problem**\n",
        "\n",
        "Sliding Window是一种常见又带有一定难度的题型，题目灵活，经常被认为是一种技巧，但实际上，从题目的频率和解法来看，Sliding Windows题目完全可以自成一类题。\n",
        "\n",
        "题目通常以字符串或者数组为input，求出满足某种条件的window。这种解法的前提是，随着窗口的增长，窗口内元素必须使窗口的某性质呈单调变化，如窗口长度、非负数组中，窗口内元素总和。\n",
        "\n",
        "如果窗口的性质不符合单调性，需要使用其他方法，如prefix sum。\n",
        "\n",
        "* Find largest window size\n",
        " * Given a string, find the length of the longest substring without repeating characters.\n",
        " * 算法思路如下:\n",
        "       最大限度的扩张(right++)，把每个经过的元素加入hash，检测重复。\n",
        "   如果出现重复，停止扩张, 减小窗口范围(left++), 直至[left, right]窗口不再有重复。\n",
        "   如果无重复，继续扩张right\n",
        "\n",
        "* Find smallest window size\n",
        "* Find number of windows of a given size\n",
        "* Find a window such that its sum is max/min/greater than k/smaller than k\n",
        "* Problems with key words \"at most, at least, consecutive, longest subarray\"\n",
        "\n",
        "https://docs.google.com/document/d/10e27HI26XT0C0c2BnOxnjnijZgDfbpr_W21HwAzvOEQ/edit#\n"
      ]
    },
    {
      "cell_type": "markdown",
      "metadata": {
        "id": "3uFQsHe9vnZP",
        "colab_type": "text"
      },
      "source": [
        "**Q6 Longest Sustring Without Repeating Characters**\n",
        "\n",
        "Sliding Window type question (not related to queue)\n",
        "\n",
        "Given a string, find the length of the longest substring without repeating characters\n",
        "\n",
        "Input: \"abcabcbb\"  Output: 3\n",
        "\n",
        "Input: \"bbbbb\"  Output: 1\n",
        "\n",
        "Input: \"pwwkew\"  Output: 3\n",
        "\n"
      ]
    },
    {
      "cell_type": "code",
      "metadata": {
        "id": "UJa70_icv_1A",
        "colab_type": "code",
        "colab": {}
      },
      "source": [
        "#M1 Brute Force\n",
        "'''\n",
        "for i in range():\n",
        "  for r in range():\n",
        "    check if repeat in [L, R]\n",
        "    \n",
        "time: O(n^3)\n",
        "'''\n",
        "\n",
        "#M2 Supporting Indexes with Hashtable\n",
        "#get the longest substring that ends with each index\n",
        "#still having L, R pointers, but L does not move back\n",
        "#Add R to hash (move forward), then\n",
        "# if no dup, R-L+1 is the length\n",
        "# if dup, adjust L until no dup, R-L+1 is the length\n",
        "#time: O(2n) = O(n)\n",
        "#space: O(n) from the hashtable\n",
        "\n",
        "def lengthOfLongestSubstring(self, s):\n",
        "  maxL = 0\n",
        "  hashS = dict() #key is the char, value is the freq\n",
        "  l = 0\n",
        "  result_list = []\n",
        "  for r in range(0, len(s)):    #loop R\n",
        "    if s[r] not in hashS:       #check if new char\n",
        "      hashS[s[r]] = 0\n",
        "    hashS[s[r]] += 1            #add char's freq\n",
        "    while l < len(s) and hashS[s[r]] > 1:    #check dup\n",
        "      hashS[s[l]] -= 1\n",
        "      l += 1                    #l is never reset\n",
        "    maxL = max(maxL, r - l + 1) #以R结尾最长的\n",
        "  return maxL\n",
        "\n",
        "#M3 Improvement\n",
        "#Use hash to store char's index. For each char, find corresponding index. If dup, update index and get length\n",
        "\n"
      ],
      "execution_count": 0,
      "outputs": []
    },
    {
      "cell_type": "code",
      "metadata": {
        "id": "REA8KNzS02Bd",
        "colab_type": "code",
        "colab": {}
      },
      "source": [
        "# Largest window\n",
        "\n",
        "def lengthOfLongestSubstring(self, s):\n",
        "  maxL = 0\n",
        "  hashS = dict()\n",
        "  left = 0\n",
        "  for right in range(0, len(s)):\n",
        "    if s[right] not in hashS:\n",
        "      hashS[s[right]] = 0\n",
        "    hashS[s[right]] += 1\n",
        "    while left < len(s) and hashS[s[right]] > 1:\n",
        "      hashS[s[left]] -= 1\n",
        "      left += 1\n",
        "    maxL = max(maxL, right - left + 1)\n",
        "  return maxL"
      ],
      "execution_count": 0,
      "outputs": []
    },
    {
      "cell_type": "markdown",
      "metadata": {
        "id": "Cal0rPlp7yrL",
        "colab_type": "text"
      },
      "source": [
        "###Stack\n",
        "\n",
        "If we adopt last-in-first-out policy (LIFO), we have an implementation called stack. \n",
        "\n",
        "Examples:\n",
        "* a pile of dishes, always taking plates from the top.\n",
        "* ctrl+z\n",
        "* going back on a browser\n",
        "\n",
        "**Why stack?**\n",
        "\n",
        "\n",
        "A lot of times people tend to focus on things that appear most recently. For example, your email inbox. \n",
        "This has profound implication and application in computer science. For example, stack is a crucial piece in implementing function call in programming language. When returning from a function call, we want to go back to caller that just calls our function recently.\n",
        "\n",
        "        ....\n",
        "        func_a():\n",
        "              func_b()\n",
        "                    func_()\n",
        "\n",
        "* System stack -> stack frame := execution environment for a given function that contains local references, function arguments, etc. Stack overflow means system stack's memory is full \n",
        "\n",
        "* Function call -> push a corrsponding stack frame onto the system stack\n",
        "\n",
        "* System stack[(b frame)]\n",
        "\n",
        "* Return from a function -> pop the corresponding stack frame from the system stack\n",
        "\n",
        "**Implementation**\n",
        "\n",
        "The python list's API append and pop already supports stack functions. The built-in type list itself is a perfect implementation of the stack concept. So use the list directly.\n",
        "\n",
        "* Operations: push() 入栈, pop() 出栈, top()\n",
        "* Popular data structure: list [] append() pop()\n",
        "* time: O(1)\n",
        "\n",
        "**Terminology Distintion**\n",
        "\n",
        "* 数据结构的 stach --> LIFO [1,2,3]\n",
        "* 操作系统的栈 --> automatically generated  function call () / dfs()  \n",
        "* 数据结构的堆 --> priority queue\n",
        "* 操作系统的堆 --> 申请内存来用\n",
        "\n",
        "**Problem Types**\n",
        "\n",
        "从左到右 Linear scan 一个 array/string时，如果要不断回头看左边新元素时，要用stack\n",
        "* Repeatedly deduplication (Leetcode 71. Simpligy Path)\n",
        " * cabba --> caa --> c\n",
        " * /ab/ccc/../c --> /ab/c\n",
        "* Build a more advanced data structure\n",
        " * two stacks --> queue\n",
        " * min-stack/max-stack\n",
        "* Expression Operations\n",
        " * 逆波兰表达式:  a  bc+   * --> a * (b+c)\n",
        " * Decode 2[a2[b]] --> abbabb\n",
        "* 单调栈 （不要求掌握）\n",
        "\n",
        "\n",
        "\n",
        "\n"
      ]
    },
    {
      "cell_type": "code",
      "metadata": {
        "id": "BPO1isdM9Gh3",
        "colab_type": "code",
        "colab": {}
      },
      "source": [
        "# Interface framework\n",
        "class Stack(object):\n",
        "  def __init__(self):\n",
        "    #initializes the internal to become a valid empty stack\n",
        "    pass\n",
        "  def __len__(self):\n",
        "    #returns the number of items that are stored in our stack\n",
        "    pass\n",
        "  def push(self, item):\n",
        "    #puts the item into stack\n",
        "    pass\n",
        "  def pop(self):\n",
        "    #takes the item that has been in the stack for the smallest time out\n",
        "    #if stack is empty, return None\n",
        "    pass\n",
        "  def empty(self):\n",
        "    #return true if stack empty.\n",
        "    pass\n",
        "  def top(self):\n",
        "    #returns the item that has been in stack for the smallest time\n",
        "    #if stack empty, return None\n",
        "    pass"
      ],
      "execution_count": 0,
      "outputs": []
    },
    {
      "cell_type": "code",
      "metadata": {
        "id": "DzB3kJ_D-JVG",
        "colab_type": "code",
        "colab": {}
      },
      "source": [
        "# Implementation backed by list \n",
        "class Stack(object):\n",
        "  def __init__(self):\n",
        "    self._items = []\n",
        "  def __len__(self):\n",
        "    return len(self._items)\n",
        "  def push(self, item):\n",
        "    self._items.append(item)\n",
        "  def pop(self):\n",
        "    if self.empty():\n",
        "      return None\n",
        "    return self._items.pop()\n",
        "  def empty(self):\n",
        "    return len(self._items) == 0\n",
        "  def top(self):\n",
        "    if self.empty():\n",
        "      return None\n",
        "    return self._items[-1]"
      ],
      "execution_count": 0,
      "outputs": []
    },
    {
      "cell_type": "markdown",
      "metadata": {
        "id": "6wK6DqUR_B9f",
        "colab_type": "text"
      },
      "source": [
        "**Q1 Stack Concept**\n",
        "\n",
        "Suppose that a client performs an intermixed sequence of stack operations (push and pop). The push operations put the integers 0 through 9 in order on to the stack; the pop operations print out the return value. Which of the following sequence could not occur?\n",
        "\n",
        "a) 4, 3, 2, 1, 0, 9, 8, 7, 6, 5 -> possible \n",
        "\n",
        "```\n",
        "push 0 to 4, pop all, push 5 to 9, pop all\n",
        "```\n",
        "\n",
        "b) 4, 6, 8, 7, 5, 3, 2, 9, 0, 1 -> no\n",
        "\n",
        "```\n",
        "push 0 to 4, pop 4, push 4 to 6, pop 6, push 7 to 8, pop 8, pop 7, pop 5, pop 3, pop 2, push 9, pop 9, cannot pop 0\n",
        "```\n",
        "\n",
        "c) 2, 5, 6, 7, 4, 8, 9, 3, 1, 0 -> possible\n",
        "\n",
        "d) 4, 3, 2, 1, 0, 5, 6, 7, 8, 9 -> possible\n",
        "\n",
        "e) 1, 2, 3, 4, 5, 6, 7, 8, 9 -> possible\n",
        "\n",
        "f) 0, 4, 6, 5, 3, 8, 1,7, 2, 9 -> no\n",
        "\n",
        "g) 1, 4, 7, 9, 8, 6, 5, 3, 0, 2 -> no\n",
        "\n",
        "h) 2, 1, 4, 3, 6, 5, 8, 7, 9, 0 -> possible\n",
        "\n",
        "Ans: Once an item has been stacked on top of another, there is no way to pop them in a different order. b) 0, 1 cannot occur. f) 1, 7 cannot occur. g) 0, 2 cannot occur"
      ]
    },
    {
      "cell_type": "markdown",
      "metadata": {
        "id": "gkgbuoz_BbpU",
        "colab_type": "text"
      },
      "source": [
        "**Q2 Valid String Backets**\n",
        "\n",
        "Given a string containing just the characters '(', ')', '{', '}', '[', ']', determine if the input string is valid. The brackets must close in the correct order. \"()\" and \"()[]{}\" and \"(())\" are all valid but \"(]\" and \"([)]\"are not.\n",
        "\n",
        "What does the word 'valid' mean?\n",
        "\n",
        "([)] -> for ), although we have a ( precedes it, we have another [ that is much closer to it. \n",
        "(()) -> there are two matches.\n",
        "\n",
        "For each right brackets, the matching left one will be the closest one that precedes it and is still not matched.\n",
        "\n",
        "Algorithm:\n",
        "\n",
        "Iterate through all the bracket and push left brackets onto a stack accordingly. Whenever we encounter a right bracket, we check the most recently encounter left bracket and return false if not matched.\n"
      ]
    },
    {
      "cell_type": "code",
      "metadata": {
        "id": "9Ntc_GnzBL0x",
        "colab_type": "code",
        "colab": {}
      },
      "source": [
        "def is_valid(brackets):\n",
        "  left_bracket = []\n",
        "  marching_braket = {'(' : ')', '{' : '}', '[' : ']'}\n",
        "  for b in brackets:\n",
        "    if b in matching_bracket:  #if b is a left bracket\n",
        "      left_bracket.append(b)   #push to the stack\n",
        "    elif not left_bracket or matching_bracket[left_bracket[-1]] != b:\n",
        "      return False  #check whether this right bracket matches with the most recent left\n",
        "    else:\n",
        "      left_bracket.pop() #if matches, pop the left bracket from the stack\n",
        "  return not left_bracket\n"
      ],
      "execution_count": 0,
      "outputs": []
    },
    {
      "cell_type": "markdown",
      "metadata": {
        "id": "wbRauGB-EYoi",
        "colab_type": "text"
      },
      "source": [
        "**Q3 Valid Arithmetic Expression**\n",
        "\n",
        "This is a classical problem. Assume we have the following definition for a concept called arithmetic expression: An arithmetic expression is either a number, or a left parenthesis followed by an artihmetic expression followed by an operator followed by another arithmetic expression followed by a right parenthesis.\n",
        "\n",
        "Examples: (1 + (5*4)), 23, (4*5), ((23+34)*(34+12))\n",
        "\n",
        "Give an arithmetic expression, compute its value. The arithmetic expression itself will be represented as a list of strings that only contains the following terms: (, ), +, -, *, /, none-negative integers\n",
        "\n",
        "When we see \")\", we should look back to check the most recently encountered or calcualted operands and operator. \n",
        "\n",
        "Use two stacks, one for operans (encountered or calculated), the other for operators.\n",
        "\n",
        "Key observations:\n",
        "\n",
        "1. Every expression will be evaluated to a single value eventually\n",
        "2. Based on definition, we could have a sub expression being nested within another expression. We need to first evaluate the subexpression and then use its result. So, whenever we evaluate an expresssion, we need to look at the results of two most recently evaluated expressions. Evaluation requires knowning the operator we want to apply, following the same logic, we need to look at the most recently encountered operator.\n",
        "\n",
        "Algorithm:\n",
        "\n",
        "Iterate through all terms. Whenever we encounter the right bracket, it means we get all the information ready for evalauting an expression, we get the two relevant operands and operator from stacks, get the result and then put it back into the operand stack so that the result will be available to be used in another round of evaluation. For other cases, just simply push the term onto the stacks.\n",
        "\n",
        "\n",
        "\n",
        "```\n",
        "operands = []\n",
        "operators = []\n",
        "for term in the input:\n",
        "  if term is a number:\n",
        "    operands.append(term)\n",
        "  elif term is a operator:\n",
        "    operators.append(term)\n",
        "  elif term is \")\":\n",
        "    look back to check the most recently encountered or calcualted operands and operator\n",
        "    top 2 numbers are the two most recently encounter or calculate\n",
        "    right = operands.pop()\n",
        "    left = operands.pop()\n",
        "    operator = operators.pop()\n",
        "    if operator == \"+\"\n",
        "      operands.append(left+right)\n",
        "    elif...\n",
        "  else:\n",
        "    pass\n",
        "```\n",
        "\n"
      ]
    },
    {
      "cell_type": "code",
      "metadata": {
        "id": "C8wNxB3DHwER",
        "colab_type": "code",
        "colab": {}
      },
      "source": [
        "import operator\n",
        "def arithmetic_expression_evaluation(terms):\n",
        "  #assume terms cannot be empty and they can form a valid arithmetic expression\n",
        "  #terms only contains: '(', ')', '+', '-', '*', '/', non-negative integers\n",
        "  operands = []\n",
        "  operators = []\n",
        "  ops = {'+': operator.add, '-': operator.add, '*': operator.mul, '/': operator.truediv} # trick\n",
        "  for term in terms:\n",
        "    if term == '(':\n",
        "      continue\n",
        "    elif term == ')':\n",
        "      right, left = operands.pop(), operands.pop()\n",
        "      operands.append(ops[operators.pop()](left,right)) #note expression here\n",
        "    elif term in ops:\n",
        "      operators.append(term)\n",
        "    else:\n",
        "      operands.append(int(term))\n",
        "  return operands[0]"
      ],
      "execution_count": 0,
      "outputs": []
    },
    {
      "cell_type": "markdown",
      "metadata": {
        "id": "gNX5RQpLdAiG",
        "colab_type": "text"
      },
      "source": [
        "**Q4 Implementing a Queue with two Stacks**\n",
        "\n",
        "Implement a Queue with two Stacks\n",
        "* Stack1: the only stack to store new elements when adding a new element into the queue\n",
        "* Stack2: the only stack to pop old element out of the queue\n",
        " * case1: if stack2 is not empty, we can just pop\n",
        " * case2: if stack2 is empty, we move all data from stack1 to stack2 one by one, then pop out the top element from stack2 --> O(n)\n",
        "\n",
        "Enqueue: \n",
        "* directly put elements into s1\n",
        "\n",
        "Dequeue: \n",
        "* first, put elements from s1 into s2\n",
        "* second, take elements out from s2 \n",
        "\n",
        "Complexity\n",
        "* time: O(1) enqueue, O(n) dequeue worst case\n",
        "* Amortized time complexity (avg over a big b)\n",
        " * n = 1000\n",
        " * 1st dequeue = n*stack1pop() + n*stack2.push() + 1 = 2n+1\n",
        " * 2nd, 3rd...1000th = 1\n",
        " * avg = O(1)\n",
        "\n"
      ]
    },
    {
      "cell_type": "code",
      "metadata": {
        "id": "ZPkx4u58dFHN",
        "colab_type": "code",
        "colab": {}
      },
      "source": [
        "class Queue:\n",
        "  def __init__(self):\n",
        "    self.s1 = []\n",
        "    self.s2 = []\n",
        "    self.head = None    # the bottom element of s1 (may not need for python)\n",
        "    \n",
        "  def enqueue(self, x):\n",
        "    if not self.s1:\n",
        "      self.head = x\n",
        "    self.s1.append(x)\n",
        "    \n",
        "  def dequeue(self):\n",
        "    if not self.s2:\n",
        "      while self.s1:\n",
        "        self.s2.append(self.s1.pop())\n",
        "    return self.s2.pop()\n",
        "  \n",
        "  def is_empty(self):\n",
        "    return not self.s1 and not self.s2\n",
        "  \n",
        "  def peek(self): # see what the head is without moving it out\n",
        "    if self.s2: \n",
        "      return self.s2[-1]\n",
        "    return self.head \n",
        "  \n",
        "  def size(self):\n",
        "    return len(self)\n",
        "\n",
        "# time for enqueue: O(1)\n",
        "# time for dequeue: amortized O(1), worst O(n)\n",
        "# (given 3 elements, avg taking element 2 is O(2))"
      ],
      "execution_count": 0,
      "outputs": []
    },
    {
      "cell_type": "markdown",
      "metadata": {
        "id": "rDH4KS6tGz9k",
        "colab_type": "text"
      },
      "source": [
        "Amortized time vs average time\n",
        "* Amortized time = for any specific input, we amortize a sequence of operations\n",
        "* Average time: the avg of all possible inputs in the input space (in the universe)\n",
        "* [Resources](https://www.quora.com/What-s-the-difference-between-average-time-complexity-and-amortized-time-complexity)\n",
        "\n"
      ]
    },
    {
      "cell_type": "markdown",
      "metadata": {
        "id": "DTJgCkRJfy2p",
        "colab_type": "text"
      },
      "source": [
        "**Q5 Implement a stack with MAX API**\n",
        "\n",
        "M1 Brute-force: max() iterate each element in the stack to find max --> O(n)\n",
        "\n",
        "M2: Trade space for time\n",
        "* use a x_max to record the max\n",
        "* Current top of stack (x, x_max)\n",
        "* Push: if y > x_max => put (y, y) on stack; else store (y, x_max)\n",
        "* Pop: tmp = lst.pop(), return tmp[0]\n",
        "* Max: stack[-1][1]\n",
        "\n",
        "Example: 1, 2, 0, 3, -1\n",
        "\n",
        "Stack = [] --> [(1, 1)] --> [(1, 1), (2, 2)] --> [(1, 1), (2, 2), (0, 2)]\n",
        "  "
      ]
    },
    {
      "cell_type": "code",
      "metadata": {
        "id": "uhQc1sh4f3XC",
        "colab_type": "code",
        "colab": {}
      },
      "source": [
        "class Stack:\n",
        "  def __init__(self):\n",
        "    self.stack = []\n",
        "  \n",
        "  def is_empty(self):\n",
        "    return len(self.stack) == 0\n",
        "  \n",
        "  def max(self):\n",
        "    if not self.is_empty():\n",
        "      return self.stack[-1][1] #return last tuple's second element\n",
        "    raise Exception('max(): empty stack') #error\n",
        "  \n",
        "  def push(self, x):\n",
        "    tmp = x\n",
        "    if not self.is_empty():\n",
        "      tmp = max(tmp, self.max())\n",
        "    self.stack.append((x,tmp))\n",
        "  \n",
        "  def pop(self):\n",
        "    if self.is_empty():\n",
        "      raise Exception('pop(): empty stack')\n",
        "    elem = self.stack.pop()\n",
        "    return elem[0]\n",
        "  \n",
        "#time for each operation: O(1)\n",
        "#space: O(n)"
      ],
      "execution_count": 0,
      "outputs": []
    },
    {
      "cell_type": "markdown",
      "metadata": {
        "id": "Mgxrubi1jSMU",
        "colab_type": "text"
      },
      "source": [
        "**Q6 Implement a queue with MAX API -> hw**\n",
        "\n",
        "\n"
      ]
    },
    {
      "cell_type": "code",
      "metadata": {
        "id": "j539QBqJZ6iV",
        "colab_type": "code",
        "colab": {}
      },
      "source": [
        ""
      ],
      "execution_count": 0,
      "outputs": []
    },
    {
      "cell_type": "markdown",
      "metadata": {
        "id": "ViE5XTSZ4ZsI",
        "colab_type": "text"
      },
      "source": [
        "**Q7 Deduplication**\n",
        "\n",
        "Given an unsorted array, deduplicate adjacent letters repeatedly\n",
        "\n",
        "Input: abbbazw --> aazw --> zw\n",
        "\n",
        "M1 Stack\n",
        "* f: pointer to scan through each letter, such that characters in the right of f (including f) are not processed\n",
        "* stack: all the processed letters that should be kept\n",
        "* For each step:\n",
        " * case 1: When curr is new, ignore previous dups. a[f] != stack.top() then stack.push(a[f]), f++\n",
        " * case 2: When curr is dup, kepp moving f until a new char, then pop. a[f] == stack.top()\n",
        " \n",
        "M2 Non-Stack\n",
        "Using two pointers: S (slow) + F\n",
        "* f: linear scan pointer (f and after are not processed)\n",
        "* s: all letters to the left of s (not including s) are processed that should be kept. NOTE: s=0 means nothing. So s is not included. --> a[s-1] 才是栈顶\n",
        "* Initialize: s = f = 1\n",
        "* For each step:\n",
        " * case 1: a[f] != a[s-1], then a[s] = a[f]; s+=1; f+=1\n",
        " * case 2: a[f] == a[s-1], then repeatedly f++ until a[f] != a[s-1]; s-=1\n",
        " * return a[0:s] which includes [0, s)\n",
        "\n",
        "\n"
      ]
    },
    {
      "cell_type": "code",
      "metadata": {
        "id": "LmNLrtAH4lgi",
        "colab_type": "code",
        "colab": {}
      },
      "source": [
        "#M1 Stack\n",
        "def removeDup(input):\n",
        "  if len(input) <= 1:\n",
        "    return input\n",
        "  stack = []\n",
        "  f = 0\n",
        "  while f < len(input):\n",
        "    if len(stack) > 0 and input[f] == stack[-1]:\n",
        "      while f < len(input) and input[f] == stack[-1]:\n",
        "        f += 1\n",
        "      stack.pop()\n",
        "    else:\n",
        "      stack.append(input[f])\n",
        "      f += 1\n",
        "    return \"\".join(stack)  #convert list into a string, separater is \"\"\n",
        "  \n",
        "  \n",
        "#M2 In-place space improvement (stack/list not allowed)\n",
        "def removeDup(input):\n",
        "  \n",
        "#pending\n",
        "\n",
        "\n",
        "#space: O(n)  from string to list conversion; if input is list, O(1)\n",
        "#time: O(n)\n"
      ],
      "execution_count": 0,
      "outputs": []
    },
    {
      "cell_type": "markdown",
      "metadata": {
        "id": "YVJ6cbSLLffE",
        "colab_type": "text"
      },
      "source": [
        "**Q8 Reverse Polish Notation 逆波兰表达式**\n",
        "\n",
        "Evaluate the value of an arithmetic expression in [Reverse Polish Notation](https://en.wikipedia.org/wiki/Reverse_Polish_notation)\n",
        "* Operators follow their operands\n",
        "* Division between two integers should truncate to zero\n",
        "* The given RPN expression is always valid.\n",
        "\n",
        "Input: [\"2\", \"1\", \"+\", \"3\", \"*\"] --> (2+1)*3\n"
      ]
    },
    {
      "cell_type": "code",
      "metadata": {
        "id": "7tcGUW8mL5CY",
        "colab_type": "code",
        "colab": {}
      },
      "source": [
        "#C1 Given a list of strings\n",
        "class Solution(object):\n",
        "  def evalRPN(sef, tokens):\n",
        "    if len(tokens) == 0:\n",
        "      return 0\n",
        "    st = []\n",
        "    for i in range(len(tokens)):\n",
        "      if tokens[i] == '+':\n",
        "        r = st.pop()\n",
        "        l = st.pop()\n",
        "        st.append(l+r)\n",
        "      elif tokens[i] == '-':\n",
        "        r = st.pop()\n",
        "        l = st.pop()\n",
        "        st.append(l-r)\n",
        "      elif tokens[i] == '*':\n",
        "        r = st.pop()\n",
        "        l = st.pop()\n",
        "        st.append(l*r)\n",
        "      elif tokens[i] == '/':\n",
        "        r = st.pop()\n",
        "        l = st.pop()\n",
        "        st.append(int(float(l)/r)) #python calculates 6/(-132) = -1 but java is 0\n",
        "      else:\n",
        "        st.append(int(tokens[i]))  #numeric\n",
        "    return st.pop()\n",
        "  \n",
        "  \n",
        "#C2 Given a string\n",
        "\n",
        "#pending"
      ],
      "execution_count": 0,
      "outputs": []
    },
    {
      "cell_type": "markdown",
      "metadata": {
        "id": "czYnHk9jNiF8",
        "colab_type": "text"
      },
      "source": [
        "**Q9 单调栈**\n",
        "\n",
        "BA/DS 不用掌握，SDE/ML可以看看\n",
        "\n",
        "https://docs.google.com/document/d/1meb7UFRrDxtHC_p_roHIm-1iIQjGEq8HhbzmDXMCR4g/edit"
      ]
    },
    {
      "cell_type": "markdown",
      "metadata": {
        "id": "uXUhTBid_uba",
        "colab_type": "text"
      },
      "source": [
        "**Q10 Basic Property**\n",
        "\n",
        "Given two sequences pushed and popped with distinct values, return true iff this could have been the result of a sequence of push and pop operations on an initially empty stack\n",
        "\n",
        "Example:\n",
        "\n",
        "Input: Pushed = [1,2,3,4,5]  popped = [4,5,3,2,1]\n",
        "\n",
        "Output: True -> push(1), push(2), push(3), push(4), pop() -> 4, push(5), pop() -> 5, pop() -> 3, pop() -> 2, pop() -> 1\n"
      ]
    },
    {
      "cell_type": "code",
      "metadata": {
        "id": "YSGp15IFAM-d",
        "colab_type": "code",
        "colab": {}
      },
      "source": [
        "'''\n",
        "Example 2: \n",
        "Input: pushed = [1,2,3,4,5], popped = [4,3,5,1,2]\n",
        "Output: false\n",
        "\n",
        "Use stack to simulate:\n",
        "stack = []\n",
        "Current popped element 4: we should push until we see 4\n",
        "stack = [1,2,3,4], pop 4 -> match the current popped element\n",
        "stack = [1,2,3], pop 3 -> our stack top already matches, just pop\n",
        "stack = [1,2] -> current popped element 5, should push \n",
        "stack = [1,2,5] -> match the current popped element, pop 5\n",
        "stack = [1,2] -> current popped element 1, stack top does not match and we do not have remaining push. Gme over\n",
        "'''\n",
        "class Solution(object):\n",
        "  def validateStackSequences(self, pushed, popped):\n",
        "    '''\n",
        "    :type pushed: List[int]\n",
        "    :type popped: List[int]\n",
        "    :rtype: bool\n",
        "    '''\n",
        "    s, next_pushed = [], 0\n",
        "    for item in popped:\n",
        "      #check if our stack top matches with popped element \n",
        "      #push until we exaust all options or we find\n",
        "      while (not s or s[-1] != item) and next_pushed < len(pushed):\n",
        "        s.append(pushed[next_pushed]) \n",
        "        next_pushed += 1\n",
        "      if s[-1] != item:\n",
        "        break\n",
        "      s.pop()\n",
        "    return not s"
      ],
      "execution_count": 0,
      "outputs": []
    },
    {
      "cell_type": "markdown",
      "metadata": {
        "id": "OY_kv9sDCAf1",
        "colab_type": "text"
      },
      "source": [
        "**Q11 Processing nested structure**\n",
        "\n",
        "Given a balanced parentheses string S, compute the score of the string based on the following rules:\n",
        "* () has score 1\n",
        "* AB has score A + B where A and B are balanced parentheses strings\n",
        "* (A) has score 2*A where A is a balanced parenthesis string\n",
        "\n",
        "Example:\n",
        "\n",
        "Input: \"()\" -> Output: 1\n",
        "\n",
        "Input: \"(())\" -> Output: 2\n",
        "\n",
        "Input: \"()()\" -> Output: 2\n",
        "\n",
        "Input: \"(()(()))\" -> Output: 6"
      ]
    },
    {
      "cell_type": "code",
      "metadata": {
        "id": "F_xGJavRCTtp",
        "colab_type": "code",
        "colab": {}
      },
      "source": [
        "'''\n",
        "stack: store the score we have evaluated so far for those seq\n",
        "score: store the actual score for the seq that we are currently evaluating\n",
        "\n",
        "init: stack, score = [], 0\n",
        "( -> indicates we should start a new evaluation\n",
        "     push the last score onto the stack and then initialize the score for new evaluation\n",
        "     stack, score = [0], 0\n",
        ") -> indicates we should finish the latest evaluation\n",
        "     retrieve the last score, the new score = old_score * 2 + last_score\n",
        "     stack, score = [], max(0*2, 1) + 0 = 1\n",
        "\n",
        "(())\n",
        "init: stack, score = [], 0\n",
        "( -> stack, score = [0], 0\n",
        "( -> stack, score = [0, 0], 0\n",
        ") -> stack, score = [0], 0 + max(2*0, 1) = 1\n",
        ") -> stack, score = [],0 + max(2*1, 1) = 2\n",
        "\n",
        "()()\n",
        "init: stack, score = [], 0\n",
        "( -> stack, score = [0], 0\n",
        ") -> stack, score = [], 1\n",
        "( -> stack, score = [1], 0\n",
        ") -> stack, score = [], 1 + max(2*0, 1) = 2\n",
        "\n",
        "(()(()))\n",
        "init: stack, score = [], 0\n",
        "( -> stack, score = [0], 0\n",
        "( -> stack, score = [0, 0], 0\n",
        ") -> stack, score = [0], 1\n",
        "( -> stack, score = [0, 1], 0\n",
        "( -> stack, score = [0, 1, 0], 0\n",
        ") -> stack, score = [0, 1], 0 + max(2*0, 1) = 1\n",
        ") -> stack, score = [0], 1 + max(2*1, 1) = 3\n",
        ") -> stack, score = [], 0 + max(2*3, 1) = 6\n",
        "'''\n",
        "\n",
        "#Solution 1 (pending)\n",
        "\n",
        "\n",
        "#Solution 2\n",
        "class Solution(object):\n",
        "  def scoreOfParentheses(self, S):\n",
        "    s = [0]\n",
        "    for p in S:\n",
        "      if p == '(':\n",
        "        s.append(0)\n",
        "      else:\n",
        "        t = max(s.pop() * 2, 1)\n",
        "        s[-1] += t\n",
        "    return s[0]"
      ],
      "execution_count": 0,
      "outputs": []
    },
    {
      "cell_type": "markdown",
      "metadata": {
        "id": "hjt_uJ-dG2PK",
        "colab_type": "text"
      },
      "source": [
        "**Q12 Convert Expression to Reverse Polish Notation**\n",
        "\n",
        "Given a string array representing an expression, and return the Reverse Polish notation of this expression (remove the parentheses)\n",
        "\n",
        "Example:\n",
        "\n",
        "Input: [\"3\", \"-\", \"4\", \"+\", \"5\"]  Output: [\"3\", \"4\", \"-\", \"5\", \"+\"]\n",
        "\n",
        "Observations:\n",
        "* no matter we have \"(\" or not, the relative order between the operands is the same\n",
        "* we need to determine the correct order of the operators\n",
        "* we need to store the operators we encounter from left to right.When the procedure of new operator is <= last operator, then we should output the last operator (and we sohuld continuosly to do so)\n",
        "\n"
      ]
    },
    {
      "cell_type": "code",
      "metadata": {
        "id": "ra4WzCKDHL4-",
        "colab_type": "code",
        "colab": {}
      },
      "source": [
        "'''\n",
        "(1) 5 - 3 - 6 => 5 3 - 6 -  (5 3 6 - - is wrong evaluation order)\n",
        "(2) 5 + 3 + 6 => 5 3 + 6 + = 5 3 6 + + \n",
        "(3) 5 * 3 - 6 => 5 3 * 6 - \n",
        "(4) 5 - 3 * 6 => 5 3 6 * -\n",
        "(5) ( 5 - 6 ) * 7 => 5 6 - 7 *\n",
        "'''"
      ],
      "execution_count": 0,
      "outputs": []
    },
    {
      "cell_type": "markdown",
      "metadata": {
        "id": "7Tv9CyiLwRCo",
        "colab_type": "text"
      },
      "source": [
        "###Binary Tree\n",
        "\n",
        "\n",
        "Concepts\n",
        "* Binary tree def and its implementation \n",
        "* 4 types of traversal algorithms\n",
        "* special cases of trees\n",
        "* Binary tree recursion paradigm\n",
        "\n",
        "Binary Tree = A tree that has at most two children nodes so it is called binary\n",
        "\n",
        "* Root = First node\n",
        "* Leaf = A node that do not have children\n",
        "* Level = number of levels of children\n",
        "* A binary tree's children is also a binary tre\n",
        "* A tree with only right child becomes a linked list\n",
        "\n",
        "\n",
        "```\n",
        "           10\n",
        "         /   \\\n",
        "        5     15 \n",
        "      / \\     /  \\\n",
        "    2    7    12  20\n",
        "\n",
        "A: 3 = 10 5 15;  5 10 15; 5 15 10\n",
        "```\n",
        "\n",
        "Applications\n",
        "* Social network analysis: family tree, organizational chart\n",
        "* SQL query plan tree\n"
      ]
    },
    {
      "cell_type": "code",
      "metadata": {
        "id": "TcYBiDazwTmh",
        "colab_type": "code",
        "colab": {}
      },
      "source": [
        "class TreeNode:\n",
        "  def __init__(self, value):\n",
        "    self.val = value\n",
        "    self.left = None\n",
        "    self.right = None\n",
        "\n",
        "# Creating a tree\n",
        "root = TreeNode(10)\n",
        "root.left = TreeNode(5)\n",
        "root.right = TreeNode(15)\n",
        "root.left.left = TreeNode(2)\n",
        "root.left.right = TreeNode(7)\n",
        "root.right.left = TreeNode(12)\n",
        "root.right.right = TreeNode(20)"
      ],
      "execution_count": 0,
      "outputs": []
    },
    {
      "cell_type": "markdown",
      "metadata": {
        "id": "MvGfdPJl4hHl",
        "colab_type": "text"
      },
      "source": [
        "\n",
        "**Tree traversal**\n",
        "\n",
        "Q: How many access orders (ways to access nodes) given three nodes?\n",
        "* 6 = 3 * 2 * 1\n",
        "\n",
        "Q: Fix the relative ordering of left and right child (if must visit left before right). How many? \n",
        "* 3 options. \n",
        "* val      left   val  right  val\n",
        "* pre-order    in-order    post-order\n",
        "\n",
        "Types of traversal\n",
        "* M1 Pre-order: 先序遍历\n",
        "* M2 In-order: 中序遍历. \n",
        "* M3 Post-order: 后序遍历. Root at the end\n",
        "* M4 Level order ???\n",
        "\n",
        "Trick: base case usually refers to None; ChildNode below the leaf node\n",
        "\n",
        "Q: Given the in-order and post-order traversal, can you build the tree?"
      ]
    },
    {
      "cell_type": "code",
      "metadata": {
        "id": "6ZuQpyzG6aDw",
        "colab_type": "code",
        "colab": {}
      },
      "source": [
        "# M1 Pre-order: print itself, change value -> left -> right\n",
        "# print all nodes\n",
        "def preorder(root):\n",
        "  if not root:\n",
        "    return \n",
        "  print(root.val)\n",
        "  preorder(root.left)\n",
        "  preorder(root.right)\n",
        "\n",
        "# create array with all nodes\n",
        "res = []\n",
        "def preorder(root, res):\n",
        "  if not root:\n",
        "    return \n",
        "  res.append(root.val)\n",
        "  preorder(root.left, res)\n",
        "  preorder(root.right, res)\n",
        "\n",
        "# complete solution\n",
        "def preorder_traversal(self, root):\n",
        "  res = []\n",
        "  self.helper(root, res)\n",
        "  return res\n",
        "\n",
        "def helper(self, root, res):\n",
        "  if not root:\n",
        "    return\n",
        "  res.append(root.val)\n",
        "  self.helper(root.left, res)\n",
        "  self.helper(root.right, res)\n",
        "  \n",
        "# res = [10, 5, 2, 7, 15, 12, 20]\n",
        "# Time: O(c*n) = O(n), c=3\n",
        "# space: O(h)"
      ],
      "execution_count": 0,
      "outputs": []
    },
    {
      "cell_type": "code",
      "metadata": {
        "id": "zXYrtqoIQP0V",
        "colab_type": "code",
        "colab": {}
      },
      "source": [
        "# M1.2 Pre-Order (non-recursive)\n",
        "'''\n",
        "    A\n",
        "   / \\\n",
        "  B   C\n",
        " / \\  / \\\n",
        "N  N N   N\n",
        "\n",
        "- Each node is visited 3 times\n",
        "- pre-order: print when visiting for the 1st time\n",
        "- in-order: print when visiting for the 2nd time\n",
        "- post-order: print when visiting for the 3rd time\n",
        "- must use stack: (TreeNode, count), where count is the count for next time visiting it\n",
        "\n",
        "Stack = [(B, 1)]\n",
        "while stack:\n",
        "  node, count = stack.pop()\n",
        "  if count == 1:\n",
        "    print(node)\n",
        "    stack.append((node, count + 1))\n",
        "    if node.left:\n",
        "      stack.append((node.left, 1))\n",
        "  if count == 2:\n",
        "    stack.append((node, count + 1))\n",
        "    if node.right:\n",
        "      stack.append((node.right, 1))\n",
        "  if count == 3:\n",
        "    continue\n",
        "'''\n",
        "\n",
        "def preorder_traversal(root):\n",
        "  output = []\n",
        "  if not root:\n",
        "    return output\n",
        "  stack = [(root, 1)]\n",
        "  while stack:\n",
        "    node, count = stack.pop()\n",
        "    if count == 1:\n",
        "      output.append(node.val)\n",
        "      stack.append((node, count + 1))\n",
        "      if node.left:\n",
        "        stack.append((node.left, 1))\n",
        "    if count == 2:\n",
        "      if node.right:\n",
        "        stack.append((node.right, 1))\n",
        "  return output\n"
      ],
      "execution_count": 0,
      "outputs": []
    },
    {
      "cell_type": "code",
      "metadata": {
        "id": "F7XswNTL7nhQ",
        "colab_type": "code",
        "colab": {}
      },
      "source": [
        "# M2 In-Order\n",
        "def preorder_traversal(self, root):\n",
        "  res = []\n",
        "  self.helper(root, res)\n",
        "  return res\n",
        "\n",
        "def helper(self, root, res):\n",
        "  if not root:\n",
        "    return\n",
        "  self.helper(root.left,  res)\n",
        "  res.append(root.val)\n",
        "  self.helper(root.right, res)\n",
        "  \n",
        "# res = [2, 5, 7, 10, 12, 15, 20]\n",
        "# time: O(n)\n",
        "# space: O(h)"
      ],
      "execution_count": 0,
      "outputs": []
    },
    {
      "cell_type": "code",
      "metadata": {
        "id": "eEUuJkZyWOLx",
        "colab_type": "code",
        "colab": {}
      },
      "source": [
        "# M2.2 inorder (nonrecursive)\n",
        "def inorder_traversal(root):\n",
        "  output = []\n",
        "  if not root:\n",
        "    return output\n",
        "  stack = [(root, 1)]\n",
        "  while stack:\n",
        "    node, count = stack.pop()\n",
        "    if count == 1:\n",
        "      stack.append((node, count + 1))\n",
        "      if node.left:\n",
        "        stack.append((node.left, 1))\n",
        "    if count == 2:\n",
        "      output.append(node.val)\n",
        "      if node.right:\n",
        "        stack.append((node.right, 1))\n",
        "  return output"
      ],
      "execution_count": 0,
      "outputs": []
    },
    {
      "cell_type": "code",
      "metadata": {
        "id": "9Y1onY9l7s1e",
        "colab_type": "code",
        "colab": {}
      },
      "source": [
        "# M3 Post-Order\n",
        "def preorder_traversal(self, root):\n",
        "  res = []\n",
        "  self.helper(root, res)\n",
        "  return res\n",
        "\n",
        "def helper(self, root, res):\n",
        "  if not root:\n",
        "    return\n",
        "  self.helper(root.left, res)\n",
        "  self.helper(root.right, res)\n",
        "  res.append(root.val)\n",
        "  \n",
        "# res = [2, 7, 5, 12, 20, 15, 10]\n",
        "# time: O(n)\n",
        "# space: O(h)"
      ],
      "execution_count": 0,
      "outputs": []
    },
    {
      "cell_type": "code",
      "metadata": {
        "id": "AbrtBZTMXAnM",
        "colab_type": "code",
        "colab": {}
      },
      "source": [
        "# M3.2 postorder (nonrecursive)\n",
        "def postorder_traversal(root):\n",
        "  output = []\n",
        "  if not root:\n",
        "    return output\n",
        "  stack = [(root, 1)]\n",
        "  while stack:\n",
        "    node, count = stack.pop()\n",
        "    if count == 1:\n",
        "      stack.append((node, count + 1))\n",
        "      if node.left:\n",
        "        stack.append((node.left, 1))\n",
        "    if count == 2:\n",
        "      output.append(node.val)\n",
        "      if node.right:\n",
        "        stack.append((node.right, 1))\n",
        "    if count == 3:\n",
        "      output.append(node.val)\n",
        "  return output"
      ],
      "execution_count": 0,
      "outputs": []
    },
    {
      "cell_type": "code",
      "metadata": {
        "id": "fsnvbZmUCdVj",
        "colab_type": "code",
        "colab": {}
      },
      "source": [
        "# M4 Level-Order\n",
        "# using two queues\n",
        "# can be done by recursion, though...\n",
        "'''\n",
        "def level_traversal(root):\n",
        "  Q = [root]\n",
        "  while q is not empty:\n",
        "    x = q.dequeue()\n",
        "    print(x)\n",
        "    if x.left: q.enqueue(x.left)\n",
        "    if x.right: q.enqueue(x.right)\n",
        "    if curr is empty:\n",
        "      print new line\n",
        "      if next is not empty\n",
        "        curr = next\n",
        "        next = []\n",
        "'''\n",
        "\n",
        "def level(root):\n",
        "  q = [root] # current level\n",
        "  next = []  # next level\n",
        "  line = []  # content to print\n",
        "  while q:   # if there is anything at this level\n",
        "    head = q.pop(0)\n",
        "    if head.left:\n",
        "      next.append(head.left)\n",
        "    if head.right:\n",
        "      next.append(head.right)\n",
        "    line.append(head.val)\n",
        "    if not q:\n",
        "      print(line)\n",
        "      if next:\n",
        "        q = next\n",
        "        next = []\n",
        "        line = []\n",
        "\n",
        "# res = [10, 5, 15, 2, 7, 12, 20]\n",
        "#time: O(n)\n",
        "#space: len(q)"
      ],
      "execution_count": 0,
      "outputs": []
    },
    {
      "cell_type": "markdown",
      "metadata": {
        "id": "a2PDbhm_CR7K",
        "colab_type": "text"
      },
      "source": [
        "**Balanced binary tree** = a binary tree in which the depth of the left and right subtrees of every node differ by 1 or less\n",
        "\n",
        "```\n",
        "NOT\n",
        "          10\n",
        "         /  \\\n",
        "       5    15 \n",
        "     /  \\     \\\n",
        "    2    7    12  \n",
        "             /\n",
        "            13\n",
        "\n",
        "YES\n",
        "          10\n",
        "         /  \\\n",
        "       5    15 \n",
        "     /  \\   /\n",
        "    2    7 12 \n",
        "                \n",
        "```\n",
        "\n",
        "**Complete binary tree** = a binary tree in which every level, except possibly the last, is completely filled, and all nodes are as far left as possible\n",
        "\n",
        "* Complete binary tree => Balanced binary tree\n",
        "\n",
        "```\n",
        "NOT - because not as left as possible\n",
        "          10\n",
        "         /  \\\n",
        "       5    15 \n",
        "     /  \\     \\\n",
        "    2    7    12  \n",
        "    \n",
        "YES \n",
        "          10\n",
        "         /  \\\n",
        "       5    15 \n",
        "     /  \\   /\n",
        "    2    7 12 \n",
        "```\n",
        "\n",
        "\n",
        "**Binary search tree** = for every single node in the tree, the values in its left subtree are all smaller than its value, and the values in its right subtree are all larger than its value\n",
        "* Max value in left subtree <= min value in right subtree\n",
        "\n",
        "\n",
        "```\n",
        "NO - because of 13 < 15\n",
        "          10\n",
        "         /  \\\n",
        "       5    15 \n",
        "     /  \\   / \\ \n",
        "    2    7 12 13\n",
        "    \n",
        "YES \n",
        "          10\n",
        "         /  \\\n",
        "       5    15 \n",
        "     /  \\   / \\ \n",
        "    2    7 12 17\n",
        "\n",
        "NO\n",
        "          10\n",
        "         /  \\\n",
        "       5    15 \n",
        "     /  \\   / \\ \n",
        "    2    7 6  17\n",
        "```"
      ]
    },
    {
      "cell_type": "markdown",
      "metadata": {
        "id": "c_7m-xy79oR-",
        "colab_type": "text"
      },
      "source": [
        "**Q1 Get height of the tree**\n",
        "\n",
        "https://app.laicode.io/app/problem/60"
      ]
    },
    {
      "cell_type": "code",
      "metadata": {
        "id": "hFivievG5Z5G",
        "colab_type": "code",
        "colab": {}
      },
      "source": [
        "def get_height(root): \n",
        "  if not root:\n",
        "    return 0\n",
        "  left = get_height(root.left)\n",
        "  right = get_height(root.right)\n",
        "  return 1 + max(left, right)\n",
        "\n",
        "# time: O(n)\n",
        "# space: O(h)"
      ],
      "execution_count": 0,
      "outputs": []
    },
    {
      "cell_type": "markdown",
      "metadata": {
        "id": "bZrXvoKH9swG",
        "colab_type": "text"
      },
      "source": [
        "**Q2 Reverse a tree up side down**\n",
        "\n",
        "laicode 178\n",
        "\n",
        "Given a binary tree where alll the right nodes are either leaf nodes with a sibling (a left node that shares the same parent node) or empty. Flip it upside down and turn it into a tree where the original right nodes turned into left leaf nofes. Return the new root\n",
        "\n",
        "\n",
        "```\n",
        "    1\n",
        "   / \\ \n",
        "  2  3\n",
        " / \\\n",
        "4   5\n",
        "\n",
        "    4\n",
        "   / \\ \n",
        "  5   2\n",
        "     / \\\n",
        "    3   1\n",
        "```\n",
        "\n"
      ]
    },
    {
      "cell_type": "code",
      "metadata": {
        "id": "eeM3i92E5cWg",
        "colab_type": "code",
        "colab": {}
      },
      "source": [
        "# left child -> root, right child -> left child, root -> right child\n",
        "'''\n",
        "   A    B\n",
        "  B C  C A\n",
        "\n",
        "NOTE: \n",
        "- base case is the new head (4) which is the left leaf in the original tree\n",
        "- a node is a leaf if it doesn't have left or right child\n",
        "'''\n",
        "\n",
        "def upside_tree(root):\n",
        "  if not root:\n",
        "    return root\n",
        "  if not root.left and not root.right:  # a leaf\n",
        "    return root\n",
        "  new_root = upside_tree(root.left)\n",
        "  # reverse\n",
        "  root.left.left = root.right  # root = A  root.left = B; B -> C\n",
        "  root.left.right = root       # B -> A\n",
        "  root.left = None\n",
        "  root.right = None\n",
        "  return(new_root)\n",
        "\n",
        "# time: O(n)\n",
        "# space: O(h)\n"
      ],
      "execution_count": 0,
      "outputs": []
    },
    {
      "cell_type": "markdown",
      "metadata": {
        "id": "DeahBWih9zMU",
        "colab_type": "text"
      },
      "source": [
        "**Q3 Get number of nodes in the tree**"
      ]
    },
    {
      "cell_type": "code",
      "metadata": {
        "id": "8HCnXAzu5enp",
        "colab_type": "code",
        "colab": {}
      },
      "source": [
        "def get_number(root):\n",
        "  if not root:\n",
        "    return 0\n",
        "  left = get_number(root.left)\n",
        "  right = get_number(root.right)\n",
        "  return 1 + left + right"
      ],
      "execution_count": 0,
      "outputs": []
    },
    {
      "cell_type": "markdown",
      "metadata": {
        "id": "zwLIAO2aPrbJ",
        "colab_type": "text"
      },
      "source": [
        "**Q4 Is tree symmertric**\n",
        "\n",
        "A symmetric tree looks like the following\n",
        "```\n",
        "        5\n",
        "      /    \\\n",
        "    3        3\n",
        "  /   \\    /   \\\n",
        "1      4  4      1\n",
        "```\n",
        "https://app.laicode.io/app/problem/48\n"
      ]
    },
    {
      "cell_type": "code",
      "metadata": {
        "id": "2E6Csmx2P9MG",
        "colab_type": "code",
        "colab": {}
      },
      "source": [
        "# validated solution\n",
        "class Solution(object):\n",
        "  def helper(self, root1, root2):\n",
        "    if not root1 and not root2:\n",
        "      return True\n",
        "    if not root1 or not root2:\n",
        "      return False\n",
        "    if root1.val != root2.val:\n",
        "      return False\n",
        "    return (self.helper(root1.left, root2.right)) and (self.helper(root1.right, root2.left))\n",
        "\n",
        "  def isSymmetric(self, root):\n",
        "    if not root:\n",
        "      return True\n",
        "    return self.helper(root.left, root.right)"
      ],
      "execution_count": 0,
      "outputs": []
    },
    {
      "cell_type": "markdown",
      "metadata": {
        "id": "jch-CZM_UF_e",
        "colab_type": "text"
      },
      "source": [
        "**Q5 Invert Binary Tree**\n",
        "\n",
        "https://app.laicode.io/app/problem/449\n"
      ]
    },
    {
      "cell_type": "code",
      "metadata": {
        "id": "xc3oBMmZUI46",
        "colab_type": "code",
        "colab": {}
      },
      "source": [
        "class Solution(object):\n",
        "  def invertTree(self, root):\n",
        "    \"\"\"\n",
        "    input: TreeNode root\n",
        "    return: TreeNode\n",
        "    \"\"\"\n",
        "    # write your solution here\n",
        "    if not root:\n",
        "      return root\n",
        "    left = root.left\n",
        "    right = root.right\n",
        "    root.left = self.invertTree(right)\n",
        "    root.right = self.invertTree(left)\n",
        "    return root"
      ],
      "execution_count": 0,
      "outputs": []
    },
    {
      "cell_type": "markdown",
      "metadata": {
        "id": "0-34p6JyXHtI",
        "colab_type": "text"
      },
      "source": [
        "**Q6 Longest consecutive Sequence path**\n",
        "\n",
        "Given a binary tree, find the length of the longest consecutive sequence path. The longest consecutive path needs to be from parent to child (cannot be the reverse)\n",
        "\n",
        "\n",
        "\n",
        "```\n",
        "      1\n",
        "       \\\n",
        "        3\n",
        "       / \\\n",
        "      2   4\n",
        "           \\\n",
        "            5\n",
        "Longest consecutive sequence is 3-4-5, so length is 3\n",
        "```\n",
        "\n"
      ]
    },
    {
      "cell_type": "code",
      "metadata": {
        "id": "eMFzG8dKvud6",
        "colab_type": "code",
        "colab": {}
      },
      "source": [
        "def longest(curr, parent, currlen):\n",
        "  if not curr:\n",
        "    return currlen\n",
        "  size = 1 \n",
        "  if parent and curr.val == parent.val + 1:\n",
        "    size = currlen + 1\n",
        "  return max(currlen, longest(curr.left, curr, size), longest(curr.right, curr, size)\n",
        "\n",
        "#time: O(n)\n",
        "longest(root, None, 0)\n",
        "             "
      ],
      "execution_count": 0,
      "outputs": []
    },
    {
      "cell_type": "markdown",
      "metadata": {
        "id": "gUSsQhCLOLNP",
        "colab_type": "text"
      },
      "source": [
        "####Recursion on Trees I\n",
        "\n",
        "Return values from bottom to top\n",
        "\n",
        "1. What do you expect from your left/right child?\n",
        "2. What do you want to do in the current layer?\n",
        "3. What do you want to return to your parents?"
      ]
    },
    {
      "cell_type": "markdown",
      "metadata": {
        "id": "oZNbcfglOYd2",
        "colab_type": "text"
      },
      "source": [
        "**Q1 Get height of the tree**"
      ]
    },
    {
      "cell_type": "code",
      "metadata": {
        "id": "PyLbgkHzOTSv",
        "colab_type": "code",
        "colab": {}
      },
      "source": [
        "def get_height(root):\n",
        "  if not root:\n",
        "    return 0\n",
        "  left = get_height(root.left)\n",
        "  right = get_height(root.right)\n",
        "  return 1 + max(left, right)\n",
        "\n",
        "# time: O(n)\n",
        "# space: O(h)\n",
        "# post order traversal"
      ],
      "execution_count": 0,
      "outputs": []
    },
    {
      "cell_type": "markdown",
      "metadata": {
        "id": "9n3M631VOvR9",
        "colab_type": "text"
      },
      "source": [
        "**Q2 Get nodes/size of the tree**"
      ]
    },
    {
      "cell_type": "code",
      "metadata": {
        "id": "s_obgYjROzQ7",
        "colab_type": "code",
        "colab": {}
      },
      "source": [
        "def get_size(root):\n",
        "  if not root:\n",
        "    return 0\n",
        "  left = get_size(root.left)\n",
        "  right = get_size(root.right)\n",
        "  return 1 + right + left\n",
        "  \n",
        "# time: O(n)\n",
        "# space: O(h)\n",
        "# post order traversal"
      ],
      "execution_count": 0,
      "outputs": []
    },
    {
      "cell_type": "markdown",
      "metadata": {
        "id": "7x7wqr7uQoIz",
        "colab_type": "text"
      },
      "source": [
        "**Q3 Get sum of the tree**"
      ]
    },
    {
      "cell_type": "code",
      "metadata": {
        "id": "b5utnJvPQrOS",
        "colab_type": "code",
        "colab": {}
      },
      "source": [
        "def get_sum(root):\n",
        "  if not root:\n",
        "    return 0\n",
        "  left = get_sum(root.left)\n",
        "  right = get_sum(root.right)\n",
        "  return root.val + right + left\n",
        "  \n",
        "# time: O(n)\n",
        "# space: O(h)\n",
        "# post order traversal"
      ],
      "execution_count": 0,
      "outputs": []
    },
    {
      "cell_type": "markdown",
      "metadata": {
        "id": "j0vqi4ZDSF3D",
        "colab_type": "text"
      },
      "source": [
        "**Q4 Store the number of nodes in its left child tree**\n",
        "\n",
        "```\n",
        "          root3(3)\n",
        "        /      \\\n",
        "    node(1)   node2(0)\n",
        "   /     \\\n",
        "node3(0) node4(0)\n",
        "```\n",
        "\n"
      ]
    },
    {
      "cell_type": "code",
      "metadata": {
        "id": "QTfp3L2-Sd7e",
        "colab_type": "code",
        "colab": {}
      },
      "source": [
        "'''\n",
        "Base case: root = None, return 0\n",
        "Recursive rule:\n",
        "  left_total: left child's total nodes\n",
        "  right_total: right child'es total node\n",
        "  root.total_left = left total\n",
        "  return 1 + left_total + right_total\n",
        "So, still needs to check the right node\n",
        "\n",
        "1. what do you expect from your left child/right child?\n",
        "  total number of nodes in my left subtree\n",
        "  total number of nodes in my right subtree\n",
        "2. What do you want to do in the current layer?\n",
        "  store the number of nodes in the left subtree\n",
        "3. What do you want to return to your parent?\n",
        "  return total number of nodes\n",
        "'''\n",
        "class TreeNode:\n",
        "  def __init__(self, x):\n",
        "    self.val = x\n",
        "    self.left = None\n",
        "    self.right = None\n",
        "    self.total_left = 0  # number of nodes in its left subtree\n",
        "    \n",
        "def change_subtree(node):\n",
        "  if node is None:\n",
        "    return 0\n",
        "  left_total = change_subtree(node.left)\n",
        "  right_total = change_subtree(node.right)\n",
        "  node.total_left = left_total         # this is the value we want\n",
        "  return 1 + left_total + right_total  # return used for recursion\n",
        "\n",
        "# Answers are all saved in self.total_left\n",
        "# time: O(n)\n",
        "# space: O(h) not counting the total_left added for every one"
      ],
      "execution_count": 0,
      "outputs": []
    },
    {
      "cell_type": "markdown",
      "metadata": {
        "id": "ZdJFzgPDbgyF",
        "colab_type": "text"
      },
      "source": [
        "**Q5 Node with Max Diff**\n",
        "\n",
        "Find the node with the max diff in the total number of descendants in its left subtree and right subtree\n",
        "\n",
        "```\n",
        "          root3(0)\n",
        "        /      \\\n",
        "    node(0)   node2(2)\n",
        "   /     \\         \\ \n",
        "node3(0) node4(0)  node5(1)\n",
        "                      \\\n",
        "                       node6(0)\n",
        "return: 2\n",
        "```\n"
      ]
    },
    {
      "cell_type": "code",
      "metadata": {
        "id": "XAw10ggrHl9W",
        "colab_type": "code",
        "colab": {}
      },
      "source": [
        "'''\n",
        "base case: root is None\n",
        "Need a global variable for global max = -1\n",
        "\n",
        "1. What do you expect from your left/right child?\n",
        "  left_total \n",
        "  right_total\n",
        "2. What do you want to do in the current layer?\n",
        "  diff = abs(left_total - right_total)\n",
        "  global_max_diff = max(diff, global_max_diff)\n",
        "3. What do you want to return to your parent?\n",
        "  return 1 + left_total + right_total\n",
        "\n",
        "Disadvantage of using global variables:\n",
        "- Before every function call, needs to be reset to -1\n",
        "'''\n",
        "\n",
        "# M1 define an extra def to return and use global variable\n",
        "\n",
        "global_max = -1  # if Empty tree return - 1\n",
        "res = None\n",
        "\n",
        "def node_diff(root):\n",
        "  if root is None:\n",
        "    return 0\n",
        "  left_total = node_diff(root.left)\n",
        "  right_total = node_diff(root.right)\n",
        "  global global_max\n",
        "  global res\n",
        "  if abs(left_total - right_total) > global_max:\n",
        "    global_max = abs(left_total - right_total)\n",
        "    res = root\n",
        "  return left_total + right_total + 1\n",
        "\n",
        "def get_max_diff(root):\n",
        "  global global_max\n",
        "  global res\n",
        "  node_diff(root)\n",
        "  return res  \n",
        "\n",
        "# time: O(n)\n",
        "# space: O(h)\n"
      ],
      "execution_count": 0,
      "outputs": []
    },
    {
      "cell_type": "code",
      "metadata": {
        "id": "fH_oysy8Yp7E",
        "colab_type": "code",
        "colab": {}
      },
      "source": [
        "# M2 define a class and have object.global_max\n",
        "class ResultWrapper:\n",
        "  def __init__(self): # res\n",
        "    self.global_max = -1\n",
        "    self.solution = None\n",
        "\n",
        "  def max_diff_node(root, res):\n",
        "    if not root:\n",
        "      return 0\n",
        "    left_total = node_diff(root.left)\n",
        "    right_total = node_diff(root.right)\n",
        "    if abs(left_total - right_total) > res.global_max:\n",
        "      res.global_max = abs(left_total - right_total)\n",
        "      res.solution = root\n",
        "    return left_total + right_total + 1\n",
        "\n",
        "  def get_max_diff(root):\n",
        "    res = ResultWrapper()\n",
        "    max_diff_node(root, res)\n",
        "    return res.solution"
      ],
      "execution_count": 0,
      "outputs": []
    },
    {
      "cell_type": "code",
      "metadata": {
        "id": "xbzd6AceZPIV",
        "colab_type": "code",
        "colab": {}
      },
      "source": [
        "# M3 return max for each iteration (pending check)\n",
        "\n",
        "def node_diff(root):\n",
        "  if root is None:\n",
        "    return 0\n",
        "  left_total, global_max, res = node_diff(root.left)\n",
        "  right_total, global_max, res = node_diff(root.right)\n",
        "  if abs(left_total - right_total) > global_max:\n",
        "    global_max = abs(left_total - right_total)\n",
        "    res = root\n",
        "  return left_total + right_total + 1, global_max, res\n",
        "\n",
        "def get_max_diff(root):\n",
        "  total, global_max, res = node_diff(root)\n",
        "  return res  "
      ],
      "execution_count": 0,
      "outputs": []
    },
    {
      "cell_type": "code",
      "metadata": {
        "id": "gwUzVFUuahws",
        "colab_type": "code",
        "outputId": "d3427958-a127-43db-e585-b515087a7c49",
        "colab": {
          "base_uri": "https://localhost:8080/",
          "height": 362
        }
      },
      "source": [
        "root = TreeNode(0)\n",
        "root.left = TreeNode(1)\n",
        "root.left.left = TreeNode(3)\n",
        "root.left.right = TreeNode(4)\n",
        "root.right = TreeNode(2)\n",
        "root.right.right = TreeNode(5)\n",
        "root.right.right = TreeNode(6)\n",
        "\n",
        "res = get_max_diff(root)\n",
        "print(res.val)"
      ],
      "execution_count": 0,
      "outputs": [
        {
          "output_type": "error",
          "ename": "TypeError",
          "evalue": "ignored",
          "traceback": [
            "\u001b[0;31m---------------------------------------------------------------------------\u001b[0m",
            "\u001b[0;31mTypeError\u001b[0m                                 Traceback (most recent call last)",
            "\u001b[0;32m<ipython-input-14-56d48791f126>\u001b[0m in \u001b[0;36m<module>\u001b[0;34m()\u001b[0m\n\u001b[1;32m      7\u001b[0m \u001b[0mroot\u001b[0m\u001b[0;34m.\u001b[0m\u001b[0mright\u001b[0m\u001b[0;34m.\u001b[0m\u001b[0mright\u001b[0m \u001b[0;34m=\u001b[0m \u001b[0mTreeNode\u001b[0m\u001b[0;34m(\u001b[0m\u001b[0;36m6\u001b[0m\u001b[0;34m)\u001b[0m\u001b[0;34m\u001b[0m\u001b[0;34m\u001b[0m\u001b[0m\n\u001b[1;32m      8\u001b[0m \u001b[0;34m\u001b[0m\u001b[0m\n\u001b[0;32m----> 9\u001b[0;31m \u001b[0mres\u001b[0m \u001b[0;34m=\u001b[0m \u001b[0mget_max_diff\u001b[0m\u001b[0;34m(\u001b[0m\u001b[0mroot\u001b[0m\u001b[0;34m)\u001b[0m\u001b[0;34m\u001b[0m\u001b[0;34m\u001b[0m\u001b[0m\n\u001b[0m\u001b[1;32m     10\u001b[0m \u001b[0mprint\u001b[0m\u001b[0;34m(\u001b[0m\u001b[0mres\u001b[0m\u001b[0;34m.\u001b[0m\u001b[0mval\u001b[0m\u001b[0;34m)\u001b[0m\u001b[0;34m\u001b[0m\u001b[0;34m\u001b[0m\u001b[0m\n",
            "\u001b[0;32m<ipython-input-13-839b2e940601>\u001b[0m in \u001b[0;36mget_max_diff\u001b[0;34m(root)\u001b[0m\n\u001b[1;32m     12\u001b[0m \u001b[0;34m\u001b[0m\u001b[0m\n\u001b[1;32m     13\u001b[0m \u001b[0;32mdef\u001b[0m \u001b[0mget_max_diff\u001b[0m\u001b[0;34m(\u001b[0m\u001b[0mroot\u001b[0m\u001b[0;34m)\u001b[0m\u001b[0;34m:\u001b[0m\u001b[0;34m\u001b[0m\u001b[0;34m\u001b[0m\u001b[0m\n\u001b[0;32m---> 14\u001b[0;31m   \u001b[0mtotal\u001b[0m\u001b[0;34m,\u001b[0m \u001b[0mglobal_max\u001b[0m\u001b[0;34m,\u001b[0m \u001b[0mres\u001b[0m \u001b[0;34m=\u001b[0m \u001b[0mnode_diff\u001b[0m\u001b[0;34m(\u001b[0m\u001b[0mroot\u001b[0m\u001b[0;34m)\u001b[0m\u001b[0;34m\u001b[0m\u001b[0;34m\u001b[0m\u001b[0m\n\u001b[0m\u001b[1;32m     15\u001b[0m   \u001b[0;32mreturn\u001b[0m \u001b[0mres\u001b[0m\u001b[0;34m\u001b[0m\u001b[0;34m\u001b[0m\u001b[0m\n",
            "\u001b[0;32m<ipython-input-13-839b2e940601>\u001b[0m in \u001b[0;36mnode_diff\u001b[0;34m(root)\u001b[0m\n\u001b[1;32m      4\u001b[0m   \u001b[0;32mif\u001b[0m \u001b[0mroot\u001b[0m \u001b[0;32mis\u001b[0m \u001b[0;32mNone\u001b[0m\u001b[0;34m:\u001b[0m\u001b[0;34m\u001b[0m\u001b[0;34m\u001b[0m\u001b[0m\n\u001b[1;32m      5\u001b[0m     \u001b[0;32mreturn\u001b[0m \u001b[0;36m0\u001b[0m\u001b[0;34m\u001b[0m\u001b[0;34m\u001b[0m\u001b[0m\n\u001b[0;32m----> 6\u001b[0;31m   \u001b[0mleft_total\u001b[0m\u001b[0;34m,\u001b[0m \u001b[0mglobal_max\u001b[0m\u001b[0;34m,\u001b[0m \u001b[0mres\u001b[0m \u001b[0;34m=\u001b[0m \u001b[0mnode_diff\u001b[0m\u001b[0;34m(\u001b[0m\u001b[0mroot\u001b[0m\u001b[0;34m.\u001b[0m\u001b[0mleft\u001b[0m\u001b[0;34m)\u001b[0m\u001b[0;34m\u001b[0m\u001b[0;34m\u001b[0m\u001b[0m\n\u001b[0m\u001b[1;32m      7\u001b[0m   \u001b[0mright_total\u001b[0m\u001b[0;34m,\u001b[0m \u001b[0mglobal_max\u001b[0m\u001b[0;34m,\u001b[0m \u001b[0mres\u001b[0m \u001b[0;34m=\u001b[0m \u001b[0mnode_diff\u001b[0m\u001b[0;34m(\u001b[0m\u001b[0mroot\u001b[0m\u001b[0;34m.\u001b[0m\u001b[0mright\u001b[0m\u001b[0;34m)\u001b[0m\u001b[0;34m\u001b[0m\u001b[0;34m\u001b[0m\u001b[0m\n\u001b[1;32m      8\u001b[0m   \u001b[0;32mif\u001b[0m \u001b[0mabs\u001b[0m\u001b[0;34m(\u001b[0m\u001b[0mleft_total\u001b[0m \u001b[0;34m-\u001b[0m \u001b[0mright_total\u001b[0m\u001b[0;34m)\u001b[0m \u001b[0;34m>\u001b[0m \u001b[0mglobal_max\u001b[0m\u001b[0;34m:\u001b[0m\u001b[0;34m\u001b[0m\u001b[0;34m\u001b[0m\u001b[0m\n",
            "\u001b[0;32m<ipython-input-13-839b2e940601>\u001b[0m in \u001b[0;36mnode_diff\u001b[0;34m(root)\u001b[0m\n\u001b[1;32m      4\u001b[0m   \u001b[0;32mif\u001b[0m \u001b[0mroot\u001b[0m \u001b[0;32mis\u001b[0m \u001b[0;32mNone\u001b[0m\u001b[0;34m:\u001b[0m\u001b[0;34m\u001b[0m\u001b[0;34m\u001b[0m\u001b[0m\n\u001b[1;32m      5\u001b[0m     \u001b[0;32mreturn\u001b[0m \u001b[0;36m0\u001b[0m\u001b[0;34m\u001b[0m\u001b[0;34m\u001b[0m\u001b[0m\n\u001b[0;32m----> 6\u001b[0;31m   \u001b[0mleft_total\u001b[0m\u001b[0;34m,\u001b[0m \u001b[0mglobal_max\u001b[0m\u001b[0;34m,\u001b[0m \u001b[0mres\u001b[0m \u001b[0;34m=\u001b[0m \u001b[0mnode_diff\u001b[0m\u001b[0;34m(\u001b[0m\u001b[0mroot\u001b[0m\u001b[0;34m.\u001b[0m\u001b[0mleft\u001b[0m\u001b[0;34m)\u001b[0m\u001b[0;34m\u001b[0m\u001b[0;34m\u001b[0m\u001b[0m\n\u001b[0m\u001b[1;32m      7\u001b[0m   \u001b[0mright_total\u001b[0m\u001b[0;34m,\u001b[0m \u001b[0mglobal_max\u001b[0m\u001b[0;34m,\u001b[0m \u001b[0mres\u001b[0m \u001b[0;34m=\u001b[0m \u001b[0mnode_diff\u001b[0m\u001b[0;34m(\u001b[0m\u001b[0mroot\u001b[0m\u001b[0;34m.\u001b[0m\u001b[0mright\u001b[0m\u001b[0;34m)\u001b[0m\u001b[0;34m\u001b[0m\u001b[0;34m\u001b[0m\u001b[0m\n\u001b[1;32m      8\u001b[0m   \u001b[0;32mif\u001b[0m \u001b[0mabs\u001b[0m\u001b[0;34m(\u001b[0m\u001b[0mleft_total\u001b[0m \u001b[0;34m-\u001b[0m \u001b[0mright_total\u001b[0m\u001b[0;34m)\u001b[0m \u001b[0;34m>\u001b[0m \u001b[0mglobal_max\u001b[0m\u001b[0;34m:\u001b[0m\u001b[0;34m\u001b[0m\u001b[0;34m\u001b[0m\u001b[0m\n",
            "\u001b[0;32m<ipython-input-13-839b2e940601>\u001b[0m in \u001b[0;36mnode_diff\u001b[0;34m(root)\u001b[0m\n\u001b[1;32m      4\u001b[0m   \u001b[0;32mif\u001b[0m \u001b[0mroot\u001b[0m \u001b[0;32mis\u001b[0m \u001b[0;32mNone\u001b[0m\u001b[0;34m:\u001b[0m\u001b[0;34m\u001b[0m\u001b[0;34m\u001b[0m\u001b[0m\n\u001b[1;32m      5\u001b[0m     \u001b[0;32mreturn\u001b[0m \u001b[0;36m0\u001b[0m\u001b[0;34m\u001b[0m\u001b[0;34m\u001b[0m\u001b[0m\n\u001b[0;32m----> 6\u001b[0;31m   \u001b[0mleft_total\u001b[0m\u001b[0;34m,\u001b[0m \u001b[0mglobal_max\u001b[0m\u001b[0;34m,\u001b[0m \u001b[0mres\u001b[0m \u001b[0;34m=\u001b[0m \u001b[0mnode_diff\u001b[0m\u001b[0;34m(\u001b[0m\u001b[0mroot\u001b[0m\u001b[0;34m.\u001b[0m\u001b[0mleft\u001b[0m\u001b[0;34m)\u001b[0m\u001b[0;34m\u001b[0m\u001b[0;34m\u001b[0m\u001b[0m\n\u001b[0m\u001b[1;32m      7\u001b[0m   \u001b[0mright_total\u001b[0m\u001b[0;34m,\u001b[0m \u001b[0mglobal_max\u001b[0m\u001b[0;34m,\u001b[0m \u001b[0mres\u001b[0m \u001b[0;34m=\u001b[0m \u001b[0mnode_diff\u001b[0m\u001b[0;34m(\u001b[0m\u001b[0mroot\u001b[0m\u001b[0;34m.\u001b[0m\u001b[0mright\u001b[0m\u001b[0;34m)\u001b[0m\u001b[0;34m\u001b[0m\u001b[0;34m\u001b[0m\u001b[0m\n\u001b[1;32m      8\u001b[0m   \u001b[0;32mif\u001b[0m \u001b[0mabs\u001b[0m\u001b[0;34m(\u001b[0m\u001b[0mleft_total\u001b[0m \u001b[0;34m-\u001b[0m \u001b[0mright_total\u001b[0m\u001b[0;34m)\u001b[0m \u001b[0;34m>\u001b[0m \u001b[0mglobal_max\u001b[0m\u001b[0;34m:\u001b[0m\u001b[0;34m\u001b[0m\u001b[0;34m\u001b[0m\u001b[0m\n",
            "\u001b[0;31mTypeError\u001b[0m: 'int' object is not iterable"
          ]
        }
      ]
    },
    {
      "cell_type": "markdown",
      "metadata": {
        "id": "VeeWsZyzb2Jf",
        "colab_type": "text"
      },
      "source": [
        "**Q6 Find Min Depth of a Binary Tree**\n",
        "\n",
        "Min depth = number of nodes along the shortest path from the root node down to the nearest leaf node\n",
        "\n",
        "\n",
        "```\n",
        "        3\n",
        "      /  \\\n",
        "     9    20\n",
        "         /  \\\n",
        "        15   7\n",
        "return: 2\n",
        "```\n",
        "\n",
        "\n"
      ]
    },
    {
      "cell_type": "code",
      "metadata": {
        "id": "kDXBeJrs5pSA",
        "colab_type": "code",
        "colab": {}
      },
      "source": [
        "# S1 Wrong -> problem when only has one child\n",
        "'''\n",
        "        3\n",
        "         \\\n",
        "          20\n",
        "         /  \\\n",
        "        15   7\n",
        "\n",
        "would return 1 but it is actually 3\n",
        "'''\n",
        "\n",
        "def getHeight(root):\n",
        "  if root is None: \n",
        "    return 0\n",
        "  left = getHeight(root.left)\n",
        "  right = getHeight(root.right)\n",
        "  return min(left, right) + 1\n"
      ],
      "execution_count": 0,
      "outputs": []
    },
    {
      "cell_type": "code",
      "metadata": {
        "id": "J3mpO0U-b-bh",
        "colab_type": "code",
        "colab": {}
      },
      "source": [
        "# S2\n",
        "def getHeight(root):\n",
        "  if root is None: # edge case, just to handle root is None\n",
        "    return 0\n",
        "  if root.left is None and root.right is None: # base case, leaf node\n",
        "    return 1\n",
        "  left = getHeight(root.left) if root.left else float('inf') # sys.maxint\n",
        "  right = getHeight(root.right) if root.right else float('inf')\n",
        "  return min(left, right) + 1\n",
        "\n",
        "# time: O(n)\n",
        "# space: O(logn)\n",
        "\n",
        "# if root is None -> anytime\n",
        "# if root.left is None and root.right is None -> when Q leaf\n",
        "# If not left and right -> set left as inf so will count nodes on the right"
      ],
      "execution_count": 0,
      "outputs": []
    },
    {
      "cell_type": "markdown",
      "metadata": {
        "id": "bYuMShrkbBQX",
        "colab_type": "text"
      },
      "source": [
        "**Q7 Max Path Sum**\n",
        "\n",
        "Given a binary tree in which each node contains an integer number. Find the maximum possible path sum from a leaf to root.\n",
        "\n",
        "\n",
        "https://app.laicode.io/app/problem/639\n",
        "\n",
        "\n",
        "\n",
        "```\n",
        "      10\n",
        "     /  \\\n",
        "    -2   7\n",
        "   / \\\n",
        "  8  -4\n",
        "\n",
        "return: 17\n",
        "```\n",
        "\n",
        "* Divide: split into left and right subtree\n",
        "* Conquer: solve left and right subtree\n",
        "* Combine: max(left, right) + root.val\n",
        "\n"
      ]
    },
    {
      "cell_type": "code",
      "metadata": {
        "id": "WTgK14sebdfg",
        "colab_type": "code",
        "colab": {}
      },
      "source": [
        "# Laioffer solution - bottom up\n",
        "class Solution(object):\n",
        "  def maxPathSumLeafToRoot(self, root):\n",
        "    if root is None:  # base case 2, use special number (-inf) to deal with special cases\n",
        "      return -float('inf')\n",
        "    if root.left is None and root.right is None: # base case 1\n",
        "      return root.val\n",
        "    left = self.maxPathSumLeafToRoot(root.left)\n",
        "    right = self.maxPathSumLeafToRoot(root.right)\n",
        "    return max(left, right) + root.val"
      ],
      "execution_count": 0,
      "outputs": []
    },
    {
      "cell_type": "code",
      "metadata": {
        "id": "voUww7ndqYpY",
        "colab_type": "code",
        "colab": {}
      },
      "source": [
        "# Laioffer solution - top down I\n",
        "class Solution(object):\n",
        "  def maxPathSumLeafToRoot(self, root):\n",
        "    if root is None:\n",
        "      return -float('inf')\n",
        "    self.retValue = -float('inf')\n",
        "    self.helper(root, 0)\n",
        "    return self.retValue\n",
        "    \n",
        "def helper(self, node, curSum):\n",
        "  if node is None:\n",
        "    return\n",
        "  if node.left is None and node.right is None:\n",
        "    self.retValue = max(self.retValue, curSum + node.val)\n",
        "    return\n",
        "  self.helper(node.left, curSum + node.val)\n",
        "  self.helper(node.right, curSum + node.val)"
      ],
      "execution_count": 0,
      "outputs": []
    },
    {
      "cell_type": "code",
      "metadata": {
        "id": "LkptgECCr0bk",
        "colab_type": "code",
        "colab": {}
      },
      "source": [
        "# Laioffer solution - top down II\n",
        "class Solution(object):\n",
        "  def maxPathSumLeafToRoot(self, root):\n",
        "    if root is None:\n",
        "      return -float('inf')\n",
        "    self.retValue = -float('inf')\n",
        "    self.helper(root, root.val) # change\n",
        "    return self.retValue\n",
        "    \n",
        "def helper(self, node, curSum):\n",
        "  if node is None:\n",
        "    return\n",
        "  if node.left is None and node.right is None:\n",
        "    self.retValue = max(self.retValue, curSum)\n",
        "    return\n",
        "  if node.left:\n",
        "    self.helper(node.left, curSum + node.left.val)\n",
        "  if node.right:\n",
        "    self.helper(node.right, curSum + node.right.val)"
      ],
      "execution_count": 0,
      "outputs": []
    },
    {
      "cell_type": "markdown",
      "metadata": {
        "id": "d37-Rbw9eU-9",
        "colab_type": "text"
      },
      "source": [
        "**Q8 Maximum Subarray**\n",
        "\n",
        "Given an integer array nums, find the continuous subarray (containing at least one number) which has the largest sum and return its sum\n",
        "\n",
        "```\n",
        "Input: [-2,1,-3,4,-1,2,1,-5,4]\n",
        "Output: 6 = 4 + -1 + 2 + 1\n",
        "```\n",
        "* Divide: split the array into left and right\n",
        "* Conquer: get largest sum from left, right, and crossing boundary (mid) array\n",
        " * Crossing boundary 中心开发: must include center and some of both left and right subarrays. We do not need to consider cases when all in right is negative, because it would be the same as the right subarray\n",
        "\n",
        "\n",
        "```\n",
        "Left and Right:\n",
        "    -2 -4 3 -1 5 7 -7 -1\n",
        "     /             \\\n",
        " -2 -4 3 -1      5 7 -7 -1\n",
        "   [3] = 3         [5 7] = 12\n",
        "     \\              /\n",
        "          combine\n",
        "        [3 -1 5 7] = 14\n",
        "\n",
        "Mid:\n",
        "  Start from mid\n",
        "  Expand to left and right\n",
        "```\n",
        "\n",
        "\n",
        "* Combine: max(left_result, right_result, mid_result)\n"
      ]
    },
    {
      "cell_type": "code",
      "metadata": {
        "id": "VRQuFkCCes9Z",
        "colab_type": "code",
        "colab": {}
      },
      "source": [
        "# M1 Brute Force\n",
        "# Fix one pointer, calculate max subarray. Repeat for each pointer => n^2"
      ],
      "execution_count": 0,
      "outputs": []
    },
    {
      "cell_type": "code",
      "metadata": {
        "id": "IWqJX6Q1e6LO",
        "colab_type": "code",
        "colab": {}
      },
      "source": [
        "# M2 Divide and conquer\n",
        "\n",
        "def getMaxCenterSum(A, center, left, right):\n",
        "  maxLeftBorderSum = A[center]\n",
        "  leftBorderSum = 0\n",
        "  for i in range(center, left - 1, -1): # 向左开花，包含center\n",
        "    leftBorderSum += A[i]\n",
        "    maxLeftBorderSum = max(leftBorderSum, maxLeftBorderSum)\n",
        "  maxRightBorderSum = A[center + 1]\n",
        "  rightBorderSum = 0\n",
        "  for i in range(center + 1, right + 1, 1): # 向右开花，包含center\n",
        "    rightBorderSum += A[i]\n",
        "    maxRightBorderSum = max(maxRightBorderSum, rightBorderSum)\n",
        "  return maxLeftBorderSum + maxRightBorderSum\n",
        "# time: O(n)\n",
        "\n",
        "def maxSubarray(A, left, right):  \n",
        "  if left == right: # base case\n",
        "    return A[left]\n",
        "  center = (left + right) // 2\n",
        "  maxLeftSum = maxSubarray(A, left, center)\n",
        "  maxRightSum = maxSubarray(A, center + 1, right)\n",
        "  maxCenterSum = getMaxCenterSum(A, center, left, right)\n",
        "  maxSum = max(maxLeftSum, maxRightSum, maxCenterSum)\n",
        "  return maxSum\n",
        "# time: O(nlogn)\n",
        "# space: O(logn)"
      ],
      "execution_count": 0,
      "outputs": []
    },
    {
      "cell_type": "code",
      "metadata": {
        "id": "yCZf83Yjmckh",
        "colab_type": "code",
        "colab": {}
      },
      "source": [
        "# M3 Optimal Solution\n",
        "# time: O(n)\n",
        "'''\n",
        "The optimal subarray must end with a number. \n",
        "We can calculate the subopimal subarray that ends with each number, then find max\n",
        "Use a helper array M that stores the suboptimal sums, len(M) == len(a)\n",
        "M[i] = the largest sum of a subarray that ends at a[i]\n",
        "  A: -2 -3 4 -1 -2 1 5 -3\n",
        "  M: -2 -3 4  3  1 2 7  4 \n",
        "  To calculate each iteration, use previous max\n",
        "M[0] = a[0]\n",
        "M[i] = if M[i-1] < 0: a[i]; else: M[i-1] + a[i]\n",
        "return max(M[i])\n",
        "\n",
        "\n",
        "initialize:\n",
        "  global_max = A[0]\n",
        "  max_ending_here = 0 \n",
        "\n",
        "loop for each element:\n",
        "  if max_ending_here < 0:\n",
        "    max_ending_here = a[i]\n",
        "  else:\n",
        "    max_ending_here = max_ending_here + a[i]\n",
        "  global_max = max(global_max, max_ending_here)\n",
        "return global_max\n",
        "\n",
        "'''\n"
      ],
      "execution_count": 0,
      "outputs": []
    },
    {
      "cell_type": "markdown",
      "metadata": {
        "id": "vNWSE3lZtcwR",
        "colab_type": "text"
      },
      "source": [
        "**Q9 Binary Tree Path Sum to Target I**\n",
        "\n",
        "Given a binary tree and a target sum, determine if the tree has a root-to-leaf path such that adding up all the values along the path equals the given target.\n",
        "\n",
        "https://app.laicode.io/app/problem/440"
      ]
    },
    {
      "cell_type": "code",
      "metadata": {
        "id": "kC7vYrlvvJay",
        "colab_type": "code",
        "colab": {}
      },
      "source": [
        "# M1 Top down\n",
        "class Solution(object):\n",
        "  def exist(self, root, target):\n",
        "    self.target = target\n",
        "    self.ret = False\n",
        "    self.helper(root, 0)\n",
        "    return self.ret\n",
        "  \n",
        "  def helper(self, root, current):\n",
        "    if root is None:\n",
        "      return False\n",
        "    if root.left is None and root.right is None:\n",
        "      self.ret = (current + root.val == self.target)\n",
        "      return\n",
        "    self.helper(root.left, current + root.val)\n",
        "    self.helper(root.right, current + root.val)\n",
        "    return"
      ],
      "execution_count": 0,
      "outputs": []
    },
    {
      "cell_type": "code",
      "metadata": {
        "id": "7GiL9L6vvrf-",
        "colab_type": "code",
        "colab": {}
      },
      "source": [
        "# M2 Bottom up\n",
        "'''\n",
        "1. What do you expect from your left/right child?\n",
        "  True: any root-to-leaf path include child has target sum\n",
        "  False: none\n",
        "2. What do you want to do in the current layer?\n",
        "  do nothing pass current sum down\n",
        "3. What do you want to return to your parent?\n",
        "  True: any root-to-leaf path include you has target sum\n",
        "  False: None\n",
        "'''\n",
        "class Solution(object):\n",
        "  def exist(self, root, target):\n",
        "    self.target = target\n",
        "    return self.helper(root, 0)\n",
        "  \n",
        "  def helper(self, root, current):\n",
        "    if root is None:\n",
        "      return False\n",
        "    if root.left is None and root.right is None:\n",
        "      return current + root.val == self.target\n",
        "    return self.helper(root.left, current + root.val) or self.helper(root.right, current + root.val)\n"
      ],
      "execution_count": 0,
      "outputs": []
    },
    {
      "cell_type": "markdown",
      "metadata": {
        "id": "MzrffM5hw3ew",
        "colab_type": "text"
      },
      "source": [
        "**Q10 Max Path Sum Binary Tree III**\n",
        "\n",
        "Given a binary tree in which each node contains an integer number. Find the maximum possible subpath sum(both the starting and ending node of the subpath should be on the same path from root to one of the leaf nodes, and the subpath is allowed to contain only one node).\n",
        "\n",
        "\n",
        "\n",
        "```\n",
        "        -5\n",
        "       /  \\\n",
        "      2   11\n",
        "         /  \\\n",
        "        6   14\n",
        "return: 11 + 14 = 25\n",
        "```\n",
        "\n",
        "\n",
        "\n",
        "https://app.laicode.io/app/problem/140"
      ]
    },
    {
      "cell_type": "code",
      "metadata": {
        "id": "gprBlgb3xJU4",
        "colab_type": "code",
        "colab": {}
      },
      "source": [
        "# M1 Using Q9 approach\n",
        "self.result = -100 # -float('inf')\n",
        "max_ending_here = 0\n",
        "def helper(self, root, max_ending_here):\n",
        "  if root is None:\n",
        "    return\n",
        "  if max_ending_here < 0:\n",
        "    max_ending_here = 0 + root.value\n",
        "  else:\n",
        "    max_ending_here = max_ending_here + root.value\n",
        "  self.result = max(self.result, max_ending_here)\n",
        "  self.helper(root.left, max_ending_here)\n",
        "  self.helper(root.right, max_ending_here)"
      ],
      "execution_count": 0,
      "outputs": []
    },
    {
      "cell_type": "code",
      "metadata": {
        "id": "E_z9Jd18y8Zu",
        "colab_type": "code",
        "colab": {}
      },
      "source": [
        "# M2 Bottom up\n",
        "'''\n",
        "1. What do you expect from your left/right child?\n",
        "  left: the largest sum path that starts at ichild\n",
        "  right: the largest sum path that starts at rchild\n",
        "2. What do you want to do in the current layer?\n",
        "  update global_max with max(leftSum, rightSum, 0) + root.value\n",
        "    case 1: right is bigger\n",
        "    case 2: left is bigger\n",
        "    case 3: right and left are negative\n",
        "3. What do you want to report to your parent? \n",
        "  max(leftSum, rightSum, 0) + root.value\n",
        "'''\n",
        "self.result = -float('inf')\n",
        "\n",
        "def helper(self.root):\n",
        "  if root is None:\n",
        "    return 0\n",
        "  left_largest_sum = self.helper(root.left)\n",
        "  right_largest_sum = self.helper(root.right)\n",
        "  max_start_here = max(0, left_largest_sum, right_largest_sum) + root.value\n",
        "  self.global_max = max(self.result, max_start_here)\n",
        "  return max_start_here\n",
        "\n",
        "def maximumPathSumBinaryTree(self.root):\n",
        "  self.global_max = -float('inf')\n",
        "  self.helper(root)\n",
        "  return self.result\n",
        "\n",
        "# time: O(n)"
      ],
      "execution_count": 0,
      "outputs": []
    },
    {
      "cell_type": "markdown",
      "metadata": {
        "id": "4ZqR5_V-2WOz",
        "colab_type": "text"
      },
      "source": [
        "**Q11 Max Path Sum Binary Tree I**\n",
        "\n",
        "Given a binary tree in which each node contains an integer number. Find the maximum possible sum from one leaf node to another leaf node. If there is no such path available, return Integer.MIN_VALUE(Java)/INT_MIN (C++).\n",
        "\n",
        "https://app.laicode.io/app/problem/138"
      ]
    },
    {
      "cell_type": "code",
      "metadata": {
        "id": "Zh0pwDpU2nrf",
        "colab_type": "code",
        "colab": {}
      },
      "source": [
        "'''\n",
        "1. What do you want from your left/right child?\n",
        "  left: max \"root-to-leaf\" path sum of left subtree\n",
        "  right: max \" root-to-leaf\" path sum of right subtree\n",
        "2. What should you do on current layer?\n",
        "  calculate left + right + root.val\n",
        "  update globalMax if possible (only for full node with left and right child)\n",
        "3. What do you report to your parents?\n",
        "  max path sum from root to leaf\n",
        "  i.e. return max(left, right) + root.val\n",
        "'''\n",
        "def helper(root):\n",
        "  if root is None:\n",
        "    return 0\n",
        "  if root.left is none and root.right is None:\n",
        "    return root.value\n",
        "  left = self.helper(root.left)\n",
        "  right = self.helper(root.right)\n",
        "  if root.left and root.right):\n",
        "    self.result = max(self.result, left + right + root.value)\n",
        "    return max(left, right) + root.value\n",
        "  else:\n",
        "    return root.value + right if root.left is None else root.value + left"
      ],
      "execution_count": 0,
      "outputs": []
    },
    {
      "cell_type": "markdown",
      "metadata": {
        "id": "yTW8v2rT2myX",
        "colab_type": "text"
      },
      "source": [
        "**Q12 Max Path Sum Binary Tree II**\n",
        "\n",
        "Given a binary tree in which each node contains an integer number. Find the maximum possible sum from any node to any node (the start node and the end node can be the same)\n",
        "\n",
        "https://app.laicode.io/app/problem/139"
      ]
    },
    {
      "cell_type": "code",
      "metadata": {
        "id": "-vpyQXYw3jP7",
        "colab_type": "code",
        "colab": {}
      },
      "source": [
        "'''\n",
        "1. What do you want from your left/right child?\n",
        "  Max single path in my left subtree that starts from lchild => (a)\n",
        "  Max single path in my right subtree that starts from rchild => (b)\n",
        "2. What should you do on current layer?\n",
        "  globalMax = max(globalMax, max((a), 0) + max((b),0) + root.value)\n",
        "3. What do you report to your parents?\n",
        "  return root.value + max((a), (b), 0)\n",
        "'''\n",
        "def helper(root):\n",
        "  if root is None:\n",
        "    return 0\n",
        "  left = self.helper(root.left)\n",
        "  right = self.helper(root.right)\n",
        "  left = 0 if left < 0 else left\n",
        "  right = 0 if right < 0 else right\n",
        "  self.max = max(self.max, root.value + left + right)\n",
        "  return max(left, right) + root.value"
      ],
      "execution_count": 0,
      "outputs": []
    },
    {
      "cell_type": "markdown",
      "metadata": {
        "id": "mPIBT-0r4U0j",
        "colab_type": "text"
      },
      "source": [
        "**Q12 Binary Tree Path Sum to Target III**\n",
        "\n",
        "Given a binary tree in which each node contains an integer number. Determine if there exists a path (the path can only be from one node to itself or to any of its descendants), the sum of the numbers on the path is the given target number.\n",
        "\n",
        "https://app.laicode.io/app/problem/141"
      ]
    },
    {
      "cell_type": "code",
      "metadata": {
        "id": "aaLv27Fr4cp8",
        "colab_type": "code",
        "colab": {}
      },
      "source": [
        "class Solution(objet):\n",
        "  def exist(self, root, target):\n",
        "    hash = dic()\n",
        "    self.ret = Falseself.helper(root, target, hash, 0)\n",
        "    return self.ret\n",
        "\n",
        "  def helper(self, root, target, hash, cur):\n",
        "    if root is None:\n",
        "      return\n",
        "    cur = cur + root.val\n",
        "    if cur == target:\n",
        "      self.ret = True\n",
        "    if (cur - target) in hash and hash[(cur - target)] > 0:\n",
        "      self.ret = True\n",
        "\n",
        "    if cur in hash:\n",
        "      hash[cur] += 1\n",
        "    else:\n",
        "      hash[cur] = 1\n",
        "\n",
        "    self.helper(root.left, target, hash, cur)\n",
        "    self.helper(root.right, target, hash, cur)\n",
        "\n",
        "    hash[cur] -= 1\n",
        "    return\n",
        "    \n",
        "      \n"
      ],
      "execution_count": 0,
      "outputs": []
    },
    {
      "cell_type": "markdown",
      "metadata": {
        "id": "sccO1a2Bbf5I",
        "colab_type": "text"
      },
      "source": [
        "####Recursion on Trees II\n",
        "\n",
        "Pass values from top to bottom, then return values from bottom to top"
      ]
    },
    {
      "cell_type": "markdown",
      "metadata": {
        "id": "gP8CNgrAedDW",
        "colab_type": "text"
      },
      "source": [
        "**Q1 Is Binary Search Tree**\n",
        "\n",
        "Given a binary tree, determine if the tree is a binary search tree\n",
        "\n",
        "\n",
        "\n",
        "```\n",
        "             10 (-inf, inf)\n",
        "            /   \\\n",
        "(-inf, 10) 5     15 (10, inf)\n",
        "          / \\    / \\\n",
        "(-inf, 5)2  7   12  20 (15, inf)\n",
        "```\n",
        "\n",
        "Can we traverse through each node and compare its left and right? No. Not considering other branches\n",
        "\n",
        "Let's construct a BST. \n",
        "* The root can take any value from -inf to inf\n",
        "* The left child can take any value from -inf (parent's lower bound) to root.val (parent's value)\n",
        "* The right child can take any value from root.val (parent's value) to inf (parent's upper bound)\n",
        "\n",
        "https://app.laicode.io/app/problem/54\n"
      ]
    },
    {
      "cell_type": "code",
      "metadata": {
        "id": "XQ_Q5qNKe07N",
        "colab_type": "code",
        "colab": {}
      },
      "source": [
        "# M1 Use ranges\n",
        "def BST(root):\n",
        "  if root is None:\n",
        "    return True\n",
        "  min_val = float('-inf')\n",
        "  max_val = float('inf')\n",
        "  return isBST(root, min_val, max_val)\n",
        "\n",
        "def isBST(root, min_val, max_val):\n",
        "  if root is None:\n",
        "    return True\n",
        "  if root.val <= min_val or root.val >= max_val:\n",
        "    return False\n",
        "  return isBST(root.left, min_val, root.val) and isBST(root.right, root.val, max_val)\n",
        "\n",
        "# time: O(n)\n",
        "# space: O(h)\n"
      ],
      "execution_count": 0,
      "outputs": []
    },
    {
      "cell_type": "code",
      "metadata": {
        "id": "vnIltL3_oFOx",
        "colab_type": "code",
        "colab": {}
      },
      "source": [
        "# M1.1 Use ranges in tuples\n",
        "\n",
        "def isBST(node):\n",
        "  return isBSTUtil(node, -float('inf'), float('inf'))\n",
        "\n",
        "def isBSTUtil(node, mini, maxi):\n",
        "  if node is None:\n",
        "    return True\n",
        "  if not (mini <= node.val <= maxi): # assume official BST does not have duplicated nodes\n",
        "    return False\n",
        "  return isBSTUtil(node.left, mini, node.val - 1) and isBSTUtil(node.right, node.val + 1, maxi)"
      ],
      "execution_count": 0,
      "outputs": []
    },
    {
      "cell_type": "code",
      "metadata": {
        "id": "qgD-iGdFodLJ",
        "colab_type": "code",
        "colab": {}
      },
      "source": [
        "# M1.2 \n",
        "# All values in the left subtree are smaller than what root has\n",
        "# Smallest value in the right subtree is larger than the root's\n",
        "\n",
        "def impl(root):\n",
        "  if not root:\n",
        "    return(True, None, None)\n",
        "  lr, lmin, lmax = impl(root.left)\n",
        "  rr, rmin, rmax = impl(root.right)\n",
        "  return lr and rr and (not lmax or lmax < root.key) and (not rmin or root.key < rmin), lmin or root.key, rmax or root.key\n",
        "\n",
        "def IsValidBST(root):\n",
        "  return impl(root)[0]"
      ],
      "execution_count": 0,
      "outputs": []
    },
    {
      "cell_type": "code",
      "metadata": {
        "id": "wiCU8uCZjcda",
        "colab_type": "code",
        "colab": {}
      },
      "source": [
        "# M2 Use inorder traversal\n",
        "# Check if the next node is greater than the previous node\n",
        "\n",
        "def is ValidBST(root):\n",
        "  prev = [None]\n",
        "  res = [True]      # use list to use python's pass by object reference nature\n",
        "  inorder(root, prev, res)\n",
        "  return res[0]\n",
        "\n",
        "def inorder(root, prev, res):\n",
        "  if not root:\n",
        "    return\n",
        "  inorder(root.left, prev, res)\n",
        "  if prev[0] and prev[0] >= root.val:\n",
        "    res[0] = False\n",
        "  prev[0] = root.val\n",
        "  inorder(root.right, prev, res)\n",
        "\n",
        "# time: O(n)\n",
        "# space: O(h)"
      ],
      "execution_count": 0,
      "outputs": []
    },
    {
      "cell_type": "code",
      "metadata": {
        "id": "q_N3_3Wznft4",
        "colab_type": "code",
        "colab": {}
      },
      "source": [
        "# M2.1  \n",
        "# NOTE: The inorder traversal should give a sorted list\n",
        "\n",
        "def inorder(root, prev):\n",
        "  if not root:\n",
        "    return True\n",
        "  if not inorder(root.left, prev):\n",
        "    return False\n",
        "  if prev[0] >= root.val:\n",
        "    return False\n",
        "  prev[0] = root.val\n",
        "  return inorder(root.right, prev)\n",
        "\n",
        "def isValidBST(root):\n",
        "  prev = [None]\n",
        "  return inorder(root, prev)\n",
        "\n",
        "# time: O(n)\n",
        "# space: O(logn) but O(n) worst case"
      ],
      "execution_count": 0,
      "outputs": []
    },
    {
      "cell_type": "code",
      "metadata": {
        "id": "4uulAZRnnQYC",
        "colab_type": "code",
        "colab": {}
      },
      "source": [
        "# M2.2 \n",
        "\n",
        "# if left node -> range = (parent.low_bound, parent.val)\n",
        "# if right node -> range = (parent.val, parent.upper_bound)\n",
        "# time: O(2n) = O(n)\n",
        "# space: O(n+h) = o(n)\n",
        "\n",
        "def inorder(root, seq):  #seq holds visited nodes\n",
        "  if not root:\n",
        "    return\n",
        "  inorder(root.left, seq)\n",
        "  seq.append(root.key)\n",
        "  inorder(root.right, seq)\n",
        "  \n",
        "def BST(root):\n",
        "  seq = []\n",
        "  inorder(root, seq)  #check seq is in ascending order\n",
        "  for i in range(1, len(seq)):\n",
        "    if seq[i-1] >= seq[i]:\n",
        "      return False\n",
        "  return True\n",
        "\n",
        "# How to optimize:\n",
        "# O1: stop recursion if violation found\n",
        "# O2: only store previous visited value"
      ],
      "execution_count": 0,
      "outputs": []
    },
    {
      "cell_type": "code",
      "metadata": {
        "id": "fx-UJw9YQDAC",
        "colab_type": "code",
        "colab": {}
      },
      "source": [
        "# M3 Post Order / bottom Up\n",
        "'''\n",
        "1. What do you expect from your left child/right child?\n",
        "  left_Res \n",
        "  right_Res\n",
        "2. What do you want to do in the current layer?\n",
        "  isBST = left_res.isBST and right_res.isBST and left_res.max < root.val and right_res.min > root.val\n",
        "3. What do you want to return to you parent? (same as 1)\n",
        "'''\n",
        "# time: O(n)\n",
        "# space: O(h)\n",
        "\n",
        "def isValidBST(root):\n",
        "  return isBSTHelper(root)[0]\n",
        "\n",
        "# style1\n",
        "def isBSTHelper(root):\n",
        "  if not root:\n",
        "    return (True, None, None)                   #(if BST, min val, max val)\n",
        "  left_res = isBSTHelper(root.left)\n",
        "  right_res = isBSTHelper(root.right)\n",
        "  if not left_res[0] or not right_res[0]:       # if left and right are BST\n",
        "    return (False, None, None)\n",
        "  if left_res[2] and root.val <= left_res[2]:   # if root is greater than left max\n",
        "    return (False, None, None)\n",
        "  if right_res[1] and root.val >= right_res[1]: # if root is smaller than right min\n",
        "    return (False, None, None)\n",
        "  return (True, left_res[1] or root.val, right_res[2] or root.val) # \n",
        "\n",
        "# style2\n",
        "def isBSTHelper(root):\n",
        "  if not root:\n",
        "    return True, None, None\n",
        "  boolean1, min1, max1 = isBSTHelper(root.left)\n",
        "  boolean2, min2, max2 = isBSTHelper(root.right)\n",
        "  boolean = boolean 1 and boolean2 and (not max1 or max1 < root.val) and (not in2 or root.val < min2)\n",
        "  return (boolean, min1 or root.val, max2 or root.val)\n",
        "\n",
        "# style3\n",
        "def isBSTHelper(root):\n",
        "  if not root:\n",
        "    return True, -float('inf'), float('inf')\n",
        "  boolean1, min1, max1 = isBSTHelper(root.left)\n",
        "  boolean2, min2, max2 = isBSTHelper(root.right)\n",
        "  boolean = boolean1 and boolean2 and (max1 < root.val < min2)\n",
        "  return (boolean, min1, max2)\n",
        "\n",
        "'''Example 1\n",
        "2 -> (T, N, N)\n",
        "5 -> (T, 2, 2)\n",
        "7 -> (T, N, N)\n",
        "10 -> (T, 2, 7)\n",
        "'''"
      ],
      "execution_count": 0,
      "outputs": []
    },
    {
      "cell_type": "code",
      "metadata": {
        "id": "iYh7qoKad3GJ",
        "colab_type": "code",
        "colab": {}
      },
      "source": [
        "# M4(Advanced) Solution: going from least to most\n",
        "prev = None\n",
        "isBST = True\n",
        "\n",
        "def isBST(root):\n",
        "  prev = [None]\n",
        "  isBST = [True]\n",
        "  inOrder(root, prev, isBST)\n",
        "  return isBST[0]\n",
        "\n",
        "def inOrder(root, prev, isBST):\n",
        "  if not root:\n",
        "    return\n",
        "  inOrder(root.left)  \n",
        "  if prev[0] is not None and root.val <= prev[0].val:\n",
        "    isBST[0] = False\n",
        "  prev[0] = root\n",
        "  inOrder(root.right)\n",
        "  \n",
        "'''\n",
        "Example 1\n",
        "prev  None  2   5    7  \n",
        "curr   2    5   7    10\n",
        "isBST  T    T   T\n",
        "'''"
      ],
      "execution_count": 0,
      "outputs": []
    },
    {
      "cell_type": "markdown",
      "metadata": {
        "id": "4RlOgGCtE0Zs",
        "colab_type": "text"
      },
      "source": [
        "**Q10 Path Sum** - 5/27 lec\n",
        "\n",
        "Given a binary tree and a sum, determine if the tree has a root-to-leaf path such that adding up all the values along the path equals the given sum. Return false if does not exist\n",
        "\n",
        "\n",
        "1. What do you expect from your left child/right child? T/F\n",
        "2. What do you want to do in the current layer? Left or Right\n",
        "3. What do you want to return to your parent? Return (left or right)"
      ]
    },
    {
      "cell_type": "code",
      "metadata": {
        "id": "CG85i9c5FCZE",
        "colab_type": "code",
        "colab": {}
      },
      "source": [
        "# M1 Top Down 1\n",
        "\n",
        "class Solution(object):\n",
        "  \n",
        "  def hasPathSum(self, root, sum):\n",
        "    self.sum = sum\n",
        "    self.helper(root, 0) #root.val instead of 0 also works with some modifications\n",
        "    \n",
        "  def helper(self, root, current):\n",
        "    if root is None:\n",
        "      return\n",
        "    if root.left is None and root.right is None: \n",
        "      return(current + root.val == self.sum)\n",
        "    return self.helper(root.left, current+root.val) or self.helper(root.right, current+root.val)\n",
        "    "
      ],
      "execution_count": 0,
      "outputs": []
    },
    {
      "cell_type": "code",
      "metadata": {
        "id": "lnKQ78XqGubN",
        "colab_type": "code",
        "colab": {}
      },
      "source": [
        "# M2 top down 2 \n",
        "class Solution(object):\n",
        "  def hasPathSum(self, root, sum):\n",
        "    self.sum = sum\n",
        "    if root is None:\n",
        "      return False\n",
        "    self.ret = False\n",
        "    self.helper(root, root.val)\n",
        "    return self.ret\n",
        "  \n",
        "  def helper(self, root, current):\n",
        "    if root is None:\n",
        "      return\n",
        "    if root.left is None and root.right is None:\n",
        "      self.ret = (self.ret or current == self.sum)\n",
        "      return\n",
        "    if root.left:\n",
        "      self.helper(root.left, current + root.left.val)\n",
        "    if root.right:\n",
        "      self.helper(root.right, current + root.right.val)\n",
        "    return"
      ],
      "execution_count": 0,
      "outputs": []
    },
    {
      "cell_type": "code",
      "metadata": {
        "id": "L08J_MhmKCOW",
        "colab_type": "code",
        "colab": {}
      },
      "source": [
        "# M3 Bottom Up (forced)\n",
        "\n",
        "class Solution(object):\n",
        "  def hasPathSumBottomUp(self, root, sum):\n",
        "    ret = self.helper(root)\n",
        "    for a in ret:\n",
        "      if a == sum: \n",
        "        return True\n",
        "    return False\n",
        "  \n",
        "  def helper(self, root):\n",
        "    # 不要这样写，太2了 return all possible path sum\n",
        "    if root is None:\n",
        "      return []\n",
        "    if root.left is None and root.right is None:\n",
        "      return [root.val]\n",
        "    lefts = self.helper(root.left)   #obtains a list of the path\n",
        "    rights = self.helper(root.right)\n",
        "    \n",
        "    ret = []\n",
        "    for 1 in lefts:\n",
        "      ret.append(root.val + l)\n",
        "    for r in rights:\n",
        "      ret.append(root.val + r)\n",
        "    return ret"
      ],
      "execution_count": 0,
      "outputs": []
    },
    {
      "cell_type": "markdown",
      "metadata": {
        "id": "DNvYC6nXJhLF",
        "colab_type": "text"
      },
      "source": [
        "###Binary Search Tree\n",
        "\n",
        "For every single node in this tree, all keys contained within its left subtree is smaller than the one in this single node, all keys contained within its right subtree is larger than the one in this single node\n",
        "\n",
        "* Inorder traversal on a binary search tree --> sorted list\n",
        "* Combines the flexibility of inserting in a linked list and the efficiency of searching in an ordered array together\n",
        "* Preserve the order of all keys in it while you are dynamically doing insertion and deletion\n",
        "\n",
        "Why\n",
        "* it is an implementation that combines the flexibility of inserting in a linked list and the efficiency of searching in an ordered array together. \n",
        "* It can help you preserve the order of all keys in it while you are dynamically doing insertion and deletion\n",
        "* Used in many databases"
      ]
    },
    {
      "cell_type": "markdown",
      "metadata": {
        "id": "Ths4J3ZqJfiT",
        "colab_type": "text"
      },
      "source": [
        "**Designing a BST**\n",
        "\n",
        "* Help preserve the order of all keys in it while you are dynamically doing insertion and deletion\n",
        "* Balanced BST -- important structure. The number of leaves of left/right do not differ by more than 1 -- can be efficiently manupulated. Worst case logn is guaranteed\n",
        "\n",
        "Q1 How do we store key value pairs?\n",
        "* We required the objects to be comparable --  however, a lot of the times comparability is relative depending on the context, so you are changing the key that you used in the comparison (e.g. student's name, id, age); and it will be impossible to customie the comparison unless we ask user to explicitly to provide a comparator\n",
        "* therefore, we need to define a natatural order: key-value pairs. key determines the value of the order of the element in BST; similar to a dictionary\n",
        "\n",
        "Q2: Given a key, how to find corresponding value in a BST?\n",
        "* Recursion -- walk through from root to leaf and change direction (left or right) based on comparison (< or >)\n",
        "\n",
        "Q3: How to do Insert?\n",
        "* returning a link to a Node is needed since we can reflect changes to the tree by assigning the result to the link of the root node used as argument\n",
        "\n",
        "Q4: How to delete a pair from the tree?\n",
        "* What if want to delete the smallest key?\n",
        " * the smallest key will not have left child\n",
        " * the smallest key might have right child -> replace this node with its right child\n",
        "* What if the node has only one child?\n",
        " * same as deleteMin\n",
        "* What if the node has two childs?\n",
        " * left with two links, but only have a place in the parent node for only one of them\n",
        " * S1: after deleting root, delete the smallest key in the right subtree and use it as the new root; or the righest node of the left subtree 把左孩子最大或右孩子最小当作新根\n",
        " * S2: put the left subtree of ndoe x to be the left subtree of the leftmost node in the right subtree of node x --> 把左孩子接到右孩子最左边的节点下 --> Downside is increasing the height of the tree\n",
        " \n",
        "Q5: Select (pending)\n",
        "* Given an integer k, find a node in our BST that has k nodes precede it. e.g. when k = 0, we want the smallest key\n",
        "\n",
        "\n",
        "Q6: Rank (pending)\n",
        "* Given a key, the number of keys that precede it in the tre\n",
        " \n",
        "\n",
        " "
      ]
    },
    {
      "cell_type": "code",
      "metadata": {
        "id": "S9t0xSuybS37",
        "colab_type": "code",
        "colab": {}
      },
      "source": [
        "# BST Template\n",
        "class BinarySearchTree(object):\n",
        "  def __init__(self):\n",
        "    self.key = key\n",
        "    self.value = value\n",
        "    self.left = self.right = None\n",
        "    \n",
        "  def insert(self, key, value):\n",
        "    # if key already present in our tree, the associated value will be updated by our input\n",
        "    pass\n",
        "  \n",
        "  def query(self, root, key):\n",
        "    # if key is already presented in our tree, the associated value will be returned\n",
        "    pass\n",
        "  \n",
        "  def delete(self, key):\n",
        "    # if key in tree, key value pair will be removed\n",
        "    pass"
      ],
      "execution_count": 0,
      "outputs": []
    },
    {
      "cell_type": "code",
      "metadata": {
        "id": "TqvLV3Cwky5d",
        "colab_type": "code",
        "colab": {}
      },
      "source": [
        "# Defining BST recursively - similar to Binary Search\n",
        "\n",
        "class BinarySearchTree(object):\n",
        "  def __init__(self):\n",
        "    self._root = None\n",
        "  \n",
        "  def _query(self, root, key): # use helper function so that users don't see root\n",
        "    if not root:                         # Base case - empty tree\n",
        "      return None\n",
        "    if key == root.key:\n",
        "      return root.value\n",
        "    if key < root.key:                   # the answer is in left tree\n",
        "      return self._query(root.left, key)\n",
        "    return self._query(root.right, key)  # the answer is in right tree\n",
        "  \n",
        "  def query(self, key):\n",
        "    # if key is already in tree, the associated value will be returned\n",
        "    return self._query(self._root, key)\n",
        "    # time: O(h)\n",
        "    # space: O(h) height of the tree\n",
        "  \n",
        "  def _insert(self, root, key, value):\n",
        "    # return root node of the modified tree !!!\n",
        "    if not root:\n",
        "      return TreeNode(key, value) #insert\n",
        "    if root.key == key:\n",
        "      root.value = value\n",
        "    elif root.key < key:\n",
        "      root.right = self._insert(root.right, key, value)\n",
        "    else:\n",
        "      root.left = self._insert(root.left, key, value)\n",
        "    return root\n",
        "  \n",
        "  def insert(self, key, value):\n",
        "    # if key already in tree, the value will be updated\n",
        "    # ow, new key value pair will be put in\n",
        "    self._root = self._insert(self._root, key, value)\n",
        "    # note: does not need to be a balanced BST\n",
        "  \n",
        "  def _min(self, root):\n",
        "    if not root.left:\n",
        "      return root\n",
        "    return self._min(root.left)\n",
        "  \n",
        "  def _deleteMin(self, root):\n",
        "    # return the root of the modified tree!!!\n",
        "    if not root.left:    # if no left child, root is the smallest\n",
        "      return root.right  # if no root.right, none\n",
        "    root.left = self._deleteMin(root.left)\n",
        "    return root\n",
        "  \n",
        "  def _delete(self, root, key):\n",
        "    # return root of the modified tree\n",
        "    if not root:\n",
        "      return None         # nothing  to delete\n",
        "    if key < root.key:\n",
        "      root.left = self._delete(root.left, key)\n",
        "    elif key > root.key:\n",
        "      root.right = self._delete(root.right, key)\n",
        "    else:\n",
        "      if not root.right:  # only one child - left\n",
        "        return root.left\n",
        "      if not root.left:   # only one child - right\n",
        "        return root.right\n",
        "      t = root\n",
        "      root = self._min(t.right)  # find min in the right subtree\n",
        "      root.right = self._deleteMin(t.right) #delete from the right subtree and return t.right\n",
        "      root.left = t.left\n",
        "      # NOTE: cannot swith root.right and root.left lines. Will delete the wrong chidl\n",
        "    return root\n",
        "  \n",
        "  def delete(self, key):\n",
        "    self._root = self._delete(self._root, key)\n",
        "  \n"
      ],
      "execution_count": 0,
      "outputs": []
    },
    {
      "cell_type": "code",
      "metadata": {
        "id": "FNpQDNTmm9c5",
        "colab_type": "code",
        "colab": {}
      },
      "source": [
        "# Defining BST iteratively\n",
        "\n",
        "class BinarySearchTree(object):\n",
        "  def __init__(self):\n",
        "    self._root = None\n",
        "    \n",
        "  def query(self, key):\n",
        "    curr = self._root\n",
        "    while curr:\n",
        "      if key < curr.key:\n",
        "        curr = curr.left\n",
        "      elif key > curr.key:\n",
        "        curr = curr.right\n",
        "      else:\n",
        "        return curr.value\n",
        "  return None\n",
        "\n",
        "  def insert(self, key, value):\n",
        "    if not self._root:\n",
        "      self._root = _Node(key, value)\n",
        "      return\n",
        "    curr, prev, is_left = self._root, None, None\n",
        "    while curr:\n",
        "      prev = curr\n",
        "      if key < curr.key:\n",
        "        is_left = True\n",
        "        curr = curr.left\n",
        "      elif key > curr.key:\n",
        "        is_left = False\n",
        "        curr = curr.right\n",
        "      else:\n",
        "        curr.value = value\n",
        "        break\n",
        "    if not curr:\n",
        "      node = _Node(key, value)\n",
        "      if is_left:\n",
        "        prev.left = node\n",
        "      else:\n",
        "        pre.right = node"
      ],
      "execution_count": 0,
      "outputs": []
    },
    {
      "cell_type": "markdown",
      "metadata": {
        "id": "BJ4UVtEt7kxp",
        "colab_type": "text"
      },
      "source": [
        "**Q1 Find minimum key**\n",
        "\n",
        "Given the root of a BST, find the node that contains the min key (leftest node)\n"
      ]
    },
    {
      "cell_type": "code",
      "metadata": {
        "id": "CW1Z4cKWnSb3",
        "colab_type": "code",
        "colab": {}
      },
      "source": [
        "# 1. Empty tree should return Nothing\n",
        "# 2. If we could not find left node, the root node must be the answer\n",
        "\n",
        "class TreeNode(object):\n",
        "  def __init__(self, key):\n",
        "    self.key = key\n",
        "    self.left = self.right = None\n",
        "  \n",
        "  def FindMinimum(root): \n",
        "    if root is None or root.left is None: \n",
        "      return root\n",
        "    return FindMinimum(root.left)\n",
        "\n",
        "  def FindMinimum2(root):\n",
        "    if not root:\n",
        "      return None\n",
        "    return FindMinimum2(root.left) or root"
      ],
      "execution_count": 0,
      "outputs": []
    },
    {
      "cell_type": "markdown",
      "metadata": {
        "id": "gLxfiRv08Ji_",
        "colab_type": "text"
      },
      "source": [
        "**Q2 Find larger node**\n",
        "\n",
        "Given the root of a BST, find the smallest node containing a value that is larger than the target value\n"
      ]
    },
    {
      "cell_type": "code",
      "metadata": {
        "id": "0Ba9VayWnyBv",
        "colab_type": "code",
        "outputId": "c6ff30f0-f34f-4faa-8a12-69abbe29d8b2",
        "colab": {
          "base_uri": "https://localhost:8080/",
          "height": 35
        }
      },
      "source": [
        "# 1. if root.key == target -> answer is the leftmost node of the right subtree\n",
        "# 2. if root.key < target -> answer is in the right subtree. Use recursion\n",
        "# 3. if root.key > target -> find first larger than target in the left subtree. If not found, root is the answer\n",
        "\n",
        "class TreeNode(object):\n",
        "  def __init__(self, key):\n",
        "    self.key = key\n",
        "    self.left = self.right = None\n",
        "\n",
        "def FindFirstLargerThanTarget(root, target):\n",
        "  if not root:\n",
        "    return None\n",
        "  if root.key == target:\n",
        "    return FindMinimum(root.right)\n",
        "  elif root.key < target:\n",
        "    return FindFirstLargerThanTarget(root.right, target)\n",
        "  else:\n",
        "    return FindFirstLargerThanTarget(root.left, target) or root\n",
        "  \n",
        "root = TreeNode(7)\n",
        "root.left = TreeNode(1)\n",
        "root.left.right = TreeNode(3)\n",
        "root.left.right.right = TreeNode(5)\n",
        "root.right = TreeNode(9)\n",
        "\n",
        "print(FindFirstLargerThanTarget(root, 4).key)"
      ],
      "execution_count": 0,
      "outputs": [
        {
          "output_type": "stream",
          "text": [
            "5\n"
          ],
          "name": "stdout"
        }
      ]
    },
    {
      "cell_type": "markdown",
      "metadata": {
        "id": "gr13ZwQw8bmJ",
        "colab_type": "text"
      },
      "source": [
        "**Q3 Find node smaller**\n",
        "\n",
        "Given the root of the BST, find the largest node containing a value that is smaller than our target\n"
      ]
    },
    {
      "cell_type": "code",
      "metadata": {
        "id": "w2YyB7-tpyNv",
        "colab_type": "code",
        "outputId": "3c18e50f-fb75-4643-a279-3ee964b2d88c",
        "colab": {
          "base_uri": "https://localhost:8080/",
          "height": 53
        }
      },
      "source": [
        "def FindMaximum(root):\n",
        "  if not root:\n",
        "    return None\n",
        "  return FindMaximum(root.right) or root\n",
        "\n",
        "def FindLastSmallerThanTarget(root, target):\n",
        "  if not root:\n",
        "    return None\n",
        "  if root.key == target:\n",
        "    return FindMaximim(root.left)\n",
        "  elif root.key > target:\n",
        "    return FindLastSmallerThanTarget(root.left, target)\n",
        "  else:\n",
        "    return FindLastSmallerThanTarget(root.right, target) or root\n",
        "  \n",
        "root = TreeNode(7)\n",
        "root.left = TreeNode(1)\n",
        "root.left.right = TreeNode(3)\n",
        "root.left.right.right = TreeNode(5)\n",
        "root.right = TreeNode(9)\n",
        "\n",
        "print(FindMaximum(root).key)\n",
        "print(FindLastSmallerThanTarget(root, 4).key)"
      ],
      "execution_count": 0,
      "outputs": [
        {
          "output_type": "stream",
          "text": [
            "9\n",
            "3\n"
          ],
          "name": "stdout"
        }
      ]
    },
    {
      "cell_type": "markdown",
      "metadata": {
        "id": "HVeHuJZ-BYns",
        "colab_type": "text"
      },
      "source": [
        "**Q4 Insert**\n",
        "\n",
        "Given a key and an associated value, how do we insert them into the binary search tree?"
      ]
    },
    {
      "cell_type": "code",
      "metadata": {
        "id": "xJ9doHdsBgAd",
        "colab_type": "code",
        "colab": {}
      },
      "source": [
        "def insert(self, key, value):\n",
        "\n",
        "\n",
        "def _insert(self, root, key, value):\n",
        "  if not root:  # if current tree is an empty tree\n",
        "    return _TreeNode(key, value)\n",
        "  if root.key == key:\n",
        "    root.value = value\n",
        "  elif root.key < key:\n",
        "    root.right = self._insert(root.right, key, value)\n",
        "  else:\n",
        "    root.left = self._insert(root.left, key, value)\n",
        "  return root\n"
      ],
      "execution_count": 0,
      "outputs": []
    },
    {
      "cell_type": "markdown",
      "metadata": {
        "id": "wt7JdmCzBgpd",
        "colab_type": "text"
      },
      "source": [
        "**Q5 Search in a BST**\n",
        "\n",
        "Given a BST, find a target value, return its subtree\n"
      ]
    },
    {
      "cell_type": "code",
      "metadata": {
        "id": "1mCpPyPjiKZT",
        "colab_type": "code",
        "colab": {}
      },
      "source": [
        "# M1 Standard tree traversal \n",
        "# time: O(n)\n",
        "\n",
        "class Solution(object):\n",
        "  def searchBST(self, root, val):\n",
        "    if root is None:\n",
        "      return None\n",
        "    if root.val == val:\n",
        "      return root\n",
        "    left = self.searchBST(root.left, val)\n",
        "    right = self.searchBST(root.right, val)\n",
        "    if left:\n",
        "      return left\n",
        "    if right:\n",
        "      return right\n",
        "    return None"
      ],
      "execution_count": 0,
      "outputs": []
    },
    {
      "cell_type": "code",
      "metadata": {
        "id": "VBx0-9sECwBl",
        "colab_type": "code",
        "colab": {}
      },
      "source": [
        "# M2 BST solution\n",
        "# time: O(logn) if balanced; O(n) worst case\n",
        "\n",
        "class Solution(object):\n",
        "  def searchBST(self, root, val):\n",
        "    if root is None:\n",
        "      return None\n",
        "    if root.val == val:\n",
        "      return root\n",
        "    elif root.val < val:\n",
        "      return self.searchBST(root.right, val)\n",
        "    else:\n",
        "      return self.searchBST(root.left, val)"
      ],
      "execution_count": 0,
      "outputs": []
    },
    {
      "cell_type": "markdown",
      "metadata": {
        "id": "J6_jxP-zEtOs",
        "colab_type": "text"
      },
      "source": [
        "**Q6 Delete pair from tree**\n",
        "\n",
        "Given a key, how do we delete the corresponding pair from the tree. This is definitely the most difficult operation to be supported"
      ]
    },
    {
      "cell_type": "code",
      "metadata": {
        "id": "rbhM-4lfE4B_",
        "colab_type": "code",
        "colab": {}
      },
      "source": [
        "class BinarySearchTree(object):\n",
        "  def __init__(self):\n",
        "    self._root = None\n",
        "  \n",
        "  def _deleteMin(self, root): # return root after deletion is done\n",
        "    if not root.left:\n",
        "      return root.right\n",
        "    root.left = self._deleteMin(root.left)\n",
        "    return root\n",
        "\n",
        "  def _delete(self, root, key):\n",
        "    if not root:\n",
        "      return None\n",
        "    if key < root.key:\n",
        "      root.left = self._delete(root.left, key)\n",
        "    elif key > root.key:\n",
        "      root.right = self._delete(root.right, key)\n",
        "    else:\n",
        "      if not root.right:\n",
        "        return root.left\n",
        "      if not root.left:\n",
        "        return root.right\n",
        "      t = root\n",
        "      root = self._min(t.right)\n",
        "      root.right = self._deleteMin(t.right)\n",
        "      root.left = t.left\n",
        "  return root\n",
        "\n",
        "  def delete(self, key):\n",
        "    self._root = self._delete(self._root, key)\n",
        "    "
      ],
      "execution_count": 0,
      "outputs": []
    },
    {
      "cell_type": "markdown",
      "metadata": {
        "id": "05QgAEhIBnk3",
        "colab_type": "text"
      },
      "source": [
        "**Q6 Range Sum of BST**"
      ]
    },
    {
      "cell_type": "code",
      "metadata": {
        "id": "U9umhQDmi2wt",
        "colab_type": "code",
        "colab": {}
      },
      "source": [
        "# Given the root node of a BST, return the sum of all nodes with values between L and R (inclusive)\n",
        "# The BST is guaranteed to have unique values\n",
        "\n",
        "# M1 Standard tree solution\n",
        "class Solution:\n",
        "  def rangeSumBST(self, root, L, R):\n",
        "    if not root:\n",
        "      return 0\n",
        "    r = 0\n",
        "    if root.val >= L and root.val <= R:\n",
        "      r += root.val\n",
        "    r += self.rangeSumBST(root.left, L, R)\n",
        "    r += self.rangeSumBST(root.right, L, R)\n",
        "    return r\n",
        "  \n",
        "# M2 BST Solution\n",
        "# time: O(n) worst, balanced O(n)\n",
        "# space: O(h)\n",
        "class Solution(object):\n",
        "  def rangeSumBST(self, root, L, R):\n",
        "    if root is None:\n",
        "      return 0\n",
        "    if root.val < L:\n",
        "      return self.rangeSumBST(root.right, L, R)\n",
        "    elif root.val > R:\n",
        "      return self.rangeSumBST(root.left, L, R)\n",
        "    else:\n",
        "      return self.ragenSumBST(root.left, L, R) + root.val + self.rangeSumBST(root.right, L, R)\n",
        "    \n"
      ],
      "execution_count": 0,
      "outputs": []
    },
    {
      "cell_type": "markdown",
      "metadata": {
        "id": "x0wCZSCX4Bxr",
        "colab_type": "text"
      },
      "source": [
        "###Heap \n",
        "\n",
        "General = obtain extreme values from a collection. Also called priority queue\n",
        "\n",
        "**Application**\n",
        "* How can you obtain the median of a data stream at any given time? \n",
        "\n",
        "**Implementation** from a binary heap\n",
        "* Every node is smaller than its descendent 堆序性\n",
        "* Option 1: Implement using a tree. Always a complete binary tree -- a binary tree in which every level, except possibly the last, is completely filled, and all nodes are as far left as possible \n",
        " * Advantage: lower time complexity\n",
        " * Disadvantage: cannot find a node's parent from the node (unidirectional)\n",
        " * Disadvantage: consumes more space. Each node contains its value and its left and right\n",
        "* Option 2: Implement as an unsorted array. O(1) \n",
        " * left_child_idx = parent_node_idx * 2 + 1\n",
        " * right_child_idx = parent_node_idx * 2 + 2\n",
        " * parent_node_idx = (child_node_idx - 1) // 2\n",
        " * Advantage: more time saver\n",
        " * Disadvantage: limited, can only represent complete binary tree\n",
        "* If not use heap, O(n) time to find the max; O(2n) to find top 2\n",
        "\n",
        "**Types**\n",
        "* Min-heap = pop returns current collection's min -> every node is smaller than its child\n",
        "* Max-heap = pop returns current collection's max -> every node is bigger than its child\n"
      ]
    },
    {
      "cell_type": "markdown",
      "metadata": {
        "id": "efu3Rm1A24px",
        "colab_type": "text"
      },
      "source": [
        "**M1 Implement Heap using Array**\n",
        "\n",
        "* Insert: time O(logn) -> put in the last position, then shift up\n",
        "* Update: time O(logn), if smaller, shift up; if bigger, shift down. Python API does not support update, need to write ourselves\n",
        "* Get/top: O(1)\n",
        "* pop: O(logn)\n",
        "* heapify: O(cn) ~ O(2n)\n",
        "\n",
        "Example:\n",
        "\n",
        "\n",
        "```\n",
        "Arr = [0, 1, 5, 6, 8] -> push(9) -> Arr = [0, 1, 5, 6, 8, 9]\n",
        "                  0\n",
        "                 / \\\n",
        "                1   5\n",
        "               / \\\n",
        "              6   8 \n",
        "    \n",
        "Arr = [0, 1, 5, 6, 8] -> push(-1) -> Arr = [-1, 1, 0, 6, 8, 5]\n",
        "\n",
        "                  0\n",
        "                 / \\\n",
        "                1   5\n",
        "               / \\  /\n",
        "               6  8 -1\n",
        "\n",
        "First insert, then adjust\n",
        "\n",
        "                  -1\n",
        "                 / \\\n",
        "                1   0\n",
        "               / \\  /\n",
        "               6  8 5\n",
        "```\n"
      ]
    },
    {
      "cell_type": "code",
      "metadata": {
        "id": "DLCeM1Q6RDht",
        "colab_type": "code",
        "colab": {}
      },
      "source": [
        "# M1 Min Heap\n",
        "class Heap(object):\n",
        "  def __init__():\n",
        "    self.array = []\n",
        "  \n",
        "  # time: O(logn)\n",
        "  def sift_up(array, index):  # index is child \n",
        "    parent_idx = (index - 1) // 2\n",
        "    if parent_idx < 0 or array[index] > array[parent_idx]: # if no parent (root node)\n",
        "      return\n",
        "    array[index], array[parent_idx] = array[parent_idx], array[index]\n",
        "    sift_up(array, parent_idx) # recursion\n",
        "    # arr = [0, 1, 5, 6, 8, 9]\n",
        "    # sift_up(arr, len(arr)-1)\n",
        "    # print(arr)\n",
        "  \n",
        "  def push():  \n",
        "    # assume self.array has enough capacity\n",
        "    self.array.append(val)\n",
        "    self.sift_up(self.array, len(self.array)-1)\n",
        "\n",
        "  '''\n",
        "  1. Once popped, the tree lacks a head\n",
        "  2. Can use the last node to fill in the root. Satisfies complete binary tree\n",
        "  3. Shift down\n",
        "  '''\n",
        "\n",
        "  # Recursion; time: O(logn)\n",
        "  def sift_down(array, index):  \n",
        "    left = index * 2 + 1\n",
        "    right = index * 2 + 2\n",
        "    small = index\n",
        "    if left < len(array) and array[small] > array[left]:\n",
        "      small = left\n",
        "    if right < len(array) and array[small] > array[right]:\n",
        "      small = right\n",
        "    if small != index:\n",
        "      array[small], array[index] = array[index], array[small]\n",
        "      sift_down(array, small)\n",
        "  \n",
        "  # Iteration; time: O(logn)\n",
        "  def sift_down(array, index) \n",
        "    left = index * 2 + 1\n",
        "    right = index * 2 + 1\n",
        "    while left < len(array) or right < len(array): # condition when recursion ends\n",
        "      smaller = index\n",
        "      if left < len(array) and array[smaller] > array[left]:\n",
        "        smaller = left\n",
        "      if right < len(array) and array[smaller] > array[right]:\n",
        "        smaller = right\n",
        "      if smaller == index:\n",
        "        break\n",
        "      array[index], array[smaller] = array[smaller], array[index]\n",
        "      index = smaller\n",
        "      left = index * 2 + 1\n",
        "      right = index * 2 + 2\n",
        "\n",
        "  # time: O(logn)\n",
        "  def pop(self):  \n",
        "    res = self.array[0] \n",
        "    self.array[0], self.array[-1] = self.array[-1], self.array[0]\n",
        "    self.array.pop()\n",
        "    self.sift_down(self.array, 0)\n",
        "    return res\n",
        "  \n",
        "  # Initialize a heap from an unsorted array\n",
        "  # Sift down is used when every node except root is in right place\n",
        "  # 从倒数第二层开始，因为倒数第一层已经是一个堆了\n",
        "  # 叶子天然就是小分堆\n",
        "  def build_heap(arr):\n",
        "    for i in range(len(arr)//2 -1 , -1, -1): # len(arr)/2-1 is the parent of the last node\n",
        "      sift_down(arr, i)\n",
        "  \n",
        "  # time: O(n) = N/2 * 0 + N/4 * 1 + N/8 * 2 + N/16 * 3+ ... + 1*logN\n",
        "  # S = a1b1 + (a1+d)*b1*q + (a1+2d)*b1*q^2 + ... = a1b1 + d*b1*(q+q^2+...) = 2N"
      ],
      "execution_count": 0,
      "outputs": []
    },
    {
      "cell_type": "markdown",
      "metadata": {
        "id": "Z7kYne86I2OW",
        "colab_type": "text"
      },
      "source": [
        "**Heapify Time Complexity**\n",
        "\n",
        "The number of operations required for siftDown and siftUp is proportional to the distance the node may have to move.\n",
        "* siftDown -> distance from bottom of the tree. So siftDown is expensive for nodes at the top \n",
        "* siftUp -> work is proportional from the top of the tree. So siftUp is expensive for nodes at the bottom. \n",
        "* Both operations are O(logn) in the worst case, in a heap, only one node is at the top whereas half the nodes lie in the bottom layer."
      ]
    },
    {
      "cell_type": "markdown",
      "metadata": {
        "id": "VNT0Fv6Q3Nar",
        "colab_type": "text"
      },
      "source": [
        "**M2 Using pythong library**\n",
        "\n"
      ]
    },
    {
      "cell_type": "code",
      "metadata": {
        "id": "Lo4jSDKhk7E4",
        "colab_type": "code",
        "colab": {}
      },
      "source": [
        "# Python heapq library\n",
        "# heap elements could be tuples in which the first eleemnt is the priority and defines the sort order\n",
        "import heapq "
      ],
      "execution_count": 0,
      "outputs": []
    },
    {
      "cell_type": "code",
      "metadata": {
        "id": "vGYty0RF6UAY",
        "colab_type": "code",
        "outputId": "ea0a1fb9-a305-4e31-d072-e524238dbe5b",
        "colab": {
          "base_uri": "https://localhost:8080/",
          "height": 72
        }
      },
      "source": [
        "heap = []                      # creates an empty heap\n",
        "heapq.heappush(heap, (-1,2))   # pushes a new item on the heap\n",
        "heapq.heappush(heap, (-5,6))\n",
        "print(heap)                    # [(-1,2), (-5,6)]\n",
        "item = heapq.heappop(heap)     # pops the smallest item (-5, 6)\n",
        "item = heap[0]                 # smallest item on the heap without popping\n",
        "heapq.heapify([1,2,3])         # transforms list into a heap, in-place, in linear time\n",
        "print(heapq.heapify([1,2,3]))  # None\n",
        "heapq.heapreplace(heap, (-1,2)) #pops and returns smallest item, and adds"
      ],
      "execution_count": 0,
      "outputs": [
        {
          "output_type": "stream",
          "text": [
            "[(-5, 6), (-1, 2)]\n",
            "None\n"
          ],
          "name": "stdout"
        },
        {
          "output_type": "execute_result",
          "data": {
            "text/plain": [
              "(-1, 2)"
            ]
          },
          "metadata": {
            "tags": []
          },
          "execution_count": 13
        }
      ]
    },
    {
      "cell_type": "markdown",
      "metadata": {
        "id": "zc5oncxrlyiA",
        "colab_type": "text"
      },
      "source": [
        "**How to compare complex object in the heap?**\n",
        "1. Using tuples, insert(obj.key, obj) into heap, and the tuples are ordered based on obj.key\n",
        "2. implement a comparator"
      ]
    },
    {
      "cell_type": "code",
      "metadata": {
        "id": "Vp7arWqsmT33",
        "colab_type": "code",
        "colab": {}
      },
      "source": [
        "# Alternative 1:\n",
        "class TreeNode:\n",
        "  def __init__(self, x):\n",
        "    self.val = x\n",
        "    self.left = None\n",
        "    self.right = None\n",
        "  def __lt__(self, other):\n",
        "    return self.val < other.val\n",
        "  def __gt__(self, other):\n",
        "    return self.val > other.val\n",
        "  def __eq__(self, other):\n",
        "    return self.val == other.val\n",
        "\n",
        "# Alternative 2: heap on trees\n",
        "import queue\n",
        "pq = queue.PriorityQueue()\n",
        "pq.put(TreeNode(3))\n",
        "pq.put(TreeNode(1))\n",
        "pq.put(TreeNode(0))\n",
        "print(pq.get().val) #print 0"
      ],
      "execution_count": 0,
      "outputs": []
    },
    {
      "cell_type": "markdown",
      "metadata": {
        "id": "VPpzX-JQR0dw",
        "colab_type": "text"
      },
      "source": [
        "**Q1 Smallest k elements**\n",
        "\n",
        "Find smallest k elements from an unsorted array of size n (for k smallest elements, no sorting needed)"
      ]
    },
    {
      "cell_type": "code",
      "metadata": {
        "id": "FXkczIl1J9uk",
        "colab_type": "code",
        "colab": {}
      },
      "source": [
        "# M1 Sort -> O(nlogn)"
      ],
      "execution_count": 0,
      "outputs": []
    },
    {
      "cell_type": "code",
      "metadata": {
        "id": "rVmf8xzwJ_2X",
        "colab_type": "code",
        "colab": {}
      },
      "source": [
        "# M2 Min heap\n",
        "# S1 Heapify all elements -> O(n)\n",
        "# S2 call pop() k times to get the k smallest elements -> O(klogn)\n",
        "#   if k << n = O(C n)\n",
        "#   if k ~~ n = O(nlogn)  \n",
        "# time = O(n + klogn)\n",
        "# space: O(n)\n",
        "\n",
        "import heapq\n",
        "def kSmallest(array, k):\n",
        "  if not array:\n",
        "    return []\n",
        "  res = []\n",
        "  heapq.heapify(array)\n",
        "  for i in range(min(k, len(array)):\n",
        "    res.append(heapq.heappop(array))\n",
        "  return res"
      ],
      "execution_count": 0,
      "outputs": []
    },
    {
      "cell_type": "code",
      "metadata": {
        "id": "F3IQ77AOmpq0",
        "colab_type": "code",
        "colab": {}
      },
      "source": [
        "# M3 Max heap\n",
        "'''\n",
        "S1 heapify the first k eleemnts to form a max-heap of size = k -> O(k)\n",
        "S2 iterate over the rest (n-k) elements one by one. when we traverse a new element, \n",
        "compare wit the largest element of the previous smallest k candidates\n",
        "  case 1: new element >= top: ignore\n",
        "  case 2: new element < top: update (top -> new element)\n",
        "time: O(k + (n-k)logk)\n",
        "space: O(k)\n",
        "'''          \n",
        "# Array = [3, 1, 2, 0, 6, 7], k = 3\n",
        "# max-heap = [3, 1, 2]\n",
        "# x = 0, max-heap = [1, 2, 0] -> [2, 1, 0]\n",
        "# x = 6, ignore                 \n",
        "# x = 7, ignore      \n",
        "                 \n",
        "# Max heap (negative)                 \n",
        "def kSmallestII(array, k):\n",
        "  if not array:\n",
        "    return array\n",
        "  if k >= len(array):\n",
        "    return array\n",
        "  res = [-elem for elem in array[0:k]]\n",
        "  heapq.heapify(res)\n",
        "  for i in range(k, len(array)):\n",
        "    if array[i] < -res[0]:\n",
        "      heapq.heappop(res)\n",
        "      heapq.heappush(res, -array[i])\n",
        "  return [-elem for elem in res]\n",
        "                 \n",
        "# Compare\n",
        "# total time = O(k+(n-k) logk)  vs   O(n + klogn)\n",
        "#   if k << n = O(n logk)             O(C*n)\n",
        "#   if k ~~ n = O(n)                  O(nlogn)\n",
        "# performance really hard to say, depends on k and n\n",
        "\n",
        "     "
      ],
      "execution_count": 0,
      "outputs": []
    },
    {
      "cell_type": "code",
      "metadata": {
        "id": "Fn3djoBCKXIA",
        "colab_type": "code",
        "colab": {}
      },
      "source": [
        "# M4 Quick Selection* \n",
        "# time: O(n) = O(n/2 + n/4 + nn/8 + ... + 1)\n",
        "def findKthSamllest(self, nums, k):\n",
        "  lo = 0\n",
        "  hi = len(nums) - 1\n",
        "  while lo < hi:\n",
        "    pivot_index = self.partition(nums, lo, hi)\n",
        "    if pivot_index < k:\n",
        "      lo = pivot_index + 1\n",
        "    elif pivot_index > k:\n",
        "      hi = pivot_index - 1\n",
        "    else:\n",
        "      break\n",
        "  return nums[k]\n",
        "\n",
        "def partition(self, nums, lo, hi):\n",
        "  i = lo\n",
        "  j = hi - 1\n",
        "  pivot = hi\n",
        "  while i <= j:\n",
        "    if nums[i] < nums[pivot]:\n",
        "      i += 1\n",
        "    else:\n",
        "      nums[i], nums[j] = nums[j], nums[i]\n",
        "      j -= 1\n",
        "  nums[i], nums[pivot] = nums[pivot], nums[i]\n",
        "  return i #all elements in left of i are smaller than i "
      ],
      "execution_count": 0,
      "outputs": []
    },
    {
      "cell_type": "markdown",
      "metadata": {
        "id": "oSHs1WTqVwmx",
        "colab_type": "text"
      },
      "source": [
        "**Q2 Merge K sorted array**\n",
        "\n",
        "\n",
        "```\n",
        "arr1 = [1,3,5,7]\n",
        "arr2 = [0,2,4,6,8]\n",
        "arr3 = [-1, 10, 11, 12]\n",
        "\n",
        "array = [-1,0,1,2,3,4...]\n",
        "\n",
        "heap = [(0,2,0), (1,0,0), (2,1,0)...]) = (val, array_idx, elem_idx)\n",
        "```\n",
        "\n",
        "follow up: If you are given 1GB memory, how to sort 4GB integer array? -> Partition into 8 512MB arrays and sort 8 arrays"
      ]
    },
    {
      "cell_type": "code",
      "metadata": {
        "id": "gElbOTZkqTGI",
        "colab_type": "code",
        "colab": {}
      },
      "source": [
        "'''\n",
        "heap = [(value, array_idx, elem_idx)]\n",
        "pop -> insert(value, K, m+1)\n",
        "\n",
        "S1 Create a min heap, push the first element of each array into the heap\n",
        "S2 Each time pops an element from the heap, then push the next element into the heap\n",
        "\n",
        "time:  O(k + (n-k)*logk)\n",
        "space: O(k)\n",
        "'''\n",
        "\n",
        "import heapq\n",
        "\n",
        "def mergek(arrays):\n",
        "  if not arrays:\n",
        "    return None\n",
        "  heap = []\n",
        "  for i in range(len(arrays)):\n",
        "    #insert every first element in each array\n",
        "    if len(arrays[i]):\n",
        "      heap.append((arrays[i][0], i, 0))\n",
        "  heapq.heapify(heap)\n",
        "  result = []\n",
        "  while heap:\n",
        "    val, index_array, index_element = heapq.heappop(heap)\n",
        "    #val means val of the element: arrays[index_array][index_element]\n",
        "    #e.g. [[1,5,7], [2,3,4], [3,6,9]], element 3: val = 3, index_array = 2, index_element = 0\n",
        "    result.append(val)\n",
        "    if index_element + 1 < len(arrays[index_array]):\n",
        "      heapq.heappush(heap, (arrays[index_array][index_element+1],index_array, index_element+1))\n",
        "  return result\n",
        "\n",
        "                                                   "
      ],
      "execution_count": 0,
      "outputs": []
    },
    {
      "cell_type": "markdown",
      "metadata": {
        "id": "f1Gbur_wV_ac",
        "colab_type": "text"
      },
      "source": [
        "**Q3 Top K Frequent Elements**\n",
        "\n",
        "Given a non-empty array of integers, return the k most frequent elements\n",
        "\n",
        "input: nums = [1,1,1,2,2,3] k = 2 --> Output: [1,2]"
      ]
    },
    {
      "cell_type": "code",
      "metadata": {
        "id": "jaLOdKnHVsRp",
        "colab_type": "code",
        "colab": {}
      },
      "source": [
        "#M1 Max heap\n",
        "# Easiest way: Heapify all elements, get previous k\n",
        "# However, python defaults min heap\n",
        "# So, (-frequency, value) + python default min heap\n",
        "      \n",
        "      \n",
        "#M2 Min heap\n",
        "# (frequency, value)\n",
        "# push k times\n",
        "\n",
        "def topKFrequent(nums, k):\n",
        "  freq_hash = dict()\n",
        "  #dict(frequency, value)\n",
        "  for n in nums:\n",
        "    if n in freq_hash:\n",
        "      freq_hash[n] += 1\n",
        "    else:\n",
        "      freq_hash[n] = 1\n",
        "  heap = []\n",
        "  #heapq.heapify(heap)\n",
        "  for n, f in freq_hash.iteritems():\n",
        "    heapq.heappush(heap, (f,n)) #push into heap. (f,n) f first then n\n",
        "    if len(heap) > k:\n",
        "      heapq.heappop(heap)\n",
        "  \n",
        "  #output result\n",
        "  ret = []\n",
        "  while len(heap) != 0:\n",
        "    ret.append(heapq.heappop(heap)[1])  #弹出最小的\n",
        "  ret.reverse()\n",
        "  return ret  #note return ret.reverse() does not work, return None"
      ],
      "execution_count": 0,
      "outputs": []
    },
    {
      "cell_type": "markdown",
      "metadata": {
        "id": "mtbEOfSBm6ZL",
        "colab_type": "text"
      },
      "source": [
        "##Advanced Tree Structures"
      ]
    },
    {
      "cell_type": "markdown",
      "metadata": {
        "id": "2wE0IK2DnLdT",
        "colab_type": "text"
      },
      "source": [
        "###Complete Binary Tree\n",
        "\n",
        "Def = A binary tree in which every level, except possibly the last, is completely filled, and all nodes are as far left as possible\n",
        "\n",
        "Complete binary tree use list/array to represent:\n",
        "* left_child_index = parent_index * 2 + 1\n",
        "* right_child_index = parent_index * 2 + 2\n",
        "* parent_index = (child_index - 1) / 2\n",
        "\n",
        "Q: How to represent a general tree?\n",
        "\n",
        "1. Same strategy as complete binary tree and use \"null\" when blank node\n",
        "2. Use a list of children nodes: \n",
        "\n",
        "       class GeneralTreeNode\n",
        "           self.children = children_list\n",
        "           self.value = value\n",
        "           \n",
        "           "
      ]
    },
    {
      "cell_type": "markdown",
      "metadata": {
        "id": "t7IB1b_AocyL",
        "colab_type": "text"
      },
      "source": [
        "###Segment Tree\n",
        "\n",
        "Q: Given an integer array, need two functions\n",
        "1. Update() at a given index\n",
        "2. Query range sum, get sum of number from index start to end\n",
        "\n",
        "S: API\n",
        "\n",
        "Case1: update frequent, query_sum not frequent\n",
        "* goal solution: update O(1), query_sum O(n)\n",
        "* update(index, value): array[index] = value\n",
        "* query_sum(start, end): return sum of array[start:end] using for loop\n",
        "\n",
        "Case 2: update not frequent, query_sum frequent\n",
        "* goal solution: update O(n), query_sum O(1), cost space O(n)\n",
        "* prefix sum array: sum of array[0:index] -> prefix_sum[0] = array[0], prefix_sum[i] = prefix_sum[i-1] + array[i]\n",
        "* query_sum(start, end) = prefix_sum[end] - prefix_sum[start-1]\n",
        "* In this case, when update index, we also need to update prefix sum array. \n",
        "\n",
        "Case 3: Average update and query_sum's time cost -> Segment Tree\n",
        "* update O(logn)\n",
        "* query_sum O(logn)\n",
        "* Each node keep start, end, sum"
      ]
    },
    {
      "cell_type": "code",
      "metadata": {
        "id": "7ENwS3a6oecJ",
        "colab_type": "code",
        "colab": {}
      },
      "source": [
        "'''\n",
        "Example\n",
        "array = [2,4,4,5,6]\n",
        "                  [2,4,4,5,6] sum=21, s=0, e=4\n",
        "              /                             \\\n",
        "         [2,4,4] 10 s=0 e=2,          [5,6] 11 s=3 e=4\n",
        "         /            \\                  /        \\\n",
        "  [2,4] 6 s=0 e=1  [4] 4 s=2 e=2  [5] s=3 e=3  [6] s=4 e=4\n",
        "  / \\\n",
        "[2] [4]\n",
        "\n",
        "Q: sum(0,3)\n",
        "Find the sub list that covers (0, 3)\n",
        "[2,4,4] completely covers, return 10; [5,6] parcially covers, go down. [5] return\n",
        "\n",
        "Q: update 4->5\n",
        "array = [2, 4->5, 4, 5, 6]\n",
        "                  [2,4->5,4,5,6] sum=21->22, s=0, e=4\n",
        "                  /                              \\\n",
        "         [2,4->5,4] 10->11 s=0 e=2,          [5,6] 11 s=3 e=4\n",
        "       /                    \\                  /        \\ \n",
        "  [2,4->5] 6->7 s=0 e=1  [4] 4 s=2 e=2  [5] s=3 e=3  [6] s=4 e=4\n",
        "  /   \\\n",
        "[2] [4->5]\n",
        "\n",
        "update(1, 5) -> O(logn)\n",
        "query_sum(1,3) -> O(1 + logn) ~ O(logn)\n",
        "query_sum(0,1) -> O(logn) 只走左\n",
        "query_sum(2,3) -> O(2logn) ~ O(logn) 左右都走\n",
        "query_sum: 最多遍历到两个叶节点；最坏不会同一层的所有4个连续Node被访问（因为Parent就会carry)\n",
        "'''\n",
        "\n",
        "class SegmentTreeNode:\n",
        "  def __init__(self, start, end):\n",
        "    #index start\n",
        "    self.start = start\n",
        "    #index end\n",
        "    self.end\n",
        "    #sum of array[start:end]\n",
        "    self.sum = 0\n",
        "    #left child node\n",
        "    self.left = None\n",
        "    #right child node\n",
        "    self.right = None\n",
        "#Note that do not need to keep a list for each node\n",
        "    \n",
        "class SegmentTree:\n",
        "  def __init__(self, array):\n",
        "    self.array = array\n",
        "    self.root = self._build_segment_tree(array, 0, len(array) - 1)\n",
        "  \n",
        "  def update(self, index, value):\n",
        "    diff = value - self.array[index]\n",
        "    self.array[index] = value\n",
        "    cur = self.root\n",
        "    while cur != None:\n",
        "      cur.sum += diff\n",
        "      mid = cur.start + (cur.end - cur.start)/2\n",
        "      if index <= mid: #decide whether in left or right\n",
        "        cur = cur.left\n",
        "      else:\n",
        "        cur = cur.right\n",
        "  \n",
        "  def _get_sum_from_tree(self, cur, start, end):\n",
        "    #case 1: 没有交集 ==__ or __==   = is current node, _ is what we want\n",
        "    if cur is None or cur.start > end or cur.end < start:\n",
        "      return 0\n",
        "    #case 2: 包含关系 _==_\n",
        "    if cur.start >= start and cur.end <= end:\n",
        "      return cur.sum\n",
        "    #case 3: 相交关系，未包含, 有Overlap  =_= or =_ or _=\n",
        "    return self._get_sum_from_tree(cur.left, start, end) + self._get_sum_from_tree(cur.right, start, end)\n",
        "    \n",
        "  def sum(self, start, end):\n",
        "    return self._get_sum_from_tree(self.root, start, end)\n",
        "    \n",
        "  def _build_segment_tree(self, array, start, end):\n",
        "    if start > end: \n",
        "      return None\n",
        "    cut = SegmentTreeNode(start, end)\n",
        "    if start == end: #base case: single number, sum is itself\n",
        "      cur.sum = array[start]\n",
        "      return cur\n",
        "    mid = start + (end-start)/2\n",
        "    cur.left = self._build_segment_tree(array, start, mid)\n",
        "    cur.right = self._build_segment_tree(array, mid+1, end)\n",
        "    if cur.left is not None:\n",
        "      cur.sum += cur.left.sum\n",
        "    if cur.right is not None:\n",
        "      cur.sum += cur.right.sum\n",
        "    return cur.sum\n",
        "\n",
        "s_tree = SegmentTree([1,2,3,4,5])\n",
        "print s_stree.sum(1,2)\n",
        "s_tree.update(1,3)\n",
        "print stree.sum(1,2)"
      ],
      "execution_count": 0,
      "outputs": []
    },
    {
      "cell_type": "code",
      "metadata": {
        "id": "CT-0SxM2unKs",
        "colab_type": "code",
        "colab": {}
      },
      "source": [
        "'''\n",
        "Q: 2D Segment Tree\n",
        "   Get sum of a rectangle from point (x1, y1) as top left to point(x2,y2) as bottom right\n",
        "\n",
        "1 2 3 4 5 \n",
        "2 3 4 5 6\n",
        "3 4 5 6 7\n",
        "4 5 6 7 8\n",
        "5 6 7 8 9\n",
        "\n",
        "Given (0,0) and (3,2), calculate sum of the rectangle between 1 and 6\n",
        "\n",
        "\n",
        "S1 Brute force\n",
        "For for loop\n",
        "time: O(m*n)\n",
        "\n",
        "\n",
        "S2 Read-only (query_sum only, no update)\n",
        "- precomputation: matrix storing sums\n",
        "- sum[i][j] = sum[i-1][j] + sum[i][j-1] - sum[i-1][j-1] + matrix[i][j]\n",
        "  sum (2,1) = sum(1,1) + sum(0,2) - sum(1,0) + (2,1)\n",
        "- query((x1,y1), (x2,y2)) = sum[x2][y2] - sum[x1-1][y2] - sum[x2][y1-1] + sum[x1-1][y1-1]\n",
        "  query((1,1),(3,2)) = sum(3,2) - sum(0,2) - sum(3,0) + (0,0)\n",
        "1 3 6 10 15\n",
        "3 8 ...\n",
        "\n",
        "sum: O(1)\n",
        "update: O(m*n)\n",
        "\n",
        "\n",
        "S3 Balance query_sum and update 次优解\n",
        "- matrix_sum[i][j] = matrix[i][0] +...+ matrix[i][j]\n",
        "- query((x1,y1), (x2, y2)) = (matrix_sum[x1][y2] - matrix[x1][y1-1]) + ...\n",
        "                           =  line 1 + line 2 +...\n",
        "original:\n",
        "1 3 3 4 5\n",
        "2 4 4 5 6\n",
        "3 4 5 6 7\n",
        "\n",
        "pre fix sum:\n",
        "1 4  7 11 16\n",
        "2 6 10 15 21\n",
        "3 7 12 18 25\n",
        "\n",
        "update: O(n) \n",
        "sum: O(n)\n",
        "\n",
        "\n",
        "S4 Segment tree (best solution)\n",
        "- divide into 4 areas\n",
        "- 1D needs to divide into 2, 2D needs to divide into 4 to achieve logn\n",
        "\n",
        "1 2 | 3 4 5 \n",
        "2 3 | 4 5 6\n",
        "-----------\n",
        "3 4 | 5 6 7\n",
        "4 5 | 6 7 8\n",
        "5 6 | 7 8 9\n",
        "\n",
        "                             sx=0, sy=0, ex=4, ey=4\n",
        "sx=0, sy=0, ex=1, ey=1  sx=2, sy=0, ex=4, e=1  sx=0, sy=2, ex=1, e=4  sx=2, sy=2, \n",
        "\n",
        "update: O(log_4(n^2)) 底数是 4 = O(log_2^2(n^2)) ! O（logn)\n",
        "sum: O(log_4(n^2)) \n",
        "'''\n"
      ],
      "execution_count": 0,
      "outputs": []
    },
    {
      "cell_type": "markdown",
      "metadata": {
        "id": "5TyWHi96oeyM",
        "colab_type": "text"
      },
      "source": [
        "###Trie Tree 字典树\n",
        "\n",
        "Application\n",
        "* 搜索引擎，前缀搜索\n",
        "\n",
        "Q: How to store words in a dictionary？\n",
        "\n",
        "M1 Each word one line\n",
        "* space cost increases linearly O(n*m), n is average lenght of a word, m is number of words\n",
        "M2 Trie tree\n",
        "* space cost can be controled within O(26^h), h is the longest word's length\n",
        "* root node\n",
        "* 26 subtrees, one for each character\n",
        "* storing words: ab, abd, abch; while using the repeated prefixes"
      ]
    },
    {
      "cell_type": "code",
      "metadata": {
        "id": "m1Moaw4G9WLQ",
        "colab_type": "code",
        "colab": {}
      },
      "source": [
        "class TrieTreeNode:\n",
        "  def __init__(self):\n",
        "    self.children = [None] * 26\n",
        "    #indicate it if is end of a word\n",
        "    self.is_end = False\n",
        "    #indicate how many words used this node\n",
        "    self.count = 0\n",
        "\n",
        "class TrieTree:\n",
        "  def __init__(self):\n",
        "    self.root = TrieTreeNode() #no information\n",
        "    \n",
        "  def search(self, word):\n",
        "    cur = self.root\n",
        "    for i in range(len(word)):\n",
        "      index = ord(word[i]) - ord('a') #\n",
        "      if cur.children[index] is None:\n",
        "        return False\n",
        "      else:\n",
        "        cur = cur.children[index]\n",
        "    \n",
        "  def add(self, word):\n",
        "    cur = self.root\n",
        "    for i in range(len(word)):\n",
        "      index = ord(word[i] - ord('a')  #the distance between the word and a is the index\n",
        "      if cur.children[index] is None:\n",
        "         cur.children[index] = TrieTreeNode()\n",
        "      cur.count += 1\n",
        "      cur = cur.children[index]\n",
        "    cur.is_end = True\n",
        "                  \n",
        "  def delete(self, word):\n",
        "    self._delete_helper(self.root, word, 0)\n",
        "                  \n",
        "  def _delete_helper(self, word):\n",
        "    if index == len(word):\n",
        "       cur.is_end = False\n",
        "       return\n",
        "    i = ord(word[index]) - ord('a')\n",
        "    self._delete_helper(cur.children[i], word, index+1)\n",
        "    if children[i].count == 0:\n",
        "       our.children[i] None  #all deleted\n",
        "     cur = count -= 1\n",
        "                   \n",
        "         "
      ],
      "execution_count": 0,
      "outputs": []
    },
    {
      "cell_type": "markdown",
      "metadata": {
        "id": "BwxCR3en5Lro",
        "colab_type": "text"
      },
      "source": [
        "###Red Black Tree"
      ]
    },
    {
      "cell_type": "markdown",
      "metadata": {
        "id": "T8kuKKa75OFj",
        "colab_type": "text"
      },
      "source": [
        "###AVL Tree"
      ]
    }
  ]
}