{
  "nbformat": 4,
  "nbformat_minor": 0,
  "metadata": {
    "colab": {
      "name": "1_Python Fundamentals.ipynb",
      "provenance": [],
      "collapsed_sections": [],
      "toc_visible": true,
      "include_colab_link": true
    },
    "kernelspec": {
      "name": "python3",
      "display_name": "Python 3"
    }
  },
  "cells": [
    {
      "cell_type": "markdown",
      "metadata": {
        "id": "view-in-github",
        "colab_type": "text"
      },
      "source": [
        "<a href=\"https://colab.research.google.com/github/lingchm/datascience/blob/master/1_Python_Fundamentals.ipynb\" target=\"_parent\"><img src=\"https://colab.research.google.com/assets/colab-badge.svg\" alt=\"Open In Colab\"/></a>"
      ]
    },
    {
      "cell_type": "markdown",
      "metadata": {
        "id": "NODlSrUwye-l",
        "colab_type": "text"
      },
      "source": [
        "##1. Python Basics"
      ]
    },
    {
      "cell_type": "markdown",
      "metadata": {
        "id": "FtC2OK3uDyFb",
        "colab_type": "text"
      },
      "source": [
        "**Contents**\n",
        "\n",
        "* [1.1. Variable Naming](###1.1.Variable-Naming)\n",
        "* [1.2. Variable Types](###1.2.Variable-Types)\n",
        "* [1.3. Logical Operations](###1.3.Logical-Operators)\n",
        "* [1.4. Math Operations](###1.4.Math-Operations)\n",
        "* [1.5. Loops](###1.5.Loops)\n",
        "* [1.6. Functions](###1.6.Functions)\n",
        "* [1.7. Pass by object reference](###1.7.Pass-by-Object-Reference)\n",
        "* [1.8. Measures of Efficiency](###1.8.Measure-Efficiency)\n",
        "* [1.9. Object and Class](###1.9.Object-and-Class)\n",
        "* [1.10. Common Coding Errors](###1.10.Common-Errors)\n",
        "\n",
        "\n"
      ]
    },
    {
      "cell_type": "markdown",
      "metadata": {
        "id": "a0hCwqOmydk_",
        "colab_type": "text"
      },
      "source": [
        "###1.1.Variable Naming\n",
        "\n",
        "Rules\n",
        "* First character is a letter or \"_\"\n",
        "* Only containining letter, number, and \"_\"\n",
        "* Caps sensitive\n",
        "\n",
        "Naming Rules\n",
        "* 下划线命名法: laioffer_class\n",
        "* 匈牙利命名法: laiofferClass\n",
        "* [Google Python Style Guide convention](https://google.github.io/styleguide/pyguide.html)\n",
        "* [Python PEP8](https://www.python.org/dev/peps/pep-0008/#function-and-variable-names) \n",
        "\n",
        "module_name, package_name, **ClassName**, **method_name**, ExceptionName, **function_name**, GLOBAL_CONSTANT_NAME, global_var_name, instance_var_name\n"
      ]
    },
    {
      "cell_type": "markdown",
      "metadata": {
        "id": "6nqKOk6Z6Nql",
        "colab_type": "text"
      },
      "source": [
        "###1.2.Variable Types\n",
        "\n",
        "* bool\n",
        "* int long -> puthon automatically switches\n",
        "* float\n",
        "* str\n",
        "* None\n"
      ]
    },
    {
      "cell_type": "code",
      "metadata": {
        "id": "prk_-9sllzMv",
        "colab_type": "code",
        "colab": {
          "base_uri": "https://localhost:8080/",
          "height": 34
        },
        "outputId": "d691a827-612c-49d2-9e48-c4439189140f"
      },
      "source": [
        "my_book = None\n",
        "a = [] # is not None because occupies a space\n",
        "a == None"
      ],
      "execution_count": null,
      "outputs": [
        {
          "output_type": "execute_result",
          "data": {
            "text/plain": [
              "False"
            ]
          },
          "metadata": {
            "tags": []
          },
          "execution_count": 25
        }
      ]
    },
    {
      "cell_type": "markdown",
      "metadata": {
        "id": "z8Pu3j8v2XAz",
        "colab_type": "text"
      },
      "source": [
        "**Boolean**\n",
        "\n",
        "0 and Null values == False\n",
        "\n",
        "Otherwise == True"
      ]
    },
    {
      "cell_type": "code",
      "metadata": {
        "id": "sFWtTc7v2jxS",
        "colab_type": "code",
        "colab": {
          "base_uri": "https://localhost:8080/",
          "height": 126
        },
        "outputId": "2c951d29-4c2b-4ce3-e060-aa6cf69de91f"
      },
      "source": [
        "t = True\n",
        "f = False\n",
        "\n",
        "print(type(t))  # class 'bool' \n",
        "print(t or f)   # True\n",
        "print(t and f)  # False \n",
        "print(not t)    # False\n",
        "print(not f)    # True\n",
        "print(1 or f)   # (Advanced)"
      ],
      "execution_count": null,
      "outputs": [
        {
          "output_type": "stream",
          "text": [
            "<class 'bool'>\n",
            "True\n",
            "False\n",
            "False\n",
            "True\n",
            "1\n"
          ],
          "name": "stdout"
        }
      ]
    },
    {
      "cell_type": "markdown",
      "metadata": {
        "id": "B1Pphsyt7HH1",
        "colab_type": "text"
      },
      "source": [
        "**String**"
      ]
    },
    {
      "cell_type": "code",
      "metadata": {
        "id": "1USfFDe2nQ6M",
        "colab_type": "code",
        "colab": {
          "base_uri": "https://localhost:8080/",
          "height": 52
        },
        "outputId": "c1ae21c5-e63c-479d-ad17-fc692c8dcb1a"
      },
      "source": [
        "# User input\n",
        "name = input(\"Who are you?\")\n",
        "print(name)\n",
        "\n",
        "# raw_input used for Python2. Input for python 3"
      ],
      "execution_count": null,
      "outputs": [
        {
          "output_type": "stream",
          "text": [
            "Who are you?Ling\n",
            "Ling\n"
          ],
          "name": "stdout"
        }
      ]
    },
    {
      "cell_type": "code",
      "metadata": {
        "id": "DYhq_bO0ncFy",
        "colab_type": "code",
        "colab": {
          "base_uri": "https://localhost:8080/",
          "height": 52
        },
        "outputId": "2b87c0c3-4ba8-471a-b565-da83c22d6e2b"
      },
      "source": [
        "# Convert Europe floor to US floor\n",
        "inp = input('Europe floor?')\n",
        "usf = int(inp) + 1\n",
        "print(usf)"
      ],
      "execution_count": null,
      "outputs": [
        {
          "output_type": "stream",
          "text": [
            "Europe floor?4\n",
            "5\n"
          ],
          "name": "stdout"
        }
      ]
    },
    {
      "cell_type": "code",
      "metadata": {
        "id": "xgFYPy7yogZX",
        "colab_type": "code",
        "colab": {
          "base_uri": "https://localhost:8080/",
          "height": 69
        },
        "outputId": "d3d75d82-033a-49f1-da01-93e0a455f542"
      },
      "source": [
        "# Tool to calculate BMI\n",
        "weight = float(input(\"weight in kg?\")) #kg\n",
        "height = float(input(\"height in m?\")) #m\n",
        "bmi = weight / (height ** 2)\n",
        "if bmi < 25:\n",
        "  print ('bmi is', bmi, 'healthy')\n",
        "elif bmi < 30:\n",
        "  print ('bmi is', bmi, 'overweight')\n",
        "elif bmi < 40:\n",
        "  print ('bmi is', bmi, 'seriously overweight')\n",
        "else:\n",
        "  print ('bmi is', bmi, 'super overweight')"
      ],
      "execution_count": null,
      "outputs": [
        {
          "output_type": "stream",
          "text": [
            "weight in kg?64\n",
            "height in m?1.6\n",
            "bmi is 24.999999999999996 healthy\n"
          ],
          "name": "stdout"
        }
      ]
    },
    {
      "cell_type": "markdown",
      "metadata": {
        "id": "jx2IFzsGwkFj",
        "colab_type": "text"
      },
      "source": [
        "### 1.3.Logical Operators\n",
        "* ==\n",
        "* !=\n",
        "* not\n",
        "* and\n",
        "* or"
      ]
    },
    {
      "cell_type": "code",
      "metadata": {
        "id": "-Js8nqWcwo35",
        "colab_type": "code",
        "colab": {
          "base_uri": "https://localhost:8080/",
          "height": 104
        },
        "outputId": "4ce44ce3-25a5-4fee-8a1d-ca97a64da2fc"
      },
      "source": [
        "print(1 != 1)\n",
        "print(not not 1 != 1)\n",
        "\n",
        "a = 3\n",
        "b = 4\n",
        "if not a == 3 and b == 4:\n",
        "  print(\"hello\")\n",
        "if (not a == 3) and b == 4:\n",
        "  print(\"hello\")\n",
        "if not (a == 3 and b == 4): #nor\n",
        "  print(\"hello\")\n",
        "if (a==3) != (b==4): #xor\n",
        "  print(\"hello\")\n",
        "\n",
        "print(True and not False)\n",
        "print(True or not False)\n",
        "print(False and not False)\n"
      ],
      "execution_count": null,
      "outputs": [
        {
          "output_type": "stream",
          "text": [
            "False\n",
            "False\n",
            "True\n",
            "True\n",
            "False\n"
          ],
          "name": "stdout"
        }
      ]
    },
    {
      "cell_type": "markdown",
      "metadata": {
        "id": "0TsWXobJiTYQ",
        "colab_type": "text"
      },
      "source": [
        "###1.4.Math Operations"
      ]
    },
    {
      "cell_type": "code",
      "metadata": {
        "id": "b9J0PXrNiVM6",
        "colab_type": "code",
        "colab": {
          "base_uri": "https://localhost:8080/",
          "height": 139
        },
        "outputId": "295bff42-054a-4af9-8d12-4589c5b58fa2"
      },
      "source": [
        "# Sum\n",
        "print(1+2)\n",
        "\n",
        "# Substraction\n",
        "print(2-1)\n",
        "\n",
        "# Multiplication\n",
        "print(2*3)\n",
        "\n",
        "# Dividion with decimals\n",
        "print(3/2)\n",
        "\n",
        "# Division with integers, no round up\n",
        "print(3//2)\n",
        "\n",
        "# Power\n",
        "print(3**3)\n",
        "\n",
        "# Mod\n",
        "print(3%2)"
      ],
      "execution_count": null,
      "outputs": [
        {
          "output_type": "stream",
          "text": [
            "3\n",
            "1\n",
            "6\n",
            "1.5\n",
            "1\n",
            "27\n",
            "1\n"
          ],
          "name": "stdout"
        }
      ]
    },
    {
      "cell_type": "code",
      "metadata": {
        "id": "PfkbJns1jTk4",
        "colab_type": "code",
        "colab": {
          "base_uri": "https://localhost:8080/",
          "height": 330
        },
        "outputId": "415e873d-efa3-4d07-a13f-88af65a41e34"
      },
      "source": [
        "# Power comes before\n",
        "print(2 * 2 ** 3)\n",
        "\n",
        "# If there is a decimal in the operation, the result will have decimals\n",
        "print(2 * 3.1)\n",
        "\n",
        "# Concadenating strings\n",
        "print(\"123\" + \"3\")\n",
        "#print(\"!23\" + 3)\n",
        "\n",
        "# Check type\n",
        "print(type(\"abc\"))\n",
        "\n",
        "# Multiplication works because it is similar to addition\n",
        "print(\"123\" * 0)\n",
        "print(\"123\" * 2)\n",
        "print(type(\"123\" * 2))\n",
        "\n",
        "# addiction\n",
        "x = 2\n",
        "x += 1 \n",
        "print(x)\n",
        "\n",
        "#decimal places depends on the operator\n",
        "print(123)\n",
        "print(98.6)\n",
        "print(9/2)\n",
        "print(99/100)\n",
        "print(99.0/100)\n",
        "\n",
        "# Changing types\n",
        "print(float(99//100))\n",
        "print(int(99.0/100))\n",
        "print(int(\"123\")+3)\n",
        "#print(int(\"123.0\")+3) error\n",
        "print(float(\"123.0\")+3)\n",
        "print(\"123.0\" + str(3))"
      ],
      "execution_count": null,
      "outputs": [
        {
          "output_type": "stream",
          "text": [
            "16\n",
            "6.2\n",
            "1233\n",
            "<class 'str'>\n",
            "\n",
            "123123\n",
            "<class 'str'>\n",
            "3\n",
            "123\n",
            "98.6\n",
            "4.5\n",
            "0.99\n",
            "0.99\n",
            "0.0\n",
            "0\n",
            "126\n",
            "126.0\n",
            "123.03\n"
          ],
          "name": "stdout"
        }
      ]
    },
    {
      "cell_type": "markdown",
      "metadata": {
        "id": "wATSxVr-P-C9",
        "colab_type": "text"
      },
      "source": [
        "###1.5.Loops\n",
        "\n",
        "* range(x) -> [0, x)\n",
        "* range(x,y) -> [x, y)"
      ]
    },
    {
      "cell_type": "code",
      "metadata": {
        "id": "bax809LmP8oU",
        "colab_type": "code",
        "colab": {
          "base_uri": "https://localhost:8080/",
          "height": 677
        },
        "outputId": "e42746df-ec96-48c3-e4a7-20a2396966c5"
      },
      "source": [
        "# If \n",
        "a = 1\n",
        "if a == 1:\n",
        "  a = a + 1\n",
        "elif a == 2:\n",
        "  a = a + 2\n",
        "elif a == 4:\n",
        "  a = a + 3\n",
        "else:\n",
        "  a = a + 4\n",
        "\n",
        "# M1 In + String\n",
        "for letter in 'laioffer':\n",
        "  print ('letter is:', letter)\n",
        "\n",
        "# M2 In + list\n",
        "names = ['Jack', 'Allen', 'Gab']\n",
        "for name in names:\n",
        "  print (name)\n",
        "\n",
        "# M3 In + Range\n",
        "for i in range(1,3):\n",
        "  print (i)\n",
        "\n",
        "# Student Pracice\n",
        "sum = 0\n",
        "n = int(input(\"how many?\"))\n",
        "for i in range(n):\n",
        "  sum += int(input(\"number?\"))\n",
        "print (sum)"
      ],
      "execution_count": null,
      "outputs": [
        {
          "output_type": "stream",
          "text": [
            "letter is: l\n",
            "letter is: a\n",
            "letter is: i\n",
            "letter is: o\n",
            "letter is: f\n",
            "letter is: f\n",
            "letter is: e\n",
            "letter is: r\n",
            "Jack\n",
            "Allen\n",
            "Gab\n",
            "1\n",
            "2\n",
            "l\n",
            "a\n",
            "i\n",
            "o\n",
            "f\n",
            "f\n",
            "e\n",
            "r\n",
            "letter is:  l\n",
            "letter is:  a\n",
            "1\n",
            "1\n",
            "2\n",
            "2\n",
            "letter is:  l\n",
            "letter is:  a\n",
            "letter is:  o\n",
            "letter is:  f\n",
            "letter is:  f\n",
            "letter is:  e\n",
            "letter is:  r\n",
            "how many?2\n",
            "number?1\n",
            "number?1\n",
            "2\n"
          ],
          "name": "stdout"
        }
      ]
    },
    {
      "cell_type": "code",
      "metadata": {
        "id": "qGHb9HzBDdZq",
        "colab_type": "code",
        "colab": {}
      },
      "source": [
        "# while\n",
        "abc = 'laioffer'\n",
        "length = len(abc)\n",
        "index = 0\n",
        "while index < length:\n",
        "  print (abc[index])\n",
        "  index += 1\n",
        "\n",
        "# Break \n",
        "for letter in 'laioffer':\n",
        "  if letter == 'i':\n",
        "      break\n",
        "  print ('letter is: ', letter)\n",
        "\n",
        "for i in range (1,3):\n",
        "  for letter in 'laioffer':\n",
        "    if letter == 'i':\n",
        "        break\n",
        "    print (i)\n",
        "\n",
        "# Continue\n",
        "for letter in 'laioffer':\n",
        "  if letter == 'i':\n",
        "      continue\n",
        "  print ('letter is: ', letter)"
      ],
      "execution_count": null,
      "outputs": []
    },
    {
      "cell_type": "code",
      "metadata": {
        "id": "PnTm889w6BiY",
        "colab_type": "code",
        "colab": {
          "base_uri": "https://localhost:8080/",
          "height": 104
        },
        "outputId": "dd36db6a-822e-4db9-c11f-f6f3f8f1a74d"
      },
      "source": [
        "for i in range(1,5,2): # 1, 3\n",
        "  print(i)\n",
        "\n",
        "for i in range(9,1,-3): # 9,6,3\n",
        "  print(i)\n",
        "\n",
        "for i in range(-1): # none\n",
        "  print(i)"
      ],
      "execution_count": null,
      "outputs": [
        {
          "output_type": "stream",
          "text": [
            "1\n",
            "3\n",
            "9\n",
            "6\n",
            "3\n"
          ],
          "name": "stdout"
        }
      ]
    },
    {
      "cell_type": "markdown",
      "metadata": {
        "id": "01cM7FAKQWOp",
        "colab_type": "text"
      },
      "source": [
        "###1.6.Functions\n",
        "\n",
        "RETURN\n",
        "* Any code after RETURN will not be executed, even if there are multiple returns\n",
        "* Can return multiple values using \",\" or \"+\"\n",
        "* PRINT + nothing or RETURN or RETURN None --> \"None\"\n",
        "* RETURN assigns the value to a function while PRINT only shows the results\n",
        "* if no return, assume none\n",
        "\n",
        "Default vs Required variables\n",
        "* Required: the number of parameters must match with number of parameters specified\n",
        "* Default: if assign default, values not required.\n",
        "\n",
        "Parameter Passing\n",
        "* Keyword\n",
        "* Positional\n",
        "* Default value parameters must be after positional parameters\n",
        "\n",
        "Global vs Local Variables\n",
        "* If use global variables inside a function, must add GLOBAL arg1. If do not add GLOBAL arg1, will create a local variable called the same name but do not affect the global one\n",
        "* Any variables created inside a function are local variables\n",
        "* Any variable declared outside are global variables and can be used in any function in the program\n",
        "* Storage difference\n"
      ]
    },
    {
      "cell_type": "code",
      "metadata": {
        "id": "--IRy5asQYHQ",
        "colab_type": "code",
        "colab": {
          "base_uri": "https://localhost:8080/",
          "height": 217
        },
        "outputId": "66c5c149-a07f-404a-d891-f4eb1614a208"
      },
      "source": [
        "# Required and Keyword arguments\n",
        "def printinfo(name, age):\n",
        "  print (\"Name\", name)\n",
        "  print (\"Age\", age)\n",
        "  return\n",
        "printinfo(age=50, name=\"miki\")\n",
        "\n",
        "# Default\n",
        "def printinfo(name, age=35):\n",
        "  print (\"Name\", name)\n",
        "  print (\"Age\", age)\n",
        "  return\n",
        "printinfo(name=\"miki\")\n",
        "\n",
        "# undefined number of arg\n",
        "def square(*arg):\n",
        "  pass  #arg is a tuple\n",
        "square(1,23,4)\n",
        "\n",
        "# undefined number of arg and name\n",
        "def test(**args):\n",
        "  print (args['a'])\n",
        "  print (args['b'])\n",
        "test(a=1, b=2)\n",
        "\n",
        "# Sum of squares\n",
        "def sumofsquares():\n",
        "  for i in range(3):\n",
        "    for letter in 'laioffer':\n",
        "      if letter == 'i':\n",
        "        return None\n",
        "      print (letter)\n",
        "    print (i)\n",
        "a = sumofsquares()\n",
        "print (a)\n",
        "\n",
        "# Name\n",
        "def printme(age, name=\"Allen\"):\n",
        "  return (name, age)\n",
        "\n",
        "a, b = printme(name=\"allen\", age=17)\n",
        "c = printme(name=\"allen\", age=17)\n",
        "print (a, b)  #allen, 17\n",
        "print (c)     #('allen', 17)"
      ],
      "execution_count": null,
      "outputs": [
        {
          "output_type": "stream",
          "text": [
            "Name miki\n",
            "Age 50\n",
            "Name miki\n",
            "Age 35\n",
            "1\n",
            "2\n",
            "l\n",
            "a\n",
            "None\n",
            "allen 17\n",
            "('allen', 17)\n"
          ],
          "name": "stdout"
        }
      ]
    },
    {
      "cell_type": "code",
      "metadata": {
        "id": "JnNFlbxDE6Fe",
        "colab_type": "code",
        "colab": {
          "base_uri": "https://localhost:8080/",
          "height": 104
        },
        "outputId": "c291d0c1-3a1b-4102-95e7-d29f748b5e5b"
      },
      "source": [
        "# Local vs Global  \n",
        "total = 0\n",
        "def sum(arg1, arg2):\n",
        "  total = arg1 + arg2\n",
        "  print (\"Inside the function local total:\", total)\n",
        "sum(10, 20)\n",
        "print (\"Outside the function global total:\", total)\n",
        "\n",
        "# Converting local to global\n",
        "total = 0\n",
        "def sum(arg1, arg2):\n",
        "  global total\n",
        "  total += arg1 + arg2\n",
        "  print (\"Inside the function local total:\", total)\n",
        "sum(10, 20)\n",
        "sum(10, 20)\n",
        "print (\"Outside the function global total:\", total)"
      ],
      "execution_count": null,
      "outputs": [
        {
          "output_type": "stream",
          "text": [
            "Inside the function local total: 30\n",
            "Outside the function global total: 0\n",
            "Inside the function local total: 30\n",
            "Inside the function local total: 60\n",
            "Outside the function global total: 60\n"
          ],
          "name": "stdout"
        }
      ]
    },
    {
      "cell_type": "code",
      "metadata": {
        "id": "hNYNBpZNXlED",
        "colab_type": "code",
        "colab": {
          "base_uri": "https://localhost:8080/",
          "height": 108
        },
        "outputId": "2447d423-6628-4445-a2bd-bb085b028a0e"
      },
      "source": [
        "# Prime number = a number with exactly 2 factors\n",
        "def isPrime(x):\n",
        "  if x == 1:\n",
        "    return False\n",
        "  for i in range(2,x):\n",
        "    if x % i == 0:\n",
        "      return False\n",
        "  return True\n",
        "print (isPrime(3))\n",
        "\n",
        "# Composite number = a number with more than 2 factors\n",
        "def isComposite(x):\n",
        "  if x == 1:\n",
        "    return False\n",
        "  for i in range(2,x):\n",
        "    if x % i == 0:\n",
        "      return True\n",
        "  return False\n",
        "print (isComposite(4))\n",
        "\n",
        "# Perfect number = a number that is equal to the sum of all its factors\n",
        "def isPerfect(x):\n",
        "  sum = 0\n",
        "  for i in range(1,x):\n",
        "    if x % i == 0:\n",
        "      sum += i\n",
        "  if sum == x:\n",
        "    return True\n",
        "  return False\n",
        "print (isPerfect(6))\n",
        "\n",
        "# Redundant = a number that its sum of divisors is greater than the number itself \n",
        "def isRedundant(x):\n",
        "  sum = 0\n",
        "  for i in range(1,x):\n",
        "    if x % i == 0:\n",
        "      sum += i\n",
        "  if sum > x:\n",
        "    return True\n",
        "  return False\n",
        "print (isRedundant(12))\n",
        "    \n",
        "# Triangular = a number that can be expressed in the form (n+1)*n / 2\n",
        "def isTriangular(x):\n",
        "  for i in range(1,x):\n",
        "    if (i+1)*i*0.5 == x:\n",
        "      return True\n",
        "  return False\n",
        "print (isTriangular(3))\n",
        "\n",
        "#or in three steps\n",
        "\n",
        "def isPosInt(x):\n",
        "  # check if x is a positive integer\n",
        "  return x == int(x) and x > 0\n",
        "\n",
        "def checkSolution(a,b,c):\n",
        "  # check if equation has positive integer solutions\n",
        "  if b ** 2 - 4 * a * c < 0:\n",
        "    return False\n",
        "  delta = math.sqrt(b ** 2 - 4 * 1 * c)\n",
        "  solution_a = (-b+delta)/(2*a)\n",
        "  solution_b = (-b-delta)/(2*a)\n",
        "  return isPosInt(solution_a) or isPosInt(solution_b)\n",
        "\n",
        "def isTriangular(x):\n",
        "  return checkSolution(0.5, 0.5, -x)\n",
        "\n",
        "# Hexagonal = a number that can be expressed as 2n^2-n \n",
        "def isHexagonal(x):\n",
        "  return checkSolution(2, -1, -x)"
      ],
      "execution_count": null,
      "outputs": [
        {
          "output_type": "stream",
          "text": [
            "True\n",
            "True\n",
            "True\n",
            "True\n",
            "True\n"
          ],
          "name": "stdout"
        }
      ]
    },
    {
      "cell_type": "markdown",
      "metadata": {
        "id": "F18W3IpoUs_3",
        "colab_type": "text"
      },
      "source": [
        "###1.7.Pass by Object Reference\n",
        "\n",
        "**Three Types of Passing**\n",
        "\n",
        "pass-by-reference              |  T  |   T\n",
        "\n",
        "pass-by-value                     |  F  |  F\n",
        "\n",
        "pass-by-object-reference |  F  |   T\n",
        "\n",
        "Python is a pass-by-object-reference.\n",
        "\n",
        "See more notes in oneDrive"
      ]
    },
    {
      "cell_type": "code",
      "metadata": {
        "id": "2USEl6lWUvv2",
        "colab_type": "code",
        "colab": {
          "base_uri": "https://localhost:8080/",
          "height": 52
        },
        "outputId": "4e00a4fc-ace0-417b-c236-6d0072364c77"
      },
      "source": [
        "# Reassignment -> creates a new object, reassign y to the new object\n",
        "a = [0]\n",
        "b = a\n",
        "a = [1]\n",
        "print(b)  #[0]\n",
        "\n",
        "# Modify -> modified the object which is relate to both references\n",
        "x = [0]\n",
        "y = x\n",
        "y[0] = 1\n",
        "print(x)"
      ],
      "execution_count": null,
      "outputs": [
        {
          "output_type": "stream",
          "text": [
            "[0]\n",
            "[1]\n"
          ],
          "name": "stdout"
        }
      ]
    },
    {
      "cell_type": "code",
      "metadata": {
        "id": "Tdzz9wiJJydA",
        "colab_type": "code",
        "colab": {}
      },
      "source": [
        "# Reassignment\n",
        "# Every time we call the function, creates a new storage layer in heap and stack\n",
        "def reassign(x):\n",
        "  x = [1]       # this is first layer of x reference\n",
        "x = [0]         # this x' reference is created on another layer, on top of x\n",
        "reassign(x)     # this is operated on the latest x'.\n",
        "                # Once function ends, x' is removed. x remains\n",
        "print(x)        # this prints the remaining x"
      ],
      "execution_count": null,
      "outputs": []
    },
    {
      "cell_type": "code",
      "metadata": {
        "id": "IhgsyJmhOy5M",
        "colab_type": "code",
        "colab": {
          "base_uri": "https://localhost:8080/",
          "height": 34
        },
        "outputId": "a92783cc-f655-4f54-c292-88a5fafedbec"
      },
      "source": [
        "def reassign(x):\n",
        "  x = [1]\n",
        "  return x\n",
        "x = [0]\n",
        "x = reassign(x)\n",
        "print(x)"
      ],
      "execution_count": null,
      "outputs": [
        {
          "output_type": "stream",
          "text": [
            "[1]\n"
          ],
          "name": "stdout"
        }
      ]
    },
    {
      "cell_type": "code",
      "metadata": {
        "id": "jylBS-NQLUfI",
        "colab_type": "code",
        "colab": {
          "base_uri": "https://localhost:8080/",
          "height": 34
        },
        "outputId": "88837f5f-536a-4ae1-c9ea-003706572f56"
      },
      "source": [
        "# Modify\n",
        "def modify(x):\n",
        "  x[0] = 1     # this creates a new reference, which is assigned to the same value\n",
        "               # changes the object for both references\n",
        "x = [0]\n",
        "modify(x)\n",
        "print(x) "
      ],
      "execution_count": null,
      "outputs": [
        {
          "output_type": "stream",
          "text": [
            "[1]\n"
          ],
          "name": "stdout"
        }
      ]
    },
    {
      "cell_type": "code",
      "metadata": {
        "id": "ZRfm5e_5JwU8",
        "colab_type": "code",
        "colab": {
          "base_uri": "https://localhost:8080/",
          "height": 52
        },
        "outputId": "ef4b9802-9dba-4e4c-8a22-c09c7faf582d"
      },
      "source": [
        "def foo(x):    # x' referenced to [0]\n",
        "  x.append(1)  # x, x' referenced to [0,1]\n",
        "  x = [2]      # x' referenced to [2]\n",
        "  x.append(1)  # x' referenced to [2,1]\n",
        "  return x\n",
        "x = [0]        # x referenced to [0]\n",
        "foo(x)\n",
        "print(x)       # [0,1]\n",
        "\n",
        "def foo(lst):   # x, lst referenced to []\n",
        "  lst.append(2) # x, lst referenced to [2]\n",
        "  lst = [3]     # lst referenced to [3]\n",
        "  lst.append(4) # lst referenced to [3,4]\n",
        "  return lst\n",
        "x = []          # x referenced to []\n",
        "x = foo(x)      # assigned x to [3,4]\n",
        "print(x)        #[3,4]"
      ],
      "execution_count": null,
      "outputs": [
        {
          "output_type": "stream",
          "text": [
            "[0, 1]\n",
            "[3, 4]\n"
          ],
          "name": "stdout"
        }
      ]
    },
    {
      "cell_type": "code",
      "metadata": {
        "id": "gi3XkXZoUMb9",
        "colab_type": "code",
        "colab": {
          "base_uri": "https://localhost:8080/",
          "height": 34
        },
        "outputId": "1269e816-0f11-4dd5-ae26-37907b57cc12"
      },
      "source": [
        "a = \"abc\" # object 1\n",
        "b = \"abc\" # object 2\n",
        "a == b    # whether two references are the same\n",
        "a is b    # whether two are the same object"
      ],
      "execution_count": null,
      "outputs": [
        {
          "output_type": "execute_result",
          "data": {
            "text/plain": [
              "True"
            ]
          },
          "metadata": {
            "tags": []
          },
          "execution_count": 46
        }
      ]
    },
    {
      "cell_type": "code",
      "metadata": {
        "id": "xkM-jyzXUr5B",
        "colab_type": "code",
        "colab": {
          "base_uri": "https://localhost:8080/",
          "height": 34
        },
        "outputId": "5b3e3853-4f0d-4d9c-84db-b10a3d1d5d80"
      },
      "source": [
        "# integers cannot be modified, only reassigned\n",
        "x = 1\n",
        "y = x\n",
        "y = 2\n",
        "print(x) # still 1 because \"=\" is assignment; "
      ],
      "execution_count": null,
      "outputs": [
        {
          "output_type": "stream",
          "text": [
            "1\n"
          ],
          "name": "stdout"
        }
      ]
    },
    {
      "cell_type": "markdown",
      "metadata": {
        "id": "7fQSUjSyk4ZY",
        "colab_type": "text"
      },
      "source": [
        "###1.8.Measure Efficiency\n",
        "\n",
        "Method 1: Wall time or clock time\n",
        "\n",
        "* This method is inefficient, because time depends on the hardware and computer\n",
        "\n",
        "Method 2: CPU cycles or number of instructions our CPU needs to operate\n",
        "\n",
        "* Number of CPU cycles = constant * size of input\n",
        "* T(n) = O(n) where Big O is the algorithm complexity for time or space\n",
        "\n",
        "**Time Complexity**\n",
        "\n",
        "* Increases with input size\n",
        "* Asymptotic complexity\n",
        "\n",
        "1 < log_10(n)=log_2(n) < sqrt(n) < n < nlogn < n^2 < n^3 < 2^n < 10^n < n! < n^n\n",
        "\n",
        "Examples\n",
        "\n",
        "N == 2nn^2 + 100000n = n^2n^3, n l"
      ]
    },
    {
      "cell_type": "code",
      "metadata": {
        "id": "A9VGcS28k47A",
        "colab_type": "code",
        "colab": {}
      },
      "source": [
        "# What is the time complexity for following code?\n",
        "\n",
        "#1. O(n)\n",
        "def getEven(n):\n",
        "  '''return even number smaller than n'''\n",
        "  res = []\n",
        "  for i in range(n):\n",
        "    if i % 2 == 0:\n",
        "      res.append(i)\n",
        "  return res\n",
        "\n",
        "#2. O(n^0.5)\n",
        "def getSquare():\n",
        "  '''return square numbers smaller than n'''\n",
        "  res = []\n",
        "  i = 0\n",
        "  while i * i < n:\n",
        "    res.append(i*i)\n",
        "    i += 1\n",
        "  return res\n",
        "\n",
        "#3. O(lgn) note log_2 same as log_n\n",
        "def getPowerNumbers(n):\n",
        "  '''return power numbers of 2 smaller than n'''\n",
        "  res = []\n",
        "  i = 0\n",
        "  while 2 ** i < n:\n",
        "    res.append(2 ** i)\n",
        "    i += 1\n",
        "  return res\n",
        "\n",
        "#4. O(n^2) = 0 + 1 + 2 + ... (n-1) = n(n-1)/2\n",
        "def getPorducts(n):\n",
        "  for i in range(n):\n",
        "    for j in range(i):\n",
        "      print i * j"
      ],
      "execution_count": null,
      "outputs": []
    },
    {
      "cell_type": "markdown",
      "metadata": {
        "id": "lwXe98Py2e22",
        "colab_type": "text"
      },
      "source": [
        "###1.9.Object and Class"
      ]
    },
    {
      "cell_type": "markdown",
      "metadata": {
        "id": "A6IXo8vo2or_",
        "colab_type": "text"
      },
      "source": [
        "####Object 对象\n",
        "In the real world, an object can be anything: a dog, a car, etc. Every object consists of two parts:\n",
        "* states 物理特征 (called properties, characteristics, attributes): for example, the state of a car could be color, VIN number, speed\n",
        "* behavior 行为: describes how you will interact with the object or what you can do with it. For example, for a car, you can increase or decrease its speed.\n",
        "\n",
        "Different objects have different states and behaviors. We can also group different objects by their **kind(category)** if they have the same set of states and behaviors. The only different among them is the actual content of their states. "
      ]
    },
    {
      "cell_type": "markdown",
      "metadata": {
        "id": "U0MPh_GA4Ufu",
        "colab_type": "text"
      },
      "source": [
        "####[Class 类](https://colab.research.google.com/drive/1g3nOH8fJ6IneSHGuiKOcq_IAaOVg7sF5?authuser=1#scrollTo=nMXrLgXnxa4P)\n",
        "\n",
        "Class is used to model real world object in software. It was introduced in Java to allow you to describe states and behaviours of objects.\n",
        "\n",
        "Example:\n",
        "* We can create as many car objects in python as we want\n",
        "* Each car should have two attributes: VIN number and speed\n",
        "* We should be able to accelerate a car by a certain amount\n",
        "* We should be able to decelerate a car by a certain amount\n",
        "* We can know what the actual VIN number and speed of each car are if we ask"
      ]
    },
    {
      "cell_type": "code",
      "metadata": {
        "id": "-613q2_i42HC",
        "colab_type": "code",
        "colab": {
          "base_uri": "https://localhost:8080/",
          "height": 52
        },
        "outputId": "399ff79a-db9d-48d0-f86f-e1657cf0e180"
      },
      "source": [
        "class Car(object):\n",
        "  def __init__(self, vin, speed):\n",
        "    self._vin = vin #_vin becauase internal property, user cannot edit them directly\n",
        "    self._speed = max(0, speed) #important check\n",
        "  def vin(self):\n",
        "    return self._vin\n",
        "  def speed(self):\n",
        "    return self._speed\n",
        "  def accelerate(self, increment):\n",
        "    self._speed = self._speed + max(0, increment)\n",
        "  def deccelerate(self, decrement):\n",
        "    self._speed = self._speed - max(0, decrement)\n",
        "  \n",
        "car = Car(1234, 50) #python runtime created raw object \n",
        "#Car.__init__(raw object, 1234, 50)\n",
        "print('the vin and the initial speed of our car is {} and {}'.format(car.vin(), car.speed()))\n",
        "car.deccelerate(10)\n",
        "print('the vin and the initial speed of our car is {} and {}'.format(car.vin(), car.speed()))"
      ],
      "execution_count": null,
      "outputs": [
        {
          "output_type": "stream",
          "text": [
            "the vin and the initial speed of our car is 1234 and 50\n",
            "the vin and the initial speed of our car is 1234 and 40\n"
          ],
          "name": "stdout"
        }
      ]
    },
    {
      "cell_type": "code",
      "metadata": {
        "id": "DTjuHBQR2wTs",
        "colab_type": "code",
        "colab": {}
      },
      "source": [
        "class Student:\n",
        "  'Common base class for all students'\n",
        "  def __init__(self, name, grade, school): #constructor\n",
        "    self.name = name                       #attributes\n",
        "    self.grade = grade\n",
        "    self.school = school\n",
        "  def display_student(self):\n",
        "    print (\"Name: \", self.name, \", Grade: \", self.grade)\n",
        "  def __str__():                           #many default methods\n",
        "    print(\"Student is a class\")\n",
        "\n",
        "#Using the class to define objects\n",
        "student_john = Student(\"John\", 35, \"laioffer\") #create Student object\n",
        "student_john.display_student()                 #call function\n",
        "student_john.grade = 90                        #modify value\n",
        "student_jack = Student(\"Jack\", 37, \"Laioffer\")\n",
        "student_jack.display_student()\n",
        "student_list = []\n",
        "student_list.append(student_john)\n",
        "student_list.append(student_jack)\n",
        "for item in student_list:\n",
        "  item.display_student()\n",
        "\n",
        "print (type(student_john))\n",
        "print (type(Student))"
      ],
      "execution_count": null,
      "outputs": []
    },
    {
      "cell_type": "markdown",
      "metadata": {
        "id": "vz-vfJr9-RQE",
        "colab_type": "text"
      },
      "source": [
        "### 1.10.Common Errors"
      ]
    },
    {
      "cell_type": "markdown",
      "metadata": {
        "id": "8-L3YWzh-T99",
        "colab_type": "text"
      },
      "source": [
        "**Error 1: Indentation Error**\n",
        "\n",
        "IndentationError: unindent does nto match any outer identation level\n",
        "\n",
        "IndentationError: unexpected indent\n",
        "\n",
        "Solution\n",
        "* check indentation"
      ]
    },
    {
      "cell_type": "markdown",
      "metadata": {
        "id": "D8zaRx7l-riz",
        "colab_type": "text"
      },
      "source": [
        "**Error 2: NameError**\n",
        "\n",
        "Solution\n",
        "* Check typos\n",
        "* Check function is defined before a call"
      ]
    },
    {
      "cell_type": "markdown",
      "metadata": {
        "id": "M3y2aeUG-1bU",
        "colab_type": "text"
      },
      "source": [
        "**Error 3: TypeError**\n",
        "\n",
        "TypeError: unsupported operand type(s) for +: 'int' and 'str'\n",
        "\n",
        "TypeError: isExist() missing 1 reuiqred positional arugment: 'target'\n",
        "\n",
        "Solution\n",
        "* convert to correct types first\n",
        "* use correct types of arguments in functions"
      ]
    },
    {
      "cell_type": "markdown",
      "metadata": {
        "id": "axcIZ8Jx_LBN",
        "colab_type": "text"
      },
      "source": [
        "**Error 4: KeyError**\n",
        "\n",
        "Solution\n",
        "* check key exist in dictionary\n",
        "* use 'get' function in dictionary\n"
      ]
    },
    {
      "cell_type": "markdown",
      "metadata": {
        "id": "uh5JCTpD_UTq",
        "colab_type": "text"
      },
      "source": [
        "**Error 5: IndexError**\n",
        "\n",
        "Solution\n",
        "* check length of list, no out of range"
      ]
    },
    {
      "cell_type": "markdown",
      "metadata": {
        "id": "jwZqoOvb_a-E",
        "colab_type": "text"
      },
      "source": [
        "**Error 6: AttributeError**\n",
        "\n",
        "AttributeError: 'ListNode' object has no attribute 'val'\n",
        "\n",
        "Solution\n",
        "* check for not using attributes on 'None'\n",
        "* check for correctly using the object's class attributes"
      ]
    },
    {
      "cell_type": "markdown",
      "metadata": {
        "id": "4FJiB_vJBHrg",
        "colab_type": "text"
      },
      "source": [
        "**Error 7: SyntaxError**\n",
        "\n",
        "Solution\n",
        "* check for quotes in pairs\n",
        "* check for =\n",
        "* check for : after loops\n",
        "* chinese symbols"
      ]
    }
  ]
}