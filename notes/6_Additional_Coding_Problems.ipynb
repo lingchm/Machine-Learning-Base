{
  "nbformat": 4,
  "nbformat_minor": 0,
  "metadata": {
    "colab": {
      "name": "9_Additional_Coding_Problems.ipynb",
      "provenance": [],
      "include_colab_link": true
    },
    "kernelspec": {
      "name": "python3",
      "display_name": "Python 3"
    }
  },
  "cells": [
    {
      "cell_type": "markdown",
      "metadata": {
        "id": "view-in-github",
        "colab_type": "text"
      },
      "source": [
        "<a href=\"https://colab.research.google.com/github/lingchm/datascience/blob/master/9_Additional_Coding_Problems.ipynb\" target=\"_parent\"><img src=\"https://colab.research.google.com/assets/colab-badge.svg\" alt=\"Open In Colab\"/></a>"
      ]
    },
    {
      "cell_type": "markdown",
      "metadata": {
        "id": "5kTrJe_nUuOO",
        "colab_type": "text"
      },
      "source": [
        "## Lowest Common Ancestor"
      ]
    },
    {
      "cell_type": "markdown",
      "metadata": {
        "id": "4nLixcQLXfn9",
        "colab_type": "text"
      },
      "source": [
        "**Q1c Lowest Common Ancestor for k nodes in m-nary tree**"
      ]
    },
    {
      "cell_type": "code",
      "metadata": {
        "id": "JiBdnwQGWNWS",
        "colab_type": "code",
        "colab": {}
      },
      "source": [
        "TreeNode LCA(TreeNode root, set<TreeNode> input) {\n",
        "    if(root == null) {  #base case\n",
        "        return root;\n",
        "    }\n",
        "    int count = 0;      #count not null values\n",
        "    TreeNode temp = null;\n",
        "    for (TreeNode child : root.children) {\n",
        "        TreeNode chil = LCA(child, input);\n",
        "        if(child != null) {\n",
        "            count ++;\n",
        "            temp = chil;            \n",
        "        } \n",
        "        if (count == 2) {\n",
        "            return root\n",
        "        }\n",
        "    }\n",
        "    return temp;\n",
        "}"
      ],
      "execution_count": 0,
      "outputs": []
    },
    {
      "cell_type": "markdown",
      "metadata": {
        "id": "b4iBfAdBZ3O_",
        "colab_type": "text"
      },
      "source": [
        "**Q3 2SUM in a BST**\n",
        "Given a BST and a target number, how to find two nodes in the tree such that node1.val = node2.val = target"
      ]
    },
    {
      "cell_type": "markdown",
      "metadata": {
        "id": "Vo6KNf49aE-0",
        "colab_type": "text"
      },
      "source": [
        "**Q3a 2SUM in an Array**\n",
        "\n",
        "C1: sorted\n",
        "\n",
        "C2: unsorted\n"
      ]
    },
    {
      "cell_type": "code",
      "metadata": {
        "id": "fzteqi17aC8W",
        "colab_type": "code",
        "colab": {}
      },
      "source": [
        ""
      ],
      "execution_count": 0,
      "outputs": []
    },
    {
      "cell_type": "markdown",
      "metadata": {
        "id": "80-q990hb_qd",
        "colab_type": "text"
      },
      "source": [
        "**Q3b 2SUM in a BST**\n",
        "Given a BST and a target number, how to find two nodes in the tree such that node1.val + node2.val = target\n",
        "\n",
        "* C\n",
        "* A\n",
        " * inpace\n",
        " * non-place\n",
        "* R\n",
        "* T"
      ]
    },
    {
      "cell_type": "code",
      "metadata": {
        "id": "xSPy2y3CcJuQ",
        "colab_type": "code",
        "colab": {}
      },
      "source": [
        "#S1 Non-inplace\n",
        "#primitive way, to store all nodes in an array\n"
      ],
      "execution_count": 0,
      "outputs": []
    },
    {
      "cell_type": "code",
      "metadata": {
        "id": "t9jbwSSoenAd",
        "colab_type": "code",
        "colab": {}
      },
      "source": [
        "#S2 Non-inplace\n",
        "#Write two iterators in BST, one iterator is to find Next() element in the BST, \n",
        "#and the other iterator is to find Previous() element in the BST\n",
        "\n",
        "#This way, space=O(2*logn), time=O(n)"
      ],
      "execution_count": 0,
      "outputs": []
    },
    {
      "cell_type": "code",
      "metadata": {
        "id": "gsD7pg8JcxVR",
        "colab_type": "code",
        "colab": {}
      },
      "source": [
        "#S3 inplace\n",
        "for each node in the BST, we find the other node in the BST to make them a + b = target\n",
        "\n",
        "Assume that the BST is balanced:\n",
        "O(nlogn)\n",
        "\n"
      ],
      "execution_count": 0,
      "outputs": []
    },
    {
      "cell_type": "code",
      "metadata": {
        "id": "gXH2noMjfZa3",
        "colab_type": "code",
        "colab": {}
      },
      "source": [
        " #S4 inpace \n",
        " #time: O(n), Space: O(1)\n",
        " #serialize the BST into a doubly linked list\n",
        " #use a pointer to the left head, the other pointer to the right head\n",
        "\n",
        "\n"
      ],
      "execution_count": 0,
      "outputs": []
    },
    {
      "cell_type": "markdown",
      "metadata": {
        "id": "fx2iRXq4UquB",
        "colab_type": "text"
      },
      "source": [
        "## Probability, Sampling and Randomization"
      ]
    },
    {
      "cell_type": "markdown",
      "metadata": {
        "id": "67MyaGYylZd9",
        "colab_type": "text"
      },
      "source": [
        "**Q1 Perfect Shufle**\n",
        "\n",
        "https://app.laicode.io/app/problem/108\n",
        "\n",
        "Given an array of integers (without any duplicates), shuffle the array such that all permutations are equally likely to be generated.\n",
        "* All permutations have the same probability\n",
        "* In all # permutations = n!\n",
        "* Each permutation with probability of 1/n!\n",
        "* card array {C0, C1, ..., C51}\n",
        "\n",
        "\n",
        "```\n",
        "k=1\n",
        "S1 Randomly generate a number from [0, 51]. \n",
        "  Swap(index i, index 51), the subarray containing only index 51 as the 1-permutation. \n",
        "  What is the probabiltiy of getting each possible 1-permutation? 1/n\n",
        "\n",
        "k=2\n",
        "S2 Randomly generate a number from [0, 50], \n",
        "  swap(index i, index 50), the subarray containing only index 50, 51 as the 2-permutation. \n",
        "  What is the prob of getting each possible 2-permutation? 1/n * 1/(n-1)\n",
        "\n",
        "k=3\n",
        "S3 Randomly generate a number from [0,49]. \n",
        "  Swap (i, 49). If we look at the subarray containing only index 49,50,51 as the permutation. \n",
        "  What is the probability of getting each possibel 3-permutation? 1/n * 1/(n-1) * 1/(n-2)\n",
        "```\n"
      ]
    },
    {
      "cell_type": "code",
      "metadata": {
        "id": "3x3RcW1saFZI",
        "colab_type": "code",
        "colab": {
          "base_uri": "https://localhost:8080/",
          "height": 34
        },
        "outputId": "b8324d79-b93a-4be3-a4f6-7646635cdf32"
      },
      "source": [
        "# Laioffer solution\n",
        "import random\n",
        "def shuffle_deck(array):\n",
        "  length = len(array)\n",
        "  for i in range(length - 1, -1, -1):\n",
        "    random_number = random.randint(0, i)\n",
        "    array[i], array[random_number] = array[random_number], array[i]\n",
        "  return array\n",
        "\n",
        "# time: O(n)\n",
        "# space: O(1)\n",
        "\n",
        "l = [1,2,3]\n",
        "shuffle_deck(l)"
      ],
      "execution_count": 3,
      "outputs": [
        {
          "output_type": "execute_result",
          "data": {
            "text/plain": [
              "[3, 1, 2]"
            ]
          },
          "metadata": {
            "tags": []
          },
          "execution_count": 3
        }
      ]
    },
    {
      "cell_type": "code",
      "metadata": {
        "id": "b010HDKplc8g",
        "colab_type": "code",
        "colab": {}
      },
      "source": [
        "# Card deck implementation\n",
        "class Deck(object):\n",
        "  def __init__(self, deck):\n",
        "    self.deck = deck #list of cards\n",
        "    \n",
        "class Card(object):\n",
        "  def __init__(self, type, value):\n",
        "    self.type = type\n",
        "    self.value = value\n",
        "    \n",
        "  def shuffle(in_lst):\n",
        "    l_len = len(in_lst)\n",
        "    for i in range(l_len -1, -1, -1):\n",
        "      get_ran = random.randint(0, i)\n",
        "      in_lst[i], in_lst[get_ran] = in_lst[get_ran], in_lst[i]\n",
        "    return in_lst\n",
        "  \n",
        "  def shuffle_deck(in_lst, k):\n",
        "    l_len = len(in_lst)\n",
        "    for i in range(l_len -1, l_len-k-1, -1):\n",
        "      get_ran = random.randint(0, i)\n",
        "      in_lst[i], in_lst[get_ran] = in_lst[get_ran], in_lst[i]\n",
        "    return in_lst[-k:]\n",
        "    \n",
        "class Type:\n",
        "  SPADES = 1\n",
        "  HEARS = 2\n",
        "  DIAMONDS = 3\n",
        "  CLUBS = 4"
      ],
      "execution_count": 0,
      "outputs": []
    },
    {
      "cell_type": "markdown",
      "metadata": {
        "id": "83AsYdAtaaMA",
        "colab_type": "text"
      },
      "source": [
        "What similar problems can you solve?\n",
        "* select random k elements in the size n array\n",
        "* get a k-permutation of the array of size n"
      ]
    },
    {
      "cell_type": "markdown",
      "metadata": {
        "id": "sOPg8jMSv-NR",
        "colab_type": "text"
      },
      "source": [
        "**Q2 Reservoir Sampling**\n",
        "\n",
        "https://app.laicode.io/app/problem/109\n",
        "\n",
        "Consider an unlimited flow of data elements. How do you sample one element from this flow, such that at any point during the processing of the flow, you can return a random element from the n elements read so far.\n",
        "\n",
        "Solution for limited data: \n",
        "* Store all elements we already read in a n sized array. Call random(n)\n",
        "* Space: O(n)\n",
        "\n",
        "Let's use O(1) space to solve this problem\n",
        "\n",
        "```\n",
        "index = 0 1 2 3 4 5 ...\n",
        "A[...]  a b c d e f ...\n",
        "\n",
        "Maintain counter as the iteration\n",
        "Maintain sample\n",
        "\n",
        "S1: counter = 1. Call random.randint(0,0). \n",
        "  if random number == 0: result_so_far = a\n",
        "  P(result_so_far = a) = 1\n",
        "S2: counter = 2. Call random.randint(0,1). \n",
        "  Option 1: use the old sample. If random number == 0, then result_so_far = c; else don't change\n",
        "  Option 2: use the new number. \n",
        "  P(result_so_far = b) = 1/2\n",
        "  P(result_so_far = c) = 1/2\n",
        "S3: counter = 3. Call random.randint(0,2).\n",
        "   Option 1: use the old sample. If random number == 0, then result_so_far = c; else don't change\n",
        "  Option 2: use the new number. \n",
        "  P(result_so_far = a) = 1/3\n",
        "  P(result_so_far = b) = 1/3\n",
        "  P(result_so_far = c) = 1/3\n",
        "```\n",
        "\n",
        "\n"
      ]
    },
    {
      "cell_type": "code",
      "metadata": {
        "id": "KGRTCiUwzi1S",
        "colab_type": "code",
        "colab": {}
      },
      "source": [
        "# 1 sample\n",
        "class Generator(object):\n",
        "  def __init__(self):\n",
        "    self.sample = 0\n",
        "    self.count = 0  # counter\n",
        "    \n",
        "  def read(self, val):\n",
        "    self.counter += 1 \n",
        "    r = random.randint(0, self.count - 1) # randomly generate a number from 0 to counter\n",
        "    if r == 0:\n",
        "      self.sample = val"
      ],
      "execution_count": 0,
      "outputs": []
    },
    {
      "cell_type": "code",
      "metadata": {
        "id": "UbfN_fsaiA1l",
        "colab_type": "code",
        "colab": {}
      },
      "source": [
        "# 2 samples\n",
        "class Generator(object):\n",
        "  def __init__(self):\n",
        "    self.sample1 = 0\n",
        "    self.sample2 = 0\n",
        "    self.count = 0    # counter\n",
        "    \n",
        "  def read(self, val):\n",
        "    self.counter += 1 \n",
        "    r = random.randint(0, self.count - 1) # randomly generate a number from 0 to counter\n",
        "    if r == 0:\n",
        "      self.sample1 = val\n",
        "    if r == 1: \n",
        "      self.sample2 = val\n",
        "    # the probability of keeping val is n/2 = n/k"
      ],
      "execution_count": 0,
      "outputs": []
    },
    {
      "cell_type": "code",
      "metadata": {
        "id": "OzU5jUWrgeOx",
        "colab_type": "code",
        "colab": {}
      },
      "source": [
        "# Laioffer solution\n",
        "import random \n",
        "\n",
        "class Solution(object):\n",
        "    \n",
        "    def __init__(self):\n",
        "        \"\"\"\n",
        "        complete the constructor if needed.\n",
        "        \"\"\"\n",
        "        self.samp = 0\n",
        "        self.counter = 0\n",
        "\n",
        "    def read(self, value):\n",
        "        \"\"\"\n",
        "        read a value in the stream.\n",
        "        :type: value: int\n",
        "        \"\"\"\n",
        "        self.counter += 1\n",
        "        rand = random.randint(0, self.counter - 1)\n",
        "        if rand == 0:\n",
        "          self.samp = value\n",
        "\n",
        "    def sample(self):\n",
        "        \"\"\"\n",
        "        return the sample of already read values.\n",
        "        :rtype: int\n",
        "        \"\"\"\n",
        "        return self.samp"
      ],
      "execution_count": 0,
      "outputs": []
    },
    {
      "cell_type": "markdown",
      "metadata": {
        "id": "h_jr5tGHb3yg",
        "colab_type": "text"
      },
      "source": [
        "**Reservoir Sampling** is a family of randomized algorithms for randomly choosing a sample of k items from a list S containing n items, where n is either a too large to fit into main memory and is fed as a stream or an unknown number.\n",
        "\n",
        "k elements out of n (k << n) --> O(k/n)"
      ]
    },
    {
      "cell_type": "markdown",
      "metadata": {
        "id": "hiiHVLmMc9pf",
        "colab_type": "text"
      },
      "source": [
        "**Q2a Randomly select k elements out of Unlimited data**"
      ]
    },
    {
      "cell_type": "code",
      "metadata": {
        "id": "iYDEcV9Hcq_d",
        "colab_type": "code",
        "colab": {}
      },
      "source": [
        "class Generator(object):\n",
        "  def __init__(self, k):\n",
        "    self.sample = []\n",
        "    self.count = 0\n",
        "    self.k = k\n",
        "  \n",
        "  def read(self, val):\n",
        "    self.count += 1\n",
        "    if self.count <= self.k:\n",
        "      self.sample.append(val)\n",
        "    else:\n",
        "      r = random.randint(0, self.count - 1)\n",
        "      if r < k:\n",
        "        self.sample[r] = val"
      ],
      "execution_count": 0,
      "outputs": []
    },
    {
      "cell_type": "markdown",
      "metadata": {
        "id": "CTHMVTOQdEt_",
        "colab_type": "text"
      },
      "source": [
        "**Q2b Return a stream's largest number's index (random)**\n",
        "\n",
        "\n",
        "\n",
        "```\n",
        "Input: 1, 2, 5a, 3, 4, 3, 4, 5b...\n",
        "Output: may return 5a or 5b\n",
        "\n",
        "Naive solution: keep a list to track index of random number\n",
        "\n",
        "Two components:\n",
        "* keep track of cur_max using count (number of max numbers)\n",
        "* When you read in repeated number, it is a reservoir sampling\n",
        "\n",
        "index    0 1 2 3 4 5 6 7 ...\n",
        "value    1 2 5 3 4 3 4 5 ...\n",
        "cur_max  1 2 5 5 5 5 5 5 ...\n",
        "sample   0 1 2 2 2 2 2 2 ...\n",
        "count    1 1 1 1 1 1 1 2 ...\n",
        "```\n",
        "\n",
        "\n",
        "\n",
        "\n"
      ]
    },
    {
      "cell_type": "code",
      "metadata": {
        "id": "J2CkL0OEhDNt",
        "colab_type": "code",
        "colab": {}
      },
      "source": [
        "import random\n",
        "class Generator:\n",
        "  def __init__(self):\n",
        "    self.cur_max = float('inf')\n",
        "    self.index = 01\n",
        "    self.sample = 0\n",
        "    self.count = 0\n",
        "  \n",
        "  def read(self, val):\n",
        "    self.index += 1\n",
        "    if val > self.cur_max:\n",
        "      self.count = 1\n",
        "      self.sample = self.index\n",
        "      self.cur_max = val\n",
        "    elif val == self.cur_max:\n",
        "      self.count += 1\n",
        "      r = random.randint(0, self.count - 1)\n",
        "      if r == 0:\n",
        "        self.sample = self.index\n",
        "\n",
        "# time: o(1)\n",
        "# space: o(1)"
      ],
      "execution_count": 0,
      "outputs": []
    },
    {
      "cell_type": "markdown",
      "metadata": {
        "id": "RCZZOuXPg19t",
        "colab_type": "text"
      },
      "source": [
        "## Randomization\n",
        "\n"
      ]
    },
    {
      "cell_type": "markdown",
      "metadata": {
        "id": "PhjzBPjllPkJ",
        "colab_type": "text"
      },
      "source": [
        "**Q3a Design Random(7) using Random(5)**\n",
        "\n",
        "https://app.laicode.io/app/problem/111\n",
        "\n",
        "```\n",
        "Probability Normalization\n",
        "\n",
        "P(0) = 1/7 / 5/7 = 1/5\n",
        "P(1) = 1/7 / 5/7 = 1/5\n",
        "P(2) = 1/7 / 5/7 = 1/5\n",
        "P(3) = 1/7 / 5/7 = 1/5\n",
        "P(4) = 1/7 / 5/7 = 1/5\n",
        "\n",
        "This is applicable if we generate a bigger number random to a smaller number random.\n",
        "\n",
        "What if we want to generate a smaller to a bigger?\n",
        "S1 Generate random25 using random5\n",
        "\n",
        "  index 0  1  2  3  4\n",
        "  0     0  1  2  3  4\n",
        "  1     5  6  7  8  9\n",
        "  2     10 11 12 13 14\n",
        "  3     15 16 17 18 19\n",
        "  4     20 21 22 23 24\n",
        "\n",
        "random(5) --> x coordinate\n",
        "random(5) --> y coordinate\n",
        "random(25) = x + y * 5\n",
        "\n",
        "S2 Generate random7 using random25\n",
        "\n",
        "Directly? Not efficient. Out of 25 numbers, only 7 is useful\n",
        "\n",
        "Trick: divide into three grouops:\n",
        "0: 0, 7, 14 -> 3/25 (21/25) = 1/7\n",
        "1: 1, 8, 15\n",
        "..\n",
        "6: 6, 13, 20\n",
        "```\n",
        "\n"
      ]
    },
    {
      "cell_type": "code",
      "metadata": {
        "id": "_irmb8WxlkGu",
        "colab_type": "code",
        "colab": {}
      },
      "source": [
        "# Laioffer Solution\n",
        "class Solution(object):\n",
        "    def random7(self, random5):\n",
        "        \"\"\"\n",
        "        write your solution here\n",
        "        you can use random5() for generating\n",
        "        0 - 4 with equal probability.\n",
        "        \"\"\"\n",
        "        num = self.random25(random5)\n",
        "        while num > 20:\n",
        "          num = self.random25(random5)\n",
        "        return num % 7\n",
        "\n",
        "    def random25(self, random5):\n",
        "      x = random5()\n",
        "      y = random5()\n",
        "      return x + 5 * y"
      ],
      "execution_count": 0,
      "outputs": []
    },
    {
      "cell_type": "markdown",
      "metadata": {
        "id": "BLzSVCawreu0",
        "colab_type": "text"
      },
      "source": [
        "**Q3b Random1000000 using Random5 (optional)**\n",
        "\n",
        "\n",
        "\n",
        "```\n",
        "The goal is to find an n, such that 2^n > 1,000,000\n",
        "\n",
        "10 bits -> 2^10 = 1024 = 1k\n",
        "20 bits -> 2^20 = 1k*1k = 1 million\n",
        "30 bits -> 2^30 = 1k*1k*1k = 1 billion\n",
        "\n",
        "So we need to call random(2) 20 times to form a binary representation of the number [1, 2^20-1] = [1, 1000000]\n",
        "```\n",
        "\n",
        "\n",
        "\n",
        "\n"
      ]
    },
    {
      "cell_type": "code",
      "metadata": {
        "id": "Mn2tW9Ixr_vO",
        "colab_type": "code",
        "colab": {}
      },
      "source": [
        "# Write a function to create randx()\n",
        "def rand(x):\n",
        "  count = 0\n",
        "  cur = x\n",
        "  # get how many digits we need to have\n",
        "  while cur > 0:\n",
        "    cur = cur // 2\n",
        "    count += 1\n",
        "  # try to generate randome number\n",
        "  while True:\n",
        "    sum = 0\n",
        "    for i in range(count):\n",
        "      sum = sum * 2 + rand2()\n",
        "    if sum < x:\n",
        "      return sum\n",
        "  \n",
        "# time: O(logx)\n",
        "# space: O(1)"
      ],
      "execution_count": 0,
      "outputs": []
    },
    {
      "cell_type": "code",
      "metadata": {
        "id": "dlzcE8-8uIV5",
        "colab_type": "code",
        "colab": {}
      },
      "source": [
        "def randm(n):\n",
        "  return random.randint(0, m - 1)\n",
        "\n",
        "def rand(x, m):\n",
        "  count, cur = 0, x\n",
        "  while cur > 0:\n",
        "    cur = cur // m\n",
        "    count += 1\n",
        "  while True:\n",
        "    sum = 0\n",
        "    for i in range(count):\n",
        "      sum = sum * m + randm(m)\n",
        "    if sum < x:\n",
        "      return sum"
      ],
      "execution_count": 0,
      "outputs": []
    },
    {
      "cell_type": "markdown",
      "metadata": {
        "id": "RssKFQVpuYq7",
        "colab_type": "text"
      },
      "source": [
        "**Q4 Percentaile**\n",
        "\n",
        "Given a certain number (!00000) of urls, find 95th percentile of all url's length\n",
        "\n",
        "```\n",
        "www.yahoo.com length = 11\n",
        "www.sohu.com  length = 10\n",
        "\n",
        "Assumption: max length of url is 4100\n",
        "S1 Use bucket to count how many urls fall into each bucket:\n",
        "  bucket = 10 length -> 1000 urls\n",
        "  bucket = 11 length -> 1050 urls\n",
        "  ...\n",
        "  bucket = 4100\n",
        "  where bucket[i] = # urls with length i\n",
        "S2 Get num = 95% of the total number. Get the url\n",
        "```\n",
        "\n"
      ]
    },
    {
      "cell_type": "code",
      "metadata": {
        "id": "i4erXWAEvEgR",
        "colab_type": "code",
        "colab": {}
      },
      "source": [
        "# given a list of urls\n",
        "def percentile95(urls):\n",
        "  buckets = [0 for i in range(4101)] \n",
        "  for url in urls:\n",
        "    buckets[len(url)] += 1\n",
        "  num = 0.95 * 100000\n",
        "  total_so_far = 0\n",
        "  for i in range(4101):\n",
        "    total_so_far += bucket\n",
        "    if total_so_far >= num:\n",
        "      return i\n",
        "\n",
        "# time: O(n)\n",
        "# space: O(1)"
      ],
      "execution_count": 0,
      "outputs": []
    },
    {
      "cell_type": "markdown",
      "metadata": {
        "id": "hVBsBlqT8hWr",
        "colab_type": "text"
      },
      "source": [
        "##4.4. Graph Theory\n",
        "\n"
      ]
    },
    {
      "cell_type": "markdown",
      "metadata": {
        "id": "Jz3Rs1Ua_vRv",
        "colab_type": "text"
      },
      "source": [
        "###BFS Breadth First Search\n",
        "BFS = Breadths first search algorithm -> finish visiting all vertices that are reachable from source by k moves before visiting vertices that are reachable from source by k+1 moves\n",
        "* ensures to travel min amount of nodes to get to target (note that this does not take weight into account)\n",
        "* Frontier -- the next closest nodes to explore\n",
        "\n",
        "Q: How to solve weighted graphs using BFS\n",
        "* Convert weighted graph into unweighted by adding vertices and edges of same weight\n",
        "* Then solve using BFS"
      ]
    },
    {
      "cell_type": "code",
      "metadata": {
        "id": "JPzTXrKoECR6",
        "colab_type": "code",
        "colab": {}
      },
      "source": [
        "#pseudo code\n",
        "#Assuming graph of V vertices and E edges\n",
        "\n",
        "#pseudo code\n",
        "BFS(graph, s):\n",
        "  frontier = [s]  #正在探索的最前沿\n",
        "  has_seen = set(s)\n",
        "  while frontier:\n",
        "    next = []\n",
        "    for u in frontier:\n",
        "      for v in neighbors(u):\n",
        "        if v not in has_seen:\n",
        "          next.append(v)\n",
        "          has_seen.add(v)\n",
        "    frontier = next\n",
        "    \n",
        "#we only add node that we never marked before into our queue\n",
        "#once marked it will never be unmarked\n",
        "#each vertex will be enqueued and dequed just once in the frontier\n",
        "\n",
        "#Time: O(V) each vertex once + O(E) length of all adjacency lists\n",
        "#Time: O(V+E)"
      ],
      "execution_count": 0,
      "outputs": []
    },
    {
      "cell_type": "markdown",
      "metadata": {
        "id": "OmRZtmZzEzkC",
        "colab_type": "text"
      },
      "source": [
        "**Q1 ZigZag Level Order Traversal**\n",
        "\n",
        "Given a binary tree, return the zigzag level order traversal of its nodes values\n",
        "\n",
        "Input: [3,9,20,null,null,15,7]\n",
        "\n",
        "output: [[3], [20, 9], [15,7]]"
      ]
    },
    {
      "cell_type": "code",
      "metadata": {
        "id": "PiOeTGkhFFgy",
        "colab_type": "code",
        "colab": {}
      },
      "source": [
        "BFS(graph, s):\n",
        "  frontier = [s]\n",
        "  has_seen = set(s)  #this is not needed for this pb\n",
        "  from_left_to_right = True\n",
        "  results = []\n",
        "  while frontier:\n",
        "    next = []\n",
        "    for u in frontier:\n",
        "      for v in neighbors(u):  #check its left and right child\n",
        "        if v not in has_seen:\n",
        "          next.append(v)  #when child is not None\n",
        "          has_seen.add(v)\n",
        "    if from_left_to_right:\n",
        "      results.append(frontier[:])\n",
        "    else:\n",
        "      results.append(frontier[::-1])\n",
        "    frontier = next\n",
        "    from_left_to_right = not from_left_to_right\n",
        "    \n",
        "class Solution(object):\n",
        "  def zigzagLevelOrder(self, root):\n",
        "    if not root:\n",
        "      return []\n",
        "    frontier, reverse, ans = [root], False, []\n",
        "    while frontier:\n",
        "      next, curr = [], []\n",
        "      for u in frontier:\n",
        "        curr.append(u.val)\n",
        "        if u.left:\n",
        "          next.append(u.left)\n",
        "        if u.right:\n",
        "          next.append(u.right)\n",
        "      ans.append(curr[::-1] if reverse else curr)\n",
        "      frontier = next\n",
        "      reverse = not reverse\n",
        "    return ans"
      ],
      "execution_count": 0,
      "outputs": []
    },
    {
      "cell_type": "markdown",
      "metadata": {
        "id": "UcwuGKXa9Dk-",
        "colab_type": "text"
      },
      "source": [
        "**Q2 2D Islands**\n",
        "\n",
        "Given a 2d grid map of 1s (land) and 0s (water), count the number of islands. An island is surrounded by water and is formed by connecting adjacent lands horizontally or vertically.\n",
        "\n",
        "Input:\n",
        "\n",
        "11110\n",
        "\n",
        "11010\n",
        "\n",
        "11000\n",
        "\n",
        "00000\n",
        "\n",
        "output: 2\n",
        "\n",
        "\n",
        "Input:\n",
        "\n",
        "11000\n",
        "\n",
        "11000\n",
        "\n",
        "00100\n",
        "\n",
        "00011\n",
        "\n",
        "output: 3"
      ]
    },
    {
      "cell_type": "code",
      "metadata": {
        "id": "FS5GMxZi8l4G",
        "colab_type": "code",
        "colab": {}
      },
      "source": [
        "#We need a way to traverse from a single land to all the other lands connected to it\n",
        "\n",
        "#We need to multiple BFS\n",
        "#When we try a new BFS on a new land, we need to check whether we actually need to do BFS or not\n",
        "#This implies all different BFS runs will share the same has_seen collection\n",
        "\n",
        "BFS(graph, s):\n",
        "  frontier = [s]\n",
        "  while frontier:\n",
        "    next = []\n",
        "    for u in frontier:\n",
        "      for v in neighbors(u):\n",
        "        if v not in has_seen:\n",
        "          next.append(v)\n",
        "          has_seen.add(v)\n",
        "    frontier = next   \n",
        "        \n",
        "      \n",
        "#Solution I  \n",
        "\n",
        "def BFS(grid, r, c, marked):\n",
        "  dr, dc = [-1, 0, 1, 0], [0, 1, 0, -1]\n",
        "  marked.add((r,c))\n",
        "  frontier = [(r, c)]\n",
        "  while frontier:\n",
        "    next = []\n",
        "    for r, c in frontier:\n",
        "      for d in xrange(4):\n",
        "        nr, nc = r + dr[d], c + dc[d]\n",
        "        if 0 <= nr < len(grid) and 0 <= nc < len(grid[0]) and grid[nr][nc] == '1' and (nr, nc) not in marked:\n",
        "          node = (nr, nc)\n",
        "          marked.add(node)\n",
        "          next.append(node)\n",
        "    frontier = next\n",
        "\n",
        "class Solution(object):\n",
        "  def numIslands(self, grid):\n",
        "    \"\"\"\n",
        "    :type grid: List[List[str]]\n",
        "    :rtype: int\n",
        "    \"\"\"\n",
        "    res, marked = 0, set()\n",
        "    for r in range(len(grid)):\n",
        "      for c in range(len(grid[0])):\n",
        "        if grid[r][c] == '1' and (r, c) not in marked:\n",
        "          res += 1\n",
        "          BFS(grid, r, c, marked)\n",
        "    return res\n",
        "  \n",
        "#Solution II (modify the input inplace)\n",
        "def floodfill(grid, r, c, marker):\n",
        "  dr, dc = [-1, 0, 1, 0], [0, 1, 0, -1]\n",
        "  N, C = len(grid), len(grid[0])\n",
        "  frontier = [r * C + c]\n",
        "  while frontier:\n",
        "    next = []\n",
        "    for t in frontier:\n",
        "      r, c = t / C, t%C\n",
        "      for d in range(4):\n",
        "        nr, nc = r + dr[d], c + dc[d]\n",
        "        if 0 <= nr < N and 0 <= nc < C and grid[nr][nc] == '1':\n",
        "          grid[nr][nc] = marker\n",
        "          next.append(nr * C + nc)\n",
        "    frontier = next\n",
        "    \n",
        "class Solution(object):\n",
        "  def numIslands(self, grid):\n",
        "    res = 0\n",
        "    for r in range(len(grid)):\n",
        "      for c in range(len(grid[0])):\n",
        "        if grid[r][c] == '1':\n",
        "          res += 1\n",
        "          floodfill(grid, r, c, str(res + 1))\n",
        "    return res"
      ],
      "execution_count": 0,
      "outputs": []
    },
    {
      "cell_type": "markdown",
      "metadata": {
        "id": "6E7Heg-rA56L",
        "colab_type": "text"
      },
      "source": [
        "**Q3 Word List**\n",
        "\n",
        "Given two words (beginWord and endWord) and a dictionary's word list, find the length of shortest transformation sequence from beginWord to endWord, such that\n",
        "1. only one letter can be changed at a time\n",
        "2. each transformed word must exist in the word list. Note that beginWord is not a transformed word\n",
        "\n",
        "Note\n",
        "* return 0 if there is no such transformation sequence\n",
        "* all words have the same length\n",
        "* all words contain only lowercase letters\n",
        "* you may assume no duplicates\n",
        "* you may assume beginWord and endWord are non-empty and not the same\n",
        "\n",
        "Input:\n",
        "* beginWord = \"hit\"\n",
        "* endWord = \"cog\"\n",
        "* wordList = [\"hot\", \"dot\", \"dog\", \"lot\", \"log\", \"cog\"]\n",
        "\n",
        "Output: 5\n",
        "* as one shortest transformation is hit -> hot -> dot -> dog -> cog"
      ]
    },
    {
      "cell_type": "code",
      "metadata": {
        "id": "Ezity2DnA5FV",
        "colab_type": "code",
        "colab": {}
      },
      "source": [
        "#Graph:\n",
        "# Each word is a node, hit has an edge connected to hot\n",
        "# Not creating nodes and edges but iterating and changing each letter\n",
        "\n",
        "import string\n",
        "class Solution(object):\n",
        "  def ladderLength(self, beginWord, endWord, wordList):\n",
        "    \"\"\"\n",
        "    :type beginWord: str\n",
        "    :type endWord: str\n",
        "    :type wordList: List[str]\n",
        "    :rtype: int\n",
        "    \"\"\"\n",
        "    wordList = set(wordList)\n",
        "    if endWord not in wordList:\n",
        "      return 0\n",
        "    ans = 1\n",
        "    frontier = [beginWord]\n",
        "    used = set(frontier)\n",
        "    while frontier:\n",
        "      next = []\n",
        "      for word in frontier:\n",
        "        for p in xrange(len(word)): #iterate through 26 letters\n",
        "          for c in string.ascii_lowercase:\n",
        "            newWord = word[:p] + c + word[p+1:]\n",
        "            if newWord == endWrod:\n",
        "              return ans + 1\n",
        "            if newWord in wordList and newWord not in used:\n",
        "              used.add(newWord)\n",
        "              next.append(newWord)\n",
        "      frontier = next\n",
        "      ans += 1\n",
        "    return 0\n",
        "          "
      ],
      "execution_count": 0,
      "outputs": []
    },
    {
      "cell_type": "markdown",
      "metadata": {
        "id": "xNdvTaQBCogI",
        "colab_type": "text"
      },
      "source": [
        "**Q4**\n",
        "\n",
        "Given an undirected graph, return true iff it is only bipartite 二分图\n",
        "\n",
        "A graph is bipartite if we can split it's set of nodes into two independent sub graphs such that every edge in the graph has one node in A and nother node in B. In other words, every edge is connected to a node in A and a node in B\n",
        "\n",
        "Note:\n",
        "* graph will have length in range [1, 100]\n",
        "* graph [i] will contain integers in range [0, graph.length - 1]\n",
        "* graph[i] will not contain i or duplicated values\n",
        "* the graph is undirected"
      ]
    },
    {
      "cell_type": "code",
      "metadata": {
        "id": "dKQGRlDSF4I3",
        "colab_type": "code",
        "colab": {}
      },
      "source": [
        "'''\n",
        "input: [[1,2,3], [0,2], [0,1,3], [0,2]]\n",
        "output: false\n",
        "0--1\n",
        "|\\ |\n",
        "| \\}\n",
        "3--2\n",
        "\n",
        "Idea: \n",
        "- a circle that has odd length 单数的环不可能\n",
        "- 不可能两个点在BFS的同一层\n",
        "\n",
        "During the original BFS, we will not explore the node that we have previosuly explored. \n",
        "We will also not explore this new node but will do additional check to make sure that this node\n",
        "and the node that we explore from are not on the same BFS level\n",
        "'''\n",
        "\n",
        "def bfs(graph, visited, u):\n",
        "  visited[u] = 0  #dictionary of current BFS level // number of jumps from root\n",
        "  frontier = [u]\n",
        "  while frontier:\n",
        "    next = []\n",
        "    for u in frontier:\n",
        "      for v in graph[u]:\n",
        "        if v not in visited:\n",
        "          visited[v] = visited[u] + 1 #increase level\n",
        "          next.append(v)\n",
        "        elif visited[v] == visited[u]:\n",
        "          return False\n",
        "    frontier = next\n",
        "  return True\n",
        "\n",
        "class Solution(object):\n",
        "  \"\"\"\n",
        "  :type graph: List[List[int]]\n",
        "  :rtype: bool\n",
        "  \"\"\"\n",
        "  def isBipartite(self, graph):\n",
        "    visited = {}\n",
        "    for v in xrange(len(graph)):\n",
        "      if v not in visited and not bfs(graph, visited, v):\n",
        "        return False\n",
        "    return True\n",
        "  \n",
        "  #For each not visited node, do a BFS\n",
        "  #Why do multiple BFS and not just choose one node and do one BFS?\n",
        "  #Because the graph might not be connected\n",
        "  "
      ],
      "execution_count": 0,
      "outputs": []
    },
    {
      "cell_type": "markdown",
      "metadata": {
        "id": "CH6uK6ABKhug",
        "colab_type": "text"
      },
      "source": [
        "**Q5 mxn 2D grid**\n",
        "\n",
        "Given a mxn 2D grid initialized with three possible values:\n",
        "* -1 - A wall or an obstacle\n",
        "* "
      ]
    },
    {
      "cell_type": "code",
      "metadata": {
        "id": "9qAFKfw2YGCv",
        "colab_type": "code",
        "colab": {}
      },
      "source": [
        ""
      ],
      "execution_count": 0,
      "outputs": []
    },
    {
      "cell_type": "markdown",
      "metadata": {
        "id": "AahFZ9gfumcj",
        "colab_type": "text"
      },
      "source": [
        "#Exams"
      ]
    },
    {
      "cell_type": "markdown",
      "metadata": {
        "id": "dh_gkvuKusT6",
        "colab_type": "text"
      },
      "source": [
        "**Q1**\n",
        "\n",
        "Find the index of the last occurrence of an element in a sorted array(asc order). if not found, return -1.\n",
        "\n",
        "Example, nums=[1,2,3,3,5] target = 3, → return 3\n"
      ]
    },
    {
      "cell_type": "code",
      "metadata": {
        "id": "E0pm3IaHultB",
        "colab_type": "code",
        "colab": {}
      },
      "source": [
        "# Ling\n",
        "def last_occurrence(nums, target):\n",
        "  if len(nums) == 0 or nums == None:\n",
        "    return -1\n",
        "  left = 0 \n",
        "  right = len(nums)-1\n",
        "  while left < right - 1:\n",
        "    mid = (left + right) / 2\n",
        "    if nums[mid] <= target:\n",
        "      left = mid\n",
        "    else:\n",
        "      right = mid - 1\n",
        "  if nums[right] == target:\n",
        "    return right\n",
        "  if nums[left] == target:\n",
        "    return left\n",
        "  return -1\n"
      ],
      "execution_count": 0,
      "outputs": []
    },
    {
      "cell_type": "code",
      "metadata": {
        "id": "Nd-BLcik_1K7",
        "colab_type": "code",
        "colab": {}
      },
      "source": [
        "# Correct\n",
        "def find_last_occurrence(nums, target):\n",
        "  if not nums:\n",
        "    return -1\n",
        "  left = 0\n",
        "  right = len(nums) - 1\n",
        "  while left < right - 1:\n",
        "    mid = (left+right)/2\n",
        "    if nums[mid] > target:\n",
        "      right = mid\n",
        "    else:\n",
        "      left = mid\n",
        "  if nums[right] == target:\n",
        "    return right\n",
        "  if nums[left] == target:\n",
        "    return left\n",
        "  return -1\n",
        "\n",
        "# time: O(logn)\n",
        "# space: O(1)\n",
        "\n",
        "'''\n",
        "Feedback\n",
        "- 无脑用mid?\n",
        "- Sace: how many exactly is used?\n",
        "'''"
      ],
      "execution_count": 0,
      "outputs": []
    },
    {
      "cell_type": "markdown",
      "metadata": {
        "id": "HJxM4UYGuxG4",
        "colab_type": "text"
      },
      "source": [
        "**Q2**\n",
        "\n",
        "Q: Implement a selection sort for array"
      ]
    },
    {
      "cell_type": "code",
      "metadata": {
        "id": "jVyoU2pIu1ke",
        "colab_type": "code",
        "colab": {}
      },
      "source": [
        "#Ling\n",
        "def selection_sort(array):\n",
        "  if len(array) <= 1 or array == None:\n",
        "    return array\n",
        "  for i in range(len(array)-1, 0, -1):\n",
        "    max = 0\n",
        "    for j in range(i+1):\n",
        "      if array[j] > array[max]:\n",
        "        max = j\n",
        "    array[i], array[max] = array[max], array[i]\n",
        "    \n",
        "#Correct\n",
        "def selection_sort(alist):\n",
        "  for i in xrange(len(alist)):\n",
        "    least_index = i\n",
        "    for j in xrange(i+1, len(alist)):\n",
        "      if (alist[j] < alist[least_index]):\n",
        "        least_index = j\n",
        "    alist[i], alist[least_index] = alist[least_index], alist[i]\n",
        "    \n",
        "#time: O(n^2)\n",
        "#space: O(1)\n",
        "\n",
        "\n",
        "'''\n",
        "Feedback\n",
        "- xrange instead of range -> O(n)\n",
        "'''"
      ],
      "execution_count": 0,
      "outputs": []
    },
    {
      "cell_type": "markdown",
      "metadata": {
        "id": "rV81xmFfu4LG",
        "colab_type": "text"
      },
      "source": [
        "**Q3**\n",
        "Q: merge two reverse sorted linked list.\n",
        "\n",
        "e.g.,\n",
        "\n",
        "10 -> 8 -> 5 -> 1\n",
        "\n",
        "9 -> 7 -> 6 -> 3 -> 2\n",
        "\n",
        "result: 10 -> 9 -> 8 -> 7 -> 6 -> 5 -> 3 -> 2 -> 1"
      ]
    },
    {
      "cell_type": "code",
      "metadata": {
        "id": "1JvkoYYWu8Ao",
        "colab_type": "code",
        "colab": {}
      },
      "source": [
        "#Ling\n",
        "def merge(head1, head2):\n",
        "  if head1 is None:\n",
        "    return head2\n",
        "  if head2 is None:\n",
        "    return head1\n",
        "  if head1 > head2:  #value\n",
        "    head1.next = merge(head1.next, head2)\n",
        "    return head1\n",
        "  else:\n",
        "    head2.next = merge(head2.next, head1)\n",
        "    return head2\n",
        "\n",
        "#Correct: using dummy node\n",
        "def merge_list(head1, head2):\n",
        "  new_head = ListNode(0)\n",
        "  curr_node = new_head\n",
        "  while head1 is not None and head2 is not None:\n",
        "    if head1.val >= head2.val\n",
        "      curr_node.next = head1\n",
        "      head1 = head1.next\n",
        "    else:\n",
        "      curr_node.next = head2\n",
        "      head2 = head2.next\n",
        "    curr_node = curr_node.next\n",
        "  if (head1 != None):\n",
        "    curr_node.next = head1\n",
        "  if (head2 != None):\n",
        "    curr_node.next = head2\n",
        "  return new_head.next\n",
        "\n",
        "#time: O(m+n)\n",
        "#space: O(1)\n",
        "\n",
        "#Recursion:\n",
        "#time: O(m+n)\n",
        "#space: O(min(m,n))\n",
        "\n",
        "'''\n",
        "Feedback\n",
        "- recursion vs non-recursion\n",
        "- why recursion space usages O(min(m,n))?\n",
        "'''"
      ],
      "execution_count": 0,
      "outputs": []
    },
    {
      "cell_type": "markdown",
      "metadata": {
        "id": "vhlWhBb4u-Jw",
        "colab_type": "text"
      },
      "source": [
        "**Q4**\n",
        "Q: Given a singly linked list and a target value, remove all nodes in this list that contain this target.\n",
        "\n",
        "e.g.,\n",
        "\n",
        "10 -> 8 -> 5 -> 1 -> 8  target = 8\n",
        "\n",
        "return 10 -> 5 -> 1\n",
        "\n",
        "Test cases:\n",
        "1. None\n",
        "2. No target \n",
        "3. Target in special position\n",
        " a. Target is head \n",
        " b. Target is tail\n",
        " c. Target in the middle\n",
        " d. Target followed by None\n",
        "4. Multiple targets:\n",
        " a. Neighbour\n",
        " b. Not neighbour"
      ]
    },
    {
      "cell_type": "code",
      "metadata": {
        "id": "MwFTnCjNvBnx",
        "colab_type": "code",
        "colab": {}
      },
      "source": [
        "#Ling\n",
        "def remove(head, target):\n",
        "  fake_head = ListNode(None)\n",
        "  fake_head.next = head\n",
        "  while fake_head.next != None:\n",
        "    if fake_head.next.val == target:\n",
        "      remove_node = fake_head.next\n",
        "      fake_head.next = remove_node.next\n",
        "      remove_node.next = None\n",
        "    fake_head = fake_head.next\n",
        "    \n",
        "    \n",
        "#Correct\n",
        "def RemoveNodes(head, target):\n",
        "  if not head:\n",
        "    return head\n",
        "  fakeHead = ListNode(0)\n",
        "  fakeHead.next = head\n",
        "  prevNode, currNode = fakeHead, fakeHead.next\n",
        "  while currNode:\n",
        "    if currNode.val == target:\n",
        "      prevNode.next = currNode.next\n",
        "    else:\n",
        "      prevNode = currNode\n",
        "    currNode = currNode.next\n",
        "  return fakeHead.next\n",
        "#time: O(n)\n",
        "#space: O(1)\n",
        "\n",
        "\n",
        "#Alternative\n",
        "def remove(head, target):\n",
        "  fake_head = ListNode(None)\n",
        "  fake_head.next = head\n",
        "  cur = fake_head\n",
        "  while cur and cur.next:\n",
        "    if cur.next.val == target:\n",
        "      cur.next = cur.next.next\n",
        "    else:\n",
        "      cur = cur.next\n",
        "  return fake_head.next\n",
        "\n",
        "'''\n",
        "Feedback\n",
        "- did not return a value\n",
        "- missing else\n",
        "- does not consider multiple neighbors\n",
        "- only use one cur.next:\n",
        "- okay to use fake_head directly?\n",
        "'''"
      ],
      "execution_count": 0,
      "outputs": []
    },
    {
      "cell_type": "markdown",
      "metadata": {
        "id": "j_p84vxVvPnz",
        "colab_type": "text"
      },
      "source": [
        "**Q5**\n",
        "\n",
        "Remove duplicated and adjacent letters (leave only one letter in each duplicated section) in a string."
      ]
    },
    {
      "cell_type": "code",
      "metadata": {
        "id": "FiMRrTNMvUEe",
        "colab_type": "code",
        "colab": {}
      },
      "source": [
        "# M1 Two pointers \n",
        "class Solution(object):\n",
        "  def removeDup(self, str):\n",
        "    \"\"\"\n",
        "    input: string \n",
        "    output: string\n",
        "    \"\"\"\n",
        "    if str is None or len(str) <= 1:\n",
        "      return str\n",
        "    f, s = 1, 1 #two pointers\n",
        "    lst = list(str)\n",
        "    while f < len(str):\n",
        "      if lst[s-1] != lst[f]:  #if no dup char\n",
        "        lst[s] = lst[f]\n",
        "        s += 1\n",
        "      f += 1\n",
        "    return ''.join(lst[:s])\n",
        "# T, S = O(n)\n",
        "\n",
        "  removeString('aaabbbaaa')"
      ],
      "execution_count": 0,
      "outputs": []
    },
    {
      "cell_type": "code",
      "metadata": {
        "id": "lpj8KYXqJtgA",
        "colab_type": "code",
        "outputId": "8e792473-d6ac-403c-e493-c68bf313aa5a",
        "colab": {
          "base_uri": "https://localhost:8080/",
          "height": 34
        }
      },
      "source": [
        "# M1 style 2\n",
        "def removeString(string):\n",
        "    if not string or len(string) <= 1:\n",
        "      return string\n",
        "    s, f = 0, 1\n",
        "    array = list(string)\n",
        "    while f < len(string):\n",
        "      if array[f] != array[f - 1]:\n",
        "        s += 1\n",
        "        array[s] = array[f]\n",
        "      f += 1\n",
        "    return \"\".join(array[:s+1])\n",
        "\n",
        "removeString('abcb')"
      ],
      "execution_count": 0,
      "outputs": [
        {
          "output_type": "execute_result",
          "data": {
            "text/plain": [
              "'abcb'"
            ]
          },
          "metadata": {
            "tags": []
          },
          "execution_count": 12
        }
      ]
    },
    {
      "cell_type": "code",
      "metadata": {
        "id": "uEA9zPmQCoJ9",
        "colab_type": "code",
        "colab": {}
      },
      "source": [
        "# M2 One pointer \n",
        "def remove_duplicate(Str):\n",
        "  if not str or len(str) < 2:\n",
        "    return str\n",
        "  fast = 0\n",
        "  lst = []\n",
        "  while fast < len(str):\n",
        "    if len(lst) == 0 or lst[-1] != str[fast]:\n",
        "      lst.append(str[fast])\n",
        "    fast += 1\n",
        "  return ''.join(lst)\n",
        "\n",
        "# T, S = O(n)"
      ],
      "execution_count": 0,
      "outputs": []
    },
    {
      "cell_type": "markdown",
      "metadata": {
        "id": "bX0Q4VcmvWFN",
        "colab_type": "text"
      },
      "source": [
        "**Q6** \n",
        "\n",
        "Find smallest k elements from an unsorted array of size n. The output should be in ascending order."
      ]
    },
    {
      "cell_type": "code",
      "metadata": {
        "id": "3FR9qQx2DHm_",
        "colab_type": "code",
        "colab": {}
      },
      "source": [
        "# M1 Min heap\n",
        "# time: O(n+klogn)\n",
        "# space: O(1) extra space, O(k) real space\n",
        "import heapq\n",
        "class Solution(object):\n",
        "  def kSmallest(self, array, k):\n",
        "    if not array:\n",
        "      return []\n",
        "    res = []\n",
        "    heapq.heapify(array)\n",
        "    for i in range(min(len(array), k)):\n",
        "      res.append(heapq.heappop(array))\n",
        "    return res"
      ],
      "execution_count": 0,
      "outputs": []
    },
    {
      "cell_type": "code",
      "metadata": {
        "id": "OCeZulTrDEfR",
        "colab_type": "code",
        "colab": {}
      },
      "source": [
        "# M2 Max heap\n",
        "# time: O(k+(n-k)logk + klogk)\n",
        "# space: \n",
        "class Solution(object):\n",
        "  def kSmallest(self, array, k):\n",
        "    if not array:\n",
        "      return []\n",
        "    res = [-i for i in array[0:k]]\n",
        "    heapq.heapify(res)\n",
        "    for i in range(k, len(array)):\n",
        "      heapq.heappush(res, -array[i])\n",
        "      heapq.heappop(res)\n",
        "    return sorted([-i for i in res])\n",
        "  "
      ],
      "execution_count": 0,
      "outputs": []
    },
    {
      "cell_type": "markdown",
      "metadata": {
        "id": "ecPY1n4yvcqV",
        "colab_type": "text"
      },
      "source": [
        "**Q7**\n",
        "\n",
        "Find the second largest value inside a binary search tree. You can assume that a node inside this tree only contains a single value.\n",
        "\n",
        "\n",
        "For this problem, the requirement is to solve this with recursion. If there is any subroutine you need, it also need to be written with recursion."
      ]
    },
    {
      "cell_type": "code",
      "metadata": {
        "id": "F0eblK14Dk0M",
        "colab_type": "code",
        "colab": {}
      },
      "source": [
        "# M1\n",
        "# time: O(h)\n",
        "# space: O(h)\n",
        "class Solution(object):\n",
        "  def secondLargest(self, root):\n",
        "    self.cnt = 0\n",
        "    self.result = None\n",
        "    self.traverse(root)\n",
        "    return self.result i self.result != None else -2147483648\n",
        "\n",
        "  def traverse(self, root):\n",
        "    if not root:\n",
        "      return\n",
        "    self.traverse(root.right)\n",
        "    self.cnt += 1\n",
        "    if self.cnt == 2:\n",
        "      self.result = root.val\n",
        "      return\n",
        "    if self.cnt > 2: # pruning\n",
        "      return\n",
        "    self.traverse(root.left)\n"
      ],
      "execution_count": 0,
      "outputs": []
    },
    {
      "cell_type": "code",
      "metadata": {
        "id": "ykdvPCZQvgCO",
        "colab_type": "code",
        "colab": {}
      },
      "source": [
        "# S2\n",
        "# time: O(h)\n",
        "# space: O(h)\n",
        "class Solution(object):\n",
        "  def find_largest(self, root):\n",
        "    if not root:\n",
        "      return \n",
        "    if not root.right: #root is max\n",
        "      return root\n",
        "    return self.find_largest(root.right)\n",
        "\n",
        "  def find_2nd_largest(self, root):\n",
        "    if not root:\n",
        "      return\n",
        "    if not root.right: #case 1 in left tree\n",
        "      return self.find_largest(root.left)\n",
        "    right = root.right #case 2 root\n",
        "    if not right.left and not right.right:\n",
        "      return root\n",
        "    return self.find_2nd_largest(root.right) #Case 3 in right tree"
      ],
      "execution_count": 0,
      "outputs": []
    },
    {
      "cell_type": "markdown",
      "metadata": {
        "id": "rhktXvkzvcjF",
        "colab_type": "text"
      },
      "source": [
        "**Q8**\n",
        "\n",
        "Design a stack that supports push, pop, top, and retrieving the minimum element in constant time.\n",
        "\n",
        "    push(x) -- Push element x onto stack.\n",
        "    pop() -- Removes the element on top of the stack.\n",
        "    top() -- Get the top element.\n",
        "    getMin() -- Retrieve the minimum element in the stack."
      ]
    },
    {
      "cell_type": "code",
      "metadata": {
        "id": "Cs4E6cDSELYy",
        "colab_type": "code",
        "colab": {}
      },
      "source": [
        "# S1 (recheck) Two stacks\n",
        "class MinStack(object):\n",
        "  def __init__(self):\n",
        "    self.stack = []\n",
        "    self.min = []\n",
        "  \n",
        "  def push(self, x):\n",
        "    self.stack.append(x)\n",
        "    if (len(self.min) == 0 or x <= self.getMin()):\n",
        "      self.min.append(x)\n",
        "  \n",
        "  def pop(self):\n",
        "    if len(self.min) == 0:\n",
        "      return None\n",
        "    if self.stack[-1] == self.getMin()):\n",
        "      self.min.pop()\n",
        "    return self.stack.pop()\n",
        "  \n",
        "  def top(self):\n",
        "    return self.stack[-1]\n",
        "  \n",
        "  def getMin(self):\n",
        "    return self.min[-1]\n",
        "  \n",
        "# Time: O(1)\n",
        "# space: O(n)"
      ],
      "execution_count": 0,
      "outputs": []
    },
    {
      "cell_type": "code",
      "metadata": {
        "id": "K87a4BM8vxFG",
        "colab_type": "code",
        "colab": {}
      },
      "source": [
        "# M2 Tuple (x, x_min)\n",
        "class MinStack(object):\n",
        "  def __init__(self):\n",
        "    self._stack = []\n",
        "    \n",
        "  def push(self, x):\n",
        "    temp = x\n",
        "    if len(self._stack) != 0:\n",
        "      temp = min(temp, self.min())\n",
        "    self._stack.append((x, temp))\n",
        "\n",
        "  def pop(self):\n",
        "    if len(self._stack) == 0:\n",
        "      raise exception('max():empty stack')\n",
        "    x = self._stack.pop()\n",
        "    return x[0]\n",
        "\n",
        "  def top(self):\n",
        "    return self.getMin()\n",
        "\n",
        "  def getMin(self):\n",
        "    if len(self._stack) == 0: \n",
        "      raise exception('max():empty stack')\n",
        "    return self._stack[-1][1]\n",
        "  "
      ],
      "execution_count": 0,
      "outputs": []
    },
    {
      "cell_type": "code",
      "metadata": {
        "id": "3nN1izyw1wS5",
        "colab_type": "code",
        "colab": {}
      },
      "source": [
        ""
      ],
      "execution_count": 0,
      "outputs": []
    }
  ]
}