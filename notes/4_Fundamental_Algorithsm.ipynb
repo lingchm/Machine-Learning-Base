{
  "nbformat": 4,
  "nbformat_minor": 0,
  "metadata": {
    "colab": {
      "provenance": [],
      "collapsed_sections": [],
      "toc_visible": true,
      "include_colab_link": true
    },
    "kernelspec": {
      "name": "python3",
      "display_name": "Python 3"
    }
  },
  "cells": [
    {
      "cell_type": "markdown",
      "metadata": {
        "id": "view-in-github",
        "colab_type": "text"
      },
      "source": [
        "<a href=\"https://colab.research.google.com/github/lingchm/datascience_notes/blob/master/notes/4_Fundamental_Algorithsm.ipynb\" target=\"_parent\"><img src=\"https://colab.research.google.com/assets/colab-badge.svg\" alt=\"Open In Colab\"/></a>"
      ]
    },
    {
      "cell_type": "markdown",
      "metadata": {
        "id": "BbjHaxoadkyC"
      },
      "source": [
        "#4. Fundamental Algorithms"
      ]
    },
    {
      "cell_type": "markdown",
      "metadata": {
        "id": "ljBW9mEudv_V"
      },
      "source": [
        "##4.1.Search Algorithms"
      ]
    },
    {
      "cell_type": "markdown",
      "metadata": {
        "id": "a-V8xTSXd4TE"
      },
      "source": [
        "###Binary Search\n",
        "\n",
        "How it works\n",
        "* Set L and R boundaries. M is the middle\n",
        "* Compare target to M. Readjust L and R\n",
        "* Proceed until the end\n",
        "\n",
        "General\n",
        "* The size of the search space is reduced roughly by 1/2 for every iteration: n -> n/2 -> n/4 -> ... n/2^h\n",
        "* Stop when L < R, When there is only one number, still needs to check if it is it. Return false if not found\n",
        "* Must guarantee that the search space decreases over time\n",
        "* Must guarantee that the target cannot be ruled out\n",
        "* Minimum number of searches: H = O(logN)\n",
        "* Time complexity: O(logN)\n",
        "\n",
        "Key points:\n",
        "* new search space must be smaller than the old one. Otherwise, you will end up with infinite loop\n",
        "* New search space must contain all the possible candidates\n",
        "\n",
        "Three types:\n",
        "* left <= right: can only be used to find a number\n",
        "* left < right: ?\n",
        "* left < right - 1: needs post processsing\n"
      ]
    },
    {
      "cell_type": "markdown",
      "metadata": {
        "id": "L2cKxks65JOS"
      },
      "source": [
        "Summary of problems:\n",
        "1. Get the last element == target --> Use upper_bound\n",
        "2. Get the largest element < target --> Use lower_bound\n",
        "3. Get total number of occurences --> Upper_bound - lower_bound\n"
      ]
    },
    {
      "cell_type": "markdown",
      "metadata": {
        "id": "bEUusvPF5BKd"
      },
      "source": [
        "**Q1: Search number in a sorted array**\n",
        "Return None if not found"
      ]
    },
    {
      "cell_type": "code",
      "metadata": {
        "id": "w7afzw33drbr",
        "colab": {
          "base_uri": "https://localhost:8080/",
          "height": 35
        },
        "outputId": "af18525a-90c7-422c-ceef-158388692336"
      },
      "source": [
        "# Binary Search 1D\n",
        "def binary_search(nums, target):\n",
        "  if nums == None or len(nums) == 0: #if nums is not None and len(nums) != 0:\n",
        "    return None\n",
        "  left = 0\n",
        "  right = len(nums) - 1\n",
        "  while left <= right:\n",
        "    mid = int((left + right) / 2)\n",
        "    if nums[mid] > target:\n",
        "      right = mid - 1\n",
        "    elif nums[mid] < target:\n",
        "      left = mid + 1\n",
        "    else: \n",
        "      return mid\n",
        "  return None\n",
        "\n",
        "print (binary_search([1, 2, 3], 3))"
      ],
      "execution_count": null,
      "outputs": [
        {
          "output_type": "stream",
          "text": [
            "2\n"
          ],
          "name": "stdout"
        }
      ]
    },
    {
      "cell_type": "code",
      "metadata": {
        "id": "3b6A2axbqrzd"
      },
      "source": [
        "# Laioffer Solution - with post processing\n",
        "class Solution(object):\n",
        "  def binarySearch(self, array, target):\n",
        "    \"\"\"\n",
        "    input: int[] array, int target\n",
        "    return: int\n",
        "    \"\"\"\n",
        "    if not array:\n",
        "      return -1\n",
        "    left = 0\n",
        "    right = len(array) - 1\n",
        "    while left < right - 1:\n",
        "      mid = (left + right) // 2\n",
        "      if array[mid] == target:  #moved first \n",
        "        return mid\n",
        "      if array[mid] < target:\n",
        "        left = mid\n",
        "      else:\n",
        "        right = mid\n",
        "    if array[left] == target:\n",
        "      return left\n",
        "    if array[right] == target:\n",
        "      return right\n",
        "    return -1"
      ],
      "execution_count": null,
      "outputs": []
    },
    {
      "cell_type": "markdown",
      "metadata": {
        "id": "Woim2C8nClbI"
      },
      "source": [
        "**Q2: 2D Matrix search**\n",
        "* Convert 2D array into linear form\n",
        "* Given matrix NxM; N = len(matrix); M = len(matrix[0])\n",
        "* Row_index = index / M\n",
        "* Col_index = index % M\n",
        "* NOTE: len([])) == 0; len(None) == error\n",
        "* Time complexity: O(log(N*M))"
      ]
    },
    {
      "cell_type": "code",
      "metadata": {
        "id": "KlJUimhqeUtf",
        "colab": {
          "base_uri": "https://localhost:8080/",
          "height": 35
        },
        "outputId": "daa1fe01-7aa0-4333-a580-d3e11af5a49e"
      },
      "source": [
        "# matrix is a 2D array, ex. [[0,1,2,3],[4,5,6,7]]\n",
        "  \n",
        "def binary_search_2d(matrix, target):\n",
        "  if matrix == None or len(matrix) == 0:\n",
        "    return None\n",
        "  N, M = len(matrix), len(matrix[0])\n",
        "  left, right = 0, N*M-1\n",
        "  while left <= right:\n",
        "    mid = int((left+right)/2)\n",
        "    row_num = int(mid / M)  #row index\n",
        "    col_num = int(mid % M)  #col index\n",
        "    if matrix[row_num][col_num] > target:\n",
        "      right = mid - 1\n",
        "    elif matrix[row_num][col_num] < target:\n",
        "      left = mid + 1\n",
        "    else:\n",
        "      return(row_num, col_num)\n",
        "  return None\n",
        "\n",
        "print (binary_search_2d([[0,1,2,3],[4,5,6,7]], 3))"
      ],
      "execution_count": null,
      "outputs": [
        {
          "output_type": "stream",
          "text": [
            "(0, 3)\n"
          ],
          "name": "stdout"
        }
      ]
    },
    {
      "cell_type": "code",
      "metadata": {
        "id": "RpsC4bE5qKbM"
      },
      "source": [
        "# Laioffer Solution\n",
        "class Solution(object):\n",
        "  def search(self, matrix, target):\n",
        "    \"\"\"\n",
        "    input: int[][] matrix, int target\n",
        "    return: int[]\n",
        "    \"\"\"\n",
        "    if len(matrix) == 0 or len(matrix[0] == 0):\n",
        "      return [-1, -1]\n",
        "    left = 0\n",
        "    right = len(matrix) * len(matrix[0]) - 1\n",
        "    while left < right - 1:\n",
        "      middle = left + (right - left) // 2\n",
        "      middlex = middle / len(matrix[0])\n",
        "      middley = middle % len(matrix[0])\n",
        "      if matrix[middlex][middley] < target:\n",
        "        left = middle\n",
        "      elif matrix[middlex][middley] > target:\n",
        "        right = middle\n",
        "      else:\n",
        "        return [middlex, middley]\n",
        "    if matrix[left/len(matrix[0])][left % len(matrix[0])]:\n",
        "      return [left/len(matrix[0]), left % len(matrix[0])]\n",
        "    if matrix[right/len(matrix[0])][right % len(matrix[0])]:\n",
        "      return [right/len(matrix[0]), right % len(matrix[0])]\n",
        "    return [-1, -1]\n",
        "\n",
        "# time: O(log(m*n))\n",
        "# space: O(1)"
      ],
      "execution_count": null,
      "outputs": []
    },
    {
      "cell_type": "markdown",
      "metadata": {
        "id": "46kFSFj5CqPh"
      },
      "source": [
        "**Q3 Find closest element**\n",
        "\n",
        "* Loop condition: while left < right - 1\n",
        "* When left = right - 1, infinite loop because mid wil be == left or right"
      ]
    },
    {
      "cell_type": "code",
      "metadata": {
        "id": "L74Nzu2_emcD",
        "colab": {
          "base_uri": "https://localhost:8080/",
          "height": 35
        },
        "outputId": "b915e919-f7af-40ab-c227-b6c94653fe6b"
      },
      "source": [
        "# Binary Search (closest number)\n",
        "def binary_search_C3(nums, target):\n",
        "  if nums == None or len(nums) == 0: #if nums is not None and len(nums) != 0:\n",
        "    return None\n",
        "  left = 0\n",
        "  right = len(nums) - 1\n",
        "  while left < right - 1:\n",
        "    mid = int((left + right) / 2)\n",
        "    if nums[mid] > target:\n",
        "      right = mid \n",
        "    elif nums[mid] < target:\n",
        "      left = mid \n",
        "    else: \n",
        "      return mid\n",
        "  return left if abs(nums[left]-target) < abs(nums[right]-target) else right\n",
        "\n",
        "print (binary_search_C3([1,2,3], 3))"
      ],
      "execution_count": null,
      "outputs": [
        {
          "output_type": "stream",
          "text": [
            "2\n"
          ],
          "name": "stdout"
        }
      ]
    },
    {
      "cell_type": "code",
      "metadata": {
        "id": "FQ7fQs8ytsq7"
      },
      "source": [
        "# Laioffer Solution\n",
        "class Solution(object):\n",
        "  def closest(self, array, target):\n",
        "    \"\"\"\n",
        "    input: int[] array, int target\n",
        "    return: int\n",
        "    \"\"\"\n",
        "    if len(array) == 0:\n",
        "      return -1\n",
        "    left = 0\n",
        "    right = len(array) - 1\n",
        "    while left < right - 1:\n",
        "      mid = (left + right) // 2\n",
        "      if array[mid] > target:\n",
        "        right = mid\n",
        "      elif array[mid] < target:\n",
        "        left = mid\n",
        "      else:\n",
        "        return mid\n",
        "    return left if abs(array[left] - target) < abs(array[right] - target) else right\n"
      ],
      "execution_count": null,
      "outputs": []
    },
    {
      "cell_type": "markdown",
      "metadata": {
        "id": "OzikN1p64q59"
      },
      "source": [
        "**Q4 Find k closest elements**"
      ]
    },
    {
      "cell_type": "code",
      "metadata": {
        "id": "yEpFeSn8iiAQ"
      },
      "source": [
        "# M1\n",
        "class Solution(object):\n",
        "  def kClosest(self, array, target, k):\n",
        "    \"\"\"\n",
        "    input: int[] array, int target, int k\n",
        "    return: int[]\n",
        "    \"\"\"\n",
        "    if array == None or len(array) == 0:\n",
        "        return -1\n",
        "    result = []\n",
        "    while len(result) < k:\n",
        "        left = 0\n",
        "        right = len(array) - 1\n",
        "        while left < right - 1:\n",
        "            mid = (left + right) / 2\n",
        "            if array[mid] < target:\n",
        "                left = mid  \n",
        "            elif array[mid] > target:\n",
        "                right = mid\n",
        "            else:\n",
        "                result.append(array[mid])\n",
        "                del(array[mid])\n",
        "                break\n",
        "        if left >= right - 1:\n",
        "            if abs(array[left]-target) < abs(array[right]-target):\n",
        "                result.append(array[left])\n",
        "                del(array[left])\n",
        "            else:\n",
        "                result.append(array[right])\n",
        "                del(array[right])\n",
        "    return result "
      ],
      "execution_count": null,
      "outputs": []
    },
    {
      "cell_type": "code",
      "metadata": {
        "id": "a9HcAScUuSZN"
      },
      "source": [
        "# M2\n",
        "class Solution(object):\n",
        "  def kClosest(self, array, target, k):\n",
        "    \"\"\"\n",
        "    input: int[] array, int target, int k\n",
        "    return: int[]\n",
        "    \"\"\"\n",
        "    if not array:\n",
        "      return -1\n",
        "    left = 0\n",
        "    right = len(array) - 1\n",
        "    res = []\n",
        "    mid = (left + right) // 2\n",
        "    if k == 0:\n",
        "      return res\n",
        "    while left < right - 1:\n",
        "      mid = (left + right) // 2\n",
        "      if array[mid] < target:\n",
        "        left = mid\n",
        "      elif array[mid] > target:\n",
        "        right = mid\n",
        "      else:\n",
        "        break\n",
        "    # set left right pointers \n",
        "    if array[mid] == target:\n",
        "      res.append(array[mid])\n",
        "      left, right = mid, mid\n",
        "    elif abs(array[right] - target) > abs(array[left] - target):\n",
        "      res.append(array[left])\n",
        "      right = left\n",
        "    else:\n",
        "      res.append(array[right])\n",
        "      left = right\n",
        "    # Extend the range using left, right pointers \n",
        "    for i in range(k-1):\n",
        "      if right >= len(array) - 1:\n",
        "        left -= 1\n",
        "        res.append(array[left])\n",
        "      elif left == 0:\n",
        "        right += 1\n",
        "        res.append(array[right])\n",
        "      elif abs(array[left-1] - target) > abs(array[right+1] - target):\n",
        "        right +=1\n",
        "        res.append(array[right])\n",
        "      else:\n",
        "        left -= 1\n",
        "        res.append(array[left])\n",
        "    return res"
      ],
      "execution_count": null,
      "outputs": []
    },
    {
      "cell_type": "code",
      "metadata": {
        "id": "xWnqTMD0uiQF"
      },
      "source": [
        "# Laioffer Solution\n",
        "class Solution(object):\n",
        "  def closest(self, array, target, k):\n",
        "    \"\"\"\n",
        "    input: int[] array, int target, int k\n",
        "    return: int[]\n",
        "    \"\"\"\n",
        "    left = 0\n",
        "    right = len(array) - 1\n",
        "    if right < 0:\n",
        "      return -1\n",
        "    while left < right - 1:\n",
        "      middle = left + (right - left) // 2\n",
        "      if array[middle] < target:\n",
        "        left = middle\n",
        "      elif array[middle] > target:\n",
        "        right = middle\n",
        "      else:\n",
        "        return middle\n",
        "    if abs(array[left] - target) < abs(array[right] - target):\n",
        "      return left\n",
        "    return right\n",
        "\n",
        "  def kClosest(self, array, target, k):\n",
        "    res = []\n",
        "    if len(array) == 0 or k == 0:\n",
        "      return res\n",
        "    close = self.closest(array, target)\n",
        "    res.append(array[close])\n",
        "    left = close - 1\n",
        "    right = close + 1\n",
        "    total = len(array)\n",
        "    while len(res) < k and (left >= 0 or right < total):\n",
        "      if right < total and (left < 0 or abs(array[left] - target) > abs(array[right] - target)):\n",
        "        res.append(array[right])\n",
        "        right += 1\n",
        "      elif left >= 0:\n",
        "        res.append(array[left])\n",
        "        left -= 1\n",
        "    return res\n",
        "\n",
        "# time: O(logn + k)\n",
        "# space: O(1)"
      ],
      "execution_count": null,
      "outputs": []
    },
    {
      "cell_type": "code",
      "metadata": {
        "id": "OEiz2i61DoJQ"
      },
      "source": [
        "### New method: Direct binary search\n",
        "Could we directly use binary search to find the first element in those k closest ones towards target?\n"
      ],
      "execution_count": null,
      "outputs": []
    },
    {
      "cell_type": "markdown",
      "metadata": {
        "id": "WVaXwhPJ4wWD"
      },
      "source": [
        "**Q5 First Occurence**\n",
        "\n",
        "Given an array of integers that is non-decreasing and a target value, find the first position in this array at which the element is >= target. If you cannot find one, return len(array)"
      ]
    },
    {
      "cell_type": "code",
      "metadata": {
        "id": "NBF5l8kietyV",
        "colab": {
          "base_uri": "https://localhost:8080/",
          "height": 35
        },
        "outputId": "306ae98f-974e-4c5a-9bae-8dbfeb4a0da4"
      },
      "source": [
        "# First Occurence\n",
        "def first_occurence(nums, target):\n",
        "  if not nums: #if nums is not None and len(nums) != 0:\n",
        "    return None\n",
        "  left = 0\n",
        "  right = len(nums) - 1\n",
        "  while left < right - 1: # [left, right] >= 2\n",
        "    mid = (left + right) // 2\n",
        "    if nums[mid] < target:\n",
        "      left = mid + 1     # left = mid is also okay\n",
        "    else:\n",
        "      right = mid \n",
        "  if nums[left] == target:\n",
        "    return left\n",
        "  if nums[right] == target:\n",
        "    return right\n",
        "  return None\n",
        "\n",
        "print (first_occurence([1,2,2,5], 2))"
      ],
      "execution_count": null,
      "outputs": [
        {
          "output_type": "stream",
          "text": [
            "1\n"
          ],
          "name": "stdout"
        }
      ]
    },
    {
      "cell_type": "code",
      "metadata": {
        "id": "blxycz5c0pgk"
      },
      "source": [
        "# First Occurence\n",
        "def first_occurence(nums, target):\n",
        "  if nums == None or len(nums) == 0: #if nums is not None and len(nums) != 0:\n",
        "    return None\n",
        "  left = 0\n",
        "  right = len(nums) - 1\n",
        "  while left < right - 1:   # range <= 2\n",
        "    mid = (left + right) // 2\n",
        "    if nums[mid] >= target: # 如果大于或等于，往左看\n",
        "      right = mid\n",
        "    else:\n",
        "      left = mid + 1\n",
        "  if nums[left] == target:\n",
        "    return left\n",
        "  if nums[right] == target:\n",
        "    return right\n",
        "  return None\n",
        "\n",
        "print (first_occurence([1,2,2,5], 2))"
      ],
      "execution_count": null,
      "outputs": []
    },
    {
      "cell_type": "code",
      "metadata": {
        "id": "apu_YTdVsbyk"
      },
      "source": [
        "# Laioffer Solution\n",
        "class Solution(object):\n",
        "  def firstOccur(self, array, target):\n",
        "    \"\"\"\n",
        "    array: in[]\n",
        "    target: int\n",
        "    return: int\n",
        "    \"\"\"\n",
        "    left = 0\n",
        "    right = len(array) - 1\n",
        "    if right < 0:\n",
        "      return -1\n",
        "    while left < right - 1:\n",
        "      middle = left + (right - left) // 2\n",
        "      if array[middle] < target:\n",
        "        left = middle\n",
        "      elif array[middle] >= target:\n",
        "        right = middle\n",
        "    if array[left] == target:\n",
        "      return left\n",
        "    if array[right] == target:\n",
        "      return right\n",
        "    return -1"
      ],
      "execution_count": null,
      "outputs": []
    },
    {
      "cell_type": "code",
      "metadata": {
        "id": "2r6nlpty2hFf"
      },
      "source": [
        "# Laioffer Solution - no post processing\n",
        "class Solution(object):\n",
        "  def firstOccur(self, array, target):\n",
        "    left, right = 0, len(array) #includes len(array) because its part of answers\n",
        "    while left < right:\n",
        "      mid = (right + left) // 2\n",
        "      if array[mid] >= target:\n",
        "        right = mid\n",
        "      else:\n",
        "        left = mid + 1\n",
        "    return l\n",
        "\n",
        "'''\n",
        "If only two elements, converge into one element\n",
        "[1,2,5,6] -> 4\n",
        " l   m   r\n",
        "     r\n",
        "   m\n",
        "     l\n",
        "'''"
      ],
      "execution_count": null,
      "outputs": []
    },
    {
      "cell_type": "markdown",
      "metadata": {
        "id": "UJoG_8TasLWh"
      },
      "source": [
        "**Q6 Last Occurrence**"
      ]
    },
    {
      "cell_type": "code",
      "metadata": {
        "id": "XcSD2Bcqe0hK",
        "colab": {
          "base_uri": "https://localhost:8080/",
          "height": 35
        },
        "outputId": "90d0b50c-2314-4640-cb6f-6bcd430cc410"
      },
      "source": [
        "# Last Occurence\n",
        "def last_occurence(nums, target):\n",
        "  if nums == None or len(nums) == 0: #if nums is not None and len(nums) != 0:\n",
        "    return None\n",
        "  left = 0\n",
        "  right = len(nums) - 1\n",
        "  while left < right - 1:\n",
        "    mid = int((left + right) / 2)\n",
        "    if nums[mid] > target:\n",
        "      right = mid - 1\n",
        "    else:\n",
        "      left = mid \n",
        "  if nums[right] == target:\n",
        "    return right\n",
        "  if nums[left] == target:\n",
        "    return left\n",
        "  return None\n",
        "\n",
        "print (last_occurence([1,2,2,5], 2))\n",
        "# time: O(logn)\n",
        "# space: O(1)"
      ],
      "execution_count": null,
      "outputs": [
        {
          "output_type": "stream",
          "text": [
            "2\n"
          ],
          "name": "stdout"
        }
      ]
    },
    {
      "cell_type": "code",
      "metadata": {
        "id": "_X-rEvgqs7lz"
      },
      "source": [
        "# Laioffer Solution\n",
        "class Solution(object):\n",
        "  def lastOccur(self, array, target):\n",
        "    \"\"\"\n",
        "    array: int[]\n",
        "    target: int\n",
        "    return: int\n",
        "    \"\"\"\n",
        "    left = 0\n",
        "    right = len(array) - 1\n",
        "    if right < 0:\n",
        "      return -1\n",
        "    while left < right - 1:\n",
        "      middle = left + (right - left) // 2\n",
        "      if array[middle] <= target:\n",
        "        left = middle\n",
        "      elif array[middle] > target:\n",
        "        right = middle\n",
        "    if array[right] == target:\n",
        "      return right\n",
        "    if array[left] == target:\n",
        "      return left\n",
        "    return -1"
      ],
      "execution_count": null,
      "outputs": []
    },
    {
      "cell_type": "markdown",
      "metadata": {
        "id": "-0yxhRMUyNA5"
      },
      "source": [
        "**Q7 Search in Unknown Sized Sorted Array**\n",
        "* S1 expand the boundary by two times to find the right boundary\n",
        "* do binary searhc inside left and right bounda"
      ]
    },
    {
      "cell_type": "code",
      "metadata": {
        "id": "f7TWKu3P7uOA"
      },
      "source": [
        "# M1\n",
        "class Solution(object):\n",
        "  def search(self, dic, target):\n",
        "    \"\"\"\n",
        "    input: Dictionary dic, int target\n",
        "    return: int\n",
        "    \"\"\"\n",
        "    # write your solution here\n",
        "    i = 0\n",
        "    while dic.get(i) != None:\n",
        "      if dic.get(i) == target:\n",
        "        return i\n",
        "      i += 1\n",
        "    return -1"
      ],
      "execution_count": null,
      "outputs": []
    },
    {
      "cell_type": "code",
      "metadata": {
        "id": "uods5slxyUAJ"
      },
      "source": [
        "# M2\n",
        "# Definition for a unknown sized dictionary.\n",
        "# class Dictionary(object):\n",
        "#   def get(self, index):\n",
        "#     pass\n",
        "\n",
        "class Solution(object):\n",
        "  def search(self, dic, target):\n",
        "    \"\"\"\n",
        "    input: Dictionary dic, int target\n",
        "    return: int\n",
        "    \"\"\"\n",
        "    # write your solution here\n",
        "    if not dic:\n",
        "      return -1\n",
        "    start = 1\n",
        "    while dic.get(start) and dic.get(start) < target:\n",
        "      start = start * 2\n",
        "    left = 0\n",
        "    right = start\n",
        "    while left <= right:\n",
        "      mid = (left + right) // 2\n",
        "      if dic.get(mid) is None or dic.get(mid) < target:\n",
        "        left = mid + 1\n",
        "      elif dic.get(mid) > target:\n",
        "        right = mid - 1\n",
        "      else:\n",
        "        return mid\n",
        "    return -1"
      ],
      "execution_count": null,
      "outputs": []
    },
    {
      "cell_type": "code",
      "metadata": {
        "id": "9xlf0LTk7eUz"
      },
      "source": [
        "# Laioffer Solution\n",
        "# Definition for a unknown sized dictionary.\n",
        "# class Dictionary(object):\n",
        "#   def get(self, index):\n",
        "#     pass\n",
        "\n",
        "class Solution(object):\n",
        "  def search(self, dic, target):\n",
        "    \"\"\"\n",
        "    input: Dictionary dic, int target\n",
        "    return: int\n",
        "    \"\"\"\n",
        "    # write your solution here\n",
        "    start = 1\n",
        "    while dic.get(start) and dic.get(start) < target:\n",
        "      start = start * 2\n",
        "    left, right = 0, start\n",
        "    while left <= right:\n",
        "      mid = (left + right) // 2\n",
        "      if dic.get(mid) is None or dic.get(mid) < target:\n",
        "        left = mid + 1\n",
        "      elif dic.get(mid) > target:\n",
        "        right = mid - 1\n",
        "      else:\n",
        "        return mid\n",
        "    return -1"
      ],
      "execution_count": null,
      "outputs": []
    },
    {
      "cell_type": "code",
      "metadata": {
        "id": "GrGgeyvgcao_"
      },
      "source": [
        "'''\n",
        "M1 Binary search in [1, n]\n",
        "bad: right might be very big\n",
        "time: O(log(version_number))\n",
        "'''\n",
        "def bug():\n",
        "  version = 1\n",
        "  while is_bug(version):\n",
        "    version *= 2\n",
        "'''\n",
        "M2 [start, end?]\n",
        "S1 How find the end? binary search\n",
        "    try start*2, then start*2^2, start*2^#...\n",
        "    until find a bug\n",
        "S2 binary search [end/2, end]\n",
        "time: O(log(first_bug_version))\n",
        "'''"
      ],
      "execution_count": null,
      "outputs": []
    },
    {
      "cell_type": "markdown",
      "metadata": {
        "id": "zUX-x3EY739o"
      },
      "source": [
        "**Q8 Total Occurence**\n",
        "\n",
        "Given a target integer T and an integer array A sorted in ascending order, Find the total number of occurrences of T in A.\n",
        "* Return 0 if A is null\n"
      ]
    },
    {
      "cell_type": "code",
      "metadata": {
        "id": "rUUGmN3O-Mx3"
      },
      "source": [
        "class Solution(object):\n",
        "  def totalOccurrence(self, array, target):\n",
        "    \"\"\"\n",
        "    input: int[] array, int target\n",
        "    return: int\n",
        "    \"\"\"\n",
        "    # write your solution here\n",
        "    if not array:\n",
        "      return 0\n",
        "    left = 0\n",
        "    right = len(array) - 1\n",
        "    res = 0\n",
        "    # first occurence\n",
        "    while left < right - 1:\n",
        "      mid = (left + right) // 2\n",
        "      if array[mid] >= target:\n",
        "        right = mid \n",
        "      elif array[mid] < target:\n",
        "        left = mid + 1\n",
        "    if array[left] == target:\n",
        "      mid = left\n",
        "    elif array[right] == target:\n",
        "      mid = right\n",
        "    else:\n",
        "      return res\n",
        "    # more occurrences\n",
        "    res = 1\n",
        "    while (mid + 1 < len(array)):\n",
        "      if (array[mid + 1] == target):\n",
        "        mid += 1\n",
        "        res += 1\n",
        "      else:\n",
        "        break\n",
        "    return res"
      ],
      "execution_count": null,
      "outputs": []
    },
    {
      "cell_type": "code",
      "metadata": {
        "id": "IjTkqCpYAOPK"
      },
      "source": [
        "# Laioffer Solution\n",
        "# Find the First Occurence and Last Occurence, get the distance between them\n",
        "class Solution(object):\n",
        "  def totalOccurences(self, array, target):\n",
        "    \"\"\"\n",
        "    input: int[] array, int target\n",
        "    return: int\n",
        "    \"\"\"\n",
        "    if not array:\n",
        "      return 0\n",
        "    lastOccur = self.lastOccur(array, target)\n",
        "    firstOccur = self.firstOccur(array, target)\n",
        "    return 0 if lastOccur == -1 else lastOccur - firstOccur + 1\n",
        "\n",
        "  def firstOccur(self, array, target):\n",
        "    if not array:\n",
        "      return -1\n",
        "    left, right = 0, len(array) - 1\n",
        "    while left < right - 1:\n",
        "      mid = (left + right) // 2\n",
        "      if array[mid] >= target:\n",
        "        right = mid\n",
        "      else:\n",
        "        left = mid\n",
        "    if array[left] == target:\n",
        "      return left\n",
        "    if array[right] == target:\n",
        "      return right\n",
        "    return -1\n",
        "  \n",
        "  def lastOccur(self, array, target):\n",
        "    if not array:\n",
        "      return -1\n",
        "    left, right = 0, len(array) - 1\n",
        "    while left < right - 1:\n",
        "      mid = (left + right) // 2\n",
        "      if array[mid] <= target:\n",
        "        left = mid\n",
        "      else:\n",
        "        right = mid\n",
        "    if array[right] == target:\n",
        "      return right\n",
        "    if array[left] == target:\n",
        "      return left\n",
        "    return -1\n",
        "\n",
        "# time: O(logn)\n",
        "# space: O(1)"
      ],
      "execution_count": null,
      "outputs": []
    },
    {
      "cell_type": "markdown",
      "metadata": {
        "id": "O6Bk6HymKbrK"
      },
      "source": [
        "**Q9 Square Root I**\n",
        "\n",
        "Given an integer number n, find its integer square root.\n",
        "* n is guaranteed to be >= 0."
      ]
    },
    {
      "cell_type": "code",
      "metadata": {
        "id": "6sx5pKjZb95r"
      },
      "source": [
        "'''\n",
        "M1 Try every number in [1, n] to [1,n/2]\n",
        "time: O(n)\n",
        "space: O(1)\n",
        "'''\n",
        "def sqrt(n):\n",
        "  for val in range(1, n/2+1):\n",
        "    if val * val > n:\n",
        "      return val - 1\n",
        "  return n \n",
        "\n",
        "def sqrt(n):\n",
        "  val = 1\n",
        "  while vale * val <= n: \n",
        "    val += 1\n",
        "  return val - 1"
      ],
      "execution_count": null,
      "outputs": []
    },
    {
      "cell_type": "code",
      "metadata": {
        "id": "i9ktZ0IKcE9M"
      },
      "source": [
        "'''\n",
        "M2 Binary search in [1, n/2]\n",
        "if mid * mid < n: go right\n",
        "if mid * mid > n: go left\n",
        "if mid * mid == n: return\n",
        "time: O(n)\n",
        "space: O(1)\n",
        "'''\n",
        "def sqrt(n):\n",
        "  if n <= 1:\n",
        "    return n \n",
        "  left, right = 1, n/2\n",
        "  while left < right - 1:\n",
        "    mid = (left + right) / 2\n",
        "    mdsq = mid * mid\n",
        "    if midsq == n:\n",
        "      return mid\n",
        "    elif midsq > n:\n",
        "      right = mid\n",
        "    else:\n",
        "       left = mid\n",
        "  if right * right <= n:\n",
        "    return right\n",
        "  else:\n",
        "    return left"
      ],
      "execution_count": null,
      "outputs": []
    },
    {
      "cell_type": "code",
      "metadata": {
        "id": "E-yw563YOwNY"
      },
      "source": [
        "# Laioffer Solution\n",
        "class Solution(object):\n",
        "  def sqrt(self, x):\n",
        "    \"\"\"\n",
        "    input: int x\n",
        "    return: int\n",
        "    \"\"\"\n",
        "    if x == 0:\n",
        "      return 0\n",
        "    left = 1\n",
        "    right = x\n",
        "    while True:\n",
        "      if mid > x // mid:\n",
        "        right = mid - 1\n",
        "      elif mid <= x // mid and mid + 1 > x // (mid + 1):\n",
        "        return mid\n",
        "      else:\n",
        "        left = mid + 1\n",
        "\n",
        "# time: O(logn) better, with fewer loops\n",
        "# space: O(1)"
      ],
      "execution_count": null,
      "outputs": []
    },
    {
      "cell_type": "markdown",
      "metadata": {
        "id": "1X7l70mA3u4B"
      },
      "source": [
        "**Q10 The first element larger than target**\n"
      ]
    },
    {
      "cell_type": "code",
      "metadata": {
        "id": "kC5tErGe3yqf"
      },
      "source": [
        "def upper_bound(nums, target):\n",
        "  "
      ],
      "execution_count": null,
      "outputs": []
    },
    {
      "cell_type": "markdown",
      "metadata": {
        "id": "Un-xs7DL5nYf"
      },
      "source": [
        "**Q11 Variant**\n",
        "\n",
        "Suppose an array sorted might be rotated at some pivot unknown to you beforehand. Find the minimum element. You may assume no duplicates.\n",
        "\n",
        "e.g. [0,1,2,4,5,6,7] might be [4,5,6,7,0,1,2]\n",
        "\n",
        "\n"
      ]
    },
    {
      "cell_type": "code",
      "metadata": {
        "id": "cFm-DeIa6M-1"
      },
      "source": [
        "'''\n",
        "Three scenarios:\n",
        "* sorted, classical binary search: nums[l] < nums[m] < nums[r]\n",
        "* Min is on the left half: nums[l] > nums[m] < nums[r]\n",
        "* Min is on the right half\n",
        "'''\n",
        "\n"
      ],
      "execution_count": null,
      "outputs": []
    },
    {
      "cell_type": "markdown",
      "metadata": {
        "id": "6ogTaCth9pxz"
      },
      "source": [
        "**Q12 Bad Version**\n",
        "\n",
        "Suppose there is a version control interface contains n versions of product [1,2,3....n].\n",
        "\n",
        "There is an API called isBadVersions(int n) in which input is version number and output is boolean representing that whether the version is bad or not. Versions after the first bad version are all bad. Versions before the first bad version are all good.\n",
        "\n",
        "Write a new API called findFirstBadVersion(int n) where n is the total number of versions that returns the version number of the first bad one. \n"
      ]
    },
    {
      "cell_type": "code",
      "metadata": {
        "id": "Lcd0ThXb-Kr3"
      },
      "source": [
        "l, r = 1, n\n",
        "while...\n",
        "  m = \n",
        "  if isBadVersion(m) is bad:\n",
        "    look to left\n",
        "  else:\n",
        "    look to right"
      ],
      "execution_count": null,
      "outputs": []
    },
    {
      "cell_type": "markdown",
      "metadata": {
        "id": "Zg__L_tB-nAP"
      },
      "source": [
        "**Q13 Ropes**\n",
        "\n",
        "You have N ropes and the ith rope has length l_i. If you want to cut these ropes down so that you could have at least K ropes taht have exactly the same length, what will be the maximum length you could get? The answer should have two decimal places"
      ]
    },
    {
      "cell_type": "code",
      "metadata": {
        "id": "j7IOw8nC_Xz1"
      },
      "source": [
        "l = 0, r = +ing\n",
        "while...\n",
        "  m = ...\n",
        "  if C(m):\n",
        "    look to the right\n",
        "\n",
        "start at 0,\n",
        "  increment 0.01\n",
        "  until reach K\n",
        "\n",
        "Given a length l\n",
        "C(l) => check whether we could have a solution with length l => O(n)\n",
        "  for every rope length Li:\n",
        "    count += Li / l\n",
        "  if count > K\n",
        "\n",
        "Entire question => O(N*log(max Li)) ~ O(N)"
      ],
      "execution_count": null,
      "outputs": []
    },
    {
      "cell_type": "markdown",
      "source": [
        "**Q14 Median of Two Sorted Arrays**\n",
        "\n",
        "Given two sorted arrays nums1 and nums2 of size m and n respectively, return the median of the two sorted arrays.\n",
        "\n",
        "The overall run time complexity should be O(log (m+n)).\n"
      ],
      "metadata": {
        "id": "md8V2OTDmMgw"
      }
    },
    {
      "cell_type": "code",
      "source": [
        "class Solution:\n",
        "    def findMedianSortedArrays(self, nums1: List[int], nums2: List[int]) -> float:\n",
        "        half = (len(nums1) + len(nums2))//2\n",
        "        A, B = nums1, nums2\n",
        "        if len(A) > len(B):\n",
        "            A, B = B, A\n",
        "        \n",
        "        l, r = 0, len(A) - 1 # CAUTION\n",
        "        while True:\n",
        "            i = (l + r) // 2\n",
        "            j = half - i - 2 # CAUTION\n",
        "            Aleft = A[i] if i >= 0 else float(\"-infinity\")\n",
        "            Aright = A[i+1] if (i+1) < len(A) else float(\"infinity\")\n",
        "            Bleft = B[j] if j >= 0 else float(\"-infinity\")\n",
        "            Bright = B[j+1] if (j+1) < len(B) else float(\"infinity\")\n",
        "            \n",
        "            if Bleft < Aright and Aleft < Bright:\n",
        "                if (len(A)+len(B)) % 2: # even case\n",
        "                    return min(Aright, Bright)\n",
        "                else:\n",
        "                    return (max(Aleft, Bleft) + min(Aright, Bright)) // 2\n",
        "            else:\n",
        "                if Aleft > Bright:\n",
        "                    r = i - 1\n",
        "                else:\n",
        "                    l = i + 1\n",
        "\n",
        "'''\n",
        "https://www.youtube.com/watch?v=q6IEA26hvXc&t=333s\n",
        "\n",
        "Binary search \n",
        "\n",
        "_ _ _ A[i] | A[i+1] _ _ _ : the smaller array we are looking at \n",
        "_ _ _ _ B[j] | B[j+1] _ _ _\n",
        "\n",
        "1. initialize \n",
        "    i = n // 2\n",
        "    i + j = half - 2 => j = half - 2 - i\n",
        "2. check if median is founnd\n",
        "    B[j] < A[i+1] and A[i] < B[j+1]\n",
        "3. If yes, return \n",
        "    even: (max(A[i], B[j]) + min(A[i+1], B[j+1])) // 2 \n",
        "    # max value from left partition and min value from right partition \n",
        "    odd: min(A[i+1], B[j+1])\n",
        "    # one bigger value fron left partition\n",
        "4. If not, \n",
        "    If A[i+1] < B[j]: increase median\n",
        "    else: decrease median\n",
        "\n",
        "Edge case: neeed to check if we go outside A \n",
        "\n",
        "'''"
      ],
      "metadata": {
        "id": "6YSX_iHlmM7m"
      },
      "execution_count": null,
      "outputs": []
    },
    {
      "cell_type": "markdown",
      "metadata": {
        "id": "zTWLkqU-e8MQ"
      },
      "source": [
        "##4.2. Sort Algorithms"
      ]
    },
    {
      "cell_type": "markdown",
      "metadata": {
        "id": "HV99xeB3fXQj"
      },
      "source": [
        "###Bubble Sort \n",
        "\n",
        "How it works\n",
        "\n",
        "* Every iteration, sort by pairs of 2.\n",
        "\n",
        "* 1st iteration: compared n numbers or (n-1) times --> the largest number will be at the end\n",
        "\n",
        "* 2nd iteration: compared n-1 numbers. The second largest will be before n\n",
        "\n",
        "General\n",
        "* Time: O(n^2) = (n-1) + (n-2) + ....+ 1\n",
        "* Space: O(1)"
      ]
    },
    {
      "cell_type": "code",
      "metadata": {
        "id": "4iWJosPzfbAh",
        "colab": {
          "base_uri": "https://localhost:8080/",
          "height": 295
        },
        "outputId": "73e183e1-1429-4402-ea7b-c02ec4d381e9"
      },
      "source": [
        "#M1\n",
        "def bubble_sort(list):\n",
        "  for n in range(len(list)-1, 0, -1): #0 is not included, loop n-1 times\n",
        "    for j in range(n):                #loop n times\n",
        "      #print (\"compare:\", list[j], list[j+1]) \n",
        "      if (list[j]>list[j+1]):\n",
        "        list[j], list[j+1]=list[j+1], list[j]\n",
        "\n",
        "alist = [2,3,1,0,5,-1]\n",
        "bubble_sort(alist)\n",
        "print (alist)\n",
        "\n",
        "# time: O(n^2)\n",
        "# space: O(1)"
      ],
      "execution_count": null,
      "outputs": [
        {
          "output_type": "stream",
          "text": [
            "compare: 2 3\n",
            "compare: 3 1\n",
            "compare: 3 0\n",
            "compare: 3 5\n",
            "compare: 5 -1\n",
            "compare: 2 1\n",
            "compare: 2 0\n",
            "compare: 2 3\n",
            "compare: 3 -1\n",
            "compare: 1 0\n",
            "compare: 1 2\n",
            "compare: 2 -1\n",
            "compare: 0 1\n",
            "compare: 1 -1\n",
            "compare: 0 -1\n",
            "[-1, 0, 1, 2, 3, 5]\n"
          ],
          "name": "stdout"
        }
      ]
    },
    {
      "cell_type": "code",
      "metadata": {
        "id": "ZjoIkqVFfi0o",
        "colab": {
          "base_uri": "https://localhost:8080/",
          "height": 399
        },
        "outputId": "029cc5a5-f974-4336-e1fa-e7f4a5124c3d"
      },
      "source": [
        "#M2\n",
        "def bubble_sort2(list):\n",
        "  for n in range(len(list)):    #0,1,2,3...\n",
        "    for j in range(len(list)-n-1): #[0,6), [0,5),...\n",
        "      #print (\"compare:\", list[j], list[j+1]) \n",
        "      if (list[j]>list[j+1]):\n",
        "        list[j], list[j+1]=list[j+1], list[j]\n",
        "\n",
        "alist = [2,3,1,0,5,-1,-2]\n",
        "bubble_sort2(alist)\n",
        "print (alist)"
      ],
      "execution_count": null,
      "outputs": [
        {
          "output_type": "stream",
          "text": [
            "compare: 2 3\n",
            "compare: 3 1\n",
            "compare: 3 0\n",
            "compare: 3 5\n",
            "compare: 5 -1\n",
            "compare: 5 -2\n",
            "compare: 2 1\n",
            "compare: 2 0\n",
            "compare: 2 3\n",
            "compare: 3 -1\n",
            "compare: 3 -2\n",
            "compare: 1 0\n",
            "compare: 1 2\n",
            "compare: 2 -1\n",
            "compare: 2 -2\n",
            "compare: 0 1\n",
            "compare: 1 -1\n",
            "compare: 1 -2\n",
            "compare: 0 -1\n",
            "compare: 0 -2\n",
            "compare: -1 -2\n",
            "[-2, -1, 0, 1, 2, 3, 5]\n"
          ],
          "name": "stdout"
        }
      ]
    },
    {
      "cell_type": "markdown",
      "metadata": {
        "id": "TxqVb_0rfluO"
      },
      "source": [
        "###Selection Sort\n",
        "\n",
        "How it works\n",
        "* Find the max number, swap the max with the last\n",
        "* Sublist of items sorted + sublist of unsorted \n",
        "* Find the smallest/largest in the unsorted list\n",
        "\n",
        "General\n",
        "* Inefficient on large lists, worse than insertion sort\n",
        "* SImplicity; good when auxiliary memory is limited\n",
        "* Time: O(n^2) = (n-1)+(n-2)+....+ 1\n",
        "* Space: O(1)"
      ]
    },
    {
      "cell_type": "code",
      "metadata": {
        "id": "qWCBPWvpton1",
        "colab": {
          "base_uri": "https://localhost:8080/",
          "height": 126
        },
        "outputId": "2ef620f2-9cfc-42e1-a14d-7f55910f8395"
      },
      "source": [
        "#M1 Find max\n",
        "def selection_sort(alist):\n",
        "  for i in range(len(alist)-1, 0, -1):  #loop n-1 times: 5,4,3,2,1 \n",
        "    max_index = 0\n",
        "    for j in range(i+1):                #loop: n, n-1, n-2 ...\n",
        "      if (alist[j] > alist[max_index]):\n",
        "        max_index = j\n",
        "    alist[i], alist[max_index] = alist[max_index], alist[i]   #swap\n",
        "    print(\"swap: \", alist[i], alist[max_index], \"->\", alist)\n",
        "\n",
        "alist = [2,3,1,0,5,4]\n",
        "selection_sort(alist)\n",
        "print (alist)"
      ],
      "execution_count": null,
      "outputs": [
        {
          "output_type": "stream",
          "text": [
            "swap:  5 4 -> [2, 3, 1, 0, 4, 5]\n",
            "swap:  4 4 -> [2, 3, 1, 0, 4, 5]\n",
            "swap:  3 0 -> [2, 0, 1, 3, 4, 5]\n",
            "swap:  2 1 -> [1, 0, 2, 3, 4, 5]\n",
            "swap:  1 0 -> [0, 1, 2, 3, 4, 5]\n",
            "[0, 1, 2, 3, 4, 5]\n"
          ],
          "name": "stdout"
        }
      ]
    },
    {
      "cell_type": "code",
      "metadata": {
        "id": "gWXfyjHAgAiR",
        "colab": {
          "base_uri": "https://localhost:8080/",
          "height": 126
        },
        "outputId": "9731113c-264b-4476-9f49-ea7bed6b3098"
      },
      "source": [
        "#M2 Find min \n",
        "def selection_sort(alist):\n",
        "  for i in range(len(alist)-1):         #loop n-1 times: 0, 1, ..., n-1\n",
        "    min_index = i   \n",
        "    for j in range(i+1, len(alist)):    #loop: n-1, n-2, n-3.. 1 times\n",
        "      if (alist[j]) < alist[min_index]:\n",
        "        min_index = j\n",
        "    alist[i], alist[min_index] = alist[min_index], alist[i]\n",
        "    print(\"swap: \", alist[i], alist[min_index], \"->\", alist)\n",
        "\n",
        "alist = [2,3,1,0,5,-1]\n",
        "selection_sort(alist)\n",
        "print (alist)"
      ],
      "execution_count": null,
      "outputs": [
        {
          "output_type": "stream",
          "text": [
            "swap:  -1 2 -> [-1, 3, 1, 0, 5, 2]\n",
            "swap:  0 3 -> [-1, 0, 1, 3, 5, 2]\n",
            "swap:  1 1 -> [-1, 0, 1, 3, 5, 2]\n",
            "swap:  2 3 -> [-1, 0, 1, 2, 5, 3]\n",
            "swap:  3 5 -> [-1, 0, 1, 2, 3, 5]\n",
            "[-1, 0, 1, 2, 3, 5]\n"
          ],
          "name": "stdout"
        }
      ]
    },
    {
      "cell_type": "markdown",
      "metadata": {
        "id": "UK5l8xPHgH21"
      },
      "source": [
        "###Insertion Sort\n",
        "\n",
        "How it works\n",
        "* Each time insert a number and puts it in a correct position.\n",
        "* Use inverse bubble sort to find the correct position to insert\n",
        "\n",
        "General\n",
        "* Time: O(n^2)\n",
        "* Space: O(n)  because created a new array with length n\n",
        "\n",
        "Improvements\n",
        "* Option 1: use new_arr and while greater, loop\n",
        "* Option 2: use binary search to find the insertion location\n",
        "* Optimal: In-place insertion using three indexes\n",
        " * Time: O(n^2)\n",
        " * Space: O(1)\n"
      ]
    },
    {
      "cell_type": "code",
      "metadata": {
        "id": "TDfIwnDzgKvh",
        "colab": {
          "base_uri": "https://localhost:8080/",
          "height": 126
        },
        "outputId": "a9003ae3-4104-4a17-f13d-e6dc9bcbf4ef"
      },
      "source": [
        "# M1 Not in place. Use bubble sort for each insertion\n",
        "def insert_num(array,num):\n",
        "  idx = len(array) - 1\n",
        "  array.append(num)  #insert at the end\n",
        "  while idx >= 0:    #bubble sort (1 iteration)\n",
        "    if (array[idx] > array[idx+1]):\n",
        "      array[idx+1], array[idx] = array[idx], array[idx+1]\n",
        "    idx -= 1\n",
        "\n",
        "def insertion_sort(array):\n",
        "  if not array:\n",
        "    return None\n",
        "  new_arr = [] \n",
        "  for i in range(len(array)):\n",
        "    insert_num(new_arr, array[i])\n",
        "    print(\"insert\", array[i], \"->\", new_arr)\n",
        "  return new_arr\n",
        "\n",
        "alist = [1,5,6,3,2]\n",
        "new_arr = insertion_sort(alist)\n",
        "print (new_arr)"
      ],
      "execution_count": null,
      "outputs": [
        {
          "output_type": "stream",
          "text": [
            "insert 1 -> [1]\n",
            "insert 5 -> [1, 5]\n",
            "insert 6 -> [1, 5, 6]\n",
            "insert 3 -> [1, 3, 5, 6]\n",
            "insert 2 -> [1, 2, 3, 5, 6]\n",
            "[1, 2, 3, 5, 6]\n"
          ],
          "name": "stdout"
        }
      ]
    },
    {
      "cell_type": "code",
      "metadata": {
        "id": "G-EK1Ca1PH83",
        "colab": {
          "base_uri": "https://localhost:8080/",
          "height": 126
        },
        "outputId": "b2146750-0a3d-4853-910f-0906767f8828"
      },
      "source": [
        "# Binary search to find the closest number smaller than n\n",
        "def binary_search(array, n):\n",
        "  if len(array) == 0 or array == None:\n",
        "    return 0\n",
        "  left = 0\n",
        "  right = len(array) - 1\n",
        "  while left < right - 1:\n",
        "    mid = (left+right) // 2\n",
        "    if array[mid] >= n:\n",
        "      right = mid - 1\n",
        "    else:\n",
        "      left = mid\n",
        "  return right #returns the position smaller than the number's value\n",
        "\n",
        "def insert_num(array, n):\n",
        "  idx = binary_search(array, n) + 1\n",
        "  array.insert(idx, n)\n",
        "\n",
        "def insertion_sort(array):\n",
        "  new_arr = [] \n",
        "  for i in range(len(array)):\n",
        "    insert_num(new_arr, array[i])\n",
        "    print(\"insert\", array[i], \"->\", new_arr)\n",
        "  return new_arr\n",
        "\n",
        "alist = [1,5,6,3,2]\n",
        "new_arr = insertion_sort(alist)\n",
        "print (new_arr)"
      ],
      "execution_count": null,
      "outputs": [
        {
          "output_type": "stream",
          "text": [
            "insert 1 -> [1]\n",
            "insert 5 -> [1, 5]\n",
            "insert 6 -> [1, 5, 6]\n",
            "insert 3 -> [1, 3, 5, 6]\n",
            "insert 2 -> [1, 2, 3, 5, 6]\n",
            "[1, 2, 3, 5, 6]\n"
          ],
          "name": "stdout"
        }
      ]
    },
    {
      "cell_type": "code",
      "metadata": {
        "id": "nBW5cLE6gVMH",
        "colab": {
          "base_uri": "https://localhost:8080/",
          "height": 53
        },
        "outputId": "bbf3567d-e5ea-4d01-b5ff-fb185a2bea94"
      },
      "source": [
        "#M2 In-place\n",
        "'''\n",
        "[1,5,6,3]  --> [1,5,6,6] --> [1,5,5,6] --> [1,3,5,6]\n",
        "       I              i             i \n",
        "       k            k           k\n",
        "     cur = 3      cur = 3     cur = 3\n",
        "loop using i; \n",
        "cur holds value at i; \n",
        "k starts as index at i, moves backwards and changes value at k until no smaller found\n",
        "'''\n",
        "def insertion_sort(alist):\n",
        "  for i in range(1, len(alist)):  #loop: [1, n-1]\n",
        "    cur = alist[i]  \n",
        "    k = i\n",
        "    while k > 0 and cur < alist[k-1]: \n",
        "      alist[k] = alist[k-1]\n",
        "      k -= 1 \n",
        "    alist[k] = cur \n",
        "    \n",
        "alist = [1,5,6,3,2]\n",
        "new_arr = insertion_sort(alist)\n",
        "print (alist)\n",
        "print (new_arr)"
      ],
      "execution_count": null,
      "outputs": [
        {
          "output_type": "stream",
          "text": [
            "[1, 2, 3, 5, 6]\n",
            "None\n"
          ],
          "name": "stdout"
        }
      ]
    },
    {
      "cell_type": "markdown",
      "metadata": {
        "id": "X74cdUkUltbD"
      },
      "source": [
        "###Merge Sort\n",
        "\n",
        "How it works:\n",
        "* A recursive algorithm that continually splits a list in half\n",
        " * If the list is empty of has one item, it is sorted by definition (the base case).\n",
        " * If the list has more than one item, we split the list and recursively invoke a merge sort on both halves.\n",
        "* Once the two halves are sorted, merge is performed. Combines two smaller sorted lists and combine them into a single, sorted, new list\n",
        "\n",
        "General\n",
        "* Time: O(n logn) = O(n) per layer * logn layers\n",
        "* Space: O(n)\n",
        " * Top layer, right, left occupies O(n) in the worst case\n",
        "  * array[:middle], array[middle:] worst case oses O(n) -> may use index range to improve to O(1)\n",
        "  * Recursion uses n/2 + n/3 + n/8 + ... 1 = O(n)\n",
        "  "
      ]
    },
    {
      "cell_type": "markdown",
      "metadata": {
        "id": "odgZpyeQ9ntS"
      },
      "source": [
        "https://app.laicode.io/app/problem/9"
      ]
    },
    {
      "cell_type": "code",
      "metadata": {
        "id": "heq2OqaJlu4t",
        "colab": {
          "base_uri": "https://localhost:8080/",
          "height": 34
        },
        "outputId": "16bd276d-afab-4e42-f5fd-67fa4ae58476"
      },
      "source": [
        "# Divide unsorted list into left + right\n",
        "def divide(unsortedList):\n",
        "  if(len(unsortedList) <= 1): #if only one or None element\n",
        "    return unsortedList\n",
        "  mid = int(len(unsortedList) / 2)\n",
        "  lefthalf = unsortedList[:mid]\n",
        "  righthalf = unsortedList[mid:]\n",
        "  return (lefthalf, righthalf)\n",
        "\n",
        "# Merge two sorted arrays using left index point + right index pointer\n",
        "# time: O(2n) = O(n)\n",
        "# space: O(n+n) = O(n)\n",
        "def merge(list1, list2):\n",
        "  i = 0\n",
        "  j = 0\n",
        "  new_list = []\n",
        "  while (i < len(list1) and j < len(list2)):\n",
        "    if (list1[i] < list2[j]):\n",
        "      new_list.append(list1[i])\n",
        "      i = i + 1\n",
        "    else:\n",
        "      new_list.append(list2[j])\n",
        "      j = j + 1\n",
        "  while(i < len(list1)):\n",
        "    new_list.append(list1[i])\n",
        "    i = i + 1\n",
        "  while(j < len(list2)):\n",
        "    new_list.append(list2[j])\n",
        "    j = j + 1\n",
        "  return (new_list)\n",
        "\n",
        "# MergeSort \n",
        "def mergeSort(alist):\n",
        "  if(len(alist) <= 1):\n",
        "    return alist\n",
        "  lefthalf, righthalf = divide(alist)\n",
        "  lefthalf = mergeSort(lefthalf)\n",
        "  righthalf = mergeSort(righthalf)\n",
        "  return(merge(lefthalf, righthalf))\n",
        "\n",
        "# time: O(nlogn) = logn layers * n per layer\n",
        "# space: O(n) = O(logn) + O(n)\n",
        "\n",
        "print (mergeSort([7,3,8,4,5,6,2]))"
      ],
      "execution_count": null,
      "outputs": [
        {
          "output_type": "stream",
          "text": [
            "[2, 3, 4, 5, 6, 7, 8]\n"
          ],
          "name": "stdout"
        }
      ]
    },
    {
      "cell_type": "code",
      "metadata": {
        "id": "SWVaSFMdl4sP",
        "colab": {
          "base_uri": "https://localhost:8080/",
          "height": 35
        },
        "outputId": "70941967-c4c5-44a6-dc79-93b8688ddc21"
      },
      "source": [
        "### Simpler version without divide\n",
        "def merge(array1, array2):\n",
        "  i = j = 0\n",
        "  results = []\n",
        "  while i < len(array1) and j < len(array2):\n",
        "    if array1[i] < array2[j]:\n",
        "      results.append(array1[i])\n",
        "      i += 1\n",
        "    else:\n",
        "      results.append(array2[j])\n",
        "      j += 1\n",
        "  while i < len(array1):\n",
        "    results.append(array1[i])\n",
        "    i += 1\n",
        "  while j < len(array2):\n",
        "    results.append(array2[j])\n",
        "    j += 1\n",
        "  return results\n",
        "\n",
        "def merge_sort(array):\n",
        "  if len(array) <= 1 or array == None:\n",
        "    return array\n",
        "  middle = int(len(array) / 2)\n",
        "  left = merge_sort(array[:middle])\n",
        "  right = merge_sort(array[middle:])\n",
        "  return merge(left, right)\n",
        "\n",
        "print (merge_sort([7,3,8,4,5,6,2]))"
      ],
      "execution_count": null,
      "outputs": [
        {
          "output_type": "stream",
          "text": [
            "[2, 3, 4, 5, 6, 7, 8]\n"
          ],
          "name": "stdout"
        }
      ]
    },
    {
      "cell_type": "code",
      "metadata": {
        "id": "tzsuGDEMdny1"
      },
      "source": [
        "# Laioffer solution\n",
        "class Solution(object):\n",
        "  def mergeSort(self, head):\n",
        "    if not head or not head.next:\n",
        "      return head\n",
        "    one, two = self.splitInHalf(head)\n",
        "    one = self.mergeSort(one)\n",
        "    two = self.mergeSort(two)\n",
        "    return self.merge(one, two)\n",
        "\n",
        "  def splitInHalf(self, head):\n",
        "    slow, fast = head, head.next\n",
        "    while fast and fast.next:\n",
        "      slow = slow.next\n",
        "      fast = fast.next.next\n",
        "    next = slow.next\n",
        "    slow.next = None\n",
        "    return head, next\n",
        "\n",
        "  def merge(self, one, two):\n",
        "    prev = ListNode(None)\n",
        "    curr = prev\n",
        "    while one and two:\n",
        "      if one.val < two.val:\n",
        "        curr.next = one\n",
        "        one = one.next\n",
        "      else:\n",
        "        curr.next = two\n",
        "        two = two.next\n",
        "      curr = curr.next\n",
        "    if one:\n",
        "      curr.next = one\n",
        "    else:\n",
        "      curr.next = two\n",
        "    return prev.next\n",
        "\n",
        "# time: O(nlogn)\n",
        "# space: O(logn)"
      ],
      "execution_count": null,
      "outputs": []
    },
    {
      "cell_type": "markdown",
      "metadata": {
        "id": "x8MKQlsFmBlI"
      },
      "source": [
        "###Quick Sort\n",
        "\n",
        "General\n",
        "* First randomly select a pivot value\n",
        "* Use one pointer, called store_index. This is a dynamic pointer of how many processed values are smaller than the pivot. So, everything on the left of store_index is smaller than the pivor, everything on the right is bigger. Finally, swap pivot with store_index\n",
        "* After each iteration, at least one number (pivot) is in correct order\n",
        "* Partition: Put items smaller than the pivot on the left, greater on the right\n",
        "\n",
        " * (..., store_index): < pivot\n",
        " *[store_index, i): >= pivot\n",
        " * [i,...end): unknown]\n",
        " \n",
        "\n",
        "General\n",
        "* Time: O(nlogn) = logn layers * n per layer\n",
        " * Worst case: one partition each layer --> O(n^2)\n",
        "* Space: O(logn)\n",
        "\n"
      ]
    },
    {
      "cell_type": "markdown",
      "metadata": {
        "id": "OtNuyqaT9hOc"
      },
      "source": [
        "https://app.laicode.io/app/problem/10"
      ]
    },
    {
      "cell_type": "code",
      "metadata": {
        "id": "JZKcAxi1mDGI",
        "colab": {
          "base_uri": "https://localhost:8080/",
          "height": 139
        },
        "outputId": "bf1aae04-28e7-4ee7-93a4-513832c48d6f"
      },
      "source": [
        "from random import randrange\n",
        "\n",
        "def partition(lst, start, end, pivot_index):\n",
        "  lst[pivot_index], lst[end] = lst[pivot_index], lst[end]\n",
        "  store_index = start # store index is a counter for how many are smaller than pivot\n",
        "  pivot = lst[end]    # pivot is moved to the end\n",
        "  for i in range(start, end):\n",
        "    if lst[i] < pivot:\n",
        "      lst[i], lst[store_index] = lst[store_index], lst[i]\n",
        "      print(\"swap:\", lst[i], lst[store_index], lst[pivot_index])\n",
        "      store_index += 1\n",
        "  lst[store_index], lst[end] = lst[end], lst[store_index]\n",
        "  print(\"sorted:\", lst)\n",
        "  return store_index\n",
        "# time: O(n)\n",
        "# space: O(1)\n",
        "\n",
        "def quick_sort(lst, start, end):\n",
        "  if start >= end:\n",
        "    return\n",
        "  pivot_index = randrange(start, end + 1)\n",
        "  new_pivot_index = partition(lst, start, end, pivot_index)\n",
        "  quick_sort(lst, start, new_pivot_index - 1)\n",
        "  quick_sort(lst, new_pivot_index + 1, end)\n",
        "# time: O(nlogn) // worst case O(n^2)\n",
        "# space: O(logn)\n",
        "\n",
        "alist = [28, 1, -1, 5, 3, -3, -2]\n",
        "quick_sort(alist, 0, len(alist)-1)\n",
        "print(alist)"
      ],
      "execution_count": null,
      "outputs": [
        {
          "output_type": "stream",
          "text": [
            "swap: 28 -3 -2\n",
            "sorted: [-3, -2, -1, 5, 3, 28, 1]\n",
            "swap: -1 -1 5\n",
            "sorted: [-3, -2, -1, 1, 3, 28, 5]\n",
            "swap: 3 3 3\n",
            "sorted: [-3, -2, -1, 1, 3, 5, 28]\n",
            "[-3, -2, -1, 1, 3, 5, 28]\n"
          ],
          "name": "stdout"
        }
      ]
    },
    {
      "cell_type": "markdown",
      "metadata": {
        "id": "ugSQXj6eLus0"
      },
      "source": [
        "###Rainbow Sort\n",
        "\n",
        "How it works\n",
        "* Use n pointers for n features/colors\n",
        "* Iterative to count how many of each color -> O(n)\n",
        "* Recreate the list directly using the counts (in-place) -> O(1) \n",
        "\n",
        "General\n",
        "* Applicable for defined datasets (known length)\n",
        "* Datasets can only have a finite number of values"
      ]
    },
    {
      "cell_type": "markdown",
      "metadata": {
        "id": "D9Bpodfe6-pq"
      },
      "source": [
        "**Q1 Rainbow sort**\n",
        "\n",
        "https://app.laicode.io/app/problem/11\n",
        "\n",
        "Given an array of balls, where the color of the balls can only be Red, Green or Blue, sort the balls such that all the Red balls are grouped on the left side, all the Green balls are grouped in the middle and all the Blue balls are grouped on the right side. (Red is denoted by -1, Green is denoted by 0, and Blue is denoted by 1).\n",
        "\n",
        "\n",
        "    {0} is sorted to {0}\n",
        "    {1, 0} is sorted to {0, 1}\n",
        "    {1, 0, 1, -1, 0} is sorted to {-1, 0, 0, 1, 1}"
      ]
    },
    {
      "cell_type": "code",
      "metadata": {
        "id": "jybpO8xsLt6U"
      },
      "source": [
        "'''\n",
        "move all -1 to left, 1 to right, 0 stays in the middle\n",
        "use three pointers:\n",
        "  left: everything on its left is -1\n",
        "  right: everyting on its right is 1\n",
        "'''\n",
        "\n",
        "def RainbowSort(array):\n",
        "  if not array:\n",
        "    return None\n",
        "  left = 0\n",
        "  right = len(array) - 1\n",
        "  index = 0\n",
        "  while index <= right:\n",
        "    if array[index] == -1:\n",
        "      array[index], array[left] = array[left], array[index]\n",
        "      left += 1\n",
        "      index += 1\n",
        "    elif array[index] == 1:\n",
        "      array[index], array[right] = array[right], array[index]\n",
        "      right -= 1    # note no index += 1\n",
        "    else:\n",
        "      index += 1\n",
        "  return array\n",
        "\n",
        "# time: O(n)\n",
        "# space: O(1)"
      ],
      "execution_count": null,
      "outputs": []
    },
    {
      "cell_type": "markdown",
      "metadata": {
        "id": "3gcaCGZxgzEq"
      },
      "source": [
        "##4.3. Recursion\n"
      ]
    },
    {
      "cell_type": "markdown",
      "metadata": {
        "id": "uF_e_Zy78dfm"
      },
      "source": [
        "what\n",
        "* 表面上：function calls itself\n",
        "* 实质上：boil down a big problem to smaller ones\n",
        "\n",
        "implementation\n",
        "* base case: the smallest problem to solve\n",
        "* recursive rule: how to make the problem smaller\n"
      ]
    },
    {
      "cell_type": "code",
      "metadata": {
        "id": "KiZykJST8wVb"
      },
      "source": [
        "#了解recursion层数限制\n",
        "import sys\n",
        "sys.setrecursionlimit(10000)"
      ],
      "execution_count": null,
      "outputs": []
    },
    {
      "cell_type": "code",
      "metadata": {
        "id": "6MZZ4ezZg2bS"
      },
      "source": [
        "#Q1 Fibonacci number\n",
        "\n",
        "#M1 loop\n",
        "def fib_array(n): \n",
        "  array = [0,1]\n",
        "  for i in range(2, n+1):\n",
        "    array.append(array[i-1]+array[i-2])\n",
        "  return array[n]\n",
        "#space: O(n)  needs to keep an array\n",
        "#time: O(n)\n",
        "\n",
        "#M2 Fibonacci\n",
        "def fib(n):\n",
        "  if n <= 1:\n",
        "    return n \n",
        "  num_a = 0\n",
        "  num_b = 1\n",
        "  for i in range(n-1):\n",
        "    temp = num_b\n",
        "    num_b += num_a\n",
        "    num_a = temp\n",
        "  return num_b\n",
        "#space: O(1)  only keeps previous two numbers\n",
        "#time: O(n)\n",
        "\n",
        "#M3 Recursion\n",
        "def fib(n):\n",
        "  if n <= 1:               #base case\n",
        "    return n\n",
        "  return fib(n-1)+fib(n-2) #recursive rule"
      ],
      "execution_count": null,
      "outputs": []
    },
    {
      "cell_type": "code",
      "metadata": {
        "id": "OtPicuONjAkr",
        "colab": {
          "base_uri": "https://localhost:8080/",
          "height": 34
        },
        "outputId": "e0a8f865-4159-4135-c23b-0bebf3d3032b"
      },
      "source": [
        "# Q2 Sum from 1 to n\n",
        "\n",
        "#M1 Loop\n",
        "def getSum(n):\n",
        "  acc = 0\n",
        "  for num in range(1, n+1):\n",
        "    acc += num\n",
        "  return acc\n",
        "#time: O(n)\n",
        "#space: O(1)\n",
        "\n",
        "#M2 Recursion\n",
        "def getSum(n):\n",
        "  if n == 0:      #termination point\n",
        "    return 0\n",
        "  return n + getSum(n-1)\n",
        "#time: O(n)\n",
        "#space: O(n)\n",
        "\n",
        "print(getSum(2))"
      ],
      "execution_count": null,
      "outputs": [
        {
          "output_type": "stream",
          "text": [
            "3\n"
          ],
          "name": "stdout"
        }
      ]
    },
    {
      "cell_type": "code",
      "metadata": {
        "id": "uHXhOqBpY6RA",
        "colab": {
          "base_uri": "https://localhost:8080/",
          "height": 34
        },
        "outputId": "291beee6-7bd8-44d3-b210-cb29398b50fe"
      },
      "source": [
        "# Q3 Sum even numbers from 1 to n\n",
        "def sumEven(n):\n",
        "  if n == 0:\n",
        "    return 0\n",
        "  if n % 2 == 1:\n",
        "    n -= 1\n",
        "  return n + sumEven(n-2)\n",
        "\n",
        "print(sumEven(5))"
      ],
      "execution_count": null,
      "outputs": [
        {
          "output_type": "stream",
          "text": [
            "6\n"
          ],
          "name": "stdout"
        }
      ]
    },
    {
      "cell_type": "code",
      "metadata": {
        "id": "Q8m63vgkjD01"
      },
      "source": [
        "# Q4 Print a linked list\n",
        "def printList(head):\n",
        "  if not head:\n",
        "    return\n",
        "  print(head.value)\n",
        "  printList(head.next)\n",
        "\n",
        "# Q5 Reverse a singly linked list\n",
        "def Reverse(head):\n",
        "  if head is None or head.next is None: #When Linkedlist <= 1 node\n",
        "    return head\n",
        "  #problem of the previous step\n",
        "  node = Reverse(head.next)  #this node is the original tail and the new head\n",
        "  # Add original head as the new tail\n",
        "  # M1 Since node is the head of the reversed list, \n",
        "  #    traverse from it and find the tail and add our original head to it\n",
        "  #tail = node\n",
        "  #while tail.next is not None:\n",
        "  #  tail = tail.next\n",
        "  #tail.next = head\n",
        "  #head.next = None\n",
        "  # M2 Directly reverse \n",
        "  head.next.next = head      \n",
        "  head.next = None\n",
        "  return node\n",
        "\n",
        "def Reverse(head):\n",
        "  if head is None or head.next is None: \n",
        "    return head\n",
        "  node = Reverse(head.next)  \n",
        "  head.next.next = head      \n",
        "  head.next = None\n",
        "  return node\n"
      ],
      "execution_count": null,
      "outputs": []
    },
    {
      "cell_type": "markdown",
      "metadata": {
        "id": "K48qVSkJHgTC"
      },
      "source": [
        "**Q6 Merge elements in k lists**\n",
        "\n",
        "https://app.laicode.io/app/problem/40\n",
        "\n",
        "Merge two sorted lists into one large sorted list"
      ]
    },
    {
      "cell_type": "code",
      "metadata": {
        "id": "68IlsmNkHpQe"
      },
      "source": [
        "# Q6 Merge two singly linked lists\n",
        "# Define merge(head1, head2) is a function that will merge these two singly lnked lists and return the head of the new list\n",
        "def merge(head1, head2):\n",
        "  if not head1:\n",
        "    return head2\n",
        "  if not head2:\n",
        "    return head1\n",
        "  if head1.value < head2.value:\n",
        "    head1.next = merge(head1.next, head2)\n",
        "    return head1\n",
        "  else:\n",
        "    head2.next = merge(head1, head2.next)\n",
        "    return head2\n"
      ],
      "execution_count": null,
      "outputs": []
    },
    {
      "cell_type": "code",
      "metadata": {
        "id": "HN8DIO5_HstW"
      },
      "source": [
        "# M2\n",
        "class ListNode(object):\n",
        "  def __init__(self, x):\n",
        "    self.val = x\n",
        "    self.next = None\n",
        "\n",
        "class Solution(object):\n",
        "  def merge(self, one, two):\n",
        "    if one is None and two is None:\n",
        "      return None\n",
        "    fake = ListNode(0)\n",
        "    cur = fake\n",
        "    while on is not None and two is not None:\n",
        "      if one.val < two.val:\n",
        "        cur.next = one\n",
        "        one = one.next\n",
        "      else:\n",
        "        cur.next = two\n",
        "        two = two.next\n",
        "      cur = cur.next\n",
        "    if one is not None:\n",
        "      cur.next = one\n",
        "    if two is not None:\n",
        "      cur.next = two\n",
        "    return fake.next\n",
        "  \n",
        "# time: O(len(one) + len(two))\n",
        "# space: O(1)"
      ],
      "execution_count": null,
      "outputs": []
    },
    {
      "cell_type": "markdown",
      "metadata": {
        "id": "R0Fow7YUIPLp"
      },
      "source": [
        "1. 2 lists\n",
        "2. 3 lists?\n",
        " * merge two first then merge the third\n",
        "3. 4 lists?\n",
        " * merge every pai\n",
        " * merge(merge(list1, list2), merge(list2, list4)\n",
        "4. k lists?\n",
        "* repeatedly merge every paid, and merge/reduce each stage\n",
        "  * 10 lists -> 5 lists -> 2 lists + 1 list -> 1 list + 1 list -> 1 list\n",
        "  * time: stage * n * k = log(k)*n*k = O(n*k*logk)\n",
        "  * space: O(1) + O(recursion) = O(log(k))\n",
        "* use heap\n",
        " * min-heap solution1: 初始情况是所有头节点。每次Pop当前最小的node, append its next node\n",
        " * time: O(n*k*logk)\n",
        " * space: O(k)\n",
        " * min-heap solution 2: 所有node全部放进去\n",
        " * time: O(n*k*log(n*k))\n",
        " * space: O(n*k)"
      ]
    },
    {
      "cell_type": "markdown",
      "metadata": {
        "id": "wgdJMf_1O5D5"
      },
      "source": [
        "https://app.laicode.io/app/problem/180"
      ]
    },
    {
      "cell_type": "code",
      "metadata": {
        "id": "gKR5nUzLN-YA"
      },
      "source": [
        "# merge k arrays\n",
        "# M1 iterative\n",
        "# M2 binary reudction\n",
        "# M3 k-way merge - heap\n",
        "\n",
        "import heapq\n",
        "class Solution(object):\n",
        "  def merge(self, arrayOfArrays):\n",
        "    heap = []\n",
        "    for i in range(len(arrayOfArrays)):\n",
        "      if len(arrayOfArrays[i]):\n",
        "        heap.append((arrayOfArrays[i][0], i, 0))\n",
        "    heapq.heapify(heap)\n",
        "    result = []\n",
        "    while heap:\n",
        "      val, index_array, index_element = heapq.heappop(heap)\n",
        "      result.append(val)\n",
        "      if index_element + 1 < len(arrayOfArrays[index_array]):\n",
        "        heapq.heappush(heap, (arrayOfArrays[index_array][index_element + 1], index_array, index_element + 1))\n",
        "    return result\n",
        "\n",
        "# time: O(k + n*logk)  n is number of elements, k is number of array\n",
        "# space: O(k)"
      ],
      "execution_count": null,
      "outputs": []
    },
    {
      "cell_type": "markdown",
      "metadata": {
        "id": "9cICeJ0YO6Wd"
      },
      "source": []
    },
    {
      "cell_type": "markdown",
      "metadata": {
        "id": "gUSsQhCLOLNP"
      },
      "source": [
        "####Recursion - Bottom Up\n",
        "\n",
        "Return values from bottom to top\n",
        "\n",
        "1. What do you expect from your left/right child?\n",
        "2. What do you want to do in the current layer?\n",
        "3. What do you want to return to your parents?"
      ]
    },
    {
      "cell_type": "markdown",
      "metadata": {
        "id": "oZNbcfglOYd2"
      },
      "source": [
        "**Q1 Get height of the tree**"
      ]
    },
    {
      "cell_type": "code",
      "metadata": {
        "id": "PyLbgkHzOTSv"
      },
      "source": [
        "def get_height(root):\n",
        "  if not root:\n",
        "    return 0\n",
        "  left = get_height(root.left)\n",
        "  right = get_height(root.right)\n",
        "  return 1 + max(left, right)\n",
        "\n",
        "# time: O(n)\n",
        "# space: O(h)\n",
        "# post order traversal"
      ],
      "execution_count": null,
      "outputs": []
    },
    {
      "cell_type": "markdown",
      "metadata": {
        "id": "9n3M631VOvR9"
      },
      "source": [
        "**Q2 Get nodes/size of the tree**"
      ]
    },
    {
      "cell_type": "code",
      "metadata": {
        "id": "s_obgYjROzQ7"
      },
      "source": [
        "def get_size(root):\n",
        "  if not root:\n",
        "    return 0\n",
        "  left = get_size(root.left)\n",
        "  right = get_size(root.right)\n",
        "  return 1 + right + left\n",
        "  \n",
        "# time: O(n)\n",
        "# space: O(h)\n",
        "# post order traversal"
      ],
      "execution_count": null,
      "outputs": []
    },
    {
      "cell_type": "markdown",
      "metadata": {
        "id": "7x7wqr7uQoIz"
      },
      "source": [
        "**Q3 Get sum of the tree**"
      ]
    },
    {
      "cell_type": "code",
      "metadata": {
        "id": "b5utnJvPQrOS"
      },
      "source": [
        "def get_sum(root):\n",
        "  if not root:\n",
        "    return 0\n",
        "  left = get_sum(root.left)\n",
        "  right = get_sum(root.right)\n",
        "  return root.val + right + left\n",
        "  \n",
        "# time: O(n)\n",
        "# space: O(h)\n",
        "# post order traversal"
      ],
      "execution_count": null,
      "outputs": []
    },
    {
      "cell_type": "markdown",
      "metadata": {
        "id": "j0vqi4ZDSF3D"
      },
      "source": [
        "**Q4 Store the number of nodes in its left child tree**\n",
        "\n",
        "```\n",
        "          root3(3)\n",
        "        /      \\\n",
        "    node(1)   node2(0)\n",
        "   /     \\\n",
        "node3(0) node4(0)\n",
        "```\n",
        "\n"
      ]
    },
    {
      "cell_type": "code",
      "metadata": {
        "id": "QTfp3L2-Sd7e"
      },
      "source": [
        "'''\n",
        "Base case: root = None, return 0\n",
        "Recursive rule:\n",
        "  left_total: left child's total nodes\n",
        "  right_total: right child'es total node\n",
        "  root.total_left = left total\n",
        "  return 1 + left_total + right_total\n",
        "So, still needs to check the right node\n",
        "\n",
        "1. what do you expect from your left child/right child?\n",
        "  total number of nodes in my left subtree\n",
        "  total number of nodes in my right subtree\n",
        "2. What do you want to do in the current layer?\n",
        "  store the number of nodes in the left subtree\n",
        "3. What do you want to return to your parent?\n",
        "  return total number of nodes\n",
        "'''\n",
        "class TreeNode:\n",
        "  def __init__(self, x):\n",
        "    self.val = x\n",
        "    self.left = None\n",
        "    self.right = None\n",
        "    self.total_left = 0  # number of nodes in its left subtree\n",
        "    \n",
        "def change_subtree(node):\n",
        "  if node is None:\n",
        "    return 0\n",
        "  left_total = change_subtree(node.left)\n",
        "  right_total = change_subtree(node.right)\n",
        "  node.total_left = left_total         # this is the value we want\n",
        "  return 1 + left_total + right_total  # return used for recursion\n",
        "\n",
        "# Answers are all saved in self.total_left\n",
        "# time: O(n)\n",
        "# space: O(h) not counting the total_left added for every one"
      ],
      "execution_count": null,
      "outputs": []
    },
    {
      "cell_type": "markdown",
      "metadata": {
        "id": "ZdJFzgPDbgyF"
      },
      "source": [
        "**Q5 Node with Max Diff**\n",
        "\n",
        "Find the node with the max diff in the total number of descendants in its left subtree and right subtree\n",
        "\n",
        "```\n",
        "          root3(0)\n",
        "        /      \\\n",
        "    node(0)   node2(2)\n",
        "   /     \\         \\ \n",
        "node3(0) node4(0)  node5(1)\n",
        "                      \\\n",
        "                       node6(0)\n",
        "return: 2\n",
        "```\n"
      ]
    },
    {
      "cell_type": "code",
      "metadata": {
        "id": "XAw10ggrHl9W"
      },
      "source": [
        "'''\n",
        "base case: root is None\n",
        "Need a global variable for global max = -1\n",
        "\n",
        "1. What do you expect from your left/right child?\n",
        "  left_total \n",
        "  right_total\n",
        "2. What do you want to do in the current layer?\n",
        "  diff = abs(left_total - right_total)\n",
        "  global_max_diff = max(diff, global_max_diff)\n",
        "3. What do you want to return to your parent?\n",
        "  return 1 + left_total + right_total\n",
        "\n",
        "Disadvantage of using global variables:\n",
        "- Before every function call, needs to be reset to -1\n",
        "'''\n",
        "\n",
        "# M1 define an extra def to return and use global variable\n",
        "\n",
        "global_max = -1  # if Empty tree return - 1\n",
        "res = None\n",
        "\n",
        "def node_diff(root):\n",
        "  if root is None:\n",
        "    return 0\n",
        "  left_total = node_diff(root.left)\n",
        "  right_total = node_diff(root.right)\n",
        "  global global_max\n",
        "  global res\n",
        "  if abs(left_total - right_total) > global_max:\n",
        "    global_max = abs(left_total - right_total)\n",
        "    res = root\n",
        "  return left_total + right_total + 1\n",
        "\n",
        "def get_max_diff(root):\n",
        "  global global_max\n",
        "  global res\n",
        "  node_diff(root)\n",
        "  return res  \n",
        "\n",
        "# time: O(n)\n",
        "# space: O(h)\n"
      ],
      "execution_count": null,
      "outputs": []
    },
    {
      "cell_type": "code",
      "metadata": {
        "id": "fH_oysy8Yp7E"
      },
      "source": [
        "# M2 define a class and have object.global_max\n",
        "class ResultWrapper:\n",
        "  def __init__(self): # res\n",
        "    self.global_max = -1\n",
        "    self.solution = None\n",
        "\n",
        "  def max_diff_node(root, res):\n",
        "    if not root:\n",
        "      return 0\n",
        "    left_total = node_diff(root.left)\n",
        "    right_total = node_diff(root.right)\n",
        "    if abs(left_total - right_total) > res.global_max:\n",
        "      res.global_max = abs(left_total - right_total)\n",
        "      res.solution = root\n",
        "    return left_total + right_total + 1\n",
        "\n",
        "  def get_max_diff(root):\n",
        "    res = ResultWrapper()\n",
        "    max_diff_node(root, res)\n",
        "    return res.solution"
      ],
      "execution_count": null,
      "outputs": []
    },
    {
      "cell_type": "code",
      "metadata": {
        "id": "xbzd6AceZPIV"
      },
      "source": [
        "# M3 return max for each iteration (pending check)\n",
        "\n",
        "def node_diff(root):\n",
        "  if root is None:\n",
        "    return 0\n",
        "  left_total, global_max, res = node_diff(root.left)\n",
        "  right_total, global_max, res = node_diff(root.right)\n",
        "  if abs(left_total - right_total) > global_max:\n",
        "    global_max = abs(left_total - right_total)\n",
        "    res = root\n",
        "  return left_total + right_total + 1, global_max, res\n",
        "\n",
        "def get_max_diff(root):\n",
        "  total, global_max, res = node_diff(root)\n",
        "  return res  "
      ],
      "execution_count": null,
      "outputs": []
    },
    {
      "cell_type": "code",
      "metadata": {
        "id": "gwUzVFUuahws",
        "colab": {
          "base_uri": "https://localhost:8080/",
          "height": 362
        },
        "outputId": "d3427958-a127-43db-e585-b515087a7c49"
      },
      "source": [
        "root = TreeNode(0)\n",
        "root.left = TreeNode(1)\n",
        "root.left.left = TreeNode(3)\n",
        "root.left.right = TreeNode(4)\n",
        "root.right = TreeNode(2)\n",
        "root.right.right = TreeNode(5)\n",
        "root.right.right = TreeNode(6)\n",
        "\n",
        "res = get_max_diff(root)\n",
        "print(res.val)"
      ],
      "execution_count": null,
      "outputs": [
        {
          "output_type": "error",
          "ename": "TypeError",
          "evalue": "ignored",
          "traceback": [
            "\u001b[0;31m---------------------------------------------------------------------------\u001b[0m",
            "\u001b[0;31mTypeError\u001b[0m                                 Traceback (most recent call last)",
            "\u001b[0;32m<ipython-input-14-56d48791f126>\u001b[0m in \u001b[0;36m<module>\u001b[0;34m()\u001b[0m\n\u001b[1;32m      7\u001b[0m \u001b[0mroot\u001b[0m\u001b[0;34m.\u001b[0m\u001b[0mright\u001b[0m\u001b[0;34m.\u001b[0m\u001b[0mright\u001b[0m \u001b[0;34m=\u001b[0m \u001b[0mTreeNode\u001b[0m\u001b[0;34m(\u001b[0m\u001b[0;36m6\u001b[0m\u001b[0;34m)\u001b[0m\u001b[0;34m\u001b[0m\u001b[0;34m\u001b[0m\u001b[0m\n\u001b[1;32m      8\u001b[0m \u001b[0;34m\u001b[0m\u001b[0m\n\u001b[0;32m----> 9\u001b[0;31m \u001b[0mres\u001b[0m \u001b[0;34m=\u001b[0m \u001b[0mget_max_diff\u001b[0m\u001b[0;34m(\u001b[0m\u001b[0mroot\u001b[0m\u001b[0;34m)\u001b[0m\u001b[0;34m\u001b[0m\u001b[0;34m\u001b[0m\u001b[0m\n\u001b[0m\u001b[1;32m     10\u001b[0m \u001b[0mprint\u001b[0m\u001b[0;34m(\u001b[0m\u001b[0mres\u001b[0m\u001b[0;34m.\u001b[0m\u001b[0mval\u001b[0m\u001b[0;34m)\u001b[0m\u001b[0;34m\u001b[0m\u001b[0;34m\u001b[0m\u001b[0m\n",
            "\u001b[0;32m<ipython-input-13-839b2e940601>\u001b[0m in \u001b[0;36mget_max_diff\u001b[0;34m(root)\u001b[0m\n\u001b[1;32m     12\u001b[0m \u001b[0;34m\u001b[0m\u001b[0m\n\u001b[1;32m     13\u001b[0m \u001b[0;32mdef\u001b[0m \u001b[0mget_max_diff\u001b[0m\u001b[0;34m(\u001b[0m\u001b[0mroot\u001b[0m\u001b[0;34m)\u001b[0m\u001b[0;34m:\u001b[0m\u001b[0;34m\u001b[0m\u001b[0;34m\u001b[0m\u001b[0m\n\u001b[0;32m---> 14\u001b[0;31m   \u001b[0mtotal\u001b[0m\u001b[0;34m,\u001b[0m \u001b[0mglobal_max\u001b[0m\u001b[0;34m,\u001b[0m \u001b[0mres\u001b[0m \u001b[0;34m=\u001b[0m \u001b[0mnode_diff\u001b[0m\u001b[0;34m(\u001b[0m\u001b[0mroot\u001b[0m\u001b[0;34m)\u001b[0m\u001b[0;34m\u001b[0m\u001b[0;34m\u001b[0m\u001b[0m\n\u001b[0m\u001b[1;32m     15\u001b[0m   \u001b[0;32mreturn\u001b[0m \u001b[0mres\u001b[0m\u001b[0;34m\u001b[0m\u001b[0;34m\u001b[0m\u001b[0m\n",
            "\u001b[0;32m<ipython-input-13-839b2e940601>\u001b[0m in \u001b[0;36mnode_diff\u001b[0;34m(root)\u001b[0m\n\u001b[1;32m      4\u001b[0m   \u001b[0;32mif\u001b[0m \u001b[0mroot\u001b[0m \u001b[0;32mis\u001b[0m \u001b[0;32mNone\u001b[0m\u001b[0;34m:\u001b[0m\u001b[0;34m\u001b[0m\u001b[0;34m\u001b[0m\u001b[0m\n\u001b[1;32m      5\u001b[0m     \u001b[0;32mreturn\u001b[0m \u001b[0;36m0\u001b[0m\u001b[0;34m\u001b[0m\u001b[0;34m\u001b[0m\u001b[0m\n\u001b[0;32m----> 6\u001b[0;31m   \u001b[0mleft_total\u001b[0m\u001b[0;34m,\u001b[0m \u001b[0mglobal_max\u001b[0m\u001b[0;34m,\u001b[0m \u001b[0mres\u001b[0m \u001b[0;34m=\u001b[0m \u001b[0mnode_diff\u001b[0m\u001b[0;34m(\u001b[0m\u001b[0mroot\u001b[0m\u001b[0;34m.\u001b[0m\u001b[0mleft\u001b[0m\u001b[0;34m)\u001b[0m\u001b[0;34m\u001b[0m\u001b[0;34m\u001b[0m\u001b[0m\n\u001b[0m\u001b[1;32m      7\u001b[0m   \u001b[0mright_total\u001b[0m\u001b[0;34m,\u001b[0m \u001b[0mglobal_max\u001b[0m\u001b[0;34m,\u001b[0m \u001b[0mres\u001b[0m \u001b[0;34m=\u001b[0m \u001b[0mnode_diff\u001b[0m\u001b[0;34m(\u001b[0m\u001b[0mroot\u001b[0m\u001b[0;34m.\u001b[0m\u001b[0mright\u001b[0m\u001b[0;34m)\u001b[0m\u001b[0;34m\u001b[0m\u001b[0;34m\u001b[0m\u001b[0m\n\u001b[1;32m      8\u001b[0m   \u001b[0;32mif\u001b[0m \u001b[0mabs\u001b[0m\u001b[0;34m(\u001b[0m\u001b[0mleft_total\u001b[0m \u001b[0;34m-\u001b[0m \u001b[0mright_total\u001b[0m\u001b[0;34m)\u001b[0m \u001b[0;34m>\u001b[0m \u001b[0mglobal_max\u001b[0m\u001b[0;34m:\u001b[0m\u001b[0;34m\u001b[0m\u001b[0;34m\u001b[0m\u001b[0m\n",
            "\u001b[0;32m<ipython-input-13-839b2e940601>\u001b[0m in \u001b[0;36mnode_diff\u001b[0;34m(root)\u001b[0m\n\u001b[1;32m      4\u001b[0m   \u001b[0;32mif\u001b[0m \u001b[0mroot\u001b[0m \u001b[0;32mis\u001b[0m \u001b[0;32mNone\u001b[0m\u001b[0;34m:\u001b[0m\u001b[0;34m\u001b[0m\u001b[0;34m\u001b[0m\u001b[0m\n\u001b[1;32m      5\u001b[0m     \u001b[0;32mreturn\u001b[0m \u001b[0;36m0\u001b[0m\u001b[0;34m\u001b[0m\u001b[0;34m\u001b[0m\u001b[0m\n\u001b[0;32m----> 6\u001b[0;31m   \u001b[0mleft_total\u001b[0m\u001b[0;34m,\u001b[0m \u001b[0mglobal_max\u001b[0m\u001b[0;34m,\u001b[0m \u001b[0mres\u001b[0m \u001b[0;34m=\u001b[0m \u001b[0mnode_diff\u001b[0m\u001b[0;34m(\u001b[0m\u001b[0mroot\u001b[0m\u001b[0;34m.\u001b[0m\u001b[0mleft\u001b[0m\u001b[0;34m)\u001b[0m\u001b[0;34m\u001b[0m\u001b[0;34m\u001b[0m\u001b[0m\n\u001b[0m\u001b[1;32m      7\u001b[0m   \u001b[0mright_total\u001b[0m\u001b[0;34m,\u001b[0m \u001b[0mglobal_max\u001b[0m\u001b[0;34m,\u001b[0m \u001b[0mres\u001b[0m \u001b[0;34m=\u001b[0m \u001b[0mnode_diff\u001b[0m\u001b[0;34m(\u001b[0m\u001b[0mroot\u001b[0m\u001b[0;34m.\u001b[0m\u001b[0mright\u001b[0m\u001b[0;34m)\u001b[0m\u001b[0;34m\u001b[0m\u001b[0;34m\u001b[0m\u001b[0m\n\u001b[1;32m      8\u001b[0m   \u001b[0;32mif\u001b[0m \u001b[0mabs\u001b[0m\u001b[0;34m(\u001b[0m\u001b[0mleft_total\u001b[0m \u001b[0;34m-\u001b[0m \u001b[0mright_total\u001b[0m\u001b[0;34m)\u001b[0m \u001b[0;34m>\u001b[0m \u001b[0mglobal_max\u001b[0m\u001b[0;34m:\u001b[0m\u001b[0;34m\u001b[0m\u001b[0;34m\u001b[0m\u001b[0m\n",
            "\u001b[0;32m<ipython-input-13-839b2e940601>\u001b[0m in \u001b[0;36mnode_diff\u001b[0;34m(root)\u001b[0m\n\u001b[1;32m      4\u001b[0m   \u001b[0;32mif\u001b[0m \u001b[0mroot\u001b[0m \u001b[0;32mis\u001b[0m \u001b[0;32mNone\u001b[0m\u001b[0;34m:\u001b[0m\u001b[0;34m\u001b[0m\u001b[0;34m\u001b[0m\u001b[0m\n\u001b[1;32m      5\u001b[0m     \u001b[0;32mreturn\u001b[0m \u001b[0;36m0\u001b[0m\u001b[0;34m\u001b[0m\u001b[0;34m\u001b[0m\u001b[0m\n\u001b[0;32m----> 6\u001b[0;31m   \u001b[0mleft_total\u001b[0m\u001b[0;34m,\u001b[0m \u001b[0mglobal_max\u001b[0m\u001b[0;34m,\u001b[0m \u001b[0mres\u001b[0m \u001b[0;34m=\u001b[0m \u001b[0mnode_diff\u001b[0m\u001b[0;34m(\u001b[0m\u001b[0mroot\u001b[0m\u001b[0;34m.\u001b[0m\u001b[0mleft\u001b[0m\u001b[0;34m)\u001b[0m\u001b[0;34m\u001b[0m\u001b[0;34m\u001b[0m\u001b[0m\n\u001b[0m\u001b[1;32m      7\u001b[0m   \u001b[0mright_total\u001b[0m\u001b[0;34m,\u001b[0m \u001b[0mglobal_max\u001b[0m\u001b[0;34m,\u001b[0m \u001b[0mres\u001b[0m \u001b[0;34m=\u001b[0m \u001b[0mnode_diff\u001b[0m\u001b[0;34m(\u001b[0m\u001b[0mroot\u001b[0m\u001b[0;34m.\u001b[0m\u001b[0mright\u001b[0m\u001b[0;34m)\u001b[0m\u001b[0;34m\u001b[0m\u001b[0;34m\u001b[0m\u001b[0m\n\u001b[1;32m      8\u001b[0m   \u001b[0;32mif\u001b[0m \u001b[0mabs\u001b[0m\u001b[0;34m(\u001b[0m\u001b[0mleft_total\u001b[0m \u001b[0;34m-\u001b[0m \u001b[0mright_total\u001b[0m\u001b[0;34m)\u001b[0m \u001b[0;34m>\u001b[0m \u001b[0mglobal_max\u001b[0m\u001b[0;34m:\u001b[0m\u001b[0;34m\u001b[0m\u001b[0;34m\u001b[0m\u001b[0m\n",
            "\u001b[0;31mTypeError\u001b[0m: 'int' object is not iterable"
          ]
        }
      ]
    },
    {
      "cell_type": "markdown",
      "metadata": {
        "id": "VeeWsZyzb2Jf"
      },
      "source": [
        "**Q6 Find Min Depth of a Binary Tree**\n",
        "\n",
        "Min depth = number of nodes along the shortest path from the root node down to the nearest leaf node\n",
        "\n",
        "\n",
        "```\n",
        "        3\n",
        "      /  \\\n",
        "     9    20\n",
        "         /  \\\n",
        "        15   7\n",
        "return: 2\n",
        "```\n",
        "\n",
        "\n"
      ]
    },
    {
      "cell_type": "code",
      "metadata": {
        "id": "kDXBeJrs5pSA"
      },
      "source": [
        "# S1 Wrong -> problem when only has one child\n",
        "'''\n",
        "        3\n",
        "         \\\n",
        "          20\n",
        "         /  \\\n",
        "        15   7\n",
        "\n",
        "would return 1 but it is actually 3\n",
        "'''\n",
        "\n",
        "def getHeight(root):\n",
        "  if root is None: \n",
        "    return 0\n",
        "  left = getHeight(root.left)\n",
        "  right = getHeight(root.right)\n",
        "  return min(left, right) + 1\n"
      ],
      "execution_count": null,
      "outputs": []
    },
    {
      "cell_type": "code",
      "metadata": {
        "id": "J3mpO0U-b-bh"
      },
      "source": [
        "# S2\n",
        "def getHeight(root):\n",
        "  if root is None: # edge case, just to handle root is None\n",
        "    return 0\n",
        "  if root.left is None and root.right is None: # base case, leaf node\n",
        "    return 1\n",
        "  left = getHeight(root.left) if root.left else float('inf') # sys.maxint\n",
        "  right = getHeight(root.right) if root.right else float('inf')\n",
        "  return min(left, right) + 1\n",
        "\n",
        "# time: O(n)\n",
        "# space: O(logn)\n",
        "\n",
        "# if root is None -> anytime\n",
        "# if root.left is None and root.right is None -> when Q leaf\n",
        "# If not left and right -> set left as inf so will count nodes on the right"
      ],
      "execution_count": null,
      "outputs": []
    },
    {
      "cell_type": "markdown",
      "metadata": {
        "id": "bYuMShrkbBQX"
      },
      "source": [
        "**Q7 Max Path Sum**\n",
        "\n",
        "Given a binary tree in which each node contains an integer number. Find the maximum possible path sum from a leaf to root.\n",
        "\n",
        "\n",
        "https://app.laicode.io/app/problem/639\n",
        "\n",
        "\n",
        "\n",
        "```\n",
        "      10\n",
        "     /  \\\n",
        "    -2   7\n",
        "   / \\\n",
        "  8  -4\n",
        "\n",
        "return: 17\n",
        "```\n",
        "\n",
        "* Divide: split into left and right subtree\n",
        "* Conquer: solve left and right subtree\n",
        "* Combine: max(left, right) + root.val\n",
        "\n"
      ]
    },
    {
      "cell_type": "code",
      "metadata": {
        "id": "WTgK14sebdfg"
      },
      "source": [
        "# Laioffer solution - bottom up\n",
        "class Solution(object):\n",
        "  def maxPathSumLeafToRoot(self, root):\n",
        "    if root is None:  # base case 2, use special number (-inf) to deal with special cases\n",
        "      return -float('inf')\n",
        "    if root.left is None and root.right is None: # base case 1\n",
        "      return root.val\n",
        "    left = self.maxPathSumLeafToRoot(root.left)\n",
        "    right = self.maxPathSumLeafToRoot(root.right)\n",
        "    return max(left, right) + root.val"
      ],
      "execution_count": null,
      "outputs": []
    },
    {
      "cell_type": "code",
      "metadata": {
        "id": "voUww7ndqYpY"
      },
      "source": [
        "# Laioffer solution - top down I\n",
        "class Solution(object):\n",
        "  def maxPathSumLeafToRoot(self, root):\n",
        "    if root is None:\n",
        "      return -float('inf')\n",
        "    self.retValue = -float('inf')\n",
        "    self.helper(root, 0)\n",
        "    return self.retValue\n",
        "    \n",
        "def helper(self, node, curSum):\n",
        "  if node is None:\n",
        "    return\n",
        "  if node.left is None and node.right is None:\n",
        "    self.retValue = max(self.retValue, curSum + node.val)\n",
        "    return\n",
        "  self.helper(node.left, curSum + node.val)\n",
        "  self.helper(node.right, curSum + node.val)"
      ],
      "execution_count": null,
      "outputs": []
    },
    {
      "cell_type": "code",
      "metadata": {
        "id": "LkptgECCr0bk"
      },
      "source": [
        "# Laioffer solution - top down II\n",
        "class Solution(object):\n",
        "  def maxPathSumLeafToRoot(self, root):\n",
        "    if root is None:\n",
        "      return -float('inf')\n",
        "    self.retValue = -float('inf')\n",
        "    self.helper(root, root.val) # change\n",
        "    return self.retValue\n",
        "    \n",
        "def helper(self, node, curSum):\n",
        "  if node is None:\n",
        "    return\n",
        "  if node.left is None and node.right is None:\n",
        "    self.retValue = max(self.retValue, curSum)\n",
        "    return\n",
        "  if node.left:\n",
        "    self.helper(node.left, curSum + node.left.val)\n",
        "  if node.right:\n",
        "    self.helper(node.right, curSum + node.right.val)"
      ],
      "execution_count": null,
      "outputs": []
    },
    {
      "cell_type": "markdown",
      "metadata": {
        "id": "d37-Rbw9eU-9"
      },
      "source": [
        "**Q8 Maximum Subarray**\n",
        "\n",
        "Given an integer array nums, find the continuous subarray (containing at least one number) which has the largest sum and return its sum\n",
        "\n",
        "```\n",
        "Input: [-2,1,-3,4,-1,2,1,-5,4]\n",
        "Output: 6 = 4 + -1 + 2 + 1\n",
        "```\n",
        "* Divide: split the array into left and right\n",
        "* Conquer: get largest sum from left, right, and crossing boundary (mid) array\n",
        " * Crossing boundary 中心开发: must include center and some of both left and right subarrays. We do not need to consider cases when all in right is negative, because it would be the same as the right subarray\n",
        "\n",
        "\n",
        "```\n",
        "Left and Right:\n",
        "    -2 -4 3 -1 5 7 -7 -1\n",
        "     /             \\\n",
        " -2 -4 3 -1      5 7 -7 -1\n",
        "   [3] = 3         [5 7] = 12\n",
        "     \\              /\n",
        "          combine\n",
        "        [3 -1 5 7] = 14\n",
        "\n",
        "Mid:\n",
        "  Start from mid\n",
        "  Expand to left and right\n",
        "```\n",
        "\n",
        "\n",
        "* Combine: max(left_result, right_result, mid_result)\n"
      ]
    },
    {
      "cell_type": "code",
      "metadata": {
        "id": "VRQuFkCCes9Z"
      },
      "source": [
        "# M1 Brute Force\n",
        "# Fix one pointer, calculate max subarray. Repeat for each pointer => n^2"
      ],
      "execution_count": null,
      "outputs": []
    },
    {
      "cell_type": "code",
      "metadata": {
        "id": "IWqJX6Q1e6LO"
      },
      "source": [
        "# M2 Divide and conquer\n",
        "\n",
        "def getMaxCenterSum(A, center, left, right):\n",
        "  maxLeftBorderSum = A[center]\n",
        "  leftBorderSum = 0\n",
        "  for i in range(center, left - 1, -1): # 向左开花，包含center\n",
        "    leftBorderSum += A[i]\n",
        "    maxLeftBorderSum = max(leftBorderSum, maxLeftBorderSum)\n",
        "  maxRightBorderSum = A[center + 1]\n",
        "  rightBorderSum = 0\n",
        "  for i in range(center + 1, right + 1, 1): # 向右开花，包含center\n",
        "    rightBorderSum += A[i]\n",
        "    maxRightBorderSum = max(maxRightBorderSum, rightBorderSum)\n",
        "  return maxLeftBorderSum + maxRightBorderSum\n",
        "# time: O(n)\n",
        "\n",
        "def maxSubarray(A, left, right):  \n",
        "  if left == right: # base case\n",
        "    return A[left]\n",
        "  center = (left + right) // 2\n",
        "  maxLeftSum = maxSubarray(A, left, center)\n",
        "  maxRightSum = maxSubarray(A, center + 1, right)\n",
        "  maxCenterSum = getMaxCenterSum(A, center, left, right)\n",
        "  maxSum = max(maxLeftSum, maxRightSum, maxCenterSum)\n",
        "  return maxSum\n",
        "# time: O(nlogn)\n",
        "# space: O(logn)"
      ],
      "execution_count": null,
      "outputs": []
    },
    {
      "cell_type": "code",
      "metadata": {
        "id": "yCZf83Yjmckh"
      },
      "source": [
        "# M3 Optimal Solution\n",
        "# time: O(n)\n",
        "'''\n",
        "The optimal subarray must end with a number. \n",
        "We can calculate the subopimal subarray that ends with each number, then find max\n",
        "Use a helper array M that stores the suboptimal sums, len(M) == len(a)\n",
        "M[i] = the largest sum of a subarray that ends at a[i]\n",
        "  A: -2 -3 4 -1 -2 1 5 -3\n",
        "  M: -2 -3 4  3  1 2 7  4 \n",
        "  To calculate each iteration, use previous max\n",
        "M[0] = a[0]\n",
        "M[i] = if M[i-1] < 0: a[i]; else: M[i-1] + a[i]\n",
        "return max(M[i])\n",
        "\n",
        "\n",
        "initialize:\n",
        "  global_max = A[0]\n",
        "  max_ending_here = 0 \n",
        "\n",
        "loop for each element:\n",
        "  if max_ending_here < 0:\n",
        "    max_ending_here = a[i]\n",
        "  else:\n",
        "    max_ending_here = max_ending_here + a[i]\n",
        "  global_max = max(global_max, max_ending_here)\n",
        "return global_max\n",
        "\n",
        "'''\n"
      ],
      "execution_count": null,
      "outputs": []
    },
    {
      "cell_type": "markdown",
      "metadata": {
        "id": "vNWSE3lZtcwR"
      },
      "source": [
        "**Q9 Binary Tree Path Sum to Target I**\n",
        "\n",
        "Given a binary tree and a target sum, determine if the tree has a root-to-leaf path such that adding up all the values along the path equals the given target.\n",
        "\n",
        "https://app.laicode.io/app/problem/440"
      ]
    },
    {
      "cell_type": "code",
      "metadata": {
        "id": "kC7vYrlvvJay"
      },
      "source": [
        "# M1 Top down\n",
        "class Solution(object):\n",
        "  def exist(self, root, target):\n",
        "    self.target = target\n",
        "    self.ret = False\n",
        "    self.helper(root, 0)\n",
        "    return self.ret\n",
        "  \n",
        "  def helper(self, root, current):\n",
        "    if root is None:\n",
        "      return False\n",
        "    if root.left is None and root.right is None:\n",
        "      self.ret = (current + root.val == self.target)\n",
        "      return\n",
        "    self.helper(root.left, current + root.val)\n",
        "    self.helper(root.right, current + root.val)\n",
        "    return"
      ],
      "execution_count": null,
      "outputs": []
    },
    {
      "cell_type": "code",
      "metadata": {
        "id": "7GiL9L6vvrf-"
      },
      "source": [
        "# M2 Bottom up\n",
        "'''\n",
        "1. What do you expect from your left/right child?\n",
        "  True: any root-to-leaf path include child has target sum\n",
        "  False: none\n",
        "2. What do you want to do in the current layer?\n",
        "  do nothing pass current sum down\n",
        "3. What do you want to return to your parent?\n",
        "  True: any root-to-leaf path include you has target sum\n",
        "  False: None\n",
        "'''\n",
        "class Solution(object):\n",
        "  def exist(self, root, target):\n",
        "    self.target = target\n",
        "    return self.helper(root, 0)\n",
        "  \n",
        "  def helper(self, root, current):\n",
        "    if root is None:\n",
        "      return False\n",
        "    if root.left is None and root.right is None:\n",
        "      return current + root.val == self.target\n",
        "    return self.helper(root.left, current + root.val) or self.helper(root.right, current + root.val)\n"
      ],
      "execution_count": null,
      "outputs": []
    },
    {
      "cell_type": "markdown",
      "metadata": {
        "id": "MzrffM5hw3ew"
      },
      "source": [
        "**Q10 Max Path Sum Binary Tree III**\n",
        "\n",
        "Given a binary tree in which each node contains an integer number. Find the maximum possible subpath sum(both the starting and ending node of the subpath should be on the same path from root to one of the leaf nodes, and the subpath is allowed to contain only one node).\n",
        "\n",
        "\n",
        "\n",
        "```\n",
        "        -5\n",
        "       /  \\\n",
        "      2   11\n",
        "         /  \\\n",
        "        6   14\n",
        "return: 11 + 14 = 25\n",
        "```\n",
        "\n",
        "\n",
        "\n",
        "https://app.laicode.io/app/problem/140"
      ]
    },
    {
      "cell_type": "code",
      "metadata": {
        "id": "gprBlgb3xJU4"
      },
      "source": [
        "# M1 Using Q9 approach\n",
        "self.result = -100 # -float('inf')\n",
        "max_ending_here = 0\n",
        "def helper(self, root, max_ending_here):\n",
        "  if root is None:\n",
        "    return\n",
        "  if max_ending_here < 0:\n",
        "    max_ending_here = 0 + root.value\n",
        "  else:\n",
        "    max_ending_here = max_ending_here + root.value\n",
        "  self.result = max(self.result, max_ending_here)\n",
        "  self.helper(root.left, max_ending_here)\n",
        "  self.helper(root.right, max_ending_here)"
      ],
      "execution_count": null,
      "outputs": []
    },
    {
      "cell_type": "code",
      "metadata": {
        "id": "E_z9Jd18y8Zu"
      },
      "source": [
        "# M2 Bottom up\n",
        "'''\n",
        "1. What do you expect from your left/right child?\n",
        "  left: the largest sum path that starts at ichild\n",
        "  right: the largest sum path that starts at rchild\n",
        "2. What do you want to do in the current layer?\n",
        "  update global_max with max(leftSum, rightSum, 0) + root.value\n",
        "    case 1: right is bigger\n",
        "    case 2: left is bigger\n",
        "    case 3: right and left are negative\n",
        "3. What do you want to report to your parent? \n",
        "  max(leftSum, rightSum, 0) + root.value\n",
        "'''\n",
        "self.result = -float('inf')\n",
        "\n",
        "def helper(self.root):\n",
        "  if root is None:\n",
        "    return 0\n",
        "  left_largest_sum = self.helper(root.left)\n",
        "  right_largest_sum = self.helper(root.right)\n",
        "  max_start_here = max(0, left_largest_sum, right_largest_sum) + root.value\n",
        "  self.global_max = max(self.result, max_start_here)\n",
        "  return max_start_here\n",
        "\n",
        "def maximumPathSumBinaryTree(self.root):\n",
        "  self.global_max = -float('inf')\n",
        "  self.helper(root)\n",
        "  return self.result\n",
        "\n",
        "# time: O(n)"
      ],
      "execution_count": null,
      "outputs": []
    },
    {
      "cell_type": "markdown",
      "metadata": {
        "id": "4ZqR5_V-2WOz"
      },
      "source": [
        "**Q11 Max Path Sum Binary Tree I**\n",
        "\n",
        "Given a binary tree in which each node contains an integer number. Find the maximum possible sum from one leaf node to another leaf node. If there is no such path available, return Integer.MIN_VALUE(Java)/INT_MIN (C++).\n",
        "\n",
        "https://app.laicode.io/app/problem/138"
      ]
    },
    {
      "cell_type": "code",
      "metadata": {
        "id": "Zh0pwDpU2nrf"
      },
      "source": [
        "'''\n",
        "1. What do you want from your left/right child?\n",
        "  left: max \"root-to-leaf\" path sum of left subtree\n",
        "  right: max \" root-to-leaf\" path sum of right subtree\n",
        "2. What should you do on current layer?\n",
        "  calculate left + right + root.val\n",
        "  update globalMax if possible (only for full node with left and right child)\n",
        "3. What do you report to your parents?\n",
        "  max path sum from root to leaf\n",
        "  i.e. return max(left, right) + root.val\n",
        "'''\n",
        "def helper(root):\n",
        "  if root is None:\n",
        "    return 0\n",
        "  if root.left is none and root.right is None:\n",
        "    return root.value\n",
        "  left = self.helper(root.left)\n",
        "  right = self.helper(root.right)\n",
        "  if root.left and root.right):\n",
        "    self.result = max(self.result, left + right + root.value)\n",
        "    return max(left, right) + root.value\n",
        "  else:\n",
        "    return root.value + right if root.left is None else root.value + left"
      ],
      "execution_count": null,
      "outputs": []
    },
    {
      "cell_type": "markdown",
      "metadata": {
        "id": "yTW8v2rT2myX"
      },
      "source": [
        "**Q12 Max Path Sum Binary Tree II**\n",
        "\n",
        "Given a binary tree in which each node contains an integer number. Find the maximum possible sum from any node to any node (the start node and the end node can be the same)\n",
        "\n",
        "https://app.laicode.io/app/problem/139"
      ]
    },
    {
      "cell_type": "code",
      "metadata": {
        "id": "-vpyQXYw3jP7"
      },
      "source": [
        "'''\n",
        "1. What do you want from your left/right child?\n",
        "  Max single path in my left subtree that starts from lchild => (a)\n",
        "  Max single path in my right subtree that starts from rchild => (b)\n",
        "2. What should you do on current layer?\n",
        "  globalMax = max(globalMax, max((a), 0) + max((b),0) + root.value)\n",
        "3. What do you report to your parents?\n",
        "  return root.value + max((a), (b), 0)\n",
        "'''\n",
        "def helper(root):\n",
        "  if root is None:\n",
        "    return 0\n",
        "  left = self.helper(root.left)\n",
        "  right = self.helper(root.right)\n",
        "  left = 0 if left < 0 else left\n",
        "  right = 0 if right < 0 else right\n",
        "  self.max = max(self.max, root.value + left + right)\n",
        "  return max(left, right) + root.value"
      ],
      "execution_count": null,
      "outputs": []
    },
    {
      "cell_type": "markdown",
      "metadata": {
        "id": "mPIBT-0r4U0j"
      },
      "source": [
        "**Q12 Binary Tree Path Sum to Target III**\n",
        "\n",
        "Given a binary tree in which each node contains an integer number. Determine if there exists a path (the path can only be from one node to itself or to any of its descendants), the sum of the numbers on the path is the given target number.\n",
        "\n",
        "https://app.laicode.io/app/problem/141"
      ]
    },
    {
      "cell_type": "code",
      "metadata": {
        "id": "aaLv27Fr4cp8"
      },
      "source": [
        "class Solution(objet):\n",
        "  def exist(self, root, target):\n",
        "    hash = dic()\n",
        "    self.ret = Falseself.helper(root, target, hash, 0)\n",
        "    return self.ret\n",
        "\n",
        "  def helper(self, root, target, hash, cur):\n",
        "    if root is None:\n",
        "      return\n",
        "    cur = cur + root.val\n",
        "    if cur == target:\n",
        "      self.ret = True\n",
        "    if (cur - target) in hash and hash[(cur - target)] > 0:\n",
        "      self.ret = True\n",
        "\n",
        "    if cur in hash:\n",
        "      hash[cur] += 1\n",
        "    else:\n",
        "      hash[cur] = 1\n",
        "\n",
        "    self.helper(root.left, target, hash, cur)\n",
        "    self.helper(root.right, target, hash, cur)\n",
        "\n",
        "    hash[cur] -= 1\n",
        "    return\n",
        "    \n",
        "      \n"
      ],
      "execution_count": null,
      "outputs": []
    },
    {
      "cell_type": "markdown",
      "metadata": {
        "id": "sccO1a2Bbf5I"
      },
      "source": [
        "####Recursion - Top Down\n",
        "\n",
        "Pass values from top to bottom, then return values from bottom to top"
      ]
    },
    {
      "cell_type": "markdown",
      "metadata": {
        "id": "gP8CNgrAedDW"
      },
      "source": [
        "**Q1 Is Binary Search Tree**\n",
        "\n",
        "Given a binary tree, determine if the tree is a binary search tree\n",
        "\n",
        "\n",
        "\n",
        "```\n",
        "             10 (-inf, inf)\n",
        "            /   \\\n",
        "(-inf, 10) 5     15 (10, inf)\n",
        "          / \\    / \\\n",
        "(-inf, 5)2  7   12  20 (15, inf)\n",
        "```\n",
        "\n",
        "Can we traverse through each node and compare its left and right? No. Not considering other branches\n",
        "\n",
        "Let's construct a BST. \n",
        "* The root can take any value from -inf to inf\n",
        "* The left child can take any value from -inf (parent's lower bound) to root.val (parent's value)\n",
        "* The right child can take any value from root.val (parent's value) to inf (parent's upper bound)\n",
        "\n",
        "https://app.laicode.io/app/problem/54\n"
      ]
    },
    {
      "cell_type": "code",
      "metadata": {
        "id": "XQ_Q5qNKe07N"
      },
      "source": [
        "# M1 Use ranges\n",
        "def BST(root):\n",
        "  if root is None:\n",
        "    return True\n",
        "  min_val = float('-inf')\n",
        "  max_val = float('inf')\n",
        "  return isBST(root, min_val, max_val)\n",
        "\n",
        "def isBST(root, min_val, max_val):\n",
        "  if root is None:\n",
        "    return True\n",
        "  if root.val <= min_val or root.val >= max_val:\n",
        "    return False\n",
        "  return isBST(root.left, min_val, root.val) and isBST(root.right, root.val, max_val)\n",
        "\n",
        "# time: O(n)\n",
        "# space: O(h)\n"
      ],
      "execution_count": null,
      "outputs": []
    },
    {
      "cell_type": "code",
      "metadata": {
        "id": "vnIltL3_oFOx"
      },
      "source": [
        "# M1.1 Use ranges in tuples\n",
        "\n",
        "def isBST(node):\n",
        "  return isBSTUtil(node, -float('inf'), float('inf'))\n",
        "\n",
        "def isBSTUtil(node, mini, maxi):\n",
        "  if node is None:\n",
        "    return True\n",
        "  if not (mini <= node.val <= maxi): # assume official BST does not have duplicated nodes\n",
        "    return False\n",
        "  return isBSTUtil(node.left, mini, node.val - 1) and isBSTUtil(node.right, node.val + 1, maxi)"
      ],
      "execution_count": null,
      "outputs": []
    },
    {
      "cell_type": "code",
      "metadata": {
        "id": "qgD-iGdFodLJ"
      },
      "source": [
        "# M1.2 \n",
        "# All values in the left subtree are smaller than what root has\n",
        "# Smallest value in the right subtree is larger than the root's\n",
        "\n",
        "def impl(root):\n",
        "  if not root:\n",
        "    return(True, None, None)\n",
        "  lr, lmin, lmax = impl(root.left)\n",
        "  rr, rmin, rmax = impl(root.right)\n",
        "  return lr and rr and (not lmax or lmax < root.key) and (not rmin or root.key < rmin), lmin or root.key, rmax or root.key\n",
        "\n",
        "def IsValidBST(root):\n",
        "  return impl(root)[0]"
      ],
      "execution_count": null,
      "outputs": []
    },
    {
      "cell_type": "code",
      "metadata": {
        "id": "wiCU8uCZjcda"
      },
      "source": [
        "# M2 Use inorder traversal\n",
        "# Check if the next node is greater than the previous node\n",
        "\n",
        "def is ValidBST(root):\n",
        "  prev = [None]\n",
        "  res = [True]      # use list to use python's pass by object reference nature\n",
        "  inorder(root, prev, res)\n",
        "  return res[0]\n",
        "\n",
        "def inorder(root, prev, res):\n",
        "  if not root:\n",
        "    return\n",
        "  inorder(root.left, prev, res)\n",
        "  if prev[0] and prev[0] >= root.val:\n",
        "    res[0] = False\n",
        "  prev[0] = root.val\n",
        "  inorder(root.right, prev, res)\n",
        "\n",
        "# time: O(n)\n",
        "# space: O(h)"
      ],
      "execution_count": null,
      "outputs": []
    },
    {
      "cell_type": "code",
      "metadata": {
        "id": "q_N3_3Wznft4"
      },
      "source": [
        "# M2.1  \n",
        "# NOTE: The inorder traversal should give a sorted list\n",
        "\n",
        "def inorder(root, prev):\n",
        "  if not root:\n",
        "    return True\n",
        "  if not inorder(root.left, prev):\n",
        "    return False\n",
        "  if prev[0] >= root.val:\n",
        "    return False\n",
        "  prev[0] = root.val\n",
        "  return inorder(root.right, prev)\n",
        "\n",
        "def isValidBST(root):\n",
        "  prev = [None]\n",
        "  return inorder(root, prev)\n",
        "\n",
        "# time: O(n)\n",
        "# space: O(logn) but O(n) worst case"
      ],
      "execution_count": null,
      "outputs": []
    },
    {
      "cell_type": "code",
      "metadata": {
        "id": "4uulAZRnnQYC"
      },
      "source": [
        "# M2.2 \n",
        "\n",
        "# if left node -> range = (parent.low_bound, parent.val)\n",
        "# if right node -> range = (parent.val, parent.upper_bound)\n",
        "# time: O(2n) = O(n)\n",
        "# space: O(n+h) = o(n)\n",
        "\n",
        "def inorder(root, seq):  #seq holds visited nodes\n",
        "  if not root:\n",
        "    return\n",
        "  inorder(root.left, seq)\n",
        "  seq.append(root.key)\n",
        "  inorder(root.right, seq)\n",
        "  \n",
        "def BST(root):\n",
        "  seq = []\n",
        "  inorder(root, seq)  #check seq is in ascending order\n",
        "  for i in range(1, len(seq)):\n",
        "    if seq[i-1] >= seq[i]:\n",
        "      return False\n",
        "  return True\n",
        "\n",
        "# How to optimize:\n",
        "# O1: stop recursion if violation found\n",
        "# O2: only store previous visited value"
      ],
      "execution_count": null,
      "outputs": []
    },
    {
      "cell_type": "code",
      "metadata": {
        "id": "fx-UJw9YQDAC"
      },
      "source": [
        "# M3 Post Order / bottom Up\n",
        "'''\n",
        "1. What do you expect from your left child/right child?\n",
        "  left_Res \n",
        "  right_Res\n",
        "2. What do you want to do in the current layer?\n",
        "  isBST = left_res.isBST and right_res.isBST and left_res.max < root.val and right_res.min > root.val\n",
        "3. What do you want to return to you parent? (same as 1)\n",
        "'''\n",
        "# time: O(n)\n",
        "# space: O(h)\n",
        "\n",
        "def isValidBST(root):\n",
        "  return isBSTHelper(root)[0]\n",
        "\n",
        "# style1\n",
        "def isBSTHelper(root):\n",
        "  if not root:\n",
        "    return (True, None, None)                   #(if BST, min val, max val)\n",
        "  left_res = isBSTHelper(root.left)\n",
        "  right_res = isBSTHelper(root.right)\n",
        "  if not left_res[0] or not right_res[0]:       # if left and right are BST\n",
        "    return (False, None, None)\n",
        "  if left_res[2] and root.val <= left_res[2]:   # if root is greater than left max\n",
        "    return (False, None, None)\n",
        "  if right_res[1] and root.val >= right_res[1]: # if root is smaller than right min\n",
        "    return (False, None, None)\n",
        "  return (True, left_res[1] or root.val, right_res[2] or root.val) # \n",
        "\n",
        "# style2\n",
        "def isBSTHelper(root):\n",
        "  if not root:\n",
        "    return True, None, None\n",
        "  boolean1, min1, max1 = isBSTHelper(root.left)\n",
        "  boolean2, min2, max2 = isBSTHelper(root.right)\n",
        "  boolean = boolean 1 and boolean2 and (not max1 or max1 < root.val) and (not in2 or root.val < min2)\n",
        "  return (boolean, min1 or root.val, max2 or root.val)\n",
        "\n",
        "# style3\n",
        "def isBSTHelper(root):\n",
        "  if not root:\n",
        "    return True, -float('inf'), float('inf')\n",
        "  boolean1, min1, max1 = isBSTHelper(root.left)\n",
        "  boolean2, min2, max2 = isBSTHelper(root.right)\n",
        "  boolean = boolean1 and boolean2 and (max1 < root.val < min2)\n",
        "  return (boolean, min1, max2)\n",
        "\n",
        "'''Example 1\n",
        "2 -> (T, N, N)\n",
        "5 -> (T, 2, 2)\n",
        "7 -> (T, N, N)\n",
        "10 -> (T, 2, 7)\n",
        "'''"
      ],
      "execution_count": null,
      "outputs": []
    },
    {
      "cell_type": "code",
      "metadata": {
        "id": "iYh7qoKad3GJ"
      },
      "source": [
        "# M4(Advanced) Solution: going from least to most\n",
        "prev = None\n",
        "isBST = True\n",
        "\n",
        "def isBST(root):\n",
        "  prev = [None]\n",
        "  isBST = [True]\n",
        "  inOrder(root, prev, isBST)\n",
        "  return isBST[0]\n",
        "\n",
        "def inOrder(root, prev, isBST):\n",
        "  if not root:\n",
        "    return\n",
        "  inOrder(root.left)  \n",
        "  if prev[0] is not None and root.val <= prev[0].val:\n",
        "    isBST[0] = False\n",
        "  prev[0] = root\n",
        "  inOrder(root.right)\n",
        "  \n",
        "'''\n",
        "Example 1\n",
        "prev  None  2   5    7  \n",
        "curr   2    5   7    10\n",
        "isBST  T    T   T\n",
        "'''"
      ],
      "execution_count": null,
      "outputs": []
    },
    {
      "cell_type": "markdown",
      "metadata": {
        "id": "4RlOgGCtE0Zs"
      },
      "source": [
        "**Q10 Path Sum** - 5/27 lec\n",
        "\n",
        "Given a binary tree and a sum, determine if the tree has a root-to-leaf path such that adding up all the values along the path equals the given sum. Return false if does not exist\n",
        "\n",
        "\n",
        "1. What do you expect from your left child/right child? T/F\n",
        "2. What do you want to do in the current layer? Left or Right\n",
        "3. What do you want to return to your parent? Return (left or right)"
      ]
    },
    {
      "cell_type": "code",
      "metadata": {
        "id": "CG85i9c5FCZE"
      },
      "source": [
        "# M1 Top Down 1\n",
        "\n",
        "class Solution(object):\n",
        "  \n",
        "  def hasPathSum(self, root, sum):\n",
        "    self.sum = sum\n",
        "    self.helper(root, 0) #root.val instead of 0 also works with some modifications\n",
        "    \n",
        "  def helper(self, root, current):\n",
        "    if root is None:\n",
        "      return\n",
        "    if root.left is None and root.right is None: \n",
        "      return(current + root.val == self.sum)\n",
        "    return self.helper(root.left, current+root.val) or self.helper(root.right, current+root.val)\n",
        "    "
      ],
      "execution_count": null,
      "outputs": []
    },
    {
      "cell_type": "code",
      "metadata": {
        "id": "lnKQ78XqGubN"
      },
      "source": [
        "# M2 top down 2 \n",
        "class Solution(object):\n",
        "  def hasPathSum(self, root, sum):\n",
        "    self.sum = sum\n",
        "    if root is None:\n",
        "      return False\n",
        "    self.ret = False\n",
        "    self.helper(root, root.val)\n",
        "    return self.ret\n",
        "  \n",
        "  def helper(self, root, current):\n",
        "    if root is None:\n",
        "      return\n",
        "    if root.left is None and root.right is None:\n",
        "      self.ret = (self.ret or current == self.sum)\n",
        "      return\n",
        "    if root.left:\n",
        "      self.helper(root.left, current + root.left.val)\n",
        "    if root.right:\n",
        "      self.helper(root.right, current + root.right.val)\n",
        "    return"
      ],
      "execution_count": null,
      "outputs": []
    },
    {
      "cell_type": "code",
      "metadata": {
        "id": "L08J_MhmKCOW"
      },
      "source": [
        "# M3 Bottom Up (forced)\n",
        "\n",
        "class Solution(object):\n",
        "  def hasPathSumBottomUp(self, root, sum):\n",
        "    ret = self.helper(root)\n",
        "    for a in ret:\n",
        "      if a == sum: \n",
        "        return True\n",
        "    return False\n",
        "  \n",
        "  def helper(self, root):\n",
        "    # 不要这样写，太2了 return all possible path sum\n",
        "    if root is None:\n",
        "      return []\n",
        "    if root.left is None and root.right is None:\n",
        "      return [root.val]\n",
        "    lefts = self.helper(root.left)   #obtains a list of the path\n",
        "    rights = self.helper(root.right)\n",
        "    \n",
        "    ret = []\n",
        "    for 1 in lefts:\n",
        "      ret.append(root.val + l)\n",
        "    for r in rights:\n",
        "      ret.append(root.val + r)\n",
        "    return ret"
      ],
      "execution_count": null,
      "outputs": []
    },
    {
      "cell_type": "markdown",
      "metadata": {
        "id": "tp4DFFOMUNaw"
      },
      "source": [
        "\n",
        "###Divide and Conquer\n",
        "\n",
        "1. Divide the problem into a number of subproblems that are smaller instances of the same problem\n",
        "2. Conquer the subproblems by solving them recursively. If they are small enough, solve the subproblems as base cases\n",
        "3. Combine the solutions to the subproblems into the solution for the original problem"
      ]
    },
    {
      "cell_type": "markdown",
      "metadata": {
        "id": "FaLcndR-YH8u"
      },
      "source": [
        "**Bottom Up**\n",
        "\n",
        "Way of thinking\n",
        "1. What do you expect form your left child/right child?\n",
        "2. What do you want to do in the current layer?\n",
        "3. What do you want to return to your parent?"
      ]
    },
    {
      "cell_type": "markdown",
      "metadata": {
        "id": "KJGnAfnf8CK2"
      },
      "source": [
        "**Top Down**\n",
        "\n",
        "* Use variables to pass information; Use a global variable to record final result\n",
        "* Usually no return value\n",
        "* Logic more straight-forward, but code not as short as bottom-up\n",
        "* 大部分需要输出完整path的题，top down 更实用\n",
        "* 如果依赖subtree的结果，bottom up"
      ]
    },
    {
      "cell_type": "code",
      "metadata": {
        "id": "QfgWb1qS8PCx"
      },
      "source": [
        "#Q1 Get height of a binary tree\n",
        "class Solution(object):\n",
        "  def findHeight(self, root):\n",
        "    if root is None:\n",
        "      return 0\n",
        "    self.result = 0\n",
        "    self.helper(root, 0) #Can also use 1\n",
        "    return self.result\n",
        "  \n",
        "  def helper(self, root, depth):\n",
        "    if root is None:\n",
        "      self.result = max(self.result, depth)\n",
        "      return\n",
        "    self.helper(root.left, depth + 1)\n",
        "    self.helper(root.right, depth + 1)\n",
        "    return\n",
        "#time: O(n)\n",
        "#space: worst O(n), avg O(logn)"
      ],
      "execution_count": null,
      "outputs": []
    },
    {
      "cell_type": "code",
      "metadata": {
        "id": "9figp-u599Bj"
      },
      "source": [
        "#Q2 Get min depth\n",
        "class Solution(object):\n",
        "  def minDepth(self, root):\n",
        "    if root is None:\n",
        "      return 0\n",
        "    self.ret = float('inf')\n",
        "    self.helper(root, 0)\n",
        "    return self.ret\n",
        "  \n",
        "  def helper(self, root, depth):\n",
        "    if root is None:\n",
        "      return\n",
        "    if root.left is None and root.right is None:\n",
        "      self.ret = min(self.ret, depth + 1)\n",
        "      return\n",
        "    self.helper(root.left, depth + 1)\n",
        "    self.helper(root.right, depth + 1)\n",
        "    return\n",
        "#time: O(n)\n",
        "#space: O(logn)\n",
        "  \n",
        "  "
      ],
      "execution_count": null,
      "outputs": []
    },
    {
      "cell_type": "code",
      "metadata": {
        "id": "uH5f8-clAyBv"
      },
      "source": [
        "#Q3 Invert Binary tree (left with right)\n",
        "\n",
        "#Bottom Up\n",
        "class Solution:\n",
        "  def invertTree(self, root):\n",
        "    if root is None:\n",
        "      return None\n",
        "    right = self.invertTree(root.right)\n",
        "    left = self.invertTree(root.left)\n",
        "    root.left, root.right = right, left\n",
        "    #or root.left = right\n",
        "    #or root.right = left\n",
        "    return root\n",
        "#post-order\n",
        "  \n",
        "#Top Down\n",
        "class Solution:\n",
        "  def invertTree(self, root):\n",
        "    if root is None:\n",
        "      return None\n",
        "    root.left, root.right = root.right, root.left\n",
        "    self.invertTree(root.left)\n",
        "    self.invertTree(root.right)\n",
        "    return root\n",
        "#pre-order\n",
        "\n",
        "class Solution:\n",
        "  def invertTree(self, root):\n",
        "    self.helper(root)\n",
        "    return root\n",
        "  \n",
        "  def helper(self, root):\n",
        "    if root is None:\n",
        "      return None\n",
        "    root.left, root.right = root.right, root.left\n",
        "    self.invertTree(root.left)\n",
        "    self.invertTree(root.right)\n",
        "    return root"
      ],
      "execution_count": null,
      "outputs": []
    },
    {
      "cell_type": "code",
      "metadata": {
        "id": "9aWZID845Dc9"
      },
      "source": [
        "def preorder_traversal(root):\n",
        "  output = []\n",
        "  if not root:\n",
        "    return output\n",
        "  stack = [(root, 1)]\n",
        "  while stack:\n",
        "    node, count = stack.pop()\n",
        "    if count == 1: #first visit\n",
        "      output.append(node.val)\n",
        "      stack.append((node, count + 1))\n",
        "      if node.left:\n",
        "        stack.append((node.left, 1))\n",
        "    if count == 2: #second visit\n",
        "      if node.right:\n",
        "        stack.append((node.right, 1))\n",
        "  return output\n",
        "\n",
        "#time: O(cn) = O(n)\n",
        "#space: O(h)\n",
        "#same performance as recursion\n",
        "\n",
        "def inorder_traversal(root):\n",
        "  output = []\n",
        "  if not root:\n",
        "    return output\n",
        "  stack = [(root, 1)]\n",
        "  while stack:\n",
        "    node, count = stack.pop()\n",
        "    if count == 2: #first visit\n",
        "      output.append(node.val)\n",
        "      stack.append((node, count + 1))\n",
        "      if node.left:\n",
        "        stack.append((node.left, 1))\n",
        "    if count == 1: #second visit\n",
        "      if node.right:\n",
        "        stack.append((node.right, 1))\n",
        "  return output\n",
        "      "
      ],
      "execution_count": null,
      "outputs": []
    },
    {
      "cell_type": "markdown",
      "metadata": {
        "id": "Sux6NTIqVgcQ"
      },
      "source": [
        "**Q1 Maximum Subarray**\n",
        "\n",
        "Given an integer array nums, find the contiguous subarray (containing at least one number) which has the largest sum and return its sum\n",
        "\n",
        "Input: [-2, 1, -3, 4, -1, 2, 1, -5, 4]\n",
        "\n",
        "Output: 6\n",
        "\n",
        "Input: [2, -1] \n",
        "\n",
        "Output: 2\n",
        "\n",
        "Input: [2, -1, 3]  4\n",
        "\n",
        "\n",
        "**Solution 1**: Divide into 2 parts: left, right, mid --> max(left_result, right_result, mid_result)\n",
        "\n",
        "[2,1,-4,-3] --> 3\n",
        "\n",
        "[2, 1] --> 3\n",
        "\n",
        "[-4, -3] --> -3\n",
        "\n",
        "[2, 1, -4] --> -1 中心开花 -- 从左往右，从右往左，分别算最大值\n",
        "\n",
        "**Solution 2***: supporting array M, len(M) == len(a)\n",
        "\n",
        "M[i] = the largest sum of a subarray that ends at a[i]\n",
        "\n",
        "M[0] = a[0]\n",
        "\n",
        "M[i] = if M[i-1] < 0 : a[i]  else: M[i-1] + a[i]\n",
        "\n",
        "Final_result = max(M[0], M[1], M[2], M[n-1])\n",
        "\n",
        "A:  -2  -3  4  -1  -2  1  5  -3\n",
        "\n",
        "M: -2  -3  4   3   1  2  7   4\n"
      ]
    },
    {
      "cell_type": "code",
      "metadata": {
        "id": "7rMDDmZSVfrQ"
      },
      "source": [
        "#Q1 M1\n",
        "\n",
        "def maxSubarray(A, left, right):\n",
        "  if left == right:\n",
        "    return A[left]\n",
        "  center = (left + right)/2\n",
        "  maxLeftSum = maxSubarray(A, left, center)\n",
        "  maxRightSum = maxSubarray(A, center+1, right)\n",
        "  maxCenterSum = getMaxCenterSum(A, center, left, right)\n",
        "  maxSum = max(maxLeftSum, maxRightSum, maxCenterSum)\n",
        "  return maxSum\n",
        "\n",
        "def getMaxCenterSum(A, center, left, right):\n",
        "  maxLeftBorderSum = -float('inf')\n",
        "  leftBorderSum = 0\n",
        "  for i in range(center, left-1, -1):\n",
        "    leftBorderSum += A[i]\n",
        "    maxLeftBorderSum = max(leftBorderSum, maxLeftBorderSum)\n",
        "  rightBorderSum = 0\n",
        "  for i in range(center + 1, right+1):\n",
        "    rightBorderSum += A[i]\n",
        "    maxRightBordedSum = max(maxRightBorderSum, rightBorderSum)\n",
        "  return maxLeftBorderSum + maxRightBorderSum\n",
        "\n",
        "#time: O(nlogn) = n + (n/2+n/2) + (n/4+n/4+n/4+n/4)...\n",
        "    "
      ],
      "execution_count": null,
      "outputs": []
    },
    {
      "cell_type": "code",
      "metadata": {
        "id": "FKZQ-9ukUGe1"
      },
      "source": [
        "#Q1 M2 Improved\n",
        "\n",
        "'''\n",
        "#What if not using a supporting array and complete in one loop?\n",
        "\n",
        "initialize:\n",
        "global_max = 0\n",
        "max_ending_here = 0\n",
        "\n",
        "loop for each element of the array\n",
        "  if max_Ending_here < 0\n",
        "    max_ending_here = a[i]\n",
        "  else:\n",
        "    max_ending_here = max_ending_here + a[i]\n",
        "  global_max = max(global_max, max_ending_here)\n",
        "return global_max\n",
        "\n",
        "'''"
      ],
      "execution_count": null,
      "outputs": []
    },
    {
      "cell_type": "markdown",
      "metadata": {
        "id": "5L-sk1C8XfII"
      },
      "source": [
        "###Backtracking"
      ]
    },
    {
      "cell_type": "markdown",
      "metadata": {
        "id": "kWGod6D0T5g4"
      },
      "source": [
        "**Motivating Example**\n",
        "\n",
        "We have 3 types of flour, 2 types of creams, and 6 types of fruits. How many cakes can we make? -> 36"
      ]
    },
    {
      "cell_type": "code",
      "metadata": {
        "id": "NH4OU4DwT_0y"
      },
      "source": [
        "# M0 Brute force of all combinations \n",
        "cakes = []\n",
        "for flour in [flour1, four2, four3]:\n",
        "  for creat in [cream1, cream2]:\n",
        "    for fruit in [fruit1, fruit2, fruit3, fruit4, fruit5, fruit6]:\n",
        "      cakes.append(make_Cake(flour, cream, fruit))"
      ],
      "execution_count": null,
      "outputs": []
    },
    {
      "cell_type": "markdown",
      "metadata": {
        "id": "ueaBLBLCURwP"
      },
      "source": [
        "Let's generalize this. What if not all the choices can be compatible? For instance, flour1 does not work well with cream2, flour3 does not work well with cream1, cream1 and flour3 does not work well."
      ]
    },
    {
      "cell_type": "code",
      "metadata": {
        "id": "_3uB1V9UUc5N"
      },
      "source": [
        "# M1 \n",
        "cakes = []\n",
        "for flour in [flour1, four2, four3]:\n",
        "  for cream in [cream1, cream2]:\n",
        "    for fruit in [fruit1, fruit2, fruit3, fruit4, fruit5, fruit6]:\n",
        "      if is_compatible(flour, cream, fruit):\n",
        "        cakes.append(make_Cake(flour, cream, fruit))"
      ],
      "execution_count": null,
      "outputs": []
    },
    {
      "cell_type": "code",
      "metadata": {
        "id": "qwAj2zwwUuPO"
      },
      "source": [
        "# M2\n",
        "# this is better because reduces the number of loops\n",
        "for flour in [flour1, four2, four3]:\n",
        "  for cream in [cream1, cream2]:\n",
        "    if (flour, cream) in [(flour1, cream2), (flour3, cream1)]:\n",
        "      continue\n",
        "    for fruit in [fruit1, fruit2, fruit3, fruit4, fruit5, fruit6]:\n",
        "      if (cream, fruit) in [(cream1, fruit3), (cream2, fruit1), (Cream2, fruit6)]:\n",
        "        continue\n",
        "      cakes.append(make_Cake(flour, cream, fruit))"
      ],
      "execution_count": null,
      "outputs": []
    },
    {
      "cell_type": "markdown",
      "metadata": {
        "id": "7BozJmhGVVps"
      },
      "source": [
        "What if we don't know the types of flour, cream, and fruit ahead?\n",
        "* We don't know the number of for-loops and number of options. We want a dynamic system \n",
        "* This is a multistage decision problem\n",
        "* hard to express in divide and conquer recursion manner\n",
        "* It involves building a set of candidates incrementally and abandons a candidate (\"backtracks\") as soon as it determines that the candidate cannot possibly be a valid solution\n",
        "\n",
        "\n"
      ]
    },
    {
      "cell_type": "markdown",
      "metadata": {
        "id": "fXAoyLLVL7-I"
      },
      "source": [
        "**Backtracking** = to **systematically** and **exhaustively** generate all possible combinations of compatible choices for all stages of a multistage decision porblem.\n",
        "\n",
        "How\n",
        "* Use a Tree structure to visualize the  decision processs. Each partial candidate set is a path from the root to a certain subtree's root\n",
        "* Backtracking is basically the same as preorder tree traversal\n",
        "\n",
        "Decide whether to use backtracking:\n",
        "1. Is this a multistage decision problem? i.e. to generate one answer, do we need to make multiple decisions? \n",
        "2. How many stages to obtain one answer? At each step, what will be the set of all possible choices we could make?\n",
        "3. For the choice we make at the current stage, is it compatible with choices made for all previous stages? \n",
        "\n",
        "Complexity -- Decision Tree Traversal\n",
        "* Estimate number of nodes = number of choices: depends on the breadth and depth of a tree\n",
        "* Time = O(b^h) * O(time we spend on a particular stage).  \n",
        "* Every node might have different braching factor b, we can assume the worst\n",
        "* This is an overestimate, since in practice we do not go into all branches. For example, in the N-Queen problem, the time complexity is much less than O(n^n) \n",
        "* NOTE: pick the solution with less branching options (number of decisions at each stage) so reduce complexity\n",
        "\n",
        "Example:\n",
        "\n",
        "\n",
        "```\n",
        "Visualize the decision process as a tree\n",
        "          cake\n",
        "        /  |  \\\n",
        "       f1  f2  f3\n",
        "     / \\ \n",
        "    c1 c2\n",
        "  /\n",
        "fr1 .. fr6\n",
        "\n",
        "We want to generate all possible combinations = tree traversal\n",
        "This can be seen as a recursion:\n",
        "  all possible combinations for n stages \n",
        "  = all possible combinations for n - 1 stages when the choice is C1\n",
        "  + all possible combinations for n - 1 stages when the choice is C2\n",
        "  + all possible combinations for n - 1 stages when the choice is C3\n",
        "\n",
        "```\n",
        "\n",
        "\n",
        "\n"
      ]
    },
    {
      "cell_type": "markdown",
      "source": [
        "**Backtracking template**"
      ],
      "metadata": {
        "id": "tPegLhYKnwJU"
      }
    },
    {
      "cell_type": "code",
      "metadata": {
        "id": "orCmdJpeL-Jz"
      },
      "source": [
        "### Backtracking template \n",
        "\n",
        "def backtracking(answer, current_position, N, possible_decisions):\n",
        "  '''\n",
        "  answer: tuple or list that contains compatible decisions we previously made. \n",
        "           The size of it should be == current_position\n",
        "  current_position: integer indicates the id of the current step. Starts at 0\n",
        "  N: integer indicates total number of steps to build our final answer\n",
        "  Possible_decisions: a map or dict that associates the id of a step to a \n",
        "                       collection of possible decisions for that step\n",
        "  '''\n",
        "  # stop when we have successfully built one complete answer here\n",
        "  # length of answer is the number of decisions we made \n",
        "  if len(answer) == N: \n",
        "    pass\n",
        "  else:\n",
        "    # for all possible decisions at the current stage/node \n",
        "    for decision in possible_decisions[current_position]:\n",
        "      # travel if the choice is compatible with previous decisions \n",
        "      if is_compatible(answer, decision): \n",
        "        # add one new decision before doing recursion\n",
        "        answer.add(decision)\n",
        "        # recursion of the subproblem \n",
        "        backtracking(answer, current_position+1, N, possible_decisions)\n",
        "        # remove the decision of the subproblem \n",
        "        answer.remove(decision) "
      ],
      "execution_count": null,
      "outputs": []
    },
    {
      "cell_type": "markdown",
      "source": [
        "**Q0 Cake example with backtracking**\n",
        "\n",
        "Assume we have N different types of ingredients and for each type we have a list of names of all the different variations. How do we generate all the possible recipes? A valid recipe must use all the available type of ingredients. "
      ],
      "metadata": {
        "id": "sMaYuYm3q8mu"
      }
    },
    {
      "cell_type": "code",
      "metadata": {
        "id": "q_0MpzeZftlW",
        "colab": {
          "base_uri": "https://localhost:8080/"
        },
        "outputId": "c7604c51-7543-4e48-eb22-713d7af06784"
      },
      "source": [
        "# recipe = answer\n",
        "# ingredients = possible_decisions \n",
        "# current position is the length of recipe \n",
        "\n",
        "def bt(recipes, recipe, ingredients):\n",
        "  if len(recipe) == len(ingredients): \n",
        "    # CAUTION: \n",
        "    # recipes.append(recipe)  # this appends a reference of the recipe, if use this, will return None \n",
        "    recipes.append(recipe[:]) # this appends a copy of the recipe object, correct\n",
        "    return\n",
        "  # the decision stage is the length of current recipe \n",
        "  for ingredient in ingredients[len(recipe)]:\n",
        "    recipe.append(ingredient)\n",
        "    bt(recipes, recipe, ingredients)\n",
        "    recipe.pop() # to remove the last itemm from a list \n",
        "\n",
        "def gen_all_recipes(ingredients):\n",
        "  recipes, recipe = [], []\n",
        "  bt(recipes, recipe, ingredients)\n",
        "  return recipes\n",
        "                            \n",
        "ingredients = [\n",
        "               [\"four1\", \"flour2\", \"flour3\"],\n",
        "               [\"cream1\", \"cream2\"],\n",
        "               [\"fruit1\", \"fruit2\", \"fruit3\", \"fruit4\", \"fruit5\", \"fruit6\"]\n",
        "]\n",
        "\n",
        "print(gen_all_recipes(ingredients))"
      ],
      "execution_count": null,
      "outputs": [
        {
          "output_type": "stream",
          "name": "stdout",
          "text": [
            "[['four1', 'cream1', 'fruit1'], ['four1', 'cream1', 'fruit2'], ['four1', 'cream1', 'fruit3'], ['four1', 'cream1', 'fruit4'], ['four1', 'cream1', 'fruit5'], ['four1', 'cream1', 'fruit6'], ['four1', 'cream2', 'fruit1'], ['four1', 'cream2', 'fruit2'], ['four1', 'cream2', 'fruit3'], ['four1', 'cream2', 'fruit4'], ['four1', 'cream2', 'fruit5'], ['four1', 'cream2', 'fruit6'], ['flour2', 'cream1', 'fruit1'], ['flour2', 'cream1', 'fruit2'], ['flour2', 'cream1', 'fruit3'], ['flour2', 'cream1', 'fruit4'], ['flour2', 'cream1', 'fruit5'], ['flour2', 'cream1', 'fruit6'], ['flour2', 'cream2', 'fruit1'], ['flour2', 'cream2', 'fruit2'], ['flour2', 'cream2', 'fruit3'], ['flour2', 'cream2', 'fruit4'], ['flour2', 'cream2', 'fruit5'], ['flour2', 'cream2', 'fruit6'], ['flour3', 'cream1', 'fruit1'], ['flour3', 'cream1', 'fruit2'], ['flour3', 'cream1', 'fruit3'], ['flour3', 'cream1', 'fruit4'], ['flour3', 'cream1', 'fruit5'], ['flour3', 'cream1', 'fruit6'], ['flour3', 'cream2', 'fruit1'], ['flour3', 'cream2', 'fruit2'], ['flour3', 'cream2', 'fruit3'], ['flour3', 'cream2', 'fruit4'], ['flour3', 'cream2', 'fruit5'], ['flour3', 'cream2', 'fruit6']]\n"
          ]
        }
      ]
    },
    {
      "cell_type": "markdown",
      "metadata": {
        "id": "bi2IVGZKw1GG"
      },
      "source": [
        "**Q1 Generate all permutations**\n",
        "\n",
        "Given a collection of distinct integers, return all possible permutations. One permutation must use all numbers. Note that different ordering of same set of numbers is allowed, i.e. [1,2,3] and [2,1,3].\n",
        "\n",
        "\n",
        "\n",
        "\n",
        "```\n",
        "Example:\n",
        "input: [1,2,3]\n",
        "output: [[1,2,3], [1,3,2], [2,1,3], [3,1,2], [3,2,1]]\n",
        "\n",
        "Solving:\n",
        "stage1: pick one from [1,2,3], e.g. 1\n",
        "stage2: pick one int from 1,2,3, we can choose any number other than 1 since choosing 1 will be incompatible with the choice we made in stage 1. For example, we choose 2.\n",
        "stage3: we can only pick 3\n",
        "```\n",
        "\n",
        "\n",
        "\n",
        "\n"
      ]
    },
    {
      "cell_type": "code",
      "metadata": {
        "id": "25U_Y1y_TL-j",
        "colab": {
          "base_uri": "https://localhost:8080/",
          "height": 35
        },
        "outputId": "d291710c-b4f5-4572-a2c1-1bf3fcf854b7"
      },
      "source": [
        "# M1 Backtracking \n",
        "def bt(perms, perm, nums):\n",
        "  if len(perm) == len(nums): \n",
        "    perms.append(perm[:])    # making a copy of perm, object reference\n",
        "    return\n",
        "  for i in nums: # loop through choices  \n",
        "    if i not in perm: # compatibility test\n",
        "      perm.append(i)\n",
        "      bt(perms, perm, nums)\n",
        "      perm.pop()\n",
        "  \n",
        "def GetAllPerms(nums):\n",
        "  perms = [] #store all possible permutations\n",
        "  perm = []\n",
        "  bt(perms, perm, nums)\n",
        "  return perms\n",
        "\n",
        "print(GetAllPerms([1,2,3]))"
      ],
      "execution_count": null,
      "outputs": [
        {
          "output_type": "stream",
          "text": [
            "[[1, 2, 3], [1, 3, 2], [2, 1, 3], [2, 3, 1], [3, 1, 2], [3, 2, 1]]\n"
          ],
          "name": "stdout"
        }
      ]
    },
    {
      "cell_type": "markdown",
      "source": [
        "Note that the time complexity for testing whether the current candidate we have picked or not is O(n). In this case, it is easy to reduce this to O1). We can either use a additional hash table to record the value we have picked, or we could reuse the input list itself to be the collection of all candidates. For the second approach, basically, during the recursion, this list can be partitioned into two parts: elements we have picked for our partially built permutation and the remaining undetermined elements. "
      ],
      "metadata": {
        "id": "dR_KxIMgyrev"
      }
    },
    {
      "cell_type": "code",
      "source": [
        "# M1.2 Backtracking (style 2) (REVISIT)\n",
        "def bt(answers, current_position, N, nums):\n",
        "  if current_position == N:\n",
        "    answers.append(nums[:])    # making a copy of perm, object reference\n",
        "    return\n",
        "  for i in range(current_position, len(nums)):\n",
        "    nums[current_position], nums[i] = nums[i], nums[current_position]\n",
        "    bt(answers, current_position + 1, N, nums)\n",
        "    nums[current_position], nums[i] = nums[i], nums[current_position]\n",
        "  return\n",
        "\n",
        "def GetAllPerms(nums):\n",
        "  answers = []\n",
        "  bt(answers, 0, len(nums), nums)\n",
        "  return answers\n",
        "\n",
        "print(GetAllPerms([1,2,3]))"
      ],
      "metadata": {
        "colab": {
          "base_uri": "https://localhost:8080/"
        },
        "id": "ZkEYPtfWzT7M",
        "outputId": "f99d7021-8151-40e3-c45b-b90dd9fd3745"
      },
      "execution_count": null,
      "outputs": [
        {
          "output_type": "stream",
          "name": "stdout",
          "text": [
            "[[1, 2, 3], [1, 3, 2], [2, 1, 3], [2, 3, 1], [3, 2, 1], [3, 1, 2]]\n"
          ]
        }
      ]
    },
    {
      "cell_type": "markdown",
      "source": [
        "This problem can also be solved by divide an conquer strategy. in roder to solve the problem of generating all permutations of **n** distinct elements, assuming we have already solved the smaller instances of **n-1** distinctive elements. How do we combine the results? \n",
        "\n",
        "Let's look at one small example. We want all permutations of the sequence {1,2,3,4}. Assuming we know how to get the result for {2,3,4}. Then for every permutation, if we prepend 1, we will get a subset of all permutations of {1,2,3,4}. Similarly, for every permutation in the resulting collecting of {1,3,4}, if we prepend 2, we get the subset of all permutations. Note that these two subsets are independent of each other since all permutations in the first subset will start with 1 while the others start with 2. \n",
        "\n",
        "$$\n",
        "Perm(x_1, x_2, x_3, ..., x_n) = \\{ prepend x_1 to Perm(x_2, x_3, ..., x_n) \\} \\cup \\{ prepend x_2 to Perm(x_1, x_3, ..., x_n) \\} ...\n",
        "$$"
      ],
      "metadata": {
        "id": "Klw_lt7V7LGp"
      }
    },
    {
      "cell_type": "code",
      "source": [
        "# M2 Divide and conquer\n",
        "def permute(nums):\n",
        "  if not nums: # base case required for recursion \n",
        "    return [[]]\n",
        "  return [[num] + p for num in nums for p in permute(nums[:nums.index(num)] + nums[nums.index(num) + 1:])]\n",
        "\n",
        "print(permute([1,2,3]))"
      ],
      "metadata": {
        "colab": {
          "base_uri": "https://localhost:8080/"
        },
        "id": "ZmifoIb88GQE",
        "outputId": "2defa686-e731-42a6-9691-d1e4b6838ee0"
      },
      "execution_count": null,
      "outputs": [
        {
          "output_type": "stream",
          "name": "stdout",
          "text": [
            "[[1, 2, 3], [1, 3, 2], [2, 1, 3], [2, 3, 1], [3, 1, 2], [3, 2, 1]]\n"
          ]
        }
      ]
    },
    {
      "cell_type": "markdown",
      "source": [
        "Alternatively, with the \\{1,2,3,4\\} example, after getting all permutations of \\{2,3,4\\}, instead of prpend every such permutation with 1, we can consider, for example for a given permutation \\{3,2,4\\}, how many different ways we could turn it back to a valid permutaiton of \\{1,2,3,4\\} by adding the missing 1 back? \n",
        "\n",
        "There are 4 ways: \\{1,3,2,4\\}, \\{3,1,2,4\\}, \\{3,2,1,4\\}, \\{3,2,4,1\\}. Thus we have another recursion rule:\n",
        "\n",
        "$$\n",
        "Perm(x_1,x_2,...,x_n) = \\{ insert x_1 to Perm(x_2,x_3,...,x_n) \\textit{ at every possible position}\n",
        "$$"
      ],
      "metadata": {
        "id": "WCYBAm_X8jx_"
      }
    },
    {
      "cell_type": "code",
      "source": [
        "# M2.2 Divide and conquer \n",
        "def permute(nums):\n",
        "  if not nums:\n",
        "    return [[]]\n",
        "  return [perm[:pos] + [nums[0]] + perm[pos:] for perm in permute(nums[1:]) for pos in range(len(perm) + 1)]\n",
        "\n",
        "print(permute([1,2,3]))"
      ],
      "metadata": {
        "colab": {
          "base_uri": "https://localhost:8080/"
        },
        "id": "ozC-bfv58zxa",
        "outputId": "c65ed28c-a3ad-4d49-b947-d7de252fbc7e"
      },
      "execution_count": null,
      "outputs": [
        {
          "output_type": "stream",
          "name": "stdout",
          "text": [
            "[[1, 2, 3], [2, 1, 3], [2, 3, 1], [1, 3, 2], [3, 1, 2], [3, 2, 1]]\n"
          ]
        }
      ]
    },
    {
      "cell_type": "markdown",
      "source": [
        "In the above codes, there is no backtracking and the order of the actual computation is from the smallest instance to the original instance of the problem. Thus, it is easy to turn the above recursion code into an iterative code."
      ],
      "metadata": {
        "id": "pwJtO5mK9uX6"
      }
    },
    {
      "cell_type": "code",
      "metadata": {
        "id": "GiBWs8_Ef1gF",
        "colab": {
          "base_uri": "https://localhost:8080/"
        },
        "outputId": "c24c31ff-a37b-4309-b5f6-7cfc78bfaf41"
      },
      "source": [
        "# M3 iterative \n",
        "def permute(nums):\n",
        "  res = [[]]\n",
        "  for num in nums:\n",
        "    res = [perm[:i] + [num] + perm[i:] for perm in res for i in range(len(perm)+1)]\n",
        "  return res\n",
        "\n",
        "print(permute([1,2,3]))"
      ],
      "execution_count": null,
      "outputs": [
        {
          "output_type": "stream",
          "name": "stdout",
          "text": [
            "[[3, 2, 1], [2, 3, 1], [2, 1, 3], [3, 1, 2], [1, 3, 2], [1, 2, 3]]\n"
          ]
        }
      ]
    },
    {
      "cell_type": "markdown",
      "metadata": {
        "id": "D1VH_aWeiWPq"
      },
      "source": [
        "**Q1.2 Permutations with duplicates**\n",
        "\n",
        "Given a collection of integers that might contain duplicates, return all possible permutations\n",
        "\n",
        "\n",
        "```\n",
        "Input: [1,2,2]\n",
        "\n",
        "Output: [[1,2,2], \n",
        "         [2,1,2], \n",
        "         [2,2,1]]\n",
        "```\n",
        "\n",
        "\n",
        "\n",
        "Observations\n",
        "* The number of permutations is less than without duplicates. Because [1,2,2] is the same as [1,2,2,]\n",
        "* Compatibility testing conditions are changed\n",
        " * note that when trying permutations starting with [1, 2a, *] and [1, 2b, *] will be duplicated\n",
        " * at the same stage, we should not pick the same element more than once --> need to store all the decisions we make at the current stage --> set is preferred (O(1)) vs list (O(n))\n",
        " * across different stages, can at most use the number k times where k is the number it appears in nums"
      ]
    },
    {
      "cell_type": "code",
      "source": [
        "# old solution for permutation with duplicates  \n",
        "# does not work because perm never reaches len(num) with this compatibiltiy test \n",
        "\n",
        "def bt(perms, perm, nums):\n",
        "  if len(perm) == len(nums): \n",
        "    perms.append(perm[:])    # making a copy of perm, object reference\n",
        "    return\n",
        "  for i in nums: # loop through choices  \n",
        "    if i not in perm: # compatibility test\n",
        "      perm.append(i)\n",
        "      bt(perms, perm, nums)\n",
        "      perm.pop()\n",
        "  \n",
        "def GetAllPerms(nums):\n",
        "  perms = [] #store all possible permutations\n",
        "  perm = []\n",
        "  bt(perms, perm, nums)\n",
        "  return perms\n",
        "\n",
        "print(GetAllPerms([1,2,2]))"
      ],
      "metadata": {
        "colab": {
          "base_uri": "https://localhost:8080/"
        },
        "id": "ekvqQuS6qwNe",
        "outputId": "aa1dc1ab-99f6-4b4e-a8ee-df8be470d7d6"
      },
      "execution_count": null,
      "outputs": [
        {
          "output_type": "stream",
          "name": "stdout",
          "text": [
            "[]\n"
          ]
        }
      ]
    },
    {
      "cell_type": "code",
      "metadata": {
        "id": "GhIn_KMHifKn",
        "colab": {
          "base_uri": "https://localhost:8080/"
        },
        "outputId": "499c88b1-a70b-4520-e402-ba84004311a0"
      },
      "source": [
        "# M1 backtracking \n",
        "\n",
        "def bt(perms, perm, nums):\n",
        "  if len(perm) == len(nums): \n",
        "    perms.append(perm[:])    \n",
        "    return\n",
        "  used = set() # resets at every decision stage \n",
        "  for num in nums:\n",
        "    # do not choose numbers \n",
        "    if perm.count(num) < nums.count(num) and num not in used:\n",
        "      used.add(num)\n",
        "      perm.append(num)\n",
        "      bt(perms, perm, nums)\n",
        "      perm.pop()\n",
        "  \n",
        "def GetAllPerms(nums):\n",
        "  perms, perm = [],[]\n",
        "  bt(perms, perm, nums)\n",
        "  return perms\n",
        "\n",
        "print(GetAllPerms([1,2,3]))\n",
        "print(GetAllPerms([1,2,2]))\n",
        "\n",
        "# can improve this solution by using a dictionary at the beginning. \n",
        "# this reduces the .count O(n) to O(1)"
      ],
      "execution_count": null,
      "outputs": [
        {
          "output_type": "stream",
          "name": "stdout",
          "text": [
            "[[1, 2, 3], [1, 3, 2], [2, 1, 3], [2, 3, 1], [3, 1, 2], [3, 2, 1]]\n",
            "[[1, 2, 2], [2, 1, 2], [2, 2, 1]]\n"
          ]
        }
      ]
    },
    {
      "cell_type": "code",
      "source": [
        "# M1 backtracking style two\n",
        "\n",
        "def bt(perms, perm, nums):\n",
        "  if len(perm) == len(nums): \n",
        "    perms.append(perm[:])    \n",
        "    return\n",
        "  for num in set(nums):\n",
        "    if perm.count(num) < nums.count(num):\n",
        "      perm.append(num)\n",
        "      bt(perms, perm, nums)\n",
        "      perm.pop()\n",
        "  \n",
        "def GetAllPerms(nums):\n",
        "  perms, perm = [],[]\n",
        "  bt(perms, perm, nums)\n",
        "  return perms\n",
        "\n",
        "print(GetAllPerms([1,2,3]))\n",
        "print(GetAllPerms([1,2,2]))"
      ],
      "metadata": {
        "colab": {
          "base_uri": "https://localhost:8080/"
        },
        "id": "nhMpetBYMP9y",
        "outputId": "67a134a9-ed94-4ff5-ce4b-ebbe25185f6e"
      },
      "execution_count": null,
      "outputs": [
        {
          "output_type": "stream",
          "name": "stdout",
          "text": [
            "[[1, 2, 3], [1, 3, 2], [2, 1, 3], [2, 3, 1], [3, 1, 2], [3, 2, 1]]\n",
            "[[1, 2, 2], [2, 1, 2], [2, 2, 1]]\n"
          ]
        }
      ]
    },
    {
      "cell_type": "code",
      "source": [
        "# M3 dfs  REVISIT FASTEST\n",
        "\n",
        "def permuteUnique(nums):\n",
        "    res = []\n",
        "    nums.sort()\n",
        "    self.dfs(nums, [], res)\n",
        "    return res\n",
        "    \n",
        "def dfs(nums, path, res):\n",
        "    if len(nums) == 0:\n",
        "        res.append(path)\n",
        "    for i in range(len(nums)):\n",
        "        if i > 0 and nums[i] == nums[i-1]:\n",
        "            continue\n",
        "        dfs(nums[:i] + nums[i+1:], path + [nums[i]], res)"
      ],
      "metadata": {
        "id": "2D6cXoL0Ms2l"
      },
      "execution_count": null,
      "outputs": []
    },
    {
      "cell_type": "markdown",
      "metadata": {
        "id": "ri0s09Lou2wK"
      },
      "source": [
        "**Q1.3 All Permutations I - String**\n",
        "\n",
        "Given a string with no duplicate characters, return a list with all permutations of the characters.\n",
        "\n",
        "Assume that input string is not null."
      ]
    },
    {
      "cell_type": "code",
      "metadata": {
        "id": "aXaM3s0qu719"
      },
      "source": [
        "class Solution(object):\n",
        "  def permutations(self, input):\n",
        "    \"\"\"\n",
        "    input: string input\n",
        "    return: string[]\n",
        "    \"\"\"\n",
        "    # write your solution here\n",
        "    perms, perm = [], \"\"\n",
        "    self.bt(perms, perm, input)\n",
        "    return perms\n",
        "    \n",
        "  def bt(self, perms, perm, input):\n",
        "    if len(perm) == len(input):\n",
        "      perms.append(perm)\n",
        "      return\n",
        "    for i in range(len(input)):      \n",
        "      if perm.find(input[i]) == -1:\n",
        "        perm += input[i]\n",
        "        self.bt(perms, perm, input)\n",
        "        perm = perm[:len(perm)-1]"
      ],
      "execution_count": null,
      "outputs": []
    },
    {
      "cell_type": "markdown",
      "source": [
        "**Q1.4 Next permutation** (TODO)\n",
        "\n",
        "\n",
        "A permutation of an array of integers is an arrangement of its members into a sequence or linear order.\n",
        "\n",
        "For example, for arr = [1,2,3], the following are all the permutations of arr: [1,2,3], [1,3,2], [2, 1, 3], [2, 3, 1], [3,1,2], [3,2,1].\n",
        "\n",
        "The next permutation of an array of integers is the next lexicographically greater permutation of its integer. More formally, if all the permutations of the array are sorted in one container according to their lexicographical order, then the next permutation of that array is the permutation that follows it in the sorted container. If such arrangement is not possible, the array must be rearranged as the lowest possible order (i.e., sorted in ascending order).\n",
        "\n",
        " For example, the next permutation of arr = [1,2,3] is [1,3,2].\n",
        " Similarly, the next permutation of arr = [2,3,1] is [3,1,2].\n",
        " While the next permutation of arr = [3,2,1] is [1,2,3] because [3,2,1] does not have a lexicographical larger rearrangement.\n",
        "\n",
        "Given an array of integers nums, find the next permutation of nums.\n",
        "\n",
        "The replacement must be in place and use only constant extra memory.\n",
        "[link text](https://)"
      ],
      "metadata": {
        "id": "0F-n4c5fPu_0"
      }
    },
    {
      "cell_type": "markdown",
      "source": [
        "M1 Iterative\n",
        "\n",
        "\n",
        "https://www.nayuki.io/page/next-lexicographical-permutation-algorithm\n",
        "\n",
        "Need to generate permutations in the lexicographical order\n",
        "- start from right and try to not increase the left\n",
        "1. Firstly, identify the longest suffix that is non-increasing, this suffix is already the highest permutation, so we can’t make a next permutation just by modifying it. Note that we can identify this suffix in Θ(n) time by scanning the sequence from right to left.\n",
        "2. Secondly, look at the element immediately to the left of the suffix (in the example it’s 2) and call it the pivot\n",
        "3. If we swap the pivot with the smallest element in the suffix that is greater than the pivot, then the prefix is minimally increased. "
      ],
      "metadata": {
        "id": "RGD3R7JfP-OS"
      }
    },
    {
      "cell_type": "markdown",
      "metadata": {
        "id": "yICM0BYUW-6r"
      },
      "source": [
        "**Q2 Generate all subsets of a set**\n",
        "\n",
        "Given a set of distinct integers, nums, return all possible subsets (the power set).\n",
        "\n",
        "The solution set must not contain suplicate subsets.\n",
        "\n",
        "```\n",
        "input: nums = [1,2,3]\n",
        "output:  \n",
        "[\n",
        "  [3],\n",
        "  [1],\n",
        "  [2],\n",
        "  [1,2,3],\n",
        "  [1,3],\n",
        "  [2,3],\n",
        "  [1,2],\n",
        "  []\n",
        "]\n",
        "```\n",
        "\n",
        "1. How many levels in the recursion tree? What to store on each level?\n",
        " * At first, you might think the number of steps we need to construct a valid subset is different. For example, just need 1 step to have {3} and 2 steps for {2,3}. However, there is a strategy such that all subsets are constructed in the same number of steps.\n",
        " * N levels. For each level, it makes the decision whether to put this element in the final set or not\n",
        "\n",
        "2. How many different states shuold we try to put on each level?\n",
        " * Two. Select or not to select the corresponding number.\n",
        "\n",
        "3. For the cohice we make at the current stage, is it compatible with choices made for all previous stages?\n",
        " * Since at each stage we will guarantee to choose a unique number, we do not need a compatibiility test.\n",
        "\n",
        "\n",
        "Key observations\n",
        "1. We can build a valid subset incrementally\n",
        "2. At a certain position, we are not forced to always choose an item.\n",
        "3. When consider a candidate, only consider the ones haven't been considered before\n",
        "4. Is it possible to get [1,2] and [2,1]? No. Because there are N stages, each stage we choose the number or not. The order is determined.\n",
        "5. All possible ways = 2^N"
      ]
    },
    {
      "cell_type": "code",
      "metadata": {
        "id": "V4GF8XCRW4_R"
      },
      "source": [
        "# M1 Backtracking\n",
        "def subsets(self, nums):\n",
        "    answers, subset = [], []\n",
        "    bt(answers, subset, 0, nums)\n",
        "    return answers\n",
        "\n",
        "def bt(answer, subset, current_position, nums):\n",
        "  # base case\n",
        "  if current_position == len(nums):\n",
        "    answers.append(subset[:]) # must make a deep copy\n",
        "    return\n",
        "  # case 1: do not add the current number\n",
        "  bt(answers, subset, current_position + 1, nums)\n",
        "  # case 2: add current number\n",
        "  subset.append(nums[current_position])   # select\n",
        "  bt(answers, subset, current_position + 1, nums)\n",
        "  subset.pop()                            # remove to return \n",
        "  return                                  # NEED RETURN\n",
        "  \n",
        "# time: O(2^n)"
      ],
      "execution_count": null,
      "outputs": []
    },
    {
      "cell_type": "markdown",
      "source": [
        "Assume we know how to get the result for {1,2}. This result is part of the final result of {1,2,3}.\n",
        "\n",
        "$$\n",
        "subset(x_1, x_2, ...x_n) = subset(x_1, x_2, ...x_{n-1}) \\cup \\{\\textit{add} x_n \\textit{to every subset in} subset(x_1, x_2, ... x_{n-1})\n",
        "$$"
      ],
      "metadata": {
        "id": "fJeSkEFT-vus"
      }
    },
    {
      "cell_type": "code",
      "metadata": {
        "id": "OLw66ulTi5ri",
        "colab": {
          "base_uri": "https://localhost:8080/"
        },
        "outputId": "6f3da9ac-1d57-4845-e820-b020ee19cce8"
      },
      "source": [
        "# M2 Divide and Conquer\n",
        "\n",
        "def subsets(nums):\n",
        "  if not nums:\n",
        "    return [[]]\n",
        "  r = subsets(nums[:-1]) # subsets that do not contain the last element\n",
        "  return r + [s + [nums[-1]]for s in r]\n",
        "\n",
        "subsets([1,2,3])"
      ],
      "execution_count": null,
      "outputs": [
        {
          "output_type": "execute_result",
          "data": {
            "text/plain": [
              "[[], [1], [2], [1, 2], [3], [1, 3], [2, 3], [1, 2, 3]]"
            ]
          },
          "metadata": {},
          "execution_count": 8
        }
      ]
    },
    {
      "cell_type": "code",
      "source": [
        "# M3 iterative \n",
        "\n",
        "def subsets(nums):\n",
        "  res = [[]]\n",
        "  for num in nums:\n",
        "    for i in range(len(res)):\n",
        "      res.append(res[i]+[num])\n",
        "  return res\n",
        "\n",
        "subsets([1,2,3])"
      ],
      "metadata": {
        "colab": {
          "base_uri": "https://localhost:8080/"
        },
        "id": "vAohZNVaA8H4",
        "outputId": "bd939856-5694-4a80-e7d2-22889e3e7492"
      },
      "execution_count": null,
      "outputs": [
        {
          "output_type": "execute_result",
          "data": {
            "text/plain": [
              "[[], [1], [2], [1, 2], [3], [1, 3], [2, 3], [1, 2, 3]]"
            ]
          },
          "metadata": {},
          "execution_count": 10
        }
      ]
    },
    {
      "cell_type": "markdown",
      "metadata": {
        "id": "X1YHXO1am0OO"
      },
      "source": [
        "**Q2.2 Subsets with duplicates**\n",
        "\n",
        "Given a collection of integers that might contain duplicates, nums, return all possible subsets (the power set)\n",
        "\n",
        "```\n",
        "input: [1,2,2]\n",
        "output: [[2], \n",
        "        [1], \n",
        "        [1,2,2], \n",
        "        [2,2], \n",
        "        [1,2], \n",
        "        [1]]\n",
        "```\n",
        "\n",
        "* Given [2,2], originally there are 2^2 choices. However, now [2,2] and [2,2] are the same. Both describes the case when we pick only one 2. \n",
        "\n",
        "```\n",
        "2 2\n",
        "N N\n",
        "N Y\n",
        "Y N\n",
        "Y Y \n",
        "```\n",
        "\n",
        "\n",
        "* We can try to enforce an order to eliminate the duplicate situation. Sort first so that all same elements are together\n",
        "* if for a given element at the current position we choose not to include, then all the same elements will also be excluded; [2,2] cannot resolve in [N, Y] --> the idea is choose 2 0 times, 1 time, 2 times...\n",
        "\n",
        "\n",
        "```\n",
        "2 2 2 \n",
        "N N N\n",
        "Y N N\n",
        "Y Y N\n",
        "Y Y Y\n",
        "```\n",
        "\n",
        "\n"
      ]
    },
    {
      "cell_type": "code",
      "metadata": {
        "id": "Cn697wN5nIWE",
        "colab": {
          "base_uri": "https://localhost:8080/"
        },
        "outputId": "7531c8bf-9ab7-4b55-cdfa-8203f138215a"
      },
      "source": [
        "# M1 backtracking\n",
        "\n",
        "def bt(answers, subset, C, N, nums):\n",
        "  # C: decision stage \n",
        "  if C == N:\n",
        "    answers.append(subset[:])\n",
        "    return\n",
        "  # case 1: choose current number\n",
        "  subset.append(nums[C])\n",
        "  bt(answers, subset, C+1, N, nums)\n",
        "  subset.pop()\n",
        "  # case 2: do not choose current number\n",
        "  i = C + 1\n",
        "  while i < len(nums) and nums[C] == nums[i]:\n",
        "    i += 1\n",
        "  bt(answers, subset, i, N, nums)\n",
        "  return # NEED RETURN\n",
        "  \n",
        "def subsets(nums):\n",
        "  nums.sort()  #sort to facilitate\n",
        "  answers = []\n",
        "  bt(answers, [], 0, len(nums), nums)\n",
        "  return answers\n",
        "\n",
        "subsets([1,2,2])\n",
        "\n",
        "# time: O(2^N) + O(nlogn)"
      ],
      "execution_count": null,
      "outputs": [
        {
          "output_type": "execute_result",
          "data": {
            "text/plain": [
              "[[1, 2, 2], [1, 2], [1], [2, 2], [2], []]"
            ]
          },
          "metadata": {},
          "execution_count": 12
        }
      ]
    },
    {
      "cell_type": "code",
      "source": [
        "# M2 iterative\n",
        "def subsets(nums):\n",
        "  res = [[]]\n",
        "  nums.sort()\n",
        "  for i in range(len(nums)):\n",
        "    if i == 0 or nums[i] != nums[i - 1]:\n",
        "      l = len(res)\n",
        "    for j in range(len(res) - l, len(res)):\n",
        "       res.append(res[j] + [nums[i]])\n",
        "  return res \n",
        "\n",
        "subsets([1,2,2])"
      ],
      "metadata": {
        "colab": {
          "base_uri": "https://localhost:8080/"
        },
        "id": "QN0n-YDzDVoh",
        "outputId": "66d6f23f-58cf-4687-f3bb-be2450e9de3c"
      },
      "execution_count": null,
      "outputs": [
        {
          "output_type": "execute_result",
          "data": {
            "text/plain": [
              "[[], [1], [2], [1, 2], [2, 2], [1, 2, 2]]"
            ]
          },
          "metadata": {},
          "execution_count": 18
        }
      ]
    },
    {
      "cell_type": "code",
      "source": [
        "# M3 backtracking style 2 \n",
        "def subsetsWithDup(nums):\n",
        "    answers = []\n",
        "    dfs(sorted(nums), [], answers)\n",
        "    return answers\n",
        "    \n",
        "def dfs(nums, answer, answers):\n",
        "    answers.append(answer)\n",
        "    for i in range(len(nums)):\n",
        "        if i > 0 and nums[i] == nums[i-1]:\n",
        "            continue\n",
        "        dfs(nums[i+1:], answer+[nums[i]], answers)\n",
        "\n",
        "subsets([1,2,2])"
      ],
      "metadata": {
        "colab": {
          "base_uri": "https://localhost:8080/"
        },
        "id": "KX95o7jpGMdt",
        "outputId": "cfec1b7e-49dd-4881-f187-d12f11bf8a7c"
      },
      "execution_count": null,
      "outputs": [
        {
          "output_type": "execute_result",
          "data": {
            "text/plain": [
              "[[], [1], [2], [1, 2], [2, 2], [1, 2, 2]]"
            ]
          },
          "metadata": {},
          "execution_count": 20
        }
      ]
    },
    {
      "cell_type": "markdown",
      "source": [],
      "metadata": {
        "id": "Iv4gxDjGGMMC"
      }
    },
    {
      "cell_type": "markdown",
      "metadata": {
        "id": "mH7NfCsrW-B4"
      },
      "source": [
        "**Q3 Generate all valid parentheses**\n",
        "\n",
        "Given n pairs of parentheses, write a function to generate all combinations of well-formed parentheses.\n",
        "\n",
        "For example, n = 3:\n",
        "[ \"((()))\", \"(()())\". \"(())()\", \"()(())\", \"()()()\"]\n",
        "\n",
        "Thought process:\n",
        "1. Multi-stage problem: 6 decisions, because need 6 parenthesis\n",
        "2. Decisions at each stage: two possible choices \"(\", \")\"\n",
        "3. For any position, is all these two choices ok? Compatibility test\n",
        " 1. if number of ( same as number of ) --> cannot put )\n",
        " 2. if number of ( same as n --> cannot put (\n"
      ]
    },
    {
      "cell_type": "code",
      "metadata": {
        "id": "TzNo_n96bME5"
      },
      "source": [
        "def bt(answers, sequence, l, r):\n",
        "  # l, r = number of remaining left, right parenthesis\n",
        "  if r == 0:\n",
        "    answers.append(''.join(sequence))\n",
        "    return\n",
        "  if l > 0:\n",
        "    sequence.append('(')\n",
        "    bt(answers, sequence, l - 1, r)\n",
        "    sequence.pop()\n",
        "  if l < r:       # note it is not else if\n",
        "    sequence.append(')')\n",
        "    bt(answers, sequence, l, r - 1)\n",
        "    sequence.pop()\n",
        "  return\n",
        "\n",
        "class Solution(object):\n",
        "  def generateParenthesis(self, n):\n",
        "    answers, sequence = [], []\n",
        "    bt(answers, sequence, n, n)\n",
        "    return answers\n",
        "\n",
        "# time: O(2^2n)"
      ],
      "execution_count": null,
      "outputs": []
    },
    {
      "cell_type": "code",
      "metadata": {
        "id": "s9-1OXCNsH8T"
      },
      "source": [
        "# Backtracking style 2\n",
        "def bt(seqs, seq, n):\n",
        "  if len(seq) == 2 * n:\n",
        "    seqs.append(seq[:])\n",
        "    return\n",
        "  if seq.count('(') < n:\n",
        "    seq.append('(')\n",
        "    bt(seqs, seq, n)\n",
        "    seq.pop()\n",
        "  if HasMachingLeft(seq):\n",
        "    seq.append(')')\n",
        "    bt(seqs, seq, n)\n",
        "    seq.pop()\n",
        "\n",
        "def HasMatchingLeft(seq):\n",
        "  s = []\n",
        "  for c in seq:\n",
        "    if c == '(':\n",
        "      s.append(c)\n",
        "    else:\n",
        "      s.pop()\n",
        "  return len(s) > 0"
      ],
      "execution_count": null,
      "outputs": []
    },
    {
      "cell_type": "markdown",
      "source": [
        "Based on the pattern, assuming S, A and B are all valid parenthesis sequences. Then the following two are true:\n",
        "* (S) is a valid parentheses sequence\n",
        "* The concatenatation of A and B is also a valid parentheses sequence. \n",
        "\n",
        "Thus, we can have the following recursion rule:\n",
        "\n",
        "$$\n",
        "Generate(n) = \\{ (S) \\textit{ for every S in Generate(n-1)} \\} \\cup \\{ \\textit{cartesian produce of Generate(1) and Generate(n-1)} \\} \\cup \\{ \\textit{cartesian product of Generate(2) and Generate(n-2)} \\} \\cup \\dots \\cup \\{ \\textit{cartesian product of Generate(n-1) and Generate(1)} \\}\n",
        "$$"
      ],
      "metadata": {
        "id": "Fohzsn7-2ugY"
      }
    },
    {
      "cell_type": "code",
      "source": [
        "np.arange()"
      ],
      "metadata": {
        "id": "jgxmpy8zgcee"
      },
      "execution_count": null,
      "outputs": []
    },
    {
      "cell_type": "code",
      "metadata": {
        "id": "24K9I-Egk2YQ"
      },
      "source": [
        "# M2 Divide and conquer\n",
        "# Assume S, A, B are valid parenthesis sequence, then\n",
        "# 1. (S) is a valid sequence\n",
        "# 2. A + B is a valid sequence\n",
        "\n",
        "def impl(n):\n",
        "  if n == 0:\n",
        "    return set([''])\n",
        "  return set(['(' + s + ')' for s in impl(n-1)]) | set([s1+s2 for k in range(1,n) for s1 in impl(k) for s2 in impl(n-k)])\n",
        "\n",
        "class Solution(object):\n",
        "  def generateParenthesis(self, n):\n",
        "    return list(impl(n))"
      ],
      "execution_count": null,
      "outputs": []
    },
    {
      "cell_type": "markdown",
      "metadata": {
        "id": "g4CVuiy0cVS7"
      },
      "source": [
        "**Q4 N Queens problem**\n",
        "\n",
        "Need to place n queens on an nxn chessboard such that no two queens attach each other\n",
        "\n",
        "Example: input 4\n",
        "\n",
        "Output: 2 solutions\n",
        "\n",
        "\n",
        "```\n",
        "[\".Q..\", \n",
        " \"...Q\", \n",
        " \"Q...\", \n",
        " \"..Q.\"]\n",
        "[\"..Q.\", \n",
        " \"Q...\", \n",
        " \"...Q\", \n",
        " \".Q..\"]\n",
        "```\n",
        "\n",
        "\n",
        "\n",
        "Method 1\n",
        "* 16 stages\n",
        "* each stage decision: put or not\n",
        "* However, this is time consuming. Time is wasted in considering combinations that are not allowed. \n",
        "\n",
        "Method 2\n",
        "* 4 stages (each stage one row)\n",
        "* each stage decision: where to put Q in the row\n",
        "* Better\n",
        "\n",
        "Observations\n",
        "1. All queens will be on different rows\n",
        "2. We could find result by putting queens row by row \n",
        "3. Assume we have put queens to previous k rows and the ith queen on ith row is put in c col, when we consider k + 1 row, we need to make sure the queen we put will not be on the same column and diagonals as the previous ones\n",
        "4. For diagonal testing, whether have slope = 1 or same distance in the vertical and horizontal axis, |cj-ci| != j - 1\n",
        "5. For column testing ci != cj  \n"
      ]
    },
    {
      "cell_type": "code",
      "metadata": {
        "id": "M13cTEDPfNSC"
      },
      "source": [
        "def is_compatible(previous_columns, current_column, current_row):\n",
        "  for previous_row in range(current_row):\n",
        "    # if a previous queen is on the same column\n",
        "    # or if current queen has same vertical and horizontal distance with a previous queen\n",
        "    # do not need to check compatibility of rows, because we built the problem by row\n",
        "    if previous_columns[previous_row] == current_column or current_row - previous_row == abs(previous_columns[previous_row] - current_column):\n",
        "      return False\n",
        "    return True\n",
        "\n",
        "def bt(answers, positions, row, n):\n",
        "  # positions: a list such that i-th item is the column where we place the chess at the ith row\n",
        "  # row: an integer indicating the current row, decision stage\n",
        "  # n: total number of rows\n",
        "  if row == n:\n",
        "    answers.apend(['.' * p + 'Q' + '.' * (n-1-p) for p in positions])\n",
        "    return\n",
        "  for column in range(n): # at a given row, all possible columns\n",
        "    if is_compatible(positions, column, row):\n",
        "      positions.append(column)\n",
        "      bt(answers, positions, row + 1, n)\n",
        "      positions.pop()\n",
        "  return\n",
        "\n",
        "class Solution(object):\n",
        "  def solveNQueens(self, n):\n",
        "    answers, positions = [], []\n",
        "    bt(answers, positions, 0, n)\n",
        "    return answers"
      ],
      "execution_count": null,
      "outputs": []
    },
    {
      "cell_type": "markdown",
      "metadata": {
        "id": "OhaR6McxdteU"
      },
      "source": [
        "**Q5 Combinations**\n",
        "\n",
        "Given two integers n and k, return all possible combinations of k numbers out of 1 ... n. Note that [2,4] and [4,2] count as the same combination.\n",
        "\n",
        "```\n",
        "Input: n = 4, k = 2\n",
        "\n",
        "Output: [[2,4], \n",
        "        [3,4], \n",
        "        [2,3], \n",
        "        [1,2],\n",
        "        [1,3],\n",
        "        [1,3]]\n",
        "```\n"
      ]
    },
    {
      "cell_type": "code",
      "metadata": {
        "id": "UcAnTcR0d8n0"
      },
      "source": [
        "'''\n",
        "M1\n",
        "1. Multistage decision problem? We have k stages\n",
        "2. What will be the possible candidates for a certain stage? The range of stage \n",
        "  K + 1 will start from the number we pick at stage K + 1\n",
        "3. Compatibility test: not needed\n",
        "\n",
        "Problem: [1,2] is same as [2,1]\n",
        "Solution: enforce a certain generation order when you build the result\n",
        "We only pick numbers that is larger than the number we picked from the previous stage\n",
        "\n",
        "stage 1: pick a number from 1-4. pick 1\n",
        "stage 2: pick a number from [1+1, 4]\n",
        "\n",
        "stage 1: pick a number from 1-4. pick 2\n",
        "stage 2: pick a number from [2+1, 4]\n",
        "'''\n",
        "\n",
        "def bt(combs, comb, index, n, k, lower_bound):  # use lower bound\n",
        "  if k == 0:\n",
        "    combs.append(comb[:])\n",
        "    return\n",
        "  for num in range(lower_bound, n + 1):\n",
        "    comb.append(num)\n",
        "    bt(combs, comb, index + 1, n, k - 1, num + 1) # index + 1 is the next node\n",
        "    comb.pop()\n",
        "  \n",
        "def gen_combs(n, k):\n",
        "  combs, comb = [], []\n",
        "  index = 0\n",
        "  bt(combs, comb, 0, n, k, 1)\n",
        "  return combs\n"
      ],
      "execution_count": null,
      "outputs": []
    },
    {
      "cell_type": "code",
      "source": [
        "# M1 Backtracking another style, decreasing k \n",
        "\n",
        "def bt(results, comb, i, n, k):\n",
        "  # i: the minimum number we can try at the current stage\n",
        "  if k == 0:\n",
        "    results.append(comb[:])\n",
        "    return\n",
        "  for t in range(i, n+1):\n",
        "    comb.append(t)\n",
        "    bt(results, comb, t+1, n, k=1)\n",
        "    comb.pop()\n",
        "\n",
        "def combine(self, n, k):\n",
        "  results, comb = [], []\n",
        "  bt(results, comb, 0, n, k)\n",
        "  return results "
      ],
      "metadata": {
        "id": "Ju9DPyISoiS0"
      },
      "execution_count": null,
      "outputs": []
    },
    {
      "cell_type": "code",
      "metadata": {
        "id": "2sgslqWc6-hg"
      },
      "source": [
        "'''\n",
        "M2 \n",
        "* Multistage decision problem. We have n stages\n",
        "* What will be the possible candidates for a certain stage? [*, *] The numbers not chosen before. The range of the stage K + 1 will start from the number we pick at stage K+1 -> avoids duplicates such as [1,2] and [2,1]\n",
        " * stage1: pick a number from 1~4 pick 1\n",
        " * stage2: pick a number from 2~4\n",
        "* Compatibility test? We don't need \n",
        "'''"
      ],
      "execution_count": null,
      "outputs": []
    },
    {
      "cell_type": "code",
      "source": [
        "# M2 DFS TODO\n",
        "\n",
        "class Solution(object):\n",
        "    def combine(self, n, k):\n",
        "        \"\"\"\n",
        "        :type n: int\n",
        "        :type k: int\n",
        "        :rtype: List[List[int]]\n",
        "        \"\"\"\n",
        "        res=[]\n",
        "        self.dfs(range(1, n+1), k, [], res)\n",
        "        return res\n",
        "    \n",
        "    def dfs(self, nums, k, path, res):\n",
        "        if len(path) == k:\n",
        "            res.append(path)\n",
        "            return\n",
        "        for i in range(len(nums)):\n",
        "            self.dfs(nums[i+1:], k, path+ [nums[i]], res)"
      ],
      "metadata": {
        "id": "Yj9_MzFqSkjS"
      },
      "execution_count": null,
      "outputs": []
    },
    {
      "cell_type": "markdown",
      "metadata": {
        "id": "Rk3RVGZysPzJ"
      },
      "source": [
        "**Q6 Combinations of Coins**\n",
        "\n",
        "Given a number of different coins (1 cent, 5 cents, 25 cents), get the possible ways to pay a target number of cents. {0,1,2,3,4} correspond to {25, 10, 5, 2,1}\n",
        "\n",
        "\n",
        "```\n",
        "input: coins = {2,1}, target = 4\n",
        "output: \n",
        "[0,4] (4 cents = 0*2 cents + 4*1 cent)\n",
        "[1,2] (4 cents = 1*2 cents + 2*1 cents)\n",
        "[2,0] (4 cents = 2*2 cents + 0*1 cent)\n",
        "```\n"
      ]
    },
    {
      "cell_type": "code",
      "metadata": {
        "id": "M7hsWDdwt0k1"
      },
      "source": [
        "'''\n",
        "M1 backtracking\n",
        "1. Picture a recursion tree of n levels, corresponding to n types of coins\n",
        "2. Each level, decide how many coins we need\n",
        "3. Compatibility: target\n",
        "'''\n",
        "def bt(coin_combs, coin_comb, target, coins): \n",
        "  if len(coin_comb) == len(coins): # already reach the bottom\n",
        "    if target == 0: # already enough money # need if in two lines because both need return\n",
        "      coin_combs.append(coin_comb[:])\n",
        "    return\n",
        "  # at each decision stage/type of coin, try a coin with 0 or more times\n",
        "  for times in range(target // coins[len(coin_comb)] + 1):\n",
        "    coin_comb.append(times)\n",
        "    bt(coint_combs, coin_comb, target - coins[len(coin_comb)] * times, coins)\n",
        "    coin_comb.pop()\n",
        "    # use len(coin_comb) to check the decision stage\n",
        "\n",
        "def gen_all_coin_combs(coins, target):\n",
        "  coin_combs, coin_comb = [], []\n",
        "  bt(coin_combs, coin_comb, target, coins)\n",
        "  return coin_combs"
      ],
      "execution_count": null,
      "outputs": []
    },
    {
      "cell_type": "code",
      "source": [
        "'''\n",
        "M2 Iterative \n",
        "'''"
      ],
      "metadata": {
        "id": "FErPoRQbx7N2"
      },
      "execution_count": null,
      "outputs": []
    },
    {
      "cell_type": "markdown",
      "metadata": {
        "id": "j0O_7F0AvnEZ"
      },
      "source": [
        "**Q7 Factor Combinations**\n",
        "\n",
        "Given a number, generate all combinations of its factors\n",
        "* may assume n is always positive\n",
        "* factors should be greater than 1 and less than n\n",
        "\n",
        "```\n",
        "input: 37\n",
        "output: []\n",
        "\n",
        "input: 12\n",
        "output: [[2,6], \n",
        "         [2,2,3],\n",
        "         [3,4]]\n",
        "```\n",
        " \n",
        "* Multistage problem\n",
        " * Stage 1: find the first factor f: (n % f1 == 0), range [2, n). Though, we can also use range [2, sqrt(n)] or [2, n/2]\n",
        " * Stage 2: find the second factor f2: (n/f1) % f2 == 0, range [f1, n/f1)\n",
        " * Termination condition: remaining number === 1\n",
        "\n",
        "* Similar to coins combination. Instead of sum we have multipplication\n",
        "* We need to avoid the generation of a single combination multiple times. For example, [2,2,3] and [2,3,2] are the same. We can achieve this by forcing the way we choose the factor -> the factor for the current stage should be >= the factor we choose for the last stage\n",
        "\n"
      ]
    },
    {
      "cell_type": "code",
      "metadata": {
        "id": "Qv1THjGcv4yX"
      },
      "source": [
        "# M1 backtracking (slow, 21 cases for 2s)\n",
        "def bt(answers, comb, n):\n",
        "  # comb: current combination\n",
        "  # n: remaining number\n",
        "  if n == 1 and len(comb) > 1:  # generate all possible factor combs for n\n",
        "    answers.append(comb[:])\n",
        "    return\n",
        "  for f in range(2 if not comb else comb[-1], n+1):\n",
        "    if n%f == 0:\n",
        "      comb.append(f)\n",
        "      bt(answers, comb, n/f)\n",
        "      comb.pop()\n",
        "    \n",
        "def getFactors(self, n):\n",
        "  answers, comb = [], []\n",
        "  bt(answers, comb, n)\n",
        "  return answers"
      ],
      "execution_count": null,
      "outputs": []
    },
    {
      "cell_type": "code",
      "metadata": {
        "id": "bI8Cjku4JUVZ"
      },
      "source": [
        "# M2.1 improved （21ms for 21 cases)\n",
        "'''\n",
        "T = f1 * f2, assuming f1 <= f2\n",
        "then f1 <= sqrt(T)\n",
        "\n",
        "However, this is not enough. For example, 32=2*16\n",
        "16 is already a solution. Do not need to reach the base case.\n",
        "So append 16. And continue factoring\n",
        "\n",
        "Much faster because the number of branches is substantially less.\n",
        "'''\n",
        "\n",
        "import math\n",
        "\n",
        "def bt(answers, comb, n):\n",
        "  if len(comb) > 0:  # every stage is a valid solution, doesnt have to reach the bottom\n",
        "    answers.append(comb + [n])  # no return because want to continue factoring to get other answers\n",
        "\n",
        "  for f in range(2 if not comb else comb[-1], int(math.sqrt(n)) + 1):\n",
        "    if n % f == 0:\n",
        "      comb.append(f)\n",
        "      bt(answers, comb, n/f)\n",
        "      comb.pop()\n",
        "      \n",
        "def getFactors(self, n):\n",
        "  answers = []\n",
        "  bt(answers, [], n)\n",
        "  return answers"
      ],
      "execution_count": null,
      "outputs": []
    },
    {
      "cell_type": "code",
      "metadata": {
        "id": "pEpmfej3Na_N"
      },
      "source": [
        "# M2.2 Simplified\n",
        "def bt(answers, comb, s, n):\n",
        "  while s * s <= n:\n",
        "    if n % s == 0:\n",
        "      answers.append(comb + [s, n / s]) #union\n",
        "      bt(answers, comb + [s], s, n / s)\n",
        "    s += 1\n",
        "      \n",
        "def getFactors(self, n):\n",
        "  answers = []\n",
        "  bt(answers, [], 2, n)\n",
        "  return answers"
      ],
      "execution_count": null,
      "outputs": []
    },
    {
      "cell_type": "code",
      "source": [
        "# iterative\n"
      ],
      "metadata": {
        "id": "6WJXfG_33B9_"
      },
      "execution_count": null,
      "outputs": []
    },
    {
      "cell_type": "markdown",
      "source": [
        "**Q8 Combination Sum**\n",
        "\n",
        "Given an array of distinct integers candidates and a target integer target, return a list of all unique combinations of candidates where the chosen numbers sum to target. You may return the combinations in any order.\n",
        "\n",
        "The same number may be chosen from candidates an unlimited number of times. Two combinations are unique if the frequency of at least one of the chosen numbers is different.\n",
        "\n",
        "It is guaranteed that the number of unique combinations that sum up to target is less than 150 combinations for the given input.\n",
        "\n",
        "\n",
        "\n",
        "```\n",
        "Input: candidates = [2,3,6,7], target = 7\n",
        "Output: [[2,2,3],[7]]\n",
        "Explanation:\n",
        "2 and 3 are candidates, and 2 + 2 + 3 = 7. Note that 2 can be used multiple times.\n",
        "7 is a candidate, and 7 = 7.\n",
        "These are the only two combinations.\n",
        "```\n",
        "\n",
        "\n"
      ],
      "metadata": {
        "id": "cqHvlF6zgacY"
      }
    },
    {
      "cell_type": "code",
      "source": [
        "class Solution:\n",
        "    def combinationSum(self, candidates, target):\n",
        "        ret = []\n",
        "        candidates.sort()\n",
        "        self.dfs(candidates, target, [], ret)\n",
        "        return ret\n",
        "    \n",
        "    def dfs(self, nums, target, path, ret):\n",
        "        if target < 0:\n",
        "            return \n",
        "        if target == 0:\n",
        "            ret.append(path)\n",
        "            return \n",
        "        for i in range(len(nums)):\n",
        "            self.dfs(nums[i:], target-nums[i], path+[nums[i]], ret) "
      ],
      "metadata": {
        "id": "6CFN7ZgVgeDc"
      },
      "execution_count": null,
      "outputs": []
    },
    {
      "cell_type": "markdown",
      "source": [
        "**Q8.2 Combination Sum II**\n",
        "\n",
        "Given a collection of candidate numbers (candidates) and a target number (target), find all unique combinations in candidates where the candidate numbers sum to target.\n",
        "\n",
        "Each number in candidates may only be used once in the combination.\n",
        "\n",
        "Note: The solution set must not contain duplicate combinations.\n",
        "\n",
        "\n",
        "\n",
        "```\n",
        "Input: candidates = [10,1,2,7,6,1,5], target = 8\n",
        "Output: \n",
        "[\n",
        "[1,1,6],\n",
        "[1,2,5],\n",
        "[1,7],\n",
        "[2,6]\n",
        "]\n",
        "```\n",
        "\n"
      ],
      "metadata": {
        "id": "-3eJ5BA2guFW"
      }
    },
    {
      "cell_type": "code",
      "source": [
        "class Solution:\n",
        "    def combinationSum2(self, candidates: List[int], target: int) -> List[List[int]]:\n",
        "        answers = []\n",
        "        candidates.sort()\n",
        "        self.dfs(answers, [], candidates, target)\n",
        "        return answers\n",
        "    \n",
        "    def dfs(self, answers, answer, candidates, target):\n",
        "        if target == 0:\n",
        "            answers.append(answer[:])\n",
        "            return \n",
        "        if target < 0:\n",
        "            return \n",
        "        for i in range(len(candidates)):\n",
        "            if candidates[i] > target:\n",
        "                continue \n",
        "            if i > 0 and candidates[i] == candidates[i-1]:\n",
        "                continue \n",
        "            \n",
        "            self.dfs(answers, answer + [candidates[i]], candidates[i+1:], target-candidates[i])\n",
        "            "
      ],
      "metadata": {
        "id": "K9Np0Ulfg3Ez"
      },
      "execution_count": null,
      "outputs": []
    },
    {
      "cell_type": "code",
      "source": [
        "# backtracking style 2\n",
        "class Solution:\n",
        "    def combinationSum2(self, candidates: List[int], target: int) -> List[List[int]]:\n",
        "        answers = []\n",
        "        candidates.sort()\n",
        "        self.bt(answers, [], candidates, target)\n",
        "        return answers\n",
        "    \n",
        "    def bt(self, answers, answer, candidates, target):\n",
        "        if target == 0:\n",
        "            answers.append(answer[:])\n",
        "            return \n",
        "        if target < 0:\n",
        "            return \n",
        "        for i in range(len(candidates)):\n",
        "            if candidates[i] > target:\n",
        "                continue \n",
        "            if i > 0 and candidates[i] == candidates[i-1]:\n",
        "                continue \n",
        "            answer.append(candidates[i])\n",
        "            self.bt(answers, answer, candidates[i+1:], target-candidates[i])\n",
        "            answer.pop()\n",
        "            \n",
        "    \n",
        "        \n",
        "'''\n",
        "Bakcktracking\n",
        "1. number of stages: until target <= 0\n",
        "2. number of choices: len(candidates) minus already chosen \n",
        "3. compatibilty:\n",
        "- how to avoid duplicates \n",
        "'''"
      ],
      "metadata": {
        "id": "P9zLL9hSg8q1"
      },
      "execution_count": null,
      "outputs": []
    },
    {
      "cell_type": "markdown",
      "source": [
        "**Q9 word search**\n",
        "\n",
        "\n",
        "Given an m x n grid of characters board and a string word, return true if word exists in the grid.\n",
        "\n",
        "The word can be constructed from letters of sequentially adjacent cells, where adjacent cells are horizontally or vertically neighboring. The same letter cell may not be used more than once.\n",
        "\n",
        "\n",
        "\n",
        "```\n",
        "Input: board = [[\"A\",\"B\",\"C\",\"E\"],\n",
        "                [\"S\",\"F\",\"C\",\"S\"],\n",
        "                [\"A\",\"D\",\"E\",\"E\"]], \n",
        "       word = \"ABCCED\"\n",
        "Output: true\n",
        "```\n",
        "\n"
      ],
      "metadata": {
        "id": "Nj0IhjiOpHDV"
      }
    },
    {
      "cell_type": "code",
      "source": [
        "class Solution:\n",
        "    def exist(self, board: List[List[str]], word: str) -> bool:\n",
        "        if not board:\n",
        "            return False\n",
        "        \n",
        "        visited = [[False for i in range(len(board[0]))] for j in range(len(board))]\n",
        "        for i in range(len(board)):\n",
        "            for j in range(len(board[0])):\n",
        "                if self.dfs(board, i, j, word, visited):\n",
        "                    return True\n",
        "        \n",
        "        return False \n",
        "\n",
        "    def dfs(self, board, i, j, word, visited):\n",
        "        if len(word) == 0:\n",
        "            return True\n",
        "        if i < 0 or i >= len(board) or j < 0 or j >= len(board[0]):\n",
        "            return False\n",
        "        if board[i][j] != word[0] or visited[i][j]:\n",
        "            return False\n",
        "        \n",
        "        visited[i][j] = True\n",
        "        res = self.dfs(board, i+1, j, word[1:], visited) or self.dfs(board, i-1, j, word[1:], visited) or self.dfs(board, i, j+1, word[1:], visited) or self.dfs(board, i, j-1, word[1:], visited) \n",
        "        visited[i][j] = False\n",
        "        \n",
        "        return res \n",
        "  '''\n",
        "    O(m*n*4^s) where m=# of rows, n=# of cols and s=len of the word.\n",
        "    '''"
      ],
      "metadata": {
        "id": "jZQlyzyApJ1N"
      },
      "execution_count": null,
      "outputs": []
    },
    {
      "cell_type": "markdown",
      "metadata": {
        "id": "K8PQWW6y3NMm"
      },
      "source": [
        "##4.4 Graph Algorithms"
      ]
    },
    {
      "cell_type": "markdown",
      "metadata": {
        "id": "U8rIWjyH3UFV"
      },
      "source": [
        "Graph can be represented with vertex and edges:\n",
        "```\n",
        "Given G = (V, E)\n",
        "V = (a, b, c)\n",
        "E = {(a,b), (b,c), (a,c)}\n",
        "```\n",
        "\n",
        "Graph Representation\n",
        "* M1 Store all pair of vertices as edges\n",
        " * very inefficient to answer questions such as: Given two vertices, is there an edge between them? You can only answer by traversing all possible edges \n",
        "* M2 Adjacency matrix: For any given cell (u,v) if the value of the cell is 1, it means there exists an edge\n",
        " * Disadvantage: if graph is sparse, matrix will contain lot of 0. Storage for these cells are wasted\n",
        " * Disadvantage: Adding a new vertex will be difficult. You have to create a new matrix\n",
        "* M3 Adjacency list: store all neighbor vertices of a vertex as well as this vertex itself. e.g. a: {b.c}, c:{a,b}. A hashset for just the neighbors of a specific vertex\n",
        " * Advantage: do not store edges that do not exist\n",
        " * Advantage: Fast query for edge existence\n",
        " * Advantage: easy to add a new vertex\n",
        "\n",
        "Application\n",
        "* web crawling\n",
        "* social networking -- *六度分隔理论 six degree of separation\n",
        "* garbage collection\n",
        "\n",
        "Questions\n",
        "* Given a source vertex s and a target t, is there a path from s to t?\n",
        "* Given a source vertex s, find all reachable vertices and edges from s\n",
        "* Given a graph, traverse all the nodes inside it\n",
        "\n",
        "Strategies:\n",
        "* Breadth First Search\n",
        "* Depth First Search\n",
        "\n",
        "All strategies are summarized in one:\n",
        "* Basically, we first traverse all neighbors of vertex s, then we traverse all the neighbors of those vertices we just traversed, and so on. One important thing is to avoid duplication. Otherwise, your traversal algorithm will not be terminated if there is a cycle\n",
        "```\n",
        "MetaGraphSearchAlgorithm(graph, s):\n",
        "  # systematically explore all vertices that are reachable from s\n",
        "  put s in bag as well as mark s accordingly:\n",
        "  while bag is not empty:\n",
        "    extract a not from the bag\n",
        "    for neighbor in graph.neighbors(node):\n",
        "      if neighbor is not marked:\n",
        "        put the neighbor in bag and mark the neighbor\n",
        "\n",
        "time: O(V+E*T)\n",
        "T = time complexity for putting a node in a bag and taking a node out of a bag\n",
        "```\n",
        "\n",
        "\n",
        "\n",
        "\n",
        "\n",
        "\n"
      ]
    },
    {
      "cell_type": "code",
      "metadata": {
        "id": "0FAQQETk3TNj"
      },
      "source": [],
      "execution_count": null,
      "outputs": []
    },
    {
      "cell_type": "markdown",
      "metadata": {
        "id": "1OsCnLpU8_Zu"
      },
      "source": [
        "###Breadth First Search\n",
        "\n",
        "\n",
        "Pseudo-code\n",
        "```\n",
        "BFS(graph, s):\n",
        "  frontier = [s]\n",
        "  has_seen = set(s)\n",
        "  while frontier:\n",
        "    next = []\n",
        "    for u in frontier:\n",
        "      for v in neighbors(u):\n",
        "        if v not in has_seen:\n",
        "          next.append(v)\n",
        "          has_seen.add(v)\n",
        "      frontier = next\n",
        "```\n",
        "Example\n",
        "\n",
        "```\n",
        "A -- B    C -- D\n",
        "|    |  / |  / |\n",
        "|    | /  | /  |\n",
        "E    F -- G -- H\n",
        "\n",
        "frontier = [B]\n",
        "frontier = [A, F]\n",
        "frontier = [E, C, G]\n",
        "frontier = [D, H]\n",
        "frontier = []\n",
        "```\n",
        "Special Property\n",
        "* We will finish visiting all vertices that are reachable from source by k moves before visiting vertices that are reachable from source by k + 1 moves\n",
        "* Once BFS has finished, the minimum number of hops we need to make in order to get from the source vertex to another is settled down. If every edge has equal weight, then this minimum number of hops is the min distance between these two vertices\n",
        "* Time complexity: O(V+E)\n",
        " * each vertex will be enqueued and dequed just once. --> O(V)\n",
        " * only scan a vertex's adjacency list when it is dequeued -> O(E)\n",
        "\n",
        "\n",
        "\n",
        "\n"
      ]
    },
    {
      "cell_type": "markdown",
      "metadata": {
        "id": "vp89_KDOUfmd"
      },
      "source": [
        "###DFS Depth First Search"
      ]
    },
    {
      "cell_type": "markdown",
      "metadata": {
        "id": "c4yvaX1uXjCZ"
      },
      "source": [
        "Concept - maze\n",
        "* Start with one direction, remember all decisions along the way, until you hit a dead end, go back to the last junction then make a new decision to try a different route 不撞南墙不回头\n",
        "* Recursively explore the graph, backtracking as necessary\n",
        "* Time complexity: O(V+E)\n",
        " * visit every vertex once in this outer loop, so not worrying about the recursion in DFS alone -> O(V)\n",
        " * call DFS only if it is not visited before. For each DFS call, it iterate over those outgoing edges from vertex v -> O(len(adjacency_list[v]) -> O(E)\n",
        " \n",
        "```\n",
        "#recursively visit every reachable vertex from s that are still not being visited\n",
        "DFS(graph, visited, s):\n",
        "  for u in graph.neighbors(s):\n",
        "    if u not in visited:\n",
        "      visited.add(u)\n",
        "      dfs(graph, visited, u)\n",
        "# 尝试从不同点出发，graph may not be all connected\n",
        "DFS_All(graph):\n",
        "  visited = set() 所有dfs分享visited\n",
        "  for v in graph:\n",
        "    if v not in visited:\n",
        "      visited.add(v)\n",
        "      dfs(graph, visited, v)\n",
        "```\n",
        "\n",
        "DFS is great for edge classifications\n",
        "* Tree edge = normal edge during DFS process. The whole DFS will give you a DFS spanning tree of the input graph; connects all vertices of the graph\n",
        "* Forward edge = edge will point from a node to its descendant in the DFS spanning tree 后代到祖先\n",
        "* Backward edge = edge that will point from a node to its ancestor in the DFS spanning tree 祖先到后代\n",
        "* Cross edge = between tow nodes that reside in two non-ancestor related subtrees\n",
        "\n",
        "Does a graph have cycle?\n",
        "* If there is backward edge, yes\n",
        "* If there is directed\n",
        "\n",
        "DFS Method\n",
        "1. How many levels in the recursion tree? What does it sotre on each level? \n",
        "2. How may different states should we try to put on each level?\n"
      ]
    },
    {
      "cell_type": "markdown",
      "metadata": {
        "id": "_zBSYTjU5WCR"
      },
      "source": [
        "**Q1 Graph Valid Tree?**\n",
        "\n",
        "Given n nodes labeled from 0 to n-1 and a list of undirected edges (each edge is a pair of nodes), write a function to check whether these edges make up a valid tree\n",
        "\n",
        "input: n=5, edges = [[0,1],[0,2],[0,3],[1,4]]\n",
        "\n",
        "output: true\n",
        "\n",
        "input: n=5, edges = [[0,1], [1,2], [2,3], [1,3],[1,4]]\n",
        "\n",
        "output: false\n",
        "\n",
        "\n",
        "Note: you can assume that noduplicate edges will appear in edges. All edges are undirected\n",
        "\n",
        "A graph is a tree iff\n",
        "* no cycle\n",
        "* connected\n",
        "\n",
        "For undirected graph, what type of edge could you have\n",
        "* tree edge\n",
        "* backward edge"
      ]
    },
    {
      "cell_type": "code",
      "metadata": {
        "id": "JerEGFcrue8N"
      },
      "source": [
        "'''\n",
        "Graph is a map -> dictionary (given a node, needs to know what other nodes are edged)\n",
        "For a vertex, need to be able to iterate through all its neighbors\n",
        "  \n",
        "#Start from vertex 0, do DFS.\n",
        "   (1) if found backward edge, then not a tree\n",
        "       backward edge occurs when node is (a) visited and (b) it is not the parent\n",
        "   (2) otherwise, check whether all the nodes have been visited\n",
        " \n",
        "#Pseudo code\n",
        "from collections import defaultdict\n",
        "graph = defaultdict(list)   #if a key does not exist, default to a \n",
        "for edge in edges:  #for undirected graph, A is B is neighbor, B is A's as well\n",
        "  graph[edge[0]].append(edge[1])\n",
        "  graph[edge[1]].append(edge[0])\n",
        "'''\n",
        "\n",
        "#Template to build an undirectde graph\n",
        "DFS(graph, visited, parent, s):\n",
        "  for u in graph.neighbors(s):\n",
        "    #recursively visited every reachable vertex. True if backward edge is found\n",
        "    if u not in visited:\n",
        "      visited.add(u)\n",
        "      if dfs(graph, visited, u):\n",
        "        return True\n",
        "    elif u != parent:\n",
        "      return True\n",
        "  return False\n",
        "\n",
        "\n",
        "#Solution - undirected graph\n",
        "from collections import defaultdict\n",
        "\n",
        "def has_cycle(graph, visited, parent, u): #v being a neighbor of u\n",
        "  visited.add(u)\n",
        "  for v in graph[u]:\n",
        "    if v != parent:\n",
        "      if v in visited or has_cycle(graph, visited, u, v):\n",
        "        return True\n",
        "  return False\n",
        "  \n",
        "class Solution(object):\n",
        "  def validTree(self, n, edges):\n",
        "    \"\"\"\n",
        "    :type n: int\n",
        "    :type edges: List[List[int]]\n",
        "    :rtype: bool\n",
        "    \"\"\"\n",
        "    visited = set()\n",
        "    graph = defaultdict(list)\n",
        "    for edge in edges:\n",
        "      graph[edge[0]].append(edge[1])\n",
        "      graph[edge[1]].append(edge[0])\n",
        "    return not has_cycle(Graph, visited, -1, 0) and len(visited) == n #all nodes are connected \n",
        "  "
      ],
      "execution_count": null,
      "outputs": []
    },
    {
      "cell_type": "markdown",
      "metadata": {
        "id": "R6t0speyKbqj"
      },
      "source": [
        "**Q2 Does a directed graph have cycle?**\n",
        "\n",
        "\n",
        "For directed graph, what type of edge could you have\n",
        "* tree edge\n",
        "* backward edge\n",
        "* forward edge\n",
        "* cross edge\n",
        "\n"
      ]
    },
    {
      "cell_type": "code",
      "metadata": {
        "id": "IX4DjW8LKdrR"
      },
      "source": [
        "'''\n",
        "Since directed graph can have cross or forward edge, just using visited criteria\n",
        "cannot determine if it is a backward edge\n",
        "\n",
        "3 states for a node;\n",
        "- not visited\n",
        "- visiting (not all its neighbors are visited)\n",
        "- visited\n",
        "\n",
        "(1) Backward edge - u -> v is backward edge iff v is in a visiting state\n",
        "    In other words, v still have edges not visited and may go back to u\n",
        "    \n",
        "Using dictionary\n",
        "\n",
        "'''\n",
        "\n",
        "#Solution - directed graph\n",
        "from collections import defaultdict\n",
        "\n",
        "def dfs(graph, visit_status, u): \n",
        "  # 0 represents we are currently still visiting a node\n",
        "  # 1 represents we are done with a node\n",
        "  visit_status[u] = 0\n",
        "  for v in graph[u]:               \n",
        "    if v not in visit_status:  #if not visited, recursion\n",
        "      if dfs(graph, visit_status, v):\n",
        "        return True\n",
        "    elif visit_status[v] == 0: #if visiting, cycle\n",
        "      return True\n",
        "  visit_status[u] = 1 #mark visited before exit\n",
        "  return False\n",
        "\n",
        "def has_cycle(graph):\n",
        "  visit_status = {}\n",
        "  for v in graph:\n",
        "    if v not in visit_status and dfs(graph, visit_status, v):\n",
        "      return True\n",
        "  return False\n",
        "  "
      ],
      "execution_count": null,
      "outputs": []
    },
    {
      "cell_type": "markdown",
      "metadata": {
        "id": "FPwxWjcIRNFV"
      },
      "source": [
        "**Q3 Is Graph Bipartite?**\n",
        "\n",
        "Given an undirected graph, return true if and only if it is bipartite\n",
        "\n",
        "Recall that a grpah is bipartite if we can split it's set of nodes into two independent subsets A and B such that every edge in the graph has one node in A and another node in B\n",
        "\n",
        "Bipartite conditions\n",
        "* has a cycle\n",
        "* the cycle's length is not an odd number"
      ]
    },
    {
      "cell_type": "code",
      "metadata": {
        "id": "Ydqe0WEARsgS"
      },
      "source": [
        "'''\n",
        "input: [[1,2,3], [0,2], [0,1,3], [0,2]]\n",
        "output: false\n",
        "0--1\n",
        "|\\ |\n",
        "| \\}\n",
        "3--2\n",
        "\n",
        "output: true\n",
        "0--1\n",
        "|  |\n",
        "|  }\n",
        "3--2\n",
        "\n",
        "3 states for a node:\n",
        "- 用色看环边的奇偶性\n",
        "'''\n",
        "\n",
        "def can_color(graph, colors, u, color):\n",
        "  color[u] = color\n",
        "  for v in graph[u]:\n",
        "    #u染成color, 所有从u出发的节点染成-color\n",
        "    if color[v] == color or (not colors[v] and not can_color(Graph, colors, v, -color)):\n",
        "      return False\n",
        "  return True  \n",
        "  \n",
        "class Solution(object):\n",
        "  def isBipartite(self, graph):\n",
        "    \"\"\"\n",
        "    :type graph: List[List[int]]\n",
        "    :rtype: bool\n",
        "    \"\"\"\n",
        "    colors = [0]*len(graph)\n",
        "    for v in range(len(graph)):\n",
        "      if not colors[v] and not can_color(graph, colors, v, 1):\n",
        "        return False\n",
        "    return True"
      ],
      "execution_count": null,
      "outputs": []
    },
    {
      "cell_type": "markdown",
      "metadata": {
        "id": "5KN31KEUqGI2"
      },
      "source": [
        "**Q4 Print all subsets of a set S**\n",
        "\n",
        "\n",
        "\n",
        "```\n",
        "input: S = {'a', 'b', 'c'}\n",
        "          {}\n",
        "         /  \\\n",
        "      {a}    {}\n",
        "      / \\    / \\\n",
        "   {a,b}{a} {b} {}  \n",
        "    / \\ / \\ / \\ / \\\n",
        "{a,b,c}    ...\n",
        "\n",
        "Tree\n",
        "- One layer per element in the subset\n",
        "- Each level's decision is to add or not\n",
        "```\n"
      ]
    },
    {
      "cell_type": "markdown",
      "metadata": {
        "id": "FqQo1t8iqvmV"
      },
      "source": [
        "**Q5 Find all valid permutations using the parenthesis**\n",
        "\n",
        "\n",
        "```\n",
        "input: ()()()\n",
        "\n",
        "- Each level's decision choose \"(\" or \")\"\n",
        "- While checking if valid\n",
        "```\n",
        "\n"
      ]
    },
    {
      "cell_type": "markdown",
      "metadata": {
        "id": "umn1DSnxrjXl"
      },
      "source": [
        "**Q6 Print all combinations of coins that can sum up to a total value n**\n",
        "\n",
        "Problem 73\n",
        "\n",
        "\n",
        "\n",
        "```\n",
        "input: \n",
        "total value n = 99 cents\n",
        "coin valus = 25, 10, 5, 1 cent\n",
        "\n",
        "- Each level's decision is to choose 0,1,2,3... of one type of coin\n",
        "- The next level does the same using a \"remain\"\n",
        "```\n",
        "\n"
      ]
    },
    {
      "cell_type": "markdown",
      "metadata": {
        "id": "InUinBNwsm56"
      },
      "source": [
        "**Q7 String Permutation**\n",
        "\n",
        "Given a string with no duplicate letters, how to print out all permutations of the string\n",
        "\n",
        "```\n",
        "input = \"abc\"\n",
        "- position 0, choose \"a\", \"b\" or \"c\"\n",
        "- each level decides what to put in position i\n",
        "```\n",
        "\n"
      ]
    },
    {
      "cell_type": "markdown",
      "metadata": {
        "id": "UDHKOpvMwmCb"
      },
      "source": [
        "**Topological Sort**\n",
        "\n",
        "Topological ordering of a DAG = a linear ordering of its vertices such that for every directed edge {u, v}, u comes before v in the ordering. This can be used to simulate dependency graph\n",
        "\n",
        "Example:\n",
        "* each vertex represents a task\n",
        "* each edge represents a dependency between twotasks, if there is an edge from A to B, then B can only be executed after finishing A\n",
        "* Topolofical ordering: 3->5->7->8->1...\n",
        "\n",
        "How\n",
        "* Leveraging property of DFS\n",
        "* Append each DFS to the final result list before return \n",
        "* After visiting every node, reverse that list and it will be the correct answer. Why? the last one will be the one done latest, which have dependency on other nodes, so we want to start with the earliest, which do not have dependency on the later ones\n",
        "* Note that there might be many solutions. As long as the dependency order is statisfied, the solution is correct\n",
        " * if we visit u before v, for sure we will visit v before u finishes\n",
        " * if we visit v before u, then we will finish v before even visiting u since graph is acryclic\n",
        "\n"
      ]
    },
    {
      "cell_type": "markdown",
      "metadata": {
        "id": "NoaDjbx54Xfq"
      },
      "source": [
        "**Q4 Course Schedule II**\n",
        "\n",
        "There are a total of n courses you have to take, labeled 0 to n-1.\n",
        "\n",
        "Some courses may have prerequisites. Given [0, 1], you have to take course 1 before taking course 0.\n",
        "\n",
        "Given the total number of courses and a list of prerequisite pairs, return the ordering of courses you should take.\n",
        "\n",
        "How\n",
        "* Topolofical ordering\n",
        "* Need to check if it is impossible to finish all courses\n",
        "\n",
        "Input: 2, [[1, 0]]\n",
        "\n",
        "Output: [0, 1]\n",
        "\n",
        "Input: 4, [[1,0], [2,0], [3,1],[3,2]]\n",
        "\n",
        "Output: [0,1,2,3] or [0,2,1,3]\n",
        "\n",
        "\n",
        "\n"
      ]
    },
    {
      "cell_type": "code",
      "metadata": {
        "id": "2b-6LpTl16Yb"
      },
      "source": [
        "'''\n",
        "Note that [1,0] results in 1 -> 0, which we do not need to reverse the result\n",
        "We can directly use this ordering and not reverse at the end.\n",
        "\n",
        "'''\n",
        "from collections import defaultdict\n",
        "\n",
        "class Solution(object):\n",
        "  def findOrder(self, numCourses, prerequisites):\n",
        "    \"\"\"\n",
        "    :type numCourses. int\n",
        "    :type prerequisites: List[List[int]]\n",
        "    :rtype: List[int]\n",
        "    \"\"\"\n",
        "    graph = defaultdict(list)\n",
        "    for p in prerequisites:\n",
        "      graph[p[0]].append(p[1])\n",
        "    courses = [] #final result\n",
        "    visited = [-1]*numCourses\n",
        "\n",
        "    def dfs(u):\n",
        "      visited[u] = 0\n",
        "      for v in graph[u]:\n",
        "        if visited[v] == 0 or (visited[v] == -1 and not dfs(v)):\n",
        "          return False\n",
        "      visited[u] = 1\n",
        "      courses.append(u)\n",
        "      return True\n",
        "    for u in range(numCourses):\n",
        "      if visited[u] == -1 and not dfs(u):\n",
        "        return []\n",
        "    return courses"
      ],
      "execution_count": null,
      "outputs": []
    },
    {
      "cell_type": "markdown",
      "metadata": {
        "id": "ReIIQCc36uxG"
      },
      "source": [
        "**Graph Summary**"
      ]
    },
    {
      "cell_type": "code",
      "metadata": {
        "id": "ZZbdFRnl6w5v"
      },
      "source": [
        "'''\n",
        "MetaGraphSearchAlgorithm(graph, s):\n",
        "  #systematically explore all vertices that are reachable from s\n",
        "  put s in bag as well as mark s accordingly\n",
        "  while bag is not empty:\n",
        "    extract a node from the bag\n",
        "    for neighbor in graph.neighbors(node):\n",
        "      if neighbor is not marked:\n",
        "        put neighbor in bag and mark neighbor\n",
        "     \n",
        "Bag implemented as queue --> BFS\n",
        "Bag implemented as stack --> DFS\n",
        "Bag implemented as a priority queue --> best first search\n",
        "'''"
      ],
      "execution_count": null,
      "outputs": []
    },
    {
      "cell_type": "markdown",
      "metadata": {
        "id": "J2V7JF8ZLIOS"
      },
      "source": [
        "**Four types of Questions:**\n",
        "* DFS 1: print all subsets of a set\n",
        "* DFS 2: print all valid permutations of () () ()\n",
        "* DFS 3: coin permutations\n",
        "* DFS 4: permutation of a string\n",
        "\n",
        "DFS/BT Method:\n",
        "* Visualize the recursion tree"
      ]
    },
    {
      "cell_type": "markdown",
      "source": [
        "## 4.5. Dynamic programming"
      ],
      "metadata": {
        "id": "awG11Een6not"
      }
    },
    {
      "cell_type": "markdown",
      "source": [
        "**Memorization**\n",
        "\n",
        "\n",
        "Example. Fibbonnaci series\n",
        "* a tree has n levels, level 1 with 1 node, level 2 with 2 nodes, level 3 with 4 nodes .... So total of (2^n) nodes. This is very inefficient because one same f(a) got computed multiple times\n",
        " * Time: O(2^n)\n",
        " * Space: O(n) because that is the deepest path we need to dive in\n",
        "* Solution is to store and build a table of f(a). \n",
        " * Time: O(n)\n",
        " * Space: O(n)"
      ],
      "metadata": {
        "id": "I-2Cjfg063uv"
      }
    },
    {
      "cell_type": "markdown",
      "source": [
        "Dynamic Programming\n",
        "1. Break the problem down into subproblems\n",
        "2. Put subproblems together to solve the big problem \n",
        "\n",
        "Common subproblems\n",
        "* Given a sequence x1...xn in random order, first need to sort them. Then subproblem i is x1...xi\n",
        "* Given two sequences, x1...xn, and y1....yn\n",
        "* Subproblem: expand from the middle: xi....xj\n",
        "* Matrix: subproblem is a smaller matrix Aij"
      ],
      "metadata": {
        "id": "rG5-Njps8vgE"
      }
    },
    {
      "cell_type": "markdown",
      "source": [
        "Example. Count the paths in a 2D matrix\n",
        "* Simple recursive: O(n^2)\n",
        "* Memorization: O(n)\n"
      ],
      "metadata": {
        "id": "pSy4ElK88VMU"
      }
    },
    {
      "cell_type": "markdown",
      "source": [
        "###Classical 1D"
      ],
      "metadata": {
        "id": "4IlYT6a5mATc"
      }
    },
    {
      "cell_type": "markdown",
      "source": [
        "**Q1 Longest increasing subsequence**\n",
        "\n",
        "For a sequence a1, a2, ..., an, find the lengths of the longest subsequence. \n",
        "\n",
        "\n",
        "\n",
        "```\n",
        "Input: [3,1,8,2,5] \n",
        "Output: 3 (1,2,5)\n",
        "\n",
        "Input: [5,2,8,6,3,6,9,5]\n",
        "Output: 4 (2,3,6,9)\n",
        "```\n",
        "\n"
      ],
      "metadata": {
        "id": "4rEnG6YB88GX"
      }
    },
    {
      "cell_type": "markdown",
      "source": [
        "1. Visualize as a DAG where each node is an element, and each edge is if element is smaller than another elelment.\n",
        " * The LIS = Longest path in DAG + 1\n",
        "\n",
        "2. Find subproblems. \n",
        " * All increasing subsequences are subsets of original sequence.\n",
        " * all increasing subsequences have a start and end. \n",
        " * let's focus on the ending index. LIS[k] = LIS ending at index k \n",
        " * Subproblem is the largest sequence with a given number ending\n",
        "\n",
        "3. Find relationships among subproblems\n",
        " * Given LIS[4] of the last node, find all nodes that have an edge going into the last node. So LIS[4] = 1 + max{LIS[0], LIS[1], LIS[3]} \n",
        "\n",
        "4. Generalize the relationship \n",
        " * LIS[n] = 1 + max{ LIS[k] | k < b, A[k] < A[n] }\n",
        "\n",
        "5. Order\n",
        " * Need to implement from left to right"
      ],
      "metadata": {
        "id": "FCWa7pAn-DSp"
      }
    },
    {
      "cell_type": "code",
      "source": [
        "# M1 Dynammic programming\n",
        "class Solution:\n",
        "    def lengthOfLIS(self, nums: List[int]) -> int:\n",
        "        L = [1] * len(nums)\n",
        "        for i in range(1, len(nums)): # start at 1 because the 0-th cannot have a previous number\n",
        "            print(L)\n",
        "            L[i] = max([L[k] for k in range(i) if nums[k] < nums[i]], default=0) + 1 # still need 1 because not sum \n",
        "        return max(L)\n",
        "        \n",
        "    \n",
        "'''\n",
        "1. Visualize in a DAG, each node is one element, edge from nums[i] --> nums[j] if nums[i] < nums[j]\n",
        "WRONG: 2. Sort numbers in increasing order\n",
        "2. Loop from left to right\n",
        " - Use L: a list of len(nums), where L[i] correspond to solution for sequence ending at nums[i]\n",
        " - L[i+1] = max({L[k] | nums[k] < nums[i]}) + 1\n",
        "\n",
        "return maximum of L\n",
        "\n",
        "'''"
      ],
      "metadata": {
        "id": "JWUYGbck6n-L"
      },
      "execution_count": null,
      "outputs": []
    },
    {
      "cell_type": "markdown",
      "source": [
        "**Q1.2 Number of Longest Increasing Subsequence**\n",
        "Given an integer array nums, return the number of longest increasing subsequences.\n",
        "\n",
        "Notice that the sequence has to be strictly increasing.\n",
        "\n",
        "\n",
        "```\n",
        "Example 1:\n",
        "\n",
        "Input: nums = [1,3,5,4,7]\n",
        "Output: 2\n",
        "Explanation: The two longest increasing subsequences are [1, 3, 4, 7] and [1, 3, 5, 7].\n",
        "\n",
        "Example 2:\n",
        "\n",
        "Input: nums = [2,2,2,2,2]\n",
        "Output: 5\n",
        "Explanation: The length of the longest increasing subsequence is 1, and there are 5 increasing subsequences of length 1, so output 5.\n",
        "```\n"
      ],
      "metadata": {
        "id": "qGlQAXP0QEUv"
      }
    },
    {
      "cell_type": "code",
      "source": [
        "# M1 DP\n",
        "class Solution:\n",
        "    def findNumberOfLIS(self, nums: List[int]) -> int:\n",
        "        L = [1] * len(nums)\n",
        "        N = [1] * len(nums) \n",
        "        for i in range(1, len(nums)):\n",
        "            for k in range(i):\n",
        "                if nums[k] < nums[i]:\n",
        "                    if L[k] >= L[i]: # if new longest \n",
        "                        L[i] = L[k] + 1\n",
        "                        N[i] = N[k] * 1\n",
        "                    elif L[k] == (L[i] - 1):\n",
        "                        N[i] += N[k]\n",
        "        return sum(N[k] for k in range(len(nums)) if L[k] == max(L))"
      ],
      "metadata": {
        "id": "IY7CugK_aCf2"
      },
      "execution_count": null,
      "outputs": []
    },
    {
      "cell_type": "markdown",
      "source": [
        "**Q2 Box stacking**\n",
        "\n",
        "Given $n$ boxes $[(L_1, W_1, H_1), (L_2, W_2, H_2), ...]$. Find the height of the tallest possible stack. Box $i$ can be on top of box $j$ if $L_i < L_j, W_i < W_j$. "
      ],
      "metadata": {
        "id": "gzCr7ewaAAwq"
      }
    },
    {
      "cell_type": "markdown",
      "source": [
        "1. Visualize examples\n",
        " * Each box is one node\n",
        " * Directed edge from one box to another if can be stacked on top of it \n",
        " * Every path in the graph is a stack of boxes\n",
        " * Need to find the path with largest height\n",
        "\n",
        "2. Find an appropriate subproblem\n",
        " * Largest height of stack with a given box at the bottom\n",
        "\n",
        "3. Find relationships between subproblems\n",
        " * From the given box, find height of previous boxes \n",
        "\n",
        "4. Generalize\n",
        " * Let S be the set of all boxes that can be stacked above $i$, \n",
        " $$height[(L_i,H_i,W_i)] = H_i + max\\{ height[(L_j, W_j, H_k)] | (L_j, W_j, H_j)) \\in S \\}$$, \n",
        "\n",
        "5. Order \n",
        " * To have solution for box $i$, we need solution for smaller boxes\n",
        " * Sort boxes by length or width first \n"
      ],
      "metadata": {
        "id": "PeaXCTe3Ae6L"
      }
    },
    {
      "cell_type": "code",
      "source": [
        "# M1 Dynammic programming\n",
        "\n",
        "def talleststack(boxes):\n",
        "  boxes.sort(key=lambda x: x[0])  # sort by width or height to decide order \n",
        "  heights = {box:box[2] for box in boxes} # dictionary of tallest heights, bases is each box's height \n",
        "  for i in range(1, len(boxes)):\n",
        "    box = boxes[i]\n",
        "    S = [boxes[j] for j in range(i) if canBeStacked(boxes[j], box)]\n",
        "    heights[box] + box[2] + max([heights[box] for box in S], default=0)\n",
        "  return max(heights.values(), default=0)\n",
        "\n",
        "def canBeStacked(top, bottom):\n",
        "  return top[0] < bottom[0] and top[1] < bottom[1]"
      ],
      "metadata": {
        "id": "Dl5c8RonAUxg"
      },
      "execution_count": null,
      "outputs": []
    },
    {
      "cell_type": "markdown",
      "source": [
        "**Q3.1 Fibonacci Numbers**\n",
        "\n",
        "* Suppose we want F(6), we need F(5) and F(4)\n",
        "* Subproblem: F(n) = F(n-1) + F(n-2)\n",
        "* Order: start from the smallest numbers (bottom up)"
      ],
      "metadata": {
        "id": "6u1FKEBiEUZ2"
      }
    },
    {
      "cell_type": "code",
      "source": [
        "def Fibonacci(n):\n",
        "    p2, p1 = 0, 1\n",
        "    if n == 0:\n",
        "        return p2\n",
        "    if n == 1:\n",
        "        return p1\n",
        "    for i in range(2,n+1):\n",
        "        p2 = p2 + p1\n",
        "        p2, p1 = p1, p2\n",
        "    return p1 \n",
        "\n",
        "Fibonacci(7)\n",
        "\n",
        "# Note: can only maintain the last two numbers, no need to store them in memory\n",
        "# Time: O(n)\n",
        "# Space: O(1) "
      ],
      "metadata": {
        "colab": {
          "base_uri": "https://localhost:8080/"
        },
        "id": "g4uCOddhEXy6",
        "outputId": "d1c97905-750f-48aa-955c-5557879322cd"
      },
      "execution_count": 5,
      "outputs": [
        {
          "output_type": "execute_result",
          "data": {
            "text/plain": [
              "13"
            ]
          },
          "metadata": {},
          "execution_count": 5
        }
      ]
    },
    {
      "cell_type": "markdown",
      "source": [
        "**Q3.2. Climbing stairs**\n",
        "\n",
        "You are climbing a staircase. It takes n steps to reach the top. Each time you can either climb 1 or 2 steps. In how many distinct ways can you climb to the top?\n"
      ],
      "metadata": {
        "id": "6XsaG0ImEZvC"
      }
    },
    {
      "cell_type": "code",
      "source": [
        "# M1 Recursive. Time limit exceed for large n\n",
        "class Solution(object):\n",
        "    def climbStairs(self, n):\n",
        "        \"\"\"\n",
        "        :type n: int\n",
        "        :rtype: int\n",
        "        \"\"\"\n",
        "         def climb(n):\n",
        "             if n==1: #only one step option is availble\n",
        "                 return 1\n",
        "             if n ==2: # two options are possible : to take two 1-stpes or to only take one 2-steps\n",
        "                 return 2\n",
        "             return climb(n-1) + climb(n-2)\n",
        "         return climb(n)"
      ],
      "metadata": {
        "id": "YMnvNTMrL9KZ"
      },
      "execution_count": null,
      "outputs": []
    },
    {
      "cell_type": "code",
      "source": [
        "# M2 Use dic to memorize \n",
        "class Solution(object):\n",
        "    def climbStairs(self, n):\n",
        "        \"\"\"\n",
        "        :type n: int\n",
        "        :rtype: int\n",
        "        \"\"\"\n",
        "        memo ={}\n",
        "        memo[1] = 1\n",
        "        memo[2] = 2\n",
        "        \n",
        "        def climb(n):\n",
        "            if n in memo: # if the recurssion already done before first take a look-up in the look-up table\n",
        "                return memo[n]\n",
        "            else:   # Store the recurssion function in the look-up table and reuturn the stored look-up table function\n",
        "                memo[n] =  climb(n-1) + climb(n-2)\n",
        "                return memo[n]\n",
        "        \n",
        "        return climb(n)"
      ],
      "metadata": {
        "id": "n-yn4lBeMEEU"
      },
      "execution_count": null,
      "outputs": []
    },
    {
      "cell_type": "code",
      "source": [
        "# M3 Dynammic programming\n",
        "class Solution:\n",
        "    def climbStairs(self, n: int) -> int:\n",
        "        one, two = 1, 1\n",
        "        for i in range(2, n+1):\n",
        "            temp = one + two\n",
        "            two = one\n",
        "            one = temp\n",
        "        return one\n",
        "            \n",
        "            \n",
        "'''\n",
        "Base case:\n",
        "C[0] = 1\n",
        "C[1] = 1\n",
        "C[2] = 2\n",
        "\n",
        "Suppose we know C[n-1] and C[n-2]:\n",
        "C[n] = C[n-1] + C[n-2]\n",
        "\n",
        "Use for loop from i = 1 ... n to compute\n",
        "\n",
        "Could store C[n] in a 1D array, but can also only store the last two numbers\n",
        "  1   2  3\n",
        " n-2 n-1 n\n",
        "     n-2 n-1 n \n",
        "'''\n"
      ],
      "metadata": {
        "id": "hXV2AHdvMK2T"
      },
      "execution_count": null,
      "outputs": []
    },
    {
      "cell_type": "markdown",
      "source": [
        "**Q3.2.2 Min Cost Climbing Stairs**\n",
        "\n",
        "You are given an integer array cost where cost[i] is the cost of ith step on a staircase. Once you pay the cost, you can either climb one or two steps.\n",
        "\n",
        "You can either start from the step with index 0, or the step with index 1.\n",
        "\n",
        "Return the minimum cost to reach the top of the floor.\n",
        "\n",
        "NOTE: top floor is the position after the last index\n",
        "\n",
        "\n",
        "```\n",
        "Example 1:\n",
        "\n",
        "Input: cost = [10,15,20]\n",
        "Output: 15\n",
        "Explanation: You will start at index 1.\n",
        "- Pay 15 and climb two steps to reach the top.\n",
        "The total cost is 15.\n",
        "\n",
        "Example 2:\n",
        "\n",
        "Input: cost = [1,100,1,1,1,100,1,1,100,1]\n",
        "Output: 6\n",
        "Explanation: You will start at index 0.\n",
        "- Pay 1 and climb two steps to reach index 2.\n",
        "- Pay 1 and climb two steps to reach index 4.\n",
        "- Pay 1 and climb two steps to reach index 6.\n",
        "- Pay 1 and climb one step to reach index 7.\n",
        "- Pay 1 and climb two steps to reach index 9.\n",
        "- Pay 1 and climb one step to reach the top.\n",
        "The total cost is 6.\n",
        "\n",
        "```\n",
        "\n"
      ],
      "metadata": {
        "id": "u-gH7zItooVV"
      }
    },
    {
      "cell_type": "code",
      "source": [
        "# M0 Greedy solution (WRONG)\n",
        "# at everytime pick the lowest choice\n",
        "# or, always take two steps\n",
        "\n",
        "class Solution:\n",
        "    def minCostClimbingStairs(self, cost: List[int]) -> int:    \n",
        "        cost.append(0)\n",
        "        mincost = 0\n",
        "        i = len(cost) - 1 \n",
        "        while i > 1:\n",
        "            if cost[i-1] < cost[i-2]:\n",
        "                i -= 1\n",
        "            else:\n",
        "                i -= 2\n",
        "            mincost += cost[i]\n",
        "        return mincost\n",
        "            \n",
        "            \n",
        "'''\n",
        "M0 greedy \n",
        "\n",
        "costs:                     10, 15, 20\n",
        "choices: 15 or 20 -> 15        15\n",
        "choices: NA\n",
        "\n",
        "cost = [1,100,1,1,1,100,1,1,100,1] \n",
        "choices:                        1\n",
        "                          2\n",
        "                        3\n",
        "                  4\n",
        "              5\n",
        "         6      \n",
        "         \n",
        "1. start backwards, loop for i from len(n)  ... 0\n",
        "2. compared i-1 and i-2 \n",
        "\n",
        "'''"
      ],
      "metadata": {
        "id": "DCASp_n_ootm"
      },
      "execution_count": null,
      "outputs": []
    },
    {
      "cell_type": "code",
      "source": [
        "# M1 Dynamic programming \n",
        "'''\n",
        "Why greedy approach does not work?\n",
        "because i has dependency on i+1 and i+2\n",
        "\n",
        "   10  15  20  X\n",
        "\n",
        "from 15 --> X there are two options, single-jump costing 15 or double-jump costing 15+25. Of course single-jump is cheaper\n",
        "from 20 --> X there is one option \n",
        "\n",
        "1. Look backwards, for i from second last to 0\n",
        "2. For each i, pick min(C(i-2), C(i-1))\n",
        "3. Only need to track previous two \n",
        "'''\n",
        "\n",
        "# style one, modify in place\n",
        "\n",
        "class Solution:\n",
        "  def minCostClimbingStairs(self, cost):\n",
        "    cost.append(0) # the top is after the last ladder\n",
        "\n",
        "    for i in range(len(cost) - 3, -1, -1): # start from second last \n",
        "      cost[i] += min(cost[i+1], cost[i+2])\n",
        "    \n",
        "    return min(cost[0], cost[1])\n",
        "\n"
      ],
      "metadata": {
        "id": "66cd20kz18uC"
      },
      "execution_count": 5,
      "outputs": []
    },
    {
      "cell_type": "code",
      "source": [
        "# style 2\n",
        "class Solution:\n",
        "  def minCostClimbingStairs(self, cost):\n",
        "    cost.append(0)\n",
        "    one, two = cost[-2], cost[-1]\n",
        "    for i in range(len(cost)-3, -1, -1):\n",
        "      temp = min(one, two) + cost[i]\n",
        "      two = one\n",
        "      one = temp\n",
        "    return min(one, two) "
      ],
      "metadata": {
        "id": "c7mCccONiL1w"
      },
      "execution_count": null,
      "outputs": []
    },
    {
      "cell_type": "markdown",
      "source": [
        "**Q3.3 House Robber**\n",
        "\n",
        "You are a professional robber planning to rob houses along a street. Each house has a certain amount of money stashed, the only constraint stopping you from robbing each of them is that adjacent houses have security systems connected and it will automatically contact the police if two adjacent houses were broken into on the same night.\n",
        "\n",
        "Given an integer array nums representing the amount of money of each house, return the maximum amount of money you can rob tonight without alerting the police.\n",
        "\n",
        "\n",
        "\n",
        "```\n",
        "Example 1:\n",
        "\n",
        "Input: nums = [1,2,3,1]\n",
        "Output: 4\n",
        "Explanation: Rob house 1 (money = 1) and then rob house 3 (money = 3).\n",
        "Total amount you can rob = 1 + 3 = 4.\n",
        "\n",
        "Example 2:\n",
        "\n",
        "Input: nums = [2,7,9,3,1]\n",
        "Output: 12\n",
        "Explanation: Rob house 1 (money = 2), rob house 3 (money = 9) and rob house 5 (money = 1).\n",
        "Total amount you can rob = 2 + 9 + 1 = 12.\n",
        "\n",
        "```\n",
        "\n",
        "\n"
      ],
      "metadata": {
        "id": "wGWY3V3IEcYD"
      }
    },
    {
      "cell_type": "code",
      "source": [
        "'''\n",
        "M1 dynammic programming\n",
        "* At each step, rob this house or not. Suppose n = 0\n",
        "  rob(0:n) = max( arr[0] + rob(2:n], rob[1:n])\n",
        "* Let rob1 be previous solutions up to n-2, rob2 be previous solutions up to n-1\n",
        "  rob(0:n) = max( n + rob1, rob2)\n",
        "* order: increasing order \n",
        "* only need to store robs up to a time point \n",
        "\n",
        "* update:\n",
        "[rob1, rob2, n, n+1, ... ]\n",
        "[..., rob1, rob2, n+1, ... ]\n",
        "\n",
        "'''\n",
        "\n",
        "class Solution:\n",
        "    def rob(self, nums: List[int]) -> int:\n",
        "        rob1, rob2 = 0, 0\n",
        "        for n in nums:\n",
        "            temp = max(n + rob1, rob2)\n",
        "            rob1 = rob2\n",
        "            rob2 = temp\n",
        "        return rob2\n",
        "          "
      ],
      "metadata": {
        "id": "cKvTNFrFPx3D"
      },
      "execution_count": null,
      "outputs": []
    },
    {
      "cell_type": "markdown",
      "source": [
        "**Q3.4 House Robber II**\n",
        "\n",
        "You are a professional robber planning to rob houses along a street. Each house has a certain amount of money stashed. All houses at this place are arranged in a circle. That means the first house is the neighbor of the last one. Meanwhile, adjacent houses have a security system connected, and it will automatically contact the police if two adjacent houses were broken into on the same night.\n",
        "\n",
        "Given an integer array nums representing the amount of money of each house, return the maximum amount of money you can rob tonight without alerting the police."
      ],
      "metadata": {
        "id": "3eOsx6Wbg3v5"
      }
    },
    {
      "cell_type": "code",
      "source": [
        "'''\n",
        "M1 Dynamic programming\n",
        "\n",
        "Given [2,3,2]\n",
        "Not allowed to rob first house and third house\n",
        "\n",
        "Run rob1(0:n-1)\n",
        "Run rob1(1:n)\n",
        "\n",
        "time: O(n)\n",
        "spacce: O(1)\n",
        "'''\n",
        "\n",
        "class Solution:\n",
        "    def rob2(self, nums: list[int]) -> int:\n",
        "      return max(self.rob1(nums[1:]), self.rob1(nums[:-1]))\n",
        "\n",
        "    def rob1(self, nums: List[int]) -> int:\n",
        "        rob1, rob2 = 0, 0\n",
        "        for n in nums:\n",
        "            temp = max(n + rob1, rob2)\n",
        "            rob1 = rob2\n",
        "            rob2 = temp\n",
        "        return rob2"
      ],
      "metadata": {
        "id": "U4m_3j_Ug93K"
      },
      "execution_count": null,
      "outputs": []
    },
    {
      "cell_type": "markdown",
      "source": [
        "**Q3.4 House Robber III**\n",
        "\n",
        "The thief has found himself a new place for his thievery again. There is only one entrance to this area, called root.\n",
        "\n",
        "Besides the root, each house has one and only one parent house. After a tour, the smart thief realized that all houses in this place form a binary tree. It will automatically contact the police if two directly-linked houses were broken into on the same night.\n",
        "\n",
        "Given the root of the binary tree, return the maximum amount of money the thief can rob without alerting the police."
      ],
      "metadata": {
        "id": "agAm7ir1lOig"
      }
    },
    {
      "cell_type": "code",
      "source": [
        "class Solution:\n",
        "    def rob(self, root: Optional[TreeNode]) -> int:\n",
        "        return max(self.helper(root))      \n",
        "        \n",
        "    def helper(self, root):\n",
        "        # returns of tuple of reward (now, later)\n",
        "        \n",
        "        if not root:\n",
        "            return (0, 0)\n",
        "        \n",
        "        # get values of left and right nodes\n",
        "        left = self.helper(root.left)\n",
        "        right = self.helper(root.right)\n",
        "        \n",
        "        # rob current house\n",
        "        now = root.val + left[1] + right[1]\n",
        "        \n",
        "        # not rob current house\n",
        "        later = max(left) + max(right) # caustion \n",
        "        \n",
        "        return (now, later)\n",
        "        "
      ],
      "metadata": {
        "id": "1LBogxGilO6O"
      },
      "execution_count": null,
      "outputs": []
    },
    {
      "cell_type": "markdown",
      "source": [
        "### Unbounded knapsack\n",
        "\n",
        "**Q4.1 Coin change**\n",
        "\n",
        "You are given an integer array coins representing coins of different denominations and an integer amount representing a total amount of money. Return the fewest number of coins that you need to make up that amount. If that amount of money cannot be made up by any combination of the coins, return -1. You may assume that you have an infinite number of each kind of coin.\n",
        "\n",
        "\n",
        "```\n",
        "Input: coins=[1,2,3], target=5\n",
        "\n",
        "```\n",
        "\n",
        "Notes:\n",
        "* This is more complex than 1D problem. \n",
        "* Decrease target \n",
        "* Subproblem:\n",
        "C(5) = C(1) + 1 + C(3) + C(2) \n",
        "\n"
      ],
      "metadata": {
        "id": "vAn0NoinEo4q"
      }
    },
    {
      "cell_type": "code",
      "source": [
        "# M0 greedy \n",
        "# Put biggest value first, then smaller ones\n",
        "# However, this does not guarantee the minimum number "
      ],
      "metadata": {
        "id": "oWb1j3m3xips"
      },
      "execution_count": null,
      "outputs": []
    },
    {
      "cell_type": "code",
      "source": [
        "# M1 Brute Force. DFS - Backtracking\n",
        "# Given [1,3,4,5], target=7\n",
        "# Each stage 4 decisions, choose one of the numbers\n",
        "# Compute until reach 0. Pick the lowest approach \n"
      ],
      "metadata": {
        "id": "TrgmiHoGx790"
      },
      "execution_count": null,
      "outputs": []
    },
    {
      "cell_type": "code",
      "source": [
        "# M2 Dynamic programming\n",
        "'''\n",
        "# Build bottom-up,\n",
        "# compute the minimum for i ... n- 1\n",
        "DP[0] = 0\n",
        "DP[1] = 1\n",
        "DP[2] = 2\n",
        "DP[3] = 1\n",
        "DP[4] = 1\n",
        "DP[5] = 1\n",
        "DP[6] = 2\n",
        "\n",
        "DP[7] = 1 + DP[6] = 1 + 2 = 3\n",
        "DP[7] = 1 + DP[4] = 1 + 1 = 2\n",
        "DP[7] = 1 + DP[3] = 2 \n",
        "DP[7] = 1 + DP[2] = 2\n",
        "'''\n",
        "\n",
        "class Solution:\n",
        "  def coinChange(self, coins, amount):\n",
        "    dp = [amount + 1] * (amount + 1)\n",
        "    dp[0] = 0\n",
        "\n",
        "    for a in range(1, amount + 1):\n",
        "      for c in coins:\n",
        "        if a >= c:\n",
        "          dp[a] = min(dp[a], 1 + dp[a-c]) # DP[7] = 1 + DP[3]\n",
        "\n",
        "    return dp[amount] if dp[amount] != amount + 1 else -1\n",
        "  \n",
        "# time: O(amount * len(coins))\n",
        "# space: O(amount)"
      ],
      "metadata": {
        "id": "5ftN61K1yo2M"
      },
      "execution_count": null,
      "outputs": []
    },
    {
      "cell_type": "markdown",
      "source": [
        "**Q4.2. Coin change II**\n",
        "\n",
        "You are given an integer array coins representing coins of different denominations and an integer amount representing a total amount of money. Return the number of combinations that make up that amount. If that amount of money cannot be made up by any combination of the coins, return 0. You may assume that you have an infinite number of each kind of coin.\n",
        "\n",
        "\n",
        "\n",
        "```\n",
        "Input: amount = 5, coins = [1,2,5]\n",
        "Output: 4\n",
        "Explanation: there are four ways to make up the amount:\n",
        "5=5\n",
        "5=2+2+1\n",
        "5=2+1+1+1\n",
        "5=1+1+1+1+1\n",
        "```\n",
        "\n",
        "\n"
      ],
      "metadata": {
        "id": "7bUzxvTDEuc-"
      }
    },
    {
      "cell_type": "code",
      "source": [
        "# M1 DFS\n",
        "# time: O(m*n)"
      ],
      "metadata": {
        "id": "7G9IMxoDlsZZ"
      },
      "execution_count": null,
      "outputs": []
    },
    {
      "cell_type": "code",
      "source": [
        "# M2 DP\n",
        "# time: O(n)\n",
        "\n"
      ],
      "metadata": {
        "id": "l3Ov_gpklvu8"
      },
      "execution_count": null,
      "outputs": []
    },
    {
      "cell_type": "markdown",
      "source": [
        "### 0/1 Knapsack\n",
        "\n",
        "**Q4.1. Target Sum**\n"
      ],
      "metadata": {
        "id": "UKpxXcyeEiZB"
      }
    },
    {
      "cell_type": "markdown",
      "source": [
        "**Q4.2. Partition equal subset sum**\n"
      ],
      "metadata": {
        "id": "LjydIU_SEmUD"
      }
    },
    {
      "cell_type": "markdown",
      "source": [
        "**Q5.3. Minimum cost for tickets**"
      ],
      "metadata": {
        "id": "awM1_6HVEwv7"
      }
    },
    {
      "cell_type": "code",
      "source": [],
      "metadata": {
        "id": "8sMyWeuLn95n"
      },
      "execution_count": null,
      "outputs": []
    },
    {
      "cell_type": "markdown",
      "source": [
        "**Q6 Longest common subsequence**\n",
        "\n",
        "\n"
      ],
      "metadata": {
        "id": "qA6hHIMnEzyW"
      }
    },
    {
      "cell_type": "code",
      "source": [
        "'''\n",
        "Loop through two strings\n",
        "- if one letter exists in both, \n",
        "    Subproblem is the longest commmon subsequence not including \"a\"\n",
        "- if one letter do not exists, two choices\n",
        " - Find longest subsequence between remaining skipping b in string1\n",
        " - Find longest subsequence between remaining skipping b in string2\n",
        "\n",
        "\n",
        "'''"
      ],
      "metadata": {
        "id": "9by5mFpAsDn5"
      },
      "execution_count": null,
      "outputs": []
    },
    {
      "cell_type": "code",
      "source": [],
      "metadata": {
        "id": "ullsWvoAsDlh"
      },
      "execution_count": null,
      "outputs": []
    },
    {
      "cell_type": "markdown",
      "source": [
        "**Q6.3 Edit distance**"
      ],
      "metadata": {
        "id": "CXlpe-zCE6jw"
      }
    },
    {
      "cell_type": "markdown",
      "source": [
        "**Q6.4 Distinct subsequences**"
      ],
      "metadata": {
        "id": "oHT-c2OxE8xP"
      }
    },
    {
      "cell_type": "markdown",
      "source": [
        "**Q7 Longest palindromic substring**"
      ],
      "metadata": {
        "id": "-RphbMfzE_kd"
      }
    },
    {
      "cell_type": "code",
      "source": [
        "# M1 for each case, expand from center\n",
        "# time: O(n^2 * 2)"
      ],
      "metadata": {
        "id": "dI4DR3cztm9W"
      },
      "execution_count": null,
      "outputs": []
    },
    {
      "cell_type": "markdown",
      "source": [
        "**Q7.2. Palindromic substrings**"
      ],
      "metadata": {
        "id": "hlVhYc7VFErf"
      }
    },
    {
      "cell_type": "code",
      "source": [],
      "metadata": {
        "id": "_FQBwsIAn7r2"
      },
      "execution_count": null,
      "outputs": []
    },
    {
      "cell_type": "markdown",
      "source": [
        "**Q7.3 Longest palindromic subsequence**"
      ],
      "metadata": {
        "id": "pjoOhGboFHec"
      }
    },
    {
      "cell_type": "code",
      "source": [],
      "metadata": {
        "id": "hax8u7W-FHLU"
      },
      "execution_count": null,
      "outputs": []
    },
    {
      "cell_type": "code",
      "source": [],
      "metadata": {
        "id": "GPJ2Q6MWEwMP"
      },
      "execution_count": null,
      "outputs": []
    }
  ]
}