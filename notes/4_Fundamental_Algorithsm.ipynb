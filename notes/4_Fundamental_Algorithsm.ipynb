{
  "nbformat": 4,
  "nbformat_minor": 0,
  "metadata": {
    "colab": {
      "name": "4_Fundamental Algorithsm.ipynb",
      "provenance": [],
      "collapsed_sections": [],
      "toc_visible": true,
      "include_colab_link": true
    },
    "kernelspec": {
      "name": "python3",
      "display_name": "Python 3"
    }
  },
  "cells": [
    {
      "cell_type": "markdown",
      "metadata": {
        "id": "view-in-github",
        "colab_type": "text"
      },
      "source": [
        "<a href=\"https://colab.research.google.com/github/lingchm/datascience/blob/master/4_Fundamental_Algorithsm.ipynb\" target=\"_parent\"><img src=\"https://colab.research.google.com/assets/colab-badge.svg\" alt=\"Open In Colab\"/></a>"
      ]
    },
    {
      "cell_type": "markdown",
      "metadata": {
        "id": "BbjHaxoadkyC",
        "colab_type": "text"
      },
      "source": [
        "#4. Fundamental Algorithms"
      ]
    },
    {
      "cell_type": "markdown",
      "metadata": {
        "id": "ljBW9mEudv_V",
        "colab_type": "text"
      },
      "source": [
        "##4.1.Search Algorithms"
      ]
    },
    {
      "cell_type": "markdown",
      "metadata": {
        "id": "a-V8xTSXd4TE",
        "colab_type": "text"
      },
      "source": [
        "###Binary Search\n",
        "\n",
        "How it works\n",
        "* Set L and R boundaries. M is the middle\n",
        "* Compare target to M. Readjust L and R\n",
        "* Proceed until the end\n",
        "\n",
        "General\n",
        "* The size of the search space is reduced roughly by 1/2 for every iteration: n -> n/2 -> n/4 -> ... n/2^h\n",
        "* Stop when L < R, When there is only one number, still needs to check if it is it. Return false if not found\n",
        "* Must guarantee that the search space decreases over time\n",
        "* Must guarantee that the target cannot be ruled out\n",
        "* Minimum number of searches: H = O(logN)\n",
        "* Time complexity: O(logN)\n",
        "\n",
        "Key points:\n",
        "* new search space must be smaller than the old one. Otherwise, you will end up with infinite loop\n",
        "* New search space must contain all the possible candidates\n",
        "\n",
        "Three types:\n",
        "* left <= right: can only be used to find a number\n",
        "* left < right: ?\n",
        "* left < right - 1: needs post processsing\n"
      ]
    },
    {
      "cell_type": "markdown",
      "metadata": {
        "id": "L2cKxks65JOS",
        "colab_type": "text"
      },
      "source": [
        "Summary of problems:\n",
        "1. Get the last element == target --> Use upper_bound\n",
        "2. Get the largest element < target --> Use lower_bound\n",
        "3. Get total number of occurences --> Upper_bound - lower_bound\n"
      ]
    },
    {
      "cell_type": "markdown",
      "metadata": {
        "id": "bEUusvPF5BKd",
        "colab_type": "text"
      },
      "source": [
        "**Q1: Search number in a sorted array**\n",
        "* Return None if not found"
      ]
    },
    {
      "cell_type": "code",
      "metadata": {
        "id": "w7afzw33drbr",
        "colab_type": "code",
        "outputId": "af18525a-90c7-422c-ceef-158388692336",
        "colab": {
          "base_uri": "https://localhost:8080/",
          "height": 35
        }
      },
      "source": [
        "# Binary Search 1D\n",
        "def binary_search(nums, target):\n",
        "  if nums == None or len(nums) == 0: #if nums is not None and len(nums) != 0:\n",
        "    return None\n",
        "  left = 0\n",
        "  right = len(nums) - 1\n",
        "  while left <= right:\n",
        "    mid = int((left + right) / 2)\n",
        "    if nums[mid] > target:\n",
        "      right = mid - 1\n",
        "    elif nums[mid] < target:\n",
        "      left = mid + 1\n",
        "    else: \n",
        "      return mid\n",
        "  return None\n",
        "\n",
        "print (binary_search([1, 2, 3], 3))"
      ],
      "execution_count": 0,
      "outputs": [
        {
          "output_type": "stream",
          "text": [
            "2\n"
          ],
          "name": "stdout"
        }
      ]
    },
    {
      "cell_type": "code",
      "metadata": {
        "id": "3b6A2axbqrzd",
        "colab_type": "code",
        "colab": {}
      },
      "source": [
        "# Laioffer Solution - with post processing\n",
        "class Solution(object):\n",
        "  def binarySearch(self, array, target):\n",
        "    \"\"\"\n",
        "    input: int[] array, int target\n",
        "    return: int\n",
        "    \"\"\"\n",
        "    if not array:\n",
        "      return -1\n",
        "    left = 0\n",
        "    right = len(array) - 1\n",
        "    while left < right - 1:\n",
        "      mid = (left + right) // 2\n",
        "      if array[mid] == target:  #moved first \n",
        "        return mid\n",
        "      if array[mid] < target:\n",
        "        left = mid\n",
        "      else:\n",
        "        right = mid\n",
        "    if array[left] == target:\n",
        "      return left\n",
        "    if array[right] == target:\n",
        "      return right\n",
        "    return -1"
      ],
      "execution_count": 0,
      "outputs": []
    },
    {
      "cell_type": "markdown",
      "metadata": {
        "id": "Woim2C8nClbI",
        "colab_type": "text"
      },
      "source": [
        "**Q2: 2D Matrix search**\n",
        "* Convert 2D array into linear form\n",
        "* Given matrix NxM; N = len(matrix); M = len(matrix[0])\n",
        "* Row_index = index / M\n",
        "* Col_index = index % M\n",
        "* NOTE: len([])) == 0; len(None) == error\n",
        "* Time complexity: O(log(N*M))"
      ]
    },
    {
      "cell_type": "code",
      "metadata": {
        "id": "KlJUimhqeUtf",
        "colab_type": "code",
        "outputId": "daa1fe01-7aa0-4333-a580-d3e11af5a49e",
        "colab": {
          "base_uri": "https://localhost:8080/",
          "height": 35
        }
      },
      "source": [
        "#Binary Search 2D\n",
        "def binary_search_2d(matrix, target):\n",
        "  #matrix is a 2D array, ex. [[0,1,2,3],[4,5,6,7]]\n",
        "  if matrix == None or len(matrix) == 0:\n",
        "    return None\n",
        "  N, M = len(matrix), len(matrix[0])\n",
        "  left, right = 0, N*M-1\n",
        "  while left <= right:\n",
        "    mid = int((left+right)/2)\n",
        "    row_num = int(mid / M)  #row index\n",
        "    col_num = int(mid % M)  #col index\n",
        "    if matrix[row_num][col_num] > target:\n",
        "      right = mid - 1\n",
        "    elif matrix[row_num][col_num] < target:\n",
        "      left = mid + 1\n",
        "    else:\n",
        "      return(row_num, col_num)\n",
        "  return None\n",
        "\n",
        "print (binary_search_2d([[0,1,2,3],[4,5,6,7]], 3))"
      ],
      "execution_count": 0,
      "outputs": [
        {
          "output_type": "stream",
          "text": [
            "(0, 3)\n"
          ],
          "name": "stdout"
        }
      ]
    },
    {
      "cell_type": "code",
      "metadata": {
        "id": "RpsC4bE5qKbM",
        "colab_type": "code",
        "colab": {}
      },
      "source": [
        "# Laioffer Solution\n",
        "class Solution(object):\n",
        "  def search(self, matrix, target):\n",
        "    \"\"\"\n",
        "    input: int[][] matrix, int target\n",
        "    return: int[]\n",
        "    \"\"\"\n",
        "    if len(matrix) == 0 or len(matrix[0] == 0):\n",
        "      return [-1, -1]\n",
        "    left = 0\n",
        "    right = len(matrix) * len(matrix[0]) - 1\n",
        "    while left < right - 1:\n",
        "      middle = left + (right - left) // 2\n",
        "      middlex = middle / len(matrix[0])\n",
        "      middley = middle % len(matrix[0])\n",
        "      if matrix[middlex][middley] < target:\n",
        "        left = middle\n",
        "      elif matrix[middlex][middley] > target:\n",
        "        right = middle\n",
        "      else:\n",
        "        return [middlex, middley]\n",
        "    if matrix[left/len(matrix[0])][left % len(matrix[0])]:\n",
        "      return [left/len(matrix[0]), left % len(matrix[0])]\n",
        "    if matrix[right/len(matrix[0])][right % len(matrix[0])]:\n",
        "      return [right/len(matrix[0]), right % len(matrix[0])]\n",
        "    return [-1, -1]\n",
        "\n",
        "# time: O(log(m*n))\n",
        "# space: O(1)"
      ],
      "execution_count": 0,
      "outputs": []
    },
    {
      "cell_type": "markdown",
      "metadata": {
        "id": "46kFSFj5CqPh",
        "colab_type": "text"
      },
      "source": [
        "**Q3 Find closest element**\n",
        "\n",
        "* Loop condition: while left < right - 1\n",
        "* When left = right - 1, infinite loop because mid wil be == left or right"
      ]
    },
    {
      "cell_type": "code",
      "metadata": {
        "id": "L74Nzu2_emcD",
        "colab_type": "code",
        "outputId": "b915e919-f7af-40ab-c227-b6c94653fe6b",
        "colab": {
          "base_uri": "https://localhost:8080/",
          "height": 35
        }
      },
      "source": [
        "#Binary Search (closest number)\n",
        "def binary_search_C3(nums, target):\n",
        "  if nums == None or len(nums) == 0: #if nums is not None and len(nums) != 0:\n",
        "    return None\n",
        "  left = 0\n",
        "  right = len(nums) - 1\n",
        "  while left < right - 1:\n",
        "    mid = int((left + right) / 2)\n",
        "    if nums[mid] > target:\n",
        "      right = mid \n",
        "    elif nums[mid] < target:\n",
        "      left = mid \n",
        "    else: \n",
        "      return mid\n",
        "  return left if abs(nums[left]-target) < abs(nums[right]-target) else right\n",
        "\n",
        "print (binary_search_C3([1,2,3], 3))"
      ],
      "execution_count": 0,
      "outputs": [
        {
          "output_type": "stream",
          "text": [
            "2\n"
          ],
          "name": "stdout"
        }
      ]
    },
    {
      "cell_type": "code",
      "metadata": {
        "id": "FQ7fQs8ytsq7",
        "colab_type": "code",
        "colab": {}
      },
      "source": [
        "# Laioffer Solution\n",
        "class Solution(object):\n",
        "  def closest(self, array, target):\n",
        "    \"\"\"\n",
        "    input: int[] array, int target\n",
        "    return: int\n",
        "    \"\"\"\n",
        "    if len(array) == 0:\n",
        "      return -1\n",
        "    left = 0\n",
        "    right = len(array) - 1\n",
        "    while left < right - 1:\n",
        "      mid = (left + right) // 2\n",
        "      if array[mid] > target:\n",
        "        right = mid\n",
        "      elif array[mid] < target:\n",
        "        left = mid\n",
        "      else:\n",
        "        return mid\n",
        "    return left if abs(array[left] - target) < abs(array[right] - target) else right\n"
      ],
      "execution_count": 0,
      "outputs": []
    },
    {
      "cell_type": "markdown",
      "metadata": {
        "id": "OzikN1p64q59",
        "colab_type": "text"
      },
      "source": [
        "**Q4 Find k closest elements**"
      ]
    },
    {
      "cell_type": "code",
      "metadata": {
        "id": "yEpFeSn8iiAQ",
        "colab_type": "code",
        "colab": {}
      },
      "source": [
        "# M1\n",
        "class Solution(object):\n",
        "  def kClosest(self, array, target, k):\n",
        "    \"\"\"\n",
        "    input: int[] array, int target, int k\n",
        "    return: int[]\n",
        "    \"\"\"\n",
        "    # write your solution here\n",
        "    if array == None or len(array) == 0:\n",
        "        return -1\n",
        "    result = []\n",
        "    while len(result) < k:\n",
        "        left = 0\n",
        "        right = len(array) - 1\n",
        "        while left < right - 1:\n",
        "            mid = (left + right) / 2\n",
        "            if array[mid] < target:\n",
        "                left = mid  \n",
        "            elif array[mid] > target:\n",
        "                right = mid\n",
        "            else:\n",
        "                result.append(array[mid])\n",
        "                del(array[mid])\n",
        "                break\n",
        "        if left >= right - 1:\n",
        "            if abs(array[left]-target) < abs(array[right]-target):\n",
        "                result.append(array[left])\n",
        "                del(array[left])\n",
        "            else:\n",
        "                result.append(array[right])\n",
        "                del(array[right])\n",
        "    return result "
      ],
      "execution_count": 0,
      "outputs": []
    },
    {
      "cell_type": "code",
      "metadata": {
        "id": "a9HcAScUuSZN",
        "colab_type": "code",
        "colab": {}
      },
      "source": [
        "# M2\n",
        "class Solution(object):\n",
        "  def kClosest(self, array, target, k):\n",
        "    \"\"\"\n",
        "    input: int[] array, int target, int k\n",
        "    return: int[]\n",
        "    \"\"\"\n",
        "    # write your solution here\n",
        "    if not array:\n",
        "      return -1\n",
        "    left = 0\n",
        "    right = len(array) - 1\n",
        "    res = []\n",
        "    mid = (left + right) // 2\n",
        "    if k == 0:\n",
        "      return res\n",
        "    while left < right - 1:\n",
        "      mid = (left + right) // 2\n",
        "      if array[mid] < target:\n",
        "        left = mid\n",
        "      elif array[mid] > target:\n",
        "        right = mid\n",
        "      else:\n",
        "        break\n",
        "    # set left right pointers \n",
        "    if array[mid] == target:\n",
        "      res.append(array[mid])\n",
        "      left, right = mid, mid\n",
        "    elif abs(array[right] - target) > abs(array[left] - target):\n",
        "      res.append(array[left])\n",
        "      right = left\n",
        "    else:\n",
        "      res.append(array[right])\n",
        "      left = right\n",
        "    # Extend the range using left, right pointers \n",
        "    for i in range(k-1):\n",
        "      if right >= len(array) - 1:\n",
        "        left -= 1\n",
        "        res.append(array[left])\n",
        "      elif left == 0:\n",
        "        right += 1\n",
        "        res.append(array[right])\n",
        "      elif abs(array[left-1] - target) > abs(array[right+1] - target):\n",
        "        right +=1\n",
        "        res.append(array[right])\n",
        "      else:\n",
        "        left -= 1\n",
        "        res.append(array[left])\n",
        "    return res"
      ],
      "execution_count": 0,
      "outputs": []
    },
    {
      "cell_type": "code",
      "metadata": {
        "id": "xWnqTMD0uiQF",
        "colab_type": "code",
        "colab": {}
      },
      "source": [
        "# Laioffer Solution\n",
        "class Solution(object):\n",
        "  def closest(self, array, target, k):\n",
        "    \"\"\"\n",
        "    input: int[] array, int target, int k\n",
        "    return: int[]\n",
        "    \"\"\"\n",
        "    left = 0\n",
        "    right = len(array) - 1\n",
        "    if right < 0:\n",
        "      return -1\n",
        "    while left < right - 1:\n",
        "      middle = left + (right - left) // 2\n",
        "      if array[middle] < target:\n",
        "        left = middle\n",
        "      elif array[middle] > target:\n",
        "        right = middle\n",
        "      else:\n",
        "        return middle\n",
        "    if abs(array[left] - target) < abs(array[right] - target):\n",
        "      return left\n",
        "    return right\n",
        "\n",
        "  def kClosest(self, array, target, k):\n",
        "    res = []\n",
        "    if len(array) == 0 or k == 0:\n",
        "      return res\n",
        "    close = self.closest(array, target)\n",
        "    res.append(array[close])\n",
        "    left = close - 1\n",
        "    right = close + 1\n",
        "    total = len(array)\n",
        "    while len(res) < k and (left >= 0 or right < total):\n",
        "      if right < total and (left < 0 or abs(array[left] - target) > abs(array[right] - target)):\n",
        "        res.append(array[right])\n",
        "        right += 1\n",
        "      elif left >= 0:\n",
        "        res.append(array[left])\n",
        "        left -= 1\n",
        "    return res\n",
        "\n",
        "# time: O(logn + k)\n",
        "# space: O(1)"
      ],
      "execution_count": 0,
      "outputs": []
    },
    {
      "cell_type": "code",
      "metadata": {
        "id": "OEiz2i61DoJQ",
        "colab_type": "code",
        "colab": {}
      },
      "source": [
        "### New method: Direct binary search\n",
        "Could we directly use binary search to find the first element in those k closest ones towards target?\n"
      ],
      "execution_count": 0,
      "outputs": []
    },
    {
      "cell_type": "markdown",
      "metadata": {
        "id": "WVaXwhPJ4wWD",
        "colab_type": "text"
      },
      "source": [
        "**Q5 First Occurence**\n",
        "\n",
        "Given an array of integers that is non-decreasing and a target value, find the first position in this array at which the element is >= target. If you cannot find one, return len(array)"
      ]
    },
    {
      "cell_type": "code",
      "metadata": {
        "id": "NBF5l8kietyV",
        "colab_type": "code",
        "outputId": "306ae98f-974e-4c5a-9bae-8dbfeb4a0da4",
        "colab": {
          "base_uri": "https://localhost:8080/",
          "height": 35
        }
      },
      "source": [
        "#First Occurence\n",
        "def first_occurence(nums, target):\n",
        "  if not nums: #if nums is not None and len(nums) != 0:\n",
        "    return None\n",
        "  left = 0\n",
        "  right = len(nums) - 1\n",
        "  while left < right - 1: # [left, right] >= 2\n",
        "    mid = (left + right) // 2\n",
        "    if nums[mid] < target:\n",
        "      left = mid + 1     # left = mid is also okay\n",
        "    else:\n",
        "      right = mid \n",
        "  if nums[left] == target:\n",
        "    return left\n",
        "  if nums[right] == target:\n",
        "    return right\n",
        "  return None\n",
        "\n",
        "print (first_occurence([1,2,2,5], 2))"
      ],
      "execution_count": 0,
      "outputs": [
        {
          "output_type": "stream",
          "text": [
            "1\n"
          ],
          "name": "stdout"
        }
      ]
    },
    {
      "cell_type": "code",
      "metadata": {
        "id": "blxycz5c0pgk",
        "colab_type": "code",
        "colab": {}
      },
      "source": [
        "#First Occurence\n",
        "def first_occurence(nums, target):\n",
        "  if nums == None or len(nums) == 0: #if nums is not None and len(nums) != 0:\n",
        "    return None\n",
        "  left = 0\n",
        "  right = len(nums) - 1\n",
        "  while left < right - 1:   # range <= 2\n",
        "    mid = (left + right) // 2\n",
        "    if nums[mid] >= target: # 如果大于或等于，往左看\n",
        "      right = mid\n",
        "    else:\n",
        "      left = mid + 1\n",
        "  if nums[left] == target:\n",
        "    return left\n",
        "  if nums[right] == target:\n",
        "    return right\n",
        "  return None\n",
        "\n",
        "print (first_occurence([1,2,2,5], 2))"
      ],
      "execution_count": 0,
      "outputs": []
    },
    {
      "cell_type": "code",
      "metadata": {
        "id": "apu_YTdVsbyk",
        "colab_type": "code",
        "colab": {}
      },
      "source": [
        "# Laioffer Solution\n",
        "class Solution(object):\n",
        "  def firstOccur(self, array, target):\n",
        "    \"\"\"\n",
        "    array: in[]\n",
        "    target: int\n",
        "    return: int\n",
        "    \"\"\"\n",
        "    left = 0\n",
        "    right = len(array) - 1\n",
        "    if right < 0:\n",
        "      return -1\n",
        "    while left < right - 1:\n",
        "      middle = left + (right - left) // 2\n",
        "      if array[middle] < target:\n",
        "        left = middle\n",
        "      elif array[middle] >= target:\n",
        "        right = middle\n",
        "    if array[left] == target:\n",
        "      return left\n",
        "    if array[right] == target:\n",
        "      return right\n",
        "    return -1"
      ],
      "execution_count": 0,
      "outputs": []
    },
    {
      "cell_type": "code",
      "metadata": {
        "id": "2r6nlpty2hFf",
        "colab_type": "code",
        "colab": {}
      },
      "source": [
        "# Laioffer Solution - no post processing\n",
        "class Solution(object):\n",
        "  def firstOccur(self, array, target):\n",
        "    left, right = 0, len(array) #includes len(array) because its part of answers\n",
        "    while left < right:\n",
        "      mid = (right + left) // 2\n",
        "      if array[mid] >= target:\n",
        "        right = mid\n",
        "      else:\n",
        "        left = mid + 1\n",
        "    return l\n",
        "\n",
        "# If only two elements, converge into one element\n",
        "[1,2,5,6] -> 4\n",
        " l   m   r\n",
        "     r\n",
        "   m\n",
        "     l\n",
        "     \n",
        "    "
      ],
      "execution_count": 0,
      "outputs": []
    },
    {
      "cell_type": "markdown",
      "metadata": {
        "id": "UJoG_8TasLWh",
        "colab_type": "text"
      },
      "source": [
        "**Q6 Last Occurrence**"
      ]
    },
    {
      "cell_type": "code",
      "metadata": {
        "id": "XcSD2Bcqe0hK",
        "colab_type": "code",
        "outputId": "90d0b50c-2314-4640-cb6f-6bcd430cc410",
        "colab": {
          "base_uri": "https://localhost:8080/",
          "height": 35
        }
      },
      "source": [
        "#Last Occurence\n",
        "def last_occurence(nums, target):\n",
        "  if nums == None or len(nums) == 0: #if nums is not None and len(nums) != 0:\n",
        "    return None\n",
        "  left = 0\n",
        "  right = len(nums) - 1\n",
        "  while left < right - 1:\n",
        "    mid = int((left + right) / 2)\n",
        "    if nums[mid] > target:\n",
        "      right = mid - 1\n",
        "    else:\n",
        "      left = mid \n",
        "  if nums[right] == target:\n",
        "    return right\n",
        "  if nums[left] == target:\n",
        "    return left\n",
        "  return None\n",
        "\n",
        "print (last_occurence([1,2,2,5], 2))\n",
        "#time: O(logn)\n",
        "#space: O(1)"
      ],
      "execution_count": 0,
      "outputs": [
        {
          "output_type": "stream",
          "text": [
            "2\n"
          ],
          "name": "stdout"
        }
      ]
    },
    {
      "cell_type": "code",
      "metadata": {
        "id": "_X-rEvgqs7lz",
        "colab_type": "code",
        "colab": {}
      },
      "source": [
        "# Laioffer Solution\n",
        "class Solution(object):\n",
        "  def lastOccur(self, array, target):\n",
        "    \"\"\"\n",
        "    array: int[]\n",
        "    target: int\n",
        "    return: int\n",
        "    \"\"\"\n",
        "    left = 0\n",
        "    right = len(array) - 1\n",
        "    if right < 0:\n",
        "      return -1\n",
        "    while left < right - 1:\n",
        "      middle = left + (right - left) // 2\n",
        "      if array[middle] <= target:\n",
        "        left = middle\n",
        "      elif array[middle] > target:\n",
        "        right = middle\n",
        "    if array[right] == target:\n",
        "      return right\n",
        "    if array[left] == target:\n",
        "      return left\n",
        "    return -1"
      ],
      "execution_count": 0,
      "outputs": []
    },
    {
      "cell_type": "markdown",
      "metadata": {
        "id": "-0yxhRMUyNA5",
        "colab_type": "text"
      },
      "source": [
        "**Q7 Search in Unknown Sized Sorted Array**\n",
        "* S1 expand the boundary by two times to find the right boundary\n",
        "* do binary searhc inside left and right bounda"
      ]
    },
    {
      "cell_type": "code",
      "metadata": {
        "id": "f7TWKu3P7uOA",
        "colab_type": "code",
        "colab": {}
      },
      "source": [
        "# M1\n",
        "class Solution(object):\n",
        "  def search(self, dic, target):\n",
        "    \"\"\"\n",
        "    input: Dictionary dic, int target\n",
        "    return: int\n",
        "    \"\"\"\n",
        "    # write your solution here\n",
        "    i = 0\n",
        "    while dic.get(i) != None:\n",
        "      if dic.get(i) == target:\n",
        "        return i\n",
        "      i += 1\n",
        "    return -1"
      ],
      "execution_count": 0,
      "outputs": []
    },
    {
      "cell_type": "code",
      "metadata": {
        "id": "uods5slxyUAJ",
        "colab_type": "code",
        "colab": {}
      },
      "source": [
        "# M2\n",
        "# Definition for a unknown sized dictionary.\n",
        "# class Dictionary(object):\n",
        "#   def get(self, index):\n",
        "#     pass\n",
        "\n",
        "class Solution(object):\n",
        "  def search(self, dic, target):\n",
        "    \"\"\"\n",
        "    input: Dictionary dic, int target\n",
        "    return: int\n",
        "    \"\"\"\n",
        "    # write your solution here\n",
        "    if not dic:\n",
        "      return -1\n",
        "    start = 1\n",
        "    while dic.get(start) and dic.get(start) < target:\n",
        "      start = start * 2\n",
        "    left = 0\n",
        "    right = start\n",
        "    while left <= right:\n",
        "      mid = (left + right) // 2\n",
        "      if dic.get(mid) is None or dic.get(mid) < target:\n",
        "        left = mid + 1\n",
        "      elif dic.get(mid) > target:\n",
        "        right = mid - 1\n",
        "      else:\n",
        "        return mid\n",
        "    return -1"
      ],
      "execution_count": 0,
      "outputs": []
    },
    {
      "cell_type": "code",
      "metadata": {
        "id": "9xlf0LTk7eUz",
        "colab_type": "code",
        "colab": {}
      },
      "source": [
        "# Laioffer Solution\n",
        "# Definition for a unknown sized dictionary.\n",
        "# class Dictionary(object):\n",
        "#   def get(self, index):\n",
        "#     pass\n",
        "\n",
        "class Solution(object):\n",
        "  def search(self, dic, target):\n",
        "    \"\"\"\n",
        "    input: Dictionary dic, int target\n",
        "    return: int\n",
        "    \"\"\"\n",
        "    # write your solution here\n",
        "    start = 1\n",
        "    while dic.get(start) and dic.get(start) < target:\n",
        "      start = start * 2\n",
        "    left, right = 0, start\n",
        "    while left <= right:\n",
        "      mid = (left + right) // 2\n",
        "      if dic.get(mid) is None or dic.get(mid) < target:\n",
        "        left = mid + 1\n",
        "      elif dic.get(mid) > target:\n",
        "        right = mid - 1\n",
        "      else:\n",
        "        return mid\n",
        "    return -1"
      ],
      "execution_count": 0,
      "outputs": []
    },
    {
      "cell_type": "code",
      "metadata": {
        "id": "GrGgeyvgcao_",
        "colab_type": "code",
        "colab": {}
      },
      "source": [
        "'''\n",
        "M1 Binary search in [1, n]\n",
        "bad: right might be very big\n",
        "time: O(log(version_number))\n",
        "'''\n",
        "def bug():\n",
        "  version = 1\n",
        "  while is_bug(version):\n",
        "    version *= 2\n",
        "'''\n",
        "M2 [start, end?]\n",
        "S1 How find the end? binary search\n",
        "    try start*2, then start*2^2, start*2^#...\n",
        "    until find a bug\n",
        "S2 binary search [end/2, end]\n",
        "time: O(log(first_bug_version))\n",
        "'''"
      ],
      "execution_count": 0,
      "outputs": []
    },
    {
      "cell_type": "markdown",
      "metadata": {
        "id": "zUX-x3EY739o",
        "colab_type": "text"
      },
      "source": [
        "**Q8 Total Occurence**\n",
        "\n",
        "Given a target integer T and an integer array A sorted in ascending order, Find the total number of occurrences of T in A.\n",
        "* Return 0 if A is null\n"
      ]
    },
    {
      "cell_type": "code",
      "metadata": {
        "id": "rUUGmN3O-Mx3",
        "colab_type": "code",
        "colab": {}
      },
      "source": [
        "class Solution(object):\n",
        "  def totalOccurrence(self, array, target):\n",
        "    \"\"\"\n",
        "    input: int[] array, int target\n",
        "    return: int\n",
        "    \"\"\"\n",
        "    # write your solution here\n",
        "    if not array:\n",
        "      return 0\n",
        "    left = 0\n",
        "    right = len(array) - 1\n",
        "    res = 0\n",
        "    # first occurence\n",
        "    while left < right - 1:\n",
        "      mid = (left + right) // 2\n",
        "      if array[mid] >= target:\n",
        "        right = mid \n",
        "      elif array[mid] < target:\n",
        "        left = mid + 1\n",
        "    if array[left] == target:\n",
        "      mid = left\n",
        "    elif array[right] == target:\n",
        "      mid = right\n",
        "    else:\n",
        "      return res\n",
        "    # more occurrences\n",
        "    res = 1\n",
        "    while (mid + 1 < len(array)):\n",
        "      if (array[mid + 1] == target):\n",
        "        mid += 1\n",
        "        res += 1\n",
        "      else:\n",
        "        break\n",
        "    return res"
      ],
      "execution_count": 0,
      "outputs": []
    },
    {
      "cell_type": "code",
      "metadata": {
        "id": "IjTkqCpYAOPK",
        "colab_type": "code",
        "colab": {}
      },
      "source": [
        "# Laioffer Solution\n",
        "# Find the First Occurence and Last Occurence, get the distance between them\n",
        "class Solution(object):\n",
        "  def totalOccurences(self, array, target):\n",
        "    \"\"\"\n",
        "    input: int[] array, int target\n",
        "    return: int\n",
        "    \"\"\"\n",
        "    if not array:\n",
        "      return 0\n",
        "    lastOccur = self.lastOccur(array, target)\n",
        "    firstOccur = self.firstOccur(array, target)\n",
        "    return 0 if lastOccur == -1 else lastOccur - firstOccur + 1\n",
        "\n",
        "  def firstOccur(self, array, target):\n",
        "    if not array:\n",
        "      return -1\n",
        "    left, right = 0, len(array) - 1\n",
        "    while left < right - 1:\n",
        "      mid = (left + right) // 2\n",
        "      if array[mid] >= target:\n",
        "        right = mid\n",
        "      else:\n",
        "        left = mid\n",
        "    if array[left] == target:\n",
        "      return left\n",
        "    if array[right] == target:\n",
        "      return right\n",
        "    return -1\n",
        "  \n",
        "  def lastOccur(self, array, target):\n",
        "    if not array:\n",
        "      return -1\n",
        "    left, right = 0, len(array) - 1\n",
        "    while left < right - 1:\n",
        "      mid = (left + right) // 2\n",
        "      if array[mid] <= target:\n",
        "        left = mid\n",
        "      else:\n",
        "        right = mid\n",
        "    if array[right] == target:\n",
        "      return right\n",
        "    if array[left] == target:\n",
        "      return left\n",
        "    return -1\n",
        "\n",
        "# time: O(logn)\n",
        "# space: O(1)\n",
        "\n"
      ],
      "execution_count": 0,
      "outputs": []
    },
    {
      "cell_type": "markdown",
      "metadata": {
        "id": "O6Bk6HymKbrK",
        "colab_type": "text"
      },
      "source": [
        "**Q9 Square Root I**\n",
        "\n",
        "Given an integer number n, find its integer square root.\n",
        "* n is guaranteed to be >= 0."
      ]
    },
    {
      "cell_type": "code",
      "metadata": {
        "id": "6sx5pKjZb95r",
        "colab_type": "code",
        "colab": {}
      },
      "source": [
        "'''\n",
        "M1 Try every number in [1, n] to [1,n/2]\n",
        "time: O(n)\n",
        "space: O(1)\n",
        "'''\n",
        "def sqrt(n):\n",
        "  for val in range(1, n/2+1):\n",
        "    if val * val > n:\n",
        "      return val - 1\n",
        "  return n \n",
        "\n",
        "def sqrt(n):\n",
        "  val = 1\n",
        "  while vale * val <= n: \n",
        "    val += 1\n",
        "  return val - 1"
      ],
      "execution_count": 0,
      "outputs": []
    },
    {
      "cell_type": "code",
      "metadata": {
        "id": "i9ktZ0IKcE9M",
        "colab_type": "code",
        "colab": {}
      },
      "source": [
        "'''\n",
        "M2 Binary search in [1, n/2]\n",
        "if mid * mid < n: go right\n",
        "if mid * mid > n: go left\n",
        "if mid * mid == n: return\n",
        "time: O(n)\n",
        "space: O(1)\n",
        "'''\n",
        "def sqrt(n):\n",
        "  if n <= 1:\n",
        "    return n \n",
        "  left, right = 1, n/2\n",
        "  while left < right - 1:\n",
        "    mid = (left + right) / 2\n",
        "    mdsq = mid * mid\n",
        "    if midsq == n:\n",
        "      return mid\n",
        "    elif midsq > n:\n",
        "      right = mid\n",
        "    else:\n",
        "       left = mid\n",
        "  if right * right <= n:\n",
        "    return right\n",
        "  else:\n",
        "    return left"
      ],
      "execution_count": 0,
      "outputs": []
    },
    {
      "cell_type": "code",
      "metadata": {
        "id": "E-yw563YOwNY",
        "colab_type": "code",
        "colab": {}
      },
      "source": [
        "# Laioffer Solution\n",
        "class Solution(object):\n",
        "  def sqrt(self, x):\n",
        "    \"\"\"\n",
        "    input: int x\n",
        "    return: int\n",
        "    \"\"\"\n",
        "    if x == 0:\n",
        "      return 0\n",
        "    left = 1\n",
        "    right = x\n",
        "    while True:\n",
        "      if mid > x // mid:\n",
        "        right = mid - 1\n",
        "      elif mid <= x // mid and mid + 1 > x // (mid + 1):\n",
        "        return mid\n",
        "      else:\n",
        "        left = mid + 1\n",
        "\n",
        "# time: O(logn) better, with fewer loops\n",
        "# space: O(1)"
      ],
      "execution_count": 0,
      "outputs": []
    },
    {
      "cell_type": "markdown",
      "metadata": {
        "id": "1X7l70mA3u4B",
        "colab_type": "text"
      },
      "source": [
        "**Q10 The first element larger than target**\n"
      ]
    },
    {
      "cell_type": "code",
      "metadata": {
        "id": "kC5tErGe3yqf",
        "colab_type": "code",
        "colab": {}
      },
      "source": [
        "def upper_bound(nums, target):\n",
        "  "
      ],
      "execution_count": 0,
      "outputs": []
    },
    {
      "cell_type": "markdown",
      "metadata": {
        "id": "Un-xs7DL5nYf",
        "colab_type": "text"
      },
      "source": [
        "**Q11 Variant**\n",
        "\n",
        "Suppose an array sorted might be rotated at some pivot unknown to you beforehand. Find the minimum element. You may assume no duplicates.\n",
        "\n",
        "e.g. [0,1,2,4,5,6,7] might be [4,5,6,7,0,1,2]\n",
        "\n",
        "\n"
      ]
    },
    {
      "cell_type": "code",
      "metadata": {
        "id": "cFm-DeIa6M-1",
        "colab_type": "code",
        "colab": {}
      },
      "source": [
        "'''\n",
        "Three scenarios:\n",
        "* sorted, classical binary search: nums[l] < nums[m] < nums[r]\n",
        "* Min is on the left half: nums[l] > nums[m] < nums[r]\n",
        "* Min is on the right half\n",
        "'''\n",
        "\n"
      ],
      "execution_count": 0,
      "outputs": []
    },
    {
      "cell_type": "markdown",
      "metadata": {
        "id": "6ogTaCth9pxz",
        "colab_type": "text"
      },
      "source": [
        "**Q12 Bad Version**\n",
        "\n",
        "Suppose there is a version control interface contains n versions of product [1,2,3....n].\n",
        "\n",
        "There is an API called isBadVersions(int n) in which input is version number and output is boolean representing that whether the version is bad or not. Versions after the first bad version are all bad. Versions before the first bad version are all good.\n",
        "\n",
        "Write a new API called findFirstBadVersion(int n) where n is the total number of versions that returns the version number of the first bad one. \n"
      ]
    },
    {
      "cell_type": "code",
      "metadata": {
        "id": "Lcd0ThXb-Kr3",
        "colab_type": "code",
        "colab": {}
      },
      "source": [
        "l, r = 1, n\n",
        "while...\n",
        "  m = \n",
        "  if isBadVersion(m) is bad:\n",
        "    look to left\n",
        "  else:\n",
        "    look to right"
      ],
      "execution_count": 0,
      "outputs": []
    },
    {
      "cell_type": "markdown",
      "metadata": {
        "id": "Zg__L_tB-nAP",
        "colab_type": "text"
      },
      "source": [
        "**Q13 Ropes**\n",
        "\n",
        "You have N ropes and the ith rope has length l_i. If you want to cut these ropes down so that you could have at least K ropes taht have exactly the same length, what will be the maximum length you could get? The answer should have two decimal places"
      ]
    },
    {
      "cell_type": "code",
      "metadata": {
        "id": "j7IOw8nC_Xz1",
        "colab_type": "code",
        "colab": {}
      },
      "source": [
        "l = 0, r = +ing\n",
        "while...\n",
        "  m = ...\n",
        "  if C(m):\n",
        "    look to the right\n",
        "\n",
        "start at 0,\n",
        "  increment 0.01\n",
        "  until reach K\n",
        "\n",
        "Given a length l\n",
        "C(l) => check whether we could have a solution with length l => O(n)\n",
        "  for every rope length Li:\n",
        "    count += Li / l\n",
        "  if count > K\n",
        "\n",
        "Entire question => O(N*log(max Li)) ~ O(N)"
      ],
      "execution_count": 0,
      "outputs": []
    },
    {
      "cell_type": "markdown",
      "metadata": {
        "id": "zTWLkqU-e8MQ",
        "colab_type": "text"
      },
      "source": [
        "##4.2. Sort Algorithms"
      ]
    },
    {
      "cell_type": "markdown",
      "metadata": {
        "id": "HV99xeB3fXQj",
        "colab_type": "text"
      },
      "source": [
        "###Bubble Sort \n",
        "\n",
        "How it works\n",
        "\n",
        "* Every iteration, sort by pairs of 2.\n",
        "\n",
        "* 1st iteration: compared n numbers or (n-1) times --> the largest number will be at the end\n",
        "\n",
        "* 2nd iteration: compared n-1 numbers. The second largest will be before n\n",
        "\n",
        "General\n",
        "* Time: O(n^2) = (n-1) + (n-2) + ....+ 1\n",
        "* Space: O(1)"
      ]
    },
    {
      "cell_type": "code",
      "metadata": {
        "id": "4iWJosPzfbAh",
        "colab_type": "code",
        "outputId": "73e183e1-1429-4402-ea7b-c02ec4d381e9",
        "colab": {
          "base_uri": "https://localhost:8080/",
          "height": 295
        }
      },
      "source": [
        "#M1\n",
        "def bubble_sort(list):\n",
        "  for n in range(len(list)-1, 0, -1): #0 is not included, loop n-1 times\n",
        "    for j in range(n):                #loop n times\n",
        "      #print (\"compare:\", list[j], list[j+1]) \n",
        "      if (list[j]>list[j+1]):\n",
        "        list[j], list[j+1]=list[j+1], list[j]\n",
        "\n",
        "alist = [2,3,1,0,5,-1]\n",
        "bubble_sort(alist)\n",
        "print (alist)\n",
        "\n",
        "# time: O(n^2)\n",
        "# space: O(1)"
      ],
      "execution_count": 0,
      "outputs": [
        {
          "output_type": "stream",
          "text": [
            "compare: 2 3\n",
            "compare: 3 1\n",
            "compare: 3 0\n",
            "compare: 3 5\n",
            "compare: 5 -1\n",
            "compare: 2 1\n",
            "compare: 2 0\n",
            "compare: 2 3\n",
            "compare: 3 -1\n",
            "compare: 1 0\n",
            "compare: 1 2\n",
            "compare: 2 -1\n",
            "compare: 0 1\n",
            "compare: 1 -1\n",
            "compare: 0 -1\n",
            "[-1, 0, 1, 2, 3, 5]\n"
          ],
          "name": "stdout"
        }
      ]
    },
    {
      "cell_type": "code",
      "metadata": {
        "id": "ZjoIkqVFfi0o",
        "colab_type": "code",
        "outputId": "029cc5a5-f974-4336-e1fa-e7f4a5124c3d",
        "colab": {
          "base_uri": "https://localhost:8080/",
          "height": 399
        }
      },
      "source": [
        "#M2\n",
        "def bubble_sort2(list):\n",
        "  for n in range(len(list)):    #0,1,2,3...\n",
        "    for j in range(len(list)-n-1): #[0,6), [0,5),...\n",
        "      #print (\"compare:\", list[j], list[j+1]) \n",
        "      if (list[j]>list[j+1]):\n",
        "        list[j], list[j+1]=list[j+1], list[j]\n",
        "\n",
        "alist = [2,3,1,0,5,-1,-2]\n",
        "bubble_sort2(alist)\n",
        "print (alist)"
      ],
      "execution_count": 0,
      "outputs": [
        {
          "output_type": "stream",
          "text": [
            "compare: 2 3\n",
            "compare: 3 1\n",
            "compare: 3 0\n",
            "compare: 3 5\n",
            "compare: 5 -1\n",
            "compare: 5 -2\n",
            "compare: 2 1\n",
            "compare: 2 0\n",
            "compare: 2 3\n",
            "compare: 3 -1\n",
            "compare: 3 -2\n",
            "compare: 1 0\n",
            "compare: 1 2\n",
            "compare: 2 -1\n",
            "compare: 2 -2\n",
            "compare: 0 1\n",
            "compare: 1 -1\n",
            "compare: 1 -2\n",
            "compare: 0 -1\n",
            "compare: 0 -2\n",
            "compare: -1 -2\n",
            "[-2, -1, 0, 1, 2, 3, 5]\n"
          ],
          "name": "stdout"
        }
      ]
    },
    {
      "cell_type": "markdown",
      "metadata": {
        "id": "TxqVb_0rfluO",
        "colab_type": "text"
      },
      "source": [
        "###Selection Sort\n",
        "\n",
        "How it works\n",
        "* Find the max number, swap the max with the last\n",
        "* Sublist of items sorted + sublist of unsorted \n",
        "* Find the smallest/largest in the unsorted list\n",
        "\n",
        "General\n",
        "* Inefficient on large lists, worse than insertion sort\n",
        "* SImplicity; good when auxiliary memory is limited\n",
        "* Time: O(n^2) = (n-1)+(n-2)+....+ 1\n",
        "* Space: O(1)"
      ]
    },
    {
      "cell_type": "code",
      "metadata": {
        "id": "qWCBPWvpton1",
        "colab_type": "code",
        "outputId": "2ef620f2-9cfc-42e1-a14d-7f55910f8395",
        "colab": {
          "base_uri": "https://localhost:8080/",
          "height": 126
        }
      },
      "source": [
        "#M1 Find max\n",
        "def selection_sort(alist):\n",
        "  for i in range(len(alist)-1, 0, -1):  #loop n-1 times: 5,4,3,2,1 \n",
        "    max_index = 0\n",
        "    for j in range(i+1):                #loop: n, n-1, n-2 ...\n",
        "      if (alist[j] > alist[max_index]):\n",
        "        max_index = j\n",
        "    alist[i], alist[max_index] = alist[max_index], alist[i]   #swap\n",
        "    print(\"swap: \", alist[i], alist[max_index], \"->\", alist)\n",
        "\n",
        "alist = [2,3,1,0,5,4]\n",
        "selection_sort(alist)\n",
        "print (alist)"
      ],
      "execution_count": 0,
      "outputs": [
        {
          "output_type": "stream",
          "text": [
            "swap:  5 4 -> [2, 3, 1, 0, 4, 5]\n",
            "swap:  4 4 -> [2, 3, 1, 0, 4, 5]\n",
            "swap:  3 0 -> [2, 0, 1, 3, 4, 5]\n",
            "swap:  2 1 -> [1, 0, 2, 3, 4, 5]\n",
            "swap:  1 0 -> [0, 1, 2, 3, 4, 5]\n",
            "[0, 1, 2, 3, 4, 5]\n"
          ],
          "name": "stdout"
        }
      ]
    },
    {
      "cell_type": "code",
      "metadata": {
        "id": "gWXfyjHAgAiR",
        "colab_type": "code",
        "outputId": "9731113c-264b-4476-9f49-ea7bed6b3098",
        "colab": {
          "base_uri": "https://localhost:8080/",
          "height": 126
        }
      },
      "source": [
        "#M2 Find min \n",
        "def selection_sort(alist):\n",
        "  for i in range(len(alist)-1):         #loop n-1 times: 0, 1, ..., n-1\n",
        "    min_index = i   \n",
        "    for j in range(i+1, len(alist)):    #loop: n-1, n-2, n-3.. 1 times\n",
        "      if (alist[j]) < alist[min_index]:\n",
        "        min_index = j\n",
        "    alist[i], alist[min_index] = alist[min_index], alist[i]\n",
        "    print(\"swap: \", alist[i], alist[min_index], \"->\", alist)\n",
        "\n",
        "alist = [2,3,1,0,5,-1]\n",
        "selection_sort(alist)\n",
        "print (alist)"
      ],
      "execution_count": 0,
      "outputs": [
        {
          "output_type": "stream",
          "text": [
            "swap:  -1 2 -> [-1, 3, 1, 0, 5, 2]\n",
            "swap:  0 3 -> [-1, 0, 1, 3, 5, 2]\n",
            "swap:  1 1 -> [-1, 0, 1, 3, 5, 2]\n",
            "swap:  2 3 -> [-1, 0, 1, 2, 5, 3]\n",
            "swap:  3 5 -> [-1, 0, 1, 2, 3, 5]\n",
            "[-1, 0, 1, 2, 3, 5]\n"
          ],
          "name": "stdout"
        }
      ]
    },
    {
      "cell_type": "markdown",
      "metadata": {
        "id": "UK5l8xPHgH21",
        "colab_type": "text"
      },
      "source": [
        "###Insertion Sort\n",
        "\n",
        "How it works\n",
        "* Each time insert a number and puts it in a correct position.\n",
        "* Use inverse bubble sort to find the correct position to insert\n",
        "\n",
        "General\n",
        "* Time: O(n^2)\n",
        "* Space: O(n)  because created a new array with length n\n",
        "\n",
        "Improvements\n",
        "* Option 1: use new_arr and while greater, loop\n",
        "* Option 2: use binary search to find the insertion location\n",
        "* Optimal: In-place insertion using three indexes\n",
        " * Time: O(n^2)\n",
        " * Space: O(1)\n"
      ]
    },
    {
      "cell_type": "code",
      "metadata": {
        "id": "TDfIwnDzgKvh",
        "colab_type": "code",
        "outputId": "a9003ae3-4104-4a17-f13d-e6dc9bcbf4ef",
        "colab": {
          "base_uri": "https://localhost:8080/",
          "height": 126
        }
      },
      "source": [
        "#M1 Not in place. Use bubble sort for each insertion\n",
        "def insert_num(array,num):\n",
        "  idx = len(array) - 1\n",
        "  array.append(num)  #insert at the end\n",
        "  while idx >= 0:    #bubble sort (1 iteration)\n",
        "    if (array[idx] > array[idx+1]):\n",
        "      array[idx+1], array[idx] = array[idx], array[idx+1]\n",
        "    idx -= 1\n",
        "\n",
        "def insertion_sort(array):\n",
        "  if not array:\n",
        "    return None\n",
        "  new_arr = [] \n",
        "  for i in range(len(array)):\n",
        "    insert_num(new_arr, array[i])\n",
        "    print(\"insert\", array[i], \"->\", new_arr)\n",
        "  return new_arr\n",
        "\n",
        "alist = [1,5,6,3,2]\n",
        "new_arr = insertion_sort(alist)\n",
        "print (new_arr)"
      ],
      "execution_count": 0,
      "outputs": [
        {
          "output_type": "stream",
          "text": [
            "insert 1 -> [1]\n",
            "insert 5 -> [1, 5]\n",
            "insert 6 -> [1, 5, 6]\n",
            "insert 3 -> [1, 3, 5, 6]\n",
            "insert 2 -> [1, 2, 3, 5, 6]\n",
            "[1, 2, 3, 5, 6]\n"
          ],
          "name": "stdout"
        }
      ]
    },
    {
      "cell_type": "code",
      "metadata": {
        "id": "G-EK1Ca1PH83",
        "colab_type": "code",
        "outputId": "b2146750-0a3d-4853-910f-0906767f8828",
        "colab": {
          "base_uri": "https://localhost:8080/",
          "height": 126
        }
      },
      "source": [
        "#Binary search to find the closest number smaller than n\n",
        "def binary_search(array, n):\n",
        "  if len(array) == 0 or array == None:\n",
        "    return 0\n",
        "  left = 0\n",
        "  right = len(array) - 1\n",
        "  while left < right - 1:\n",
        "    mid = (left+right) // 2\n",
        "    if array[mid] >= n:\n",
        "      right = mid - 1\n",
        "    else:\n",
        "      left = mid\n",
        "  return right #returns the position smaller than the number's value\n",
        "\n",
        "def insert_num(array, n):\n",
        "  idx = binary_search(array, n) + 1\n",
        "  array.insert(idx, n)\n",
        "\n",
        "def insertion_sort(array):\n",
        "  new_arr = [] \n",
        "  for i in range(len(array)):\n",
        "    insert_num(new_arr, array[i])\n",
        "    print(\"insert\", array[i], \"->\", new_arr)\n",
        "  return new_arr\n",
        "\n",
        "alist = [1,5,6,3,2]\n",
        "new_arr = insertion_sort(alist)\n",
        "print (new_arr)"
      ],
      "execution_count": 0,
      "outputs": [
        {
          "output_type": "stream",
          "text": [
            "insert 1 -> [1]\n",
            "insert 5 -> [1, 5]\n",
            "insert 6 -> [1, 5, 6]\n",
            "insert 3 -> [1, 3, 5, 6]\n",
            "insert 2 -> [1, 2, 3, 5, 6]\n",
            "[1, 2, 3, 5, 6]\n"
          ],
          "name": "stdout"
        }
      ]
    },
    {
      "cell_type": "code",
      "metadata": {
        "id": "nBW5cLE6gVMH",
        "colab_type": "code",
        "outputId": "bbf3567d-e5ea-4d01-b5ff-fb185a2bea94",
        "colab": {
          "base_uri": "https://localhost:8080/",
          "height": 53
        }
      },
      "source": [
        "#M2 In-place\n",
        "'''\n",
        "[1,5,6,3]  --> [1,5,6,6] --> [1,5,5,6] --> [1,3,5,6]\n",
        "       I              i             i \n",
        "       k            k           k\n",
        "     cur = 3      cur = 3     cur = 3\n",
        "loop using i; \n",
        "cur holds value at i; \n",
        "k starts as index at i, moves backwards and changes value at k until no smaller found\n",
        "'''\n",
        "def insertion_sort(alist):\n",
        "  for i in range(1, len(alist)):  #loop: [1, n-1]\n",
        "    cur = alist[i]  \n",
        "    k = i\n",
        "    while k > 0 and cur < alist[k-1]: \n",
        "      alist[k] = alist[k-1]\n",
        "      k -= 1 \n",
        "    alist[k] = cur \n",
        "    \n",
        "alist = [1,5,6,3,2]\n",
        "new_arr = insertion_sort(alist)\n",
        "print (alist)\n",
        "print (new_arr)"
      ],
      "execution_count": 0,
      "outputs": [
        {
          "output_type": "stream",
          "text": [
            "[1, 2, 3, 5, 6]\n",
            "None\n"
          ],
          "name": "stdout"
        }
      ]
    },
    {
      "cell_type": "markdown",
      "metadata": {
        "id": "X74cdUkUltbD",
        "colab_type": "text"
      },
      "source": [
        "###Merge Sort\n",
        "\n",
        "How it works:\n",
        "* A recursive algorithm that continually splits a list in half\n",
        " * If the list is empty of has one item, it is sorted by definition (the base case).\n",
        " * If the list has more than one item, we split the list and recursively invoke a merge sort on both halves.\n",
        "* Once the two halves are sorted, merge is performed. Combines two smaller sorted lists and combine them into a single, sorted, new list\n",
        "\n",
        "General\n",
        "* Time: O(n logn) = O(n) per layer * logn layers\n",
        "* Space: O(n)\n",
        " * Top layer, right, left occupies O(n) in the worst case\n",
        "  * array[:middle], array[middle:] worst case oses O(n) -> may use index range to improve to O(1)\n",
        "  * Recursion uses n/2 + n/3 + n/8 + ... 1 = O(n)\n",
        "  "
      ]
    },
    {
      "cell_type": "code",
      "metadata": {
        "id": "heq2OqaJlu4t",
        "colab_type": "code",
        "outputId": "16bd276d-afab-4e42-f5fd-67fa4ae58476",
        "colab": {
          "base_uri": "https://localhost:8080/",
          "height": 34
        }
      },
      "source": [
        "# Divide unsorted list into left + right\n",
        "def divide(unsortedList):\n",
        "  if(len(unsortedList) <= 1): #if only one or None element\n",
        "    return unsortedList\n",
        "  mid = int(len(unsortedList) / 2)\n",
        "  lefthalf = unsortedList[:mid]\n",
        "  righthalf = unsortedList[mid:]\n",
        "  return (lefthalf, righthalf)\n",
        "\n",
        "# Merge two sorted arrays using left index point + right index pointer\n",
        "# time: O(2n) = O(n)\n",
        "# space: O(n+n) = O(n)\n",
        "def merge(list1, list2):\n",
        "  i = 0\n",
        "  j = 0\n",
        "  new_list = []\n",
        "  while (i < len(list1) and j < len(list2)):\n",
        "    if (list1[i] < list2[j]):\n",
        "      new_list.append(list1[i])\n",
        "      i = i + 1\n",
        "    else:\n",
        "      new_list.append(list2[j])\n",
        "      j = j + 1\n",
        "  while(i < len(list1)):\n",
        "    new_list.append(list1[i])\n",
        "    i = i + 1\n",
        "  while(j < len(list2)):\n",
        "    new_list.append(list2[j])\n",
        "    j = j + 1\n",
        "  return (new_list)\n",
        "\n",
        "# MergeSort \n",
        "def mergeSort(alist):\n",
        "  if(len(alist) <= 1):\n",
        "    return alist\n",
        "  lefthalf, righthalf = divide(alist)\n",
        "  lefthalf = mergeSort(lefthalf)\n",
        "  righthalf = mergeSort(righthalf)\n",
        "  return(merge(lefthalf, righthalf))\n",
        "\n",
        "# time: O(nlogn) = logn layers * n per layer\n",
        "# space: O(n) = O(logn) + O(n)\n",
        "\n",
        "print (mergeSort([7,3,8,4,5,6,2]))"
      ],
      "execution_count": 0,
      "outputs": [
        {
          "output_type": "stream",
          "text": [
            "[2, 3, 4, 5, 6, 7, 8]\n"
          ],
          "name": "stdout"
        }
      ]
    },
    {
      "cell_type": "code",
      "metadata": {
        "id": "SWVaSFMdl4sP",
        "colab_type": "code",
        "outputId": "70941967-c4c5-44a6-dc79-93b8688ddc21",
        "colab": {
          "base_uri": "https://localhost:8080/",
          "height": 35
        }
      },
      "source": [
        "### Simpler version without divide\n",
        "def merge(array1, array2):\n",
        "  i = j = 0\n",
        "  results = []\n",
        "  while i < len(array1) and j < len(array2):\n",
        "    if array1[i] < array2[j]:\n",
        "      results.append(array1[i])\n",
        "      i += 1\n",
        "    else:\n",
        "      results.append(array2[j])\n",
        "      j += 1\n",
        "  while i < len(array1):\n",
        "    results.append(array1[i])\n",
        "    i += 1\n",
        "  while j < len(array2):\n",
        "    results.append(array2[j])\n",
        "    j += 1\n",
        "  return results\n",
        "\n",
        "def merge_sort(array):\n",
        "  if len(array) <= 1 or array == None:\n",
        "    return array\n",
        "  middle = int(len(array) / 2)\n",
        "  left = merge_sort(array[:middle])\n",
        "  right = merge_sort(array[middle:])\n",
        "  return merge(left, right)\n",
        "\n",
        "print (merge_sort([7,3,8,4,5,6,2]))"
      ],
      "execution_count": 0,
      "outputs": [
        {
          "output_type": "stream",
          "text": [
            "[2, 3, 4, 5, 6, 7, 8]\n"
          ],
          "name": "stdout"
        }
      ]
    },
    {
      "cell_type": "code",
      "metadata": {
        "id": "tzsuGDEMdny1",
        "colab_type": "code",
        "colab": {}
      },
      "source": [
        "# Laioffer solution\n",
        "class Solution(object):\n",
        "  def mergeSort(self, head):\n",
        "    if not head or not head.next:\n",
        "      return head\n",
        "    one, two = self.splitInHalf(head)\n",
        "    one = self.mergeSort(one)\n",
        "    two = self.mergeSort(two)\n",
        "    return self.merge(one, two)\n",
        "\n",
        "  def splitInHalf(self, head):\n",
        "    slow, fast = head, head.next\n",
        "    while fast and fast.next:\n",
        "      slow = slow.next\n",
        "      fast = fast.next.next\n",
        "    next = slow.next\n",
        "    slow.next = None\n",
        "    return head, next\n",
        "\n",
        "  def merge(self, one, two):\n",
        "    prev = ListNode(None)\n",
        "    curr = prev\n",
        "    while one and two:\n",
        "      if one.val < two.val:\n",
        "        curr.next = one\n",
        "        one = one.next\n",
        "      else:\n",
        "        curr.next = two\n",
        "        two = two.next\n",
        "      curr = curr.next\n",
        "    if one:\n",
        "      curr.next = one\n",
        "    else:\n",
        "      curr.next = two\n",
        "    return prev.next\n",
        "\n",
        "# time: O(nlogn)\n",
        "# space: O(logn)"
      ],
      "execution_count": 0,
      "outputs": []
    },
    {
      "cell_type": "markdown",
      "metadata": {
        "id": "x8MKQlsFmBlI",
        "colab_type": "text"
      },
      "source": [
        "###Quick Sort\n",
        "\n",
        "General\n",
        "* First randomly select a pivot value\n",
        "* Use one pointer, called store_index. This is a dynamic pointer of how many processed values are smaller than the pivot. So, everything on the left of store_index is smaller than the pivor, everything on the right is bigger. Finally, swap pivot with store_index\n",
        "* After each iteration, at least one number (pivot) is in correct order\n",
        "* Partition: Put items smaller than the pivot on the left, greater on the right\n",
        "\n",
        " * (..., store_index): < pivot\n",
        " *[store_index, i): >= pivot\n",
        " * [i,...end): unknown]\n",
        " \n",
        "\n",
        "General\n",
        "* Time: O(nlogn) = logn layers * n per layer\n",
        " * Worst case: one partition each layer --> O(n^2)\n",
        "* Space: O(logn)\n",
        "\n"
      ]
    },
    {
      "cell_type": "code",
      "metadata": {
        "id": "JZKcAxi1mDGI",
        "colab_type": "code",
        "outputId": "bf1aae04-28e7-4ee7-93a4-513832c48d6f",
        "colab": {
          "base_uri": "https://localhost:8080/",
          "height": 139
        }
      },
      "source": [
        "from random import randrange\n",
        "\n",
        "def partition(lst, start, end, pivot_index):\n",
        "  lst[pivot_index], lst[end] = lst[pivot_index], lst[end]\n",
        "  store_index = start # store index is a counter for how many are smaller than pivot\n",
        "  pivot = lst[end]    # pivot is moved to the end\n",
        "  for i in range(start, end):\n",
        "    if lst[i] < pivot:\n",
        "      lst[i], lst[store_index] = lst[store_index], lst[i]\n",
        "      print(\"swap:\", lst[i], lst[store_index], lst[pivot_index])\n",
        "      store_index += 1\n",
        "  lst[store_index], lst[end] = lst[end], lst[store_index]\n",
        "  print(\"sorted:\", lst)\n",
        "  return store_index\n",
        "# time: O(n)\n",
        "# space: O(1)\n",
        "\n",
        "def quick_sort(lst, start, end):\n",
        "  if start >= end:\n",
        "    return\n",
        "  pivot_index = randrange(start, end + 1)\n",
        "  new_pivot_index = partition(lst, start, end, pivot_index)\n",
        "  quick_sort(lst, start, new_pivot_index - 1)\n",
        "  quick_sort(lst, new_pivot_index + 1, end)\n",
        "# time: O(nlogn) // worst case O(n^2)\n",
        "# space: O(logn)\n",
        "\n",
        "alist = [28, 1, -1, 5, 3, -3, -2]\n",
        "quick_sort(alist, 0, len(alist)-1)\n",
        "print(alist)"
      ],
      "execution_count": 0,
      "outputs": [
        {
          "output_type": "stream",
          "text": [
            "swap: 28 -3 -2\n",
            "sorted: [-3, -2, -1, 5, 3, 28, 1]\n",
            "swap: -1 -1 5\n",
            "sorted: [-3, -2, -1, 1, 3, 28, 5]\n",
            "swap: 3 3 3\n",
            "sorted: [-3, -2, -1, 1, 3, 5, 28]\n",
            "[-3, -2, -1, 1, 3, 5, 28]\n"
          ],
          "name": "stdout"
        }
      ]
    },
    {
      "cell_type": "markdown",
      "metadata": {
        "id": "ugSQXj6eLus0",
        "colab_type": "text"
      },
      "source": [
        "###Rainbow Sort\n",
        "\n",
        "How it works\n",
        "* Use n pointers for n features/colors\n",
        "* Iterative to count how many of each color -> O(n)\n",
        "* Recreate the list directly using the counts (in-place) -> O(1) \n",
        "\n",
        "General\n",
        "* Applicable for defined datasets (known length)\n",
        "* Datasets can only have a finite number of values"
      ]
    },
    {
      "cell_type": "code",
      "metadata": {
        "id": "jybpO8xsLt6U",
        "colab_type": "code",
        "colab": {}
      },
      "source": [
        "def RainbowSort(array):\n",
        "  if not array:\n",
        "    return None\n",
        "  left = 0\n",
        "  right = len(array) - 1\n",
        "  index = 0\n",
        "  while index <= right:\n",
        "    if array[index] == -1:\n",
        "      array[index], array[left] = array[left], array[index]\n",
        "      left += 1\n",
        "      index += 1\n",
        "    elif array[index] == 1:\n",
        "      array[index], array[right] = array[right], array[index]\n",
        "      right -= 1\n",
        "    else:\n",
        "      index += 1\n",
        "  return array\n",
        "\n",
        "#time: O(n)\n",
        "#space: O(1)"
      ],
      "execution_count": 0,
      "outputs": []
    },
    {
      "cell_type": "markdown",
      "metadata": {
        "id": "3gcaCGZxgzEq",
        "colab_type": "text"
      },
      "source": [
        "##4.3. Recursion\n"
      ]
    },
    {
      "cell_type": "markdown",
      "metadata": {
        "id": "uF_e_Zy78dfm",
        "colab_type": "text"
      },
      "source": [
        "what\n",
        "* 表面上：function calls itself\n",
        "* 实质上：boil down a big problem to smaller ones\n",
        "\n",
        "implementation\n",
        "* base case: the smallest problem to solve\n",
        "* recursive rule: how to make the problem smaller\n"
      ]
    },
    {
      "cell_type": "code",
      "metadata": {
        "id": "KiZykJST8wVb",
        "colab_type": "code",
        "colab": {}
      },
      "source": [
        "#了解recursion层数限制\n",
        "import sys\n",
        "sys.setrecursionlimit(10000)"
      ],
      "execution_count": 0,
      "outputs": []
    },
    {
      "cell_type": "code",
      "metadata": {
        "id": "6MZZ4ezZg2bS",
        "colab_type": "code",
        "colab": {}
      },
      "source": [
        "#Q1 Fibonacci number\n",
        "\n",
        "#M1 loop\n",
        "def fib_array(n): \n",
        "  array = [0,1]\n",
        "  for i in range(2, n+1):\n",
        "    array.append(array[i-1]+array[i-2])\n",
        "  return array[n]\n",
        "#space: O(n)  needs to keep an array\n",
        "#time: O(n)\n",
        "\n",
        "#M2 Fibonacci\n",
        "def fib(n):\n",
        "  if n <= 1:\n",
        "    return n \n",
        "  num_a = 0\n",
        "  num_b = 1\n",
        "  for i in range(n-1):\n",
        "    temp = num_b\n",
        "    num_b += num_a\n",
        "    num_a = temp\n",
        "  return num_b\n",
        "#space: O(1)  only keeps previous two numbers\n",
        "#time: O(n)\n",
        "\n",
        "#M3 Recursion\n",
        "def fib(n):\n",
        "  if n <= 1:               #base case\n",
        "    return n\n",
        "  return fib(n-1)+fib(n-2) #recursive rule"
      ],
      "execution_count": 0,
      "outputs": []
    },
    {
      "cell_type": "code",
      "metadata": {
        "id": "OtPicuONjAkr",
        "colab_type": "code",
        "outputId": "e0a8f865-4159-4135-c23b-0bebf3d3032b",
        "colab": {
          "base_uri": "https://localhost:8080/",
          "height": 34
        }
      },
      "source": [
        "# Q2 Sum from 1 to n\n",
        "\n",
        "#M1 Loop\n",
        "def getSum(n):\n",
        "  acc = 0\n",
        "  for num in range(1, n+1):\n",
        "    acc += num\n",
        "  return acc\n",
        "#time: O(n)\n",
        "#space: O(1)\n",
        "\n",
        "#M2 Recursion\n",
        "def getSum(n):\n",
        "  if n == 0:      #termination point\n",
        "    return 0\n",
        "  return n + getSum(n-1)\n",
        "#time: O(n)\n",
        "#space: O(n)\n",
        "\n",
        "print(getSum(2))"
      ],
      "execution_count": 0,
      "outputs": [
        {
          "output_type": "stream",
          "text": [
            "3\n"
          ],
          "name": "stdout"
        }
      ]
    },
    {
      "cell_type": "code",
      "metadata": {
        "id": "uHXhOqBpY6RA",
        "colab_type": "code",
        "outputId": "291beee6-7bd8-44d3-b210-cb29398b50fe",
        "colab": {
          "base_uri": "https://localhost:8080/",
          "height": 34
        }
      },
      "source": [
        "# Q3 Sum even numbers from 1 to n\n",
        "def sumEven(n):\n",
        "  if n == 0:\n",
        "    return 0\n",
        "  if n % 2 == 1:\n",
        "    n -= 1\n",
        "  return n + sumEven(n-2)\n",
        "\n",
        "print(sumEven(5))"
      ],
      "execution_count": 0,
      "outputs": [
        {
          "output_type": "stream",
          "text": [
            "6\n"
          ],
          "name": "stdout"
        }
      ]
    },
    {
      "cell_type": "code",
      "metadata": {
        "id": "Q8m63vgkjD01",
        "colab_type": "code",
        "colab": {}
      },
      "source": [
        "# Q4 Print a linked list\n",
        "def printList(head):\n",
        "  if not head:\n",
        "    return\n",
        "  print(head.value)\n",
        "  printList(head.next)\n",
        "\n",
        "# Q5 Reverse a singly linked list\n",
        "def Reverse(head):\n",
        "  if head is None or head.next is None: #When Linkedlist <= 1 node\n",
        "    return head\n",
        "  #problem of the previous step\n",
        "  node = Reverse(head.next)  #this node is the original tail and the new head\n",
        "  # Add original head as the new tail\n",
        "  # M1 Since node is the head of the reversed list, \n",
        "  #    traverse from it and find the tail and add our original head to it\n",
        "  #tail = node\n",
        "  #while tail.next is not None:\n",
        "  #  tail = tail.next\n",
        "  #tail.next = head\n",
        "  #head.next = None\n",
        "  # M2 Directly reverse \n",
        "  head.next.next = head      \n",
        "  head.next = None\n",
        "  return node\n",
        "\n",
        "def Reverse(head):\n",
        "  if head is None or head.next is None: \n",
        "    return head\n",
        "  node = Reverse(head.next)  \n",
        "  head.next.next = head      \n",
        "  head.next = None\n",
        "  return node\n",
        "\n",
        "# Q6 Merge two singly linked lists\n",
        "#Define merge(head1, head2) is a function that will merge these two singly lnked lists and return the head of the new list\n",
        "def merge(head1, head2):\n",
        "  if not head1:\n",
        "    return head2\n",
        "  if not head2:\n",
        "    return head1\n",
        "  if head1.value < head2.value:\n",
        "    head1.next = merge(head1.next, head2)\n",
        "    return head1\n",
        "  else:\n",
        "    head2.next = merge(head1, head2.next)\n",
        "    return head2\n"
      ],
      "execution_count": 0,
      "outputs": []
    },
    {
      "cell_type": "markdown",
      "metadata": {
        "id": "tp4DFFOMUNaw",
        "colab_type": "text"
      },
      "source": [
        "\n",
        "###Divide and Conquer\n",
        "\n",
        "1. Divide the problem into a number of subproblems that are smaller instances of the same problem\n",
        "2. Conquer the subproblems by solving them recursively. If they are small enough, solve the subproblems as base cases\n",
        "3. Combine the solutions to the subproblems into the solution for the original problem"
      ]
    },
    {
      "cell_type": "markdown",
      "metadata": {
        "id": "FaLcndR-YH8u",
        "colab_type": "text"
      },
      "source": [
        "**Bottom Up**\n",
        "\n",
        "Way of thinking\n",
        "1. What do you expect form your left child/right child?\n",
        "2. What do you want to do in the current layer?\n",
        "3. What do you want to return to your parent?"
      ]
    },
    {
      "cell_type": "markdown",
      "metadata": {
        "id": "KJGnAfnf8CK2",
        "colab_type": "text"
      },
      "source": [
        "**Top Down**\n",
        "\n",
        "* Use variables to pass information; Use a global variable to record final result\n",
        "* Usually no return value\n",
        "* Logic more straight-forward, but code not as short as bottom-up\n",
        "* 大部分需要输出完整path的题，top down 更实用\n",
        "* 如果依赖subtree的结果，bottom up"
      ]
    },
    {
      "cell_type": "code",
      "metadata": {
        "id": "QfgWb1qS8PCx",
        "colab_type": "code",
        "colab": {}
      },
      "source": [
        "#Q1 Get height of a binary tree\n",
        "class Solution(object):\n",
        "  def findHeight(self, root):\n",
        "    if root is None:\n",
        "      return 0\n",
        "    self.result = 0\n",
        "    self.helper(root, 0) #Can also use 1\n",
        "    return self.result\n",
        "  \n",
        "  def helper(self, root, depth):\n",
        "    if root is None:\n",
        "      self.result = max(self.result, depth)\n",
        "      return\n",
        "    self.helper(root.left, depth + 1)\n",
        "    self.helper(root.right, depth + 1)\n",
        "    return\n",
        "#time: O(n)\n",
        "#space: worst O(n), avg O(logn)"
      ],
      "execution_count": 0,
      "outputs": []
    },
    {
      "cell_type": "code",
      "metadata": {
        "id": "9figp-u599Bj",
        "colab_type": "code",
        "colab": {}
      },
      "source": [
        "#Q2 Get min depth\n",
        "class Solution(object):\n",
        "  def minDepth(self, root):\n",
        "    if root is None:\n",
        "      return 0\n",
        "    self.ret = float('inf')\n",
        "    self.helper(root, 0)\n",
        "    return self.ret\n",
        "  \n",
        "  def helper(self, root, depth):\n",
        "    if root is None:\n",
        "      return\n",
        "    if root.left is None and root.right is None:\n",
        "      self.ret = min(self.ret, depth + 1)\n",
        "      return\n",
        "    self.helper(root.left, depth + 1)\n",
        "    self.helper(root.right, depth + 1)\n",
        "    return\n",
        "#time: O(n)\n",
        "#space: O(logn)\n",
        "  \n",
        "  "
      ],
      "execution_count": 0,
      "outputs": []
    },
    {
      "cell_type": "code",
      "metadata": {
        "id": "uH5f8-clAyBv",
        "colab_type": "code",
        "colab": {}
      },
      "source": [
        "#Q3 Invert Binary tree (left with right)\n",
        "\n",
        "#Bottom Up\n",
        "class Solution:\n",
        "  def invertTree(self, root):\n",
        "    if root is None:\n",
        "      return None\n",
        "    right = self.invertTree(root.right)\n",
        "    left = self.invertTree(root.left)\n",
        "    root.left, root.right = right, left\n",
        "    #or root.left = right\n",
        "    #or root.right = left\n",
        "    return root\n",
        "#post-order\n",
        "  \n",
        "#Top Down\n",
        "class Solution:\n",
        "  def invertTree(self, root):\n",
        "    if root is None:\n",
        "      return None\n",
        "    root.left, root.right = root.right, root.left\n",
        "    self.invertTree(root.left)\n",
        "    self.invertTree(root.right)\n",
        "    return root\n",
        "#pre-order\n",
        "\n",
        "class Solution:\n",
        "  def invertTree(self, root):\n",
        "    self.helper(root)\n",
        "    return root\n",
        "  \n",
        "  def helper(self, root):\n",
        "    if root is None:\n",
        "      return None\n",
        "    root.left, root.right = root.right, root.left\n",
        "    self.invertTree(root.left)\n",
        "    self.invertTree(root.right)\n",
        "    return root"
      ],
      "execution_count": 0,
      "outputs": []
    },
    {
      "cell_type": "code",
      "metadata": {
        "id": "9aWZID845Dc9",
        "colab_type": "code",
        "colab": {}
      },
      "source": [
        "def preorder_traversal(root):\n",
        "  output = []\n",
        "  if not root:\n",
        "    return output\n",
        "  stack = [(root, 1)]\n",
        "  while stack:\n",
        "    node, count = stack.pop()\n",
        "    if count == 1: #first visit\n",
        "      output.append(node.val)\n",
        "      stack.append((node, count + 1))\n",
        "      if node.left:\n",
        "        stack.append((node.left, 1))\n",
        "    if count == 2: #second visit\n",
        "      if node.right:\n",
        "        stack.append((node.right, 1))\n",
        "  return output\n",
        "\n",
        "#time: O(cn) = O(n)\n",
        "#space: O(h)\n",
        "#same performance as recursion\n",
        "\n",
        "def inorder_traversal(root):\n",
        "  output = []\n",
        "  if not root:\n",
        "    return output\n",
        "  stack = [(root, 1)]\n",
        "  while stack:\n",
        "    node, count = stack.pop()\n",
        "    if count == 2: #first visit\n",
        "      output.append(node.val)\n",
        "      stack.append((node, count + 1))\n",
        "      if node.left:\n",
        "        stack.append((node.left, 1))\n",
        "    if count == 1: #second visit\n",
        "      if node.right:\n",
        "        stack.append((node.right, 1))\n",
        "  return output\n",
        "      "
      ],
      "execution_count": 0,
      "outputs": []
    },
    {
      "cell_type": "markdown",
      "metadata": {
        "id": "Sux6NTIqVgcQ",
        "colab_type": "text"
      },
      "source": [
        "**Q1 Maximum Subarray**\n",
        "\n",
        "Given an integer array nums, find the contiguous subarray (containing at least one number) which has the largest sum and return its sum\n",
        "\n",
        "Input: [-2, 1, -3, 4, -1, 2, 1, -5, 4]\n",
        "\n",
        "Output: 6\n",
        "\n",
        "Input: [2, -1] \n",
        "\n",
        "Output: 2\n",
        "\n",
        "Input: [2, -1, 3]  4\n",
        "\n",
        "\n",
        "**Solution 1**: Divide into 2 parts: left, right, mid --> max(left_result, right_result, mid_result)\n",
        "\n",
        "[2,1,-4,-3] --> 3\n",
        "\n",
        "[2, 1] --> 3\n",
        "\n",
        "[-4, -3] --> -3\n",
        "\n",
        "[2, 1, -4] --> -1 中心开花 -- 从左往右，从右往左，分别算最大值\n",
        "\n",
        "**Solution 2***: supporting array M, len(M) == len(a)\n",
        "\n",
        "M[i] = the largest sum of a subarray that ends at a[i]\n",
        "\n",
        "M[0] = a[0]\n",
        "\n",
        "M[i] = if M[i-1] < 0 : a[i]  else: M[i-1] + a[i]\n",
        "\n",
        "Final_result = max(M[0], M[1], M[2], M[n-1])\n",
        "\n",
        "A:  -2  -3  4  -1  -2  1  5  -3\n",
        "\n",
        "M: -2  -3  4   3   1  2  7   4\n"
      ]
    },
    {
      "cell_type": "code",
      "metadata": {
        "id": "7rMDDmZSVfrQ",
        "colab_type": "code",
        "colab": {}
      },
      "source": [
        "#Q1 M1\n",
        "\n",
        "def maxSubarray(A, left, right):\n",
        "  if left == right:\n",
        "    return A[left]\n",
        "  center = (left + right)/2\n",
        "  maxLeftSum = maxSubarray(A, left, center)\n",
        "  maxRightSum = maxSubarray(A, center+1, right)\n",
        "  maxCenterSum = getMaxCenterSum(A, center, left, right)\n",
        "  maxSum = max(maxLeftSum, maxRightSum, maxCenterSum)\n",
        "  return maxSum\n",
        "\n",
        "def getMaxCenterSum(A, center, left, right):\n",
        "  maxLeftBorderSum = -float('inf')\n",
        "  leftBorderSum = 0\n",
        "  for i in range(center, left-1, -1):\n",
        "    leftBorderSum += A[i]\n",
        "    maxLeftBorderSum = max(leftBorderSum, maxLeftBorderSum)\n",
        "  rightBorderSum = 0\n",
        "  for i in range(center + 1, right+1):\n",
        "    rightBorderSum += A[i]\n",
        "    maxRightBordedSum = max(maxRightBorderSum, rightBorderSum)\n",
        "  return maxLeftBorderSum + maxRightBorderSum\n",
        "\n",
        "#time: O(nlogn) = n + (n/2+n/2) + (n/4+n/4+n/4+n/4)...\n",
        "    "
      ],
      "execution_count": 0,
      "outputs": []
    },
    {
      "cell_type": "code",
      "metadata": {
        "id": "FKZQ-9ukUGe1",
        "colab_type": "code",
        "colab": {}
      },
      "source": [
        "#Q1 M2 Improved\n",
        "\n",
        "'''\n",
        "#What if not using a supporting array and complete in one loop?\n",
        "\n",
        "initialize:\n",
        "global_max = 0\n",
        "max_ending_here = 0\n",
        "\n",
        "loop for each element of the array\n",
        "  if max_Ending_here < 0\n",
        "    max_ending_here = a[i]\n",
        "  else:\n",
        "    max_ending_here = max_ending_here + a[i]\n",
        "  global_max = max(global_max, max_ending_here)\n",
        "return global_max\n",
        "\n",
        "'''"
      ],
      "execution_count": 0,
      "outputs": []
    },
    {
      "cell_type": "markdown",
      "metadata": {
        "id": "5L-sk1C8XfII",
        "colab_type": "text"
      },
      "source": [
        "###Backtracking"
      ]
    },
    {
      "cell_type": "markdown",
      "metadata": {
        "id": "kWGod6D0T5g4",
        "colab_type": "text"
      },
      "source": [
        "**Q0 Motivating Example**\n",
        "\n",
        "We have 3 types of flour, 2 types of creams, and 6 types of fruits. How many cakes can we make? -> 36"
      ]
    },
    {
      "cell_type": "code",
      "metadata": {
        "id": "NH4OU4DwT_0y",
        "colab_type": "code",
        "colab": {}
      },
      "source": [
        "cakes = []\n",
        "for flour in [flour1, four2, four3]:\n",
        "  for creat in [cream1, cream2]:\n",
        "    for fruit in [fruit1, fruit2, fruit3, fruit4, fruit5, fruit6]:\n",
        "      cakes.append(make_Cake(flour, cream, fruit))"
      ],
      "execution_count": 0,
      "outputs": []
    },
    {
      "cell_type": "markdown",
      "metadata": {
        "id": "ueaBLBLCURwP",
        "colab_type": "text"
      },
      "source": [
        "Let's generalize this. What if not all the choices can be compatible? For instance, flour1 does not work well with cream2, flour3 does not work well with cream1, cream1 and flour3 does not work well."
      ]
    },
    {
      "cell_type": "code",
      "metadata": {
        "id": "_3uB1V9UUc5N",
        "colab_type": "code",
        "colab": {}
      },
      "source": [
        "# M1 \n",
        "cakes = []\n",
        "for flour in [flour1, four2, four3]:\n",
        "  for cream in [cream1, cream2]:\n",
        "    for fruit in [fruit1, fruit2, fruit3, fruit4, fruit5, fruit6]:\n",
        "      if is_compatible(flour, cream, fruit):\n",
        "        cakes.append(make_Cake(flour, cream, fruit))"
      ],
      "execution_count": 0,
      "outputs": []
    },
    {
      "cell_type": "code",
      "metadata": {
        "id": "qwAj2zwwUuPO",
        "colab_type": "code",
        "colab": {}
      },
      "source": [
        "# M2\n",
        "# this is better because reduces the number of loops\n",
        "for flour in [flour1, four2, four3]:\n",
        "  for cream in [cream1, cream2]:\n",
        "    if (flour, cream) in [(flour1, cream2), (flour3, cream1)]:\n",
        "      continue\n",
        "    for fruit in [fruit1, fruit2, fruit3, fruit4, fruit5, fruit6]:\n",
        "      if (cream, fruit) in [(cream1, fruit3), (cream2, fruit1), (Cream2, fruit6)]:\n",
        "        continue\n",
        "      cakes.append(make_Cake(flour, cream, fruit))"
      ],
      "execution_count": 0,
      "outputs": []
    },
    {
      "cell_type": "markdown",
      "metadata": {
        "id": "7BozJmhGVVps",
        "colab_type": "text"
      },
      "source": [
        "What if we don't know the types of flour, cream, and fruit ahead?\n",
        "* This is a multistage decision problem\n",
        "* hard to express in divide and conquer recursion manner\n",
        "* It involves building a set of candidates incrementally and abandons a candidate (\"backtracks\") as soon as it determines that the candidate cannot possibly be a valid solution\n",
        "* Tree structure of different partially built candidates set; each partial candidate set is a path from the root to a certain subtree's root --> similarly to preorder tree traversal\n",
        "\n"
      ]
    },
    {
      "cell_type": "markdown",
      "metadata": {
        "id": "fXAoyLLVL7-I",
        "colab_type": "text"
      },
      "source": [
        "Backtracking = to **systematically** and **exhaustively** generate all possible combinations of compatible choices for all stages of a multistage decision porblem.\n",
        "\n",
        "Strategy\n",
        "1. Multistage decision problem? yes\n",
        "2. What's the stage? How many stages?\n",
        "3. What are possible candidates for a certain stage? How do we make sure it is compatible with previous choices we make?\n",
        "\n",
        "Complexity -- Decision Tree Traversal\n",
        "* Estimate number of nodes: number of choices\n",
        "* Time = O(b*h)  = O(n^n)\n",
        "* Every node might have different braching factor b, we can assume the worst"
      ]
    },
    {
      "cell_type": "code",
      "metadata": {
        "id": "zsuNHmr-X-nz",
        "colab_type": "code",
        "colab": {}
      },
      "source": [
        "'''\n",
        "Visualize the decision process as a tree\n",
        "          cake\n",
        "        /  |  \\\n",
        "       f1  f2  f3\n",
        "     / \\ \n",
        "    c1 c2\n",
        "  /\n",
        "fr1 .. fr6\n",
        "\n",
        "We want to generate all possible combinations = tree traversal\n",
        "This can be seen as a recursion:\n",
        "  all possible combinations for n stages \n",
        "  = all possible combinations for n - 1 stages when the choice is C1\n",
        "  + all possible combinations for n - 1 stages when the choice is C2\n",
        "  + all possible combinations for n - 1 stages when the choice is C3\n",
        "'''"
      ],
      "execution_count": 0,
      "outputs": []
    },
    {
      "cell_type": "code",
      "metadata": {
        "id": "orCmdJpeL-Jz",
        "colab_type": "code",
        "colab": {}
      },
      "source": [
        "# answer = tuple that contains compatible decisions we previously made. \n",
        "#          The size of it should be == current_position\n",
        "# current_position = integer indicates the id of the current step. Starts at 0\n",
        "# N = integer indicates total number of steps to build our final answer\n",
        "# Possible_decisions = a map that associates the id of a step to a collection of possible decisions for that step\n",
        "  \n",
        "def backtracking(answer, current_position, N, possible_decisions):\n",
        "  if len(answer) == N: # we have successfully built one answer here\n",
        "    pass\n",
        "  else:\n",
        "    for decision in possible_decisions[current_position]]:\n",
        "      if is_compatible(answer, decision): # only proceed if compatible\n",
        "        answer.add(decision)\n",
        "        backtracking(answer, current_position+1, N, possible_decisions)\n",
        "        answer.remove(decision) "
      ],
      "execution_count": 0,
      "outputs": []
    },
    {
      "cell_type": "code",
      "metadata": {
        "id": "q_0MpzeZftlW",
        "colab_type": "code",
        "outputId": "4090a11a-8022-4983-f7c3-d9161d21d1f0",
        "colab": {
          "base_uri": "https://localhost:8080/",
          "height": 54
        }
      },
      "source": [
        "# Cake example transformed\n",
        "\n",
        "def bt(recipes, recipe, ingredients):\n",
        "  if len(recipe) == len(ingredients): # base case\n",
        "    recipes.append(recipe[:]) # make a copy for each full recipe\n",
        "    return\n",
        "  for ingredient in ingredients[len(recipe)]:\n",
        "    recipe.append(ingredient)\n",
        "    bt(recipes, recipe, ingredients)\n",
        "    recipe.pop()\n",
        "\n",
        "def gen_all_recipes(ingredients):\n",
        "  recipes, recipe = [], []\n",
        "  bt(recipes, recipe, ingredients)\n",
        "  return recipes\n",
        "                            \n",
        "ingredients = [\n",
        "               [\"four1\", \"flour2\", \"flour3\"],\n",
        "               [\"cream1\", \"cream2\"],\n",
        "               [\"fruit1\", \"fruit2\", \"fruit3\", \"fruit4\", \"fruit5\", \"fruit6\"]\n",
        "]\n",
        "\n",
        "print(gen_all_recipes(ingredients))"
      ],
      "execution_count": 0,
      "outputs": [
        {
          "output_type": "stream",
          "text": [
            "[['four1', 'cream1', 'fruit1'], ['four1', 'cream1', 'fruit2'], ['four1', 'cream1', 'fruit3'], ['four1', 'cream1', 'fruit4'], ['four1', 'cream1', 'fruit5'], ['four1', 'cream1', 'fruit6'], ['four1', 'cream2', 'fruit1'], ['four1', 'cream2', 'fruit2'], ['four1', 'cream2', 'fruit3'], ['four1', 'cream2', 'fruit4'], ['four1', 'cream2', 'fruit5'], ['four1', 'cream2', 'fruit6'], ['flour2', 'cream1', 'fruit1'], ['flour2', 'cream1', 'fruit2'], ['flour2', 'cream1', 'fruit3'], ['flour2', 'cream1', 'fruit4'], ['flour2', 'cream1', 'fruit5'], ['flour2', 'cream1', 'fruit6'], ['flour2', 'cream2', 'fruit1'], ['flour2', 'cream2', 'fruit2'], ['flour2', 'cream2', 'fruit3'], ['flour2', 'cream2', 'fruit4'], ['flour2', 'cream2', 'fruit5'], ['flour2', 'cream2', 'fruit6'], ['flour3', 'cream1', 'fruit1'], ['flour3', 'cream1', 'fruit2'], ['flour3', 'cream1', 'fruit3'], ['flour3', 'cream1', 'fruit4'], ['flour3', 'cream1', 'fruit5'], ['flour3', 'cream1', 'fruit6'], ['flour3', 'cream2', 'fruit1'], ['flour3', 'cream2', 'fruit2'], ['flour3', 'cream2', 'fruit3'], ['flour3', 'cream2', 'fruit4'], ['flour3', 'cream2', 'fruit5'], ['flour3', 'cream2', 'fruit6']]\n"
          ],
          "name": "stdout"
        }
      ]
    },
    {
      "cell_type": "markdown",
      "metadata": {
        "id": "bi2IVGZKw1GG",
        "colab_type": "text"
      },
      "source": [
        "**Q1 Generate all permutations**\n",
        "\n",
        "Given a collection of distinct integers, return all possible permutations.\n",
        "\n",
        "\n",
        "\n",
        "```\n",
        "Example:\n",
        "input: [1,2,3]\n",
        "output: [[1,2,3], [1,3,2], [2,1,3], [3,1,2], [3,2,1]]\n",
        "\n",
        "Solving:\n",
        "stage1: pick one from [1,2,3], e.g. 1\n",
        "stage2: pick one from [2,3]\n",
        "```\n",
        "\n",
        "\n",
        "\n",
        "\n"
      ]
    },
    {
      "cell_type": "code",
      "metadata": {
        "id": "25U_Y1y_TL-j",
        "colab_type": "code",
        "outputId": "d291710c-b4f5-4572-a2c1-1bf3fcf854b7",
        "colab": {
          "base_uri": "https://localhost:8080/",
          "height": 35
        }
      },
      "source": [
        "# M1\n",
        "def bt(perms, perm, nums):\n",
        "  if len(perm) == len(nums): \n",
        "    perms.append(perm[:])    # making a copy of perm, object reference\n",
        "    return\n",
        "  for i in nums:\n",
        "    if i not in perm: # compatibility test\n",
        "      perm.append(i)\n",
        "      bt(perms, perm, nums)\n",
        "      perm.pop()\n",
        "  \n",
        "def GetAllPerms(nums):\n",
        "  perms = [] #store all possible permutations\n",
        "  perm = []\n",
        "  bt(perms, perm, nums)\n",
        "  return perms\n",
        "\n",
        "print(GetAllPerms([1,2,3]))"
      ],
      "execution_count": 0,
      "outputs": [
        {
          "output_type": "stream",
          "text": [
            "[[1, 2, 3], [1, 3, 2], [2, 1, 3], [2, 3, 1], [3, 1, 2], [3, 2, 1]]\n"
          ],
          "name": "stdout"
        }
      ]
    },
    {
      "cell_type": "code",
      "metadata": {
        "id": "GiBWs8_Ef1gF",
        "colab_type": "code",
        "outputId": "c21298a0-511c-4922-dc96-3eff26c24fdd",
        "colab": {
          "base_uri": "https://localhost:8080/",
          "height": 35
        }
      },
      "source": [
        "# M2 Divide and conquer\n",
        "# Assume we already solved n-1 elements\n",
        "\n",
        "def permute(nums):\n",
        "  res = [[]]\n",
        "  for num in nums:\n",
        "    res = [perm[:i] + [num] + perm[i:] for perm in res for i in range(len(perm)+1)]\n",
        "  return res\n",
        "\n",
        "print(permute([1,2,3]))"
      ],
      "execution_count": 0,
      "outputs": [
        {
          "output_type": "stream",
          "text": [
            "[[3, 2, 1], [2, 3, 1], [2, 1, 3], [3, 1, 2], [1, 3, 2], [1, 2, 3]]\n"
          ],
          "name": "stdout"
        }
      ]
    },
    {
      "cell_type": "markdown",
      "metadata": {
        "id": "D1VH_aWeiWPq",
        "colab_type": "text"
      },
      "source": [
        "**Q1.2 Permutations with duplicates**\n",
        "\n",
        "Given a collection of integers that might contain duplicates, return all possible permutations\n",
        "\n",
        "Input: [1,2,2]\n",
        "\n",
        "Output: [[1,2,2], [2,1,2], [2,2,1]]\n",
        "\n",
        "* Compatibility testing conditions are changed\n",
        " * note that [1, 2a, *] and [1, 2b, *] will be duplicated\n",
        " * at the same stage, we should not pick the same element more than once --> need to store all the decisions we make at the current stage --> set is preferred (O(1)) vs list (O(n))"
      ]
    },
    {
      "cell_type": "code",
      "metadata": {
        "id": "GhIn_KMHifKn",
        "colab_type": "code",
        "outputId": "1db57c0d-32c9-4349-b7ed-832add2463ad",
        "colab": {
          "base_uri": "https://localhost:8080/",
          "height": 358
        }
      },
      "source": [
        "def bt(perms, perm, nums):\n",
        "  if len(perm) == len(nums): \n",
        "    perms.append(perm[:])    \n",
        "    return\n",
        "  used = set\n",
        "  for i in nums:\n",
        "    if perm.count(num) < nums.count(num) and num not in used:\n",
        "      used.add(num)\n",
        "      perm.append(i)\n",
        "      bt(perms, perm, nums)\n",
        "      perm.pop()\n",
        "  \n",
        "def GetAllPerms(nums):\n",
        "  perms, perm = [],[]\n",
        "  bt(perms, perm, nums)\n",
        "  return perms\n",
        "\n",
        "print(GetAllPerms([1,2,3]))"
      ],
      "execution_count": 0,
      "outputs": [
        {
          "output_type": "error",
          "ename": "NameError",
          "evalue": "ignored",
          "traceback": [
            "\u001b[0;31m---------------------------------------------------------------------------\u001b[0m",
            "\u001b[0;31mNameError\u001b[0m                                 Traceback (most recent call last)",
            "\u001b[0;32m<ipython-input-1-20fdf72ad830>\u001b[0m in \u001b[0;36m<module>\u001b[0;34m()\u001b[0m\n\u001b[1;32m     16\u001b[0m   \u001b[0;32mreturn\u001b[0m \u001b[0mperms\u001b[0m\u001b[0;34m\u001b[0m\u001b[0;34m\u001b[0m\u001b[0m\n\u001b[1;32m     17\u001b[0m \u001b[0;34m\u001b[0m\u001b[0m\n\u001b[0;32m---> 18\u001b[0;31m \u001b[0mprint\u001b[0m\u001b[0;34m(\u001b[0m\u001b[0mGetAllPerms\u001b[0m\u001b[0;34m(\u001b[0m\u001b[0;34m[\u001b[0m\u001b[0;36m1\u001b[0m\u001b[0;34m,\u001b[0m\u001b[0;36m2\u001b[0m\u001b[0;34m,\u001b[0m\u001b[0;36m3\u001b[0m\u001b[0;34m]\u001b[0m\u001b[0;34m)\u001b[0m\u001b[0;34m)\u001b[0m\u001b[0;34m\u001b[0m\u001b[0;34m\u001b[0m\u001b[0m\n\u001b[0m",
            "\u001b[0;32m<ipython-input-1-20fdf72ad830>\u001b[0m in \u001b[0;36mGetAllPerms\u001b[0;34m(nums)\u001b[0m\n\u001b[1;32m     13\u001b[0m \u001b[0;32mdef\u001b[0m \u001b[0mGetAllPerms\u001b[0m\u001b[0;34m(\u001b[0m\u001b[0mnums\u001b[0m\u001b[0;34m)\u001b[0m\u001b[0;34m:\u001b[0m\u001b[0;34m\u001b[0m\u001b[0;34m\u001b[0m\u001b[0m\n\u001b[1;32m     14\u001b[0m   \u001b[0mperms\u001b[0m\u001b[0;34m,\u001b[0m \u001b[0mperm\u001b[0m \u001b[0;34m=\u001b[0m \u001b[0;34m[\u001b[0m\u001b[0;34m]\u001b[0m\u001b[0;34m,\u001b[0m\u001b[0;34m[\u001b[0m\u001b[0;34m]\u001b[0m\u001b[0;34m\u001b[0m\u001b[0;34m\u001b[0m\u001b[0m\n\u001b[0;32m---> 15\u001b[0;31m   \u001b[0mbt\u001b[0m\u001b[0;34m(\u001b[0m\u001b[0mperms\u001b[0m\u001b[0;34m,\u001b[0m \u001b[0mperm\u001b[0m\u001b[0;34m,\u001b[0m \u001b[0mnums\u001b[0m\u001b[0;34m)\u001b[0m\u001b[0;34m\u001b[0m\u001b[0;34m\u001b[0m\u001b[0m\n\u001b[0m\u001b[1;32m     16\u001b[0m   \u001b[0;32mreturn\u001b[0m \u001b[0mperms\u001b[0m\u001b[0;34m\u001b[0m\u001b[0;34m\u001b[0m\u001b[0m\n\u001b[1;32m     17\u001b[0m \u001b[0;34m\u001b[0m\u001b[0m\n",
            "\u001b[0;32m<ipython-input-1-20fdf72ad830>\u001b[0m in \u001b[0;36mbt\u001b[0;34m(perms, perm, nums)\u001b[0m\n\u001b[1;32m      5\u001b[0m   \u001b[0mused\u001b[0m \u001b[0;34m=\u001b[0m \u001b[0mset\u001b[0m\u001b[0;34m\u001b[0m\u001b[0;34m\u001b[0m\u001b[0m\n\u001b[1;32m      6\u001b[0m   \u001b[0;32mfor\u001b[0m \u001b[0mi\u001b[0m \u001b[0;32min\u001b[0m \u001b[0mnums\u001b[0m\u001b[0;34m:\u001b[0m\u001b[0;34m\u001b[0m\u001b[0;34m\u001b[0m\u001b[0m\n\u001b[0;32m----> 7\u001b[0;31m     \u001b[0;32mif\u001b[0m \u001b[0mperm\u001b[0m\u001b[0;34m.\u001b[0m\u001b[0mcount\u001b[0m\u001b[0;34m(\u001b[0m\u001b[0mnum\u001b[0m\u001b[0;34m)\u001b[0m \u001b[0;34m<\u001b[0m \u001b[0mnums\u001b[0m\u001b[0;34m.\u001b[0m\u001b[0mcount\u001b[0m\u001b[0;34m(\u001b[0m\u001b[0mnum\u001b[0m\u001b[0;34m)\u001b[0m \u001b[0;32mand\u001b[0m \u001b[0mnum\u001b[0m \u001b[0;32mnot\u001b[0m \u001b[0;32min\u001b[0m \u001b[0mused\u001b[0m\u001b[0;34m:\u001b[0m\u001b[0;34m\u001b[0m\u001b[0;34m\u001b[0m\u001b[0m\n\u001b[0m\u001b[1;32m      8\u001b[0m       \u001b[0mused\u001b[0m\u001b[0;34m.\u001b[0m\u001b[0madd\u001b[0m\u001b[0;34m(\u001b[0m\u001b[0mnum\u001b[0m\u001b[0;34m)\u001b[0m\u001b[0;34m\u001b[0m\u001b[0;34m\u001b[0m\u001b[0m\n\u001b[1;32m      9\u001b[0m       \u001b[0mperm\u001b[0m\u001b[0;34m.\u001b[0m\u001b[0mappend\u001b[0m\u001b[0;34m(\u001b[0m\u001b[0mi\u001b[0m\u001b[0;34m)\u001b[0m\u001b[0;34m\u001b[0m\u001b[0;34m\u001b[0m\u001b[0m\n",
            "\u001b[0;31mNameError\u001b[0m: name 'num' is not defined"
          ]
        }
      ]
    },
    {
      "cell_type": "markdown",
      "metadata": {
        "id": "ri0s09Lou2wK",
        "colab_type": "text"
      },
      "source": [
        "**Q1.3 All Permutations I - String**\n",
        "\n",
        "Given a string with no duplicate characters, return a list with all permutations of the characters.\n",
        "\n",
        "Assume that input string is not null."
      ]
    },
    {
      "cell_type": "code",
      "metadata": {
        "id": "aXaM3s0qu719",
        "colab_type": "code",
        "colab": {}
      },
      "source": [
        "class Solution(object):\n",
        "  def permutations(self, input):\n",
        "    \"\"\"\n",
        "    input: string input\n",
        "    return: string[]\n",
        "    \"\"\"\n",
        "    # write your solution here\n",
        "    perms, perm = [], \"\"\n",
        "    self.bt(perms, perm, input)\n",
        "    return perms\n",
        "    \n",
        "  def bt(self, perms, perm, input):\n",
        "    if len(perm) == len(input):\n",
        "      perms.append(perm)\n",
        "      return\n",
        "    for i in range(len(input)):      \n",
        "      if perm.find(input[i]) == -1:\n",
        "        perm += input[i]\n",
        "        self.bt(perms, perm, input)\n",
        "        perm = perm[:len(perm)-1]"
      ],
      "execution_count": 0,
      "outputs": []
    },
    {
      "cell_type": "markdown",
      "metadata": {
        "id": "yICM0BYUW-6r",
        "colab_type": "text"
      },
      "source": [
        "**Q2 Generate all subsets**\n",
        "\n",
        "[*,*,*]\n",
        "\n",
        "Stage 1: only two possible choices: choose 1 or do not choose 1\n",
        "\n",
        "Stage 2: only two possible choices: choose 2 or do not choose 2\n",
        "\n",
        "All possible ways = 2 * 2 * 2 = 8\\\n",
        "\n",
        "\n",
        "```\n",
        "input: nums = [1,2,3]\n",
        "output:  \n",
        "[\n",
        "  [3],\n",
        "  [1],\n",
        "  [2],\n",
        "  [1,2,3],\n",
        "  [1,3],\n",
        "  [2,3],\n",
        "  [1,2],\n",
        "  []\n",
        "]\n",
        "```\n",
        "\n",
        "\n",
        "Key observations\n",
        "1. We can build a valid subset incrementally\n",
        "2. At a certain position, we are not forced to always choose an item.\n",
        "3. When consider a candidate, only consider the ones haven't been considered before"
      ]
    },
    {
      "cell_type": "code",
      "metadata": {
        "id": "V4GF8XCRW4_R",
        "colab_type": "code",
        "colab": {}
      },
      "source": [
        "# M1 Backtracking\n",
        "def subsets(self, nums):\n",
        "    answers, subset = [], []\n",
        "    bt(answers, subset, 0, nums)\n",
        "    return answers\n",
        "\n",
        "def bt(answer, subset, current_position, nums):\n",
        "  if current_position == len(nums):\n",
        "    answers.append(subset[:])\n",
        "    return\n",
        "  # case 1: do not choose current number\n",
        "  bt(answers, subset, current_position + 1, nums)\n",
        "  # case 2: choose current number\n",
        "  subset.append(nums[current_position])\n",
        "  bt(answers, subset, current_position + 1, nums)\n",
        "  subset.pop()\n",
        "  return\n",
        "  \n",
        "# time: O(2^n)"
      ],
      "execution_count": 0,
      "outputs": []
    },
    {
      "cell_type": "code",
      "metadata": {
        "id": "OLw66ulTi5ri",
        "colab_type": "code",
        "outputId": "94b76934-5a99-4622-8de9-36e32d05e2fe",
        "colab": {
          "base_uri": "https://localhost:8080/",
          "height": 162
        }
      },
      "source": [
        "# M2 Divide and Conquer\n",
        "# The previous result contains all subsets that do not contain 3.\n",
        "\n",
        "def subsets(nums):\n",
        "  if not nums:\n",
        "    return [[]]\n",
        "  r = subsets(nums[:-1]) #subsets that do not contain the last element\n",
        "  return r + [s + [nums[-1]]for s in r]\n",
        "\n",
        "def subsets(nums):\n",
        "  res = [[]]\n",
        "  for num in nums:\n",
        "    for i in range(len(res)):\n",
        "      print(\"append\", res[i]+[num])\n",
        "      res.append(res[i]+[num])\n",
        "  return res\n",
        "\n",
        "subsets([1,2,3])"
      ],
      "execution_count": 0,
      "outputs": [
        {
          "output_type": "stream",
          "text": [
            "append [1]\n",
            "append [2]\n",
            "append [1, 2]\n",
            "append [3]\n",
            "append [1, 3]\n",
            "append [2, 3]\n",
            "append [1, 2, 3]\n"
          ],
          "name": "stdout"
        },
        {
          "output_type": "execute_result",
          "data": {
            "text/plain": [
              "[[], [1], [2], [1, 2], [3], [1, 3], [2, 3], [1, 2, 3]]"
            ]
          },
          "metadata": {
            "tags": []
          },
          "execution_count": 18
        }
      ]
    },
    {
      "cell_type": "markdown",
      "metadata": {
        "id": "X1YHXO1am0OO",
        "colab_type": "text"
      },
      "source": [
        "**Q2.2 Subsets with duplicates**\n",
        "\n",
        "Given a collection of integers that might contain duplicates, nums, return all possible subsets (the power set)\n",
        "\n",
        "```\n",
        "input: [1,2,2]\n",
        "output: [[2], [1], [1,2,2], [2,2], [1,2], [1]]\n",
        "```\n",
        "\n",
        "* Similar to the combination problem, we can try to enforce an order to eliminate the duplicate situation\n",
        "* sort first so that all same elements are together\n",
        "* if for a given element at the current position we choose not to include, then all the same elements will also be excluded; [2,2] cannot resolve in [N, Y] --> the idea is choose 2 0 times, 1 time, 2 times...\n"
      ]
    },
    {
      "cell_type": "code",
      "metadata": {
        "id": "Cn697wN5nIWE",
        "colab_type": "code",
        "colab": {}
      },
      "source": [
        "def bt(answer, subset, C, N, nums):\n",
        "  if C == N:\n",
        "    answers.append(subset[:])\n",
        "    return\n",
        "  #case 1: choose current number\n",
        "  subset.append(nums[C])\n",
        "  bt(answers, subset, C+1, N, nums)\n",
        "  subset.pop()\n",
        "  #case 2: do not choose current number\n",
        "  i = C + 1\n",
        "  while i < len(nums) and nums[C] == nums[i]:\n",
        "    i += 1\n",
        "  bt(answers, subset, i, N, nums)\n",
        "  return\n",
        "  \n",
        "class Solution(object):\n",
        "  def subsets(self, nums):\n",
        "    nums.sort()  #sort to facilitate\n",
        "    answers = []\n",
        "    bt(answers, [], 0, len(nums), nums)\n",
        "    return anwers"
      ],
      "execution_count": 0,
      "outputs": []
    },
    {
      "cell_type": "markdown",
      "metadata": {
        "id": "mH7NfCsrW-B4",
        "colab_type": "text"
      },
      "source": [
        "**Q3 Generate all valid parentheses**\n",
        "\n",
        "Given n pairs of parentheses, write a function to generate all combinations of well-formed parentheses.\n",
        "\n",
        "For example, n = 3:\n",
        "[ \"((()))\", \"(()())\". \"(())()\", \"()(())\", \"()()()\"]\n",
        "\n",
        "Recursion:\n",
        "1. Multi-stage problem: 6 decisions\n",
        "2. Decisions at each stage: two possible choices \"(\", \")\"\n",
        "3. For any position, is all these two choices ok? Compatibility test\n",
        " a. if # ( = # ) --> cannot put )\n",
        " b. if # ( = n --> cannot put (\n",
        "\n",
        "[*,*,*,*,*,*]"
      ]
    },
    {
      "cell_type": "code",
      "metadata": {
        "id": "TzNo_n96bME5",
        "colab_type": "code",
        "colab": {}
      },
      "source": [
        "def bt(answers, sequence, l, r):\n",
        "  # l, r = number of remaining left, right parenthesis\n",
        "  if r == 0:\n",
        "    answers.append(''.join(sequence))\n",
        "    return\n",
        "  if l > 0:\n",
        "    sequence.append('(')\n",
        "    bt(answers, sequence, l - 1, r)\n",
        "    sequence.pop()\n",
        "  if l < r:       # note it is not else if\n",
        "    sequence.append(')')\n",
        "    bt(answers, sequence, l, r - 1)\n",
        "    sequence.pop()\n",
        "  return\n",
        "\n",
        "class Solution(object):\n",
        "  def generateParenthesis(self, n):\n",
        "    answers, sequence = [], []\n",
        "    bt(answers, sequence, n, n)\n",
        "    return answers\n",
        "\n",
        "# time: O(2^2n)"
      ],
      "execution_count": 0,
      "outputs": []
    },
    {
      "cell_type": "code",
      "metadata": {
        "id": "s9-1OXCNsH8T",
        "colab_type": "code",
        "colab": {}
      },
      "source": [
        "# Backtracking style 2\n",
        "def bt(seqs, seq, n):\n",
        "  if len(seq) == 2 * n:\n",
        "    seqs.append(seq[:])\n",
        "    return\n",
        "  if seq.count('(') < n:\n",
        "    seq.append('(')\n",
        "    bt(seqs, seq, n)\n",
        "    seq.pop()\n",
        "  if HasMachingLeft(seq):\n",
        "    seq.append(')')\n",
        "    bt(seqs, seq, n)\n",
        "    seq.pop()\n",
        "\n",
        "def HasMatchingLeft(seq):\n",
        "  s = []\n",
        "  for c in seq:\n",
        "    if c == '(':\n",
        "      s.append(c)\n",
        "    else:\n",
        "      s.pop()\n",
        "  return len(s) > 0"
      ],
      "execution_count": 0,
      "outputs": []
    },
    {
      "cell_type": "code",
      "metadata": {
        "id": "24K9I-Egk2YQ",
        "colab_type": "code",
        "colab": {}
      },
      "source": [
        "# M2 Divide and conquer\n",
        "# Assume S, A, B are valid parenthesis sequence, then\n",
        "# 1. (S) is a valid sequence\n",
        "# 2. A + B is a valid sequence\n",
        "\n",
        "def impl(n):\n",
        "  if n == 0:\n",
        "    return set([''])\n",
        "  return set(['(' + s + ')' for s in impl(n-1)]) | set([s1+s2 for k in range(1,n) for s1 in impl(k) for s2 in impl(n-k)])\n",
        "\n",
        "class Solution(object):\n",
        "  def generateParenthesis(self, n):\n",
        "    return list(impl(n))"
      ],
      "execution_count": 0,
      "outputs": []
    },
    {
      "cell_type": "markdown",
      "metadata": {
        "id": "g4CVuiy0cVS7",
        "colab_type": "text"
      },
      "source": [
        "**Q4 N Queens problem**\n",
        "\n",
        "Need to place n queens on an nxn chessboard such that no two queens attach each other\n",
        "\n",
        "Example: input 4\n",
        "\n",
        "Output: 2 solutions\n",
        "\n",
        "[\".Q..\", \"...Q\", \"Q...\", \"..Q.\"]\n",
        "[\"..Q.\", \"Q...\", \"...Q\", \".Q..\"]\n",
        "\n",
        "\n",
        "M1 \n",
        "* 16 stages\n",
        "* each stage decision: put or not\n",
        "\n",
        "M2\n",
        "* 4 stages (each stage one row)\n",
        "* each stage decision: \n",
        "\n",
        "Observations\n",
        "1. All queens will be on different rows\n",
        "2. We could find result by putting queens row by row \n",
        "3. Assume we have put queens to previous k rows and the ith queen on ith row is put in c col, when we consider k + 1 row, we need to make sure the queen we put will not be on the same column and diagonals as the previous ones\n",
        "4. For diagonal testing, |cj-ci| != j - 1\n",
        "5. For column testing ci != cj  \n"
      ]
    },
    {
      "cell_type": "code",
      "metadata": {
        "id": "M13cTEDPfNSC",
        "colab_type": "code",
        "colab": {}
      },
      "source": [
        "def is_compatible(previous_columns, current_column, current_row):\n",
        "  for previous_row in range(current_row):\n",
        "    if previous_columns[previous_row] == current_column or current_row - previous_row == abs(previous_columns[previous_row] - current_column):\n",
        "      return False\n",
        "    return True\n",
        "\n",
        "def bt(answers, positions, row, n):\n",
        "  # positions: a list such that positions[i] means the column we will place the chass at ith row\n",
        "  # row: an intger indicate the current row\n",
        "  # n: total number of rows\n",
        "  if row == n:\n",
        "    answers.apend(['.' * p + 'Q' + '.' * (n-1-p) for p in positions])\n",
        "    return\n",
        "  for column in range(n):\n",
        "    if is_compatible(positions, column, row):\n",
        "      positions.append(column)\n",
        "      bt(answers, positions, row + 1, n)\n",
        "      positions.pop()\n",
        "  return\n",
        "\n",
        "class Solution(object):\n",
        "  def solveNQueens(self, n):\n",
        "    answers, positions = [], []\n",
        "    bt(answers, positions, 0, n)\n",
        "    return answers"
      ],
      "execution_count": 0,
      "outputs": []
    },
    {
      "cell_type": "markdown",
      "metadata": {
        "id": "OhaR6McxdteU",
        "colab_type": "text"
      },
      "source": [
        "**Q5 Combinations**\n",
        "\n",
        "Given two integers n and k, return all possible combinations of k numbers out of 1 ... n\n",
        "\n",
        "```\n",
        "Input: n = 4, k = 2\n",
        "\n",
        "Output: [[2,4], [3,4], [2,3], [1,2],[1,3],[1,3]]\n",
        "```\n"
      ]
    },
    {
      "cell_type": "code",
      "metadata": {
        "id": "UcAnTcR0d8n0",
        "colab_type": "code",
        "colab": {}
      },
      "source": [
        "'''\n",
        "M1\n",
        "* Multistage decision problem. We have k stages\n",
        "* What will be the possible candidates for a certain stage? (1,4]\n",
        "\n",
        "Problem: [1,2] is same as [2,1]\n",
        "Solution: enforce a certain generation order when you build the result\n",
        "We only pick numbers that is larger than the number we picked from the previous stage\n",
        "'''\n",
        "\n",
        "def bt(combs, comb, index, n, k, lower_bound):  # use lower bound\n",
        "  if k == 0:\n",
        "    combs.append(comb[:])\n",
        "    return\n",
        "  for num in range(lower_bound, n + 1):\n",
        "    comb.append(num)\n",
        "    bt(combs, comb, index + 1, n, k - 1, num + 1) # index + 1 is the next node\n",
        "    comb.pop()\n",
        "  \n",
        "def gen_combs(n, k):\n",
        "  combs, comb = [], []\n",
        "  index = 0\n",
        "  bt(combs, comb, 0, n, k)\n",
        "  return combs\n"
      ],
      "execution_count": 0,
      "outputs": []
    },
    {
      "cell_type": "code",
      "metadata": {
        "id": "2sgslqWc6-hg",
        "colab_type": "code",
        "colab": {}
      },
      "source": [
        "'''\n",
        "M2 \n",
        "* Multistage decision problem. We have n stages\n",
        "* What will be the possible candidates for a certain stage? [*, *] The numbers not chosen before. The range of the stage K + 1 will start from the number we pick at stage K+1 -> avoids duplicates such as [1,2] and [2,1]\n",
        " * stage1: pick a number from 1~4 pick 1\n",
        " * stage2: pick a number from 2~4\n",
        "* Compatibility test? We don't need \n",
        "'''"
      ],
      "execution_count": 0,
      "outputs": []
    },
    {
      "cell_type": "markdown",
      "metadata": {
        "id": "Rk3RVGZysPzJ",
        "colab_type": "text"
      },
      "source": [
        "**Q6 Combinations of Coins**\n",
        "\n",
        "Given a number of different coins (1 cent, 5 cents, 25 cents), get the possible ways to pay a target number of cents. {0,1,2,3,4} correspond to {25, 10, 5, 2,1}\n",
        "\n",
        "\n",
        "```\n",
        "input: coins = {2,1}, target = 4\n",
        "output: \n",
        "[0,4] (4 cents = 0*2 cents + 4*1 cent)\n",
        "[1,2] (4 cents = 1*2 cents + 2*1 cents)\n",
        "[2,0] (4 cents = 2*2 cents + 0*1 cent)\n",
        "```\n"
      ]
    },
    {
      "cell_type": "code",
      "metadata": {
        "id": "M7hsWDdwt0k1",
        "colab_type": "code",
        "colab": {}
      },
      "source": [
        "'''\n",
        "Picture a recursion tree of n levels, corresponding to n types of coins\n",
        "Each level, decide how many coins we need\n",
        "'''\n",
        "def bt(coin_combs, coin_comb, target, coins):\n",
        "  if len(coin_comb) == len(coins): # already reach the bottom\n",
        "    if target == 0: # already enough money\n",
        "      coin_combs.append(coin_comb[:])\n",
        "    return\n",
        "  # try a coin with 0 or more times\n",
        "  for times in range(target // coins[len(coin_comb)] + 1):\n",
        "    coin_comb.append(times)\n",
        "    bt(coint_combs, coin_comb, target - coins[len(coin_comb)] * times, coins)\n",
        "    coin_comb.pop()\n",
        "\n",
        "def gen_all_coin_combs(coins, target):\n",
        "  coin_combs, coin_comb = [], []\n",
        "  bt(coin_combs, coin_comb, target, coins)\n",
        "  return coin_combs"
      ],
      "execution_count": 0,
      "outputs": []
    },
    {
      "cell_type": "markdown",
      "metadata": {
        "id": "j0O_7F0AvnEZ",
        "colab_type": "text"
      },
      "source": [
        "**Q7 Factor Combinations**\n",
        "\n",
        "Given a number, generate all combinations of its factors\n",
        "* may assume n is always positive\n",
        "* factors should be greater than 1 and less than n\n",
        "\n",
        "```\n",
        "input: 37\n",
        "output: []\n",
        "\n",
        "input: 12\n",
        "output: [[2,6], [2,2,3],[3,4]]\n",
        "```\n",
        "\n",
        "* Multistage problem\n",
        " * Stage 1: find the first factor f (n%f==0), range [2, n]. Though, for n = f*b, f is always < sqrt(n)\n",
        " * Stage 2: find the second factor f2, range[]\n",
        "* Similar to coinds combination\n",
        "* We need to avoid the generation of a single combination multiple times. For example, [2,2,3] and [2,3,2] are the same. We can achieve this by forcing the way we choose the factor -> the factor for the current stage should be >= the factor we choose for the last stage\n",
        "\n"
      ]
    },
    {
      "cell_type": "code",
      "metadata": {
        "id": "Qv1THjGcv4yX",
        "colab_type": "code",
        "colab": {}
      },
      "source": [
        "'''\n",
        "for factor in range(2, n):\n",
        "  if n & factor == 0:\n",
        "    for factor2 in range(factor1, ):\n",
        "      if (n / factor) \n",
        "'''\n",
        "\n",
        "# S1 (slow, 21 cases for 2s)\n",
        "def bt(answers, comb, n):\n",
        "  if n == 1 and len(comb) > 1:  # generate all possible factor combs for n\n",
        "    answers.append(comb[:])\n",
        "    return\n",
        "  for f in range(2 if not comb else comb[-1], n+1):\n",
        "    if n%f == 0:\n",
        "      comb.append(f)\n",
        "      bt(answers, comb, n/f)\n",
        "      comb.pop()"
      ],
      "execution_count": 0,
      "outputs": []
    },
    {
      "cell_type": "code",
      "metadata": {
        "id": "bI8Cjku4JUVZ",
        "colab_type": "code",
        "colab": {}
      },
      "source": [
        "#S2.1 improved （21ms for 21 cases)\n",
        "'''\n",
        "T = f1 * f2, assuming f1 <= f2\n",
        "then f1 <= sqrt(T)\n",
        "'''\n",
        "\n",
        "import math\n",
        "def bt(answers, comb, n):\n",
        "  if len(comb) > 0:  # every stage is a valid solution, doesnt have to reach the bottom\n",
        "    answers.append(comb + [n])  # no return because want to continue factoring\n",
        "  for f in range(2 if not comb else comb[-1], int(math.sqrt(n)) + 1):\n",
        "    if n % f == 0:\n",
        "      comb.append(f)\n",
        "      bt(answers, comb, n/f)\n",
        "      comb.pop()\n",
        "      "
      ],
      "execution_count": 0,
      "outputs": []
    },
    {
      "cell_type": "code",
      "metadata": {
        "id": "pEpmfej3Na_N",
        "colab_type": "code",
        "colab": {}
      },
      "source": [
        "# S2.2 Simplified\n",
        "def bt(answers, comb, s, n):\n",
        "  while s * s <= n:\n",
        "    if n % s == 0:\n",
        "      answers.append(comb + [s, n / s]) #union\n",
        "      bt(answers, comb + [s], s, n / s)\n",
        "    s += 1\n",
        "      \n",
        "class Solution(object):\n",
        "  def getFactors(self, n):\n",
        "    answers = []\n",
        "    bt(answers, [], n)\n",
        "    return answers"
      ],
      "execution_count": 0,
      "outputs": []
    },
    {
      "cell_type": "markdown",
      "metadata": {
        "id": "vp89_KDOUfmd",
        "colab_type": "text"
      },
      "source": [
        "###DFS Depth First Search"
      ]
    },
    {
      "cell_type": "markdown",
      "metadata": {
        "id": "c4yvaX1uXjCZ",
        "colab_type": "text"
      },
      "source": [
        "**DFS**\n",
        "\n",
        "Concept - maze\n",
        "* Start with one direction, remember all decisions along the way, until you hit a dead end, go back to the last junction then make a new decision to try a different route 不撞南墙不回头\n",
        "* Recursively explore the graph, backtracking as necessary\n",
        "\n",
        "DFS is great for edge classifications\n",
        "* Tree edge = normal edge during DFS process. The whole DFS will give you a DFS spanning tree of the input graph; connects all vertices of the graph\n",
        "* Forward edge = edge will point from a node to its descendant in the DFS spanning tree 后代到祖先\n",
        "* Backward edge = edge that will point from a node to its ancestor in the DFS spanning tree 祖先到后代\n",
        "* Cross edge = between tow nodes that reside in two non-ancestor related subtrees\n",
        "\n",
        "Does a graph have cycle?\n",
        "* If there is backward edge, yes\n",
        "* If there is directed\n"
      ]
    },
    {
      "cell_type": "code",
      "metadata": {
        "id": "6eQJUSwFur0P",
        "colab_type": "code",
        "colab": {}
      },
      "source": [
        "#pseudo code\n",
        "\n",
        "#从一个节点能走到的所有的点\n",
        "#recursively visit every reachable vertex from s that are still not being visited\n",
        "DFS(graph, visited, s):\n",
        "  for u in graph.neighbors(s):\n",
        "    if u not in visited:\n",
        "      visited.add(u)\n",
        "      dfs(graph, visited, u)\n",
        "\n",
        "#尝试从不同点出发，graph may not be all connected\n",
        "DFS_All(graph):\n",
        "  visited = set() 所有dfs分享visited\n",
        "  for v in graph:\n",
        "    if v not in visited:\n",
        "      visited.add(v)\n",
        "      dfs(graph, visited, v)\n",
        "  \n",
        "# Time: O(V+E)\n",
        "#  looking at each neighbor is equivalent to each edge\n",
        "# Space: O(V+E) for adjacency list; note this is a lower bound\n",
        "#  first, using adjacency list to represent a graph, the representation takes V+E spaces\n"
      ],
      "execution_count": 0,
      "outputs": []
    },
    {
      "cell_type": "markdown",
      "metadata": {
        "id": "_zBSYTjU5WCR",
        "colab_type": "text"
      },
      "source": [
        "**Q1 Graph Valid Tree?**\n",
        "\n",
        "Given n nodes labeled from 0 to n-1 and a list of undirected edges (each edge is a pair of nodes), write a function to check whether these edges make up a valid tree\n",
        "\n",
        "input: n=5, edges = [[0,1],[0,2],[0,3],[1,4]]\n",
        "\n",
        "output: true\n",
        "\n",
        "input: n=5, edges = [[0,1], [1,2], [2,3], [1,3],[1,4]]\n",
        "\n",
        "output: false\n",
        "\n",
        "\n",
        "Note: you can assume that noduplicate edges will appear in edges. All edges are undirected\n",
        "\n",
        "A graph is a tree iff\n",
        "* no cycle\n",
        "* connected\n",
        "\n",
        "For undirected graph, what type of edge could you have\n",
        "* tree edge\n",
        "* backward edge"
      ]
    },
    {
      "cell_type": "code",
      "metadata": {
        "id": "JerEGFcrue8N",
        "colab_type": "code",
        "colab": {}
      },
      "source": [
        "'''\n",
        "Graph is a map -> dictionary (given a node, needs to know what other nodes are edged)\n",
        "For a vertex, need to be able to iterate through all its neighbors\n",
        "  \n",
        "#Start from vertex 0, do DFS.\n",
        "   (1) if found backward edge, then not a tree\n",
        "       backward edge occurs when node is (a) visited and (b) it is not the parent\n",
        "   (2) otherwise, check whether all the nodes have been visited\n",
        " \n",
        "#Pseudo code\n",
        "from collections import defaultdict\n",
        "graph = defaultdict(list)   #if a key does not exist, default to a \n",
        "for edge in edges:  #for undirected graph, A is B is neighbor, B is A's as well\n",
        "  graph[edge[0]].append(edge[1])\n",
        "  graph[edge[1]].append(edge[0])\n",
        "'''\n",
        "\n",
        "#Template to build an undirectde graph\n",
        "DFS(graph, visited, parent, s):\n",
        "  for u in graph.neighbors(s):\n",
        "    #recursively visited every reachable vertex. True if backward edge is found\n",
        "    if u not in visited:\n",
        "      visited.add(u)\n",
        "      if dfs(graph, visited, u):\n",
        "        return True\n",
        "    elif u != parent:\n",
        "      return True\n",
        "  return False\n",
        "\n",
        "\n",
        "#Solution - undirected graph\n",
        "from collections import defaultdict\n",
        "\n",
        "def has_cycle(graph, visited, parent, u): #v being a neighbor of u\n",
        "  visited.add(u)\n",
        "  for v in graph[u]:\n",
        "    if v != parent:\n",
        "      if v in visited or has_cycle(graph, visited, u, v):\n",
        "        return True\n",
        "  return False\n",
        "  \n",
        "class Solution(object):\n",
        "  def validTree(self, n, edges):\n",
        "    \"\"\"\n",
        "    :type n: int\n",
        "    :type edges: List[List[int]]\n",
        "    :rtype: bool\n",
        "    \"\"\"\n",
        "    visited = set()\n",
        "    graph = defaultdict(list)\n",
        "    for edge in edges:\n",
        "      graph[edge[0]].append(edge[1])\n",
        "      graph[edge[1]].append(edge[0])\n",
        "    return not has_cycle(Graph, visited, -1, 0) and len(visited) == n #all nodes are connected \n",
        "  "
      ],
      "execution_count": 0,
      "outputs": []
    },
    {
      "cell_type": "markdown",
      "metadata": {
        "id": "R6t0speyKbqj",
        "colab_type": "text"
      },
      "source": [
        "**Q2 Does a directed graph have cycle?**\n",
        "\n",
        "\n",
        "For directed graph, what type of edge could you have\n",
        "* tree edge\n",
        "* backward edge\n",
        "* forward edge\n",
        "* cross edge\n",
        "\n"
      ]
    },
    {
      "cell_type": "code",
      "metadata": {
        "id": "IX4DjW8LKdrR",
        "colab_type": "code",
        "colab": {}
      },
      "source": [
        "'''\n",
        "Since directed graph can have cross or forward edge, just using visited criteria\n",
        "cannot determine if it is a backward edge\n",
        "\n",
        "3 states for a node;\n",
        "- not visited\n",
        "- visiting (not all its neighbors are visited)\n",
        "- visited\n",
        "\n",
        "(1) Backward edge - u -> v is backward edge iff v is in a visiting state\n",
        "    In other words, v still have edges not visited and may go back to u\n",
        "    \n",
        "Using dictionary\n",
        "\n",
        "'''\n",
        "\n",
        "#Solution - directed graph\n",
        "from collections import defaultdict\n",
        "\n",
        "def dfs(graph, visit_status, u): \n",
        "  # 0 represents we are currently still visiting a node\n",
        "  # 1 represents we are done with a node\n",
        "  visit_status[u] = 0\n",
        "  for v in graph[u]:               \n",
        "    if v not in visit_status:  #if not visited, recursion\n",
        "      if dfs(graph, visit_status, v):\n",
        "        return True\n",
        "    elif visit_status[v] == 0: #if visiting, cycle\n",
        "      return True\n",
        "  visit_status[u] = 1 #mark visited before exit\n",
        "  return False\n",
        "\n",
        "def has_cycle(graph):\n",
        "  visit_status = {}\n",
        "  for v in graph:\n",
        "    if v not in visit_status and dfs(graph, visit_status, v):\n",
        "      return True\n",
        "  return False\n",
        "  "
      ],
      "execution_count": 0,
      "outputs": []
    },
    {
      "cell_type": "markdown",
      "metadata": {
        "id": "FPwxWjcIRNFV",
        "colab_type": "text"
      },
      "source": [
        "**Q3 Is Graph Bipartite?**\n",
        "\n",
        "Given an undirected graph, return true if and only if it is bipartite\n",
        "\n",
        "Recall that a grpah is bipartite if we can split it's set of nodes into two independent subsets A and B such that every edge in the graph has one node in A and another node in B\n",
        "\n",
        "Bipartite conditions\n",
        "* has a cycle\n",
        "* the cycle's length is not an odd number"
      ]
    },
    {
      "cell_type": "code",
      "metadata": {
        "id": "Ydqe0WEARsgS",
        "colab_type": "code",
        "colab": {}
      },
      "source": [
        "'''\n",
        "input: [[1,2,3], [0,2], [0,1,3], [0,2]]\n",
        "output: false\n",
        "0--1\n",
        "|\\ |\n",
        "| \\}\n",
        "3--2\n",
        "\n",
        "output: true\n",
        "0--1\n",
        "|  |\n",
        "|  }\n",
        "3--2\n",
        "\n",
        "3 states for a node:\n",
        "- 用色看环边的奇偶性\n",
        "'''\n",
        "\n",
        "def can_color(graph, colors, u, color):\n",
        "  color[u] = color\n",
        "  for v in graph[u]:\n",
        "    #u染成color, 所有从u出发的节点染成-color\n",
        "    if color[v] == color or (not colors[v] and not can_color(Graph, colors, v, -color)):\n",
        "      return False\n",
        "  return True  \n",
        "  \n",
        "class Solution(object):\n",
        "  def isBipartite(self, graph):\n",
        "    \"\"\"\n",
        "    :type graph: List[List[int]]\n",
        "    :rtype: bool\n",
        "    \"\"\"\n",
        "    colors = [0]*len(graph)\n",
        "    for v in range(len(graph)):\n",
        "      if not colors[v] and not can_color(graph, colors, v, 1):\n",
        "        return False\n",
        "    return True"
      ],
      "execution_count": 0,
      "outputs": []
    },
    {
      "cell_type": "markdown",
      "metadata": {
        "id": "UDHKOpvMwmCb",
        "colab_type": "text"
      },
      "source": [
        "**Topological Sort**\n",
        "\n",
        "Topological ordering of a DAG = a linear ordering of its vertices such that for every directed edge {u, v}, u comes before v in the ordering. This can be used to simulate dependency graph\n",
        "\n",
        "Example:\n",
        "* each vertex represents a task\n",
        "* each edge represents a dependency between twotasks, if there is an edge from A to B, then B can only be executed after finishing A\n",
        "* Topolofical ordering: 3->5->7->8->1...\n",
        "\n",
        "How\n",
        "* Leveraging property of DFS\n",
        "* Append each DFS to the final result list before return \n",
        "* After visiting every node, reverse that list and it will be the correct answer. Why? the last one will be the one done latest, which have dependency on other nodes, so we want to start with the earliest, which do not have dependency on the later ones\n",
        "* Note that there might be many solutions. As long as the dependency order is statisfied, the solution is correct\n",
        " * if we visit u before v, for sure we will visit v before u finishes\n",
        " * if we visit v before u, then we will finish v before even visiting u since graph is acryclic\n",
        "\n"
      ]
    },
    {
      "cell_type": "markdown",
      "metadata": {
        "id": "NoaDjbx54Xfq",
        "colab_type": "text"
      },
      "source": [
        "**Q4 Course Schedule II**\n",
        "\n",
        "There are a total of n courses you have to take, labeled 0 to n-1.\n",
        "\n",
        "Some courses may have prerequisites. Given [0, 1], you have to take course 1 before taking course 0.\n",
        "\n",
        "Given the total number of courses and a list of prerequisite pairs, return the ordering of courses you should take.\n",
        "\n",
        "How\n",
        "* Topolofical ordering\n",
        "* Need to check if it is impossible to finish all courses\n",
        "\n",
        "Input: 2, [[1, 0]]\n",
        "\n",
        "Output: [0, 1]\n",
        "\n",
        "Input: 4, [[1,0], [2,0], [3,1],[3,2]]\n",
        "\n",
        "Output: [0,1,2,3] or [0,2,1,3]\n",
        "\n",
        "\n",
        "\n"
      ]
    },
    {
      "cell_type": "code",
      "metadata": {
        "id": "2b-6LpTl16Yb",
        "colab_type": "code",
        "colab": {}
      },
      "source": [
        "'''\n",
        "Note that [1,0] results in 1 -> 0, which we do not need to reverse the result\n",
        "We can directly use this ordering and not reverse at the end.\n",
        "\n",
        "'''\n",
        "from collections import defaultdict\n",
        "\n",
        "class Solution(object):\n",
        "  def findOrder(self, numCourses, prerequisites):\n",
        "    \"\"\"\n",
        "    :type numCourses. int\n",
        "    :type prerequisites: List[List[int]]\n",
        "    :rtype: List[int]\n",
        "    \"\"\"\n",
        "    graph = defaultdict(list)\n",
        "    for p in prerequisites:\n",
        "      graph[p[0]].append(p[1])\n",
        "    courses = [] #final result\n",
        "    visited = [-1]*numCourses\n",
        "\n",
        "    def dfs(u):\n",
        "      visited[u] = 0\n",
        "      for v in graph[u]:\n",
        "        if visited[v] == 0 or (visited[v] == -1 and not dfs(v)):\n",
        "          return False\n",
        "      visited[u] = 1\n",
        "      courses.append(u)\n",
        "      return True\n",
        "    for u in range(numCourses):\n",
        "      if visited[u] == -1 and not dfs(u):\n",
        "        return []\n",
        "    return courses"
      ],
      "execution_count": 0,
      "outputs": []
    },
    {
      "cell_type": "markdown",
      "metadata": {
        "id": "ReIIQCc36uxG",
        "colab_type": "text"
      },
      "source": [
        "**Graph Summary**"
      ]
    },
    {
      "cell_type": "code",
      "metadata": {
        "id": "ZZbdFRnl6w5v",
        "colab_type": "code",
        "colab": {}
      },
      "source": [
        "'''\n",
        "MetaGraphSearchAlgorithm(graph, s):\n",
        "  #systematically explore all vertices that are reachable from s\n",
        "  put s in bag as well as mark s accordingly\n",
        "  while bag is not empty:\n",
        "    extract a node from the bag\n",
        "    for neighbor in graph.neighbors(node):\n",
        "      if neighbor is not marked:\n",
        "        put neighbor in bag and mark neighbor\n",
        "     \n",
        "Bag implemented as queue --> BFS\n",
        "Bag implemented as stack --> DFS\n",
        "Bag implemented as a priority queue --> best first search\n",
        "'''"
      ],
      "execution_count": 0,
      "outputs": []
    }
  ]
}